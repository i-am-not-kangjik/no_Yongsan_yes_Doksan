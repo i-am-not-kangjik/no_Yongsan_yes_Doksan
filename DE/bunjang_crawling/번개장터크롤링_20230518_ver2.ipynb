{
 "cells": [
  {
   "cell_type": "code",
   "execution_count": 1,
   "metadata": {},
   "outputs": [],
   "source": [
    "import requests\n",
    "import pandas as pd\n",
    "\n",
    "def get_product_detail(pid):\n",
    "    url = 'https://api.bunjang.co.kr/api/pms/v1/products-detail/{}?viewerUid=-1'.format(pid)\n",
    "    response = requests.get(url) #url 요청 보내고 응답 받아옴\n",
    "    data = response.json().get('data', {}).get('product', {})\n",
    "    return {\n",
    "            'pid': data.get('pid', ''),\n",
    "            'name': data.get('name', ''),\n",
    "            'description': data.get('description', ''),\n",
    "            'price': data.get('price', ''),\n",
    "            'qty': data.get('qty', ''),\n",
    "            'saleStatus': data.get('saleStatus', ''),\n",
    "            'status': data.get('status', ''),\n",
    "            'imageUrl': data.get('imageUrl', ''),\n",
    "            'keywords' : data.get('keywords',''),\n",
    "            'address' : data.get('geo', {}).get('address', ''),\n",
    "            'label' : data.get('geo', {}).get('label', '')\n",
    "        }\n",
    "\n",
    "def bunjang(key_word, pages, items_number):\n",
    "    \"\"\"\n",
    "    items_number 한 페이지당 가지고 오는 갯수인데 기본값은 96이였습니다!\n",
    "    \"\"\"\n",
    "    data = []\n",
    "    for page in range(pages):\n",
    "        url = 'https://api.bunjang.co.kr/api/1/find_v2.json?order=date&n={}&page={}&req_ref=search&q={}&stat_device=w&stat_category_required=1&version=4'.format(items_number,page,key_word)\n",
    "        response = requests.get(url)\n",
    "        datas = response.json()['list']\n",
    "        for piddata in datas:\n",
    "            pid = piddata['pid']\n",
    "            detail_data = get_product_detail(pid)\n",
    "            if detail_data is not None:\n",
    "                data.append(detail_data)\n",
    "    \n",
    "    df = pd.DataFrame(data)\n",
    "\n",
    "    df['link'] = 'https://m.bunjang.co.kr/products/' + df['pid'].astype(str)\n",
    "    df['market'] = '번개장터'\n",
    "    df['keyword'] = key_word\n",
    "\n",
    "    df.to_csv('bunjang_data.csv', index=False, encoding='utf-8-sig') # encoding='utf-8'로 하니깐 계속 파일이 깨져가지고 'utf-8(bom)'으로 지정해놓은것입니다!!\n",
    "\n"
   ]
  },
  {
   "cell_type": "code",
   "execution_count": 2,
   "metadata": {},
   "outputs": [],
   "source": [
    "bunjang('노트북',1,30)"
   ]
  }
 ],
 "metadata": {
  "kernelspec": {
   "display_name": "dataengineer",
   "language": "python",
   "name": "python3"
  },
  "language_info": {
   "codemirror_mode": {
    "name": "ipython",
    "version": 3
   },
   "file_extension": ".py",
   "mimetype": "text/x-python",
   "name": "python",
   "nbconvert_exporter": "python",
   "pygments_lexer": "ipython3",
   "version": "3.10.9"
  },
  "orig_nbformat": 4
 },
 "nbformat": 4,
 "nbformat_minor": 2
}
