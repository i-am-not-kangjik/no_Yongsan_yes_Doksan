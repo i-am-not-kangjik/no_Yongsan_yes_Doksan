{
 "cells": [
  {
   "cell_type": "code",
   "execution_count": 42,
   "metadata": {},
   "outputs": [],
   "source": [
    "import requests\n",
    "import pandas as pd\n",
    "\n",
    "def get_product_detail(pid):\n",
    "    url = 'https://api.bunjang.co.kr/api/pms/v1/products-detail/{}?viewerUid=-1'.format(pid)\n",
    "    response = requests.get(url) #url 요청 보내고 응답 받아옴\n",
    "    data = response.json().get('data', {}).get('product', {})\n",
    "    return {\n",
    "            'pid': data.get('pid', ''), # 물품 id\n",
    "            'name': data.get('name', ''), # 물품 이름\n",
    "            'description': data.get('description', ''), #물품 설명\n",
    "            'price': data.get('price', ''), #물품 이름\n",
    "            'qty': data.get('qty', ''), # 물품 수량\n",
    "            'saleStatus': data.get('saleStatus', ''), #물품 판매 상태\n",
    "            'status': data.get('status', ''), #물품 상태 (새거,사용됨) 2개로 나눠져 있는거 같음\n",
    "            'imageUrl': data.get('imageUrl', ''), #이미지 url 나중에 사용할 거 생각해서 받아옴\n",
    "            'keywords' : data.get('keywords',''), # 등록자가 등록한 keywords\n",
    "            'address' : data.get('address',''), # 등록자가 주소를 입력할때가 있는듯\n",
    "            'label' : data.get('label','') \n",
    "        }\n",
    "\n",
    "def bunjang(key_word, pages, items_number):\n",
    "    \"\"\"\n",
    "    items_number 한 페이지당 가지고 오는 갯수인데 기본값은 96이였습니다!\n",
    "    \"\"\"\n",
    "    data = []\n",
    "    for page in range(pages):\n",
    "        url = 'https://api.bunjang.co.kr/api/1/find_v2.json?order=date&n={}&page={}&req_ref=search&q={}&stat_device=w&stat_category_required=1&version=4'.format(items_number,page,key_word)\n",
    "        response = requests.get(url)\n",
    "        datas = response.json()['list']\n",
    "        for piddata in datas:\n",
    "            pid = piddata['pid']\n",
    "            detail_data = get_product_detail(pid)\n",
    "            if detail_data is not None:\n",
    "                data.append(detail_data)\n",
    "    \n",
    "    df = pd.DataFrame(data)\n",
    "\n",
    "    df['link'] = 'https://m.bunjang.co.kr/products/' + df['pid'].astype(str)\n",
    "    df['market'] = '번개장터'\n",
    "    df['keyword'] = key_word\n",
    "\n",
    "    df.to_csv('bunjang_data.csv', index=False, encoding='utf-8-sig') # encoding='utf-8'로 하니깐 계속 파일이 깨져가지고 'utf-8(bom)'으로 지정해놓은것입니다!!\n",
    "\n"
   ]
  },
  {
   "cell_type": "code",
   "execution_count": 44,
   "metadata": {},
   "outputs": [],
   "source": [
    "bunjang('노트북',1,30)"
   ]
  }
 ],
 "metadata": {
  "kernelspec": {
   "display_name": "dataengineer",
   "language": "python",
   "name": "python3"
  },
  "language_info": {
   "codemirror_mode": {
    "name": "ipython",
    "version": 3
   },
   "file_extension": ".py",
   "mimetype": "text/x-python",
   "name": "python",
   "nbconvert_exporter": "python",
   "pygments_lexer": "ipython3",
   "version": "3.10.9"
  },
  "orig_nbformat": 4
 },
 "nbformat": 4,
 "nbformat_minor": 2
}
