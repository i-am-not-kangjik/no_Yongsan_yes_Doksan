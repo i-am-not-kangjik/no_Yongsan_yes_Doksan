{
 "cells": [
  {
   "cell_type": "code",
   "execution_count": 16,
   "metadata": {},
   "outputs": [
    {
     "data": {
      "text/html": [
       "<div>\n",
       "<style scoped>\n",
       "    .dataframe tbody tr th:only-of-type {\n",
       "        vertical-align: middle;\n",
       "    }\n",
       "\n",
       "    .dataframe tbody tr th {\n",
       "        vertical-align: top;\n",
       "    }\n",
       "\n",
       "    .dataframe thead th {\n",
       "        text-align: right;\n",
       "    }\n",
       "</style>\n",
       "<table border=\"1\" class=\"dataframe\">\n",
       "  <thead>\n",
       "    <tr style=\"text-align: right;\">\n",
       "      <th></th>\n",
       "      <th>price</th>\n",
       "      <th>quality</th>\n",
       "      <th>favoritecount</th>\n",
       "      <th>viewcount</th>\n",
       "      <th>cost</th>\n",
       "      <th>screen_size</th>\n",
       "      <th>capacity</th>\n",
       "      <th>ram</th>\n",
       "      <th>weight</th>\n",
       "      <th>back_camera_1</th>\n",
       "      <th>back_camera_number_1</th>\n",
       "      <th>back_camera_2</th>\n",
       "      <th>back_camera_number_2</th>\n",
       "      <th>back_camera_3</th>\n",
       "      <th>back_camera_number_3</th>\n",
       "      <th>maximum_battery_lif</th>\n",
       "      <th>Max_audio_playback_time</th>\n",
       "      <th>battery_capacity</th>\n",
       "      <th>hours</th>\n",
       "      <th>video_streaming_playback</th>\n",
       "    </tr>\n",
       "  </thead>\n",
       "  <tbody>\n",
       "    <tr>\n",
       "      <th>0</th>\n",
       "      <td>450000</td>\n",
       "      <td>3</td>\n",
       "      <td>0.000000</td>\n",
       "      <td>0.000000</td>\n",
       "      <td>1160000</td>\n",
       "      <td>13.70</td>\n",
       "      <td>256.0</td>\n",
       "      <td>4</td>\n",
       "      <td>0.133</td>\n",
       "      <td>1200</td>\n",
       "      <td>2</td>\n",
       "      <td>0</td>\n",
       "      <td>0</td>\n",
       "      <td>0</td>\n",
       "      <td>0</td>\n",
       "      <td>10.0</td>\n",
       "      <td>50.0</td>\n",
       "      <td>2227</td>\n",
       "      <td>0.016667</td>\n",
       "      <td>50.0</td>\n",
       "    </tr>\n",
       "    <tr>\n",
       "      <th>1</th>\n",
       "      <td>530000</td>\n",
       "      <td>2</td>\n",
       "      <td>0.000000</td>\n",
       "      <td>0.000308</td>\n",
       "      <td>1020000</td>\n",
       "      <td>15.40</td>\n",
       "      <td>128.0</td>\n",
       "      <td>4</td>\n",
       "      <td>0.162</td>\n",
       "      <td>1200</td>\n",
       "      <td>2</td>\n",
       "      <td>0</td>\n",
       "      <td>0</td>\n",
       "      <td>0</td>\n",
       "      <td>0</td>\n",
       "      <td>11.0</td>\n",
       "      <td>65.0</td>\n",
       "      <td>2815</td>\n",
       "      <td>0.016667</td>\n",
       "      <td>65.0</td>\n",
       "    </tr>\n",
       "    <tr>\n",
       "      <th>2</th>\n",
       "      <td>900000</td>\n",
       "      <td>3</td>\n",
       "      <td>0.000000</td>\n",
       "      <td>0.000000</td>\n",
       "      <td>1500000</td>\n",
       "      <td>15.40</td>\n",
       "      <td>512.0</td>\n",
       "      <td>4</td>\n",
       "      <td>0.173</td>\n",
       "      <td>1200</td>\n",
       "      <td>2</td>\n",
       "      <td>0</td>\n",
       "      <td>0</td>\n",
       "      <td>0</td>\n",
       "      <td>0</td>\n",
       "      <td>15.0</td>\n",
       "      <td>75.0</td>\n",
       "      <td>3227</td>\n",
       "      <td>0.033333</td>\n",
       "      <td>75.0</td>\n",
       "    </tr>\n",
       "    <tr>\n",
       "      <th>3</th>\n",
       "      <td>560000</td>\n",
       "      <td>2</td>\n",
       "      <td>0.000000</td>\n",
       "      <td>0.000217</td>\n",
       "      <td>950000</td>\n",
       "      <td>13.70</td>\n",
       "      <td>128.0</td>\n",
       "      <td>4</td>\n",
       "      <td>0.140</td>\n",
       "      <td>1200</td>\n",
       "      <td>2</td>\n",
       "      <td>0</td>\n",
       "      <td>0</td>\n",
       "      <td>0</td>\n",
       "      <td>0</td>\n",
       "      <td>13.0</td>\n",
       "      <td>55.0</td>\n",
       "      <td>2406</td>\n",
       "      <td>0.050000</td>\n",
       "      <td>55.0</td>\n",
       "    </tr>\n",
       "    <tr>\n",
       "      <th>4</th>\n",
       "      <td>450000</td>\n",
       "      <td>3</td>\n",
       "      <td>0.000000</td>\n",
       "      <td>0.000000</td>\n",
       "      <td>1160000</td>\n",
       "      <td>13.70</td>\n",
       "      <td>256.0</td>\n",
       "      <td>4</td>\n",
       "      <td>0.133</td>\n",
       "      <td>1200</td>\n",
       "      <td>2</td>\n",
       "      <td>0</td>\n",
       "      <td>0</td>\n",
       "      <td>0</td>\n",
       "      <td>0</td>\n",
       "      <td>10.0</td>\n",
       "      <td>50.0</td>\n",
       "      <td>2227</td>\n",
       "      <td>0.083333</td>\n",
       "      <td>50.0</td>\n",
       "    </tr>\n",
       "    <tr>\n",
       "      <th>5</th>\n",
       "      <td>500000</td>\n",
       "      <td>2</td>\n",
       "      <td>0.000008</td>\n",
       "      <td>0.000367</td>\n",
       "      <td>1020000</td>\n",
       "      <td>15.40</td>\n",
       "      <td>128.0</td>\n",
       "      <td>4</td>\n",
       "      <td>0.162</td>\n",
       "      <td>1200</td>\n",
       "      <td>2</td>\n",
       "      <td>0</td>\n",
       "      <td>0</td>\n",
       "      <td>0</td>\n",
       "      <td>0</td>\n",
       "      <td>11.0</td>\n",
       "      <td>65.0</td>\n",
       "      <td>2815</td>\n",
       "      <td>0.083333</td>\n",
       "      <td>65.0</td>\n",
       "    </tr>\n",
       "    <tr>\n",
       "      <th>6</th>\n",
       "      <td>1220000</td>\n",
       "      <td>1</td>\n",
       "      <td>0.000000</td>\n",
       "      <td>0.000233</td>\n",
       "      <td>1550000</td>\n",
       "      <td>15.50</td>\n",
       "      <td>128.0</td>\n",
       "      <td>6</td>\n",
       "      <td>0.206</td>\n",
       "      <td>1200</td>\n",
       "      <td>2</td>\n",
       "      <td>4800</td>\n",
       "      <td>1</td>\n",
       "      <td>0</td>\n",
       "      <td>0</td>\n",
       "      <td>20.0</td>\n",
       "      <td>75.0</td>\n",
       "      <td>3200</td>\n",
       "      <td>0.083333</td>\n",
       "      <td>75.0</td>\n",
       "    </tr>\n",
       "    <tr>\n",
       "      <th>7</th>\n",
       "      <td>450000</td>\n",
       "      <td>1</td>\n",
       "      <td>0.000000</td>\n",
       "      <td>0.000008</td>\n",
       "      <td>1350000</td>\n",
       "      <td>15.40</td>\n",
       "      <td>128.0</td>\n",
       "      <td>6</td>\n",
       "      <td>0.187</td>\n",
       "      <td>1200</td>\n",
       "      <td>3</td>\n",
       "      <td>0</td>\n",
       "      <td>0</td>\n",
       "      <td>0</td>\n",
       "      <td>0</td>\n",
       "      <td>11.0</td>\n",
       "      <td>65.0</td>\n",
       "      <td>2815</td>\n",
       "      <td>0.100000</td>\n",
       "      <td>65.0</td>\n",
       "    </tr>\n",
       "    <tr>\n",
       "      <th>8</th>\n",
       "      <td>600000</td>\n",
       "      <td>2</td>\n",
       "      <td>0.000000</td>\n",
       "      <td>0.000000</td>\n",
       "      <td>950000</td>\n",
       "      <td>13.70</td>\n",
       "      <td>128.0</td>\n",
       "      <td>4</td>\n",
       "      <td>0.140</td>\n",
       "      <td>1200</td>\n",
       "      <td>2</td>\n",
       "      <td>0</td>\n",
       "      <td>0</td>\n",
       "      <td>0</td>\n",
       "      <td>0</td>\n",
       "      <td>13.0</td>\n",
       "      <td>55.0</td>\n",
       "      <td>2406</td>\n",
       "      <td>0.100000</td>\n",
       "      <td>55.0</td>\n",
       "    </tr>\n",
       "    <tr>\n",
       "      <th>9</th>\n",
       "      <td>420000</td>\n",
       "      <td>3</td>\n",
       "      <td>0.000000</td>\n",
       "      <td>0.000000</td>\n",
       "      <td>1397000</td>\n",
       "      <td>17.16</td>\n",
       "      <td>256.0</td>\n",
       "      <td>12</td>\n",
       "      <td>0.196</td>\n",
       "      <td>1200</td>\n",
       "      <td>2</td>\n",
       "      <td>1600</td>\n",
       "      <td>1</td>\n",
       "      <td>0</td>\n",
       "      <td>0</td>\n",
       "      <td>19.0</td>\n",
       "      <td>50.0</td>\n",
       "      <td>4300</td>\n",
       "      <td>0.116667</td>\n",
       "      <td>61.0</td>\n",
       "    </tr>\n",
       "    <tr>\n",
       "      <th>10</th>\n",
       "      <td>660000</td>\n",
       "      <td>3</td>\n",
       "      <td>0.000000</td>\n",
       "      <td>0.000000</td>\n",
       "      <td>1397000</td>\n",
       "      <td>17.16</td>\n",
       "      <td>256.0</td>\n",
       "      <td>12</td>\n",
       "      <td>0.196</td>\n",
       "      <td>1200</td>\n",
       "      <td>2</td>\n",
       "      <td>1600</td>\n",
       "      <td>1</td>\n",
       "      <td>0</td>\n",
       "      <td>0</td>\n",
       "      <td>19.0</td>\n",
       "      <td>54.0</td>\n",
       "      <td>4300</td>\n",
       "      <td>0.116667</td>\n",
       "      <td>61.0</td>\n",
       "    </tr>\n",
       "    <tr>\n",
       "      <th>11</th>\n",
       "      <td>480000</td>\n",
       "      <td>3</td>\n",
       "      <td>0.000000</td>\n",
       "      <td>0.000000</td>\n",
       "      <td>1397000</td>\n",
       "      <td>17.16</td>\n",
       "      <td>256.0</td>\n",
       "      <td>12</td>\n",
       "      <td>0.196</td>\n",
       "      <td>1200</td>\n",
       "      <td>2</td>\n",
       "      <td>1600</td>\n",
       "      <td>1</td>\n",
       "      <td>0</td>\n",
       "      <td>0</td>\n",
       "      <td>19.0</td>\n",
       "      <td>54.0</td>\n",
       "      <td>4300</td>\n",
       "      <td>0.116667</td>\n",
       "      <td>61.0</td>\n",
       "    </tr>\n",
       "    <tr>\n",
       "      <th>12</th>\n",
       "      <td>490000</td>\n",
       "      <td>1</td>\n",
       "      <td>0.000000</td>\n",
       "      <td>0.000008</td>\n",
       "      <td>1020000</td>\n",
       "      <td>15.40</td>\n",
       "      <td>128.0</td>\n",
       "      <td>4</td>\n",
       "      <td>0.162</td>\n",
       "      <td>1200</td>\n",
       "      <td>2</td>\n",
       "      <td>0</td>\n",
       "      <td>0</td>\n",
       "      <td>0</td>\n",
       "      <td>0</td>\n",
       "      <td>11.0</td>\n",
       "      <td>65.0</td>\n",
       "      <td>2815</td>\n",
       "      <td>0.116667</td>\n",
       "      <td>65.0</td>\n",
       "    </tr>\n",
       "    <tr>\n",
       "      <th>13</th>\n",
       "      <td>1560000</td>\n",
       "      <td>0</td>\n",
       "      <td>0.000008</td>\n",
       "      <td>0.000158</td>\n",
       "      <td>1397000</td>\n",
       "      <td>17.16</td>\n",
       "      <td>256.0</td>\n",
       "      <td>12</td>\n",
       "      <td>0.196</td>\n",
       "      <td>1200</td>\n",
       "      <td>2</td>\n",
       "      <td>1600</td>\n",
       "      <td>1</td>\n",
       "      <td>0</td>\n",
       "      <td>0</td>\n",
       "      <td>19.0</td>\n",
       "      <td>80.0</td>\n",
       "      <td>4300</td>\n",
       "      <td>0.116667</td>\n",
       "      <td>61.0</td>\n",
       "    </tr>\n",
       "    <tr>\n",
       "      <th>14</th>\n",
       "      <td>670000</td>\n",
       "      <td>1</td>\n",
       "      <td>0.000000</td>\n",
       "      <td>0.000008</td>\n",
       "      <td>1397000</td>\n",
       "      <td>17.16</td>\n",
       "      <td>256.0</td>\n",
       "      <td>12</td>\n",
       "      <td>0.196</td>\n",
       "      <td>1200</td>\n",
       "      <td>2</td>\n",
       "      <td>1600</td>\n",
       "      <td>1</td>\n",
       "      <td>0</td>\n",
       "      <td>0</td>\n",
       "      <td>19.0</td>\n",
       "      <td>55.0</td>\n",
       "      <td>4300</td>\n",
       "      <td>0.116667</td>\n",
       "      <td>61.0</td>\n",
       "    </tr>\n",
       "    <tr>\n",
       "      <th>15</th>\n",
       "      <td>800000</td>\n",
       "      <td>2</td>\n",
       "      <td>0.000000</td>\n",
       "      <td>0.000008</td>\n",
       "      <td>1397000</td>\n",
       "      <td>17.16</td>\n",
       "      <td>256.0</td>\n",
       "      <td>12</td>\n",
       "      <td>0.196</td>\n",
       "      <td>1200</td>\n",
       "      <td>2</td>\n",
       "      <td>1600</td>\n",
       "      <td>1</td>\n",
       "      <td>0</td>\n",
       "      <td>0</td>\n",
       "      <td>19.0</td>\n",
       "      <td>54.0</td>\n",
       "      <td>4300</td>\n",
       "      <td>0.116667</td>\n",
       "      <td>61.0</td>\n",
       "    </tr>\n",
       "    <tr>\n",
       "      <th>16</th>\n",
       "      <td>620000</td>\n",
       "      <td>3</td>\n",
       "      <td>0.000000</td>\n",
       "      <td>0.000008</td>\n",
       "      <td>1090000</td>\n",
       "      <td>15.40</td>\n",
       "      <td>128.0</td>\n",
       "      <td>4</td>\n",
       "      <td>0.173</td>\n",
       "      <td>1200</td>\n",
       "      <td>2</td>\n",
       "      <td>0</td>\n",
       "      <td>0</td>\n",
       "      <td>0</td>\n",
       "      <td>0</td>\n",
       "      <td>15.0</td>\n",
       "      <td>75.0</td>\n",
       "      <td>3227</td>\n",
       "      <td>0.116667</td>\n",
       "      <td>75.0</td>\n",
       "    </tr>\n",
       "    <tr>\n",
       "      <th>17</th>\n",
       "      <td>1250000</td>\n",
       "      <td>3</td>\n",
       "      <td>0.000000</td>\n",
       "      <td>0.000167</td>\n",
       "      <td>1700000</td>\n",
       "      <td>15.50</td>\n",
       "      <td>256.0</td>\n",
       "      <td>6</td>\n",
       "      <td>0.206</td>\n",
       "      <td>1200</td>\n",
       "      <td>2</td>\n",
       "      <td>4800</td>\n",
       "      <td>1</td>\n",
       "      <td>0</td>\n",
       "      <td>0</td>\n",
       "      <td>20.0</td>\n",
       "      <td>75.0</td>\n",
       "      <td>3200</td>\n",
       "      <td>0.116667</td>\n",
       "      <td>75.0</td>\n",
       "    </tr>\n",
       "    <tr>\n",
       "      <th>18</th>\n",
       "      <td>490000</td>\n",
       "      <td>2</td>\n",
       "      <td>0.000000</td>\n",
       "      <td>0.000000</td>\n",
       "      <td>1550000</td>\n",
       "      <td>16.40</td>\n",
       "      <td>64.0</td>\n",
       "      <td>4</td>\n",
       "      <td>0.226</td>\n",
       "      <td>1200</td>\n",
       "      <td>3</td>\n",
       "      <td>0</td>\n",
       "      <td>0</td>\n",
       "      <td>0</td>\n",
       "      <td>0</td>\n",
       "      <td>12.0</td>\n",
       "      <td>65.0</td>\n",
       "      <td>3969</td>\n",
       "      <td>0.116667</td>\n",
       "      <td>80.0</td>\n",
       "    </tr>\n",
       "    <tr>\n",
       "      <th>19</th>\n",
       "      <td>1560000</td>\n",
       "      <td>0</td>\n",
       "      <td>0.000000</td>\n",
       "      <td>0.000000</td>\n",
       "      <td>1397000</td>\n",
       "      <td>17.16</td>\n",
       "      <td>256.0</td>\n",
       "      <td>12</td>\n",
       "      <td>0.196</td>\n",
       "      <td>1200</td>\n",
       "      <td>2</td>\n",
       "      <td>1600</td>\n",
       "      <td>1</td>\n",
       "      <td>0</td>\n",
       "      <td>0</td>\n",
       "      <td>19.0</td>\n",
       "      <td>80.0</td>\n",
       "      <td>4300</td>\n",
       "      <td>0.116667</td>\n",
       "      <td>61.0</td>\n",
       "    </tr>\n",
       "  </tbody>\n",
       "</table>\n",
       "</div>"
      ],
      "text/plain": [
       "      price  quality  favoritecount  viewcount     cost  screen_size  \\\n",
       "0    450000        3       0.000000   0.000000  1160000        13.70   \n",
       "1    530000        2       0.000000   0.000308  1020000        15.40   \n",
       "2    900000        3       0.000000   0.000000  1500000        15.40   \n",
       "3    560000        2       0.000000   0.000217   950000        13.70   \n",
       "4    450000        3       0.000000   0.000000  1160000        13.70   \n",
       "5    500000        2       0.000008   0.000367  1020000        15.40   \n",
       "6   1220000        1       0.000000   0.000233  1550000        15.50   \n",
       "7    450000        1       0.000000   0.000008  1350000        15.40   \n",
       "8    600000        2       0.000000   0.000000   950000        13.70   \n",
       "9    420000        3       0.000000   0.000000  1397000        17.16   \n",
       "10   660000        3       0.000000   0.000000  1397000        17.16   \n",
       "11   480000        3       0.000000   0.000000  1397000        17.16   \n",
       "12   490000        1       0.000000   0.000008  1020000        15.40   \n",
       "13  1560000        0       0.000008   0.000158  1397000        17.16   \n",
       "14   670000        1       0.000000   0.000008  1397000        17.16   \n",
       "15   800000        2       0.000000   0.000008  1397000        17.16   \n",
       "16   620000        3       0.000000   0.000008  1090000        15.40   \n",
       "17  1250000        3       0.000000   0.000167  1700000        15.50   \n",
       "18   490000        2       0.000000   0.000000  1550000        16.40   \n",
       "19  1560000        0       0.000000   0.000000  1397000        17.16   \n",
       "\n",
       "    capacity  ram  weight  back_camera_1  back_camera_number_1  back_camera_2  \\\n",
       "0      256.0    4   0.133           1200                     2              0   \n",
       "1      128.0    4   0.162           1200                     2              0   \n",
       "2      512.0    4   0.173           1200                     2              0   \n",
       "3      128.0    4   0.140           1200                     2              0   \n",
       "4      256.0    4   0.133           1200                     2              0   \n",
       "5      128.0    4   0.162           1200                     2              0   \n",
       "6      128.0    6   0.206           1200                     2           4800   \n",
       "7      128.0    6   0.187           1200                     3              0   \n",
       "8      128.0    4   0.140           1200                     2              0   \n",
       "9      256.0   12   0.196           1200                     2           1600   \n",
       "10     256.0   12   0.196           1200                     2           1600   \n",
       "11     256.0   12   0.196           1200                     2           1600   \n",
       "12     128.0    4   0.162           1200                     2              0   \n",
       "13     256.0   12   0.196           1200                     2           1600   \n",
       "14     256.0   12   0.196           1200                     2           1600   \n",
       "15     256.0   12   0.196           1200                     2           1600   \n",
       "16     128.0    4   0.173           1200                     2              0   \n",
       "17     256.0    6   0.206           1200                     2           4800   \n",
       "18      64.0    4   0.226           1200                     3              0   \n",
       "19     256.0   12   0.196           1200                     2           1600   \n",
       "\n",
       "    back_camera_number_2  back_camera_3  back_camera_number_3  \\\n",
       "0                      0              0                     0   \n",
       "1                      0              0                     0   \n",
       "2                      0              0                     0   \n",
       "3                      0              0                     0   \n",
       "4                      0              0                     0   \n",
       "5                      0              0                     0   \n",
       "6                      1              0                     0   \n",
       "7                      0              0                     0   \n",
       "8                      0              0                     0   \n",
       "9                      1              0                     0   \n",
       "10                     1              0                     0   \n",
       "11                     1              0                     0   \n",
       "12                     0              0                     0   \n",
       "13                     1              0                     0   \n",
       "14                     1              0                     0   \n",
       "15                     1              0                     0   \n",
       "16                     0              0                     0   \n",
       "17                     1              0                     0   \n",
       "18                     0              0                     0   \n",
       "19                     1              0                     0   \n",
       "\n",
       "    maximum_battery_lif  Max_audio_playback_time  battery_capacity     hours  \\\n",
       "0                  10.0                     50.0              2227  0.016667   \n",
       "1                  11.0                     65.0              2815  0.016667   \n",
       "2                  15.0                     75.0              3227  0.033333   \n",
       "3                  13.0                     55.0              2406  0.050000   \n",
       "4                  10.0                     50.0              2227  0.083333   \n",
       "5                  11.0                     65.0              2815  0.083333   \n",
       "6                  20.0                     75.0              3200  0.083333   \n",
       "7                  11.0                     65.0              2815  0.100000   \n",
       "8                  13.0                     55.0              2406  0.100000   \n",
       "9                  19.0                     50.0              4300  0.116667   \n",
       "10                 19.0                     54.0              4300  0.116667   \n",
       "11                 19.0                     54.0              4300  0.116667   \n",
       "12                 11.0                     65.0              2815  0.116667   \n",
       "13                 19.0                     80.0              4300  0.116667   \n",
       "14                 19.0                     55.0              4300  0.116667   \n",
       "15                 19.0                     54.0              4300  0.116667   \n",
       "16                 15.0                     75.0              3227  0.116667   \n",
       "17                 20.0                     75.0              3200  0.116667   \n",
       "18                 12.0                     65.0              3969  0.116667   \n",
       "19                 19.0                     80.0              4300  0.116667   \n",
       "\n",
       "    video_streaming_playback  \n",
       "0                       50.0  \n",
       "1                       65.0  \n",
       "2                       75.0  \n",
       "3                       55.0  \n",
       "4                       50.0  \n",
       "5                       65.0  \n",
       "6                       75.0  \n",
       "7                       65.0  \n",
       "8                       55.0  \n",
       "9                       61.0  \n",
       "10                      61.0  \n",
       "11                      61.0  \n",
       "12                      65.0  \n",
       "13                      61.0  \n",
       "14                      61.0  \n",
       "15                      61.0  \n",
       "16                      75.0  \n",
       "17                      75.0  \n",
       "18                      80.0  \n",
       "19                      61.0  "
      ]
     },
     "execution_count": 16,
     "metadata": {},
     "output_type": "execute_result"
    }
   ],
   "source": [
    "import pandas as pd\n",
    "import numpy as np\n",
    "\n",
    "model_df = pd.read_csv(\"C:/Python_practice/DL_project/final_project/no_Yongsan_yes_Doksan/DA/dataset/smartphone_data_modeling_v1.csv\")\n",
    "model_df.head(20)"
   ]
  },
  {
   "attachments": {},
   "cell_type": "markdown",
   "metadata": {},
   "source": [
    "## 모델링을 위한 전처리 <br>\n",
    "(1) 로그변환 <br>\n",
    "(2) 정규화(minmaxscaler) or 표준화(standardscaler) <br>\n",
    "(3) train, test 나누기 <br>\n",
    "\n",
    "종속변수(y) : price <br>"
   ]
  },
  {
   "attachments": {},
   "cell_type": "markdown",
   "metadata": {},
   "source": [
    "## 로그 변환"
   ]
  },
  {
   "cell_type": "code",
   "execution_count": 17,
   "metadata": {},
   "outputs": [
    {
     "name": "stdout",
     "output_type": "stream",
     "text": [
      "<class 'pandas.core.frame.DataFrame'>\n",
      "RangeIndex: 13778 entries, 0 to 13777\n",
      "Data columns (total 20 columns):\n",
      " #   Column                    Non-Null Count  Dtype   \n",
      "---  ------                    --------------  -----   \n",
      " 0   price                     13778 non-null  int64   \n",
      " 1   quality                   13778 non-null  category\n",
      " 2   favoritecount             13778 non-null  float64 \n",
      " 3   viewcount                 13778 non-null  float64 \n",
      " 4   cost                      13778 non-null  int64   \n",
      " 5   screen_size               13778 non-null  float64 \n",
      " 6   capacity                  13778 non-null  float64 \n",
      " 7   ram                       13778 non-null  int64   \n",
      " 8   weight                    13778 non-null  float64 \n",
      " 9   back_camera_1             13778 non-null  int64   \n",
      " 10  back_camera_number_1      13778 non-null  int64   \n",
      " 11  back_camera_2             13778 non-null  int64   \n",
      " 12  back_camera_number_2      13778 non-null  int64   \n",
      " 13  back_camera_3             13778 non-null  int64   \n",
      " 14  back_camera_number_3      13778 non-null  int64   \n",
      " 15  maximum_battery_lif       13778 non-null  float64 \n",
      " 16  Max_audio_playback_time   13778 non-null  float64 \n",
      " 17  battery_capacity          13778 non-null  int64   \n",
      " 18  hours                     13778 non-null  float64 \n",
      " 19  video_streaming_playback  13778 non-null  float64 \n",
      "dtypes: category(1), float64(9), int64(10)\n",
      "memory usage: 2.0 MB\n"
     ]
    }
   ],
   "source": [
    "# object 열 category로 타입 변환\n",
    "model_df['quality'] = model_df['quality'].astype('category')\n",
    "model_df.info()"
   ]
  },
  {
   "cell_type": "code",
   "execution_count": 18,
   "metadata": {},
   "outputs": [
    {
     "data": {
      "text/html": [
       "<div>\n",
       "<style scoped>\n",
       "    .dataframe tbody tr th:only-of-type {\n",
       "        vertical-align: middle;\n",
       "    }\n",
       "\n",
       "    .dataframe tbody tr th {\n",
       "        vertical-align: top;\n",
       "    }\n",
       "\n",
       "    .dataframe thead th {\n",
       "        text-align: right;\n",
       "    }\n",
       "</style>\n",
       "<table border=\"1\" class=\"dataframe\">\n",
       "  <thead>\n",
       "    <tr style=\"text-align: right;\">\n",
       "      <th></th>\n",
       "      <th>price</th>\n",
       "      <th>quality</th>\n",
       "      <th>favoritecount</th>\n",
       "      <th>viewcount</th>\n",
       "      <th>cost</th>\n",
       "      <th>screen_size</th>\n",
       "      <th>capacity</th>\n",
       "      <th>ram</th>\n",
       "      <th>weight</th>\n",
       "      <th>back_camera_1</th>\n",
       "      <th>back_camera_number_1</th>\n",
       "      <th>back_camera_2</th>\n",
       "      <th>back_camera_number_2</th>\n",
       "      <th>back_camera_3</th>\n",
       "      <th>back_camera_number_3</th>\n",
       "      <th>maximum_battery_lif</th>\n",
       "      <th>Max_audio_playback_time</th>\n",
       "      <th>battery_capacity</th>\n",
       "      <th>hours</th>\n",
       "      <th>video_streaming_playback</th>\n",
       "    </tr>\n",
       "  </thead>\n",
       "  <tbody>\n",
       "    <tr>\n",
       "      <th>0</th>\n",
       "      <td>450000</td>\n",
       "      <td>3</td>\n",
       "      <td>0.001000</td>\n",
       "      <td>0.001000</td>\n",
       "      <td>1160000</td>\n",
       "      <td>13.70</td>\n",
       "      <td>256.0</td>\n",
       "      <td>4</td>\n",
       "      <td>0.133</td>\n",
       "      <td>1200</td>\n",
       "      <td>2</td>\n",
       "      <td>0.001</td>\n",
       "      <td>0.001</td>\n",
       "      <td>0.001</td>\n",
       "      <td>0.001</td>\n",
       "      <td>10.0</td>\n",
       "      <td>50.0</td>\n",
       "      <td>2227</td>\n",
       "      <td>0.016667</td>\n",
       "      <td>50.0</td>\n",
       "    </tr>\n",
       "    <tr>\n",
       "      <th>1</th>\n",
       "      <td>530000</td>\n",
       "      <td>2</td>\n",
       "      <td>0.001000</td>\n",
       "      <td>0.001308</td>\n",
       "      <td>1020000</td>\n",
       "      <td>15.40</td>\n",
       "      <td>128.0</td>\n",
       "      <td>4</td>\n",
       "      <td>0.162</td>\n",
       "      <td>1200</td>\n",
       "      <td>2</td>\n",
       "      <td>0.001</td>\n",
       "      <td>0.001</td>\n",
       "      <td>0.001</td>\n",
       "      <td>0.001</td>\n",
       "      <td>11.0</td>\n",
       "      <td>65.0</td>\n",
       "      <td>2815</td>\n",
       "      <td>0.016667</td>\n",
       "      <td>65.0</td>\n",
       "    </tr>\n",
       "    <tr>\n",
       "      <th>2</th>\n",
       "      <td>900000</td>\n",
       "      <td>3</td>\n",
       "      <td>0.001000</td>\n",
       "      <td>0.001000</td>\n",
       "      <td>1500000</td>\n",
       "      <td>15.40</td>\n",
       "      <td>512.0</td>\n",
       "      <td>4</td>\n",
       "      <td>0.173</td>\n",
       "      <td>1200</td>\n",
       "      <td>2</td>\n",
       "      <td>0.001</td>\n",
       "      <td>0.001</td>\n",
       "      <td>0.001</td>\n",
       "      <td>0.001</td>\n",
       "      <td>15.0</td>\n",
       "      <td>75.0</td>\n",
       "      <td>3227</td>\n",
       "      <td>0.033333</td>\n",
       "      <td>75.0</td>\n",
       "    </tr>\n",
       "    <tr>\n",
       "      <th>3</th>\n",
       "      <td>560000</td>\n",
       "      <td>2</td>\n",
       "      <td>0.001000</td>\n",
       "      <td>0.001217</td>\n",
       "      <td>950000</td>\n",
       "      <td>13.70</td>\n",
       "      <td>128.0</td>\n",
       "      <td>4</td>\n",
       "      <td>0.140</td>\n",
       "      <td>1200</td>\n",
       "      <td>2</td>\n",
       "      <td>0.001</td>\n",
       "      <td>0.001</td>\n",
       "      <td>0.001</td>\n",
       "      <td>0.001</td>\n",
       "      <td>13.0</td>\n",
       "      <td>55.0</td>\n",
       "      <td>2406</td>\n",
       "      <td>0.050000</td>\n",
       "      <td>55.0</td>\n",
       "    </tr>\n",
       "    <tr>\n",
       "      <th>4</th>\n",
       "      <td>450000</td>\n",
       "      <td>3</td>\n",
       "      <td>0.001000</td>\n",
       "      <td>0.001000</td>\n",
       "      <td>1160000</td>\n",
       "      <td>13.70</td>\n",
       "      <td>256.0</td>\n",
       "      <td>4</td>\n",
       "      <td>0.133</td>\n",
       "      <td>1200</td>\n",
       "      <td>2</td>\n",
       "      <td>0.001</td>\n",
       "      <td>0.001</td>\n",
       "      <td>0.001</td>\n",
       "      <td>0.001</td>\n",
       "      <td>10.0</td>\n",
       "      <td>50.0</td>\n",
       "      <td>2227</td>\n",
       "      <td>0.083333</td>\n",
       "      <td>50.0</td>\n",
       "    </tr>\n",
       "    <tr>\n",
       "      <th>5</th>\n",
       "      <td>500000</td>\n",
       "      <td>2</td>\n",
       "      <td>0.001008</td>\n",
       "      <td>0.001367</td>\n",
       "      <td>1020000</td>\n",
       "      <td>15.40</td>\n",
       "      <td>128.0</td>\n",
       "      <td>4</td>\n",
       "      <td>0.162</td>\n",
       "      <td>1200</td>\n",
       "      <td>2</td>\n",
       "      <td>0.001</td>\n",
       "      <td>0.001</td>\n",
       "      <td>0.001</td>\n",
       "      <td>0.001</td>\n",
       "      <td>11.0</td>\n",
       "      <td>65.0</td>\n",
       "      <td>2815</td>\n",
       "      <td>0.083333</td>\n",
       "      <td>65.0</td>\n",
       "    </tr>\n",
       "    <tr>\n",
       "      <th>6</th>\n",
       "      <td>1220000</td>\n",
       "      <td>1</td>\n",
       "      <td>0.001000</td>\n",
       "      <td>0.001233</td>\n",
       "      <td>1550000</td>\n",
       "      <td>15.50</td>\n",
       "      <td>128.0</td>\n",
       "      <td>6</td>\n",
       "      <td>0.206</td>\n",
       "      <td>1200</td>\n",
       "      <td>2</td>\n",
       "      <td>4800.001</td>\n",
       "      <td>1.001</td>\n",
       "      <td>0.001</td>\n",
       "      <td>0.001</td>\n",
       "      <td>20.0</td>\n",
       "      <td>75.0</td>\n",
       "      <td>3200</td>\n",
       "      <td>0.083333</td>\n",
       "      <td>75.0</td>\n",
       "    </tr>\n",
       "    <tr>\n",
       "      <th>7</th>\n",
       "      <td>450000</td>\n",
       "      <td>1</td>\n",
       "      <td>0.001000</td>\n",
       "      <td>0.001008</td>\n",
       "      <td>1350000</td>\n",
       "      <td>15.40</td>\n",
       "      <td>128.0</td>\n",
       "      <td>6</td>\n",
       "      <td>0.187</td>\n",
       "      <td>1200</td>\n",
       "      <td>3</td>\n",
       "      <td>0.001</td>\n",
       "      <td>0.001</td>\n",
       "      <td>0.001</td>\n",
       "      <td>0.001</td>\n",
       "      <td>11.0</td>\n",
       "      <td>65.0</td>\n",
       "      <td>2815</td>\n",
       "      <td>0.100000</td>\n",
       "      <td>65.0</td>\n",
       "    </tr>\n",
       "    <tr>\n",
       "      <th>8</th>\n",
       "      <td>600000</td>\n",
       "      <td>2</td>\n",
       "      <td>0.001000</td>\n",
       "      <td>0.001000</td>\n",
       "      <td>950000</td>\n",
       "      <td>13.70</td>\n",
       "      <td>128.0</td>\n",
       "      <td>4</td>\n",
       "      <td>0.140</td>\n",
       "      <td>1200</td>\n",
       "      <td>2</td>\n",
       "      <td>0.001</td>\n",
       "      <td>0.001</td>\n",
       "      <td>0.001</td>\n",
       "      <td>0.001</td>\n",
       "      <td>13.0</td>\n",
       "      <td>55.0</td>\n",
       "      <td>2406</td>\n",
       "      <td>0.100000</td>\n",
       "      <td>55.0</td>\n",
       "    </tr>\n",
       "    <tr>\n",
       "      <th>9</th>\n",
       "      <td>420000</td>\n",
       "      <td>3</td>\n",
       "      <td>0.001000</td>\n",
       "      <td>0.001000</td>\n",
       "      <td>1397000</td>\n",
       "      <td>17.16</td>\n",
       "      <td>256.0</td>\n",
       "      <td>12</td>\n",
       "      <td>0.196</td>\n",
       "      <td>1200</td>\n",
       "      <td>2</td>\n",
       "      <td>1600.001</td>\n",
       "      <td>1.001</td>\n",
       "      <td>0.001</td>\n",
       "      <td>0.001</td>\n",
       "      <td>19.0</td>\n",
       "      <td>50.0</td>\n",
       "      <td>4300</td>\n",
       "      <td>0.116667</td>\n",
       "      <td>61.0</td>\n",
       "    </tr>\n",
       "    <tr>\n",
       "      <th>10</th>\n",
       "      <td>660000</td>\n",
       "      <td>3</td>\n",
       "      <td>0.001000</td>\n",
       "      <td>0.001000</td>\n",
       "      <td>1397000</td>\n",
       "      <td>17.16</td>\n",
       "      <td>256.0</td>\n",
       "      <td>12</td>\n",
       "      <td>0.196</td>\n",
       "      <td>1200</td>\n",
       "      <td>2</td>\n",
       "      <td>1600.001</td>\n",
       "      <td>1.001</td>\n",
       "      <td>0.001</td>\n",
       "      <td>0.001</td>\n",
       "      <td>19.0</td>\n",
       "      <td>54.0</td>\n",
       "      <td>4300</td>\n",
       "      <td>0.116667</td>\n",
       "      <td>61.0</td>\n",
       "    </tr>\n",
       "    <tr>\n",
       "      <th>11</th>\n",
       "      <td>480000</td>\n",
       "      <td>3</td>\n",
       "      <td>0.001000</td>\n",
       "      <td>0.001000</td>\n",
       "      <td>1397000</td>\n",
       "      <td>17.16</td>\n",
       "      <td>256.0</td>\n",
       "      <td>12</td>\n",
       "      <td>0.196</td>\n",
       "      <td>1200</td>\n",
       "      <td>2</td>\n",
       "      <td>1600.001</td>\n",
       "      <td>1.001</td>\n",
       "      <td>0.001</td>\n",
       "      <td>0.001</td>\n",
       "      <td>19.0</td>\n",
       "      <td>54.0</td>\n",
       "      <td>4300</td>\n",
       "      <td>0.116667</td>\n",
       "      <td>61.0</td>\n",
       "    </tr>\n",
       "    <tr>\n",
       "      <th>12</th>\n",
       "      <td>490000</td>\n",
       "      <td>1</td>\n",
       "      <td>0.001000</td>\n",
       "      <td>0.001008</td>\n",
       "      <td>1020000</td>\n",
       "      <td>15.40</td>\n",
       "      <td>128.0</td>\n",
       "      <td>4</td>\n",
       "      <td>0.162</td>\n",
       "      <td>1200</td>\n",
       "      <td>2</td>\n",
       "      <td>0.001</td>\n",
       "      <td>0.001</td>\n",
       "      <td>0.001</td>\n",
       "      <td>0.001</td>\n",
       "      <td>11.0</td>\n",
       "      <td>65.0</td>\n",
       "      <td>2815</td>\n",
       "      <td>0.116667</td>\n",
       "      <td>65.0</td>\n",
       "    </tr>\n",
       "    <tr>\n",
       "      <th>13</th>\n",
       "      <td>1560000</td>\n",
       "      <td>0</td>\n",
       "      <td>0.001008</td>\n",
       "      <td>0.001158</td>\n",
       "      <td>1397000</td>\n",
       "      <td>17.16</td>\n",
       "      <td>256.0</td>\n",
       "      <td>12</td>\n",
       "      <td>0.196</td>\n",
       "      <td>1200</td>\n",
       "      <td>2</td>\n",
       "      <td>1600.001</td>\n",
       "      <td>1.001</td>\n",
       "      <td>0.001</td>\n",
       "      <td>0.001</td>\n",
       "      <td>19.0</td>\n",
       "      <td>80.0</td>\n",
       "      <td>4300</td>\n",
       "      <td>0.116667</td>\n",
       "      <td>61.0</td>\n",
       "    </tr>\n",
       "    <tr>\n",
       "      <th>14</th>\n",
       "      <td>670000</td>\n",
       "      <td>1</td>\n",
       "      <td>0.001000</td>\n",
       "      <td>0.001008</td>\n",
       "      <td>1397000</td>\n",
       "      <td>17.16</td>\n",
       "      <td>256.0</td>\n",
       "      <td>12</td>\n",
       "      <td>0.196</td>\n",
       "      <td>1200</td>\n",
       "      <td>2</td>\n",
       "      <td>1600.001</td>\n",
       "      <td>1.001</td>\n",
       "      <td>0.001</td>\n",
       "      <td>0.001</td>\n",
       "      <td>19.0</td>\n",
       "      <td>55.0</td>\n",
       "      <td>4300</td>\n",
       "      <td>0.116667</td>\n",
       "      <td>61.0</td>\n",
       "    </tr>\n",
       "  </tbody>\n",
       "</table>\n",
       "</div>"
      ],
      "text/plain": [
       "      price quality  favoritecount  viewcount     cost  screen_size  capacity  \\\n",
       "0    450000       3       0.001000   0.001000  1160000        13.70     256.0   \n",
       "1    530000       2       0.001000   0.001308  1020000        15.40     128.0   \n",
       "2    900000       3       0.001000   0.001000  1500000        15.40     512.0   \n",
       "3    560000       2       0.001000   0.001217   950000        13.70     128.0   \n",
       "4    450000       3       0.001000   0.001000  1160000        13.70     256.0   \n",
       "5    500000       2       0.001008   0.001367  1020000        15.40     128.0   \n",
       "6   1220000       1       0.001000   0.001233  1550000        15.50     128.0   \n",
       "7    450000       1       0.001000   0.001008  1350000        15.40     128.0   \n",
       "8    600000       2       0.001000   0.001000   950000        13.70     128.0   \n",
       "9    420000       3       0.001000   0.001000  1397000        17.16     256.0   \n",
       "10   660000       3       0.001000   0.001000  1397000        17.16     256.0   \n",
       "11   480000       3       0.001000   0.001000  1397000        17.16     256.0   \n",
       "12   490000       1       0.001000   0.001008  1020000        15.40     128.0   \n",
       "13  1560000       0       0.001008   0.001158  1397000        17.16     256.0   \n",
       "14   670000       1       0.001000   0.001008  1397000        17.16     256.0   \n",
       "\n",
       "    ram  weight  back_camera_1  back_camera_number_1  back_camera_2  \\\n",
       "0     4   0.133           1200                     2          0.001   \n",
       "1     4   0.162           1200                     2          0.001   \n",
       "2     4   0.173           1200                     2          0.001   \n",
       "3     4   0.140           1200                     2          0.001   \n",
       "4     4   0.133           1200                     2          0.001   \n",
       "5     4   0.162           1200                     2          0.001   \n",
       "6     6   0.206           1200                     2       4800.001   \n",
       "7     6   0.187           1200                     3          0.001   \n",
       "8     4   0.140           1200                     2          0.001   \n",
       "9    12   0.196           1200                     2       1600.001   \n",
       "10   12   0.196           1200                     2       1600.001   \n",
       "11   12   0.196           1200                     2       1600.001   \n",
       "12    4   0.162           1200                     2          0.001   \n",
       "13   12   0.196           1200                     2       1600.001   \n",
       "14   12   0.196           1200                     2       1600.001   \n",
       "\n",
       "    back_camera_number_2  back_camera_3  back_camera_number_3  \\\n",
       "0                  0.001          0.001                 0.001   \n",
       "1                  0.001          0.001                 0.001   \n",
       "2                  0.001          0.001                 0.001   \n",
       "3                  0.001          0.001                 0.001   \n",
       "4                  0.001          0.001                 0.001   \n",
       "5                  0.001          0.001                 0.001   \n",
       "6                  1.001          0.001                 0.001   \n",
       "7                  0.001          0.001                 0.001   \n",
       "8                  0.001          0.001                 0.001   \n",
       "9                  1.001          0.001                 0.001   \n",
       "10                 1.001          0.001                 0.001   \n",
       "11                 1.001          0.001                 0.001   \n",
       "12                 0.001          0.001                 0.001   \n",
       "13                 1.001          0.001                 0.001   \n",
       "14                 1.001          0.001                 0.001   \n",
       "\n",
       "    maximum_battery_lif  Max_audio_playback_time  battery_capacity     hours  \\\n",
       "0                  10.0                     50.0              2227  0.016667   \n",
       "1                  11.0                     65.0              2815  0.016667   \n",
       "2                  15.0                     75.0              3227  0.033333   \n",
       "3                  13.0                     55.0              2406  0.050000   \n",
       "4                  10.0                     50.0              2227  0.083333   \n",
       "5                  11.0                     65.0              2815  0.083333   \n",
       "6                  20.0                     75.0              3200  0.083333   \n",
       "7                  11.0                     65.0              2815  0.100000   \n",
       "8                  13.0                     55.0              2406  0.100000   \n",
       "9                  19.0                     50.0              4300  0.116667   \n",
       "10                 19.0                     54.0              4300  0.116667   \n",
       "11                 19.0                     54.0              4300  0.116667   \n",
       "12                 11.0                     65.0              2815  0.116667   \n",
       "13                 19.0                     80.0              4300  0.116667   \n",
       "14                 19.0                     55.0              4300  0.116667   \n",
       "\n",
       "    video_streaming_playback  \n",
       "0                       50.0  \n",
       "1                       65.0  \n",
       "2                       75.0  \n",
       "3                       55.0  \n",
       "4                       50.0  \n",
       "5                       65.0  \n",
       "6                       75.0  \n",
       "7                       65.0  \n",
       "8                       55.0  \n",
       "9                       61.0  \n",
       "10                      61.0  \n",
       "11                      61.0  \n",
       "12                      65.0  \n",
       "13                      61.0  \n",
       "14                      61.0  "
      ]
     },
     "execution_count": 18,
     "metadata": {},
     "output_type": "execute_result"
    }
   ],
   "source": [
    "# 로그변환 전 0인 데이터가 존재하는 열에 0.001 추가하기 (최대한 데이터 손상을 막기 위해)\n",
    "columns_to_update = ['favoritecount', 'viewcount', 'back_camera_2', \n",
    "                     'back_camera_number_2', 'back_camera_3', 'back_camera_number_3']\n",
    "\n",
    "# 각 열에 0.001 더하기\n",
    "for column in columns_to_update:\n",
    "    model_df[column] = model_df[column].apply(lambda x: x + 0.001)\n",
    "\n",
    "model_df.head(15)"
   ]
  },
  {
   "cell_type": "code",
   "execution_count": 19,
   "metadata": {},
   "outputs": [
    {
     "name": "stdout",
     "output_type": "stream",
     "text": [
      "<class 'pandas.core.frame.DataFrame'>\n",
      "RangeIndex: 13778 entries, 0 to 13777\n",
      "Data columns (total 20 columns):\n",
      " #   Column                    Non-Null Count  Dtype   \n",
      "---  ------                    --------------  -----   \n",
      " 0   price                     13778 non-null  int64   \n",
      " 1   quality                   13778 non-null  category\n",
      " 2   favoritecount             13778 non-null  float64 \n",
      " 3   viewcount                 13778 non-null  float64 \n",
      " 4   cost                      13778 non-null  float64 \n",
      " 5   screen_size               13778 non-null  float64 \n",
      " 6   capacity                  13778 non-null  float64 \n",
      " 7   ram                       13778 non-null  float64 \n",
      " 8   weight                    13778 non-null  float64 \n",
      " 9   back_camera_1             13778 non-null  float64 \n",
      " 10  back_camera_number_1      13778 non-null  float64 \n",
      " 11  back_camera_2             13778 non-null  float64 \n",
      " 12  back_camera_number_2      13778 non-null  float64 \n",
      " 13  back_camera_3             13778 non-null  float64 \n",
      " 14  back_camera_number_3      13778 non-null  float64 \n",
      " 15  maximum_battery_lif       13778 non-null  float64 \n",
      " 16  Max_audio_playback_time   13778 non-null  float64 \n",
      " 17  battery_capacity          13778 non-null  float64 \n",
      " 18  hours                     13778 non-null  float64 \n",
      " 19  video_streaming_playback  13778 non-null  float64 \n",
      "dtypes: category(1), float64(18), int64(1)\n",
      "memory usage: 2.0 MB\n"
     ]
    }
   ],
   "source": [
    "### 로그변환 (quality, price 열 제외)\n",
    "def log_transform(dataframe, columns):\n",
    "    '''\n",
    "    데이터프레임과 컬럼을 인자로 받아서\n",
    "    로그 변환이 적용된 데이터프레임을 반환하는 함수입니다.\n",
    "    '''\n",
    "    for column in columns:\n",
    "        if column not in ['quality', 'price']:\n",
    "            filtered = dataframe[column][dataframe[column] > 0] # filter out negative or zero values\n",
    "            dataframe[column] = np.log(filtered) # apply log transformation\n",
    "    return dataframe\n",
    "\n",
    "log_df = log_transform(model_df, model_df.columns)\n",
    "log_df.info()"
   ]
  },
  {
   "cell_type": "code",
   "execution_count": 20,
   "metadata": {},
   "outputs": [
    {
     "data": {
      "text/html": [
       "<div>\n",
       "<style scoped>\n",
       "    .dataframe tbody tr th:only-of-type {\n",
       "        vertical-align: middle;\n",
       "    }\n",
       "\n",
       "    .dataframe tbody tr th {\n",
       "        vertical-align: top;\n",
       "    }\n",
       "\n",
       "    .dataframe thead th {\n",
       "        text-align: right;\n",
       "    }\n",
       "</style>\n",
       "<table border=\"1\" class=\"dataframe\">\n",
       "  <thead>\n",
       "    <tr style=\"text-align: right;\">\n",
       "      <th></th>\n",
       "      <th>price</th>\n",
       "      <th>quality</th>\n",
       "      <th>favoritecount</th>\n",
       "      <th>viewcount</th>\n",
       "      <th>cost</th>\n",
       "      <th>screen_size</th>\n",
       "      <th>capacity</th>\n",
       "      <th>ram</th>\n",
       "      <th>weight</th>\n",
       "      <th>back_camera_1</th>\n",
       "      <th>back_camera_number_1</th>\n",
       "      <th>back_camera_2</th>\n",
       "      <th>back_camera_number_2</th>\n",
       "      <th>back_camera_3</th>\n",
       "      <th>back_camera_number_3</th>\n",
       "      <th>maximum_battery_lif</th>\n",
       "      <th>Max_audio_playback_time</th>\n",
       "      <th>battery_capacity</th>\n",
       "      <th>hours</th>\n",
       "      <th>video_streaming_playback</th>\n",
       "    </tr>\n",
       "  </thead>\n",
       "  <tbody>\n",
       "    <tr>\n",
       "      <th>0</th>\n",
       "      <td>450000</td>\n",
       "      <td>3</td>\n",
       "      <td>-6.907755</td>\n",
       "      <td>-6.907755</td>\n",
       "      <td>13.963931</td>\n",
       "      <td>2.617396</td>\n",
       "      <td>5.545177</td>\n",
       "      <td>1.386294</td>\n",
       "      <td>-2.017406</td>\n",
       "      <td>7.090077</td>\n",
       "      <td>0.693147</td>\n",
       "      <td>-6.907755</td>\n",
       "      <td>-6.907755</td>\n",
       "      <td>-6.907755</td>\n",
       "      <td>-6.907755</td>\n",
       "      <td>2.302585</td>\n",
       "      <td>3.912023</td>\n",
       "      <td>7.708411</td>\n",
       "      <td>-4.094345</td>\n",
       "      <td>3.912023</td>\n",
       "    </tr>\n",
       "    <tr>\n",
       "      <th>1</th>\n",
       "      <td>530000</td>\n",
       "      <td>2</td>\n",
       "      <td>-6.907755</td>\n",
       "      <td>-6.639001</td>\n",
       "      <td>13.835313</td>\n",
       "      <td>2.734368</td>\n",
       "      <td>4.852030</td>\n",
       "      <td>1.386294</td>\n",
       "      <td>-1.820159</td>\n",
       "      <td>7.090077</td>\n",
       "      <td>0.693147</td>\n",
       "      <td>-6.907755</td>\n",
       "      <td>-6.907755</td>\n",
       "      <td>-6.907755</td>\n",
       "      <td>-6.907755</td>\n",
       "      <td>2.397895</td>\n",
       "      <td>4.174387</td>\n",
       "      <td>7.942718</td>\n",
       "      <td>-4.094345</td>\n",
       "      <td>4.174387</td>\n",
       "    </tr>\n",
       "    <tr>\n",
       "      <th>2</th>\n",
       "      <td>900000</td>\n",
       "      <td>3</td>\n",
       "      <td>-6.907755</td>\n",
       "      <td>-6.907755</td>\n",
       "      <td>14.220976</td>\n",
       "      <td>2.734368</td>\n",
       "      <td>6.238325</td>\n",
       "      <td>1.386294</td>\n",
       "      <td>-1.754464</td>\n",
       "      <td>7.090077</td>\n",
       "      <td>0.693147</td>\n",
       "      <td>-6.907755</td>\n",
       "      <td>-6.907755</td>\n",
       "      <td>-6.907755</td>\n",
       "      <td>-6.907755</td>\n",
       "      <td>2.708050</td>\n",
       "      <td>4.317488</td>\n",
       "      <td>8.079308</td>\n",
       "      <td>-3.401197</td>\n",
       "      <td>4.317488</td>\n",
       "    </tr>\n",
       "    <tr>\n",
       "      <th>3</th>\n",
       "      <td>560000</td>\n",
       "      <td>2</td>\n",
       "      <td>-6.907755</td>\n",
       "      <td>-6.711640</td>\n",
       "      <td>13.764217</td>\n",
       "      <td>2.617396</td>\n",
       "      <td>4.852030</td>\n",
       "      <td>1.386294</td>\n",
       "      <td>-1.966113</td>\n",
       "      <td>7.090077</td>\n",
       "      <td>0.693147</td>\n",
       "      <td>-6.907755</td>\n",
       "      <td>-6.907755</td>\n",
       "      <td>-6.907755</td>\n",
       "      <td>-6.907755</td>\n",
       "      <td>2.564949</td>\n",
       "      <td>4.007333</td>\n",
       "      <td>7.785721</td>\n",
       "      <td>-2.995732</td>\n",
       "      <td>4.007333</td>\n",
       "    </tr>\n",
       "    <tr>\n",
       "      <th>4</th>\n",
       "      <td>450000</td>\n",
       "      <td>3</td>\n",
       "      <td>-6.907755</td>\n",
       "      <td>-6.907755</td>\n",
       "      <td>13.963931</td>\n",
       "      <td>2.617396</td>\n",
       "      <td>5.545177</td>\n",
       "      <td>1.386294</td>\n",
       "      <td>-2.017406</td>\n",
       "      <td>7.090077</td>\n",
       "      <td>0.693147</td>\n",
       "      <td>-6.907755</td>\n",
       "      <td>-6.907755</td>\n",
       "      <td>-6.907755</td>\n",
       "      <td>-6.907755</td>\n",
       "      <td>2.302585</td>\n",
       "      <td>3.912023</td>\n",
       "      <td>7.708411</td>\n",
       "      <td>-2.484907</td>\n",
       "      <td>3.912023</td>\n",
       "    </tr>\n",
       "    <tr>\n",
       "      <th>5</th>\n",
       "      <td>500000</td>\n",
       "      <td>2</td>\n",
       "      <td>-6.899456</td>\n",
       "      <td>-6.595381</td>\n",
       "      <td>13.835313</td>\n",
       "      <td>2.734368</td>\n",
       "      <td>4.852030</td>\n",
       "      <td>1.386294</td>\n",
       "      <td>-1.820159</td>\n",
       "      <td>7.090077</td>\n",
       "      <td>0.693147</td>\n",
       "      <td>-6.907755</td>\n",
       "      <td>-6.907755</td>\n",
       "      <td>-6.907755</td>\n",
       "      <td>-6.907755</td>\n",
       "      <td>2.397895</td>\n",
       "      <td>4.174387</td>\n",
       "      <td>7.942718</td>\n",
       "      <td>-2.484907</td>\n",
       "      <td>4.174387</td>\n",
       "    </tr>\n",
       "    <tr>\n",
       "      <th>6</th>\n",
       "      <td>1220000</td>\n",
       "      <td>1</td>\n",
       "      <td>-6.907755</td>\n",
       "      <td>-6.698035</td>\n",
       "      <td>14.253765</td>\n",
       "      <td>2.740840</td>\n",
       "      <td>4.852030</td>\n",
       "      <td>1.791759</td>\n",
       "      <td>-1.579879</td>\n",
       "      <td>7.090077</td>\n",
       "      <td>0.693147</td>\n",
       "      <td>8.476371</td>\n",
       "      <td>0.001000</td>\n",
       "      <td>-6.907755</td>\n",
       "      <td>-6.907755</td>\n",
       "      <td>2.995732</td>\n",
       "      <td>4.317488</td>\n",
       "      <td>8.070906</td>\n",
       "      <td>-2.484907</td>\n",
       "      <td>4.317488</td>\n",
       "    </tr>\n",
       "    <tr>\n",
       "      <th>7</th>\n",
       "      <td>450000</td>\n",
       "      <td>1</td>\n",
       "      <td>-6.907755</td>\n",
       "      <td>-6.899456</td>\n",
       "      <td>14.115615</td>\n",
       "      <td>2.734368</td>\n",
       "      <td>4.852030</td>\n",
       "      <td>1.791759</td>\n",
       "      <td>-1.676647</td>\n",
       "      <td>7.090077</td>\n",
       "      <td>1.098612</td>\n",
       "      <td>-6.907755</td>\n",
       "      <td>-6.907755</td>\n",
       "      <td>-6.907755</td>\n",
       "      <td>-6.907755</td>\n",
       "      <td>2.397895</td>\n",
       "      <td>4.174387</td>\n",
       "      <td>7.942718</td>\n",
       "      <td>-2.302585</td>\n",
       "      <td>4.174387</td>\n",
       "    </tr>\n",
       "    <tr>\n",
       "      <th>8</th>\n",
       "      <td>600000</td>\n",
       "      <td>2</td>\n",
       "      <td>-6.907755</td>\n",
       "      <td>-6.907755</td>\n",
       "      <td>13.764217</td>\n",
       "      <td>2.617396</td>\n",
       "      <td>4.852030</td>\n",
       "      <td>1.386294</td>\n",
       "      <td>-1.966113</td>\n",
       "      <td>7.090077</td>\n",
       "      <td>0.693147</td>\n",
       "      <td>-6.907755</td>\n",
       "      <td>-6.907755</td>\n",
       "      <td>-6.907755</td>\n",
       "      <td>-6.907755</td>\n",
       "      <td>2.564949</td>\n",
       "      <td>4.007333</td>\n",
       "      <td>7.785721</td>\n",
       "      <td>-2.302585</td>\n",
       "      <td>4.007333</td>\n",
       "    </tr>\n",
       "    <tr>\n",
       "      <th>9</th>\n",
       "      <td>420000</td>\n",
       "      <td>3</td>\n",
       "      <td>-6.907755</td>\n",
       "      <td>-6.907755</td>\n",
       "      <td>14.149838</td>\n",
       "      <td>2.842581</td>\n",
       "      <td>5.545177</td>\n",
       "      <td>2.484907</td>\n",
       "      <td>-1.629641</td>\n",
       "      <td>7.090077</td>\n",
       "      <td>0.693147</td>\n",
       "      <td>7.377760</td>\n",
       "      <td>0.001000</td>\n",
       "      <td>-6.907755</td>\n",
       "      <td>-6.907755</td>\n",
       "      <td>2.944439</td>\n",
       "      <td>3.912023</td>\n",
       "      <td>8.366370</td>\n",
       "      <td>-2.148434</td>\n",
       "      <td>4.110874</td>\n",
       "    </tr>\n",
       "  </tbody>\n",
       "</table>\n",
       "</div>"
      ],
      "text/plain": [
       "     price quality  favoritecount  viewcount       cost  screen_size  \\\n",
       "0   450000       3      -6.907755  -6.907755  13.963931     2.617396   \n",
       "1   530000       2      -6.907755  -6.639001  13.835313     2.734368   \n",
       "2   900000       3      -6.907755  -6.907755  14.220976     2.734368   \n",
       "3   560000       2      -6.907755  -6.711640  13.764217     2.617396   \n",
       "4   450000       3      -6.907755  -6.907755  13.963931     2.617396   \n",
       "5   500000       2      -6.899456  -6.595381  13.835313     2.734368   \n",
       "6  1220000       1      -6.907755  -6.698035  14.253765     2.740840   \n",
       "7   450000       1      -6.907755  -6.899456  14.115615     2.734368   \n",
       "8   600000       2      -6.907755  -6.907755  13.764217     2.617396   \n",
       "9   420000       3      -6.907755  -6.907755  14.149838     2.842581   \n",
       "\n",
       "   capacity       ram    weight  back_camera_1  back_camera_number_1  \\\n",
       "0  5.545177  1.386294 -2.017406       7.090077              0.693147   \n",
       "1  4.852030  1.386294 -1.820159       7.090077              0.693147   \n",
       "2  6.238325  1.386294 -1.754464       7.090077              0.693147   \n",
       "3  4.852030  1.386294 -1.966113       7.090077              0.693147   \n",
       "4  5.545177  1.386294 -2.017406       7.090077              0.693147   \n",
       "5  4.852030  1.386294 -1.820159       7.090077              0.693147   \n",
       "6  4.852030  1.791759 -1.579879       7.090077              0.693147   \n",
       "7  4.852030  1.791759 -1.676647       7.090077              1.098612   \n",
       "8  4.852030  1.386294 -1.966113       7.090077              0.693147   \n",
       "9  5.545177  2.484907 -1.629641       7.090077              0.693147   \n",
       "\n",
       "   back_camera_2  back_camera_number_2  back_camera_3  back_camera_number_3  \\\n",
       "0      -6.907755             -6.907755      -6.907755             -6.907755   \n",
       "1      -6.907755             -6.907755      -6.907755             -6.907755   \n",
       "2      -6.907755             -6.907755      -6.907755             -6.907755   \n",
       "3      -6.907755             -6.907755      -6.907755             -6.907755   \n",
       "4      -6.907755             -6.907755      -6.907755             -6.907755   \n",
       "5      -6.907755             -6.907755      -6.907755             -6.907755   \n",
       "6       8.476371              0.001000      -6.907755             -6.907755   \n",
       "7      -6.907755             -6.907755      -6.907755             -6.907755   \n",
       "8      -6.907755             -6.907755      -6.907755             -6.907755   \n",
       "9       7.377760              0.001000      -6.907755             -6.907755   \n",
       "\n",
       "   maximum_battery_lif  Max_audio_playback_time  battery_capacity     hours  \\\n",
       "0             2.302585                 3.912023          7.708411 -4.094345   \n",
       "1             2.397895                 4.174387          7.942718 -4.094345   \n",
       "2             2.708050                 4.317488          8.079308 -3.401197   \n",
       "3             2.564949                 4.007333          7.785721 -2.995732   \n",
       "4             2.302585                 3.912023          7.708411 -2.484907   \n",
       "5             2.397895                 4.174387          7.942718 -2.484907   \n",
       "6             2.995732                 4.317488          8.070906 -2.484907   \n",
       "7             2.397895                 4.174387          7.942718 -2.302585   \n",
       "8             2.564949                 4.007333          7.785721 -2.302585   \n",
       "9             2.944439                 3.912023          8.366370 -2.148434   \n",
       "\n",
       "   video_streaming_playback  \n",
       "0                  3.912023  \n",
       "1                  4.174387  \n",
       "2                  4.317488  \n",
       "3                  4.007333  \n",
       "4                  3.912023  \n",
       "5                  4.174387  \n",
       "6                  4.317488  \n",
       "7                  4.174387  \n",
       "8                  4.007333  \n",
       "9                  4.110874  "
      ]
     },
     "execution_count": 20,
     "metadata": {},
     "output_type": "execute_result"
    }
   ],
   "source": [
    "log_df.head(10)"
   ]
  },
  {
   "attachments": {},
   "cell_type": "markdown",
   "metadata": {},
   "source": [
    "## 스케일링(표준화)"
   ]
  },
  {
   "cell_type": "code",
   "execution_count": 21,
   "metadata": {},
   "outputs": [
    {
     "name": "stdout",
     "output_type": "stream",
     "text": [
      "price\n",
      "statistic: 0.8940, p-value: 0.000000\n",
      "데이터가 정규분포를 따르지 않습니다.\n",
      "quality\n",
      "statistic: 0.8586, p-value: 0.000000\n",
      "데이터가 정규분포를 따르지 않습니다.\n",
      "favoritecount\n",
      "statistic: 0.0992, p-value: 0.000000\n",
      "데이터가 정규분포를 따르지 않습니다.\n",
      "viewcount\n",
      "statistic: 0.4973, p-value: 0.000000\n",
      "데이터가 정규분포를 따르지 않습니다.\n",
      "cost\n",
      "statistic: 0.8420, p-value: 0.000000\n",
      "데이터가 정규분포를 따르지 않습니다.\n",
      "screen_size\n",
      "statistic: 0.7521, p-value: 0.000000\n",
      "데이터가 정규분포를 따르지 않습니다.\n",
      "capacity\n",
      "statistic: 0.8154, p-value: 0.000000\n",
      "데이터가 정규분포를 따르지 않습니다.\n",
      "ram\n",
      "statistic: 0.6981, p-value: 0.000000\n",
      "데이터가 정규분포를 따르지 않습니다.\n",
      "weight\n",
      "statistic: 0.8066, p-value: 0.000000\n",
      "데이터가 정규분포를 따르지 않습니다.\n",
      "back_camera_1\n",
      "statistic: 1.0000, p-value: 1.000000\n",
      "데이터가 정규분포를 따릅니다.\n",
      "back_camera_number_1\n",
      "statistic: 0.5049, p-value: 0.000000\n",
      "데이터가 정규분포를 따르지 않습니다.\n",
      "back_camera_2\n",
      "statistic: 0.6123, p-value: 0.000000\n",
      "데이터가 정규분포를 따르지 않습니다.\n",
      "back_camera_number_2\n",
      "statistic: 0.5861, p-value: 0.000000\n",
      "데이터가 정규분포를 따르지 않습니다.\n",
      "back_camera_3\n",
      "statistic: 0.2306, p-value: 0.000000\n",
      "데이터가 정규분포를 따르지 않습니다.\n",
      "back_camera_number_3\n",
      "statistic: 0.2287, p-value: 0.000000\n",
      "데이터가 정규분포를 따르지 않습니다.\n",
      "maximum_battery_lif\n",
      "statistic: 0.7339, p-value: 0.000000\n",
      "데이터가 정규분포를 따르지 않습니다.\n",
      "Max_audio_playback_time\n",
      "statistic: 0.9474, p-value: 0.000000\n",
      "데이터가 정규분포를 따르지 않습니다.\n",
      "battery_capacity\n",
      "statistic: 0.7190, p-value: 0.000000\n",
      "데이터가 정규분포를 따르지 않습니다.\n",
      "hours\n",
      "statistic: 0.9654, p-value: 0.000000\n",
      "데이터가 정규분포를 따르지 않습니다.\n",
      "video_streaming_playback\n",
      "statistic: 0.7937, p-value: 0.000000\n",
      "데이터가 정규분포를 따르지 않습니다.\n"
     ]
    },
    {
     "name": "stderr",
     "output_type": "stream",
     "text": [
      "c:\\Users\\dohee\\anaconda3\\lib\\site-packages\\scipy\\stats\\_morestats.py:1800: UserWarning: p-value may not be accurate for N > 5000.\n",
      "  warnings.warn(\"p-value may not be accurate for N > 5000.\")\n",
      "c:\\Users\\dohee\\anaconda3\\lib\\site-packages\\scipy\\stats\\_morestats.py:1797: UserWarning: Input data for shapiro has range zero. The results may not be accurate.\n",
      "  warnings.warn(\"Input data for shapiro has range zero. The results \"\n"
     ]
    }
   ],
   "source": [
    "def get_shapiro(df,column_name):\n",
    "    '''\n",
    "    정규성 검정 함수\n",
    "    '''\n",
    "    from scipy import stats\n",
    "    # 샤피로 검정\n",
    "    statistic, pvalue = stats.shapiro(df[column_name])\n",
    "    # 결과 출력\n",
    "    print(f'statistic: {statistic:.4f}, p-value: {pvalue:.6f}')\n",
    "    if pvalue > 0.05:\n",
    "        print('데이터가 정규분포를 따릅니다.')\n",
    "    else:\n",
    "        print('데이터가 정규분포를 따르지 않습니다.')\n",
    "\n",
    "for item in list(log_df.columns):\n",
    "    print(item)\n",
    "    get_shapiro(log_df,item) "
   ]
  },
  {
   "cell_type": "code",
   "execution_count": 22,
   "metadata": {},
   "outputs": [
    {
     "data": {
      "text/html": [
       "<div>\n",
       "<style scoped>\n",
       "    .dataframe tbody tr th:only-of-type {\n",
       "        vertical-align: middle;\n",
       "    }\n",
       "\n",
       "    .dataframe tbody tr th {\n",
       "        vertical-align: top;\n",
       "    }\n",
       "\n",
       "    .dataframe thead th {\n",
       "        text-align: right;\n",
       "    }\n",
       "</style>\n",
       "<table border=\"1\" class=\"dataframe\">\n",
       "  <thead>\n",
       "    <tr style=\"text-align: right;\">\n",
       "      <th></th>\n",
       "      <th>price</th>\n",
       "      <th>quality</th>\n",
       "      <th>favoritecount</th>\n",
       "      <th>viewcount</th>\n",
       "      <th>cost</th>\n",
       "      <th>screen_size</th>\n",
       "      <th>capacity</th>\n",
       "      <th>ram</th>\n",
       "      <th>weight</th>\n",
       "      <th>back_camera_1</th>\n",
       "      <th>back_camera_number_1</th>\n",
       "      <th>back_camera_2</th>\n",
       "      <th>back_camera_number_2</th>\n",
       "      <th>back_camera_3</th>\n",
       "      <th>back_camera_number_3</th>\n",
       "      <th>maximum_battery_lif</th>\n",
       "      <th>Max_audio_playback_time</th>\n",
       "      <th>battery_capacity</th>\n",
       "      <th>hours</th>\n",
       "      <th>video_streaming_playback</th>\n",
       "    </tr>\n",
       "  </thead>\n",
       "  <tbody>\n",
       "    <tr>\n",
       "      <th>0</th>\n",
       "      <td>450000</td>\n",
       "      <td>3</td>\n",
       "      <td>-0.165346</td>\n",
       "      <td>-0.510060</td>\n",
       "      <td>-0.860050</td>\n",
       "      <td>-2.479613</td>\n",
       "      <td>0.247167</td>\n",
       "      <td>-1.737464</td>\n",
       "      <td>-2.776924</td>\n",
       "      <td>2.664535e-15</td>\n",
       "      <td>-0.012156</td>\n",
       "      <td>-1.494786</td>\n",
       "      <td>-1.496285</td>\n",
       "      <td>-0.233226</td>\n",
       "      <td>-0.233436</td>\n",
       "      <td>-2.599913</td>\n",
       "      <td>-1.762666</td>\n",
       "      <td>-2.714087</td>\n",
       "      <td>-4.627487</td>\n",
       "      <td>-1.930999</td>\n",
       "    </tr>\n",
       "    <tr>\n",
       "      <th>1</th>\n",
       "      <td>530000</td>\n",
       "      <td>2</td>\n",
       "      <td>-0.165346</td>\n",
       "      <td>0.467155</td>\n",
       "      <td>-1.602968</td>\n",
       "      <td>-0.893245</td>\n",
       "      <td>-1.204506</td>\n",
       "      <td>-1.737464</td>\n",
       "      <td>-1.235904</td>\n",
       "      <td>2.664535e-15</td>\n",
       "      <td>-0.012156</td>\n",
       "      <td>-1.494786</td>\n",
       "      <td>-1.496285</td>\n",
       "      <td>-0.233226</td>\n",
       "      <td>-0.233436</td>\n",
       "      <td>-2.149634</td>\n",
       "      <td>-0.180309</td>\n",
       "      <td>-1.522264</td>\n",
       "      <td>-4.627487</td>\n",
       "      <td>0.109788</td>\n",
       "    </tr>\n",
       "    <tr>\n",
       "      <th>2</th>\n",
       "      <td>900000</td>\n",
       "      <td>3</td>\n",
       "      <td>-0.165346</td>\n",
       "      <td>-0.510060</td>\n",
       "      <td>0.624692</td>\n",
       "      <td>-0.893245</td>\n",
       "      <td>1.698840</td>\n",
       "      <td>-1.737464</td>\n",
       "      <td>-0.722651</td>\n",
       "      <td>2.664535e-15</td>\n",
       "      <td>-0.012156</td>\n",
       "      <td>-1.494786</td>\n",
       "      <td>-1.496285</td>\n",
       "      <td>-0.233226</td>\n",
       "      <td>-0.233436</td>\n",
       "      <td>-0.684352</td>\n",
       "      <td>0.682753</td>\n",
       "      <td>-0.827483</td>\n",
       "      <td>-4.269805</td>\n",
       "      <td>1.222890</td>\n",
       "    </tr>\n",
       "    <tr>\n",
       "      <th>3</th>\n",
       "      <td>560000</td>\n",
       "      <td>2</td>\n",
       "      <td>-0.165346</td>\n",
       "      <td>0.203032</td>\n",
       "      <td>-2.013631</td>\n",
       "      <td>-2.479613</td>\n",
       "      <td>-1.204506</td>\n",
       "      <td>-1.737464</td>\n",
       "      <td>-2.376188</td>\n",
       "      <td>2.664535e-15</td>\n",
       "      <td>-0.012156</td>\n",
       "      <td>-1.494786</td>\n",
       "      <td>-1.496285</td>\n",
       "      <td>-0.233226</td>\n",
       "      <td>-0.233436</td>\n",
       "      <td>-1.360411</td>\n",
       "      <td>-1.187837</td>\n",
       "      <td>-2.320842</td>\n",
       "      <td>-4.060574</td>\n",
       "      <td>-1.189634</td>\n",
       "    </tr>\n",
       "    <tr>\n",
       "      <th>4</th>\n",
       "      <td>450000</td>\n",
       "      <td>3</td>\n",
       "      <td>-0.165346</td>\n",
       "      <td>-0.510060</td>\n",
       "      <td>-0.860050</td>\n",
       "      <td>-2.479613</td>\n",
       "      <td>0.247167</td>\n",
       "      <td>-1.737464</td>\n",
       "      <td>-2.776924</td>\n",
       "      <td>2.664535e-15</td>\n",
       "      <td>-0.012156</td>\n",
       "      <td>-1.494786</td>\n",
       "      <td>-1.496285</td>\n",
       "      <td>-0.233226</td>\n",
       "      <td>-0.233436</td>\n",
       "      <td>-2.599913</td>\n",
       "      <td>-1.762666</td>\n",
       "      <td>-2.714087</td>\n",
       "      <td>-3.796975</td>\n",
       "      <td>-1.930999</td>\n",
       "    </tr>\n",
       "  </tbody>\n",
       "</table>\n",
       "</div>"
      ],
      "text/plain": [
       "    price quality  favoritecount  viewcount      cost  screen_size  capacity  \\\n",
       "0  450000       3      -0.165346  -0.510060 -0.860050    -2.479613  0.247167   \n",
       "1  530000       2      -0.165346   0.467155 -1.602968    -0.893245 -1.204506   \n",
       "2  900000       3      -0.165346  -0.510060  0.624692    -0.893245  1.698840   \n",
       "3  560000       2      -0.165346   0.203032 -2.013631    -2.479613 -1.204506   \n",
       "4  450000       3      -0.165346  -0.510060 -0.860050    -2.479613  0.247167   \n",
       "\n",
       "        ram    weight  back_camera_1  back_camera_number_1  back_camera_2  \\\n",
       "0 -1.737464 -2.776924   2.664535e-15             -0.012156      -1.494786   \n",
       "1 -1.737464 -1.235904   2.664535e-15             -0.012156      -1.494786   \n",
       "2 -1.737464 -0.722651   2.664535e-15             -0.012156      -1.494786   \n",
       "3 -1.737464 -2.376188   2.664535e-15             -0.012156      -1.494786   \n",
       "4 -1.737464 -2.776924   2.664535e-15             -0.012156      -1.494786   \n",
       "\n",
       "   back_camera_number_2  back_camera_3  back_camera_number_3  \\\n",
       "0             -1.496285      -0.233226             -0.233436   \n",
       "1             -1.496285      -0.233226             -0.233436   \n",
       "2             -1.496285      -0.233226             -0.233436   \n",
       "3             -1.496285      -0.233226             -0.233436   \n",
       "4             -1.496285      -0.233226             -0.233436   \n",
       "\n",
       "   maximum_battery_lif  Max_audio_playback_time  battery_capacity     hours  \\\n",
       "0            -2.599913                -1.762666         -2.714087 -4.627487   \n",
       "1            -2.149634                -0.180309         -1.522264 -4.627487   \n",
       "2            -0.684352                 0.682753         -0.827483 -4.269805   \n",
       "3            -1.360411                -1.187837         -2.320842 -4.060574   \n",
       "4            -2.599913                -1.762666         -2.714087 -3.796975   \n",
       "\n",
       "   video_streaming_playback  \n",
       "0                 -1.930999  \n",
       "1                  0.109788  \n",
       "2                  1.222890  \n",
       "3                 -1.189634  \n",
       "4                 -1.930999  "
      ]
     },
     "execution_count": 22,
     "metadata": {},
     "output_type": "execute_result"
    }
   ],
   "source": [
    "# 정규분포를 따르지 않을 경우 => 정규화 스케일링이지만, 표준화도 확인 진행\n",
    "\n",
    "def get_standard_scaler(df, exclude_columns=['quality', 'price']):\n",
    "    '''\n",
    "    표준화 스케일링\n",
    "    quality(카테고리형), price(종속변수) 열을 제외한 스케일링 함수\n",
    "    '''\n",
    "    from sklearn.preprocessing import StandardScaler\n",
    "    scaler = StandardScaler()\n",
    "    scaled_df = df.copy()\n",
    "\n",
    "    for column in df.columns:\n",
    "        if column not in exclude_columns: \n",
    "            scaled_values = scaler.fit_transform(scaled_df[[column]])  # Scale the values\n",
    "            scaled_df[column] = scaled_values  # Assign the scaled values back to the dataframe\n",
    "\n",
    "    return scaled_df\n",
    "\n",
    "scaled_df = get_standard_scaler(log_df)\n",
    "scaled_df.head(5)"
   ]
  },
  {
   "cell_type": "code",
   "execution_count": 58,
   "metadata": {},
   "outputs": [],
   "source": [
    "scaled_df.to_csv(\"C:/Python_practice/DL_project/final_project/no_Yongsan_yes_Doksan/DA/dataset/smartphone_standardscaled_modeling_v2.csv\", index=False)"
   ]
  },
  {
   "cell_type": "code",
   "execution_count": 1,
   "metadata": {},
   "outputs": [
    {
     "data": {
      "text/html": [
       "<div>\n",
       "<style scoped>\n",
       "    .dataframe tbody tr th:only-of-type {\n",
       "        vertical-align: middle;\n",
       "    }\n",
       "\n",
       "    .dataframe tbody tr th {\n",
       "        vertical-align: top;\n",
       "    }\n",
       "\n",
       "    .dataframe thead th {\n",
       "        text-align: right;\n",
       "    }\n",
       "</style>\n",
       "<table border=\"1\" class=\"dataframe\">\n",
       "  <thead>\n",
       "    <tr style=\"text-align: right;\">\n",
       "      <th></th>\n",
       "      <th>price</th>\n",
       "      <th>quality</th>\n",
       "      <th>favoritecount</th>\n",
       "      <th>viewcount</th>\n",
       "      <th>cost</th>\n",
       "      <th>screen_size</th>\n",
       "      <th>capacity</th>\n",
       "      <th>ram</th>\n",
       "      <th>weight</th>\n",
       "      <th>back_camera_1</th>\n",
       "      <th>back_camera_number_1</th>\n",
       "      <th>back_camera_2</th>\n",
       "      <th>back_camera_number_2</th>\n",
       "      <th>back_camera_3</th>\n",
       "      <th>back_camera_number_3</th>\n",
       "      <th>maximum_battery_lif</th>\n",
       "      <th>Max_audio_playback_time</th>\n",
       "      <th>battery_capacity</th>\n",
       "      <th>hours</th>\n",
       "      <th>video_streaming_playback</th>\n",
       "    </tr>\n",
       "  </thead>\n",
       "  <tbody>\n",
       "    <tr>\n",
       "      <th>0</th>\n",
       "      <td>450000</td>\n",
       "      <td>3</td>\n",
       "      <td>-0.165346</td>\n",
       "      <td>-0.510060</td>\n",
       "      <td>-0.860050</td>\n",
       "      <td>-2.479613</td>\n",
       "      <td>0.247167</td>\n",
       "      <td>-1.737464</td>\n",
       "      <td>-2.776924</td>\n",
       "      <td>2.664535e-15</td>\n",
       "      <td>-0.012156</td>\n",
       "      <td>-1.494786</td>\n",
       "      <td>-1.496285</td>\n",
       "      <td>-0.233226</td>\n",
       "      <td>-0.233436</td>\n",
       "      <td>-2.599913</td>\n",
       "      <td>-1.762666</td>\n",
       "      <td>-2.714087</td>\n",
       "      <td>-4.627487</td>\n",
       "      <td>-1.930999</td>\n",
       "    </tr>\n",
       "    <tr>\n",
       "      <th>1</th>\n",
       "      <td>530000</td>\n",
       "      <td>2</td>\n",
       "      <td>-0.165346</td>\n",
       "      <td>0.467155</td>\n",
       "      <td>-1.602968</td>\n",
       "      <td>-0.893245</td>\n",
       "      <td>-1.204506</td>\n",
       "      <td>-1.737464</td>\n",
       "      <td>-1.235904</td>\n",
       "      <td>2.664535e-15</td>\n",
       "      <td>-0.012156</td>\n",
       "      <td>-1.494786</td>\n",
       "      <td>-1.496285</td>\n",
       "      <td>-0.233226</td>\n",
       "      <td>-0.233436</td>\n",
       "      <td>-2.149634</td>\n",
       "      <td>-0.180309</td>\n",
       "      <td>-1.522264</td>\n",
       "      <td>-4.627487</td>\n",
       "      <td>0.109788</td>\n",
       "    </tr>\n",
       "    <tr>\n",
       "      <th>2</th>\n",
       "      <td>900000</td>\n",
       "      <td>3</td>\n",
       "      <td>-0.165346</td>\n",
       "      <td>-0.510060</td>\n",
       "      <td>0.624692</td>\n",
       "      <td>-0.893245</td>\n",
       "      <td>1.698840</td>\n",
       "      <td>-1.737464</td>\n",
       "      <td>-0.722651</td>\n",
       "      <td>2.664535e-15</td>\n",
       "      <td>-0.012156</td>\n",
       "      <td>-1.494786</td>\n",
       "      <td>-1.496285</td>\n",
       "      <td>-0.233226</td>\n",
       "      <td>-0.233436</td>\n",
       "      <td>-0.684352</td>\n",
       "      <td>0.682753</td>\n",
       "      <td>-0.827483</td>\n",
       "      <td>-4.269805</td>\n",
       "      <td>1.222890</td>\n",
       "    </tr>\n",
       "  </tbody>\n",
       "</table>\n",
       "</div>"
      ],
      "text/plain": [
       "    price  quality  favoritecount  viewcount      cost  screen_size  capacity  \\\n",
       "0  450000        3      -0.165346  -0.510060 -0.860050    -2.479613  0.247167   \n",
       "1  530000        2      -0.165346   0.467155 -1.602968    -0.893245 -1.204506   \n",
       "2  900000        3      -0.165346  -0.510060  0.624692    -0.893245  1.698840   \n",
       "\n",
       "        ram    weight  back_camera_1  back_camera_number_1  back_camera_2  \\\n",
       "0 -1.737464 -2.776924   2.664535e-15             -0.012156      -1.494786   \n",
       "1 -1.737464 -1.235904   2.664535e-15             -0.012156      -1.494786   \n",
       "2 -1.737464 -0.722651   2.664535e-15             -0.012156      -1.494786   \n",
       "\n",
       "   back_camera_number_2  back_camera_3  back_camera_number_3  \\\n",
       "0             -1.496285      -0.233226             -0.233436   \n",
       "1             -1.496285      -0.233226             -0.233436   \n",
       "2             -1.496285      -0.233226             -0.233436   \n",
       "\n",
       "   maximum_battery_lif  Max_audio_playback_time  battery_capacity     hours  \\\n",
       "0            -2.599913                -1.762666         -2.714087 -4.627487   \n",
       "1            -2.149634                -0.180309         -1.522264 -4.627487   \n",
       "2            -0.684352                 0.682753         -0.827483 -4.269805   \n",
       "\n",
       "   video_streaming_playback  \n",
       "0                 -1.930999  \n",
       "1                  0.109788  \n",
       "2                  1.222890  "
      ]
     },
     "execution_count": 1,
     "metadata": {},
     "output_type": "execute_result"
    }
   ],
   "source": [
    "import pandas as pd\n",
    "import numpy as np\n",
    "\n",
    "scaled_df = pd.read_csv(\"C:/Python_practice/DL_project/final_project/no_Yongsan_yes_Doksan/DA/dataset/smartphone_standardscaled_modeling_v2.csv\")\n",
    "scaled_df.head(3)"
   ]
  },
  {
   "attachments": {},
   "cell_type": "markdown",
   "metadata": {},
   "source": [
    "## RandomForestRegressor 를 이용한 가격 예측"
   ]
  },
  {
   "cell_type": "code",
   "execution_count": 2,
   "metadata": {},
   "outputs": [],
   "source": [
    "from sklearn.model_selection import train_test_split\n",
    "from sklearn.feature_extraction import DictVectorizer\n",
    "from sklearn.ensemble import RandomForestRegressor\n",
    "from sklearn.metrics import r2_score, mean_squared_error"
   ]
  },
  {
   "cell_type": "code",
   "execution_count": null,
   "metadata": {},
   "outputs": [],
   "source": [
    "# 평가 지표\n",
    "# ★ 평균 제곱 오차(MSE)  → 이상치가 적은 경우에는 MSE가 더 적합\n",
    "# ★ 결정 계수(R2)\n",
    "\n",
    "# n_estimators : 생성할 트리 개수"
   ]
  },
  {
   "cell_type": "code",
   "execution_count": 3,
   "metadata": {},
   "outputs": [],
   "source": [
    "# 학습 데이터, 테스트 데이터 분리\n",
    "x = scaled_df.loc[:, scaled_df.columns != 'price']\n",
    "y = scaled_df['price']\n",
    "\n",
    "x_train, x_test, y_train, y_test = train_test_split(x, y, test_size = 0.3, random_state=42)"
   ]
  },
  {
   "cell_type": "code",
   "execution_count": 26,
   "metadata": {},
   "outputs": [
    {
     "name": "stdout",
     "output_type": "stream",
     "text": [
      "mse : 18331890188.151\n",
      "rmse : 135395.311\n",
      "r2 : 0.823\n"
     ]
    }
   ],
   "source": [
    "# 모델 학습\n",
    "random_f = RandomForestRegressor(n_estimators = 1000, criterion = 'squared_error')\n",
    "random_f.fit(x_train, y_train)\n",
    "y_pred = random_f.predict(x_test)\n",
    "\n",
    "# 모델 평가\n",
    "from evaluate_score import evaluate_score\n",
    "evaluate_score(y_test, y_pred)"
   ]
  },
  {
   "cell_type": "code",
   "execution_count": 30,
   "metadata": {},
   "outputs": [
    {
     "data": {
      "text/plain": [
       "[('Max_audio_playback_time', 0.6390442162816502),\n",
       " ('cost', 0.09559539844654964),\n",
       " ('hours', 0.06827399691476956),\n",
       " ('viewcount', 0.0623529057790956),\n",
       " ('quality', 0.0596165311310549),\n",
       " ('favoritecount', 0.027351212090046668),\n",
       " ('capacity', 0.01699114526231848),\n",
       " ('ram', 0.007557349416800796),\n",
       " ('weight', 0.0069031298792428305),\n",
       " ('screen_size', 0.003594639272507596),\n",
       " ('battery_capacity', 0.003205437149745557),\n",
       " ('back_camera_2', 0.0023864179956024022),\n",
       " ('maximum_battery_lif', 0.0020010957630245334),\n",
       " ('video_streaming_playback', 0.0016693368996048518),\n",
       " ('back_camera_number_2', 0.0014210262374800607),\n",
       " ('back_camera_3', 0.0010628385361423165),\n",
       " ('back_camera_number_1', 0.0006929460426922515),\n",
       " ('back_camera_number_3', 0.000280376901671941),\n",
       " ('back_camera_1', 0.0)]"
      ]
     },
     "execution_count": 30,
     "metadata": {},
     "output_type": "execute_result"
    }
   ],
   "source": [
    "# 피처 중요도 확인\n",
    "feat_labels = x.columns.tolist()\n",
    "feature = list(zip(feat_labels, random_f.feature_importances_))\n",
    "sorted(feature, key=lambda tup:tup[1], reverse = True)"
   ]
  },
  {
   "attachments": {},
   "cell_type": "markdown",
   "metadata": {},
   "source": [
    "### optuna를 활용한 모델 개선"
   ]
  },
  {
   "cell_type": "code",
   "execution_count": 28,
   "metadata": {},
   "outputs": [],
   "source": [
    "#!pip install optuna"
   ]
  },
  {
   "cell_type": "code",
   "execution_count": 42,
   "metadata": {},
   "outputs": [],
   "source": [
    "import optuna\n",
    "\n",
    "def objective(trial):\n",
    "    # Define the search space for each parameter\n",
    "    n_estimators = trial.suggest_int('n_estimators', 100, 4000)\n",
    "    max_depth = trial.suggest_int('max_depth', 2, 20)\n",
    "    min_samples_split = trial.suggest_int('min_samples_split', 2, 10)\n",
    "    min_samples_leaf = trial.suggest_int('min_samples_leaf', 1, 10)\n",
    "    max_features = trial.suggest_categorical('max_features', [1.0, 'sqrt', 'log2'])\n",
    "    \n",
    "    # 모델 학습\n",
    "    random_f2 = RandomForestRegressor(n_estimators=n_estimators,\n",
    "                                     max_depth=max_depth,\n",
    "                                     min_samples_split=min_samples_split,\n",
    "                                     min_samples_leaf=min_samples_leaf,\n",
    "                                     max_features=max_features,\n",
    "                                     random_state=42)\n",
    "    random_f2.fit(x_train, y_train)\n",
    "    \n",
    "    # 예측\n",
    "    y_pred = random_f2.predict(x_test)\n",
    "    \n",
    "    # 모델 평가    \n",
    "    mse = mean_squared_error(y_test, y_pred)\n",
    "    rmse = np.sqrt(mse)\n",
    "    r2 = r2_score(y_test, y_pred)\n",
    "\n",
    "    print(f\"mse : {mse}\")\n",
    "    print(f\"rmse : {rmse}\")\n",
    "    print(f\"r2 : {r2}\")\n",
    "    \n",
    "    return mse"
   ]
  },
  {
   "cell_type": "code",
   "execution_count": 44,
   "metadata": {},
   "outputs": [
    {
     "name": "stderr",
     "output_type": "stream",
     "text": [
      "[I 2023-06-13 08:28:06,145] A new study created in memory with name: no-name-e01c82b0-3f6f-4a59-97e4-0662e8e3ea62\n",
      "[I 2023-06-13 08:28:25,684] Trial 0 finished with value: 17443112165.254627 and parameters: {'n_estimators': 526, 'max_depth': 13, 'min_samples_split': 6, 'min_samples_leaf': 3, 'max_features': 1.0}. Best is trial 0 with value: 17443112165.254627.\n"
     ]
    },
    {
     "name": "stdout",
     "output_type": "stream",
     "text": [
      "mse : 17443112165.254627\n",
      "rmse : 132072.37472406798\n",
      "r2 : 0.8315424360875325\n"
     ]
    },
    {
     "name": "stderr",
     "output_type": "stream",
     "text": [
      "[I 2023-06-13 08:28:29,532] Trial 1 finished with value: 37091396500.26306 and parameters: {'n_estimators': 761, 'max_depth': 4, 'min_samples_split': 6, 'min_samples_leaf': 2, 'max_features': 'sqrt'}. Best is trial 0 with value: 17443112165.254627.\n"
     ]
    },
    {
     "name": "stdout",
     "output_type": "stream",
     "text": [
      "mse : 37091396500.26306\n",
      "rmse : 192591.26797511632\n",
      "r2 : 0.6417883324174263\n"
     ]
    },
    {
     "name": "stderr",
     "output_type": "stream",
     "text": [
      "[I 2023-06-13 08:29:40,221] Trial 2 finished with value: 19027763253.219746 and parameters: {'n_estimators': 3481, 'max_depth': 8, 'min_samples_split': 2, 'min_samples_leaf': 7, 'max_features': 1.0}. Best is trial 0 with value: 17443112165.254627.\n"
     ]
    },
    {
     "name": "stdout",
     "output_type": "stream",
     "text": [
      "mse : 19027763253.219746\n",
      "rmse : 137941.15866274195\n",
      "r2 : 0.8162386038699319\n"
     ]
    },
    {
     "name": "stderr",
     "output_type": "stream",
     "text": [
      "[I 2023-06-13 08:29:43,822] Trial 3 finished with value: 27034247183.1678 and parameters: {'n_estimators': 559, 'max_depth': 7, 'min_samples_split': 4, 'min_samples_leaf': 10, 'max_features': 'sqrt'}. Best is trial 0 with value: 17443112165.254627.\n"
     ]
    },
    {
     "name": "stdout",
     "output_type": "stream",
     "text": [
      "mse : 27034247183.1678\n",
      "rmse : 164420.9450865911\n",
      "r2 : 0.7389156602595603\n"
     ]
    },
    {
     "name": "stderr",
     "output_type": "stream",
     "text": [
      "[I 2023-06-13 08:29:54,450] Trial 4 finished with value: 37836833451.26327 and parameters: {'n_estimators': 2622, 'max_depth': 4, 'min_samples_split': 5, 'min_samples_leaf': 8, 'max_features': 'log2'}. Best is trial 0 with value: 17443112165.254627.\n"
     ]
    },
    {
     "name": "stdout",
     "output_type": "stream",
     "text": [
      "mse : 37836833451.26327\n",
      "rmse : 194516.92330299507\n",
      "r2 : 0.6345892447989927\n"
     ]
    },
    {
     "name": "stderr",
     "output_type": "stream",
     "text": [
      "[I 2023-06-13 08:29:55,374] Trial 5 finished with value: 23222496066.92408 and parameters: {'n_estimators': 104, 'max_depth': 9, 'min_samples_split': 5, 'min_samples_leaf': 7, 'max_features': 'sqrt'}. Best is trial 0 with value: 17443112165.254627.\n"
     ]
    },
    {
     "name": "stdout",
     "output_type": "stream",
     "text": [
      "mse : 23222496066.92408\n",
      "rmse : 152389.29118190715\n",
      "r2 : 0.7757278014187566\n"
     ]
    },
    {
     "name": "stderr",
     "output_type": "stream",
     "text": [
      "[I 2023-06-13 08:30:03,087] Trial 6 finished with value: 20364122344.33021 and parameters: {'n_estimators': 774, 'max_depth': 11, 'min_samples_split': 3, 'min_samples_leaf': 2, 'max_features': 'sqrt'}. Best is trial 0 with value: 17443112165.254627.\n"
     ]
    },
    {
     "name": "stdout",
     "output_type": "stream",
     "text": [
      "mse : 20364122344.33021\n",
      "rmse : 142702.91638340897\n",
      "r2 : 0.8033326616924132\n"
     ]
    },
    {
     "name": "stderr",
     "output_type": "stream",
     "text": [
      "[I 2023-06-13 08:30:35,112] Trial 7 finished with value: 20713931671.81403 and parameters: {'n_estimators': 2500, 'max_depth': 14, 'min_samples_split': 3, 'min_samples_leaf': 9, 'max_features': 'sqrt'}. Best is trial 0 with value: 17443112165.254627.\n"
     ]
    },
    {
     "name": "stdout",
     "output_type": "stream",
     "text": [
      "mse : 20713931671.81403\n",
      "rmse : 143923.35346223012\n",
      "r2 : 0.799954363910257\n"
     ]
    },
    {
     "name": "stderr",
     "output_type": "stream",
     "text": [
      "[I 2023-06-13 08:31:02,511] Trial 8 finished with value: 19146478609.938015 and parameters: {'n_estimators': 2054, 'max_depth': 18, 'min_samples_split': 2, 'min_samples_leaf': 5, 'max_features': 'sqrt'}. Best is trial 0 with value: 17443112165.254627.\n"
     ]
    },
    {
     "name": "stdout",
     "output_type": "stream",
     "text": [
      "mse : 19146478609.938015\n",
      "rmse : 138370.80114654975\n",
      "r2 : 0.8150921054926759\n"
     ]
    },
    {
     "name": "stderr",
     "output_type": "stream",
     "text": [
      "[I 2023-06-13 08:31:27,841] Trial 9 finished with value: 35494447212.34929 and parameters: {'n_estimators': 2564, 'max_depth': 3, 'min_samples_split': 4, 'min_samples_leaf': 1, 'max_features': 1.0}. Best is trial 0 with value: 17443112165.254627.\n"
     ]
    },
    {
     "name": "stdout",
     "output_type": "stream",
     "text": [
      "mse : 35494447212.34929\n",
      "rmse : 188399.700669479\n",
      "r2 : 0.6572109350003281\n"
     ]
    },
    {
     "name": "stderr",
     "output_type": "stream",
     "text": [
      "[I 2023-06-13 08:32:23,629] Trial 10 finished with value: 17489145151.535202 and parameters: {'n_estimators': 1517, 'max_depth': 20, 'min_samples_split': 9, 'min_samples_leaf': 4, 'max_features': 1.0}. Best is trial 0 with value: 17443112165.254627.\n"
     ]
    },
    {
     "name": "stdout",
     "output_type": "stream",
     "text": [
      "mse : 17489145151.535202\n",
      "rmse : 132246.53171836003\n",
      "r2 : 0.8310978706536251\n"
     ]
    },
    {
     "name": "stderr",
     "output_type": "stream",
     "text": [
      "[I 2023-06-13 08:33:15,937] Trial 11 finished with value: 17493658976.098362 and parameters: {'n_estimators': 1357, 'max_depth': 20, 'min_samples_split': 9, 'min_samples_leaf': 4, 'max_features': 1.0}. Best is trial 0 with value: 17443112165.254627.\n"
     ]
    },
    {
     "name": "stdout",
     "output_type": "stream",
     "text": [
      "mse : 17493658976.098362\n",
      "rmse : 132263.5965642034\n",
      "r2 : 0.8310542782096487\n"
     ]
    },
    {
     "name": "stderr",
     "output_type": "stream",
     "text": [
      "[I 2023-06-13 08:34:17,320] Trial 12 finished with value: 17479714109.20196 and parameters: {'n_estimators': 1471, 'max_depth': 15, 'min_samples_split': 9, 'min_samples_leaf': 4, 'max_features': 1.0}. Best is trial 0 with value: 17443112165.254627.\n"
     ]
    },
    {
     "name": "stdout",
     "output_type": "stream",
     "text": [
      "mse : 17479714109.20196\n",
      "rmse : 132210.86986024244\n",
      "r2 : 0.8311889513278512\n"
     ]
    },
    {
     "name": "stderr",
     "output_type": "stream",
     "text": [
      "[I 2023-06-13 08:35:13,763] Trial 13 finished with value: 17438060951.437706 and parameters: {'n_estimators': 1484, 'max_depth': 15, 'min_samples_split': 8, 'min_samples_leaf': 3, 'max_features': 1.0}. Best is trial 13 with value: 17438060951.437706.\n"
     ]
    },
    {
     "name": "stdout",
     "output_type": "stream",
     "text": [
      "mse : 17438060951.437706\n",
      "rmse : 132053.25043874423\n",
      "r2 : 0.8315912183900447\n"
     ]
    },
    {
     "name": "stderr",
     "output_type": "stream",
     "text": [
      "[I 2023-06-13 08:35:16,310] Trial 14 finished with value: 19081758467.644077 and parameters: {'n_estimators': 204, 'max_depth': 14, 'min_samples_split': 7, 'min_samples_leaf': 3, 'max_features': 'log2'}. Best is trial 13 with value: 17438060951.437706.\n"
     ]
    },
    {
     "name": "stdout",
     "output_type": "stream",
     "text": [
      "mse : 19081758467.644077\n",
      "rmse : 138136.73829812283\n",
      "r2 : 0.8157171428944661\n"
     ]
    },
    {
     "name": "stderr",
     "output_type": "stream",
     "text": [
      "[I 2023-06-13 08:35:59,997] Trial 15 finished with value: 17632506371.186916 and parameters: {'n_estimators': 1158, 'max_depth': 16, 'min_samples_split': 7, 'min_samples_leaf': 1, 'max_features': 1.0}. Best is trial 13 with value: 17438060951.437706.\n"
     ]
    },
    {
     "name": "stdout",
     "output_type": "stream",
     "text": [
      "mse : 17632506371.186916\n",
      "rmse : 132787.44809351114\n",
      "r2 : 0.8297133538544869\n"
     ]
    },
    {
     "name": "stderr",
     "output_type": "stream",
     "text": [
      "[I 2023-06-13 08:37:44,519] Trial 16 finished with value: 17785420449.3355 and parameters: {'n_estimators': 3895, 'max_depth': 12, 'min_samples_split': 7, 'min_samples_leaf': 6, 'max_features': 1.0}. Best is trial 13 with value: 17438060951.437706.\n"
     ]
    },
    {
     "name": "stdout",
     "output_type": "stream",
     "text": [
      "mse : 17785420449.3355\n",
      "rmse : 133361.99027209927\n",
      "r2 : 0.8282365799365766\n"
     ]
    },
    {
     "name": "stderr",
     "output_type": "stream",
     "text": [
      "[I 2023-06-13 08:38:42,643] Trial 17 finished with value: 17646688646.97581 and parameters: {'n_estimators': 2123, 'max_depth': 12, 'min_samples_split': 10, 'min_samples_leaf': 3, 'max_features': 1.0}. Best is trial 13 with value: 17438060951.437706.\n"
     ]
    },
    {
     "name": "stdout",
     "output_type": "stream",
     "text": [
      "mse : 17646688646.97581\n",
      "rmse : 132840.83952977642\n",
      "r2 : 0.8295763879502664\n"
     ]
    },
    {
     "name": "stderr",
     "output_type": "stream",
     "text": [
      "[I 2023-06-13 08:38:52,747] Trial 18 finished with value: 19148024934.466995 and parameters: {'n_estimators': 996, 'max_depth': 17, 'min_samples_split': 8, 'min_samples_leaf': 5, 'max_features': 'log2'}. Best is trial 13 with value: 17438060951.437706.\n"
     ]
    },
    {
     "name": "stdout",
     "output_type": "stream",
     "text": [
      "mse : 19148024934.466995\n",
      "rmse : 138376.38864512614\n",
      "r2 : 0.8150771718007577\n"
     ]
    },
    {
     "name": "stderr",
     "output_type": "stream",
     "text": [
      "[I 2023-06-13 08:39:36,077] Trial 19 finished with value: 17915681838.794666 and parameters: {'n_estimators': 1808, 'max_depth': 10, 'min_samples_split': 6, 'min_samples_leaf': 3, 'max_features': 1.0}. Best is trial 13 with value: 17438060951.437706.\n"
     ]
    },
    {
     "name": "stdout",
     "output_type": "stream",
     "text": [
      "mse : 17915681838.794666\n",
      "rmse : 133849.47455554194\n",
      "r2 : 0.8269785752793656\n"
     ]
    },
    {
     "name": "stderr",
     "output_type": "stream",
     "text": [
      "[I 2023-06-13 08:39:47,858] Trial 20 finished with value: 17537494088.7185 and parameters: {'n_estimators': 393, 'max_depth': 13, 'min_samples_split': 8, 'min_samples_leaf': 2, 'max_features': 1.0}. Best is trial 13 with value: 17438060951.437706.\n"
     ]
    },
    {
     "name": "stdout",
     "output_type": "stream",
     "text": [
      "mse : 17537494088.7185\n",
      "rmse : 132429.20406284445\n",
      "r2 : 0.830630938829849\n"
     ]
    },
    {
     "name": "stderr",
     "output_type": "stream",
     "text": [
      "[I 2023-06-13 08:40:40,034] Trial 21 finished with value: 17474901699.372074 and parameters: {'n_estimators': 1647, 'max_depth': 15, 'min_samples_split': 9, 'min_samples_leaf': 4, 'max_features': 1.0}. Best is trial 13 with value: 17438060951.437706.\n"
     ]
    },
    {
     "name": "stdout",
     "output_type": "stream",
     "text": [
      "mse : 17474901699.372074\n",
      "rmse : 132192.66885637824\n",
      "r2 : 0.8312354273711634\n"
     ]
    },
    {
     "name": "stderr",
     "output_type": "stream",
     "text": [
      "[I 2023-06-13 08:41:40,711] Trial 22 finished with value: 17493095232.642628 and parameters: {'n_estimators': 1831, 'max_depth': 16, 'min_samples_split': 10, 'min_samples_leaf': 4, 'max_features': 1.0}. Best is trial 13 with value: 17438060951.437706.\n"
     ]
    },
    {
     "name": "stdout",
     "output_type": "stream",
     "text": [
      "mse : 17493095232.642628\n",
      "rmse : 132261.46541091485\n",
      "r2 : 0.83105972258496\n"
     ]
    },
    {
     "name": "stderr",
     "output_type": "stream",
     "text": [
      "[I 2023-06-13 08:43:03,078] Trial 23 finished with value: 17696153302.80278 and parameters: {'n_estimators': 2917, 'max_depth': 14, 'min_samples_split': 8, 'min_samples_leaf': 6, 'max_features': 1.0}. Best is trial 13 with value: 17438060951.437706.\n"
     ]
    },
    {
     "name": "stdout",
     "output_type": "stream",
     "text": [
      "mse : 17696153302.80278\n",
      "rmse : 133026.88939760556\n",
      "r2 : 0.8290986810283917\n"
     ]
    },
    {
     "name": "stderr",
     "output_type": "stream",
     "text": [
      "[I 2023-06-13 08:43:41,390] Trial 24 finished with value: 17444581973.837265 and parameters: {'n_estimators': 1135, 'max_depth': 17, 'min_samples_split': 8, 'min_samples_leaf': 3, 'max_features': 1.0}. Best is trial 13 with value: 17438060951.437706.\n"
     ]
    },
    {
     "name": "stdout",
     "output_type": "stream",
     "text": [
      "mse : 17444581973.837265\n",
      "rmse : 132077.93901268017\n",
      "r2 : 0.8315282413514726\n"
     ]
    },
    {
     "name": "stderr",
     "output_type": "stream",
     "text": [
      "[I 2023-06-13 08:43:54,283] Trial 25 finished with value: 18101949585.193985 and parameters: {'n_estimators': 1057, 'max_depth': 18, 'min_samples_split': 7, 'min_samples_leaf': 2, 'max_features': 'log2'}. Best is trial 13 with value: 17438060951.437706.\n"
     ]
    },
    {
     "name": "stdout",
     "output_type": "stream",
     "text": [
      "mse : 18101949585.193985\n",
      "rmse : 134543.48585195042\n",
      "r2 : 0.8251796869561914\n"
     ]
    },
    {
     "name": "stderr",
     "output_type": "stream",
     "text": [
      "[I 2023-06-13 08:44:23,376] Trial 26 finished with value: 17408547775.73035 and parameters: {'n_estimators': 843, 'max_depth': 18, 'min_samples_split': 5, 'min_samples_leaf': 3, 'max_features': 1.0}. Best is trial 26 with value: 17408547775.73035.\n"
     ]
    },
    {
     "name": "stdout",
     "output_type": "stream",
     "text": [
      "mse : 17408547775.73035\n",
      "rmse : 131941.455864828\n",
      "r2 : 0.8318762430826501\n"
     ]
    },
    {
     "name": "stderr",
     "output_type": "stream",
     "text": [
      "[I 2023-06-13 08:44:49,051] Trial 27 finished with value: 17715258559.29548 and parameters: {'n_estimators': 655, 'max_depth': 19, 'min_samples_split': 5, 'min_samples_leaf': 1, 'max_features': 1.0}. Best is trial 26 with value: 17408547775.73035.\n"
     ]
    },
    {
     "name": "stdout",
     "output_type": "stream",
     "text": [
      "mse : 17715258559.29548\n",
      "rmse : 133098.67978043764\n",
      "r2 : 0.8289141712381551\n"
     ]
    },
    {
     "name": "stderr",
     "output_type": "stream",
     "text": [
      "[I 2023-06-13 08:45:04,278] Trial 28 finished with value: 17529575157.421535 and parameters: {'n_estimators': 491, 'max_depth': 18, 'min_samples_split': 6, 'min_samples_leaf': 5, 'max_features': 1.0}. Best is trial 26 with value: 17408547775.73035.\n"
     ]
    },
    {
     "name": "stdout",
     "output_type": "stream",
     "text": [
      "mse : 17529575157.421535\n",
      "rmse : 132399.30195216867\n",
      "r2 : 0.8307074162303517\n"
     ]
    },
    {
     "name": "stderr",
     "output_type": "stream",
     "text": [
      "[I 2023-06-13 08:45:14,992] Trial 29 finished with value: 18267544710.24604 and parameters: {'n_estimators': 755, 'max_depth': 16, 'min_samples_split': 5, 'min_samples_leaf': 2, 'max_features': 'log2'}. Best is trial 26 with value: 17408547775.73035.\n"
     ]
    },
    {
     "name": "stdout",
     "output_type": "stream",
     "text": [
      "mse : 18267544710.24604\n",
      "rmse : 135157.48114790407\n",
      "r2 : 0.8235804453129705\n"
     ]
    },
    {
     "name": "stderr",
     "output_type": "stream",
     "text": [
      "[I 2023-06-13 08:45:29,610] Trial 30 finished with value: 20818496573.772873 and parameters: {'n_estimators': 904, 'max_depth': 6, 'min_samples_split': 4, 'min_samples_leaf': 3, 'max_features': 1.0}. Best is trial 26 with value: 17408547775.73035.\n"
     ]
    },
    {
     "name": "stdout",
     "output_type": "stream",
     "text": [
      "mse : 20818496573.772873\n",
      "rmse : 144286.16210078108\n",
      "r2 : 0.7989445241243374\n"
     ]
    },
    {
     "name": "stderr",
     "output_type": "stream",
     "text": [
      "[I 2023-06-13 08:46:15,113] Trial 31 finished with value: 17404587963.154034 and parameters: {'n_estimators': 1288, 'max_depth': 17, 'min_samples_split': 6, 'min_samples_leaf': 3, 'max_features': 1.0}. Best is trial 31 with value: 17404587963.154034.\n"
     ]
    },
    {
     "name": "stdout",
     "output_type": "stream",
     "text": [
      "mse : 17404587963.154034\n",
      "rmse : 131926.44906596263\n",
      "r2 : 0.8319144851333711\n"
     ]
    },
    {
     "name": "stderr",
     "output_type": "stream",
     "text": [
      "[I 2023-06-13 08:46:52,372] Trial 32 finished with value: 17437064151.70465 and parameters: {'n_estimators': 1221, 'max_depth': 13, 'min_samples_split': 6, 'min_samples_leaf': 3, 'max_features': 1.0}. Best is trial 31 with value: 17404587963.154034.\n"
     ]
    },
    {
     "name": "stdout",
     "output_type": "stream",
     "text": [
      "mse : 17437064151.70465\n",
      "rmse : 132049.47615081497\n",
      "r2 : 0.8316008450239359\n"
     ]
    },
    {
     "name": "stderr",
     "output_type": "stream",
     "text": [
      "[I 2023-06-13 08:47:33,480] Trial 33 finished with value: 17462638084.443405 and parameters: {'n_estimators': 1298, 'max_depth': 13, 'min_samples_split': 6, 'min_samples_leaf': 2, 'max_features': 1.0}. Best is trial 31 with value: 17404587963.154034.\n"
     ]
    },
    {
     "name": "stdout",
     "output_type": "stream",
     "text": [
      "mse : 17462638084.443405\n",
      "rmse : 132146.2753332208\n",
      "r2 : 0.83135386373023\n"
     ]
    },
    {
     "name": "stderr",
     "output_type": "stream",
     "text": [
      "[I 2023-06-13 08:48:29,839] Trial 34 finished with value: 17448103557.181 and parameters: {'n_estimators': 1742, 'max_depth': 17, 'min_samples_split': 5, 'min_samples_leaf': 4, 'max_features': 1.0}. Best is trial 31 with value: 17404587963.154034.\n"
     ]
    },
    {
     "name": "stdout",
     "output_type": "stream",
     "text": [
      "mse : 17448103557.181\n",
      "rmse : 132091.2697992604\n",
      "r2 : 0.831494231517357\n"
     ]
    },
    {
     "name": "stderr",
     "output_type": "stream",
     "text": [
      "[I 2023-06-13 08:49:57,584] Trial 35 finished with value: 17680935450.469193 and parameters: {'n_estimators': 2248, 'max_depth': 19, 'min_samples_split': 6, 'min_samples_leaf': 1, 'max_features': 1.0}. Best is trial 31 with value: 17404587963.154034.\n"
     ]
    },
    {
     "name": "stdout",
     "output_type": "stream",
     "text": [
      "mse : 17680935450.469193\n",
      "rmse : 132969.67868829792\n",
      "r2 : 0.829245648055136\n"
     ]
    },
    {
     "name": "stderr",
     "output_type": "stream",
     "text": [
      "[I 2023-06-13 08:50:38,201] Trial 36 finished with value: 17418199528.976257 and parameters: {'n_estimators': 1253, 'max_depth': 15, 'min_samples_split': 7, 'min_samples_leaf': 3, 'max_features': 1.0}. Best is trial 31 with value: 17404587963.154034.\n"
     ]
    },
    {
     "name": "stdout",
     "output_type": "stream",
     "text": [
      "mse : 17418199528.976257\n",
      "rmse : 131978.02668996176\n",
      "r2 : 0.8317830308838241\n"
     ]
    },
    {
     "name": "stderr",
     "output_type": "stream",
     "text": [
      "[I 2023-06-13 08:51:12,033] Trial 37 finished with value: 17665746247.718876 and parameters: {'n_estimators': 1267, 'max_depth': 12, 'min_samples_split': 7, 'min_samples_leaf': 5, 'max_features': 1.0}. Best is trial 31 with value: 17404587963.154034.\n"
     ]
    },
    {
     "name": "stdout",
     "output_type": "stream",
     "text": [
      "mse : 17665746247.718876\n",
      "rmse : 132912.55112937558\n",
      "r2 : 0.8293923383973668\n"
     ]
    },
    {
     "name": "stderr",
     "output_type": "stream",
     "text": [
      "[I 2023-06-13 08:51:19,526] Trial 38 finished with value: 21265894522.802273 and parameters: {'n_estimators': 892, 'max_depth': 10, 'min_samples_split': 4, 'min_samples_leaf': 2, 'max_features': 'sqrt'}. Best is trial 31 with value: 17404587963.154034.\n"
     ]
    },
    {
     "name": "stdout",
     "output_type": "stream",
     "text": [
      "mse : 21265894522.802273\n",
      "rmse : 145828.30494386976\n",
      "r2 : 0.794623760267584\n"
     ]
    },
    {
     "name": "stderr",
     "output_type": "stream",
     "text": [
      "[I 2023-06-13 08:51:22,595] Trial 39 finished with value: 19696204106.83463 and parameters: {'n_estimators': 305, 'max_depth': 19, 'min_samples_split': 6, 'min_samples_leaf': 7, 'max_features': 'sqrt'}. Best is trial 31 with value: 17404587963.154034.\n"
     ]
    },
    {
     "name": "stdout",
     "output_type": "stream",
     "text": [
      "mse : 19696204106.83463\n",
      "rmse : 140343.16551522783\n",
      "r2 : 0.8097831091879776\n"
     ]
    },
    {
     "name": "stderr",
     "output_type": "stream",
     "text": [
      "[I 2023-06-13 08:51:39,485] Trial 40 finished with value: 17402875073.937183 and parameters: {'n_estimators': 534, 'max_depth': 14, 'min_samples_split': 3, 'min_samples_leaf': 3, 'max_features': 1.0}. Best is trial 40 with value: 17402875073.937183.\n"
     ]
    },
    {
     "name": "stdout",
     "output_type": "stream",
     "text": [
      "mse : 17402875073.937183\n",
      "rmse : 131919.9570722231\n",
      "r2 : 0.8319310274305247\n"
     ]
    },
    {
     "name": "stderr",
     "output_type": "stream",
     "text": [
      "[I 2023-06-13 08:51:58,458] Trial 41 finished with value: 17393189837.31874 and parameters: {'n_estimators': 614, 'max_depth': 14, 'min_samples_split': 3, 'min_samples_leaf': 3, 'max_features': 1.0}. Best is trial 41 with value: 17393189837.31874.\n"
     ]
    },
    {
     "name": "stdout",
     "output_type": "stream",
     "text": [
      "mse : 17393189837.31874\n",
      "rmse : 131883.24320139666\n",
      "r2 : 0.8320245629963803\n"
     ]
    },
    {
     "name": "stderr",
     "output_type": "stream",
     "text": [
      "[I 2023-06-13 08:52:11,427] Trial 42 finished with value: 18284173994.253742 and parameters: {'n_estimators': 485, 'max_depth': 15, 'min_samples_split': 3, 'min_samples_leaf': 10, 'max_features': 1.0}. Best is trial 41 with value: 17393189837.31874.\n"
     ]
    },
    {
     "name": "stdout",
     "output_type": "stream",
     "text": [
      "mse : 18284173994.253742\n",
      "rmse : 135218.98533214093\n",
      "r2 : 0.8234198473275303\n"
     ]
    },
    {
     "name": "stderr",
     "output_type": "stream",
     "text": [
      "[I 2023-06-13 08:52:32,599] Trial 43 finished with value: 17445716755.231647 and parameters: {'n_estimators': 664, 'max_depth': 16, 'min_samples_split': 2, 'min_samples_leaf': 4, 'max_features': 1.0}. Best is trial 41 with value: 17393189837.31874.\n"
     ]
    },
    {
     "name": "stdout",
     "output_type": "stream",
     "text": [
      "mse : 17445716755.231647\n",
      "rmse : 132082.2348207042\n",
      "r2 : 0.8315172821540852\n"
     ]
    },
    {
     "name": "stderr",
     "output_type": "stream",
     "text": [
      "[I 2023-06-13 08:53:00,715] Trial 44 finished with value: 17386285937.23878 and parameters: {'n_estimators': 845, 'max_depth': 14, 'min_samples_split': 3, 'min_samples_leaf': 2, 'max_features': 1.0}. Best is trial 44 with value: 17386285937.23878.\n"
     ]
    },
    {
     "name": "stdout",
     "output_type": "stream",
     "text": [
      "mse : 17386285937.23878\n",
      "rmse : 131857.06631515347\n",
      "r2 : 0.8320912376916954\n"
     ]
    },
    {
     "name": "stderr",
     "output_type": "stream",
     "text": [
      "[I 2023-06-13 08:53:22,736] Trial 45 finished with value: 17657521271.36006 and parameters: {'n_estimators': 836, 'max_depth': 11, 'min_samples_split': 3, 'min_samples_leaf': 2, 'max_features': 1.0}. Best is trial 44 with value: 17386285937.23878.\n"
     ]
    },
    {
     "name": "stdout",
     "output_type": "stream",
     "text": [
      "mse : 17657521271.36006\n",
      "rmse : 132881.6062190703\n",
      "r2 : 0.8294717714404796\n"
     ]
    },
    {
     "name": "stderr",
     "output_type": "stream",
     "text": [
      "[I 2023-06-13 08:53:25,181] Trial 46 finished with value: 17875727431.60604 and parameters: {'n_estimators': 152, 'max_depth': 17, 'min_samples_split': 3, 'min_samples_leaf': 1, 'max_features': 'sqrt'}. Best is trial 44 with value: 17386285937.23878.\n"
     ]
    },
    {
     "name": "stdout",
     "output_type": "stream",
     "text": [
      "mse : 17875727431.60604\n",
      "rmse : 133700.13998349456\n",
      "r2 : 0.827364436588907\n"
     ]
    },
    {
     "name": "stderr",
     "output_type": "stream",
     "text": [
      "[I 2023-06-13 08:53:29,398] Trial 47 finished with value: 24361952585.564804 and parameters: {'n_estimators': 606, 'max_depth': 8, 'min_samples_split': 2, 'min_samples_leaf': 2, 'max_features': 'log2'}. Best is trial 44 with value: 17386285937.23878.\n"
     ]
    },
    {
     "name": "stdout",
     "output_type": "stream",
     "text": [
      "mse : 24361952585.564804\n",
      "rmse : 156083.15919907825\n",
      "r2 : 0.7647234538289528\n"
     ]
    },
    {
     "name": "stderr",
     "output_type": "stream",
     "text": [
      "[I 2023-06-13 08:53:41,178] Trial 48 finished with value: 17458537625.559845 and parameters: {'n_estimators': 395, 'max_depth': 14, 'min_samples_split': 3, 'min_samples_leaf': 4, 'max_features': 1.0}. Best is trial 44 with value: 17386285937.23878.\n"
     ]
    },
    {
     "name": "stdout",
     "output_type": "stream",
     "text": [
      "mse : 17458537625.559845\n",
      "rmse : 132130.75957383975\n",
      "r2 : 0.8313934640783733\n"
     ]
    },
    {
     "name": "stderr",
     "output_type": "stream",
     "text": [
      "[I 2023-06-13 08:54:17,691] Trial 49 finished with value: 17389974088.68229 and parameters: {'n_estimators': 1035, 'max_depth': 14, 'min_samples_split': 4, 'min_samples_leaf': 3, 'max_features': 1.0}. Best is trial 44 with value: 17386285937.23878.\n"
     ]
    },
    {
     "name": "stdout",
     "output_type": "stream",
     "text": [
      "mse : 17389974088.68229\n",
      "rmse : 131871.05098800984\n",
      "r2 : 0.8320556192193936\n"
     ]
    },
    {
     "name": "stderr",
     "output_type": "stream",
     "text": [
      "[I 2023-06-13 08:54:50,179] Trial 50 finished with value: 17390618851.108383 and parameters: {'n_estimators': 971, 'max_depth': 14, 'min_samples_split': 4, 'min_samples_leaf': 2, 'max_features': 1.0}. Best is trial 44 with value: 17386285937.23878.\n"
     ]
    },
    {
     "name": "stdout",
     "output_type": "stream",
     "text": [
      "mse : 17390618851.108383\n",
      "rmse : 131873.4956354323\n",
      "r2 : 0.8320493924000868\n"
     ]
    },
    {
     "name": "stderr",
     "output_type": "stream",
     "text": [
      "[I 2023-06-13 08:55:25,160] Trial 51 finished with value: 17401702175.935062 and parameters: {'n_estimators': 1044, 'max_depth': 14, 'min_samples_split': 4, 'min_samples_leaf': 2, 'max_features': 1.0}. Best is trial 44 with value: 17386285937.23878.\n"
     ]
    },
    {
     "name": "stdout",
     "output_type": "stream",
     "text": [
      "mse : 17401702175.935062\n",
      "rmse : 131915.51150617225\n",
      "r2 : 0.831942354740599\n"
     ]
    },
    {
     "name": "stderr",
     "output_type": "stream",
     "text": [
      "[I 2023-06-13 08:55:58,572] Trial 52 finished with value: 17682119342.503258 and parameters: {'n_estimators': 971, 'max_depth': 14, 'min_samples_split': 4, 'min_samples_leaf': 1, 'max_features': 1.0}. Best is trial 44 with value: 17386285937.23878.\n"
     ]
    },
    {
     "name": "stdout",
     "output_type": "stream",
     "text": [
      "mse : 17682119342.503258\n",
      "rmse : 132974.13035061842\n",
      "r2 : 0.829234214569752\n"
     ]
    },
    {
     "name": "stderr",
     "output_type": "stream",
     "text": [
      "[I 2023-06-13 08:56:07,156] Trial 53 finished with value: 17579032974.85245 and parameters: {'n_estimators': 296, 'max_depth': 12, 'min_samples_split': 4, 'min_samples_leaf': 2, 'max_features': 1.0}. Best is trial 44 with value: 17386285937.23878.\n"
     ]
    },
    {
     "name": "stdout",
     "output_type": "stream",
     "text": [
      "mse : 17579032974.85245\n",
      "rmse : 132585.9456158625\n",
      "r2 : 0.8302297753505644\n"
     ]
    },
    {
     "name": "stderr",
     "output_type": "stream",
     "text": [
      "[I 2023-06-13 08:56:28,150] Trial 54 finished with value: 18035951402.670506 and parameters: {'n_estimators': 757, 'max_depth': 11, 'min_samples_split': 2, 'min_samples_leaf': 1, 'max_features': 1.0}. Best is trial 44 with value: 17386285937.23878.\n"
     ]
    },
    {
     "name": "stdout",
     "output_type": "stream",
     "text": [
      "mse : 18035951402.670506\n",
      "rmse : 134297.99478276103\n",
      "r2 : 0.8258170670833858\n"
     ]
    },
    {
     "name": "stderr",
     "output_type": "stream",
     "text": [
      "[I 2023-06-13 08:57:15,913] Trial 55 finished with value: 17419094123.006084 and parameters: {'n_estimators': 1472, 'max_depth': 14, 'min_samples_split': 3, 'min_samples_leaf': 2, 'max_features': 1.0}. Best is trial 44 with value: 17386285937.23878.\n"
     ]
    },
    {
     "name": "stdout",
     "output_type": "stream",
     "text": [
      "mse : 17419094123.006084\n",
      "rmse : 131981.4158243731\n",
      "r2 : 0.8317743913056612\n"
     ]
    },
    {
     "name": "stderr",
     "output_type": "stream",
     "text": [
      "[I 2023-06-13 08:57:49,371] Trial 56 finished with value: 19014227946.96104 and parameters: {'n_estimators': 2979, 'max_depth': 13, 'min_samples_split': 4, 'min_samples_leaf': 2, 'max_features': 'sqrt'}. Best is trial 44 with value: 17386285937.23878.\n"
     ]
    },
    {
     "name": "stdout",
     "output_type": "stream",
     "text": [
      "mse : 19014227946.96104\n",
      "rmse : 137892.088050624\n",
      "r2 : 0.816369321639648\n"
     ]
    },
    {
     "name": "stderr",
     "output_type": "stream",
     "text": [
      "[I 2023-06-13 08:58:21,600] Trial 57 finished with value: 17424949610.577225 and parameters: {'n_estimators': 1056, 'max_depth': 13, 'min_samples_split': 3, 'min_samples_leaf': 3, 'max_features': 1.0}. Best is trial 44 with value: 17386285937.23878.\n"
     ]
    },
    {
     "name": "stdout",
     "output_type": "stream",
     "text": [
      "mse : 17424949610.577225\n",
      "rmse : 132003.59696075416\n",
      "r2 : 0.8317178416967148\n"
     ]
    },
    {
     "name": "stderr",
     "output_type": "stream",
     "text": [
      "[I 2023-06-13 08:58:28,079] Trial 58 finished with value: 20300240862.336136 and parameters: {'n_estimators': 658, 'max_depth': 15, 'min_samples_split': 4, 'min_samples_leaf': 8, 'max_features': 'log2'}. Best is trial 44 with value: 17386285937.23878.\n"
     ]
    },
    {
     "name": "stdout",
     "output_type": "stream",
     "text": [
      "mse : 20300240862.336136\n",
      "rmse : 142478.913746337\n",
      "r2 : 0.8039495996983086\n"
     ]
    },
    {
     "name": "stderr",
     "output_type": "stream",
     "text": [
      "[I 2023-06-13 08:58:42,267] Trial 59 finished with value: 18060036540.527454 and parameters: {'n_estimators': 510, 'max_depth': 11, 'min_samples_split': 2, 'min_samples_leaf': 1, 'max_features': 1.0}. Best is trial 44 with value: 17386285937.23878.\n"
     ]
    },
    {
     "name": "stdout",
     "output_type": "stream",
     "text": [
      "mse : 18060036540.527454\n",
      "rmse : 134387.63537069716\n",
      "r2 : 0.8255844638866947\n"
     ]
    },
    {
     "name": "stderr",
     "output_type": "stream",
     "text": [
      "[I 2023-06-13 08:59:09,109] Trial 60 finished with value: 17918796370.4452 and parameters: {'n_estimators': 1080, 'max_depth': 10, 'min_samples_split': 3, 'min_samples_leaf': 2, 'max_features': 1.0}. Best is trial 44 with value: 17386285937.23878.\n"
     ]
    },
    {
     "name": "stdout",
     "output_type": "stream",
     "text": [
      "mse : 17918796370.4452\n",
      "rmse : 133861.108505963\n",
      "r2 : 0.826948496563503\n"
     ]
    },
    {
     "name": "stderr",
     "output_type": "stream",
     "text": [
      "[I 2023-06-13 08:59:40,917] Trial 61 finished with value: 17383936019.963573 and parameters: {'n_estimators': 957, 'max_depth': 16, 'min_samples_split': 4, 'min_samples_leaf': 3, 'max_features': 1.0}. Best is trial 61 with value: 17383936019.963573.\n"
     ]
    },
    {
     "name": "stdout",
     "output_type": "stream",
     "text": [
      "mse : 17383936019.963573\n",
      "rmse : 131848.1551632922\n",
      "r2 : 0.8321139321131854\n"
     ]
    },
    {
     "name": "stderr",
     "output_type": "stream",
     "text": [
      "[I 2023-06-13 09:01:11,381] Trial 62 finished with value: 17386877301.834534 and parameters: {'n_estimators': 1624, 'max_depth': 16, 'min_samples_split': 4, 'min_samples_leaf': 3, 'max_features': 1.0}. Best is trial 61 with value: 17383936019.963573.\n"
     ]
    },
    {
     "name": "stdout",
     "output_type": "stream",
     "text": [
      "mse : 17386877301.834534\n",
      "rmse : 131859.3087416832\n",
      "r2 : 0.832085526564103\n"
     ]
    },
    {
     "name": "stderr",
     "output_type": "stream",
     "text": [
      "[I 2023-06-13 09:02:03,948] Trial 63 finished with value: 17445726150.035885 and parameters: {'n_estimators': 1380, 'max_depth': 16, 'min_samples_split': 4, 'min_samples_leaf': 4, 'max_features': 1.0}. Best is trial 61 with value: 17383936019.963573.\n"
     ]
    },
    {
     "name": "stdout",
     "output_type": "stream",
     "text": [
      "mse : 17445726150.035885\n",
      "rmse : 132082.27038492291\n",
      "r2 : 0.8315171914233819\n"
     ]
    },
    {
     "name": "stderr",
     "output_type": "stream",
     "text": [
      "[I 2023-06-13 09:03:21,892] Trial 64 finished with value: 17404326123.632553 and parameters: {'n_estimators': 1614, 'max_depth': 15, 'min_samples_split': 5, 'min_samples_leaf': 2, 'max_features': 1.0}. Best is trial 61 with value: 17383936019.963573.\n"
     ]
    },
    {
     "name": "stdout",
     "output_type": "stream",
     "text": [
      "mse : 17404326123.632553\n",
      "rmse : 131925.4566929088\n",
      "r2 : 0.8319170138591803\n"
     ]
    },
    {
     "name": "stderr",
     "output_type": "stream",
     "text": [
      "[I 2023-06-13 09:05:05,025] Trial 65 finished with value: 17393513524.422398 and parameters: {'n_estimators': 1951, 'max_depth': 16, 'min_samples_split': 4, 'min_samples_leaf': 3, 'max_features': 1.0}. Best is trial 61 with value: 17383936019.963573.\n"
     ]
    },
    {
     "name": "stdout",
     "output_type": "stream",
     "text": [
      "mse : 17393513524.422398\n",
      "rmse : 131884.47036866166\n",
      "r2 : 0.8320214369750353\n"
     ]
    },
    {
     "name": "stderr",
     "output_type": "stream",
     "text": [
      "[I 2023-06-13 09:07:00,689] Trial 66 finished with value: 17393829433.46001 and parameters: {'n_estimators': 1978, 'max_depth': 16, 'min_samples_split': 4, 'min_samples_leaf': 3, 'max_features': 1.0}. Best is trial 61 with value: 17383936019.963573.\n"
     ]
    },
    {
     "name": "stdout",
     "output_type": "stream",
     "text": [
      "mse : 17393829433.46001\n",
      "rmse : 131885.66803659906\n",
      "r2 : 0.8320183860706788\n"
     ]
    },
    {
     "name": "stderr",
     "output_type": "stream",
     "text": [
      "[I 2023-06-13 09:09:40,800] Trial 67 finished with value: 17448406047.020042 and parameters: {'n_estimators': 2357, 'max_depth': 17, 'min_samples_split': 5, 'min_samples_leaf': 4, 'max_features': 1.0}. Best is trial 61 with value: 17383936019.963573.\n"
     ]
    },
    {
     "name": "stdout",
     "output_type": "stream",
     "text": [
      "mse : 17448406047.020042\n",
      "rmse : 132092.41479744416\n",
      "r2 : 0.8314913102094557\n"
     ]
    },
    {
     "name": "stderr",
     "output_type": "stream",
     "text": [
      "[I 2023-06-13 09:09:59,203] Trial 68 finished with value: 46775449119.68032 and parameters: {'n_estimators': 2028, 'max_depth': 2, 'min_samples_split': 3, 'min_samples_leaf': 3, 'max_features': 1.0}. Best is trial 61 with value: 17383936019.963573.\n"
     ]
    },
    {
     "name": "stdout",
     "output_type": "stream",
     "text": [
      "mse : 46775449119.68032\n",
      "rmse : 216276.32584191993\n",
      "r2 : 0.5482642010805476\n"
     ]
    },
    {
     "name": "stderr",
     "output_type": "stream",
     "text": [
      "[I 2023-06-13 09:10:41,948] Trial 69 finished with value: 18547910642.63698 and parameters: {'n_estimators': 1909, 'max_depth': 16, 'min_samples_split': 5, 'min_samples_leaf': 3, 'max_features': 'log2'}. Best is trial 61 with value: 17383936019.963573.\n"
     ]
    },
    {
     "name": "stdout",
     "output_type": "stream",
     "text": [
      "mse : 18547910642.63698\n",
      "rmse : 136190.7142305854\n",
      "r2 : 0.8208727999382704\n"
     ]
    },
    {
     "name": "stderr",
     "output_type": "stream",
     "text": [
      "[I 2023-06-13 09:11:49,381] Trial 70 finished with value: 17446930242.09935 and parameters: {'n_estimators': 1671, 'max_depth': 15, 'min_samples_split': 4, 'min_samples_leaf': 4, 'max_features': 1.0}. Best is trial 61 with value: 17383936019.963573.\n"
     ]
    },
    {
     "name": "stdout",
     "output_type": "stream",
     "text": [
      "mse : 17446930242.09935\n",
      "rmse : 132086.8284201697\n",
      "r2 : 0.8315055628553937\n"
     ]
    },
    {
     "name": "stderr",
     "output_type": "stream",
     "text": [
      "[I 2023-06-13 09:13:12,485] Trial 71 finished with value: 17392474576.317795 and parameters: {'n_estimators': 2048, 'max_depth': 16, 'min_samples_split': 4, 'min_samples_leaf': 3, 'max_features': 1.0}. Best is trial 61 with value: 17383936019.963573.\n"
     ]
    },
    {
     "name": "stdout",
     "output_type": "stream",
     "text": [
      "mse : 17392474576.317795\n",
      "rmse : 131880.53145296994\n",
      "r2 : 0.8320314706585359\n"
     ]
    },
    {
     "name": "stderr",
     "output_type": "stream",
     "text": [
      "[I 2023-06-13 09:14:42,462] Trial 72 finished with value: 17392873533.460033 and parameters: {'n_estimators': 2232, 'max_depth': 16, 'min_samples_split': 4, 'min_samples_leaf': 3, 'max_features': 1.0}. Best is trial 61 with value: 17383936019.963573.\n"
     ]
    },
    {
     "name": "stdout",
     "output_type": "stream",
     "text": [
      "mse : 17392873533.460033\n",
      "rmse : 131882.0440145664\n",
      "r2 : 0.8320276177137373\n"
     ]
    },
    {
     "name": "stderr",
     "output_type": "stream",
     "text": [
      "[I 2023-06-13 09:16:10,264] Trial 73 finished with value: 17393192508.535416 and parameters: {'n_estimators': 2239, 'max_depth': 15, 'min_samples_split': 4, 'min_samples_leaf': 3, 'max_features': 1.0}. Best is trial 61 with value: 17383936019.963573.\n"
     ]
    },
    {
     "name": "stdout",
     "output_type": "stream",
     "text": [
      "mse : 17393192508.535416\n",
      "rmse : 131883.25332859898\n",
      "r2 : 0.8320245371989967\n"
     ]
    },
    {
     "name": "stderr",
     "output_type": "stream",
     "text": [
      "[I 2023-06-13 09:18:21,056] Trial 74 finished with value: 17535157750.718773 and parameters: {'n_estimators': 2633, 'max_depth': 18, 'min_samples_split': 4, 'min_samples_leaf': 5, 'max_features': 1.0}. Best is trial 61 with value: 17383936019.963573.\n"
     ]
    },
    {
     "name": "stdout",
     "output_type": "stream",
     "text": [
      "mse : 17535157750.718773\n",
      "rmse : 132420.38268604563\n",
      "r2 : 0.8306535021089347\n"
     ]
    },
    {
     "name": "stderr",
     "output_type": "stream",
     "text": [
      "[I 2023-06-13 09:20:47,790] Trial 75 finished with value: 17445071633.836967 and parameters: {'n_estimators': 2138, 'max_depth': 13, 'min_samples_split': 3, 'min_samples_leaf': 3, 'max_features': 1.0}. Best is trial 61 with value: 17383936019.963573.\n"
     ]
    },
    {
     "name": "stdout",
     "output_type": "stream",
     "text": [
      "mse : 17445071633.836967\n",
      "rmse : 132079.7926778997\n",
      "r2 : 0.8315235124401457\n"
     ]
    },
    {
     "name": "stderr",
     "output_type": "stream",
     "text": [
      "[I 2023-06-13 09:23:09,743] Trial 76 finished with value: 17573618303.325893 and parameters: {'n_estimators': 2547, 'max_depth': 12, 'min_samples_split': 5, 'min_samples_leaf': 4, 'max_features': 1.0}. Best is trial 61 with value: 17383936019.963573.\n"
     ]
    },
    {
     "name": "stdout",
     "output_type": "stream",
     "text": [
      "mse : 17573618303.325893\n",
      "rmse : 132565.5245654989\n",
      "r2 : 0.8302820677606635\n"
     ]
    },
    {
     "name": "stderr",
     "output_type": "stream",
     "text": [
      "[I 2023-06-13 09:25:57,829] Trial 77 finished with value: 17438111479.000317 and parameters: {'n_estimators': 2352, 'max_depth': 17, 'min_samples_split': 3, 'min_samples_leaf': 2, 'max_features': 1.0}. Best is trial 61 with value: 17383936019.963573.\n"
     ]
    },
    {
     "name": "stdout",
     "output_type": "stream",
     "text": [
      "mse : 17438111479.000317\n",
      "rmse : 132053.44175370937\n",
      "r2 : 0.8315907304180574\n"
     ]
    },
    {
     "name": "stderr",
     "output_type": "stream",
     "text": [
      "[I 2023-06-13 09:26:18,750] Trial 78 finished with value: 18986995114.678177 and parameters: {'n_estimators': 937, 'max_depth': 14, 'min_samples_split': 2, 'min_samples_leaf': 3, 'max_features': 'sqrt'}. Best is trial 61 with value: 17383936019.963573.\n"
     ]
    },
    {
     "name": "stdout",
     "output_type": "stream",
     "text": [
      "mse : 18986995114.678177\n",
      "rmse : 137793.30576874255\n",
      "r2 : 0.8166323238230512\n"
     ]
    },
    {
     "name": "stderr",
     "output_type": "stream",
     "text": [
      "[I 2023-06-13 09:29:15,709] Trial 79 finished with value: 17673037207.24972 and parameters: {'n_estimators': 2897, 'max_depth': 18, 'min_samples_split': 5, 'min_samples_leaf': 6, 'max_features': 1.0}. Best is trial 61 with value: 17383936019.963573.\n"
     ]
    },
    {
     "name": "stdout",
     "output_type": "stream",
     "text": [
      "mse : 17673037207.24972\n",
      "rmse : 132939.97595625525\n",
      "r2 : 0.8293219256596905\n"
     ]
    },
    {
     "name": "stderr",
     "output_type": "stream",
     "text": [
      "[I 2023-06-13 09:30:49,659] Trial 80 finished with value: 17397315220.631626 and parameters: {'n_estimators': 1411, 'max_depth': 16, 'min_samples_split': 4, 'min_samples_leaf': 3, 'max_features': 1.0}. Best is trial 61 with value: 17383936019.963573.\n"
     ]
    },
    {
     "name": "stdout",
     "output_type": "stream",
     "text": [
      "mse : 17397315220.631626\n",
      "rmse : 131898.88256020832\n",
      "r2 : 0.8319847219395488\n"
     ]
    },
    {
     "name": "stderr",
     "output_type": "stream",
     "text": [
      "[I 2023-06-13 09:33:02,662] Trial 81 finished with value: 17394544488.34396 and parameters: {'n_estimators': 2194, 'max_depth': 15, 'min_samples_split': 4, 'min_samples_leaf': 3, 'max_features': 1.0}. Best is trial 61 with value: 17383936019.963573.\n"
     ]
    },
    {
     "name": "stdout",
     "output_type": "stream",
     "text": [
      "mse : 17394544488.34396\n",
      "rmse : 131888.37889800587\n",
      "r2 : 0.8320114803991064\n"
     ]
    },
    {
     "name": "stderr",
     "output_type": "stream",
     "text": [
      "[I 2023-06-13 09:35:24,096] Trial 82 finished with value: 17447991917.902744 and parameters: {'n_estimators': 2328, 'max_depth': 15, 'min_samples_split': 4, 'min_samples_leaf': 4, 'max_features': 1.0}. Best is trial 61 with value: 17383936019.963573.\n"
     ]
    },
    {
     "name": "stdout",
     "output_type": "stream",
     "text": [
      "mse : 17447991917.902744\n",
      "rmse : 132090.8472147209\n",
      "r2 : 0.8314953096782193\n"
     ]
    },
    {
     "name": "stderr",
     "output_type": "stream",
     "text": [
      "[I 2023-06-13 09:36:39,570] Trial 83 finished with value: 17410536475.34569 and parameters: {'n_estimators': 1138, 'max_depth': 14, 'min_samples_split': 3, 'min_samples_leaf': 2, 'max_features': 1.0}. Best is trial 61 with value: 17383936019.963573.\n"
     ]
    },
    {
     "name": "stdout",
     "output_type": "stream",
     "text": [
      "mse : 17410536475.34569\n",
      "rmse : 131948.99194516678\n",
      "r2 : 0.8318570371353752\n"
     ]
    },
    {
     "name": "stderr",
     "output_type": "stream",
     "text": [
      "[I 2023-06-13 09:37:45,509] Trial 84 finished with value: 22786853149.793163 and parameters: {'n_estimators': 2433, 'max_depth': 5, 'min_samples_split': 5, 'min_samples_leaf': 3, 'max_features': 1.0}. Best is trial 61 with value: 17383936019.963573.\n"
     ]
    },
    {
     "name": "stdout",
     "output_type": "stream",
     "text": [
      "mse : 22786853149.793163\n",
      "rmse : 150953.14885683294\n",
      "r2 : 0.7799350405777054\n"
     ]
    },
    {
     "name": "stderr",
     "output_type": "stream",
     "text": [
      "[I 2023-06-13 09:40:58,081] Trial 85 finished with value: 17400151113.56776 and parameters: {'n_estimators': 2762, 'max_depth': 15, 'min_samples_split': 4, 'min_samples_leaf': 2, 'max_features': 1.0}. Best is trial 61 with value: 17383936019.963573.\n"
     ]
    },
    {
     "name": "stdout",
     "output_type": "stream",
     "text": [
      "mse : 17400151113.56776\n",
      "rmse : 131909.63237598594\n",
      "r2 : 0.831957334188383\n"
     ]
    },
    {
     "name": "stderr",
     "output_type": "stream",
     "text": [
      "[I 2023-06-13 09:42:40,333] Trial 86 finished with value: 17399139078.72566 and parameters: {'n_estimators': 1554, 'max_depth': 17, 'min_samples_split': 3, 'min_samples_leaf': 3, 'max_features': 1.0}. Best is trial 61 with value: 17383936019.963573.\n"
     ]
    },
    {
     "name": "stdout",
     "output_type": "stream",
     "text": [
      "mse : 17399139078.72566\n",
      "rmse : 131905.79622869368\n",
      "r2 : 0.8319671079559585\n"
     ]
    },
    {
     "name": "stderr",
     "output_type": "stream",
     "text": [
      "[I 2023-06-13 09:44:35,809] Trial 87 finished with value: 17441288469.009407 and parameters: {'n_estimators': 1801, 'max_depth': 16, 'min_samples_split': 4, 'min_samples_leaf': 4, 'max_features': 1.0}. Best is trial 61 with value: 17383936019.963573.\n"
     ]
    },
    {
     "name": "stdout",
     "output_type": "stream",
     "text": [
      "mse : 17441288469.009407\n",
      "rmse : 132065.47038877878\n",
      "r2 : 0.8315600485080613\n"
     ]
    },
    {
     "name": "stderr",
     "output_type": "stream",
     "text": [
      "[I 2023-06-13 09:45:20,374] Trial 88 finished with value: 19016658505.626377 and parameters: {'n_estimators': 2100, 'max_depth': 13, 'min_samples_split': 4, 'min_samples_leaf': 2, 'max_features': 'log2'}. Best is trial 61 with value: 17383936019.963573.\n"
     ]
    },
    {
     "name": "stdout",
     "output_type": "stream",
     "text": [
      "mse : 19016658505.626377\n",
      "rmse : 137900.90103268498\n",
      "r2 : 0.8163458484206588\n"
     ]
    },
    {
     "name": "stderr",
     "output_type": "stream",
     "text": [
      "[I 2023-06-13 09:46:11,584] Trial 89 finished with value: 17382317101.882835 and parameters: {'n_estimators': 772, 'max_depth': 16, 'min_samples_split': 3, 'min_samples_leaf': 3, 'max_features': 1.0}. Best is trial 89 with value: 17382317101.882835.\n"
     ]
    },
    {
     "name": "stdout",
     "output_type": "stream",
     "text": [
      "mse : 17382317101.882835\n",
      "rmse : 131842.01569258122\n",
      "r2 : 0.832129566880277\n"
     ]
    },
    {
     "name": "stderr",
     "output_type": "stream",
     "text": [
      "[I 2023-06-13 09:47:06,543] Trial 90 finished with value: 17742856530.772808 and parameters: {'n_estimators': 727, 'max_depth': 16, 'min_samples_split': 3, 'min_samples_leaf': 1, 'max_features': 1.0}. Best is trial 89 with value: 17382317101.882835.\n"
     ]
    },
    {
     "name": "stdout",
     "output_type": "stream",
     "text": [
      "mse : 17742856530.772808\n",
      "rmse : 133202.31428459796\n",
      "r2 : 0.8286476427081572\n"
     ]
    },
    {
     "name": "stderr",
     "output_type": "stream",
     "text": [
      "[I 2023-06-13 09:47:46,608] Trial 91 finished with value: 17385454794.385616 and parameters: {'n_estimators': 816, 'max_depth': 17, 'min_samples_split': 3, 'min_samples_leaf': 3, 'max_features': 1.0}. Best is trial 89 with value: 17382317101.882835.\n"
     ]
    },
    {
     "name": "stdout",
     "output_type": "stream",
     "text": [
      "mse : 17385454794.385616\n",
      "rmse : 131853.9145963654\n",
      "r2 : 0.8320992644875436\n"
     ]
    },
    {
     "name": "stderr",
     "output_type": "stream",
     "text": [
      "[I 2023-06-13 09:48:13,054] Trial 92 finished with value: 17424538735.478977 and parameters: {'n_estimators': 864, 'max_depth': 19, 'min_samples_split': 2, 'min_samples_leaf': 3, 'max_features': 1.0}. Best is trial 89 with value: 17382317101.882835.\n"
     ]
    },
    {
     "name": "stdout",
     "output_type": "stream",
     "text": [
      "mse : 17424538735.478977\n",
      "rmse : 132002.04064891944\n",
      "r2 : 0.8317218097396574\n"
     ]
    },
    {
     "name": "stderr",
     "output_type": "stream",
     "text": [
      "[I 2023-06-13 09:48:34,923] Trial 93 finished with value: 17447912918.29193 and parameters: {'n_estimators': 805, 'max_depth': 17, 'min_samples_split': 3, 'min_samples_leaf': 4, 'max_features': 1.0}. Best is trial 89 with value: 17382317101.882835.\n"
     ]
    },
    {
     "name": "stdout",
     "output_type": "stream",
     "text": [
      "mse : 17447912918.29193\n",
      "rmse : 132090.54817923927\n",
      "r2 : 0.831496072620168\n"
     ]
    },
    {
     "name": "stderr",
     "output_type": "stream",
     "text": [
      "[I 2023-06-13 09:48:46,427] Trial 94 finished with value: 17451168087.30396 and parameters: {'n_estimators': 389, 'max_depth': 18, 'min_samples_split': 3, 'min_samples_leaf': 3, 'max_features': 1.0}. Best is trial 89 with value: 17382317101.882835.\n"
     ]
    },
    {
     "name": "stdout",
     "output_type": "stream",
     "text": [
      "mse : 17451168087.30396\n",
      "rmse : 132102.86933789123\n",
      "r2 : 0.8314646356932771\n"
     ]
    },
    {
     "name": "stderr",
     "output_type": "stream",
     "text": [
      "[I 2023-06-13 09:49:27,846] Trial 95 finished with value: 17443953087.740376 and parameters: {'n_estimators': 1205, 'max_depth': 17, 'min_samples_split': 2, 'min_samples_leaf': 2, 'max_features': 1.0}. Best is trial 89 with value: 17382317101.882835.\n"
     ]
    },
    {
     "name": "stdout",
     "output_type": "stream",
     "text": [
      "mse : 17443953087.740376\n",
      "rmse : 132075.55825261681\n",
      "r2 : 0.8315343148444856\n"
     ]
    },
    {
     "name": "stderr",
     "output_type": "stream",
     "text": [
      "[I 2023-06-13 09:49:38,699] Trial 96 finished with value: 18542972778.466805 and parameters: {'n_estimators': 974, 'max_depth': 16, 'min_samples_split': 3, 'min_samples_leaf': 3, 'max_features': 'sqrt'}. Best is trial 89 with value: 17382317101.882835.\n"
     ]
    },
    {
     "name": "stdout",
     "output_type": "stream",
     "text": [
      "mse : 18542972778.466805\n",
      "rmse : 136172.5845332562\n",
      "r2 : 0.8209204875619672\n"
     ]
    },
    {
     "name": "stderr",
     "output_type": "stream",
     "text": [
      "[I 2023-06-13 09:51:36,093] Trial 97 finished with value: 17387692964.634315 and parameters: {'n_estimators': 3452, 'max_depth': 14, 'min_samples_split': 3, 'min_samples_leaf': 2, 'max_features': 1.0}. Best is trial 89 with value: 17382317101.882835.\n"
     ]
    },
    {
     "name": "stdout",
     "output_type": "stream",
     "text": [
      "mse : 17387692964.634315\n",
      "rmse : 131862.40163380277\n",
      "r2 : 0.8320776492674987\n"
     ]
    },
    {
     "name": "stderr",
     "output_type": "stream",
     "text": [
      "[I 2023-06-13 09:54:35,566] Trial 98 finished with value: 17526186503.289845 and parameters: {'n_estimators': 3497, 'max_depth': 20, 'min_samples_split': 3, 'min_samples_leaf': 2, 'max_features': 1.0}. Best is trial 89 with value: 17382317101.882835.\n"
     ]
    },
    {
     "name": "stdout",
     "output_type": "stream",
     "text": [
      "mse : 17526186503.289845\n",
      "rmse : 132386.5042339658\n",
      "r2 : 0.8307401422952052\n"
     ]
    },
    {
     "name": "stderr",
     "output_type": "stream",
     "text": [
      "[I 2023-06-13 09:55:01,575] Trial 99 finished with value: 18015117981.766483 and parameters: {'n_estimators': 712, 'max_depth': 17, 'min_samples_split': 4, 'min_samples_leaf': 8, 'max_features': 1.0}. Best is trial 89 with value: 17382317101.882835.\n"
     ]
    },
    {
     "name": "stdout",
     "output_type": "stream",
     "text": [
      "mse : 18015117981.766483\n",
      "rmse : 134220.4082163606\n",
      "r2 : 0.8260182666915867\n",
      "Best trial: score 17382317101.882835, \n",
      "params {'n_estimators': 772, 'max_depth': 16, 'min_samples_split': 3, 'min_samples_leaf': 3, 'max_features': 1.0}\n"
     ]
    }
   ],
   "source": [
    "# optimization study 진행\n",
    "# direction: score 값을 최대 or 최소로 하는 방향으로 지정\n",
    "study = optuna.create_study(direction='minimize')\n",
    "\n",
    "# n_trials: 시도 횟수 (미입력시 key interrupt가 있을 때까지 무한 반복)\n",
    "study.optimize(objective, n_trials=100)\n",
    "\n",
    "# 모든 트라이얼이 완료되었는지 확인\n",
    "if study.best_trial is None:\n",
    "    print(\"No trials completed.\")\n",
    "else:\n",
    "    # 최적의 트라이얼 출력\n",
    "    print('Best trial: score {}, \\nparams {}'.format(study.best_trial.value, study.best_trial.params))"
   ]
  },
  {
   "attachments": {},
   "cell_type": "markdown",
   "metadata": {},
   "source": [
    "### Best 모델 학습 및 저장"
   ]
  },
  {
   "cell_type": "code",
   "execution_count": 46,
   "metadata": {},
   "outputs": [],
   "source": [
    "# Best trial의 파라미터\n",
    "best_params = study.best_trial.params\n",
    "\n",
    "# 최적의 모델 학습\n",
    "best_rf = RandomForestRegressor(n_estimators=best_params['n_estimators'],\n",
    "                                max_depth=best_params['max_depth'],\n",
    "                                min_samples_split=best_params['min_samples_split'],\n",
    "                                min_samples_leaf=best_params['min_samples_leaf'],\n",
    "                                max_features=best_params['max_features'],\n",
    "                                random_state=42)\n",
    "best_rf.fit(x_train, y_train)\n",
    "\n",
    "# 저장\n",
    "import pickle\n",
    "import os\n",
    "\n",
    "# 저장 경로 설정\n",
    "save_path = 'RandomForestRegressor_best_model.pkl'\n",
    "\n",
    "# 모델을 'RandomForestRegressor_best_model.pkl' 파일로 저장\n",
    "with open(save_path, 'wb') as f:\n",
    "    pickle.dump(best_rf, f)"
   ]
  },
  {
   "cell_type": "code",
   "execution_count": 65,
   "metadata": {},
   "outputs": [
    {
     "name": "stdout",
     "output_type": "stream",
     "text": [
      "mse : 17382317101.883\n",
      "rmse : 131842.016\n",
      "r2 : 0.832\n"
     ]
    }
   ],
   "source": [
    "# 모델 불러오기\n",
    "# 저장된 모델을 로드\n",
    "with open('RandomForestRegressor_best_model.pkl', 'rb') as f:\n",
    "    loaded_model = pickle.load(f)\n",
    "\n",
    "# 로드된 모델로 예측\n",
    "y_pred = loaded_model.predict(x_test)\n",
    "\n",
    "# 모델 평가\n",
    "from evaluate_score import evaluate_score\n",
    "evaluate_score(y_test, y_pred)"
   ]
  },
  {
   "cell_type": "code",
   "execution_count": 56,
   "metadata": {},
   "outputs": [
    {
     "name": "stderr",
     "output_type": "stream",
     "text": [
      "C:\\Users\\dohee\\AppData\\Local\\Temp\\ipykernel_9272\\2172928074.py:5: ExperimentalWarning: plot_param_importances is experimental (supported from v2.2.0). The interface can change in the future.\n",
      "  plot_param_importances(study)\n",
      "C:\\Users\\dohee\\AppData\\Local\\Temp\\ipykernel_9272\\2172928074.py:11: ExperimentalWarning: plot_optimization_history is experimental (supported from v2.2.0). The interface can change in the future.\n",
      "  fig = plot_optimization_history(study)\n"
     ]
    },
    {
     "data": {
      "text/plain": [
       "[<matplotlib.axis.YTick at 0x19c04323220>,\n",
       " <matplotlib.axis.YTick at 0x19c04323460>,\n",
       " <matplotlib.axis.YTick at 0x19c0434f460>,\n",
       " <matplotlib.axis.YTick at 0x19c04374460>,\n",
       " <matplotlib.axis.YTick at 0x19c04374ac0>,\n",
       " <matplotlib.axis.YTick at 0x19c0437b1c0>,\n",
       " <matplotlib.axis.YTick at 0x19c0437b910>,\n",
       " <matplotlib.axis.YTick at 0x19c04374bb0>,\n",
       " <matplotlib.axis.YTick at 0x19c04354ee0>,\n",
       " <matplotlib.axis.YTick at 0x19c04362790>,\n",
       " <matplotlib.axis.YTick at 0x19c043623d0>,\n",
       " <matplotlib.axis.YTick at 0x19c0437b280>,\n",
       " <matplotlib.axis.YTick at 0x19c043894c0>,\n",
       " <matplotlib.axis.YTick at 0x19c04389c10>,\n",
       " <matplotlib.axis.YTick at 0x19c043895b0>,\n",
       " <matplotlib.axis.YTick at 0x19c04362550>,\n",
       " <matplotlib.axis.YTick at 0x19c0438f0d0>,\n",
       " <matplotlib.axis.YTick at 0x19c0438f790>,\n",
       " <matplotlib.axis.YTick at 0x19c04398070>,\n",
       " <matplotlib.axis.YTick at 0x19c04398670>,\n",
       " <matplotlib.axis.YTick at 0x19c0438fe50>,\n",
       " <matplotlib.axis.YTick at 0x19c04367fa0>,\n",
       " <matplotlib.axis.YTick at 0x19c04398a30>,\n",
       " <matplotlib.axis.YTick at 0x19c0439f310>,\n",
       " <matplotlib.axis.YTick at 0x19c0439fa60>,\n",
       " <matplotlib.axis.YTick at 0x19c043a51f0>,\n",
       " <matplotlib.axis.YTick at 0x19c043a5940>,\n",
       " <matplotlib.axis.YTick at 0x19c0439fb20>,\n",
       " <matplotlib.axis.YTick at 0x19c0437b190>,\n",
       " <matplotlib.axis.YTick at 0x19c043a52b0>,\n",
       " <matplotlib.axis.YTick at 0x19c043ae5e0>,\n",
       " <matplotlib.axis.YTick at 0x19c043aed30>,\n",
       " <matplotlib.axis.YTick at 0x19c043b54c0>]"
      ]
     },
     "execution_count": 56,
     "metadata": {},
     "output_type": "execute_result"
    },
    {
     "data": {
      "image/png": "[encoded data removed]",
      "text/plain": [
       "<Figure size 640x480 with 1 Axes>"
      ]
     },
     "metadata": {},
     "output_type": "display_data"
    },
    {
     "data": {
      "image/png": "[encoded data removed]",
      "text/plain": [
       "<Figure size 640x480 with 1 Axes>"
      ]
     },
     "metadata": {},
     "output_type": "display_data"
    }
   ],
   "source": [
    "from optuna.visualization.matplotlib import plot_param_importances\n",
    "from optuna.visualization.matplotlib import plot_optimization_history\n",
    "\n",
    "# 하이퍼파라미터별 중요도 확인\n",
    "plot_param_importances(study)\n",
    "\n",
    "# 하이퍼파라미터 최적화 과정 확인\n",
    "import matplotlib.pyplot as plt\n",
    "import numpy as np\n",
    "\n",
    "fig = plot_optimization_history(study)\n",
    "\n",
    "# 현재 y 축의 범위를 얻기\n",
    "ax = plt.gca()\n",
    "min_val, max_val = ax.get_ylim()\n",
    "\n",
    "step = 1000000000  # 이 값을 조절하여 yticks의 간격을 설정\n",
    "new_ticks = np.arange(min_val, max_val, step)\n",
    "ax.set_yticks(new_ticks)"
   ]
  },
  {
   "cell_type": "code",
   "execution_count": 54,
   "metadata": {},
   "outputs": [
    {
     "name": "stdout",
     "output_type": "stream",
     "text": [
      "15912660500.992962 48245105720.5702\n"
     ]
    }
   ],
   "source": [
    "print(min_val, max_val)"
   ]
  },
  {
   "attachments": {},
   "cell_type": "markdown",
   "metadata": {},
   "source": [
    "## CatBoostRegressor를 활용한 가격 예측 모델"
   ]
  },
  {
   "cell_type": "code",
   "execution_count": 61,
   "metadata": {},
   "outputs": [],
   "source": [
    "import optuna\n",
    "from catboost import CatBoostRegressor\n",
    "\n",
    "def objectiveCatB(trial):\n",
    "    # Define the search space for each parameter\n",
    "    params = {\n",
    "        'iterations': trial.suggest_int('iterations', 100, 4000),\n",
    "        'learning_rate': trial.suggest_float('learning_rate', 0.01, 0.1),\n",
    "        'depth': trial.suggest_int('depth', 4, 10),\n",
    "        'l2_leaf_reg': trial.suggest_loguniform('l2_leaf_reg', 1e-5, 100),\n",
    "        'random_seed': 42,\n",
    "        'loss_function': 'RMSE',\n",
    "        'eval_metric': 'RMSE',\n",
    "        'verbose': False\n",
    "    }\n",
    "    # 손실함수와 평가지표를 RMSE로 하는 이유\n",
    "    # (1) 예측 오차의 크기를 실제 값의 단위로 해석하고자 할 때 유용\n",
    "    # (2) RMSE는 MSE와 동일한 오차 척도를 가지지만, 제곱근의 적용으로 오차의 크기를 실제 값의 단위로 변환\n",
    "    #     이로 인해 RMSE는 예측 오차의 크기에 덜 민감하게 반응함\n",
    "    \n",
    "    # 모델 학습\n",
    "    cat_features = ['quality'] # 범주형 데이터 'quality' : CatBoost의 cat_features 매개변수에 전달 필요\n",
    "    catboost = CatBoostRegressor(**params)\n",
    "    catboost.fit(x_train, y_train, eval_set=(x_test, y_test), early_stopping_rounds=50, verbose=False, cat_features=cat_features)\n",
    "    \n",
    "    # 예측\n",
    "    y_pred = catboost.predict(x_test)\n",
    "    \n",
    "    # 모델 평가    \n",
    "    mse = mean_squared_error(y_test, y_pred)\n",
    "    rmse = np.sqrt(mse)\n",
    "    r2 = r2_score(y_test, y_pred)\n",
    "\n",
    "    print(f\"mse : {mse}\")\n",
    "    print(f\"rmse : {rmse}\")\n",
    "    print(f\"r2 : {r2}\")\n",
    "    \n",
    "    return mse"
   ]
  },
  {
   "cell_type": "code",
   "execution_count": 62,
   "metadata": {},
   "outputs": [
    {
     "name": "stderr",
     "output_type": "stream",
     "text": [
      "[I 2023-06-13 10:54:01,288] A new study created in memory with name: no-name-6530fa1e-2904-4eea-ac72-8eed4306800e\n",
      "C:\\Users\\dohee\\AppData\\Local\\Temp\\ipykernel_9272\\2431007722.py:10: FutureWarning: suggest_loguniform has been deprecated in v3.0.0. This feature will be removed in v6.0.0. See https://github.com/optuna/optuna/releases/tag/v3.0.0. Use suggest_float(..., log=True) instead.\n",
      "  'l2_leaf_reg': trial.suggest_loguniform('l2_leaf_reg', 1e-5, 100),\n",
      "[I 2023-06-13 10:54:11,730] Trial 0 finished with value: 19821336517.72387 and parameters: {'iterations': 214, 'learning_rate': 0.03836143247530876, 'depth': 6, 'l2_leaf_reg': 0.0004317812047818332}. Best is trial 0 with value: 19821336517.72387.\n"
     ]
    },
    {
     "name": "stdout",
     "output_type": "stream",
     "text": [
      "mse : 19821336517.72387\n",
      "rmse : 140788.26839521775\n",
      "r2 : 0.8085746378495381\n"
     ]
    },
    {
     "name": "stderr",
     "output_type": "stream",
     "text": [
      "C:\\Users\\dohee\\AppData\\Local\\Temp\\ipykernel_9272\\2431007722.py:10: FutureWarning: suggest_loguniform has been deprecated in v3.0.0. This feature will be removed in v6.0.0. See https://github.com/optuna/optuna/releases/tag/v3.0.0. Use suggest_float(..., log=True) instead.\n",
      "  'l2_leaf_reg': trial.suggest_loguniform('l2_leaf_reg', 1e-5, 100),\n",
      "[I 2023-06-13 10:54:41,162] Trial 1 finished with value: 17173942791.324183 and parameters: {'iterations': 1979, 'learning_rate': 0.06930295002902043, 'depth': 9, 'l2_leaf_reg': 0.05739955704806684}. Best is trial 1 with value: 17173942791.324183.\n"
     ]
    },
    {
     "name": "stdout",
     "output_type": "stream",
     "text": [
      "mse : 17173942791.324183\n",
      "rmse : 131049.39065605831\n",
      "r2 : 0.8341419502443289\n"
     ]
    },
    {
     "name": "stderr",
     "output_type": "stream",
     "text": [
      "C:\\Users\\dohee\\AppData\\Local\\Temp\\ipykernel_9272\\2431007722.py:10: FutureWarning: suggest_loguniform has been deprecated in v3.0.0. This feature will be removed in v6.0.0. See https://github.com/optuna/optuna/releases/tag/v3.0.0. Use suggest_float(..., log=True) instead.\n",
      "  'l2_leaf_reg': trial.suggest_loguniform('l2_leaf_reg', 1e-5, 100),\n",
      "[I 2023-06-13 10:55:06,524] Trial 2 finished with value: 17858724446.356106 and parameters: {'iterations': 705, 'learning_rate': 0.0711467230617822, 'depth': 5, 'l2_leaf_reg': 1.8182943447934695e-05}. Best is trial 1 with value: 17173942791.324183.\n"
     ]
    },
    {
     "name": "stdout",
     "output_type": "stream",
     "text": [
      "mse : 17858724446.356106\n",
      "rmse : 133636.53859014797\n",
      "r2 : 0.8275286436092659\n"
     ]
    },
    {
     "name": "stderr",
     "output_type": "stream",
     "text": [
      "C:\\Users\\dohee\\AppData\\Local\\Temp\\ipykernel_9272\\2431007722.py:10: FutureWarning: suggest_loguniform has been deprecated in v3.0.0. This feature will be removed in v6.0.0. See https://github.com/optuna/optuna/releases/tag/v3.0.0. Use suggest_float(..., log=True) instead.\n",
      "  'l2_leaf_reg': trial.suggest_loguniform('l2_leaf_reg', 1e-5, 100),\n",
      "[I 2023-06-13 10:55:35,557] Trial 3 finished with value: 17120253310.950056 and parameters: {'iterations': 2788, 'learning_rate': 0.07580369095295048, 'depth': 9, 'l2_leaf_reg': 0.0001466169440201493}. Best is trial 3 with value: 17120253310.950056.\n"
     ]
    },
    {
     "name": "stdout",
     "output_type": "stream",
     "text": [
      "mse : 17120253310.950056\n",
      "rmse : 130844.38585950127\n",
      "r2 : 0.8346604585807924\n"
     ]
    },
    {
     "name": "stderr",
     "output_type": "stream",
     "text": [
      "C:\\Users\\dohee\\AppData\\Local\\Temp\\ipykernel_9272\\2431007722.py:10: FutureWarning: suggest_loguniform has been deprecated in v3.0.0. This feature will be removed in v6.0.0. See https://github.com/optuna/optuna/releases/tag/v3.0.0. Use suggest_float(..., log=True) instead.\n",
      "  'l2_leaf_reg': trial.suggest_loguniform('l2_leaf_reg', 1e-5, 100),\n",
      "[I 2023-06-13 10:55:48,115] Trial 4 finished with value: 17966410430.17827 and parameters: {'iterations': 208, 'learning_rate': 0.05435176310000589, 'depth': 9, 'l2_leaf_reg': 0.03396266733216595}. Best is trial 3 with value: 17120253310.950056.\n"
     ]
    },
    {
     "name": "stdout",
     "output_type": "stream",
     "text": [
      "mse : 17966410430.17827\n",
      "rmse : 134038.83926003787\n",
      "r2 : 0.8264886618485379\n"
     ]
    },
    {
     "name": "stderr",
     "output_type": "stream",
     "text": [
      "C:\\Users\\dohee\\AppData\\Local\\Temp\\ipykernel_9272\\2431007722.py:10: FutureWarning: suggest_loguniform has been deprecated in v3.0.0. This feature will be removed in v6.0.0. See https://github.com/optuna/optuna/releases/tag/v3.0.0. Use suggest_float(..., log=True) instead.\n",
      "  'l2_leaf_reg': trial.suggest_loguniform('l2_leaf_reg', 1e-5, 100),\n",
      "[I 2023-06-13 10:56:38,100] Trial 5 finished with value: 17295390820.882587 and parameters: {'iterations': 1354, 'learning_rate': 0.08949167674550981, 'depth': 9, 'l2_leaf_reg': 12.705927334071609}. Best is trial 3 with value: 17120253310.950056.\n"
     ]
    },
    {
     "name": "stdout",
     "output_type": "stream",
     "text": [
      "mse : 17295390820.882587\n",
      "rmse : 131511.94174249953\n",
      "r2 : 0.8329690609681749\n"
     ]
    },
    {
     "name": "stderr",
     "output_type": "stream",
     "text": [
      "C:\\Users\\dohee\\AppData\\Local\\Temp\\ipykernel_9272\\2431007722.py:10: FutureWarning: suggest_loguniform has been deprecated in v3.0.0. This feature will be removed in v6.0.0. See https://github.com/optuna/optuna/releases/tag/v3.0.0. Use suggest_float(..., log=True) instead.\n",
      "  'l2_leaf_reg': trial.suggest_loguniform('l2_leaf_reg', 1e-5, 100),\n",
      "[I 2023-06-13 10:56:57,500] Trial 6 finished with value: 17357761702.691643 and parameters: {'iterations': 1165, 'learning_rate': 0.09550478088730789, 'depth': 10, 'l2_leaf_reg': 0.0011997286508828643}. Best is trial 3 with value: 17120253310.950056.\n"
     ]
    },
    {
     "name": "stdout",
     "output_type": "stream",
     "text": [
      "mse : 17357761702.691643\n",
      "rmse : 131748.85844929222\n",
      "r2 : 0.8323667116448956\n"
     ]
    },
    {
     "name": "stderr",
     "output_type": "stream",
     "text": [
      "C:\\Users\\dohee\\AppData\\Local\\Temp\\ipykernel_9272\\2431007722.py:10: FutureWarning: suggest_loguniform has been deprecated in v3.0.0. This feature will be removed in v6.0.0. See https://github.com/optuna/optuna/releases/tag/v3.0.0. Use suggest_float(..., log=True) instead.\n",
      "  'l2_leaf_reg': trial.suggest_loguniform('l2_leaf_reg', 1e-5, 100),\n",
      "[I 2023-06-13 10:57:44,569] Trial 7 finished with value: 17158867440.105513 and parameters: {'iterations': 3832, 'learning_rate': 0.045560805055178295, 'depth': 9, 'l2_leaf_reg': 0.00727325457618988}. Best is trial 3 with value: 17120253310.950056.\n"
     ]
    },
    {
     "name": "stdout",
     "output_type": "stream",
     "text": [
      "mse : 17158867440.105513\n",
      "rmse : 130991.86020553153\n",
      "r2 : 0.8342875410607705\n"
     ]
    },
    {
     "name": "stderr",
     "output_type": "stream",
     "text": [
      "C:\\Users\\dohee\\AppData\\Local\\Temp\\ipykernel_9272\\2431007722.py:10: FutureWarning: suggest_loguniform has been deprecated in v3.0.0. This feature will be removed in v6.0.0. See https://github.com/optuna/optuna/releases/tag/v3.0.0. Use suggest_float(..., log=True) instead.\n",
      "  'l2_leaf_reg': trial.suggest_loguniform('l2_leaf_reg', 1e-5, 100),\n",
      "[I 2023-06-13 10:58:10,227] Trial 8 finished with value: 17747297796.5324 and parameters: {'iterations': 3392, 'learning_rate': 0.07922073337260269, 'depth': 5, 'l2_leaf_reg': 0.7117368097428808}. Best is trial 3 with value: 17120253310.950056.\n"
     ]
    },
    {
     "name": "stdout",
     "output_type": "stream",
     "text": [
      "mse : 17747297796.5324\n",
      "rmse : 133218.9843698427\n",
      "r2 : 0.828604751003772\n"
     ]
    },
    {
     "name": "stderr",
     "output_type": "stream",
     "text": [
      "C:\\Users\\dohee\\AppData\\Local\\Temp\\ipykernel_9272\\2431007722.py:10: FutureWarning: suggest_loguniform has been deprecated in v3.0.0. This feature will be removed in v6.0.0. See https://github.com/optuna/optuna/releases/tag/v3.0.0. Use suggest_float(..., log=True) instead.\n",
      "  'l2_leaf_reg': trial.suggest_loguniform('l2_leaf_reg', 1e-5, 100),\n",
      "[I 2023-06-13 10:59:01,744] Trial 9 finished with value: 17291712336.52421 and parameters: {'iterations': 3254, 'learning_rate': 0.04976480661191664, 'depth': 7, 'l2_leaf_reg': 4.57516736616847e-05}. Best is trial 3 with value: 17120253310.950056.\n"
     ]
    },
    {
     "name": "stdout",
     "output_type": "stream",
     "text": [
      "mse : 17291712336.52421\n",
      "rmse : 131497.95563629197\n",
      "r2 : 0.8330045860802094\n"
     ]
    },
    {
     "name": "stderr",
     "output_type": "stream",
     "text": [
      "C:\\Users\\dohee\\AppData\\Local\\Temp\\ipykernel_9272\\2431007722.py:10: FutureWarning: suggest_loguniform has been deprecated in v3.0.0. This feature will be removed in v6.0.0. See https://github.com/optuna/optuna/releases/tag/v3.0.0. Use suggest_float(..., log=True) instead.\n",
      "  'l2_leaf_reg': trial.suggest_loguniform('l2_leaf_reg', 1e-5, 100),\n",
      "[I 2023-06-13 11:00:45,341] Trial 10 finished with value: 17329115205.060787 and parameters: {'iterations': 2570, 'learning_rate': 0.015919484905243142, 'depth': 7, 'l2_leaf_reg': 1.4370274922636043e-05}. Best is trial 3 with value: 17120253310.950056.\n"
     ]
    },
    {
     "name": "stdout",
     "output_type": "stream",
     "text": [
      "mse : 17329115205.060787\n",
      "rmse : 131640.09725406917\n",
      "r2 : 0.8326433663587907\n"
     ]
    },
    {
     "name": "stderr",
     "output_type": "stream",
     "text": [
      "C:\\Users\\dohee\\AppData\\Local\\Temp\\ipykernel_9272\\2431007722.py:10: FutureWarning: suggest_loguniform has been deprecated in v3.0.0. This feature will be removed in v6.0.0. See https://github.com/optuna/optuna/releases/tag/v3.0.0. Use suggest_float(..., log=True) instead.\n",
      "  'l2_leaf_reg': trial.suggest_loguniform('l2_leaf_reg', 1e-5, 100),\n",
      "[I 2023-06-13 11:01:36,244] Trial 11 finished with value: 17005591984.883333 and parameters: {'iterations': 3852, 'learning_rate': 0.03704956364010855, 'depth': 10, 'l2_leaf_reg': 0.0013921237239924848}. Best is trial 11 with value: 17005591984.883333.\n"
     ]
    },
    {
     "name": "stdout",
     "output_type": "stream",
     "text": [
      "mse : 17005591984.883333\n",
      "rmse : 130405.49062398919\n",
      "r2 : 0.8357678049924406\n"
     ]
    },
    {
     "name": "stderr",
     "output_type": "stream",
     "text": [
      "C:\\Users\\dohee\\AppData\\Local\\Temp\\ipykernel_9272\\2431007722.py:10: FutureWarning: suggest_loguniform has been deprecated in v3.0.0. This feature will be removed in v6.0.0. See https://github.com/optuna/optuna/releases/tag/v3.0.0. Use suggest_float(..., log=True) instead.\n",
      "  'l2_leaf_reg': trial.suggest_loguniform('l2_leaf_reg', 1e-5, 100),\n",
      "[I 2023-06-13 11:02:36,151] Trial 12 finished with value: 16979773711.575397 and parameters: {'iterations': 2721, 'learning_rate': 0.02465627905009301, 'depth': 10, 'l2_leaf_reg': 0.00029237891584553253}. Best is trial 12 with value: 16979773711.575397.\n"
     ]
    },
    {
     "name": "stdout",
     "output_type": "stream",
     "text": [
      "mse : 16979773711.575397\n",
      "rmse : 130306.46074379965\n",
      "r2 : 0.8360171460151135\n"
     ]
    },
    {
     "name": "stderr",
     "output_type": "stream",
     "text": [
      "C:\\Users\\dohee\\AppData\\Local\\Temp\\ipykernel_9272\\2431007722.py:10: FutureWarning: suggest_loguniform has been deprecated in v3.0.0. This feature will be removed in v6.0.0. See https://github.com/optuna/optuna/releases/tag/v3.0.0. Use suggest_float(..., log=True) instead.\n",
      "  'l2_leaf_reg': trial.suggest_loguniform('l2_leaf_reg', 1e-5, 100),\n",
      "[I 2023-06-13 11:03:41,729] Trial 13 finished with value: 16990361356.127262 and parameters: {'iterations': 3946, 'learning_rate': 0.02741252171296538, 'depth': 10, 'l2_leaf_reg': 0.0007709219147743232}. Best is trial 12 with value: 16979773711.575397.\n"
     ]
    },
    {
     "name": "stdout",
     "output_type": "stream",
     "text": [
      "mse : 16990361356.127262\n",
      "rmse : 130347.08035137289\n",
      "r2 : 0.8359148954080038\n"
     ]
    },
    {
     "name": "stderr",
     "output_type": "stream",
     "text": [
      "C:\\Users\\dohee\\AppData\\Local\\Temp\\ipykernel_9272\\2431007722.py:10: FutureWarning: suggest_loguniform has been deprecated in v3.0.0. This feature will be removed in v6.0.0. See https://github.com/optuna/optuna/releases/tag/v3.0.0. Use suggest_float(..., log=True) instead.\n",
      "  'l2_leaf_reg': trial.suggest_loguniform('l2_leaf_reg', 1e-5, 100),\n",
      "[I 2023-06-13 11:05:12,723] Trial 14 finished with value: 17218577480.765373 and parameters: {'iterations': 2159, 'learning_rate': 0.017884090554632425, 'depth': 8, 'l2_leaf_reg': 0.0003491561340296701}. Best is trial 12 with value: 16979773711.575397.\n"
     ]
    },
    {
     "name": "stdout",
     "output_type": "stream",
     "text": [
      "mse : 17218577480.765373\n",
      "rmse : 131219.57735324927\n",
      "r2 : 0.8337108889189176\n"
     ]
    },
    {
     "name": "stderr",
     "output_type": "stream",
     "text": [
      "C:\\Users\\dohee\\AppData\\Local\\Temp\\ipykernel_9272\\2431007722.py:10: FutureWarning: suggest_loguniform has been deprecated in v3.0.0. This feature will be removed in v6.0.0. See https://github.com/optuna/optuna/releases/tag/v3.0.0. Use suggest_float(..., log=True) instead.\n",
      "  'l2_leaf_reg': trial.suggest_loguniform('l2_leaf_reg', 1e-5, 100),\n",
      "[I 2023-06-13 11:06:30,901] Trial 15 finished with value: 17057024695.304184 and parameters: {'iterations': 3191, 'learning_rate': 0.025606004976598012, 'depth': 10, 'l2_leaf_reg': 0.0034232051328063518}. Best is trial 12 with value: 16979773711.575397.\n"
     ]
    },
    {
     "name": "stdout",
     "output_type": "stream",
     "text": [
      "mse : 17057024695.304184\n",
      "rmse : 130602.54475049168\n",
      "r2 : 0.835271091503424\n"
     ]
    },
    {
     "name": "stderr",
     "output_type": "stream",
     "text": [
      "C:\\Users\\dohee\\AppData\\Local\\Temp\\ipykernel_9272\\2431007722.py:10: FutureWarning: suggest_loguniform has been deprecated in v3.0.0. This feature will be removed in v6.0.0. See https://github.com/optuna/optuna/releases/tag/v3.0.0. Use suggest_float(..., log=True) instead.\n",
      "  'l2_leaf_reg': trial.suggest_loguniform('l2_leaf_reg', 1e-5, 100),\n",
      "[I 2023-06-13 11:07:43,745] Trial 16 finished with value: 17033362639.078768 and parameters: {'iterations': 2093, 'learning_rate': 0.027661473132726558, 'depth': 8, 'l2_leaf_reg': 0.00011193992505695533}. Best is trial 12 with value: 16979773711.575397.\n"
     ]
    },
    {
     "name": "stdout",
     "output_type": "stream",
     "text": [
      "mse : 17033362639.078768\n",
      "rmse : 130511.92527535086\n",
      "r2 : 0.8354996087720816\n"
     ]
    },
    {
     "name": "stderr",
     "output_type": "stream",
     "text": [
      "C:\\Users\\dohee\\AppData\\Local\\Temp\\ipykernel_9272\\2431007722.py:10: FutureWarning: suggest_loguniform has been deprecated in v3.0.0. This feature will be removed in v6.0.0. See https://github.com/optuna/optuna/releases/tag/v3.0.0. Use suggest_float(..., log=True) instead.\n",
      "  'l2_leaf_reg': trial.suggest_loguniform('l2_leaf_reg', 1e-5, 100),\n",
      "[I 2023-06-13 11:09:07,330] Trial 17 finished with value: 18190432177.86505 and parameters: {'iterations': 3981, 'learning_rate': 0.011733600445220585, 'depth': 4, 'l2_leaf_reg': 0.00804786020265707}. Best is trial 12 with value: 16979773711.575397.\n"
     ]
    },
    {
     "name": "stdout",
     "output_type": "stream",
     "text": [
      "mse : 18190432177.86505\n",
      "rmse : 134871.9102625341\n",
      "r2 : 0.8243251627251474\n"
     ]
    },
    {
     "name": "stderr",
     "output_type": "stream",
     "text": [
      "C:\\Users\\dohee\\AppData\\Local\\Temp\\ipykernel_9272\\2431007722.py:10: FutureWarning: suggest_loguniform has been deprecated in v3.0.0. This feature will be removed in v6.0.0. See https://github.com/optuna/optuna/releases/tag/v3.0.0. Use suggest_float(..., log=True) instead.\n",
      "  'l2_leaf_reg': trial.suggest_loguniform('l2_leaf_reg', 1e-5, 100),\n",
      "[I 2023-06-13 11:09:58,464] Trial 18 finished with value: 17154847626.062372 and parameters: {'iterations': 2771, 'learning_rate': 0.03197448797349616, 'depth': 8, 'l2_leaf_reg': 0.00012086983708816697}. Best is trial 12 with value: 16979773711.575397.\n"
     ]
    },
    {
     "name": "stdout",
     "output_type": "stream",
     "text": [
      "mse : 17154847626.062372\n",
      "rmse : 130976.51555169107\n",
      "r2 : 0.8343263625780935\n"
     ]
    },
    {
     "name": "stderr",
     "output_type": "stream",
     "text": [
      "C:\\Users\\dohee\\AppData\\Local\\Temp\\ipykernel_9272\\2431007722.py:10: FutureWarning: suggest_loguniform has been deprecated in v3.0.0. This feature will be removed in v6.0.0. See https://github.com/optuna/optuna/releases/tag/v3.0.0. Use suggest_float(..., log=True) instead.\n",
      "  'l2_leaf_reg': trial.suggest_loguniform('l2_leaf_reg', 1e-5, 100),\n",
      "[I 2023-06-13 11:11:19,998] Trial 19 finished with value: 16958151840.425182 and parameters: {'iterations': 3427, 'learning_rate': 0.020102887536213247, 'depth': 10, 'l2_leaf_reg': 0.0007464012986362586}. Best is trial 19 with value: 16958151840.425182.\n"
     ]
    },
    {
     "name": "stdout",
     "output_type": "stream",
     "text": [
      "mse : 16958151840.425182\n",
      "rmse : 130223.46885421683\n",
      "r2 : 0.8362259601135775\n"
     ]
    },
    {
     "name": "stderr",
     "output_type": "stream",
     "text": [
      "C:\\Users\\dohee\\AppData\\Local\\Temp\\ipykernel_9272\\2431007722.py:10: FutureWarning: suggest_loguniform has been deprecated in v3.0.0. This feature will be removed in v6.0.0. See https://github.com/optuna/optuna/releases/tag/v3.0.0. Use suggest_float(..., log=True) instead.\n",
      "  'l2_leaf_reg': trial.suggest_loguniform('l2_leaf_reg', 1e-5, 100),\n",
      "[I 2023-06-13 11:13:11,307] Trial 20 finished with value: 17179078825.28057 and parameters: {'iterations': 2428, 'learning_rate': 0.011077150459003078, 'depth': 8, 'l2_leaf_reg': 1.0434429897277096e-05}. Best is trial 19 with value: 16958151840.425182.\n"
     ]
    },
    {
     "name": "stdout",
     "output_type": "stream",
     "text": [
      "mse : 17179078825.28057\n",
      "rmse : 131068.98498607735\n",
      "r2 : 0.8340923487878762\n"
     ]
    },
    {
     "name": "stderr",
     "output_type": "stream",
     "text": [
      "C:\\Users\\dohee\\AppData\\Local\\Temp\\ipykernel_9272\\2431007722.py:10: FutureWarning: suggest_loguniform has been deprecated in v3.0.0. This feature will be removed in v6.0.0. See https://github.com/optuna/optuna/releases/tag/v3.0.0. Use suggest_float(..., log=True) instead.\n",
      "  'l2_leaf_reg': trial.suggest_loguniform('l2_leaf_reg', 1e-5, 100),\n",
      "[I 2023-06-13 11:14:27,361] Trial 21 finished with value: 16976757593.525213 and parameters: {'iterations': 3663, 'learning_rate': 0.021870001540249547, 'depth': 10, 'l2_leaf_reg': 0.0007211195432551702}. Best is trial 19 with value: 16958151840.425182.\n"
     ]
    },
    {
     "name": "stdout",
     "output_type": "stream",
     "text": [
      "mse : 16976757593.525213\n",
      "rmse : 130294.88705826185\n",
      "r2 : 0.8360462742976351\n"
     ]
    },
    {
     "name": "stderr",
     "output_type": "stream",
     "text": [
      "C:\\Users\\dohee\\AppData\\Local\\Temp\\ipykernel_9272\\2431007722.py:10: FutureWarning: suggest_loguniform has been deprecated in v3.0.0. This feature will be removed in v6.0.0. See https://github.com/optuna/optuna/releases/tag/v3.0.0. Use suggest_float(..., log=True) instead.\n",
      "  'l2_leaf_reg': trial.suggest_loguniform('l2_leaf_reg', 1e-5, 100),\n",
      "[I 2023-06-13 11:15:48,141] Trial 22 finished with value: 16989613657.735918 and parameters: {'iterations': 3409, 'learning_rate': 0.020623457197717673, 'depth': 10, 'l2_leaf_reg': 0.002778463372140477}. Best is trial 19 with value: 16958151840.425182.\n"
     ]
    },
    {
     "name": "stdout",
     "output_type": "stream",
     "text": [
      "mse : 16989613657.735918\n",
      "rmse : 130344.21221418279\n",
      "r2 : 0.8359221163355742\n"
     ]
    },
    {
     "name": "stderr",
     "output_type": "stream",
     "text": [
      "C:\\Users\\dohee\\AppData\\Local\\Temp\\ipykernel_9272\\2431007722.py:10: FutureWarning: suggest_loguniform has been deprecated in v3.0.0. This feature will be removed in v6.0.0. See https://github.com/optuna/optuna/releases/tag/v3.0.0. Use suggest_float(..., log=True) instead.\n",
      "  'l2_leaf_reg': trial.suggest_loguniform('l2_leaf_reg', 1e-5, 100),\n",
      "[I 2023-06-13 11:17:02,645] Trial 23 finished with value: 17055515441.852005 and parameters: {'iterations': 2987, 'learning_rate': 0.021078390752360374, 'depth': 10, 'l2_leaf_reg': 0.00028287555737704277}. Best is trial 19 with value: 16958151840.425182.\n"
     ]
    },
    {
     "name": "stdout",
     "output_type": "stream",
     "text": [
      "mse : 17055515441.852005\n",
      "rmse : 130596.76658268383\n",
      "r2 : 0.8352856671799129\n"
     ]
    },
    {
     "name": "stderr",
     "output_type": "stream",
     "text": [
      "C:\\Users\\dohee\\AppData\\Local\\Temp\\ipykernel_9272\\2431007722.py:10: FutureWarning: suggest_loguniform has been deprecated in v3.0.0. This feature will be removed in v6.0.0. See https://github.com/optuna/optuna/releases/tag/v3.0.0. Use suggest_float(..., log=True) instead.\n",
      "  'l2_leaf_reg': trial.suggest_loguniform('l2_leaf_reg', 1e-5, 100),\n",
      "[I 2023-06-13 11:17:45,066] Trial 24 finished with value: 17178865188.363314 and parameters: {'iterations': 3580, 'learning_rate': 0.03586461867890649, 'depth': 9, 'l2_leaf_reg': 5.2511909282019605e-05}. Best is trial 19 with value: 16958151840.425182.\n"
     ]
    },
    {
     "name": "stdout",
     "output_type": "stream",
     "text": [
      "mse : 17178865188.363314\n",
      "rmse : 131068.17000463276\n",
      "r2 : 0.8340944119950781\n"
     ]
    },
    {
     "name": "stderr",
     "output_type": "stream",
     "text": [
      "C:\\Users\\dohee\\AppData\\Local\\Temp\\ipykernel_9272\\2431007722.py:10: FutureWarning: suggest_loguniform has been deprecated in v3.0.0. This feature will be removed in v6.0.0. See https://github.com/optuna/optuna/releases/tag/v3.0.0. Use suggest_float(..., log=True) instead.\n",
      "  'l2_leaf_reg': trial.suggest_loguniform('l2_leaf_reg', 1e-5, 100),\n",
      "[I 2023-06-13 11:18:55,257] Trial 25 finished with value: 17019777983.75839 and parameters: {'iterations': 3004, 'learning_rate': 0.022875989932783412, 'depth': 10, 'l2_leaf_reg': 0.0005633389349574917}. Best is trial 19 with value: 16958151840.425182.\n"
     ]
    },
    {
     "name": "stdout",
     "output_type": "stream",
     "text": [
      "mse : 17019777983.75839\n",
      "rmse : 130459.87116258543\n",
      "r2 : 0.8356308031323645\n"
     ]
    },
    {
     "name": "stderr",
     "output_type": "stream",
     "text": [
      "C:\\Users\\dohee\\AppData\\Local\\Temp\\ipykernel_9272\\2431007722.py:10: FutureWarning: suggest_loguniform has been deprecated in v3.0.0. This feature will be removed in v6.0.0. See https://github.com/optuna/optuna/releases/tag/v3.0.0. Use suggest_float(..., log=True) instead.\n",
      "  'l2_leaf_reg': trial.suggest_loguniform('l2_leaf_reg', 1e-5, 100),\n",
      "[I 2023-06-13 11:19:26,595] Trial 26 finished with value: 17162142327.877033 and parameters: {'iterations': 3587, 'learning_rate': 0.043131265812917235, 'depth': 9, 'l2_leaf_reg': 0.011115932784821854}. Best is trial 19 with value: 16958151840.425182.\n"
     ]
    },
    {
     "name": "stdout",
     "output_type": "stream",
     "text": [
      "mse : 17162142327.877033\n",
      "rmse : 131004.35995751071\n",
      "r2 : 0.8342559136991592\n"
     ]
    },
    {
     "name": "stderr",
     "output_type": "stream",
     "text": [
      "C:\\Users\\dohee\\AppData\\Local\\Temp\\ipykernel_9272\\2431007722.py:10: FutureWarning: suggest_loguniform has been deprecated in v3.0.0. This feature will be removed in v6.0.0. See https://github.com/optuna/optuna/releases/tag/v3.0.0. Use suggest_float(..., log=True) instead.\n",
      "  'l2_leaf_reg': trial.suggest_loguniform('l2_leaf_reg', 1e-5, 100),\n",
      "[I 2023-06-13 11:20:24,184] Trial 27 finished with value: 17246603413.47319 and parameters: {'iterations': 2441, 'learning_rate': 0.030199105610905184, 'depth': 8, 'l2_leaf_reg': 0.0016144868569716888}. Best is trial 19 with value: 16958151840.425182.\n"
     ]
    },
    {
     "name": "stdout",
     "output_type": "stream",
     "text": [
      "mse : 17246603413.47319\n",
      "rmse : 131326.32414513547\n",
      "r2 : 0.8334402273359612\n"
     ]
    },
    {
     "name": "stderr",
     "output_type": "stream",
     "text": [
      "C:\\Users\\dohee\\AppData\\Local\\Temp\\ipykernel_9272\\2431007722.py:10: FutureWarning: suggest_loguniform has been deprecated in v3.0.0. This feature will be removed in v6.0.0. See https://github.com/optuna/optuna/releases/tag/v3.0.0. Use suggest_float(..., log=True) instead.\n",
      "  'l2_leaf_reg': trial.suggest_loguniform('l2_leaf_reg', 1e-5, 100),\n",
      "[I 2023-06-13 11:21:20,160] Trial 28 finished with value: 17704363433.51856 and parameters: {'iterations': 1720, 'learning_rate': 0.016440709695398598, 'depth': 6, 'l2_leaf_reg': 3.88139889023635e-05}. Best is trial 19 with value: 16958151840.425182.\n"
     ]
    },
    {
     "name": "stdout",
     "output_type": "stream",
     "text": [
      "mse : 17704363433.51856\n",
      "rmse : 133057.74473332457\n",
      "r2 : 0.8290193913576793\n"
     ]
    },
    {
     "name": "stderr",
     "output_type": "stream",
     "text": [
      "C:\\Users\\dohee\\AppData\\Local\\Temp\\ipykernel_9272\\2431007722.py:10: FutureWarning: suggest_loguniform has been deprecated in v3.0.0. This feature will be removed in v6.0.0. See https://github.com/optuna/optuna/releases/tag/v3.0.0. Use suggest_float(..., log=True) instead.\n",
      "  'l2_leaf_reg': trial.suggest_loguniform('l2_leaf_reg', 1e-5, 100),\n",
      "[I 2023-06-13 11:22:11,918] Trial 29 finished with value: 16955785545.63508 and parameters: {'iterations': 3568, 'learning_rate': 0.03455548115099196, 'depth': 10, 'l2_leaf_reg': 0.00038594107288706384}. Best is trial 29 with value: 16955785545.63508.\n"
     ]
    },
    {
     "name": "stdout",
     "output_type": "stream",
     "text": [
      "mse : 16955785545.63508\n",
      "rmse : 130214.38302136627\n",
      "r2 : 0.8362488127015826\n"
     ]
    },
    {
     "name": "stderr",
     "output_type": "stream",
     "text": [
      "C:\\Users\\dohee\\AppData\\Local\\Temp\\ipykernel_9272\\2431007722.py:10: FutureWarning: suggest_loguniform has been deprecated in v3.0.0. This feature will be removed in v6.0.0. See https://github.com/optuna/optuna/releases/tag/v3.0.0. Use suggest_float(..., log=True) instead.\n",
      "  'l2_leaf_reg': trial.suggest_loguniform('l2_leaf_reg', 1e-5, 100),\n",
      "[I 2023-06-13 11:23:01,086] Trial 30 finished with value: 17155289299.425941 and parameters: {'iterations': 3615, 'learning_rate': 0.03492190755817217, 'depth': 9, 'l2_leaf_reg': 0.0006992405515755559}. Best is trial 29 with value: 16955785545.63508.\n"
     ]
    },
    {
     "name": "stdout",
     "output_type": "stream",
     "text": [
      "mse : 17155289299.425941\n",
      "rmse : 130978.20161929977\n",
      "r2 : 0.8343220970996531\n"
     ]
    },
    {
     "name": "stderr",
     "output_type": "stream",
     "text": [
      "C:\\Users\\dohee\\AppData\\Local\\Temp\\ipykernel_9272\\2431007722.py:10: FutureWarning: suggest_loguniform has been deprecated in v3.0.0. This feature will be removed in v6.0.0. See https://github.com/optuna/optuna/releases/tag/v3.0.0. Use suggest_float(..., log=True) instead.\n",
      "  'l2_leaf_reg': trial.suggest_loguniform('l2_leaf_reg', 1e-5, 100),\n",
      "[I 2023-06-13 11:24:09,683] Trial 31 finished with value: 17051357568.586546 and parameters: {'iterations': 3026, 'learning_rate': 0.025349543446957327, 'depth': 10, 'l2_leaf_reg': 0.00022062075809204458}. Best is trial 29 with value: 16955785545.63508.\n"
     ]
    },
    {
     "name": "stdout",
     "output_type": "stream",
     "text": [
      "mse : 17051357568.586546\n",
      "rmse : 130580.84686732027\n",
      "r2 : 0.8353258220097804\n"
     ]
    },
    {
     "name": "stderr",
     "output_type": "stream",
     "text": [
      "C:\\Users\\dohee\\AppData\\Local\\Temp\\ipykernel_9272\\2431007722.py:10: FutureWarning: suggest_loguniform has been deprecated in v3.0.0. This feature will be removed in v6.0.0. See https://github.com/optuna/optuna/releases/tag/v3.0.0. Use suggest_float(..., log=True) instead.\n",
      "  'l2_leaf_reg': trial.suggest_loguniform('l2_leaf_reg', 1e-5, 100),\n",
      "[I 2023-06-13 11:24:51,370] Trial 32 finished with value: 17170149774.912172 and parameters: {'iterations': 3603, 'learning_rate': 0.04002559924939094, 'depth': 10, 'l2_leaf_reg': 0.00038300055008884176}. Best is trial 29 with value: 16955785545.63508.\n"
     ]
    },
    {
     "name": "stdout",
     "output_type": "stream",
     "text": [
      "mse : 17170149774.912172\n",
      "rmse : 131034.91815127818\n",
      "r2 : 0.8341785814543213\n"
     ]
    },
    {
     "name": "stderr",
     "output_type": "stream",
     "text": [
      "C:\\Users\\dohee\\AppData\\Local\\Temp\\ipykernel_9272\\2431007722.py:10: FutureWarning: suggest_loguniform has been deprecated in v3.0.0. This feature will be removed in v6.0.0. See https://github.com/optuna/optuna/releases/tag/v3.0.0. Use suggest_float(..., log=True) instead.\n",
      "  'l2_leaf_reg': trial.suggest_loguniform('l2_leaf_reg', 1e-5, 100),\n",
      "[I 2023-06-13 11:25:59,154] Trial 33 finished with value: 16899871504.158113 and parameters: {'iterations': 3203, 'learning_rate': 0.03137452567384212, 'depth': 10, 'l2_leaf_reg': 9.734496531093227e-05}. Best is trial 33 with value: 16899871504.158113.\n"
     ]
    },
    {
     "name": "stdout",
     "output_type": "stream",
     "text": [
      "mse : 16899871504.158113\n",
      "rmse : 129999.50578428409\n",
      "r2 : 0.8367888048272121\n"
     ]
    },
    {
     "name": "stderr",
     "output_type": "stream",
     "text": [
      "C:\\Users\\dohee\\AppData\\Local\\Temp\\ipykernel_9272\\2431007722.py:10: FutureWarning: suggest_loguniform has been deprecated in v3.0.0. This feature will be removed in v6.0.0. See https://github.com/optuna/optuna/releases/tag/v3.0.0. Use suggest_float(..., log=True) instead.\n",
      "  'l2_leaf_reg': trial.suggest_loguniform('l2_leaf_reg', 1e-5, 100),\n",
      "[I 2023-06-13 11:26:45,129] Trial 34 finished with value: 17084702427.605328 and parameters: {'iterations': 3217, 'learning_rate': 0.031983582690088413, 'depth': 9, 'l2_leaf_reg': 5.7963410878080725e-05}. Best is trial 33 with value: 16899871504.158113.\n"
     ]
    },
    {
     "name": "stdout",
     "output_type": "stream",
     "text": [
      "mse : 17084702427.605328\n",
      "rmse : 130708.46348880905\n",
      "r2 : 0.8350037926800318\n"
     ]
    },
    {
     "name": "stderr",
     "output_type": "stream",
     "text": [
      "C:\\Users\\dohee\\AppData\\Local\\Temp\\ipykernel_9272\\2431007722.py:10: FutureWarning: suggest_loguniform has been deprecated in v3.0.0. This feature will be removed in v6.0.0. See https://github.com/optuna/optuna/releases/tag/v3.0.0. Use suggest_float(..., log=True) instead.\n",
      "  'l2_leaf_reg': trial.suggest_loguniform('l2_leaf_reg', 1e-5, 100),\n",
      "[I 2023-06-13 11:27:30,160] Trial 35 finished with value: 16849371454.269333 and parameters: {'iterations': 3434, 'learning_rate': 0.040658411489512505, 'depth': 9, 'l2_leaf_reg': 0.00010682022944241584}. Best is trial 35 with value: 16849371454.269333.\n"
     ]
    },
    {
     "name": "stdout",
     "output_type": "stream",
     "text": [
      "mse : 16849371454.269333\n",
      "rmse : 129805.12876719984\n",
      "r2 : 0.837276511109275\n"
     ]
    },
    {
     "name": "stderr",
     "output_type": "stream",
     "text": [
      "C:\\Users\\dohee\\AppData\\Local\\Temp\\ipykernel_9272\\2431007722.py:10: FutureWarning: suggest_loguniform has been deprecated in v3.0.0. This feature will be removed in v6.0.0. See https://github.com/optuna/optuna/releases/tag/v3.0.0. Use suggest_float(..., log=True) instead.\n",
      "  'l2_leaf_reg': trial.suggest_loguniform('l2_leaf_reg', 1e-5, 100),\n",
      "[I 2023-06-13 11:27:55,224] Trial 36 finished with value: 17335973857.990643 and parameters: {'iterations': 503, 'learning_rate': 0.05881869749245124, 'depth': 9, 'l2_leaf_reg': 2.6135367866570498e-05}. Best is trial 35 with value: 16849371454.269333.\n"
     ]
    },
    {
     "name": "stdout",
     "output_type": "stream",
     "text": [
      "mse : 17335973857.990643\n",
      "rmse : 131666.1454512535\n",
      "r2 : 0.8325771286396648\n"
     ]
    },
    {
     "name": "stderr",
     "output_type": "stream",
     "text": [
      "C:\\Users\\dohee\\AppData\\Local\\Temp\\ipykernel_9272\\2431007722.py:10: FutureWarning: suggest_loguniform has been deprecated in v3.0.0. This feature will be removed in v6.0.0. See https://github.com/optuna/optuna/releases/tag/v3.0.0. Use suggest_float(..., log=True) instead.\n",
      "  'l2_leaf_reg': trial.suggest_loguniform('l2_leaf_reg', 1e-5, 100),\n",
      "[I 2023-06-13 11:28:40,546] Trial 37 finished with value: 17038979178.084536 and parameters: {'iterations': 3375, 'learning_rate': 0.039974564785073885, 'depth': 9, 'l2_leaf_reg': 9.991026956572898e-05}. Best is trial 35 with value: 16849371454.269333.\n"
     ]
    },
    {
     "name": "stdout",
     "output_type": "stream",
     "text": [
      "mse : 17038979178.084536\n",
      "rmse : 130533.44084212495\n",
      "r2 : 0.8354453668186065\n"
     ]
    },
    {
     "name": "stderr",
     "output_type": "stream",
     "text": [
      "C:\\Users\\dohee\\AppData\\Local\\Temp\\ipykernel_9272\\2431007722.py:10: FutureWarning: suggest_loguniform has been deprecated in v3.0.0. This feature will be removed in v6.0.0. See https://github.com/optuna/optuna/releases/tag/v3.0.0. Use suggest_float(..., log=True) instead.\n",
      "  'l2_leaf_reg': trial.suggest_loguniform('l2_leaf_reg', 1e-5, 100),\n",
      "[I 2023-06-13 11:29:27,029] Trial 38 finished with value: 17090607888.984814 and parameters: {'iterations': 3047, 'learning_rate': 0.045755005430873325, 'depth': 10, 'l2_leaf_reg': 2.5882075765842223e-05}. Best is trial 35 with value: 16849371454.269333.\n"
     ]
    },
    {
     "name": "stdout",
     "output_type": "stream",
     "text": [
      "mse : 17090607888.984814\n",
      "rmse : 130731.05173976385\n",
      "r2 : 0.8349467604470023\n"
     ]
    },
    {
     "name": "stderr",
     "output_type": "stream",
     "text": [
      "C:\\Users\\dohee\\AppData\\Local\\Temp\\ipykernel_9272\\2431007722.py:10: FutureWarning: suggest_loguniform has been deprecated in v3.0.0. This feature will be removed in v6.0.0. See https://github.com/optuna/optuna/releases/tag/v3.0.0. Use suggest_float(..., log=True) instead.\n",
      "  'l2_leaf_reg': trial.suggest_loguniform('l2_leaf_reg', 1e-5, 100),\n",
      "[I 2023-06-13 11:30:08,467] Trial 39 finished with value: 17133839474.763826 and parameters: {'iterations': 1642, 'learning_rate': 0.03294887734287894, 'depth': 9, 'l2_leaf_reg': 0.00010799584206916762}. Best is trial 35 with value: 16849371454.269333.\n"
     ]
    },
    {
     "name": "stdout",
     "output_type": "stream",
     "text": [
      "mse : 17133839474.763826\n",
      "rmse : 130896.2928228444\n",
      "r2 : 0.8345292496521733\n"
     ]
    },
    {
     "name": "stderr",
     "output_type": "stream",
     "text": [
      "C:\\Users\\dohee\\AppData\\Local\\Temp\\ipykernel_9272\\2431007722.py:10: FutureWarning: suggest_loguniform has been deprecated in v3.0.0. This feature will be removed in v6.0.0. See https://github.com/optuna/optuna/releases/tag/v3.0.0. Use suggest_float(..., log=True) instead.\n",
      "  'l2_leaf_reg': trial.suggest_loguniform('l2_leaf_reg', 1e-5, 100),\n",
      "[I 2023-06-13 11:30:57,392] Trial 40 finished with value: 17146635326.999973 and parameters: {'iterations': 1060, 'learning_rate': 0.03754519582462004, 'depth': 8, 'l2_leaf_reg': 1.0002033380879253e-05}. Best is trial 35 with value: 16849371454.269333.\n"
     ]
    },
    {
     "name": "stdout",
     "output_type": "stream",
     "text": [
      "mse : 17146635326.999973\n",
      "rmse : 130945.16152573173\n",
      "r2 : 0.8344056731897014\n"
     ]
    },
    {
     "name": "stderr",
     "output_type": "stream",
     "text": [
      "C:\\Users\\dohee\\AppData\\Local\\Temp\\ipykernel_9272\\2431007722.py:10: FutureWarning: suggest_loguniform has been deprecated in v3.0.0. This feature will be removed in v6.0.0. See https://github.com/optuna/optuna/releases/tag/v3.0.0. Use suggest_float(..., log=True) instead.\n",
      "  'l2_leaf_reg': trial.suggest_loguniform('l2_leaf_reg', 1e-5, 100),\n",
      "[I 2023-06-13 11:31:53,037] Trial 41 finished with value: 17071056098.760424 and parameters: {'iterations': 3761, 'learning_rate': 0.029214502058217785, 'depth': 10, 'l2_leaf_reg': 0.00018292611053048914}. Best is trial 35 with value: 16849371454.269333.\n"
     ]
    },
    {
     "name": "stdout",
     "output_type": "stream",
     "text": [
      "mse : 17071056098.760424\n",
      "rmse : 130656.25166351751\n",
      "r2 : 0.8351355826548815\n"
     ]
    },
    {
     "name": "stderr",
     "output_type": "stream",
     "text": [
      "C:\\Users\\dohee\\AppData\\Local\\Temp\\ipykernel_9272\\2431007722.py:10: FutureWarning: suggest_loguniform has been deprecated in v3.0.0. This feature will be removed in v6.0.0. See https://github.com/optuna/optuna/releases/tag/v3.0.0. Use suggest_float(..., log=True) instead.\n",
      "  'l2_leaf_reg': trial.suggest_loguniform('l2_leaf_reg', 1e-5, 100),\n",
      "[I 2023-06-13 11:32:39,080] Trial 42 finished with value: 17079980283.315493 and parameters: {'iterations': 3727, 'learning_rate': 0.030171857567321318, 'depth': 10, 'l2_leaf_reg': 0.0011470718518967115}. Best is trial 35 with value: 16849371454.269333.\n"
     ]
    },
    {
     "name": "stdout",
     "output_type": "stream",
     "text": [
      "mse : 17079980283.315493\n",
      "rmse : 130690.3985888615\n",
      "r2 : 0.8350493969802262\n"
     ]
    },
    {
     "name": "stderr",
     "output_type": "stream",
     "text": [
      "C:\\Users\\dohee\\AppData\\Local\\Temp\\ipykernel_9272\\2431007722.py:10: FutureWarning: suggest_loguniform has been deprecated in v3.0.0. This feature will be removed in v6.0.0. See https://github.com/optuna/optuna/releases/tag/v3.0.0. Use suggest_float(..., log=True) instead.\n",
      "  'l2_leaf_reg': trial.suggest_loguniform('l2_leaf_reg', 1e-5, 100),\n",
      "[I 2023-06-13 11:34:00,578] Trial 43 finished with value: 17002172047.313356 and parameters: {'iterations': 3486, 'learning_rate': 0.020517301477291486, 'depth': 10, 'l2_leaf_reg': 0.0006708402840303367}. Best is trial 35 with value: 16849371454.269333.\n"
     ]
    },
    {
     "name": "stdout",
     "output_type": "stream",
     "text": [
      "mse : 17002172047.313356\n",
      "rmse : 130392.37725922998\n",
      "r2 : 0.8358008331783694\n"
     ]
    },
    {
     "name": "stderr",
     "output_type": "stream",
     "text": [
      "C:\\Users\\dohee\\AppData\\Local\\Temp\\ipykernel_9272\\2431007722.py:10: FutureWarning: suggest_loguniform has been deprecated in v3.0.0. This feature will be removed in v6.0.0. See https://github.com/optuna/optuna/releases/tag/v3.0.0. Use suggest_float(..., log=True) instead.\n",
      "  'l2_leaf_reg': trial.suggest_loguniform('l2_leaf_reg', 1e-5, 100),\n",
      "[I 2023-06-13 11:35:19,180] Trial 44 finished with value: 17240716466.490704 and parameters: {'iterations': 3251, 'learning_rate': 0.01561086301110573, 'depth': 9, 'l2_leaf_reg': 8.045587159626761e-05}. Best is trial 35 with value: 16849371454.269333.\n"
     ]
    },
    {
     "name": "stdout",
     "output_type": "stream",
     "text": [
      "mse : 17240716466.490704\n",
      "rmse : 131303.9088012642\n",
      "r2 : 0.83349708076545\n"
     ]
    },
    {
     "name": "stderr",
     "output_type": "stream",
     "text": [
      "C:\\Users\\dohee\\AppData\\Local\\Temp\\ipykernel_9272\\2431007722.py:10: FutureWarning: suggest_loguniform has been deprecated in v3.0.0. This feature will be removed in v6.0.0. See https://github.com/optuna/optuna/releases/tag/v3.0.0. Use suggest_float(..., log=True) instead.\n",
      "  'l2_leaf_reg': trial.suggest_loguniform('l2_leaf_reg', 1e-5, 100),\n",
      "[I 2023-06-13 11:36:31,949] Trial 45 finished with value: 16994182840.09072 and parameters: {'iterations': 3783, 'learning_rate': 0.02466097087991021, 'depth': 10, 'l2_leaf_reg': 0.0002022427503702906}. Best is trial 35 with value: 16849371454.269333.\n"
     ]
    },
    {
     "name": "stdout",
     "output_type": "stream",
     "text": [
      "mse : 16994182840.09072\n",
      "rmse : 130361.73840544901\n",
      "r2 : 0.8358779892714775\n"
     ]
    },
    {
     "name": "stderr",
     "output_type": "stream",
     "text": [
      "C:\\Users\\dohee\\AppData\\Local\\Temp\\ipykernel_9272\\2431007722.py:10: FutureWarning: suggest_loguniform has been deprecated in v3.0.0. This feature will be removed in v6.0.0. See https://github.com/optuna/optuna/releases/tag/v3.0.0. Use suggest_float(..., log=True) instead.\n",
      "  'l2_leaf_reg': trial.suggest_loguniform('l2_leaf_reg', 1e-5, 100),\n",
      "[I 2023-06-13 11:37:11,106] Trial 46 finished with value: 17554402371.691273 and parameters: {'iterations': 3344, 'learning_rate': 0.03383658259750613, 'depth': 6, 'l2_leaf_reg': 2.145988731012615e-05}. Best is trial 35 with value: 16849371454.269333.\n"
     ]
    },
    {
     "name": "stdout",
     "output_type": "stream",
     "text": [
      "mse : 17554402371.691273\n",
      "rmse : 132493.0276342543\n",
      "r2 : 0.8304676464005765\n"
     ]
    },
    {
     "name": "stderr",
     "output_type": "stream",
     "text": [
      "C:\\Users\\dohee\\AppData\\Local\\Temp\\ipykernel_9272\\2431007722.py:10: FutureWarning: suggest_loguniform has been deprecated in v3.0.0. This feature will be removed in v6.0.0. See https://github.com/optuna/optuna/releases/tag/v3.0.0. Use suggest_float(..., log=True) instead.\n",
      "  'l2_leaf_reg': trial.suggest_loguniform('l2_leaf_reg', 1e-5, 100),\n",
      "[I 2023-06-13 11:38:05,970] Trial 47 finished with value: 16947716234.596067 and parameters: {'iterations': 2890, 'learning_rate': 0.04029270241480863, 'depth': 10, 'l2_leaf_reg': 0.0004375278654237937}. Best is trial 35 with value: 16849371454.269333.\n"
     ]
    },
    {
     "name": "stdout",
     "output_type": "stream",
     "text": [
      "mse : 16947716234.596067\n",
      "rmse : 130183.39461926805\n",
      "r2 : 0.8363267424005495\n"
     ]
    },
    {
     "name": "stderr",
     "output_type": "stream",
     "text": [
      "C:\\Users\\dohee\\AppData\\Local\\Temp\\ipykernel_9272\\2431007722.py:10: FutureWarning: suggest_loguniform has been deprecated in v3.0.0. This feature will be removed in v6.0.0. See https://github.com/optuna/optuna/releases/tag/v3.0.0. Use suggest_float(..., log=True) instead.\n",
      "  'l2_leaf_reg': trial.suggest_loguniform('l2_leaf_reg', 1e-5, 100),\n",
      "[I 2023-06-13 11:38:38,745] Trial 48 finished with value: 17383727557.754135 and parameters: {'iterations': 2723, 'learning_rate': 0.049510333623911676, 'depth': 7, 'l2_leaf_reg': 0.0027954840735194327}. Best is trial 35 with value: 16849371454.269333.\n"
     ]
    },
    {
     "name": "stdout",
     "output_type": "stream",
     "text": [
      "mse : 17383727557.754135\n",
      "rmse : 131847.36462195267\n",
      "r2 : 0.8321159453454365\n"
     ]
    },
    {
     "name": "stderr",
     "output_type": "stream",
     "text": [
      "C:\\Users\\dohee\\AppData\\Local\\Temp\\ipykernel_9272\\2431007722.py:10: FutureWarning: suggest_loguniform has been deprecated in v3.0.0. This feature will be removed in v6.0.0. See https://github.com/optuna/optuna/releases/tag/v3.0.0. Use suggest_float(..., log=True) instead.\n",
      "  'l2_leaf_reg': trial.suggest_loguniform('l2_leaf_reg', 1e-5, 100),\n",
      "[I 2023-06-13 11:39:19,751] Trial 49 finished with value: 17007557001.545078 and parameters: {'iterations': 3141, 'learning_rate': 0.04113828993800242, 'depth': 10, 'l2_leaf_reg': 4.909045077020228e-05}. Best is trial 35 with value: 16849371454.269333.\n"
     ]
    },
    {
     "name": "stdout",
     "output_type": "stream",
     "text": [
      "mse : 17007557001.545078\n",
      "rmse : 130413.02466220572\n",
      "r2 : 0.8357488277642517\n"
     ]
    },
    {
     "name": "stderr",
     "output_type": "stream",
     "text": [
      "C:\\Users\\dohee\\AppData\\Local\\Temp\\ipykernel_9272\\2431007722.py:10: FutureWarning: suggest_loguniform has been deprecated in v3.0.0. This feature will be removed in v6.0.0. See https://github.com/optuna/optuna/releases/tag/v3.0.0. Use suggest_float(..., log=True) instead.\n",
      "  'l2_leaf_reg': trial.suggest_loguniform('l2_leaf_reg', 1e-5, 100),\n",
      "[I 2023-06-13 11:40:06,623] Trial 50 finished with value: 16954497965.736177 and parameters: {'iterations': 2882, 'learning_rate': 0.03761160832276439, 'depth': 9, 'l2_leaf_reg': 0.0004448661254444054}. Best is trial 35 with value: 16849371454.269333.\n"
     ]
    },
    {
     "name": "stdout",
     "output_type": "stream",
     "text": [
      "mse : 16954497965.736177\n",
      "rmse : 130209.43885040046\n",
      "r2 : 0.8362612475567309\n"
     ]
    },
    {
     "name": "stderr",
     "output_type": "stream",
     "text": [
      "C:\\Users\\dohee\\AppData\\Local\\Temp\\ipykernel_9272\\2431007722.py:10: FutureWarning: suggest_loguniform has been deprecated in v3.0.0. This feature will be removed in v6.0.0. See https://github.com/optuna/optuna/releases/tag/v3.0.0. Use suggest_float(..., log=True) instead.\n",
      "  'l2_leaf_reg': trial.suggest_loguniform('l2_leaf_reg', 1e-5, 100),\n",
      "[I 2023-06-13 11:40:49,268] Trial 51 finished with value: 17131645049.746824 and parameters: {'iterations': 2860, 'learning_rate': 0.03662059651435416, 'depth': 9, 'l2_leaf_reg': 0.00039774480194667346}. Best is trial 35 with value: 16849371454.269333.\n"
     ]
    },
    {
     "name": "stdout",
     "output_type": "stream",
     "text": [
      "mse : 17131645049.746824\n",
      "rmse : 130887.91025051483\n",
      "r2 : 0.834550442400867\n"
     ]
    },
    {
     "name": "stderr",
     "output_type": "stream",
     "text": [
      "C:\\Users\\dohee\\AppData\\Local\\Temp\\ipykernel_9272\\2431007722.py:10: FutureWarning: suggest_loguniform has been deprecated in v3.0.0. This feature will be removed in v6.0.0. See https://github.com/optuna/optuna/releases/tag/v3.0.0. Use suggest_float(..., log=True) instead.\n",
      "  'l2_leaf_reg': trial.suggest_loguniform('l2_leaf_reg', 1e-5, 100),\n",
      "[I 2023-06-13 11:41:22,211] Trial 52 finished with value: 17119857232.333069 and parameters: {'iterations': 2478, 'learning_rate': 0.045115948535723316, 'depth': 9, 'l2_leaf_reg': 0.00017278546823868736}. Best is trial 35 with value: 16849371454.269333.\n"
     ]
    },
    {
     "name": "stdout",
     "output_type": "stream",
     "text": [
      "mse : 17119857232.333069\n",
      "rmse : 130842.87230236529\n",
      "r2 : 0.8346642837261163\n"
     ]
    },
    {
     "name": "stderr",
     "output_type": "stream",
     "text": [
      "C:\\Users\\dohee\\AppData\\Local\\Temp\\ipykernel_9272\\2431007722.py:10: FutureWarning: suggest_loguniform has been deprecated in v3.0.0. This feature will be removed in v6.0.0. See https://github.com/optuna/optuna/releases/tag/v3.0.0. Use suggest_float(..., log=True) instead.\n",
      "  'l2_leaf_reg': trial.suggest_loguniform('l2_leaf_reg', 1e-5, 100),\n",
      "[I 2023-06-13 11:42:37,458] Trial 53 finished with value: 17083499031.894632 and parameters: {'iterations': 2300, 'learning_rate': 0.027620616316929622, 'depth': 9, 'l2_leaf_reg': 0.0003832594064803689}. Best is trial 35 with value: 16849371454.269333.\n"
     ]
    },
    {
     "name": "stdout",
     "output_type": "stream",
     "text": [
      "mse : 17083499031.894632\n",
      "rmse : 130703.86004971174\n",
      "r2 : 0.8350154145229647\n"
     ]
    },
    {
     "name": "stderr",
     "output_type": "stream",
     "text": [
      "C:\\Users\\dohee\\AppData\\Local\\Temp\\ipykernel_9272\\2431007722.py:10: FutureWarning: suggest_loguniform has been deprecated in v3.0.0. This feature will be removed in v6.0.0. See https://github.com/optuna/optuna/releases/tag/v3.0.0. Use suggest_float(..., log=True) instead.\n",
      "  'l2_leaf_reg': trial.suggest_loguniform('l2_leaf_reg', 1e-5, 100),\n",
      "[I 2023-06-13 11:43:22,966] Trial 54 finished with value: 17090331668.47064 and parameters: {'iterations': 2878, 'learning_rate': 0.03853655086560118, 'depth': 10, 'l2_leaf_reg': 8.230904949124662e-05}. Best is trial 35 with value: 16849371454.269333.\n"
     ]
    },
    {
     "name": "stdout",
     "output_type": "stream",
     "text": [
      "mse : 17090331668.47064\n",
      "rmse : 130729.99528979813\n",
      "r2 : 0.8349494280578322\n"
     ]
    },
    {
     "name": "stderr",
     "output_type": "stream",
     "text": [
      "C:\\Users\\dohee\\AppData\\Local\\Temp\\ipykernel_9272\\2431007722.py:10: FutureWarning: suggest_loguniform has been deprecated in v3.0.0. This feature will be removed in v6.0.0. See https://github.com/optuna/optuna/releases/tag/v3.0.0. Use suggest_float(..., log=True) instead.\n",
      "  'l2_leaf_reg': trial.suggest_loguniform('l2_leaf_reg', 1e-5, 100),\n",
      "[I 2023-06-13 11:43:59,299] Trial 55 finished with value: 18103183501.852497 and parameters: {'iterations': 3485, 'learning_rate': 0.035163738972786296, 'depth': 4, 'l2_leaf_reg': 0.001155641531366892}. Best is trial 35 with value: 16849371454.269333.\n"
     ]
    },
    {
     "name": "stdout",
     "output_type": "stream",
     "text": [
      "mse : 18103183501.852497\n",
      "rmse : 134548.07134200213\n",
      "r2 : 0.8251677703559658\n"
     ]
    },
    {
     "name": "stderr",
     "output_type": "stream",
     "text": [
      "C:\\Users\\dohee\\AppData\\Local\\Temp\\ipykernel_9272\\2431007722.py:10: FutureWarning: suggest_loguniform has been deprecated in v3.0.0. This feature will be removed in v6.0.0. See https://github.com/optuna/optuna/releases/tag/v3.0.0. Use suggest_float(..., log=True) instead.\n",
      "  'l2_leaf_reg': trial.suggest_loguniform('l2_leaf_reg', 1e-5, 100),\n",
      "[I 2023-06-13 11:44:39,983] Trial 56 finished with value: 17050545478.385405 and parameters: {'iterations': 2656, 'learning_rate': 0.04207793714349515, 'depth': 10, 'l2_leaf_reg': 0.00015179878183172433}. Best is trial 35 with value: 16849371454.269333.\n"
     ]
    },
    {
     "name": "stdout",
     "output_type": "stream",
     "text": [
      "mse : 17050545478.385405\n",
      "rmse : 130577.73729999078\n",
      "r2 : 0.8353336648038682\n"
     ]
    },
    {
     "name": "stderr",
     "output_type": "stream",
     "text": [
      "C:\\Users\\dohee\\AppData\\Local\\Temp\\ipykernel_9272\\2431007722.py:10: FutureWarning: suggest_loguniform has been deprecated in v3.0.0. This feature will be removed in v6.0.0. See https://github.com/optuna/optuna/releases/tag/v3.0.0. Use suggest_float(..., log=True) instead.\n",
      "  'l2_leaf_reg': trial.suggest_loguniform('l2_leaf_reg', 1e-5, 100),\n",
      "[I 2023-06-13 11:45:23,488] Trial 57 finished with value: 17103145461.610111 and parameters: {'iterations': 3132, 'learning_rate': 0.030778535177866835, 'depth': 8, 'l2_leaf_reg': 0.00026731001287595344}. Best is trial 35 with value: 16849371454.269333.\n"
     ]
    },
    {
     "name": "stdout",
     "output_type": "stream",
     "text": [
      "mse : 17103145461.610111\n",
      "rmse : 130778.99472625606\n",
      "r2 : 0.834825678330358\n"
     ]
    },
    {
     "name": "stderr",
     "output_type": "stream",
     "text": [
      "C:\\Users\\dohee\\AppData\\Local\\Temp\\ipykernel_9272\\2431007722.py:10: FutureWarning: suggest_loguniform has been deprecated in v3.0.0. This feature will be removed in v6.0.0. See https://github.com/optuna/optuna/releases/tag/v3.0.0. Use suggest_float(..., log=True) instead.\n",
      "  'l2_leaf_reg': trial.suggest_loguniform('l2_leaf_reg', 1e-5, 100),\n",
      "[I 2023-06-13 11:45:57,769] Trial 58 finished with value: 17166379780.78921 and parameters: {'iterations': 3886, 'learning_rate': 0.049537957113232035, 'depth': 7, 'l2_leaf_reg': 0.0018253851863316746}. Best is trial 35 with value: 16849371454.269333.\n"
     ]
    },
    {
     "name": "stdout",
     "output_type": "stream",
     "text": [
      "mse : 17166379780.78921\n",
      "rmse : 131020.53190545828\n",
      "r2 : 0.8342149903256226\n"
     ]
    },
    {
     "name": "stderr",
     "output_type": "stream",
     "text": [
      "C:\\Users\\dohee\\AppData\\Local\\Temp\\ipykernel_9272\\2431007722.py:10: FutureWarning: suggest_loguniform has been deprecated in v3.0.0. This feature will be removed in v6.0.0. See https://github.com/optuna/optuna/releases/tag/v3.0.0. Use suggest_float(..., log=True) instead.\n",
      "  'l2_leaf_reg': trial.suggest_loguniform('l2_leaf_reg', 1e-5, 100),\n",
      "[I 2023-06-13 11:46:52,055] Trial 59 finished with value: 17670731816.548344 and parameters: {'iterations': 3309, 'learning_rate': 0.027919808527785625, 'depth': 5, 'l2_leaf_reg': 0.006039718517437047}. Best is trial 35 with value: 16849371454.269333.\n"
     ]
    },
    {
     "name": "stdout",
     "output_type": "stream",
     "text": [
      "mse : 17670731816.548344\n",
      "rmse : 132931.30487792686\n",
      "r2 : 0.8293441900639861\n"
     ]
    },
    {
     "name": "stderr",
     "output_type": "stream",
     "text": [
      "C:\\Users\\dohee\\AppData\\Local\\Temp\\ipykernel_9272\\2431007722.py:10: FutureWarning: suggest_loguniform has been deprecated in v3.0.0. This feature will be removed in v6.0.0. See https://github.com/optuna/optuna/releases/tag/v3.0.0. Use suggest_float(..., log=True) instead.\n",
      "  'l2_leaf_reg': trial.suggest_loguniform('l2_leaf_reg', 1e-5, 100),\n",
      "[I 2023-06-13 11:47:37,420] Trial 60 finished with value: 17173160196.056948 and parameters: {'iterations': 2224, 'learning_rate': 0.03816493367428661, 'depth': 10, 'l2_leaf_reg': 0.00048110475757796466}. Best is trial 35 with value: 16849371454.269333.\n"
     ]
    },
    {
     "name": "stdout",
     "output_type": "stream",
     "text": [
      "mse : 17173160196.056948\n",
      "rmse : 131046.4047429648\n",
      "r2 : 0.834149508189895\n"
     ]
    },
    {
     "name": "stderr",
     "output_type": "stream",
     "text": [
      "C:\\Users\\dohee\\AppData\\Local\\Temp\\ipykernel_9272\\2431007722.py:10: FutureWarning: suggest_loguniform has been deprecated in v3.0.0. This feature will be removed in v6.0.0. See https://github.com/optuna/optuna/releases/tag/v3.0.0. Use suggest_float(..., log=True) instead.\n",
      "  'l2_leaf_reg': trial.suggest_loguniform('l2_leaf_reg', 1e-5, 100),\n",
      "[I 2023-06-13 11:49:13,313] Trial 61 finished with value: 16983373483.942875 and parameters: {'iterations': 3989, 'learning_rate': 0.03374558587962958, 'depth': 10, 'l2_leaf_reg': 0.0013104268194194903}. Best is trial 35 with value: 16849371454.269333.\n"
     ]
    },
    {
     "name": "stdout",
     "output_type": "stream",
     "text": [
      "mse : 16983373483.942875\n",
      "rmse : 130320.27272816334\n",
      "r2 : 0.8359823810673266\n"
     ]
    },
    {
     "name": "stderr",
     "output_type": "stream",
     "text": [
      "C:\\Users\\dohee\\AppData\\Local\\Temp\\ipykernel_9272\\2431007722.py:10: FutureWarning: suggest_loguniform has been deprecated in v3.0.0. This feature will be removed in v6.0.0. See https://github.com/optuna/optuna/releases/tag/v3.0.0. Use suggest_float(..., log=True) instead.\n",
      "  'l2_leaf_reg': trial.suggest_loguniform('l2_leaf_reg', 1e-5, 100),\n",
      "[I 2023-06-13 11:50:34,026] Trial 62 finished with value: 17102161545.521801 and parameters: {'iterations': 3486, 'learning_rate': 0.023884723879800965, 'depth': 10, 'l2_leaf_reg': 0.0007533508096430499}. Best is trial 35 with value: 16849371454.269333.\n"
     ]
    },
    {
     "name": "stdout",
     "output_type": "stream",
     "text": [
      "mse : 17102161545.521801\n",
      "rmse : 130775.23292092353\n",
      "r2 : 0.834835180539927\n"
     ]
    },
    {
     "name": "stderr",
     "output_type": "stream",
     "text": [
      "C:\\Users\\dohee\\AppData\\Local\\Temp\\ipykernel_9272\\2431007722.py:10: FutureWarning: suggest_loguniform has been deprecated in v3.0.0. This feature will be removed in v6.0.0. See https://github.com/optuna/optuna/releases/tag/v3.0.0. Use suggest_float(..., log=True) instead.\n",
      "  'l2_leaf_reg': trial.suggest_loguniform('l2_leaf_reg', 1e-5, 100),\n",
      "[I 2023-06-13 11:52:40,908] Trial 63 finished with value: 16948257210.97801 and parameters: {'iterations': 3681, 'learning_rate': 0.018844262610948934, 'depth': 10, 'l2_leaf_reg': 0.0008259836227967348}. Best is trial 35 with value: 16849371454.269333.\n"
     ]
    },
    {
     "name": "stdout",
     "output_type": "stream",
     "text": [
      "mse : 16948257210.97801\n",
      "rmse : 130185.47234994391\n",
      "r2 : 0.8363215178991776\n"
     ]
    },
    {
     "name": "stderr",
     "output_type": "stream",
     "text": [
      "C:\\Users\\dohee\\AppData\\Local\\Temp\\ipykernel_9272\\2431007722.py:10: FutureWarning: suggest_loguniform has been deprecated in v3.0.0. This feature will be removed in v6.0.0. See https://github.com/optuna/optuna/releases/tag/v3.0.0. Use suggest_float(..., log=True) instead.\n",
      "  'l2_leaf_reg': trial.suggest_loguniform('l2_leaf_reg', 1e-5, 100),\n",
      "[I 2023-06-13 11:55:05,669] Trial 64 finished with value: 17010137981.262157 and parameters: {'iterations': 2891, 'learning_rate': 0.013920922039231318, 'depth': 10, 'l2_leaf_reg': 0.0003135701075778047}. Best is trial 35 with value: 16849371454.269333.\n"
     ]
    },
    {
     "name": "stdout",
     "output_type": "stream",
     "text": [
      "mse : 17010137981.262157\n",
      "rmse : 130422.91969305916\n",
      "r2 : 0.8357239018478483\n"
     ]
    },
    {
     "name": "stderr",
     "output_type": "stream",
     "text": [
      "C:\\Users\\dohee\\AppData\\Local\\Temp\\ipykernel_9272\\2431007722.py:10: FutureWarning: suggest_loguniform has been deprecated in v3.0.0. This feature will be removed in v6.0.0. See https://github.com/optuna/optuna/releases/tag/v3.0.0. Use suggest_float(..., log=True) instead.\n",
      "  'l2_leaf_reg': trial.suggest_loguniform('l2_leaf_reg', 1e-5, 100),\n",
      "[I 2023-06-13 11:56:28,825] Trial 65 finished with value: 16973215767.28044 and parameters: {'iterations': 3464, 'learning_rate': 0.01984247380418224, 'depth': 9, 'l2_leaf_reg': 0.00012893871539919357}. Best is trial 35 with value: 16849371454.269333.\n"
     ]
    },
    {
     "name": "stdout",
     "output_type": "stream",
     "text": [
      "mse : 16973215767.28044\n",
      "rmse : 130281.29477127727\n",
      "r2 : 0.8360804796283894\n"
     ]
    },
    {
     "name": "stderr",
     "output_type": "stream",
     "text": [
      "C:\\Users\\dohee\\AppData\\Local\\Temp\\ipykernel_9272\\2431007722.py:10: FutureWarning: suggest_loguniform has been deprecated in v3.0.0. This feature will be removed in v6.0.0. See https://github.com/optuna/optuna/releases/tag/v3.0.0. Use suggest_float(..., log=True) instead.\n",
      "  'l2_leaf_reg': trial.suggest_loguniform('l2_leaf_reg', 1e-5, 100),\n",
      "[I 2023-06-13 11:57:33,052] Trial 66 finished with value: 17103492286.624323 and parameters: {'iterations': 3687, 'learning_rate': 0.02639533535611653, 'depth': 10, 'l2_leaf_reg': 0.004509838517013556}. Best is trial 35 with value: 16849371454.269333.\n"
     ]
    },
    {
     "name": "stdout",
     "output_type": "stream",
     "text": [
      "mse : 17103492286.624323\n",
      "rmse : 130780.32071617014\n",
      "r2 : 0.8348223288537024\n"
     ]
    },
    {
     "name": "stderr",
     "output_type": "stream",
     "text": [
      "C:\\Users\\dohee\\AppData\\Local\\Temp\\ipykernel_9272\\2431007722.py:10: FutureWarning: suggest_loguniform has been deprecated in v3.0.0. This feature will be removed in v6.0.0. See https://github.com/optuna/optuna/releases/tag/v3.0.0. Use suggest_float(..., log=True) instead.\n",
      "  'l2_leaf_reg': trial.suggest_loguniform('l2_leaf_reg', 1e-5, 100),\n",
      "[I 2023-06-13 11:58:54,792] Trial 67 finished with value: 17063089888.36202 and parameters: {'iterations': 2600, 'learning_rate': 0.017723183721849625, 'depth': 9, 'l2_leaf_reg': 0.0024115434651871877}. Best is trial 35 with value: 16849371454.269333.\n"
     ]
    },
    {
     "name": "stdout",
     "output_type": "stream",
     "text": [
      "mse : 17063089888.36202\n",
      "rmse : 130625.76272834552\n",
      "r2 : 0.8352125166552259\n"
     ]
    },
    {
     "name": "stderr",
     "output_type": "stream",
     "text": [
      "C:\\Users\\dohee\\AppData\\Local\\Temp\\ipykernel_9272\\2431007722.py:10: FutureWarning: suggest_loguniform has been deprecated in v3.0.0. This feature will be removed in v6.0.0. See https://github.com/optuna/optuna/releases/tag/v3.0.0. Use suggest_float(..., log=True) instead.\n",
      "  'l2_leaf_reg': trial.suggest_loguniform('l2_leaf_reg', 1e-5, 100),\n",
      "[I 2023-06-13 12:00:21,925] Trial 68 finished with value: 16999809253.168362 and parameters: {'iterations': 1935, 'learning_rate': 0.018857373510252216, 'depth': 10, 'l2_leaf_reg': 0.000909623922117817}. Best is trial 35 with value: 16849371454.269333.\n"
     ]
    },
    {
     "name": "stdout",
     "output_type": "stream",
     "text": [
      "mse : 16999809253.168362\n",
      "rmse : 130383.31662129308\n",
      "r2 : 0.8358236519587523\n"
     ]
    },
    {
     "name": "stderr",
     "output_type": "stream",
     "text": [
      "C:\\Users\\dohee\\AppData\\Local\\Temp\\ipykernel_9272\\2431007722.py:10: FutureWarning: suggest_loguniform has been deprecated in v3.0.0. This feature will be removed in v6.0.0. See https://github.com/optuna/optuna/releases/tag/v3.0.0. Use suggest_float(..., log=True) instead.\n",
      "  'l2_leaf_reg': trial.suggest_loguniform('l2_leaf_reg', 1e-5, 100),\n",
      "[I 2023-06-13 12:03:09,088] Trial 69 finished with value: 16994749324.31991 and parameters: {'iterations': 3191, 'learning_rate': 0.01006545661781843, 'depth': 9, 'l2_leaf_reg': 0.0004939990477619583}. Best is trial 35 with value: 16849371454.269333.\n"
     ]
    },
    {
     "name": "stdout",
     "output_type": "stream",
     "text": [
      "mse : 16994749324.31991\n",
      "rmse : 130363.9111269676\n",
      "r2 : 0.8358725184270352\n"
     ]
    },
    {
     "name": "stderr",
     "output_type": "stream",
     "text": [
      "C:\\Users\\dohee\\AppData\\Local\\Temp\\ipykernel_9272\\2431007722.py:10: FutureWarning: suggest_loguniform has been deprecated in v3.0.0. This feature will be removed in v6.0.0. See https://github.com/optuna/optuna/releases/tag/v3.0.0. Use suggest_float(..., log=True) instead.\n",
      "  'l2_leaf_reg': trial.suggest_loguniform('l2_leaf_reg', 1e-5, 100),\n",
      "[I 2023-06-13 12:04:31,501] Trial 70 finished with value: 17041877799.342642 and parameters: {'iterations': 3860, 'learning_rate': 0.022701163369290463, 'depth': 10, 'l2_leaf_reg': 3.3617066849584204e-05}. Best is trial 35 with value: 16849371454.269333.\n"
     ]
    },
    {
     "name": "stdout",
     "output_type": "stream",
     "text": [
      "mse : 17041877799.342642\n",
      "rmse : 130544.5433533805\n",
      "r2 : 0.8354173732661245\n"
     ]
    },
    {
     "name": "stderr",
     "output_type": "stream",
     "text": [
      "C:\\Users\\dohee\\AppData\\Local\\Temp\\ipykernel_9272\\2431007722.py:10: FutureWarning: suggest_loguniform has been deprecated in v3.0.0. This feature will be removed in v6.0.0. See https://github.com/optuna/optuna/releases/tag/v3.0.0. Use suggest_float(..., log=True) instead.\n",
      "  'l2_leaf_reg': trial.suggest_loguniform('l2_leaf_reg', 1e-5, 100),\n",
      "[I 2023-06-13 12:05:38,837] Trial 71 finished with value: 17124424818.656832 and parameters: {'iterations': 3425, 'learning_rate': 0.01978150914595614, 'depth': 9, 'l2_leaf_reg': 6.78092206064063e-05}. Best is trial 35 with value: 16849371454.269333.\n"
     ]
    },
    {
     "name": "stdout",
     "output_type": "stream",
     "text": [
      "mse : 17124424818.656832\n",
      "rmse : 130860.32560962407\n",
      "r2 : 0.8346201720757542\n"
     ]
    },
    {
     "name": "stderr",
     "output_type": "stream",
     "text": [
      "C:\\Users\\dohee\\AppData\\Local\\Temp\\ipykernel_9272\\2431007722.py:10: FutureWarning: suggest_loguniform has been deprecated in v3.0.0. This feature will be removed in v6.0.0. See https://github.com/optuna/optuna/releases/tag/v3.0.0. Use suggest_float(..., log=True) instead.\n",
      "  'l2_leaf_reg': trial.suggest_loguniform('l2_leaf_reg', 1e-5, 100),\n",
      "[I 2023-06-13 12:08:07,638] Trial 72 finished with value: 17102392874.727953 and parameters: {'iterations': 3530, 'learning_rate': 0.012803177678683067, 'depth': 9, 'l2_leaf_reg': 0.0001456415994905988}. Best is trial 35 with value: 16849371454.269333.\n"
     ]
    },
    {
     "name": "stdout",
     "output_type": "stream",
     "text": [
      "mse : 17102392874.727953\n",
      "rmse : 130776.11737136086\n",
      "r2 : 0.8348329464687269\n"
     ]
    },
    {
     "name": "stderr",
     "output_type": "stream",
     "text": [
      "C:\\Users\\dohee\\AppData\\Local\\Temp\\ipykernel_9272\\2431007722.py:10: FutureWarning: suggest_loguniform has been deprecated in v3.0.0. This feature will be removed in v6.0.0. See https://github.com/optuna/optuna/releases/tag/v3.0.0. Use suggest_float(..., log=True) instead.\n",
      "  'l2_leaf_reg': trial.suggest_loguniform('l2_leaf_reg', 1e-5, 100),\n",
      "[I 2023-06-13 12:08:50,058] Trial 73 finished with value: 17209353958.22124 and parameters: {'iterations': 3084, 'learning_rate': 0.03131711382823072, 'depth': 8, 'l2_leaf_reg': 0.00021998737247592905}. Best is trial 35 with value: 16849371454.269333.\n"
     ]
    },
    {
     "name": "stdout",
     "output_type": "stream",
     "text": [
      "mse : 17209353958.22124\n",
      "rmse : 131184.42727024134\n",
      "r2 : 0.8337999654623552\n"
     ]
    },
    {
     "name": "stderr",
     "output_type": "stream",
     "text": [
      "C:\\Users\\dohee\\AppData\\Local\\Temp\\ipykernel_9272\\2431007722.py:10: FutureWarning: suggest_loguniform has been deprecated in v3.0.0. This feature will be removed in v6.0.0. See https://github.com/optuna/optuna/releases/tag/v3.0.0. Use suggest_float(..., log=True) instead.\n",
      "  'l2_leaf_reg': trial.suggest_loguniform('l2_leaf_reg', 1e-5, 100),\n",
      "[I 2023-06-13 12:10:19,835] Trial 74 finished with value: 16956552227.492912 and parameters: {'iterations': 2931, 'learning_rate': 0.015265942782223626, 'depth': 10, 'l2_leaf_reg': 0.00011558810560773442}. Best is trial 35 with value: 16849371454.269333.\n"
     ]
    },
    {
     "name": "stdout",
     "output_type": "stream",
     "text": [
      "mse : 16956552227.492912\n",
      "rmse : 130217.32690964329\n",
      "r2 : 0.8362414084404138\n"
     ]
    },
    {
     "name": "stderr",
     "output_type": "stream",
     "text": [
      "C:\\Users\\dohee\\AppData\\Local\\Temp\\ipykernel_9272\\2431007722.py:10: FutureWarning: suggest_loguniform has been deprecated in v3.0.0. This feature will be removed in v6.0.0. See https://github.com/optuna/optuna/releases/tag/v3.0.0. Use suggest_float(..., log=True) instead.\n",
      "  'l2_leaf_reg': trial.suggest_loguniform('l2_leaf_reg', 1e-5, 100),\n",
      "[I 2023-06-13 12:12:12,867] Trial 75 finished with value: 17138311970.167593 and parameters: {'iterations': 3277, 'learning_rate': 0.014567190588007987, 'depth': 10, 'l2_leaf_reg': 3.9138863872262716e-05}. Best is trial 35 with value: 16849371454.269333.\n"
     ]
    },
    {
     "name": "stdout",
     "output_type": "stream",
     "text": [
      "mse : 17138311970.167593\n",
      "rmse : 130913.37582603082\n",
      "r2 : 0.8344860563462317\n"
     ]
    },
    {
     "name": "stderr",
     "output_type": "stream",
     "text": [
      "C:\\Users\\dohee\\AppData\\Local\\Temp\\ipykernel_9272\\2431007722.py:10: FutureWarning: suggest_loguniform has been deprecated in v3.0.0. This feature will be removed in v6.0.0. See https://github.com/optuna/optuna/releases/tag/v3.0.0. Use suggest_float(..., log=True) instead.\n",
      "  'l2_leaf_reg': trial.suggest_loguniform('l2_leaf_reg', 1e-5, 100),\n",
      "[I 2023-06-13 12:14:02,210] Trial 76 finished with value: 16951193992.093927 and parameters: {'iterations': 2842, 'learning_rate': 0.0164010862797969, 'depth': 10, 'l2_leaf_reg': 9.131131787467911e-05}. Best is trial 35 with value: 16849371454.269333.\n"
     ]
    },
    {
     "name": "stdout",
     "output_type": "stream",
     "text": [
      "mse : 16951193992.093927\n",
      "rmse : 130196.75108117686\n",
      "r2 : 0.8362931558163197\n"
     ]
    },
    {
     "name": "stderr",
     "output_type": "stream",
     "text": [
      "C:\\Users\\dohee\\AppData\\Local\\Temp\\ipykernel_9272\\2431007722.py:10: FutureWarning: suggest_loguniform has been deprecated in v3.0.0. This feature will be removed in v6.0.0. See https://github.com/optuna/optuna/releases/tag/v3.0.0. Use suggest_float(..., log=True) instead.\n",
      "  'l2_leaf_reg': trial.suggest_loguniform('l2_leaf_reg', 1e-5, 100),\n",
      "[I 2023-06-13 12:15:29,362] Trial 77 finished with value: 17033372684.658382 and parameters: {'iterations': 2981, 'learning_rate': 0.016597952684741162, 'depth': 10, 'l2_leaf_reg': 1.5887176671043276e-05}. Best is trial 35 with value: 16849371454.269333.\n"
     ]
    },
    {
     "name": "stdout",
     "output_type": "stream",
     "text": [
      "mse : 17033372684.658382\n",
      "rmse : 130511.96376063913\n",
      "r2 : 0.8354995117564887\n"
     ]
    },
    {
     "name": "stderr",
     "output_type": "stream",
     "text": [
      "C:\\Users\\dohee\\AppData\\Local\\Temp\\ipykernel_9272\\2431007722.py:10: FutureWarning: suggest_loguniform has been deprecated in v3.0.0. This feature will be removed in v6.0.0. See https://github.com/optuna/optuna/releases/tag/v3.0.0. Use suggest_float(..., log=True) instead.\n",
      "  'l2_leaf_reg': trial.suggest_loguniform('l2_leaf_reg', 1e-5, 100),\n",
      "[I 2023-06-13 12:17:50,918] Trial 78 finished with value: 17013256689.383112 and parameters: {'iterations': 2825, 'learning_rate': 0.012661216286236305, 'depth': 10, 'l2_leaf_reg': 8.24621484256449e-05}. Best is trial 35 with value: 16849371454.269333.\n"
     ]
    },
    {
     "name": "stdout",
     "output_type": "stream",
     "text": [
      "mse : 17013256689.383112\n",
      "rmse : 130434.87528028351\n",
      "r2 : 0.8356937827975531\n"
     ]
    },
    {
     "name": "stderr",
     "output_type": "stream",
     "text": [
      "C:\\Users\\dohee\\AppData\\Local\\Temp\\ipykernel_9272\\2431007722.py:10: FutureWarning: suggest_loguniform has been deprecated in v3.0.0. This feature will be removed in v6.0.0. See https://github.com/optuna/optuna/releases/tag/v3.0.0. Use suggest_float(..., log=True) instead.\n",
      "  'l2_leaf_reg': trial.suggest_loguniform('l2_leaf_reg', 1e-5, 100),\n",
      "[I 2023-06-13 12:19:04,438] Trial 79 finished with value: 17049502300.165865 and parameters: {'iterations': 2929, 'learning_rate': 0.02224272372029326, 'depth': 10, 'l2_leaf_reg': 6.83543506504607e-05}. Best is trial 35 with value: 16849371454.269333.\n"
     ]
    },
    {
     "name": "stdout",
     "output_type": "stream",
     "text": [
      "mse : 17049502300.165865\n",
      "rmse : 130573.7427669356\n",
      "r2 : 0.8353437393398756\n"
     ]
    },
    {
     "name": "stderr",
     "output_type": "stream",
     "text": [
      "C:\\Users\\dohee\\AppData\\Local\\Temp\\ipykernel_9272\\2431007722.py:10: FutureWarning: suggest_loguniform has been deprecated in v3.0.0. This feature will be removed in v6.0.0. See https://github.com/optuna/optuna/releases/tag/v3.0.0. Use suggest_float(..., log=True) instead.\n",
      "  'l2_leaf_reg': trial.suggest_loguniform('l2_leaf_reg', 1e-5, 100),\n",
      "[I 2023-06-13 12:20:11,941] Trial 80 finished with value: 16984289567.690746 and parameters: {'iterations': 2513, 'learning_rate': 0.026131466609063955, 'depth': 10, 'l2_leaf_reg': 0.0002478385309579081}. Best is trial 35 with value: 16849371454.269333.\n"
     ]
    },
    {
     "name": "stdout",
     "output_type": "stream",
     "text": [
      "mse : 16984289567.690746\n",
      "rmse : 130323.78742075733\n",
      "r2 : 0.8359735339513392\n"
     ]
    },
    {
     "name": "stderr",
     "output_type": "stream",
     "text": [
      "C:\\Users\\dohee\\AppData\\Local\\Temp\\ipykernel_9272\\2431007722.py:10: FutureWarning: suggest_loguniform has been deprecated in v3.0.0. This feature will be removed in v6.0.0. See https://github.com/optuna/optuna/releases/tag/v3.0.0. Use suggest_float(..., log=True) instead.\n",
      "  'l2_leaf_reg': trial.suggest_loguniform('l2_leaf_reg', 1e-5, 100),\n",
      "[I 2023-06-13 12:21:41,162] Trial 81 finished with value: 16951911899.636984 and parameters: {'iterations': 2731, 'learning_rate': 0.018194014439003602, 'depth': 10, 'l2_leaf_reg': 0.00012136428463318222}. Best is trial 35 with value: 16849371454.269333.\n"
     ]
    },
    {
     "name": "stdout",
     "output_type": "stream",
     "text": [
      "mse : 16951911899.636984\n",
      "rmse : 130199.5080621927\n",
      "r2 : 0.8362862225950761\n"
     ]
    },
    {
     "name": "stderr",
     "output_type": "stream",
     "text": [
      "C:\\Users\\dohee\\AppData\\Local\\Temp\\ipykernel_9272\\2431007722.py:10: FutureWarning: suggest_loguniform has been deprecated in v3.0.0. This feature will be removed in v6.0.0. See https://github.com/optuna/optuna/releases/tag/v3.0.0. Use suggest_float(..., log=True) instead.\n",
      "  'l2_leaf_reg': trial.suggest_loguniform('l2_leaf_reg', 1e-5, 100),\n",
      "[I 2023-06-13 12:22:45,005] Trial 82 finished with value: 17056652265.708485 and parameters: {'iterations': 2358, 'learning_rate': 0.029279942624471575, 'depth': 10, 'l2_leaf_reg': 0.00012924359354404694}. Best is trial 35 with value: 16849371454.269333.\n"
     ]
    },
    {
     "name": "stdout",
     "output_type": "stream",
     "text": [
      "mse : 17056652265.708485\n",
      "rmse : 130601.11892977213\n",
      "r2 : 0.8352746882573648\n"
     ]
    },
    {
     "name": "stderr",
     "output_type": "stream",
     "text": [
      "C:\\Users\\dohee\\AppData\\Local\\Temp\\ipykernel_9272\\2431007722.py:10: FutureWarning: suggest_loguniform has been deprecated in v3.0.0. This feature will be removed in v6.0.0. See https://github.com/optuna/optuna/releases/tag/v3.0.0. Use suggest_float(..., log=True) instead.\n",
      "  'l2_leaf_reg': trial.suggest_loguniform('l2_leaf_reg', 1e-5, 100),\n",
      "[I 2023-06-13 12:24:16,800] Trial 83 finished with value: 16971714240.977032 and parameters: {'iterations': 2691, 'learning_rate': 0.018011625507193516, 'depth': 10, 'l2_leaf_reg': 3.58901712394572e-05}. Best is trial 35 with value: 16849371454.269333.\n"
     ]
    },
    {
     "name": "stdout",
     "output_type": "stream",
     "text": [
      "mse : 16971714240.977032\n",
      "rmse : 130275.53201187486\n",
      "r2 : 0.8360949806796253\n"
     ]
    },
    {
     "name": "stderr",
     "output_type": "stream",
     "text": [
      "C:\\Users\\dohee\\AppData\\Local\\Temp\\ipykernel_9272\\2431007722.py:10: FutureWarning: suggest_loguniform has been deprecated in v3.0.0. This feature will be removed in v6.0.0. See https://github.com/optuna/optuna/releases/tag/v3.0.0. Use suggest_float(..., log=True) instead.\n",
      "  'l2_leaf_reg': trial.suggest_loguniform('l2_leaf_reg', 1e-5, 100),\n",
      "[I 2023-06-13 12:26:03,670] Trial 84 finished with value: 17064015070.70791 and parameters: {'iterations': 2787, 'learning_rate': 0.014122017610307128, 'depth': 10, 'l2_leaf_reg': 5.512304580068704e-05}. Best is trial 35 with value: 16849371454.269333.\n"
     ]
    },
    {
     "name": "stdout",
     "output_type": "stream",
     "text": [
      "mse : 17064015070.70791\n",
      "rmse : 130629.30402749572\n",
      "r2 : 0.8352035816691588\n"
     ]
    },
    {
     "name": "stderr",
     "output_type": "stream",
     "text": [
      "C:\\Users\\dohee\\AppData\\Local\\Temp\\ipykernel_9272\\2431007722.py:10: FutureWarning: suggest_loguniform has been deprecated in v3.0.0. This feature will be removed in v6.0.0. See https://github.com/optuna/optuna/releases/tag/v3.0.0. Use suggest_float(..., log=True) instead.\n",
      "  'l2_leaf_reg': trial.suggest_loguniform('l2_leaf_reg', 1e-5, 100),\n",
      "[I 2023-06-13 12:27:22,741] Trial 85 finished with value: 17140998085.399961 and parameters: {'iterations': 3080, 'learning_rate': 0.02392754926854164, 'depth': 9, 'l2_leaf_reg': 0.0004906870553775548}. Best is trial 35 with value: 16849371454.269333.\n"
     ]
    },
    {
     "name": "stdout",
     "output_type": "stream",
     "text": [
      "mse : 17140998085.399961\n",
      "rmse : 130923.63455617921\n",
      "r2 : 0.8344601150793209\n"
     ]
    },
    {
     "name": "stderr",
     "output_type": "stream",
     "text": [
      "C:\\Users\\dohee\\AppData\\Local\\Temp\\ipykernel_9272\\2431007722.py:10: FutureWarning: suggest_loguniform has been deprecated in v3.0.0. This feature will be removed in v6.0.0. See https://github.com/optuna/optuna/releases/tag/v3.0.0. Use suggest_float(..., log=True) instead.\n",
      "  'l2_leaf_reg': trial.suggest_loguniform('l2_leaf_reg', 1e-5, 100),\n",
      "[I 2023-06-13 12:30:06,595] Trial 86 finished with value: 17089030371.999207 and parameters: {'iterations': 2987, 'learning_rate': 0.01106875005093019, 'depth': 10, 'l2_leaf_reg': 0.00010106177037661026}. Best is trial 35 with value: 16849371454.269333.\n"
     ]
    },
    {
     "name": "stdout",
     "output_type": "stream",
     "text": [
      "mse : 17089030371.999207\n",
      "rmse : 130725.01815643098\n",
      "r2 : 0.8349619953813368\n"
     ]
    },
    {
     "name": "stderr",
     "output_type": "stream",
     "text": [
      "C:\\Users\\dohee\\AppData\\Local\\Temp\\ipykernel_9272\\2431007722.py:10: FutureWarning: suggest_loguniform has been deprecated in v3.0.0. This feature will be removed in v6.0.0. See https://github.com/optuna/optuna/releases/tag/v3.0.0. Use suggest_float(..., log=True) instead.\n",
      "  'l2_leaf_reg': trial.suggest_loguniform('l2_leaf_reg', 1e-5, 100),\n",
      "[I 2023-06-13 12:31:11,873] Trial 87 finished with value: 17045421253.007423 and parameters: {'iterations': 2609, 'learning_rate': 0.03572774374370207, 'depth': 10, 'l2_leaf_reg': 0.00032076166296198764}. Best is trial 35 with value: 16849371454.269333.\n"
     ]
    },
    {
     "name": "stdout",
     "output_type": "stream",
     "text": [
      "mse : 17045421253.007423\n",
      "rmse : 130558.1144663457\n",
      "r2 : 0.8353831522184956\n"
     ]
    },
    {
     "name": "stderr",
     "output_type": "stream",
     "text": [
      "C:\\Users\\dohee\\AppData\\Local\\Temp\\ipykernel_9272\\2431007722.py:10: FutureWarning: suggest_loguniform has been deprecated in v3.0.0. This feature will be removed in v6.0.0. See https://github.com/optuna/optuna/releases/tag/v3.0.0. Use suggest_float(..., log=True) instead.\n",
      "  'l2_leaf_reg': trial.suggest_loguniform('l2_leaf_reg', 1e-5, 100),\n",
      "[I 2023-06-13 12:33:20,539] Trial 88 finished with value: 17025968572.661707 and parameters: {'iterations': 3188, 'learning_rate': 0.015982764181646913, 'depth': 10, 'l2_leaf_reg': 0.00016241012945627514}. Best is trial 35 with value: 16849371454.269333.\n"
     ]
    },
    {
     "name": "stdout",
     "output_type": "stream",
     "text": [
      "mse : 17025968572.661707\n",
      "rmse : 130483.59503271554\n",
      "r2 : 0.8355710172686976\n"
     ]
    },
    {
     "name": "stderr",
     "output_type": "stream",
     "text": [
      "C:\\Users\\dohee\\AppData\\Local\\Temp\\ipykernel_9272\\2431007722.py:10: FutureWarning: suggest_loguniform has been deprecated in v3.0.0. This feature will be removed in v6.0.0. See https://github.com/optuna/optuna/releases/tag/v3.0.0. Use suggest_float(..., log=True) instead.\n",
      "  'l2_leaf_reg': trial.suggest_loguniform('l2_leaf_reg', 1e-5, 100),\n",
      "[I 2023-06-13 12:34:11,486] Trial 89 finished with value: 17108269925.054094 and parameters: {'iterations': 3664, 'learning_rate': 0.03373130664619972, 'depth': 9, 'l2_leaf_reg': 0.0001941618122886327}. Best is trial 35 with value: 16849371454.269333.\n"
     ]
    },
    {
     "name": "stdout",
     "output_type": "stream",
     "text": [
      "mse : 17108269925.054094\n",
      "rmse : 130798.58533277069\n",
      "r2 : 0.8347761886165985\n"
     ]
    },
    {
     "name": "stderr",
     "output_type": "stream",
     "text": [
      "C:\\Users\\dohee\\AppData\\Local\\Temp\\ipykernel_9272\\2431007722.py:10: FutureWarning: suggest_loguniform has been deprecated in v3.0.0. This feature will be removed in v6.0.0. See https://github.com/optuna/optuna/releases/tag/v3.0.0. Use suggest_float(..., log=True) instead.\n",
      "  'l2_leaf_reg': trial.suggest_loguniform('l2_leaf_reg', 1e-5, 100),\n",
      "[I 2023-06-13 12:35:00,046] Trial 90 finished with value: 16955160750.136724 and parameters: {'iterations': 3347, 'learning_rate': 0.03913638525984145, 'depth': 10, 'l2_leaf_reg': 1.8862588914025347e-05}. Best is trial 35 with value: 16849371454.269333.\n"
     ]
    },
    {
     "name": "stdout",
     "output_type": "stream",
     "text": [
      "mse : 16955160750.136724\n",
      "rmse : 130211.98389601751\n",
      "r2 : 0.8362548466894741\n"
     ]
    },
    {
     "name": "stderr",
     "output_type": "stream",
     "text": [
      "C:\\Users\\dohee\\AppData\\Local\\Temp\\ipykernel_9272\\2431007722.py:10: FutureWarning: suggest_loguniform has been deprecated in v3.0.0. This feature will be removed in v6.0.0. See https://github.com/optuna/optuna/releases/tag/v3.0.0. Use suggest_float(..., log=True) instead.\n",
      "  'l2_leaf_reg': trial.suggest_loguniform('l2_leaf_reg', 1e-5, 100),\n",
      "[I 2023-06-13 12:35:44,390] Trial 91 finished with value: 17033466323.035505 and parameters: {'iterations': 3344, 'learning_rate': 0.04328232403538124, 'depth': 10, 'l2_leaf_reg': 5.270131384563908e-05}. Best is trial 35 with value: 16849371454.269333.\n"
     ]
    },
    {
     "name": "stdout",
     "output_type": "stream",
     "text": [
      "mse : 17033466323.035505\n",
      "rmse : 130512.32249498706\n",
      "r2 : 0.83549860744006\n"
     ]
    },
    {
     "name": "stderr",
     "output_type": "stream",
     "text": [
      "C:\\Users\\dohee\\AppData\\Local\\Temp\\ipykernel_9272\\2431007722.py:10: FutureWarning: suggest_loguniform has been deprecated in v3.0.0. This feature will be removed in v6.0.0. See https://github.com/optuna/optuna/releases/tag/v3.0.0. Use suggest_float(..., log=True) instead.\n",
      "  'l2_leaf_reg': trial.suggest_loguniform('l2_leaf_reg', 1e-5, 100),\n",
      "[I 2023-06-13 12:36:32,964] Trial 92 finished with value: 17043602223.926668 and parameters: {'iterations': 2782, 'learning_rate': 0.03851575944359703, 'depth': 10, 'l2_leaf_reg': 1.572479343600126e-05}. Best is trial 35 with value: 16849371454.269333.\n"
     ]
    },
    {
     "name": "stdout",
     "output_type": "stream",
     "text": [
      "mse : 17043602223.926668\n",
      "rmse : 130551.14792266925\n",
      "r2 : 0.8354007195656941\n"
     ]
    },
    {
     "name": "stderr",
     "output_type": "stream",
     "text": [
      "C:\\Users\\dohee\\AppData\\Local\\Temp\\ipykernel_9272\\2431007722.py:10: FutureWarning: suggest_loguniform has been deprecated in v3.0.0. This feature will be removed in v6.0.0. See https://github.com/optuna/optuna/releases/tag/v3.0.0. Use suggest_float(..., log=True) instead.\n",
      "  'l2_leaf_reg': trial.suggest_loguniform('l2_leaf_reg', 1e-5, 100),\n",
      "[I 2023-06-13 12:37:18,489] Trial 93 finished with value: 17098968063.812689 and parameters: {'iterations': 3586, 'learning_rate': 0.03227358741387473, 'depth': 10, 'l2_leaf_reg': 2.1094090654076376e-05}. Best is trial 35 with value: 16849371454.269333.\n"
     ]
    },
    {
     "name": "stdout",
     "output_type": "stream",
     "text": [
      "mse : 17098968063.812689\n",
      "rmse : 130763.02254006172\n",
      "r2 : 0.8348660217191857\n"
     ]
    },
    {
     "name": "stderr",
     "output_type": "stream",
     "text": [
      "C:\\Users\\dohee\\AppData\\Local\\Temp\\ipykernel_9272\\2431007722.py:10: FutureWarning: suggest_loguniform has been deprecated in v3.0.0. This feature will be removed in v6.0.0. See https://github.com/optuna/optuna/releases/tag/v3.0.0. Use suggest_float(..., log=True) instead.\n",
      "  'l2_leaf_reg': trial.suggest_loguniform('l2_leaf_reg', 1e-5, 100),\n",
      "[I 2023-06-13 12:37:58,613] Trial 94 finished with value: 17051384715.197693 and parameters: {'iterations': 3297, 'learning_rate': 0.04028306166660374, 'depth': 10, 'l2_leaf_reg': 2.7315356780963262e-05}. Best is trial 35 with value: 16849371454.269333.\n"
     ]
    },
    {
     "name": "stdout",
     "output_type": "stream",
     "text": [
      "mse : 17051384715.197693\n",
      "rmse : 130580.9508128873\n",
      "r2 : 0.8353255598402811\n"
     ]
    },
    {
     "name": "stderr",
     "output_type": "stream",
     "text": [
      "C:\\Users\\dohee\\AppData\\Local\\Temp\\ipykernel_9272\\2431007722.py:10: FutureWarning: suggest_loguniform has been deprecated in v3.0.0. This feature will be removed in v6.0.0. See https://github.com/optuna/optuna/releases/tag/v3.0.0. Use suggest_float(..., log=True) instead.\n",
      "  'l2_leaf_reg': trial.suggest_loguniform('l2_leaf_reg', 1e-5, 100),\n",
      "[I 2023-06-13 12:38:58,904] Trial 95 finished with value: 16944056966.313011 and parameters: {'iterations': 3087, 'learning_rate': 0.03614691990210196, 'depth': 10, 'l2_leaf_reg': 0.00010526109336495462}. Best is trial 35 with value: 16849371454.269333.\n"
     ]
    },
    {
     "name": "stdout",
     "output_type": "stream",
     "text": [
      "mse : 16944056966.313011\n",
      "rmse : 130169.33957853905\n",
      "r2 : 0.8363620819325565\n"
     ]
    },
    {
     "name": "stderr",
     "output_type": "stream",
     "text": [
      "C:\\Users\\dohee\\AppData\\Local\\Temp\\ipykernel_9272\\2431007722.py:10: FutureWarning: suggest_loguniform has been deprecated in v3.0.0. This feature will be removed in v6.0.0. See https://github.com/optuna/optuna/releases/tag/v3.0.0. Use suggest_float(..., log=True) instead.\n",
      "  'l2_leaf_reg': trial.suggest_loguniform('l2_leaf_reg', 1e-5, 100),\n",
      "[I 2023-06-13 12:39:37,260] Trial 96 finished with value: 17122743477.236967 and parameters: {'iterations': 3104, 'learning_rate': 0.03673787730927343, 'depth': 9, 'l2_leaf_reg': 8.208343998787519e-05}. Best is trial 35 with value: 16849371454.269333.\n"
     ]
    },
    {
     "name": "stdout",
     "output_type": "stream",
     "text": [
      "mse : 17122743477.236967\n",
      "rmse : 130853.90126869343\n",
      "r2 : 0.8346364096987777\n"
     ]
    },
    {
     "name": "stderr",
     "output_type": "stream",
     "text": [
      "C:\\Users\\dohee\\AppData\\Local\\Temp\\ipykernel_9272\\2431007722.py:10: FutureWarning: suggest_loguniform has been deprecated in v3.0.0. This feature will be removed in v6.0.0. See https://github.com/optuna/optuna/releases/tag/v3.0.0. Use suggest_float(..., log=True) instead.\n",
      "  'l2_leaf_reg': trial.suggest_loguniform('l2_leaf_reg', 1e-5, 100),\n",
      "[I 2023-06-13 12:40:51,142] Trial 97 finished with value: 17040306424.141075 and parameters: {'iterations': 3408, 'learning_rate': 0.02901096242063545, 'depth': 10, 'l2_leaf_reg': 0.0002774707537699599}. Best is trial 35 with value: 16849371454.269333.\n"
     ]
    },
    {
     "name": "stdout",
     "output_type": "stream",
     "text": [
      "mse : 17040306424.141075\n",
      "rmse : 130538.52467429328\n",
      "r2 : 0.8354325488859302\n"
     ]
    },
    {
     "name": "stderr",
     "output_type": "stream",
     "text": [
      "C:\\Users\\dohee\\AppData\\Local\\Temp\\ipykernel_9272\\2431007722.py:10: FutureWarning: suggest_loguniform has been deprecated in v3.0.0. This feature will be removed in v6.0.0. See https://github.com/optuna/optuna/releases/tag/v3.0.0. Use suggest_float(..., log=True) instead.\n",
      "  'l2_leaf_reg': trial.suggest_loguniform('l2_leaf_reg', 1e-5, 100),\n",
      "[I 2023-06-13 12:41:20,653] Trial 98 finished with value: 18010401455.63026 and parameters: {'iterations': 3271, 'learning_rate': 0.034485952219173936, 'depth': 5, 'l2_leaf_reg': 0.0005343427137936455}. Best is trial 35 with value: 16849371454.269333.\n"
     ]
    },
    {
     "name": "stdout",
     "output_type": "stream",
     "text": [
      "mse : 18010401455.63026\n",
      "rmse : 134202.83698800954\n",
      "r2 : 0.8260638167342345\n"
     ]
    },
    {
     "name": "stderr",
     "output_type": "stream",
     "text": [
      "C:\\Users\\dohee\\AppData\\Local\\Temp\\ipykernel_9272\\2431007722.py:10: FutureWarning: suggest_loguniform has been deprecated in v3.0.0. This feature will be removed in v6.0.0. See https://github.com/optuna/optuna/releases/tag/v3.0.0. Use suggest_float(..., log=True) instead.\n",
      "  'l2_leaf_reg': trial.suggest_loguniform('l2_leaf_reg', 1e-5, 100),\n",
      "[I 2023-06-13 12:42:09,290] Trial 99 finished with value: 17272606090.16384 and parameters: {'iterations': 3157, 'learning_rate': 0.04233002533390333, 'depth': 10, 'l2_leaf_reg': 5.038084634453603e-05}. Best is trial 35 with value: 16849371454.269333.\n"
     ]
    },
    {
     "name": "stdout",
     "output_type": "stream",
     "text": [
      "mse : 17272606090.16384\n",
      "rmse : 131425.28710322015\n",
      "r2 : 0.8331891054301332\n",
      "Best trial: score 16849371454.269333, \n",
      "params {'iterations': 3434, 'learning_rate': 0.040658411489512505, 'depth': 9, 'l2_leaf_reg': 0.00010682022944241584}\n"
     ]
    }
   ],
   "source": [
    "# optimization study 진행\n",
    "# direction: score 값을 최대 or 최소로 하는 방향으로 지정\n",
    "study2 = optuna.create_study(direction='minimize')\n",
    "\n",
    "# n_trials: 시도 횟수 (미입력시 key interrupt가 있을 때까지 무한 반복)\n",
    "study2.optimize(objectiveCatB, n_trials=100)\n",
    "\n",
    "# 모든 트라이얼이 완료되었는지 확인\n",
    "if study2.best_trial is None:\n",
    "    print(\"No trials completed.\")\n",
    "else:\n",
    "    # 최적의 트라이얼 출력\n",
    "    print('Best trial: score {}, \\nparams {}'.format(study2.best_trial.value, study2.best_trial.params))"
   ]
  },
  {
   "cell_type": "code",
   "execution_count": 66,
   "metadata": {},
   "outputs": [
    {
     "name": "stdout",
     "output_type": "stream",
     "text": [
      "mse : 17417725199.520\n",
      "rmse : 131976.230\n",
      "r2 : 0.832\n"
     ]
    }
   ],
   "source": [
    "# Best trial의 파라미터\n",
    "best_params = study2.best_trial.params\n",
    "\n",
    "# 최적의 모델 학습\n",
    "best_catboost = CatBoostRegressor(iterations=best_params['iterations'],\n",
    "                                  learning_rate=best_params['learning_rate'],\n",
    "                                  depth=best_params['depth'],\n",
    "                                  l2_leaf_reg=best_params['l2_leaf_reg'],\n",
    "                                  random_seed=42,\n",
    "                                  loss_function='RMSE',\n",
    "                                  eval_metric='RMSE',\n",
    "                                  verbose=False)\n",
    "# 범주형 데이터 'quality' : CatBoost의 cat_features 매개변수에 전달 필요\n",
    "cat_features = ['quality']\n",
    "best_catboost.fit(x_train, y_train, cat_features=cat_features)\n",
    "\n",
    "# 저장 경로 설정\n",
    "import pickle\n",
    "import os\n",
    "save_path = 'CatBoostRegressor_best_model.pkl'\n",
    "\n",
    "# 모델을 'CatBoostRegressor_best_model.pkl' 파일로 저장\n",
    "with open(save_path, 'wb') as f:\n",
    "    pickle.dump(best_catboost, f)\n",
    "\n",
    "# 저장된 모델 로드\n",
    "with open('CatBoostRegressor_best_model.pkl', 'rb') as f:\n",
    "    loaded_model = pickle.load(f)\n",
    "\n",
    "# 로드된 모델로 예측\n",
    "y_pred = loaded_model.predict(x_test)\n",
    "\n",
    "# 모델 평가\n",
    "from evaluate_score import evaluate_score\n",
    "evaluate_score(y_test, y_pred)"
   ]
  },
  {
   "cell_type": "code",
   "execution_count": 67,
   "metadata": {},
   "outputs": [
    {
     "name": "stderr",
     "output_type": "stream",
     "text": [
      "C:\\Users\\dohee\\AppData\\Local\\Temp\\ipykernel_9272\\958158612.py:5: ExperimentalWarning: plot_param_importances is experimental (supported from v2.2.0). The interface can change in the future.\n",
      "  plot_param_importances(study2)\n",
      "C:\\Users\\dohee\\AppData\\Local\\Temp\\ipykernel_9272\\958158612.py:10: ExperimentalWarning: plot_optimization_history is experimental (supported from v2.2.0). The interface can change in the future.\n",
      "  plot_optimization_history(study2)\n"
     ]
    },
    {
     "data": {
      "text/plain": [
       "<AxesSubplot:title={'center':'Optimization History Plot'}, xlabel='Trial', ylabel='Objective Value'>"
      ]
     },
     "execution_count": 67,
     "metadata": {},
     "output_type": "execute_result"
    },
    {
     "data": {
      "image/png": "[encoded data removed]",
      "text/plain": [
       "<Figure size 640x480 with 1 Axes>"
      ]
     },
     "metadata": {},
     "output_type": "display_data"
    },
    {
     "data": {
      "image/png": "[encoded data removed]",
      "text/plain": [
       "<Figure size 640x480 with 1 Axes>"
      ]
     },
     "metadata": {},
     "output_type": "display_data"
    }
   ],
   "source": [
    "from optuna.visualization.matplotlib import plot_param_importances\n",
    "from optuna.visualization.matplotlib import plot_optimization_history\n",
    "\n",
    "# 하이퍼파라미터별 중요도 확인\n",
    "plot_param_importances(study2)\n",
    "\n",
    "# 하이퍼파라미터 최적화 과정 확인\n",
    "import matplotlib.pyplot as plt\n",
    "import numpy as np\n",
    "plot_optimization_history(study2)"
   ]
  },
  {
   "cell_type": "code",
   "execution_count": 4,
   "metadata": {},
   "outputs": [
    {
     "name": "stderr",
     "output_type": "stream",
     "text": [
      "[I 2023-06-13 13:18:48,732] A new study created in memory with name: no-name-0334e6d7-21b7-40bd-9b72-494d1b72a7af\n",
      "[I 2023-06-13 13:19:03,618] Trial 0 finished with value: 25291970430.75973 and parameters: {'n_estimators': 2823, 'learning_rate': 0.8660909725554088, 'max_depth': 5, 'min_samples_split': 9, 'min_samples_leaf': 10, 'max_features': 'log2'}. Best is trial 0 with value: 25291970430.75973.\n"
     ]
    },
    {
     "name": "stdout",
     "output_type": "stream",
     "text": [
      "mse : 25291970430.75973\n",
      "rmse : 159034.49446821192\n",
      "r2 : 0.7557417687309957\n"
     ]
    },
    {
     "name": "stderr",
     "output_type": "stream",
     "text": [
      "[I 2023-06-13 13:19:17,038] Trial 1 finished with value: 18742410678.1389 and parameters: {'n_estimators': 1177, 'learning_rate': 0.1640637463996119, 'max_depth': 3, 'min_samples_split': 6, 'min_samples_leaf': 3, 'max_features': 1.0}. Best is trial 1 with value: 18742410678.1389.\n"
     ]
    },
    {
     "name": "stdout",
     "output_type": "stream",
     "text": [
      "mse : 18742410678.1389\n",
      "rmse : 136902.92428629455\n",
      "r2 : 0.8189944079488634\n"
     ]
    },
    {
     "name": "stderr",
     "output_type": "stream",
     "text": [
      "[I 2023-06-13 13:19:26,693] Trial 2 finished with value: 18157741863.00837 and parameters: {'n_estimators': 2334, 'learning_rate': 0.12467932197825625, 'max_depth': 4, 'min_samples_split': 5, 'min_samples_leaf': 10, 'max_features': 'sqrt'}. Best is trial 2 with value: 18157741863.00837.\n"
     ]
    },
    {
     "name": "stdout",
     "output_type": "stream",
     "text": [
      "mse : 18157741863.00837\n",
      "rmse : 134750.66553827617\n",
      "r2 : 0.8246408707680768\n"
     ]
    },
    {
     "name": "stderr",
     "output_type": "stream",
     "text": [
      "[I 2023-06-13 13:19:48,811] Trial 3 finished with value: 23833800844.445175 and parameters: {'n_estimators': 3131, 'learning_rate': 0.460504377050872, 'max_depth': 7, 'min_samples_split': 3, 'min_samples_leaf': 11, 'max_features': 'log2'}. Best is trial 2 with value: 18157741863.00837.\n"
     ]
    },
    {
     "name": "stdout",
     "output_type": "stream",
     "text": [
      "mse : 23833800844.445175\n",
      "rmse : 154381.99650362466\n",
      "r2 : 0.7698241007113574\n"
     ]
    },
    {
     "name": "stderr",
     "output_type": "stream",
     "text": [
      "[I 2023-06-13 13:19:50,411] Trial 4 finished with value: 21198589065.14981 and parameters: {'n_estimators': 338, 'learning_rate': 0.5897864391588767, 'max_depth': 1, 'min_samples_split': 5, 'min_samples_leaf': 9, 'max_features': 1.0}. Best is trial 2 with value: 18157741863.00837.\n"
     ]
    },
    {
     "name": "stdout",
     "output_type": "stream",
     "text": [
      "mse : 21198589065.14981\n",
      "rmse : 145597.35253482396\n",
      "r2 : 0.7952737654574109\n"
     ]
    },
    {
     "name": "stderr",
     "output_type": "stream",
     "text": [
      "[I 2023-06-13 13:20:08,356] Trial 5 finished with value: 27289959600.88126 and parameters: {'n_estimators': 2439, 'learning_rate': 0.8548558228824853, 'max_depth': 8, 'min_samples_split': 6, 'min_samples_leaf': 13, 'max_features': 'log2'}. Best is trial 2 with value: 18157741863.00837.\n"
     ]
    },
    {
     "name": "stdout",
     "output_type": "stream",
     "text": [
      "mse : 27289959600.88126\n",
      "rmse : 165196.72999451673\n",
      "r2 : 0.7364461072037713\n"
     ]
    },
    {
     "name": "stderr",
     "output_type": "stream",
     "text": [
      "[I 2023-06-13 13:20:11,407] Trial 6 finished with value: 20283940143.67046 and parameters: {'n_estimators': 1701, 'learning_rate': 0.7005432328673135, 'max_depth': 1, 'min_samples_split': 5, 'min_samples_leaf': 5, 'max_features': 'sqrt'}. Best is trial 2 with value: 18157741863.00837.\n"
     ]
    },
    {
     "name": "stdout",
     "output_type": "stream",
     "text": [
      "mse : 20283940143.67046\n",
      "rmse : 142421.69828951787\n",
      "r2 : 0.8041070245506186\n"
     ]
    },
    {
     "name": "stderr",
     "output_type": "stream",
     "text": [
      "[I 2023-06-13 13:20:13,955] Trial 7 finished with value: 20223205091.457626 and parameters: {'n_estimators': 310, 'learning_rate': 0.507913661242956, 'max_depth': 8, 'min_samples_split': 4, 'min_samples_leaf': 9, 'max_features': 'log2'}. Best is trial 2 with value: 18157741863.00837.\n"
     ]
    },
    {
     "name": "stdout",
     "output_type": "stream",
     "text": [
      "mse : 20223205091.457626\n",
      "rmse : 142208.31583088814\n",
      "r2 : 0.8046935757831589\n"
     ]
    },
    {
     "name": "stderr",
     "output_type": "stream",
     "text": [
      "[I 2023-06-13 13:20:28,318] Trial 8 finished with value: 21633606989.004944 and parameters: {'n_estimators': 532, 'learning_rate': 0.29430229776785855, 'max_depth': 8, 'min_samples_split': 5, 'min_samples_leaf': 3, 'max_features': 1.0}. Best is trial 2 with value: 18157741863.00837.\n"
     ]
    },
    {
     "name": "stdout",
     "output_type": "stream",
     "text": [
      "mse : 21633606989.004944\n",
      "rmse : 147083.67342776337\n",
      "r2 : 0.7910725621963972\n"
     ]
    },
    {
     "name": "stderr",
     "output_type": "stream",
     "text": [
      "[I 2023-06-13 13:20:32,472] Trial 9 finished with value: 20620130541.70994 and parameters: {'n_estimators': 2478, 'learning_rate': 0.28672989603253407, 'max_depth': 1, 'min_samples_split': 10, 'min_samples_leaf': 3, 'max_features': 'sqrt'}. Best is trial 2 with value: 18157741863.00837.\n"
     ]
    },
    {
     "name": "stdout",
     "output_type": "stream",
     "text": [
      "mse : 20620130541.70994\n",
      "rmse : 143597.11188498864\n",
      "r2 : 0.8008602521324887\n"
     ]
    },
    {
     "name": "stderr",
     "output_type": "stream",
     "text": [
      "[I 2023-06-13 13:21:04,114] Trial 10 finished with value: 19210175574.72099 and parameters: {'n_estimators': 3812, 'learning_rate': 0.0514391156290161, 'max_depth': 10, 'min_samples_split': 2, 'min_samples_leaf': 15, 'max_features': 'sqrt'}. Best is trial 2 with value: 18157741863.00837.\n"
     ]
    },
    {
     "name": "stdout",
     "output_type": "stream",
     "text": [
      "mse : 19210175574.72099\n",
      "rmse : 138600.77768440187\n",
      "r2 : 0.8144769494692381\n"
     ]
    },
    {
     "name": "stderr",
     "output_type": "stream",
     "text": [
      "[I 2023-06-13 13:21:23,496] Trial 11 finished with value: 17770725071.886093 and parameters: {'n_estimators': 1404, 'learning_rate': 0.02237800666699849, 'max_depth': 4, 'min_samples_split': 8, 'min_samples_leaf': 6, 'max_features': 1.0}. Best is trial 11 with value: 17770725071.886093.\n"
     ]
    },
    {
     "name": "stdout",
     "output_type": "stream",
     "text": [
      "mse : 17770725071.886093\n",
      "rmse : 133306.88306267644\n",
      "r2 : 0.8283785011409149\n"
     ]
    },
    {
     "name": "stderr",
     "output_type": "stream",
     "text": [
      "[I 2023-06-13 13:21:45,686] Trial 12 finished with value: 18123308157.67276 and parameters: {'n_estimators': 1627, 'learning_rate': 0.01096434661545792, 'max_depth': 4, 'min_samples_split': 9, 'min_samples_leaf': 6, 'max_features': 1.0}. Best is trial 11 with value: 17770725071.886093.\n"
     ]
    },
    {
     "name": "stdout",
     "output_type": "stream",
     "text": [
      "mse : 18123308157.67276\n",
      "rmse : 134622.83668706717\n",
      "r2 : 0.8249734156753366\n"
     ]
    },
    {
     "name": "stderr",
     "output_type": "stream",
     "text": [
      "[I 2023-06-13 13:22:00,884] Trial 13 finished with value: 18392281599.899952 and parameters: {'n_estimators': 1442, 'learning_rate': 0.029019820397042317, 'max_depth': 3, 'min_samples_split': 8, 'min_samples_leaf': 6, 'max_features': 1.0}. Best is trial 11 with value: 17770725071.886093.\n"
     ]
    },
    {
     "name": "stdout",
     "output_type": "stream",
     "text": [
      "mse : 18392281599.899952\n",
      "rmse : 135618.14627806985\n",
      "r2 : 0.8223757937369189\n"
     ]
    },
    {
     "name": "stderr",
     "output_type": "stream",
     "text": [
      "[I 2023-06-13 13:22:19,756] Trial 14 finished with value: 20354929552.018257 and parameters: {'n_estimators': 984, 'learning_rate': 0.220350718113522, 'max_depth': 6, 'min_samples_split': 8, 'min_samples_leaf': 7, 'max_features': 1.0}. Best is trial 11 with value: 17770725071.886093.\n"
     ]
    },
    {
     "name": "stdout",
     "output_type": "stream",
     "text": [
      "mse : 20354929552.018257\n",
      "rmse : 142670.70320152718\n",
      "r2 : 0.803421441457386\n"
     ]
    },
    {
     "name": "stderr",
     "output_type": "stream",
     "text": [
      "[I 2023-06-13 13:22:38,124] Trial 15 finished with value: 18644864097.20331 and parameters: {'n_estimators': 1885, 'learning_rate': 0.025954133859205097, 'max_depth': 3, 'min_samples_split': 8, 'min_samples_leaf': 1, 'max_features': 1.0}. Best is trial 11 with value: 17770725071.886093.\n"
     ]
    },
    {
     "name": "stdout",
     "output_type": "stream",
     "text": [
      "mse : 18644864097.20331\n",
      "rmse : 136546.1976665894\n",
      "r2 : 0.8199364680145627\n"
     ]
    },
    {
     "name": "stderr",
     "output_type": "stream",
     "text": [
      "[I 2023-06-13 13:22:53,927] Trial 16 finished with value: 21103671532.21185 and parameters: {'n_estimators': 961, 'learning_rate': 0.34887004478241035, 'max_depth': 5, 'min_samples_split': 10, 'min_samples_leaf': 5, 'max_features': 1.0}. Best is trial 11 with value: 17770725071.886093.\n"
     ]
    },
    {
     "name": "stdout",
     "output_type": "stream",
     "text": [
      "mse : 21103671532.21185\n",
      "rmse : 145271.02784867963\n",
      "r2 : 0.7961904353853357\n"
     ]
    },
    {
     "name": "stderr",
     "output_type": "stream",
     "text": [
      "[I 2023-06-13 13:23:15,586] Trial 17 finished with value: 19219395875.640377 and parameters: {'n_estimators': 1668, 'learning_rate': 0.1507050928051407, 'max_depth': 4, 'min_samples_split': 7, 'min_samples_leaf': 7, 'max_features': 1.0}. Best is trial 11 with value: 17770725071.886093.\n"
     ]
    },
    {
     "name": "stdout",
     "output_type": "stream",
     "text": [
      "mse : 19219395875.640377\n",
      "rmse : 138634.03577635752\n",
      "r2 : 0.8143879040387721\n"
     ]
    },
    {
     "name": "stderr",
     "output_type": "stream",
     "text": [
      "[I 2023-06-13 13:23:29,527] Trial 18 finished with value: 18916644452.42926 and parameters: {'n_estimators': 2024, 'learning_rate': 0.11877861416811315, 'max_depth': 2, 'min_samples_split': 9, 'min_samples_leaf': 5, 'max_features': 1.0}. Best is trial 11 with value: 17770725071.886093.\n"
     ]
    },
    {
     "name": "stdout",
     "output_type": "stream",
     "text": [
      "mse : 18916644452.42926\n",
      "rmse : 137537.79281502689\n",
      "r2 : 0.8173117381999012\n"
     ]
    },
    {
     "name": "stderr",
     "output_type": "stream",
     "text": [
      "[I 2023-06-13 13:23:44,534] Trial 19 finished with value: 19749527593.94948 and parameters: {'n_estimators': 801, 'learning_rate': 0.23250981783661348, 'max_depth': 6, 'min_samples_split': 7, 'min_samples_leaf': 8, 'max_features': 1.0}. Best is trial 11 with value: 17770725071.886093.\n"
     ]
    },
    {
     "name": "stdout",
     "output_type": "stream",
     "text": [
      "mse : 19749527593.94948\n",
      "rmse : 140533.0124702003\n",
      "r2 : 0.8092681354462746\n"
     ]
    },
    {
     "name": "stderr",
     "output_type": "stream",
     "text": [
      "[I 2023-06-13 13:24:02,054] Trial 20 finished with value: 21871687943.471806 and parameters: {'n_estimators': 1384, 'learning_rate': 0.3755756966085477, 'max_depth': 4, 'min_samples_split': 9, 'min_samples_leaf': 1, 'max_features': 1.0}. Best is trial 11 with value: 17770725071.886093.\n"
     ]
    },
    {
     "name": "stdout",
     "output_type": "stream",
     "text": [
      "mse : 21871687943.471806\n",
      "rmse : 147890.79735896958\n",
      "r2 : 0.7887732857127355\n"
     ]
    },
    {
     "name": "stderr",
     "output_type": "stream",
     "text": [
      "[I 2023-06-13 13:24:11,667] Trial 21 finished with value: 18033051022.855476 and parameters: {'n_estimators': 2410, 'learning_rate': 0.10486020646955671, 'max_depth': 4, 'min_samples_split': 7, 'min_samples_leaf': 12, 'max_features': 'sqrt'}. Best is trial 11 with value: 17770725071.886093.\n"
     ]
    },
    {
     "name": "stdout",
     "output_type": "stream",
     "text": [
      "mse : 18033051022.855476\n",
      "rmse : 134287.19604956935\n",
      "r2 : 0.8258450776192026\n"
     ]
    },
    {
     "name": "stderr",
     "output_type": "stream",
     "text": [
      "[I 2023-06-13 13:24:28,213] Trial 22 finished with value: 17502651805.601322 and parameters: {'n_estimators': 3130, 'learning_rate': 0.021510908909585666, 'max_depth': 5, 'min_samples_split': 7, 'min_samples_leaf': 12, 'max_features': 'sqrt'}. Best is trial 22 with value: 17502651805.601322.\n"
     ]
    },
    {
     "name": "stdout",
     "output_type": "stream",
     "text": [
      "mse : 17502651805.601322\n",
      "rmse : 132297.5880566283\n",
      "r2 : 0.8309674295936221\n"
     ]
    },
    {
     "name": "stderr",
     "output_type": "stream",
     "text": [
      "[I 2023-06-13 13:24:43,499] Trial 23 finished with value: 19163646389.542793 and parameters: {'n_estimators': 3385, 'learning_rate': 0.1674697609031987, 'max_depth': 5, 'min_samples_split': 7, 'min_samples_leaf': 13, 'max_features': 'sqrt'}. Best is trial 22 with value: 17502651805.601322.\n"
     ]
    },
    {
     "name": "stdout",
     "output_type": "stream",
     "text": [
      "mse : 19163646389.542793\n",
      "rmse : 138432.82265973918\n",
      "r2 : 0.8149263069641445\n"
     ]
    },
    {
     "name": "stderr",
     "output_type": "stream",
     "text": [
      "[I 2023-06-13 13:24:59,007] Trial 24 finished with value: 18573881173.504616 and parameters: {'n_estimators': 2900, 'learning_rate': 0.09417877061765044, 'max_depth': 6, 'min_samples_split': 7, 'min_samples_leaf': 12, 'max_features': 'sqrt'}. Best is trial 22 with value: 17502651805.601322.\n"
     ]
    },
    {
     "name": "stdout",
     "output_type": "stream",
     "text": [
      "mse : 18573881173.504616\n",
      "rmse : 136286.0270662573\n",
      "r2 : 0.8206219884820333\n"
     ]
    },
    {
     "name": "stderr",
     "output_type": "stream",
     "text": [
      "[I 2023-06-13 13:25:07,658] Trial 25 finished with value: 18612858654.375874 and parameters: {'n_estimators': 3725, 'learning_rate': 0.08302335616075082, 'max_depth': 2, 'min_samples_split': 8, 'min_samples_leaf': 15, 'max_features': 'sqrt'}. Best is trial 22 with value: 17502651805.601322.\n"
     ]
    },
    {
     "name": "stdout",
     "output_type": "stream",
     "text": [
      "mse : 18612858654.375874\n",
      "rmse : 136428.95093921918\n",
      "r2 : 0.8202455618780643\n"
     ]
    },
    {
     "name": "stderr",
     "output_type": "stream",
     "text": [
      "[I 2023-06-13 13:25:28,696] Trial 26 finished with value: 21330613791.548084 and parameters: {'n_estimators': 3414, 'learning_rate': 0.20368360464683555, 'max_depth': 7, 'min_samples_split': 6, 'min_samples_leaf': 13, 'max_features': 'sqrt'}. Best is trial 22 with value: 17502651805.601322.\n"
     ]
    },
    {
     "name": "stdout",
     "output_type": "stream",
     "text": [
      "mse : 21330613791.548084\n",
      "rmse : 146050.03865644158\n",
      "r2 : 0.7939987313021204\n"
     ]
    },
    {
     "name": "stderr",
     "output_type": "stream",
     "text": [
      "[I 2023-06-13 13:25:37,283] Trial 27 finished with value: 18007316427.917038 and parameters: {'n_estimators': 2698, 'learning_rate': 0.09678187746329858, 'max_depth': 3, 'min_samples_split': 7, 'min_samples_leaf': 11, 'max_features': 'sqrt'}. Best is trial 22 with value: 17502651805.601322.\n"
     ]
    },
    {
     "name": "stdout",
     "output_type": "stream",
     "text": [
      "mse : 18007316427.917038\n",
      "rmse : 134191.34259674518\n",
      "r2 : 0.8260936105146246\n"
     ]
    },
    {
     "name": "stderr",
     "output_type": "stream",
     "text": [
      "[I 2023-06-13 13:25:43,561] Trial 28 finished with value: 19802490699.505276 and parameters: {'n_estimators': 2750, 'learning_rate': 0.0268397790394588, 'max_depth': 2, 'min_samples_split': 6, 'min_samples_leaf': 11, 'max_features': 'sqrt'}. Best is trial 22 with value: 17502651805.601322.\n"
     ]
    },
    {
     "name": "stdout",
     "output_type": "stream",
     "text": [
      "mse : 19802490699.505276\n",
      "rmse : 140721.3228317062\n",
      "r2 : 0.8087566421041095\n"
     ]
    },
    {
     "name": "stderr",
     "output_type": "stream",
     "text": [
      "[I 2023-06-13 13:25:56,978] Trial 29 finished with value: 18468926187.33878 and parameters: {'n_estimators': 2838, 'learning_rate': 0.09304732283145255, 'max_depth': 5, 'min_samples_split': 8, 'min_samples_leaf': 10, 'max_features': 'log2'}. Best is trial 22 with value: 17502651805.601322.\n"
     ]
    },
    {
     "name": "stdout",
     "output_type": "stream",
     "text": [
      "mse : 18468926187.33878\n",
      "rmse : 135900.42747298031\n",
      "r2 : 0.821635595522019\n"
     ]
    },
    {
     "name": "stderr",
     "output_type": "stream",
     "text": [
      "[I 2023-06-13 13:26:06,405] Trial 30 finished with value: 18783498435.03316 and parameters: {'n_estimators': 3180, 'learning_rate': 0.22801085525664977, 'max_depth': 3, 'min_samples_split': 10, 'min_samples_leaf': 14, 'max_features': 'sqrt'}. Best is trial 22 with value: 17502651805.601322.\n"
     ]
    },
    {
     "name": "stdout",
     "output_type": "stream",
     "text": [
      "mse : 18783498435.03316\n",
      "rmse : 137052.90378183586\n",
      "r2 : 0.8185976012685268\n"
     ]
    },
    {
     "name": "stderr",
     "output_type": "stream",
     "text": [
      "[I 2023-06-13 13:26:15,049] Trial 31 finished with value: 17978779771.265663 and parameters: {'n_estimators': 2192, 'learning_rate': 0.08566183445552354, 'max_depth': 4, 'min_samples_split': 7, 'min_samples_leaf': 12, 'max_features': 'sqrt'}. Best is trial 22 with value: 17502651805.601322.\n"
     ]
    },
    {
     "name": "stdout",
     "output_type": "stream",
     "text": [
      "mse : 17978779771.265663\n",
      "rmse : 134084.9722051866\n",
      "r2 : 0.8263692044348009\n"
     ]
    },
    {
     "name": "stderr",
     "output_type": "stream",
     "text": [
      "[I 2023-06-13 13:26:25,183] Trial 32 finished with value: 18751462513.106647 and parameters: {'n_estimators': 2139, 'learning_rate': 0.14969493595886477, 'max_depth': 5, 'min_samples_split': 7, 'min_samples_leaf': 11, 'max_features': 'sqrt'}. Best is trial 22 with value: 17502651805.601322.\n"
     ]
    },
    {
     "name": "stdout",
     "output_type": "stream",
     "text": [
      "mse : 18751462513.106647\n",
      "rmse : 136935.97961495235\n",
      "r2 : 0.818906989485165\n"
     ]
    },
    {
     "name": "stderr",
     "output_type": "stream",
     "text": [
      "[I 2023-06-13 13:26:33,467] Trial 33 finished with value: 17977242951.430298 and parameters: {'n_estimators': 2655, 'learning_rate': 0.07084160404639023, 'max_depth': 3, 'min_samples_split': 6, 'min_samples_leaf': 9, 'max_features': 'sqrt'}. Best is trial 22 with value: 17502651805.601322.\n"
     ]
    },
    {
     "name": "stdout",
     "output_type": "stream",
     "text": [
      "mse : 17977242951.430298\n",
      "rmse : 134079.24131434478\n",
      "r2 : 0.8263840463347547\n"
     ]
    },
    {
     "name": "stderr",
     "output_type": "stream",
     "text": [
      "[I 2023-06-13 13:26:42,336] Trial 34 finished with value: 18569411890.921577 and parameters: {'n_estimators': 2183, 'learning_rate': 0.16301321485441347, 'max_depth': 4, 'min_samples_split': 4, 'min_samples_leaf': 9, 'max_features': 'sqrt'}. Best is trial 22 with value: 17502651805.601322.\n"
     ]
    },
    {
     "name": "stdout",
     "output_type": "stream",
     "text": [
      "mse : 18569411890.921577\n",
      "rmse : 136269.62937838194\n",
      "r2 : 0.8206651507600282\n"
     ]
    },
    {
     "name": "stderr",
     "output_type": "stream",
     "text": [
      "[I 2023-06-13 13:26:52,245] Trial 35 finished with value: 18684914099.62407 and parameters: {'n_estimators': 3096, 'learning_rate': 0.016649242673216352, 'max_depth': 3, 'min_samples_split': 6, 'min_samples_leaf': 8, 'max_features': 'sqrt'}. Best is trial 22 with value: 17502651805.601322.\n"
     ]
    },
    {
     "name": "stdout",
     "output_type": "stream",
     "text": [
      "mse : 18684914099.62407\n",
      "rmse : 136692.77266784836\n",
      "r2 : 0.8195496834901859\n"
     ]
    },
    {
     "name": "stderr",
     "output_type": "stream",
     "text": [
      "[I 2023-06-13 13:26:58,196] Trial 36 finished with value: 18994215784.826107 and parameters: {'n_estimators': 2610, 'learning_rate': 0.06561056711780205, 'max_depth': 2, 'min_samples_split': 6, 'min_samples_leaf': 10, 'max_features': 'log2'}. Best is trial 22 with value: 17502651805.601322.\n"
     ]
    },
    {
     "name": "stdout",
     "output_type": "stream",
     "text": [
      "mse : 18994215784.826107\n",
      "rmse : 137819.5043701221\n",
      "r2 : 0.8165625899079441\n"
     ]
    },
    {
     "name": "stderr",
     "output_type": "stream",
     "text": [
      "[I 2023-06-13 13:27:07,002] Trial 37 finished with value: 18987111563.575478 and parameters: {'n_estimators': 1954, 'learning_rate': 0.17364350503376091, 'max_depth': 5, 'min_samples_split': 8, 'min_samples_leaf': 12, 'max_features': 'sqrt'}. Best is trial 22 with value: 17502651805.601322.\n"
     ]
    },
    {
     "name": "stdout",
     "output_type": "stream",
     "text": [
      "mse : 18987111563.575478\n",
      "rmse : 137793.72831727675\n",
      "r2 : 0.8166311992130977\n"
     ]
    },
    {
     "name": "stderr",
     "output_type": "stream",
     "text": [
      "[I 2023-06-13 13:27:27,148] Trial 38 finished with value: 18480088333.365883 and parameters: {'n_estimators': 3483, 'learning_rate': 0.06649772072985223, 'max_depth': 7, 'min_samples_split': 5, 'min_samples_leaf': 14, 'max_features': 'sqrt'}. Best is trial 22 with value: 17502651805.601322.\n"
     ]
    },
    {
     "name": "stdout",
     "output_type": "stream",
     "text": [
      "mse : 18480088333.365883\n",
      "rmse : 135941.48863892097\n",
      "r2 : 0.821527796643588\n"
     ]
    },
    {
     "name": "stderr",
     "output_type": "stream",
     "text": [
      "[I 2023-06-13 13:27:39,044] Trial 39 finished with value: 18339156807.76122 and parameters: {'n_estimators': 2996, 'learning_rate': 0.12454976051092097, 'max_depth': 4, 'min_samples_split': 6, 'min_samples_leaf': 9, 'max_features': 'log2'}. Best is trial 22 with value: 17502651805.601322.\n"
     ]
    },
    {
     "name": "stdout",
     "output_type": "stream",
     "text": [
      "mse : 18339156807.76122\n",
      "rmse : 135422.14297433494\n",
      "r2 : 0.8228888485738233\n"
     ]
    },
    {
     "name": "stderr",
     "output_type": "stream",
     "text": [
      "[I 2023-06-13 13:27:51,098] Trial 40 finished with value: 20090343036.63732 and parameters: {'n_estimators': 2288, 'learning_rate': 0.1967471144558119, 'max_depth': 6, 'min_samples_split': 5, 'min_samples_leaf': 4, 'max_features': 'sqrt'}. Best is trial 22 with value: 17502651805.601322.\n"
     ]
    },
    {
     "name": "stdout",
     "output_type": "stream",
     "text": [
      "mse : 20090343036.63732\n",
      "rmse : 141740.40721204848\n",
      "r2 : 0.8059766964716801\n"
     ]
    },
    {
     "name": "stderr",
     "output_type": "stream",
     "text": [
      "[I 2023-06-13 13:27:59,647] Trial 41 finished with value: 18080778900.147778 and parameters: {'n_estimators': 2688, 'learning_rate': 0.125338007514233, 'max_depth': 3, 'min_samples_split': 7, 'min_samples_leaf': 11, 'max_features': 'sqrt'}. Best is trial 22 with value: 17502651805.601322.\n"
     ]
    },
    {
     "name": "stdout",
     "output_type": "stream",
     "text": [
      "mse : 18080778900.147778\n",
      "rmse : 134464.7868408223\n",
      "r2 : 0.8253841437065381\n"
     ]
    },
    {
     "name": "stderr",
     "output_type": "stream",
     "text": [
      "[I 2023-06-13 13:28:08,636] Trial 42 finished with value: 17750609480.702988 and parameters: {'n_estimators': 2475, 'learning_rate': 0.06356422559802956, 'max_depth': 4, 'min_samples_split': 6, 'min_samples_leaf': 11, 'max_features': 'sqrt'}. Best is trial 22 with value: 17502651805.601322.\n"
     ]
    },
    {
     "name": "stdout",
     "output_type": "stream",
     "text": [
      "mse : 17750609480.702988\n",
      "rmse : 133231.41326542696\n",
      "r2 : 0.8285727682794428\n"
     ]
    },
    {
     "name": "stderr",
     "output_type": "stream",
     "text": [
      "[I 2023-06-13 13:28:18,102] Trial 43 finished with value: 17792361211.684265 and parameters: {'n_estimators': 2493, 'learning_rate': 0.06206683902690266, 'max_depth': 4, 'min_samples_split': 4, 'min_samples_leaf': 12, 'max_features': 'sqrt'}. Best is trial 22 with value: 17502651805.601322.\n"
     ]
    },
    {
     "name": "stdout",
     "output_type": "stream",
     "text": [
      "mse : 17792361211.684265\n",
      "rmse : 133388.00999971572\n",
      "r2 : 0.8281695492424039\n"
     ]
    },
    {
     "name": "stderr",
     "output_type": "stream",
     "text": [
      "[I 2023-06-13 13:28:31,004] Trial 44 finished with value: 17589188181.991737 and parameters: {'n_estimators': 2550, 'learning_rate': 0.015212113156284242, 'max_depth': 5, 'min_samples_split': 4, 'min_samples_leaf': 9, 'max_features': 'sqrt'}. Best is trial 22 with value: 17502651805.601322.\n"
     ]
    },
    {
     "name": "stdout",
     "output_type": "stream",
     "text": [
      "mse : 17589188181.991737\n",
      "rmse : 132624.23678193867\n",
      "r2 : 0.8301317010253234\n"
     ]
    },
    {
     "name": "stderr",
     "output_type": "stream",
     "text": [
      "[I 2023-06-13 13:28:42,861] Trial 45 finished with value: 17509218672.671425 and parameters: {'n_estimators': 2458, 'learning_rate': 0.017330450379969865, 'max_depth': 5, 'min_samples_split': 3, 'min_samples_leaf': 8, 'max_features': 'sqrt'}. Best is trial 22 with value: 17502651805.601322.\n"
     ]
    },
    {
     "name": "stdout",
     "output_type": "stream",
     "text": [
      "mse : 17509218672.671425\n",
      "rmse : 132322.40427331807\n",
      "r2 : 0.8309040098082829\n"
     ]
    },
    {
     "name": "stderr",
     "output_type": "stream",
     "text": [
      "[I 2023-06-13 13:28:53,569] Trial 46 finished with value: 17147118897.946941 and parameters: {'n_estimators': 1812, 'learning_rate': 0.02157866013907933, 'max_depth': 7, 'min_samples_split': 2, 'min_samples_leaf': 8, 'max_features': 'log2'}. Best is trial 46 with value: 17147118897.946941.\n"
     ]
    },
    {
     "name": "stdout",
     "output_type": "stream",
     "text": [
      "mse : 17147118897.946941\n",
      "rmse : 130947.00797630675\n",
      "r2 : 0.8344010030836484\n"
     ]
    },
    {
     "name": "stderr",
     "output_type": "stream",
     "text": [
      "[I 2023-06-13 13:29:08,760] Trial 47 finished with value: 17313855865.824352 and parameters: {'n_estimators': 2296, 'learning_rate': 0.02503329220603763, 'max_depth': 7, 'min_samples_split': 2, 'min_samples_leaf': 7, 'max_features': 'log2'}. Best is trial 46 with value: 17147118897.946941.\n"
     ]
    },
    {
     "name": "stdout",
     "output_type": "stream",
     "text": [
      "mse : 17313855865.824352\n",
      "rmse : 131582.12593595055\n",
      "r2 : 0.8327907340469836\n"
     ]
    },
    {
     "name": "stderr",
     "output_type": "stream",
     "text": [
      "[I 2023-06-13 13:29:22,336] Trial 48 finished with value: 17269298062.472942 and parameters: {'n_estimators': 1826, 'learning_rate': 0.016221346247094284, 'max_depth': 9, 'min_samples_split': 2, 'min_samples_leaf': 8, 'max_features': 'log2'}. Best is trial 46 with value: 17147118897.946941.\n"
     ]
    },
    {
     "name": "stdout",
     "output_type": "stream",
     "text": [
      "mse : 17269298062.472942\n",
      "rmse : 131412.70129813533\n",
      "r2 : 0.8332210528418613\n"
     ]
    },
    {
     "name": "stderr",
     "output_type": "stream",
     "text": [
      "[I 2023-06-13 13:29:38,253] Trial 49 finished with value: 17098529139.897314 and parameters: {'n_estimators': 1910, 'learning_rate': 0.011137873686335575, 'max_depth': 10, 'min_samples_split': 2, 'min_samples_leaf': 7, 'max_features': 'log2'}. Best is trial 49 with value: 17098529139.897314.\n"
     ]
    },
    {
     "name": "stdout",
     "output_type": "stream",
     "text": [
      "mse : 17098529139.897314\n",
      "rmse : 130761.34421111354\n",
      "r2 : 0.8348702606447183\n"
     ]
    },
    {
     "name": "stderr",
     "output_type": "stream",
     "text": [
      "[I 2023-06-13 13:29:53,504] Trial 50 finished with value: 22186765731.9188 and parameters: {'n_estimators': 1789, 'learning_rate': 0.2632843770979098, 'max_depth': 10, 'min_samples_split': 2, 'min_samples_leaf': 7, 'max_features': 'log2'}. Best is trial 49 with value: 17098529139.897314.\n"
     ]
    },
    {
     "name": "stdout",
     "output_type": "stream",
     "text": [
      "mse : 22186765731.9188\n",
      "rmse : 148952.22634092718\n",
      "r2 : 0.7857304091789004\n"
     ]
    },
    {
     "name": "stderr",
     "output_type": "stream",
     "text": [
      "[I 2023-06-13 13:30:04,628] Trial 51 finished with value: 17617349949.041878 and parameters: {'n_estimators': 1519, 'learning_rate': 0.04093834633592857, 'max_depth': 9, 'min_samples_split': 3, 'min_samples_leaf': 7, 'max_features': 'log2'}. Best is trial 49 with value: 17098529139.897314.\n"
     ]
    },
    {
     "name": "stdout",
     "output_type": "stream",
     "text": [
      "mse : 17617349949.041878\n",
      "rmse : 132730.36558769015\n",
      "r2 : 0.8298597276166912\n"
     ]
    },
    {
     "name": "stderr",
     "output_type": "stream",
     "text": [
      "[I 2023-06-13 13:30:19,054] Trial 52 finished with value: 17169705620.478094 and parameters: {'n_estimators': 1821, 'learning_rate': 0.01223027083141557, 'max_depth': 9, 'min_samples_split': 2, 'min_samples_leaf': 8, 'max_features': 'log2'}. Best is trial 49 with value: 17098529139.897314.\n"
     ]
    },
    {
     "name": "stdout",
     "output_type": "stream",
     "text": [
      "mse : 17169705620.478094\n",
      "rmse : 131033.22334613498\n",
      "r2 : 0.8341828708938008\n"
     ]
    },
    {
     "name": "stderr",
     "output_type": "stream",
     "text": [
      "[I 2023-06-13 13:30:27,833] Trial 53 finished with value: 19211745504.219204 and parameters: {'n_estimators': 1191, 'learning_rate': 0.12632361268016376, 'max_depth': 9, 'min_samples_split': 2, 'min_samples_leaf': 8, 'max_features': 'log2'}. Best is trial 49 with value: 17098529139.897314.\n"
     ]
    },
    {
     "name": "stdout",
     "output_type": "stream",
     "text": [
      "mse : 19211745504.219204\n",
      "rmse : 138606.44106324643\n",
      "r2 : 0.8144617878113711\n"
     ]
    },
    {
     "name": "stderr",
     "output_type": "stream",
     "text": [
      "[I 2023-06-13 13:30:42,024] Trial 54 finished with value: 17939735229.21679 and parameters: {'n_estimators': 1779, 'learning_rate': 0.043055358711029654, 'max_depth': 9, 'min_samples_split': 2, 'min_samples_leaf': 6, 'max_features': 'log2'}. Best is trial 49 with value: 17098529139.897314.\n"
     ]
    },
    {
     "name": "stdout",
     "output_type": "stream",
     "text": [
      "mse : 17939735229.21679\n",
      "rmse : 133939.29680723575\n",
      "r2 : 0.8267462786848154\n"
     ]
    },
    {
     "name": "stderr",
     "output_type": "stream",
     "text": [
      "[I 2023-06-13 13:30:50,924] Trial 55 finished with value: 17442159370.22255 and parameters: {'n_estimators': 1252, 'learning_rate': 0.010082243979317706, 'max_depth': 8, 'min_samples_split': 3, 'min_samples_leaf': 6, 'max_features': 'log2'}. Best is trial 49 with value: 17098529139.897314.\n"
     ]
    },
    {
     "name": "stdout",
     "output_type": "stream",
     "text": [
      "mse : 17442159370.22255\n",
      "rmse : 132068.76758046373\n",
      "r2 : 0.8315516377442376\n"
     ]
    },
    {
     "name": "stderr",
     "output_type": "stream",
     "text": [
      "[I 2023-06-13 13:31:00,163] Trial 56 finished with value: 19192635611.747673 and parameters: {'n_estimators': 1308, 'learning_rate': 0.12940307940260626, 'max_depth': 8, 'min_samples_split': 3, 'min_samples_leaf': 6, 'max_features': 'log2'}. Best is trial 49 with value: 17098529139.897314.\n"
     ]
    },
    {
     "name": "stdout",
     "output_type": "stream",
     "text": [
      "mse : 19192635611.747673\n",
      "rmse : 138537.48810970868\n",
      "r2 : 0.8146463423737614\n"
     ]
    },
    {
     "name": "stderr",
     "output_type": "stream",
     "text": [
      "[I 2023-06-13 13:31:05,597] Trial 57 finished with value: 17878033990.385334 and parameters: {'n_estimators': 602, 'learning_rate': 0.06319703785209002, 'max_depth': 10, 'min_samples_split': 2, 'min_samples_leaf': 4, 'max_features': 'log2'}. Best is trial 49 with value: 17098529139.897314.\n"
     ]
    },
    {
     "name": "stdout",
     "output_type": "stream",
     "text": [
      "mse : 17878033990.385334\n",
      "rmse : 133708.76557049406\n",
      "r2 : 0.8273421609038515\n"
     ]
    },
    {
     "name": "stderr",
     "output_type": "stream",
     "text": [
      "[I 2023-06-13 13:31:17,891] Trial 58 finished with value: 20344043795.673763 and parameters: {'n_estimators': 1565, 'learning_rate': 0.16796088495803788, 'max_depth': 9, 'min_samples_split': 2, 'min_samples_leaf': 7, 'max_features': 'log2'}. Best is trial 49 with value: 17098529139.897314.\n"
     ]
    },
    {
     "name": "stdout",
     "output_type": "stream",
     "text": [
      "mse : 20344043795.673763\n",
      "rmse : 142632.5481637125\n",
      "r2 : 0.803526571091236\n"
     ]
    },
    {
     "name": "stderr",
     "output_type": "stream",
     "text": [
      "[I 2023-06-13 13:31:31,696] Trial 59 finished with value: 18974111680.90142 and parameters: {'n_estimators': 1878, 'learning_rate': 0.09737635235185761, 'max_depth': 8, 'min_samples_split': 3, 'min_samples_leaf': 6, 'max_features': 'log2'}. Best is trial 49 with value: 17098529139.897314.\n"
     ]
    },
    {
     "name": "stdout",
     "output_type": "stream",
     "text": [
      "mse : 18974111680.90142\n",
      "rmse : 137746.5487077677\n",
      "r2 : 0.8167567461078074\n"
     ]
    },
    {
     "name": "stderr",
     "output_type": "stream",
     "text": [
      "[I 2023-06-13 13:31:39,162] Trial 60 finished with value: 17474115826.86579 and parameters: {'n_estimators': 1061, 'learning_rate': 0.04444926705305743, 'max_depth': 8, 'min_samples_split': 2, 'min_samples_leaf': 8, 'max_features': 'log2'}. Best is trial 49 with value: 17098529139.897314.\n"
     ]
    },
    {
     "name": "stdout",
     "output_type": "stream",
     "text": [
      "mse : 17474115826.86579\n",
      "rmse : 132189.6963717891\n",
      "r2 : 0.8312430169667986\n"
     ]
    },
    {
     "name": "stderr",
     "output_type": "stream",
     "text": [
      "[I 2023-06-13 13:31:46,893] Trial 61 finished with value: 17376485400.488773 and parameters: {'n_estimators': 1128, 'learning_rate': 0.011286903512975009, 'max_depth': 8, 'min_samples_split': 2, 'min_samples_leaf': 8, 'max_features': 'log2'}. Best is trial 49 with value: 17098529139.897314.\n"
     ]
    },
    {
     "name": "stdout",
     "output_type": "stream",
     "text": [
      "mse : 17376485400.488773\n",
      "rmse : 131819.89758943365\n",
      "r2 : 0.8321858867732526\n"
     ]
    },
    {
     "name": "stderr",
     "output_type": "stream",
     "text": [
      "[I 2023-06-13 13:31:59,525] Trial 62 finished with value: 17549747038.533558 and parameters: {'n_estimators': 2064, 'learning_rate': 0.04352166446371813, 'max_depth': 7, 'min_samples_split': 3, 'min_samples_leaf': 7, 'max_features': 'log2'}. Best is trial 49 with value: 17098529139.897314.\n"
     ]
    },
    {
     "name": "stdout",
     "output_type": "stream",
     "text": [
      "mse : 17549747038.533558\n",
      "rmse : 132475.4582499474\n",
      "r2 : 0.83051260546955\n"
     ]
    },
    {
     "name": "stderr",
     "output_type": "stream",
     "text": [
      "[I 2023-06-13 13:32:00,698] Trial 63 finished with value: 21490183424.01485 and parameters: {'n_estimators': 130, 'learning_rate': 0.016368228788003123, 'max_depth': 9, 'min_samples_split': 2, 'min_samples_leaf': 8, 'max_features': 'log2'}. Best is trial 49 with value: 17098529139.897314.\n"
     ]
    },
    {
     "name": "stdout",
     "output_type": "stream",
     "text": [
      "mse : 21490183424.01485\n",
      "rmse : 146595.3049180459\n",
      "r2 : 0.792457681098172\n"
     ]
    },
    {
     "name": "stderr",
     "output_type": "stream",
     "text": [
      "[I 2023-06-13 13:32:11,665] Trial 64 finished with value: 19552197989.43673 and parameters: {'n_estimators': 1205, 'learning_rate': 0.10376811629179143, 'max_depth': 10, 'min_samples_split': 3, 'min_samples_leaf': 5, 'max_features': 'log2'}. Best is trial 49 with value: 17098529139.897314.\n"
     ]
    },
    {
     "name": "stdout",
     "output_type": "stream",
     "text": [
      "mse : 19552197989.43673\n",
      "rmse : 139829.17431436377\n",
      "r2 : 0.811173854113282\n"
     ]
    },
    {
     "name": "stderr",
     "output_type": "stream",
     "text": [
      "[I 2023-06-13 13:32:25,068] Trial 65 finished with value: 18064222621.770687 and parameters: {'n_estimators': 1692, 'learning_rate': 0.05860157857288152, 'max_depth': 8, 'min_samples_split': 2, 'min_samples_leaf': 5, 'max_features': 'log2'}. Best is trial 49 with value: 17098529139.897314.\n"
     ]
    },
    {
     "name": "stdout",
     "output_type": "stream",
     "text": [
      "mse : 18064222621.770687\n",
      "rmse : 134403.2091200604\n",
      "r2 : 0.8255440366371367\n"
     ]
    },
    {
     "name": "stderr",
     "output_type": "stream",
     "text": [
      "[I 2023-06-13 13:32:30,597] Trial 66 finished with value: 17868990651.082584 and parameters: {'n_estimators': 837, 'learning_rate': 0.01203291841908025, 'max_depth': 7, 'min_samples_split': 2, 'min_samples_leaf': 6, 'max_features': 'log2'}. Best is trial 49 with value: 17098529139.897314.\n"
     ]
    },
    {
     "name": "stdout",
     "output_type": "stream",
     "text": [
      "mse : 17868990651.082584\n",
      "rmse : 133674.94399132018\n",
      "r2 : 0.8274294973203202\n"
     ]
    },
    {
     "name": "stderr",
     "output_type": "stream",
     "text": [
      "[I 2023-06-13 13:32:48,977] Trial 67 finished with value: 20383914155.319393 and parameters: {'n_estimators': 2319, 'learning_rate': 0.1359475822788719, 'max_depth': 9, 'min_samples_split': 3, 'min_samples_leaf': 8, 'max_features': 'log2'}. Best is trial 49 with value: 17098529139.897314.\n"
     ]
    },
    {
     "name": "stdout",
     "output_type": "stream",
     "text": [
      "mse : 20383914155.319393\n",
      "rmse : 142772.24574587104\n",
      "r2 : 0.8031415214742534\n"
     ]
    },
    {
     "name": "stderr",
     "output_type": "stream",
     "text": [
      "[I 2023-06-13 13:32:58,590] Trial 68 finished with value: 18576117680.45348 and parameters: {'n_estimators': 1344, 'learning_rate': 0.09251641268267399, 'max_depth': 8, 'min_samples_split': 2, 'min_samples_leaf': 7, 'max_features': 'log2'}. Best is trial 49 with value: 17098529139.897314.\n"
     ]
    },
    {
     "name": "stdout",
     "output_type": "stream",
     "text": [
      "mse : 18576117680.45348\n",
      "rmse : 136294.2320146142\n",
      "r2 : 0.8206003893253742\n"
     ]
    },
    {
     "name": "stderr",
     "output_type": "stream",
     "text": [
      "[I 2023-06-13 13:33:10,791] Trial 69 finished with value: 20267535578.588253 and parameters: {'n_estimators': 1971, 'learning_rate': 0.1892269257824603, 'max_depth': 7, 'min_samples_split': 2, 'min_samples_leaf': 7, 'max_features': 'log2'}. Best is trial 49 with value: 17098529139.897314.\n"
     ]
    },
    {
     "name": "stdout",
     "output_type": "stream",
     "text": [
      "mse : 20267535578.588253\n",
      "rmse : 142364.0951173724\n",
      "r2 : 0.8042654523039123\n"
     ]
    },
    {
     "name": "stderr",
     "output_type": "stream",
     "text": [
      "[I 2023-06-13 13:33:25,898] Trial 70 finished with value: 18074977530.134018 and parameters: {'n_estimators': 1796, 'learning_rate': 0.04610074820620809, 'max_depth': 10, 'min_samples_split': 3, 'min_samples_leaf': 10, 'max_features': 'log2'}. Best is trial 49 with value: 17098529139.897314.\n"
     ]
    },
    {
     "name": "stdout",
     "output_type": "stream",
     "text": [
      "mse : 18074977530.134018\n",
      "rmse : 134443.21303113078\n",
      "r2 : 0.825440170672977\n"
     ]
    },
    {
     "name": "stderr",
     "output_type": "stream",
     "text": [
      "[I 2023-06-13 13:33:33,726] Trial 71 finished with value: 17430590081.776188 and parameters: {'n_estimators': 1110, 'learning_rate': 0.04368496221347179, 'max_depth': 8, 'min_samples_split': 2, 'min_samples_leaf': 8, 'max_features': 'log2'}. Best is trial 49 with value: 17098529139.897314.\n"
     ]
    },
    {
     "name": "stdout",
     "output_type": "stream",
     "text": [
      "mse : 17430590081.776188\n",
      "rmse : 132024.96007110242\n",
      "r2 : 0.8316633686171122\n"
     ]
    },
    {
     "name": "stderr",
     "output_type": "stream",
     "text": [
      "[I 2023-06-13 13:33:45,280] Trial 72 finished with value: 18663550163.456158 and parameters: {'n_estimators': 1498, 'learning_rate': 0.08057624329074639, 'max_depth': 9, 'min_samples_split': 2, 'min_samples_leaf': 9, 'max_features': 'log2'}. Best is trial 49 with value: 17098529139.897314.\n"
     ]
    },
    {
     "name": "stdout",
     "output_type": "stream",
     "text": [
      "mse : 18663550163.456158\n",
      "rmse : 136614.60450279887\n",
      "r2 : 0.8197560065710864\n"
     ]
    },
    {
     "name": "stderr",
     "output_type": "stream",
     "text": [
      "[I 2023-06-13 13:33:52,121] Trial 73 finished with value: 17647116603.577602 and parameters: {'n_estimators': 1065, 'learning_rate': 0.013222324082866853, 'max_depth': 7, 'min_samples_split': 2, 'min_samples_leaf': 8, 'max_features': 'log2'}. Best is trial 49 with value: 17098529139.897314.\n"
     ]
    },
    {
     "name": "stdout",
     "output_type": "stream",
     "text": [
      "mse : 17647116603.577602\n",
      "rmse : 132842.45030703704\n",
      "r2 : 0.8295722549420099\n"
     ]
    },
    {
     "name": "stderr",
     "output_type": "stream",
     "text": [
      "[I 2023-06-13 13:33:57,070] Trial 74 finished with value: 17915710675.43221 and parameters: {'n_estimators': 679, 'learning_rate': 0.1094118790019066, 'max_depth': 8, 'min_samples_split': 3, 'min_samples_leaf': 7, 'max_features': 'log2'}. Best is trial 49 with value: 17098529139.897314.\n"
     ]
    },
    {
     "name": "stdout",
     "output_type": "stream",
     "text": [
      "mse : 17915710675.43221\n",
      "rmse : 133849.58227589732\n",
      "r2 : 0.8269782967883678\n"
     ]
    },
    {
     "name": "stderr",
     "output_type": "stream",
     "text": [
      "[I 2023-06-13 13:34:06,609] Trial 75 finished with value: 19414901549.10928 and parameters: {'n_estimators': 1425, 'learning_rate': 0.14415678177900598, 'max_depth': 8, 'min_samples_split': 2, 'min_samples_leaf': 9, 'max_features': 'log2'}. Best is trial 49 with value: 17098529139.897314.\n"
     ]
    },
    {
     "name": "stdout",
     "output_type": "stream",
     "text": [
      "mse : 19414901549.10928\n",
      "rmse : 139337.3659472192\n",
      "r2 : 0.8124998000598709\n"
     ]
    },
    {
     "name": "stderr",
     "output_type": "stream",
     "text": [
      "[I 2023-06-13 13:34:22,796] Trial 76 finished with value: 18309273738.80563 and parameters: {'n_estimators': 2083, 'learning_rate': 0.0435227400290117, 'max_depth': 9, 'min_samples_split': 3, 'min_samples_leaf': 6, 'max_features': 'log2'}. Best is trial 49 with value: 17098529139.897314.\n"
     ]
    },
    {
     "name": "stdout",
     "output_type": "stream",
     "text": [
      "mse : 18309273738.80563\n",
      "rmse : 135311.7649681861\n",
      "r2 : 0.8231774455254908\n"
     ]
    },
    {
     "name": "stderr",
     "output_type": "stream",
     "text": [
      "[I 2023-06-13 13:34:28,832] Trial 77 finished with value: 17829621151.281982 and parameters: {'n_estimators': 884, 'learning_rate': 0.08114612532766717, 'max_depth': 8, 'min_samples_split': 2, 'min_samples_leaf': 7, 'max_features': 'log2'}. Best is trial 49 with value: 17098529139.897314.\n"
     ]
    },
    {
     "name": "stdout",
     "output_type": "stream",
     "text": [
      "mse : 17829621151.281982\n",
      "rmse : 133527.60445421757\n",
      "r2 : 0.827809709863015\n"
     ]
    },
    {
     "name": "stderr",
     "output_type": "stream",
     "text": [
      "[I 2023-06-13 13:34:42,725] Trial 78 finished with value: 17125053030.604311 and parameters: {'n_estimators': 1632, 'learning_rate': 0.010191669147135112, 'max_depth': 10, 'min_samples_split': 2, 'min_samples_leaf': 8, 'max_features': 'log2'}. Best is trial 49 with value: 17098529139.897314.\n"
     ]
    },
    {
     "name": "stdout",
     "output_type": "stream",
     "text": [
      "mse : 17125053030.604311\n",
      "rmse : 130862.72590239099\n",
      "r2 : 0.8346141050933665\n"
     ]
    },
    {
     "name": "stderr",
     "output_type": "stream",
     "text": [
      "[I 2023-06-13 13:34:58,556] Trial 79 finished with value: 18152801145.058784 and parameters: {'n_estimators': 1897, 'learning_rate': 0.04149932452453586, 'max_depth': 10, 'min_samples_split': 2, 'min_samples_leaf': 8, 'max_features': 'log2'}. Best is trial 49 with value: 17098529139.897314.\n"
     ]
    },
    {
     "name": "stdout",
     "output_type": "stream",
     "text": [
      "mse : 18152801145.058784\n",
      "rmse : 134732.33147637127\n",
      "r2 : 0.8246885859522641\n"
     ]
    },
    {
     "name": "stderr",
     "output_type": "stream",
     "text": [
      "[I 2023-06-13 13:35:15,994] Trial 80 finished with value: 20075083833.732517 and parameters: {'n_estimators': 2237, 'learning_rate': 0.10856212286671385, 'max_depth': 10, 'min_samples_split': 2, 'min_samples_leaf': 10, 'max_features': 'log2'}. Best is trial 49 with value: 17098529139.897314.\n"
     ]
    },
    {
     "name": "stdout",
     "output_type": "stream",
     "text": [
      "mse : 20075083833.732517\n",
      "rmse : 141686.56899555624\n",
      "r2 : 0.8061240628432448\n"
     ]
    },
    {
     "name": "stderr",
     "output_type": "stream",
     "text": [
      "[I 2023-06-13 13:35:25,540] Trial 81 finished with value: 18116021876.614574 and parameters: {'n_estimators': 1279, 'learning_rate': 0.06161535817273548, 'max_depth': 9, 'min_samples_split': 2, 'min_samples_leaf': 8, 'max_features': 'log2'}. Best is trial 49 with value: 17098529139.897314.\n"
     ]
    },
    {
     "name": "stdout",
     "output_type": "stream",
     "text": [
      "mse : 18116021876.614574\n",
      "rmse : 134595.77213499157\n",
      "r2 : 0.8250437832304731\n"
     ]
    },
    {
     "name": "stderr",
     "output_type": "stream",
     "text": [
      "[I 2023-06-13 13:35:38,948] Trial 82 finished with value: 17708174218.301254 and parameters: {'n_estimators': 1658, 'learning_rate': 0.035222760558860644, 'max_depth': 10, 'min_samples_split': 3, 'min_samples_leaf': 9, 'max_features': 'log2'}. Best is trial 49 with value: 17098529139.897314.\n"
     ]
    },
    {
     "name": "stdout",
     "output_type": "stream",
     "text": [
      "mse : 17708174218.301254\n",
      "rmse : 133072.0640040623\n",
      "r2 : 0.8289825885489255\n"
     ]
    },
    {
     "name": "stderr",
     "output_type": "stream",
     "text": [
      "[I 2023-06-13 13:35:47,743] Trial 83 finished with value: 17893878978.427696 and parameters: {'n_estimators': 1551, 'learning_rate': 0.01016014808427235, 'max_depth': 6, 'min_samples_split': 2, 'min_samples_leaf': 8, 'max_features': 'log2'}. Best is trial 49 with value: 17098529139.897314.\n"
     ]
    },
    {
     "name": "stdout",
     "output_type": "stream",
     "text": [
      "mse : 17893878978.427696\n",
      "rmse : 133768.0043150368\n",
      "r2 : 0.8271891372885385\n"
     ]
    },
    {
     "name": "stderr",
     "output_type": "stream",
     "text": [
      "[I 2023-06-13 13:35:59,656] Trial 84 finished with value: 18519669683.760227 and parameters: {'n_estimators': 1761, 'learning_rate': 0.07612232576717332, 'max_depth': 8, 'min_samples_split': 3, 'min_samples_leaf': 9, 'max_features': 'log2'}. Best is trial 49 with value: 17098529139.897314.\n"
     ]
    },
    {
     "name": "stdout",
     "output_type": "stream",
     "text": [
      "mse : 18519669683.760227\n",
      "rmse : 136086.99307340223\n",
      "r2 : 0.8211455381451831\n"
     ]
    },
    {
     "name": "stderr",
     "output_type": "stream",
     "text": [
      "[I 2023-06-13 13:36:08,041] Trial 85 finished with value: 17361222153.335262 and parameters: {'n_estimators': 1120, 'learning_rate': 0.03651840484948906, 'max_depth': 9, 'min_samples_split': 2, 'min_samples_leaf': 7, 'max_features': 'log2'}. Best is trial 49 with value: 17098529139.897314.\n"
     ]
    },
    {
     "name": "stdout",
     "output_type": "stream",
     "text": [
      "mse : 17361222153.335262\n",
      "rmse : 131761.99054862242\n",
      "r2 : 0.8323332922023133\n"
     ]
    },
    {
     "name": "stderr",
     "output_type": "stream",
     "text": [
      "[I 2023-06-13 13:36:16,627] Trial 86 finished with value: 18397588678.09238 and parameters: {'n_estimators': 1099, 'learning_rate': 0.08121366148816597, 'max_depth': 9, 'min_samples_split': 2, 'min_samples_leaf': 7, 'max_features': 'log2'}. Best is trial 49 with value: 17098529139.897314.\n"
     ]
    },
    {
     "name": "stdout",
     "output_type": "stream",
     "text": [
      "mse : 18397588678.09238\n",
      "rmse : 135637.71112081027\n",
      "r2 : 0.8223245404138124\n"
     ]
    },
    {
     "name": "stderr",
     "output_type": "stream",
     "text": [
      "[I 2023-06-13 13:36:29,059] Trial 87 finished with value: 17453161119.929775 and parameters: {'n_estimators': 439, 'learning_rate': 0.0400800089100115, 'max_depth': 10, 'min_samples_split': 2, 'min_samples_leaf': 8, 'max_features': 1.0}. Best is trial 49 with value: 17098529139.897314.\n"
     ]
    },
    {
     "name": "stdout",
     "output_type": "stream",
     "text": [
      "mse : 17453161119.929775\n",
      "rmse : 132110.41260979307\n",
      "r2 : 0.8314453878997776\n"
     ]
    },
    {
     "name": "stderr",
     "output_type": "stream",
     "text": [
      "[I 2023-06-13 13:36:40,924] Trial 88 finished with value: 20190312250.013676 and parameters: {'n_estimators': 1605, 'learning_rate': 0.1511501401807626, 'max_depth': 9, 'min_samples_split': 2, 'min_samples_leaf': 7, 'max_features': 'log2'}. Best is trial 49 with value: 17098529139.897314.\n"
     ]
    },
    {
     "name": "stdout",
     "output_type": "stream",
     "text": [
      "mse : 20190312250.013676\n",
      "rmse : 142092.61856273067\n",
      "r2 : 0.8050112397348272\n"
     ]
    },
    {
     "name": "stderr",
     "output_type": "stream",
     "text": [
      "[I 2023-06-13 13:36:46,640] Trial 89 finished with value: 17941913563.5808 and parameters: {'n_estimators': 953, 'learning_rate': 0.11514854790683074, 'max_depth': 7, 'min_samples_split': 2, 'min_samples_leaf': 9, 'max_features': 'log2'}. Best is trial 49 with value: 17098529139.897314.\n"
     ]
    },
    {
     "name": "stdout",
     "output_type": "stream",
     "text": [
      "mse : 17941913563.5808\n",
      "rmse : 133947.42835747462\n",
      "r2 : 0.8267252413322563\n"
     ]
    },
    {
     "name": "stderr",
     "output_type": "stream",
     "text": [
      "[I 2023-06-13 13:36:52,521] Trial 90 finished with value: 17630284530.43074 and parameters: {'n_estimators': 717, 'learning_rate': 0.05837601802122846, 'max_depth': 10, 'min_samples_split': 4, 'min_samples_leaf': 8, 'max_features': 'log2'}. Best is trial 49 with value: 17098529139.897314.\n"
     ]
    },
    {
     "name": "stdout",
     "output_type": "stream",
     "text": [
      "mse : 17630284530.43074\n",
      "rmse : 132779.08167490366\n",
      "r2 : 0.8297348113717946\n"
     ]
    },
    {
     "name": "stderr",
     "output_type": "stream",
     "text": [
      "[I 2023-06-13 13:37:01,033] Trial 91 finished with value: 17323246795.20042 and parameters: {'n_estimators': 1244, 'learning_rate': 0.032282279092936544, 'max_depth': 8, 'min_samples_split': 2, 'min_samples_leaf': 6, 'max_features': 'log2'}. Best is trial 49 with value: 17098529139.897314.\n"
     ]
    },
    {
     "name": "stdout",
     "output_type": "stream",
     "text": [
      "mse : 17323246795.20042\n",
      "rmse : 131617.8057680663\n",
      "r2 : 0.83270004076527\n"
     ]
    },
    {
     "name": "stderr",
     "output_type": "stream",
     "text": [
      "[I 2023-06-13 13:37:12,069] Trial 92 finished with value: 17811269921.05841 and parameters: {'n_estimators': 1410, 'learning_rate': 0.03903819848289118, 'max_depth': 9, 'min_samples_split': 2, 'min_samples_leaf': 7, 'max_features': 'log2'}. Best is trial 49 with value: 17098529139.897314.\n"
     ]
    },
    {
     "name": "stdout",
     "output_type": "stream",
     "text": [
      "mse : 17811269921.05841\n",
      "rmse : 133458.86977289448\n",
      "r2 : 0.8279869376139446\n"
     ]
    },
    {
     "name": "stderr",
     "output_type": "stream",
     "text": [
      "[I 2023-06-13 13:37:23,638] Trial 93 finished with value: 18508724899.107327 and parameters: {'n_estimators': 1869, 'learning_rate': 0.07607448151308405, 'max_depth': 7, 'min_samples_split': 2, 'min_samples_leaf': 5, 'max_features': 'log2'}. Best is trial 49 with value: 17098529139.897314.\n"
     ]
    },
    {
     "name": "stdout",
     "output_type": "stream",
     "text": [
      "mse : 18508724899.107327\n",
      "rmse : 136046.77467366628\n",
      "r2 : 0.8212512378473181\n"
     ]
    },
    {
     "name": "stderr",
     "output_type": "stream",
     "text": [
      "[I 2023-06-13 13:37:31,805] Trial 94 finished with value: 17329609596.9113 and parameters: {'n_estimators': 1109, 'learning_rate': 0.029928789909524148, 'max_depth': 9, 'min_samples_split': 2, 'min_samples_leaf': 6, 'max_features': 'log2'}. Best is trial 49 with value: 17098529139.897314.\n"
     ]
    },
    {
     "name": "stdout",
     "output_type": "stream",
     "text": [
      "mse : 17329609596.9113\n",
      "rmse : 131641.97505701325\n",
      "r2 : 0.8326385917494225\n"
     ]
    },
    {
     "name": "stderr",
     "output_type": "stream",
     "text": [
      "[I 2023-06-13 13:37:39,675] Trial 95 finished with value: 17299179681.953773 and parameters: {'n_estimators': 967, 'learning_rate': 0.02865480057370451, 'max_depth': 9, 'min_samples_split': 3, 'min_samples_leaf': 6, 'max_features': 'log2'}. Best is trial 49 with value: 17098529139.897314.\n"
     ]
    },
    {
     "name": "stdout",
     "output_type": "stream",
     "text": [
      "mse : 17299179681.953773\n",
      "rmse : 131526.3459613844\n",
      "r2 : 0.8329324698885552\n"
     ]
    },
    {
     "name": "stderr",
     "output_type": "stream",
     "text": [
      "[I 2023-06-13 13:37:54,851] Trial 96 finished with value: 19718932938.98992 and parameters: {'n_estimators': 2007, 'learning_rate': 0.09632220190166402, 'max_depth': 9, 'min_samples_split': 3, 'min_samples_leaf': 6, 'max_features': 'log2'}. Best is trial 49 with value: 17098529139.897314.\n"
     ]
    },
    {
     "name": "stdout",
     "output_type": "stream",
     "text": [
      "mse : 19718932938.98992\n",
      "rmse : 140424.11808158143\n",
      "r2 : 0.8095636045686653\n"
     ]
    },
    {
     "name": "stderr",
     "output_type": "stream",
     "text": [
      "[I 2023-06-13 13:38:15,262] Trial 97 finished with value: 18022147195.88026 and parameters: {'n_estimators': 2398, 'learning_rate': 0.026399552612214928, 'max_depth': 10, 'min_samples_split': 3, 'min_samples_leaf': 6, 'max_features': 'log2'}. Best is trial 49 with value: 17098529139.897314.\n"
     ]
    },
    {
     "name": "stdout",
     "output_type": "stream",
     "text": [
      "mse : 18022147195.88026\n",
      "rmse : 134246.5910028268\n",
      "r2 : 0.8259503817709024\n"
     ]
    },
    {
     "name": "stderr",
     "output_type": "stream",
     "text": [
      "[I 2023-06-13 13:38:45,296] Trial 98 finished with value: 19404016437.190403 and parameters: {'n_estimators': 917, 'learning_rate': 0.11864095471381332, 'max_depth': 9, 'min_samples_split': 2, 'min_samples_leaf': 6, 'max_features': 1.0}. Best is trial 49 with value: 17098529139.897314.\n"
     ]
    },
    {
     "name": "stdout",
     "output_type": "stream",
     "text": [
      "mse : 19404016437.190403\n",
      "rmse : 139298.30019490691\n",
      "r2 : 0.8126049234701543\n"
     ]
    },
    {
     "name": "stderr",
     "output_type": "stream",
     "text": [
      "[I 2023-06-13 13:39:06,750] Trial 99 finished with value: 19310879390.33732 and parameters: {'n_estimators': 2165, 'learning_rate': 0.06331892688137979, 'max_depth': 9, 'min_samples_split': 2, 'min_samples_leaf': 5, 'max_features': 'log2'}. Best is trial 49 with value: 17098529139.897314.\n"
     ]
    },
    {
     "name": "stdout",
     "output_type": "stream",
     "text": [
      "mse : 19310879390.33732\n",
      "rmse : 138963.59016065078\n",
      "r2 : 0.8135043982814283\n",
      "Best trial: score 17098529139.897314, \n",
      "params {'n_estimators': 1910, 'learning_rate': 0.011137873686335575, 'max_depth': 10, 'min_samples_split': 2, 'min_samples_leaf': 7, 'max_features': 'log2'}\n"
     ]
    }
   ],
   "source": [
    "import optuna\n",
    "from sklearn.ensemble import GradientBoostingRegressor\n",
    "\n",
    "def objectiveGBR(trial):\n",
    "    # Define the search space for each parameter\n",
    "    params = {\n",
    "        'n_estimators': trial.suggest_int('n_estimators', 100, 4000),\n",
    "        'learning_rate': trial.suggest_float('learning_rate', 0.01, 1),\n",
    "        'max_depth': trial.suggest_int('max_depth', 1, 10),\n",
    "        'min_samples_split': trial.suggest_int('min_samples_split', 2, 10),\n",
    "        'min_samples_leaf': trial.suggest_int('min_samples_leaf', 1, 15),\n",
    "        'max_features': trial.suggest_categorical('max_features', [1.0, 'sqrt', 'log2']),\n",
    "        'random_state': 42,\n",
    "    }\n",
    "\n",
    "    # 모델 학습\n",
    "    model = GradientBoostingRegressor(**params)\n",
    "    model.fit(x_train, y_train)\n",
    "\n",
    "    # 예측\n",
    "    y_pred = model.predict(x_test)\n",
    "\n",
    "    # 모델 평가    \n",
    "    mse = mean_squared_error(y_test, y_pred)\n",
    "    rmse = np.sqrt(mse)\n",
    "    r2 = r2_score(y_test, y_pred)\n",
    "\n",
    "    print(f\"mse : {mse}\")\n",
    "    print(f\"rmse : {rmse}\")\n",
    "    print(f\"r2 : {r2}\")\n",
    "    \n",
    "    return mse\n",
    "\n",
    "# optimization study 진행\n",
    "# direction: score 값을 최대 or 최소로 하는 방향으로 지정\n",
    "study3 = optuna.create_study(direction='minimize')\n",
    "\n",
    "# n_trials: 시도 횟수 (미입력시 key interrupt가 있을 때까지 무한 반복)\n",
    "study3.optimize(objectiveGBR, n_trials=100)\n",
    "\n",
    "# 모든 트라이얼이 완료되었는지 확인\n",
    "if study3.best_trial is None:\n",
    "    print(\"No trials completed.\")\n",
    "else:\n",
    "    # 최적의 트라이얼 출력\n",
    "    print('Best trial: score {}, \\nparams {}'.format(study3.best_trial.value, study3.best_trial.params))\n"
   ]
  },
  {
   "cell_type": "code",
   "execution_count": 5,
   "metadata": {},
   "outputs": [
    {
     "name": "stdout",
     "output_type": "stream",
     "text": [
      "mse : 17098529139.897\n",
      "rmse : 130761.344\n",
      "r2 : 0.835\n"
     ]
    }
   ],
   "source": [
    "# Best trial의 파라미터\n",
    "best_params = study3.best_trial.params\n",
    "\n",
    "# 최적의 모델 학습\n",
    "best_gbr = GradientBoostingRegressor(n_estimators=best_params['n_estimators'],\n",
    "                                     learning_rate=best_params['learning_rate'],\n",
    "                                     max_depth=best_params['max_depth'],\n",
    "                                     min_samples_split=best_params['min_samples_split'],\n",
    "                                     min_samples_leaf=best_params['min_samples_leaf'],\n",
    "                                     max_features=best_params['max_features'],\n",
    "                                     random_state=42)\n",
    "best_gbr.fit(x_train, y_train)\n",
    "\n",
    "# 저장 경로 설정\n",
    "import pickle\n",
    "import os\n",
    "save_path = 'GradientBoostingRegressor_best_model.pkl'\n",
    "\n",
    "# 모델을 'GradientBoostingRegressor_best_model.pkl' 파일로 저장\n",
    "with open(save_path, 'wb') as f:\n",
    "    pickle.dump(best_gbr, f)\n",
    "\n",
    "# 저장된 모델 로드\n",
    "with open('GradientBoostingRegressor_best_model.pkl', 'rb') as f:\n",
    "    loaded_model = pickle.load(f)\n",
    "\n",
    "# 로드된 모델로 예측\n",
    "y_pred = loaded_model.predict(x_test)\n",
    "\n",
    "# 모델 평가\n",
    "from evaluate_score import evaluate_score\n",
    "evaluate_score(y_test, y_pred)"
   ]
  },
  {
   "cell_type": "code",
   "execution_count": 6,
   "metadata": {},
   "outputs": [
    {
     "name": "stderr",
     "output_type": "stream",
     "text": [
      "C:\\Users\\dohee\\AppData\\Local\\Temp\\ipykernel_22292\\2101438053.py:5: ExperimentalWarning: plot_param_importances is experimental (supported from v2.2.0). The interface can change in the future.\n",
      "  plot_param_importances(study3)\n",
      "C:\\Users\\dohee\\AppData\\Local\\Temp\\ipykernel_22292\\2101438053.py:10: ExperimentalWarning: plot_optimization_history is experimental (supported from v2.2.0). The interface can change in the future.\n",
      "  plot_optimization_history(study3)\n"
     ]
    },
    {
     "data": {
      "text/plain": [
       "<AxesSubplot:title={'center':'Optimization History Plot'}, xlabel='Trial', ylabel='Objective Value'>"
      ]
     },
     "execution_count": 6,
     "metadata": {},
     "output_type": "execute_result"
    },
    {
     "data": {
      "image/png": "[encoded data removed]",
      "text/plain": [
       "<Figure size 640x480 with 1 Axes>"
      ]
     },
     "metadata": {},
     "output_type": "display_data"
    },
    {
     "data": {
      "image/png": "[encoded data removed]",
      "text/plain": [
       "<Figure size 640x480 with 1 Axes>"
      ]
     },
     "metadata": {},
     "output_type": "display_data"
    }
   ],
   "source": [
    "from optuna.visualization.matplotlib import plot_param_importances\n",
    "from optuna.visualization.matplotlib import plot_optimization_history\n",
    "\n",
    "# 하이퍼파라미터별 중요도 확인\n",
    "plot_param_importances(study3)\n",
    "\n",
    "# 하이퍼파라미터 최적화 과정 확인\n",
    "import matplotlib.pyplot as plt\n",
    "import numpy as np\n",
    "plot_optimization_history(study3)"
   ]
  },
  {
   "attachments": {},
   "cell_type": "markdown",
   "metadata": {},
   "source": [
    "## XGBoost 를 이용한 가격 예측"
   ]
  },
  {
   "cell_type": "code",
   "execution_count": 9,
   "metadata": {},
   "outputs": [],
   "source": [
    "#!pip install xgboost"
   ]
  },
  {
   "cell_type": "code",
   "execution_count": 10,
   "metadata": {},
   "outputs": [
    {
     "name": "stderr",
     "output_type": "stream",
     "text": [
      "[I 2023-06-13 13:47:57,214] A new study created in memory with name: no-name-70d9541d-21ea-436e-860d-1adcad9657e9\n",
      "[I 2023-06-13 13:48:21,596] Trial 0 finished with value: 26063545444.846615 and parameters: {'n_estimators': 3802, 'learning_rate': 0.5431166716083784, 'max_depth': 5, 'min_child_weight': 2, 'gamma': 0.45561373825239804, 'subsample': 0.8681732105970896, 'colsample_bytree': 0.659664397949555}. Best is trial 0 with value: 26063545444.846615.\n"
     ]
    },
    {
     "name": "stdout",
     "output_type": "stream",
     "text": [
      "mse : 26063545444.846615\n",
      "rmse : 161442.0807746438\n",
      "r2 : 0.7482902517071179\n"
     ]
    },
    {
     "name": "stderr",
     "output_type": "stream",
     "text": [
      "[I 2023-06-13 13:48:55,236] Trial 1 finished with value: 23187810186.50725 and parameters: {'n_estimators': 2748, 'learning_rate': 0.19406309324029572, 'max_depth': 6, 'min_child_weight': 7, 'gamma': 0.3255138705494942, 'subsample': 0.5254517554611513, 'colsample_bytree': 0.7805606646929035}. Best is trial 1 with value: 23187810186.50725.\n"
     ]
    },
    {
     "name": "stdout",
     "output_type": "stream",
     "text": [
      "mse : 23187810186.50725\n",
      "rmse : 152275.44183651957\n",
      "r2 : 0.7760627817171013\n"
     ]
    },
    {
     "name": "stderr",
     "output_type": "stream",
     "text": [
      "[I 2023-06-13 13:49:14,258] Trial 2 finished with value: 22659514447.33666 and parameters: {'n_estimators': 1628, 'learning_rate': 0.27500046218091684, 'max_depth': 7, 'min_child_weight': 10, 'gamma': 0.10689528784572011, 'subsample': 0.8968951220128936, 'colsample_bytree': 0.7235383104746704}. Best is trial 2 with value: 22659514447.33666.\n"
     ]
    },
    {
     "name": "stdout",
     "output_type": "stream",
     "text": [
      "mse : 22659514447.33666\n",
      "rmse : 150530.77574813948\n",
      "r2 : 0.7811648192665294\n"
     ]
    },
    {
     "name": "stderr",
     "output_type": "stream",
     "text": [
      "[I 2023-06-13 13:49:37,665] Trial 3 finished with value: 17935999120.45308 and parameters: {'n_estimators': 2179, 'learning_rate': 0.016744863005432195, 'max_depth': 9, 'min_child_weight': 2, 'gamma': 0.27282032219447533, 'subsample': 0.5332738550942904, 'colsample_bytree': 0.557609061898444}. Best is trial 3 with value: 17935999120.45308.\n"
     ]
    },
    {
     "name": "stdout",
     "output_type": "stream",
     "text": [
      "mse : 17935999120.45308\n",
      "rmse : 133925.34905854485\n",
      "r2 : 0.8267823603068839\n"
     ]
    },
    {
     "name": "stderr",
     "output_type": "stream",
     "text": [
      "[I 2023-06-13 13:49:53,117] Trial 4 finished with value: 25184500087.262703 and parameters: {'n_estimators': 3320, 'learning_rate': 0.5236139550121306, 'max_depth': 5, 'min_child_weight': 2, 'gamma': 0.4792357792064964, 'subsample': 0.9489870440777308, 'colsample_bytree': 0.6023594966808604}. Best is trial 3 with value: 17935999120.45308.\n"
     ]
    },
    {
     "name": "stdout",
     "output_type": "stream",
     "text": [
      "mse : 25184500087.262703\n",
      "rmse : 158696.25101829818\n",
      "r2 : 0.7567796679365291\n"
     ]
    },
    {
     "name": "stderr",
     "output_type": "stream",
     "text": [
      "[I 2023-06-13 13:50:05,568] Trial 5 finished with value: 25091882926.904873 and parameters: {'n_estimators': 2062, 'learning_rate': 0.4928119514432349, 'max_depth': 6, 'min_child_weight': 9, 'gamma': 0.18820285771884548, 'subsample': 0.990764259897501, 'colsample_bytree': 0.9334929360135416}. Best is trial 3 with value: 17935999120.45308.\n"
     ]
    },
    {
     "name": "stdout",
     "output_type": "stream",
     "text": [
      "mse : 25091882926.904873\n",
      "rmse : 158404.17585059075\n",
      "r2 : 0.757674121922868\n"
     ]
    },
    {
     "name": "stderr",
     "output_type": "stream",
     "text": [
      "[I 2023-06-13 13:50:24,940] Trial 6 finished with value: 21205198746.31368 and parameters: {'n_estimators': 3133, 'learning_rate': 0.12012929961610126, 'max_depth': 6, 'min_child_weight': 9, 'gamma': 0.1696007542915322, 'subsample': 0.505219967166415, 'colsample_bytree': 0.5288851400257852}. Best is trial 3 with value: 17935999120.45308.\n"
     ]
    },
    {
     "name": "stdout",
     "output_type": "stream",
     "text": [
      "mse : 21205198746.31368\n",
      "rmse : 145620.04925941234\n",
      "r2 : 0.795209932193223\n"
     ]
    },
    {
     "name": "stderr",
     "output_type": "stream",
     "text": [
      "[I 2023-06-13 13:50:35,048] Trial 7 finished with value: 26168366765.512894 and parameters: {'n_estimators': 2176, 'learning_rate': 0.5815542886737198, 'max_depth': 4, 'min_child_weight': 2, 'gamma': 0.3944841352730184, 'subsample': 0.554501764460535, 'colsample_bytree': 0.6451090977542075}. Best is trial 3 with value: 17935999120.45308.\n"
     ]
    },
    {
     "name": "stdout",
     "output_type": "stream",
     "text": [
      "mse : 26168366765.512894\n",
      "rmse : 161766.39566211795\n",
      "r2 : 0.747277935547121\n"
     ]
    },
    {
     "name": "stderr",
     "output_type": "stream",
     "text": [
      "[I 2023-06-13 13:50:50,510] Trial 8 finished with value: 55793133148.9458 and parameters: {'n_estimators': 1496, 'learning_rate': 0.9849856299842252, 'max_depth': 10, 'min_child_weight': 3, 'gamma': 0.04405517759389049, 'subsample': 0.6374775584552137, 'colsample_bytree': 0.5261365406882901}. Best is trial 3 with value: 17935999120.45308.\n"
     ]
    },
    {
     "name": "stdout",
     "output_type": "stream",
     "text": [
      "mse : 55793133148.9458\n",
      "rmse : 236205.7009238892\n",
      "r2 : 0.4611755514570959\n"
     ]
    },
    {
     "name": "stderr",
     "output_type": "stream",
     "text": [
      "[I 2023-06-13 13:51:37,429] Trial 9 finished with value: 27838995415.84257 and parameters: {'n_estimators': 3890, 'learning_rate': 0.40652888375024687, 'max_depth': 10, 'min_child_weight': 5, 'gamma': 0.18003725681200744, 'subsample': 0.6965364556107114, 'colsample_bytree': 0.7920645568902964}. Best is trial 3 with value: 17935999120.45308.\n"
     ]
    },
    {
     "name": "stdout",
     "output_type": "stream",
     "text": [
      "mse : 27838995415.84257\n",
      "rmse : 166850.21850702676\n",
      "r2 : 0.7311437715303637\n"
     ]
    },
    {
     "name": "stderr",
     "output_type": "stream",
     "text": [
      "[I 2023-06-13 13:51:39,021] Trial 10 finished with value: 25176976131.71534 and parameters: {'n_estimators': 615, 'learning_rate': 0.06890077472659581, 'max_depth': 1, 'min_child_weight': 5, 'gamma': 0.28092990382292593, 'subsample': 0.7702717824377073, 'colsample_bytree': 0.5167357162237723}. Best is trial 3 with value: 17935999120.45308.\n"
     ]
    },
    {
     "name": "stdout",
     "output_type": "stream",
     "text": [
      "mse : 25176976131.71534\n",
      "rmse : 158672.5437235924\n",
      "r2 : 0.7568523308426943\n"
     ]
    },
    {
     "name": "stderr",
     "output_type": "stream",
     "text": [
      "[I 2023-06-13 13:52:01,879] Trial 11 finished with value: 19112523895.45241 and parameters: {'n_estimators': 2819, 'learning_rate': 0.03754284577493425, 'max_depth': 8, 'min_child_weight': 7, 'gamma': 0.22284731536815772, 'subsample': 0.5197623551476874, 'colsample_bytree': 0.5272951782140435}. Best is trial 3 with value: 17935999120.45308.\n"
     ]
    },
    {
     "name": "stdout",
     "output_type": "stream",
     "text": [
      "mse : 19112523895.45241\n",
      "rmse : 138248.05204939566\n",
      "r2 : 0.8154200245263551\n"
     ]
    },
    {
     "name": "stderr",
     "output_type": "stream",
     "text": [
      "[I 2023-06-13 13:52:20,987] Trial 12 finished with value: 17889001545.051765 and parameters: {'n_estimators': 2490, 'learning_rate': 0.0213636060220219, 'max_depth': 8, 'min_child_weight': 7, 'gamma': 0.2698409021329601, 'subsample': 0.5936117785158219, 'colsample_bytree': 0.5010355591777618}. Best is trial 12 with value: 17889001545.051765.\n"
     ]
    },
    {
     "name": "stdout",
     "output_type": "stream",
     "text": [
      "mse : 17889001545.051765\n",
      "rmse : 133749.77213084052\n",
      "r2 : 0.8272362412993864\n"
     ]
    },
    {
     "name": "stderr",
     "output_type": "stream",
     "text": [
      "[I 2023-06-13 13:52:29,887] Trial 13 finished with value: 17051440753.981348 and parameters: {'n_estimators': 1043, 'learning_rate': 0.01601891675528705, 'max_depth': 8, 'min_child_weight': 4, 'gamma': 0.3125871090571217, 'subsample': 0.6034350861315876, 'colsample_bytree': 0.6000018173971925}. Best is trial 13 with value: 17051440753.981348.\n"
     ]
    },
    {
     "name": "stdout",
     "output_type": "stream",
     "text": [
      "mse : 17051440753.981348\n",
      "rmse : 130581.16538759082\n",
      "r2 : 0.8353250186434529\n"
     ]
    },
    {
     "name": "stderr",
     "output_type": "stream",
     "text": [
      "[I 2023-06-13 13:52:32,624] Trial 14 finished with value: 19803379617.211872 and parameters: {'n_estimators': 285, 'learning_rate': 0.2153976887728624, 'max_depth': 8, 'min_child_weight': 4, 'gamma': 0.3420295314279088, 'subsample': 0.617133260304797, 'colsample_bytree': 0.5990189166620048}. Best is trial 13 with value: 17051440753.981348.\n"
     ]
    },
    {
     "name": "stdout",
     "output_type": "stream",
     "text": [
      "mse : 19803379617.211872\n",
      "rmse : 140724.4812291446\n",
      "r2 : 0.8087480573452687\n"
     ]
    },
    {
     "name": "stderr",
     "output_type": "stream",
     "text": [
      "[I 2023-06-13 13:52:36,469] Trial 15 finished with value: 19854368671.569637 and parameters: {'n_estimators': 1067, 'learning_rate': 0.011288968718693096, 'max_depth': 3, 'min_child_weight': 7, 'gamma': 0.36549711495575576, 'subsample': 0.6145205484834195, 'colsample_bytree': 0.502996528705918}. Best is trial 13 with value: 17051440753.981348.\n"
     ]
    },
    {
     "name": "stdout",
     "output_type": "stream",
     "text": [
      "mse : 19854368671.569637\n",
      "rmse : 140905.53101837286\n",
      "r2 : 0.8082556284826934\n"
     ]
    },
    {
     "name": "stderr",
     "output_type": "stream",
     "text": [
      "[I 2023-06-13 13:52:45,538] Trial 16 finished with value: 22879390145.663418 and parameters: {'n_estimators': 1002, 'learning_rate': 0.2931401314414883, 'max_depth': 8, 'min_child_weight': 6, 'gamma': 0.28470164625217864, 'subsample': 0.7149863997078618, 'colsample_bytree': 0.5935357248961841}. Best is trial 13 with value: 17051440753.981348.\n"
     ]
    },
    {
     "name": "stdout",
     "output_type": "stream",
     "text": [
      "mse : 22879390145.663418\n",
      "rmse : 151259.34730013684\n",
      "r2 : 0.7790413607831598\n"
     ]
    },
    {
     "name": "stderr",
     "output_type": "stream",
     "text": [
      "[I 2023-06-13 13:53:01,080] Trial 17 finished with value: 21997090095.693962 and parameters: {'n_estimators': 1299, 'learning_rate': 0.1558350455555872, 'max_depth': 9, 'min_child_weight': 4, 'gamma': 0.41030954479544846, 'subsample': 0.5861762431628212, 'colsample_bytree': 0.6784753258719557}. Best is trial 13 with value: 17051440753.981348.\n"
     ]
    },
    {
     "name": "stdout",
     "output_type": "stream",
     "text": [
      "mse : 21997090095.693962\n",
      "rmse : 148314.16013211268\n",
      "r2 : 0.7875622093364221\n"
     ]
    },
    {
     "name": "stderr",
     "output_type": "stream",
     "text": [
      "[I 2023-06-13 13:53:15,486] Trial 18 finished with value: 21183583217.67397 and parameters: {'n_estimators': 1818, 'learning_rate': 0.11902190730998799, 'max_depth': 7, 'min_child_weight': 8, 'gamma': 0.24361804929696623, 'subsample': 0.6573701038974098, 'colsample_bytree': 0.5968827248236726}. Best is trial 13 with value: 17051440753.981348.\n"
     ]
    },
    {
     "name": "stdout",
     "output_type": "stream",
     "text": [
      "mse : 21183583217.67397\n",
      "rmse : 145545.81140546082\n",
      "r2 : 0.7954186850386343\n"
     ]
    },
    {
     "name": "stderr",
     "output_type": "stream",
     "text": [
      "[I 2023-06-13 13:53:40,186] Trial 19 finished with value: 27138924293.735165 and parameters: {'n_estimators': 2548, 'learning_rate': 0.3179726451389211, 'max_depth': 9, 'min_child_weight': 6, 'gamma': 0.32179819188976994, 'subsample': 0.5692496565820888, 'colsample_bytree': 0.5724667697661292}. Best is trial 13 with value: 17051440753.981348.\n"
     ]
    },
    {
     "name": "stdout",
     "output_type": "stream",
     "text": [
      "mse : 27138924293.735165\n",
      "rmse : 164738.95803280766\n",
      "r2 : 0.7379047368144485\n"
     ]
    },
    {
     "name": "stderr",
     "output_type": "stream",
     "text": [
      "[I 2023-06-13 13:53:41,554] Trial 20 finished with value: 17503852230.73447 and parameters: {'n_estimators': 157, 'learning_rate': 0.11336748014334525, 'max_depth': 7, 'min_child_weight': 4, 'gamma': 0.39632948602747764, 'subsample': 0.7647223452127471, 'colsample_bytree': 0.6337367765278823}. Best is trial 13 with value: 17051440753.981348.\n"
     ]
    },
    {
     "name": "stdout",
     "output_type": "stream",
     "text": [
      "mse : 17503852230.73447\n",
      "rmse : 132302.12481564484\n",
      "r2 : 0.8309558364391625\n"
     ]
    },
    {
     "name": "stderr",
     "output_type": "stream",
     "text": [
      "[I 2023-06-13 13:53:42,459] Trial 21 finished with value: 17333814407.742897 and parameters: {'n_estimators': 100, 'learning_rate': 0.1356636574353647, 'max_depth': 7, 'min_child_weight': 4, 'gamma': 0.4200683365690245, 'subsample': 0.786936945655188, 'colsample_bytree': 0.6311573352149574}. Best is trial 13 with value: 17051440753.981348.\n"
     ]
    },
    {
     "name": "stdout",
     "output_type": "stream",
     "text": [
      "mse : 17333814407.742897\n",
      "rmse : 131657.94471942398\n",
      "r2 : 0.8325979836181043\n"
     ]
    },
    {
     "name": "stderr",
     "output_type": "stream",
     "text": [
      "[I 2023-06-13 13:53:43,619] Trial 22 finished with value: 17524201620.105534 and parameters: {'n_estimators': 127, 'learning_rate': 0.14925463177333545, 'max_depth': 7, 'min_child_weight': 4, 'gamma': 0.42884629911047273, 'subsample': 0.784230471519856, 'colsample_bytree': 0.7004549830403278}. Best is trial 13 with value: 17051440753.981348.\n"
     ]
    },
    {
     "name": "stdout",
     "output_type": "stream",
     "text": [
      "mse : 17524201620.105534\n",
      "rmse : 132379.00747514892\n",
      "r2 : 0.8307593113851424\n"
     ]
    },
    {
     "name": "stderr",
     "output_type": "stream",
     "text": [
      "[I 2023-06-13 13:53:47,446] Trial 23 finished with value: 18179157114.38832 and parameters: {'n_estimators': 500, 'learning_rate': 0.10701983139083737, 'max_depth': 7, 'min_child_weight': 1, 'gamma': 0.4978080910424979, 'subsample': 0.8194748162019179, 'colsample_bytree': 0.6409440117894766}. Best is trial 13 with value: 17051440753.981348.\n"
     ]
    },
    {
     "name": "stdout",
     "output_type": "stream",
     "text": [
      "mse : 18179157114.38832\n",
      "rmse : 134830.10462944958\n",
      "r2 : 0.8244340521084327\n"
     ]
    },
    {
     "name": "stderr",
     "output_type": "stream",
     "text": [
      "[I 2023-06-13 13:53:49,955] Trial 24 finished with value: 18752650511.01642 and parameters: {'n_estimators': 530, 'learning_rate': 0.21780683899913147, 'max_depth': 4, 'min_child_weight': 3, 'gamma': 0.37892266412913683, 'subsample': 0.7316891200398218, 'colsample_bytree': 0.632775950279256}. Best is trial 13 with value: 17051440753.981348.\n"
     ]
    },
    {
     "name": "stdout",
     "output_type": "stream",
     "text": [
      "mse : 18752650511.01642\n",
      "rmse : 136940.31733210062\n",
      "r2 : 0.8188955163471197\n"
     ]
    },
    {
     "name": "stderr",
     "output_type": "stream",
     "text": [
      "[I 2023-06-13 13:53:57,590] Trial 25 finished with value: 18968778062.381775 and parameters: {'n_estimators': 969, 'learning_rate': 0.09304575240152806, 'max_depth': 7, 'min_child_weight': 3, 'gamma': 0.43853882745496137, 'subsample': 0.6627298069711026, 'colsample_bytree': 0.6971900544117492}. Best is trial 13 with value: 17051440753.981348.\n"
     ]
    },
    {
     "name": "stdout",
     "output_type": "stream",
     "text": [
      "mse : 18968778062.381775\n",
      "rmse : 137727.18708512772\n",
      "r2 : 0.8168082557452016\n"
     ]
    },
    {
     "name": "stderr",
     "output_type": "stream",
     "text": [
      "[I 2023-06-13 13:54:05,856] Trial 26 finished with value: 20857435464.631073 and parameters: {'n_estimators': 758, 'learning_rate': 0.1838552848510161, 'max_depth': 9, 'min_child_weight': 5, 'gamma': 0.4102286547956344, 'subsample': 0.6983762581905465, 'colsample_bytree': 0.746640983801645}. Best is trial 13 with value: 17051440753.981348.\n"
     ]
    },
    {
     "name": "stdout",
     "output_type": "stream",
     "text": [
      "mse : 20857435464.631073\n",
      "rmse : 144421.03539523276\n",
      "r2 : 0.7985684702049862\n"
     ]
    },
    {
     "name": "stderr",
     "output_type": "stream",
     "text": [
      "[I 2023-06-13 13:54:06,634] Trial 27 finished with value: 17970433019.970116 and parameters: {'n_estimators': 107, 'learning_rate': 0.09210536705299169, 'max_depth': 5, 'min_child_weight': 4, 'gamma': 0.36139354779732363, 'subsample': 0.7453782624968248, 'colsample_bytree': 0.629527766293366}. Best is trial 13 with value: 17051440753.981348.\n"
     ]
    },
    {
     "name": "stdout",
     "output_type": "stream",
     "text": [
      "mse : 17970433019.970116\n",
      "rmse : 134053.84373441187\n",
      "r2 : 0.8264498135243091\n"
     ]
    },
    {
     "name": "stderr",
     "output_type": "stream",
     "text": [
      "[I 2023-06-13 13:54:07,571] Trial 28 finished with value: 22900926572.24379 and parameters: {'n_estimators': 346, 'learning_rate': 0.24157177363801394, 'max_depth': 1, 'min_child_weight': 1, 'gamma': 0.4550943764485334, 'subsample': 0.8046452168799257, 'colsample_bytree': 0.5615577573907766}. Best is trial 13 with value: 17051440753.981348.\n"
     ]
    },
    {
     "name": "stdout",
     "output_type": "stream",
     "text": [
      "mse : 22900926572.24379\n",
      "rmse : 151330.52095411485\n",
      "r2 : 0.778833371869098\n"
     ]
    },
    {
     "name": "stderr",
     "output_type": "stream",
     "text": [
      "[I 2023-06-13 13:54:12,500] Trial 29 finished with value: 17945870970.205914 and parameters: {'n_estimators': 782, 'learning_rate': 0.07724490755593372, 'max_depth': 6, 'min_child_weight': 3, 'gamma': 0.4634664761175031, 'subsample': 0.8610877811925274, 'colsample_bytree': 0.667448176012272}. Best is trial 13 with value: 17051440753.981348.\n"
     ]
    },
    {
     "name": "stdout",
     "output_type": "stream",
     "text": [
      "mse : 17945870970.205914\n",
      "rmse : 133962.19978115437\n",
      "r2 : 0.8266870225171067\n"
     ]
    },
    {
     "name": "stderr",
     "output_type": "stream",
     "text": [
      "[I 2023-06-13 13:54:18,201] Trial 30 finished with value: 19956233543.361446 and parameters: {'n_estimators': 1232, 'learning_rate': 0.32660410062040207, 'max_depth': 4, 'min_child_weight': 5, 'gamma': 0.4004584180055786, 'subsample': 0.7477682326790639, 'colsample_bytree': 0.6639782109639168}. Best is trial 13 with value: 17051440753.981348.\n"
     ]
    },
    {
     "name": "stdout",
     "output_type": "stream",
     "text": [
      "mse : 19956233543.361446\n",
      "rmse : 141266.5336991088\n",
      "r2 : 0.8072718643477309\n"
     ]
    },
    {
     "name": "stderr",
     "output_type": "stream",
     "text": [
      "[I 2023-06-13 13:54:19,693] Trial 31 finished with value: 17901688049.766006 and parameters: {'n_estimators': 152, 'learning_rate': 0.16477141771539763, 'max_depth': 7, 'min_child_weight': 4, 'gamma': 0.4348056291985931, 'subsample': 0.7780924934313243, 'colsample_bytree': 0.6960436577265404}. Best is trial 13 with value: 17051440753.981348.\n"
     ]
    },
    {
     "name": "stdout",
     "output_type": "stream",
     "text": [
      "mse : 17901688049.766006\n",
      "rmse : 133797.18999203984\n",
      "r2 : 0.8271137208650466\n"
     ]
    },
    {
     "name": "stderr",
     "output_type": "stream",
     "text": [
      "[I 2023-06-13 13:54:22,892] Trial 32 finished with value: 18286603479.179737 and parameters: {'n_estimators': 369, 'learning_rate': 0.13456446577954206, 'max_depth': 8, 'min_child_weight': 4, 'gamma': 0.3240894656309847, 'subsample': 0.8028577311134428, 'colsample_bytree': 0.6220618025562671}. Best is trial 13 with value: 17051440753.981348.\n"
     ]
    },
    {
     "name": "stdout",
     "output_type": "stream",
     "text": [
      "mse : 18286603479.179737\n",
      "rmse : 135227.9685537712\n",
      "r2 : 0.8233963844782224\n"
     ]
    },
    {
     "name": "stderr",
     "output_type": "stream",
     "text": [
      "[I 2023-06-13 13:54:27,390] Trial 33 finished with value: 19148860944.432125 and parameters: {'n_estimators': 692, 'learning_rate': 0.17984211248581644, 'max_depth': 6, 'min_child_weight': 6, 'gamma': 0.43652660862412157, 'subsample': 0.7730838300646176, 'colsample_bytree': 0.7090179719633652}. Best is trial 13 with value: 17051440753.981348.\n"
     ]
    },
    {
     "name": "stdout",
     "output_type": "stream",
     "text": [
      "mse : 19148860944.432125\n",
      "rmse : 138379.40939472217\n",
      "r2 : 0.8150690980005781\n"
     ]
    },
    {
     "name": "stderr",
     "output_type": "stream",
     "text": [
      "[I 2023-06-13 13:54:28,343] Trial 34 finished with value: 17125446021.059393 and parameters: {'n_estimators': 107, 'learning_rate': 0.06964414397576607, 'max_depth': 7, 'min_child_weight': 3, 'gamma': 0.3563890595022503, 'subsample': 0.8370449834881517, 'colsample_bytree': 0.6656622021458574}. Best is trial 13 with value: 17051440753.981348.\n"
     ]
    },
    {
     "name": "stdout",
     "output_type": "stream",
     "text": [
      "mse : 17125446021.059393\n",
      "rmse : 130864.22743079712\n",
      "r2 : 0.8346103097720915\n"
     ]
    },
    {
     "name": "stderr",
     "output_type": "stream",
     "text": [
      "[I 2023-06-13 13:54:31,205] Trial 35 finished with value: 17244621798.194096 and parameters: {'n_estimators': 393, 'learning_rate': 0.05883852835800321, 'max_depth': 7, 'min_child_weight': 3, 'gamma': 0.3585671539586044, 'subsample': 0.8338389322630569, 'colsample_bytree': 0.6612949346600308}. Best is trial 13 with value: 17051440753.981348.\n"
     ]
    },
    {
     "name": "stdout",
     "output_type": "stream",
     "text": [
      "mse : 17244621798.194096\n",
      "rmse : 131318.77930514773\n",
      "r2 : 0.833459364865971\n"
     ]
    },
    {
     "name": "stderr",
     "output_type": "stream",
     "text": [
      "[I 2023-06-13 13:54:35,105] Trial 36 finished with value: 16891835600.091528 and parameters: {'n_estimators': 446, 'learning_rate': 0.014870026607747014, 'max_depth': 8, 'min_child_weight': 2, 'gamma': 0.3091275254958878, 'subsample': 0.8464240852550237, 'colsample_bytree': 0.6711314045171097}. Best is trial 36 with value: 16891835600.091528.\n"
     ]
    },
    {
     "name": "stdout",
     "output_type": "stream",
     "text": [
      "mse : 16891835600.091528\n",
      "rmse : 129968.59466844876\n",
      "r2 : 0.8368664118969865\n"
     ]
    },
    {
     "name": "stderr",
     "output_type": "stream",
     "text": [
      "[I 2023-06-13 13:54:43,556] Trial 37 finished with value: 16654518340.988396 and parameters: {'n_estimators': 859, 'learning_rate': 0.011575398836499266, 'max_depth': 9, 'min_child_weight': 2, 'gamma': 0.32185550012458364, 'subsample': 0.8412042080266674, 'colsample_bytree': 0.7344577650103008}. Best is trial 37 with value: 16654518340.988396.\n"
     ]
    },
    {
     "name": "stdout",
     "output_type": "stream",
     "text": [
      "mse : 16654518340.988396\n",
      "rmse : 129052.38603368941\n",
      "r2 : 0.8391583129616675\n"
     ]
    },
    {
     "name": "stderr",
     "output_type": "stream",
     "text": [
      "[I 2023-06-13 13:55:00,273] Trial 38 finished with value: 17647968761.959885 and parameters: {'n_estimators': 1683, 'learning_rate': 0.020780166802074746, 'max_depth': 9, 'min_child_weight': 2, 'gamma': 0.3136180615579015, 'subsample': 0.8977084202403979, 'colsample_bytree': 0.7386359122508637}. Best is trial 37 with value: 16654518340.988396.\n"
     ]
    },
    {
     "name": "stdout",
     "output_type": "stream",
     "text": [
      "mse : 17647968761.959885\n",
      "rmse : 132845.6576706965\n",
      "r2 : 0.8295640251878361\n"
     ]
    },
    {
     "name": "stderr",
     "output_type": "stream",
     "text": [
      "[I 2023-06-13 13:55:16,374] Trial 39 finished with value: 18819042648.866566 and parameters: {'n_estimators': 1307, 'learning_rate': 0.044529344864524686, 'max_depth': 10, 'min_child_weight': 1, 'gamma': 0.2985962113095759, 'subsample': 0.8608746333099495, 'colsample_bytree': 0.7664765338117028}. Best is trial 37 with value: 16654518340.988396.\n"
     ]
    },
    {
     "name": "stdout",
     "output_type": "stream",
     "text": [
      "mse : 18819042648.866566\n",
      "rmse : 137182.51582788007\n",
      "r2 : 0.8182543315803638\n"
     ]
    },
    {
     "name": "stderr",
     "output_type": "stream",
     "text": [
      "[I 2023-06-13 13:55:26,430] Trial 40 finished with value: 16820384908.213636 and parameters: {'n_estimators': 849, 'learning_rate': 0.017145477363198044, 'max_depth': 10, 'min_child_weight': 2, 'gamma': 0.343328360699176, 'subsample': 0.8913581385659715, 'colsample_bytree': 0.8072408904370467}. Best is trial 37 with value: 16654518340.988396.\n"
     ]
    },
    {
     "name": "stdout",
     "output_type": "stream",
     "text": [
      "mse : 16820384908.213636\n",
      "rmse : 129693.42661913762\n",
      "r2 : 0.8375564498546386\n"
     ]
    },
    {
     "name": "stderr",
     "output_type": "stream",
     "text": [
      "[I 2023-06-13 13:55:36,972] Trial 41 finished with value: 18834781760.8452 and parameters: {'n_estimators': 866, 'learning_rate': 0.06630674085671984, 'max_depth': 10, 'min_child_weight': 2, 'gamma': 0.33716951255140637, 'subsample': 0.8955423009313905, 'colsample_bytree': 0.814276828987552}. Best is trial 37 with value: 16654518340.988396.\n"
     ]
    },
    {
     "name": "stdout",
     "output_type": "stream",
     "text": [
      "mse : 18834781760.8452\n",
      "rmse : 137239.86942884052\n",
      "r2 : 0.8181023304674346\n"
     ]
    },
    {
     "name": "stderr",
     "output_type": "stream",
     "text": [
      "[I 2023-06-13 13:55:48,073] Trial 42 finished with value: 16723397063.645575 and parameters: {'n_estimators': 1120, 'learning_rate': 0.010550905473144849, 'max_depth': 9, 'min_child_weight': 2, 'gamma': 0.31015221326249476, 'subsample': 0.8334890954127203, 'colsample_bytree': 0.7319867007691143}. Best is trial 37 with value: 16654518340.988396.\n"
     ]
    },
    {
     "name": "stdout",
     "output_type": "stream",
     "text": [
      "mse : 16723397063.645575\n",
      "rmse : 129318.97410529351\n",
      "r2 : 0.8384931139011843\n"
     ]
    },
    {
     "name": "stderr",
     "output_type": "stream",
     "text": [
      "[I 2023-06-13 13:55:59,584] Trial 43 finished with value: 17342790448.03348 and parameters: {'n_estimators': 1150, 'learning_rate': 0.022822694769117465, 'max_depth': 9, 'min_child_weight': 2, 'gamma': 0.30286624972195575, 'subsample': 0.9242555679672639, 'colsample_bytree': 0.8326113468794519}. Best is trial 37 with value: 16654518340.988396.\n"
     ]
    },
    {
     "name": "stdout",
     "output_type": "stream",
     "text": [
      "mse : 17342790448.03348\n",
      "rmse : 131692.02879458378\n",
      "r2 : 0.8325112971445778\n"
     ]
    },
    {
     "name": "stderr",
     "output_type": "stream",
     "text": [
      "[I 2023-06-13 13:56:16,817] Trial 44 finished with value: 19446245494.947548 and parameters: {'n_estimators': 1461, 'learning_rate': 0.07036584174204132, 'max_depth': 10, 'min_child_weight': 1, 'gamma': 0.2537837447173361, 'subsample': 0.879239108977671, 'colsample_bytree': 0.7272438141588844}. Best is trial 37 with value: 16654518340.988396.\n"
     ]
    },
    {
     "name": "stdout",
     "output_type": "stream",
     "text": [
      "mse : 19446245494.947548\n",
      "rmse : 139449.79560740685\n",
      "r2 : 0.8121970946303985\n"
     ]
    },
    {
     "name": "stderr",
     "output_type": "stream",
     "text": [
      "[I 2023-06-13 13:56:39,858] Trial 45 finished with value: 18424762121.29337 and parameters: {'n_estimators': 1905, 'learning_rate': 0.022854668205750994, 'max_depth': 10, 'min_child_weight': 2, 'gamma': 0.30251135927509765, 'subsample': 0.8354328016164752, 'colsample_bytree': 0.7722486270634272}. Best is trial 37 with value: 16654518340.988396.\n"
     ]
    },
    {
     "name": "stdout",
     "output_type": "stream",
     "text": [
      "mse : 18424762121.29337\n",
      "rmse : 135737.8433646762\n",
      "r2 : 0.8220621117828786\n"
     ]
    },
    {
     "name": "stderr",
     "output_type": "stream",
     "text": [
      "[I 2023-06-13 13:56:52,304] Trial 46 finished with value: 16907765455.411966 and parameters: {'n_estimators': 1516, 'learning_rate': 0.011032181990847987, 'max_depth': 8, 'min_child_weight': 1, 'gamma': 0.33640021051045055, 'subsample': 0.9221039553568295, 'colsample_bytree': 0.7262868894962907}. Best is trial 37 with value: 16654518340.988396.\n"
     ]
    },
    {
     "name": "stdout",
     "output_type": "stream",
     "text": [
      "mse : 16907765455.411966\n",
      "rmse : 130029.86370604241\n",
      "r2 : 0.8367125686724899\n"
     ]
    },
    {
     "name": "stderr",
     "output_type": "stream",
     "text": [
      "[I 2023-06-13 13:57:07,345] Trial 47 finished with value: 19677502096.75067 and parameters: {'n_estimators': 1486, 'learning_rate': 0.10613919988587511, 'max_depth': 9, 'min_child_weight': 1, 'gamma': 0.3387338646083512, 'subsample': 0.94968222306044, 'colsample_bytree': 0.7552067845579058}. Best is trial 37 with value: 16654518340.988396.\n"
     ]
    },
    {
     "name": "stdout",
     "output_type": "stream",
     "text": [
      "mse : 19677502096.75067\n",
      "rmse : 140276.52011919412\n",
      "r2 : 0.8099637246096502\n"
     ]
    },
    {
     "name": "stderr",
     "output_type": "stream",
     "text": [
      "[I 2023-06-13 13:57:15,149] Trial 48 finished with value: 20631704852.555008 and parameters: {'n_estimators': 872, 'learning_rate': 0.23374041259001604, 'max_depth': 8, 'min_child_weight': 2, 'gamma': 0.2716699003573358, 'subsample': 0.9179707147099688, 'colsample_bytree': 0.7779582530391769}. Best is trial 37 with value: 16654518340.988396.\n"
     ]
    },
    {
     "name": "stdout",
     "output_type": "stream",
     "text": [
      "mse : 20631704852.555008\n",
      "rmse : 143637.40756695313\n",
      "r2 : 0.8007484727555947\n"
     ]
    },
    {
     "name": "stderr",
     "output_type": "stream",
     "text": [
      "[I 2023-06-13 13:57:49,925] Trial 49 finished with value: 19629998392.159878 and parameters: {'n_estimators': 3410, 'learning_rate': 0.052140198944663124, 'max_depth': 9, 'min_child_weight': 1, 'gamma': 0.3757935616322789, 'subsample': 0.8588665290460951, 'colsample_bytree': 0.7262996291842301}. Best is trial 37 with value: 16654518340.988396.\n"
     ]
    },
    {
     "name": "stdout",
     "output_type": "stream",
     "text": [
      "mse : 19629998392.159878\n",
      "rmse : 140107.09615205033\n",
      "r2 : 0.8104224935653486\n"
     ]
    },
    {
     "name": "stderr",
     "output_type": "stream",
     "text": [
      "[I 2023-06-13 13:58:08,046] Trial 50 finished with value: 20012185933.770477 and parameters: {'n_estimators': 1589, 'learning_rate': 0.17302732256436718, 'max_depth': 10, 'min_child_weight': 2, 'gamma': 0.34292998653602846, 'subsample': 0.9750820878119719, 'colsample_bytree': 0.8069659275654443}. Best is trial 37 with value: 16654518340.988396.\n"
     ]
    },
    {
     "name": "stdout",
     "output_type": "stream",
     "text": [
      "mse : 20012185933.770477\n",
      "rmse : 141464.4334586276\n",
      "r2 : 0.8067315018657331\n"
     ]
    },
    {
     "name": "stderr",
     "output_type": "stream",
     "text": [
      "[I 2023-06-13 13:58:17,254] Trial 51 finished with value: 16801479221.91833 and parameters: {'n_estimators': 1069, 'learning_rate': 0.011652401341155893, 'max_depth': 8, 'min_child_weight': 3, 'gamma': 0.2889812308334238, 'subsample': 0.879587829611221, 'colsample_bytree': 0.7180044585262614}. Best is trial 37 with value: 16654518340.988396.\n"
     ]
    },
    {
     "name": "stdout",
     "output_type": "stream",
     "text": [
      "mse : 16801479221.91833\n",
      "rmse : 129620.52006498944\n",
      "r2 : 0.8377390322875915\n"
     ]
    },
    {
     "name": "stderr",
     "output_type": "stream",
     "text": [
      "[I 2023-06-13 13:58:28,967] Trial 52 finished with value: 16856782819.233395 and parameters: {'n_estimators': 1375, 'learning_rate': 0.013792693606290648, 'max_depth': 8, 'min_child_weight': 2, 'gamma': 0.29131716695994375, 'subsample': 0.8774972370085208, 'colsample_bytree': 0.7452205063137379}. Best is trial 37 with value: 16654518340.988396.\n"
     ]
    },
    {
     "name": "stdout",
     "output_type": "stream",
     "text": [
      "mse : 16856782819.233395\n",
      "rmse : 129833.67367225421\n",
      "r2 : 0.837204935551239\n"
     ]
    },
    {
     "name": "stderr",
     "output_type": "stream",
     "text": [
      "[I 2023-06-13 13:58:35,301] Trial 53 finished with value: 17688173645.57413 and parameters: {'n_estimators': 610, 'learning_rate': 0.052698780151490404, 'max_depth': 9, 'min_child_weight': 3, 'gamma': 0.22658074233174844, 'subsample': 0.8846509990178978, 'colsample_bytree': 0.7557854297487484}. Best is trial 37 with value: 16654518340.988396.\n"
     ]
    },
    {
     "name": "stdout",
     "output_type": "stream",
     "text": [
      "mse : 17688173645.57413\n",
      "rmse : 132996.89336813145\n",
      "r2 : 0.8291757448920452\n"
     ]
    },
    {
     "name": "stderr",
     "output_type": "stream",
     "text": [
      "[I 2023-06-13 13:58:46,144] Trial 54 finished with value: 20020143445.882336 and parameters: {'n_estimators': 1201, 'learning_rate': 0.12354831367438077, 'max_depth': 8, 'min_child_weight': 2, 'gamma': 0.2884976415330874, 'subsample': 0.8700904351231001, 'colsample_bytree': 0.7908571302453848}. Best is trial 37 with value: 16654518340.988396.\n"
     ]
    },
    {
     "name": "stdout",
     "output_type": "stream",
     "text": [
      "mse : 20020143445.882336\n",
      "rmse : 141492.55615007575\n",
      "r2 : 0.8066546518694441\n"
     ]
    },
    {
     "name": "stderr",
     "output_type": "stream",
     "text": [
      "[I 2023-06-13 13:58:50,031] Trial 55 finished with value: 21772509149.916286 and parameters: {'n_estimators': 1354, 'learning_rate': 0.011644908882464784, 'max_depth': 2, 'min_child_weight': 10, 'gamma': 0.2737329750692734, 'subsample': 0.8407810452668639, 'colsample_bytree': 0.7101475564164641}. Best is trial 37 with value: 16654518340.988396.\n"
     ]
    },
    {
     "name": "stdout",
     "output_type": "stream",
     "text": [
      "mse : 21772509149.916286\n",
      "rmse : 147555.10546882573\n",
      "r2 : 0.7897311089380783\n"
     ]
    },
    {
     "name": "stderr",
     "output_type": "stream",
     "text": [
      "[I 2023-06-13 13:59:00,213] Trial 56 finished with value: 19667018647.2939 and parameters: {'n_estimators': 961, 'learning_rate': 0.0910025952631179, 'max_depth': 9, 'min_child_weight': 2, 'gamma': 0.31841747424150907, 'subsample': 0.8503689118997886, 'colsample_bytree': 0.7390088967126753}. Best is trial 37 with value: 16654518340.988396.\n"
     ]
    },
    {
     "name": "stdout",
     "output_type": "stream",
     "text": [
      "mse : 19667018647.2939\n",
      "rmse : 140239.14805536254\n",
      "r2 : 0.8100649689483987\n"
     ]
    },
    {
     "name": "stderr",
     "output_type": "stream",
     "text": [
      "[I 2023-06-13 13:59:14,422] Trial 57 finished with value: 19005703083.245026 and parameters: {'n_estimators': 1071, 'learning_rate': 0.05154639778248228, 'max_depth': 10, 'min_child_weight': 2, 'gamma': 0.25751814460667, 'subsample': 0.8144738872670807, 'colsample_bytree': 0.8536010032792214}. Best is trial 37 with value: 16654518340.988396.\n"
     ]
    },
    {
     "name": "stdout",
     "output_type": "stream",
     "text": [
      "mse : 19005703083.245026\n",
      "rmse : 137861.17322598494\n",
      "r2 : 0.8164516508570882\n"
     ]
    },
    {
     "name": "stderr",
     "output_type": "stream",
     "text": [
      "[I 2023-06-13 13:59:18,787] Trial 58 finished with value: 19109316305.300724 and parameters: {'n_estimators': 514, 'learning_rate': 0.135114342067246, 'max_depth': 8, 'min_child_weight': 3, 'gamma': 0.29110057918274446, 'subsample': 0.8780987736587549, 'colsample_bytree': 0.6755873997517805}. Best is trial 37 with value: 16654518340.988396.\n"
     ]
    },
    {
     "name": "stdout",
     "output_type": "stream",
     "text": [
      "mse : 19109316305.300724\n",
      "rmse : 138236.45071145572\n",
      "r2 : 0.8154510019584706\n"
     ]
    },
    {
     "name": "stderr",
     "output_type": "stream",
     "text": [
      "[I 2023-06-13 13:59:37,492] Trial 59 finished with value: 20331723470.620506 and parameters: {'n_estimators': 1764, 'learning_rate': 0.0893731647858815, 'max_depth': 9, 'min_child_weight': 3, 'gamma': 0.30739602534331595, 'subsample': 0.8253761424218056, 'colsample_bytree': 0.6875833581528787}. Best is trial 37 with value: 16654518340.988396.\n"
     ]
    },
    {
     "name": "stdout",
     "output_type": "stream",
     "text": [
      "mse : 20331723470.620506\n",
      "rmse : 142589.35258503878\n",
      "r2 : 0.8036455551306333\n"
     ]
    },
    {
     "name": "stderr",
     "output_type": "stream",
     "text": [
      "[I 2023-06-13 13:59:55,309] Trial 60 finished with value: 21394493626.7362 and parameters: {'n_estimators': 1987, 'learning_rate': 0.20596161216137723, 'max_depth': 8, 'min_child_weight': 1, 'gamma': 0.23494253389161812, 'subsample': 0.850426836020965, 'colsample_bytree': 0.7621542388775358}. Best is trial 37 with value: 16654518340.988396.\n"
     ]
    },
    {
     "name": "stdout",
     "output_type": "stream",
     "text": [
      "mse : 21394493626.7362\n",
      "rmse : 146268.56677610608\n",
      "r2 : 0.7933818092003204\n"
     ]
    },
    {
     "name": "stderr",
     "output_type": "stream",
     "text": [
      "[I 2023-06-13 14:00:07,124] Trial 61 finished with value: 17046460060.111362 and parameters: {'n_estimators': 1417, 'learning_rate': 0.013824017201377783, 'max_depth': 8, 'min_child_weight': 1, 'gamma': 0.33160622844819276, 'subsample': 0.9124534459984921, 'colsample_bytree': 0.7166731089355732}. Best is trial 37 with value: 16654518340.988396.\n"
     ]
    },
    {
     "name": "stdout",
     "output_type": "stream",
     "text": [
      "mse : 17046460060.111362\n",
      "rmse : 130562.09273794352\n",
      "r2 : 0.8353731198967145\n"
     ]
    },
    {
     "name": "stderr",
     "output_type": "stream",
     "text": [
      "[I 2023-06-13 14:00:29,116] Trial 62 finished with value: 19008407595.87418 and parameters: {'n_estimators': 2171, 'learning_rate': 0.04039753434886767, 'max_depth': 9, 'min_child_weight': 1, 'gamma': 0.28335084851274694, 'subsample': 0.8974771386039831, 'colsample_bytree': 0.7313368707001663}. Best is trial 37 with value: 16654518340.988396.\n"
     ]
    },
    {
     "name": "stdout",
     "output_type": "stream",
     "text": [
      "mse : 19008407595.87418\n",
      "rmse : 137870.9817034541\n",
      "r2 : 0.816425531916571\n"
     ]
    },
    {
     "name": "stderr",
     "output_type": "stream",
     "text": [
      "[I 2023-06-13 14:00:36,343] Trial 63 finished with value: 16750716082.621765 and parameters: {'n_estimators': 868, 'learning_rate': 0.012161364026781373, 'max_depth': 8, 'min_child_weight': 2, 'gamma': 0.34546000835173063, 'subsample': 0.935337802017676, 'colsample_bytree': 0.687260066051138}. Best is trial 37 with value: 16654518340.988396.\n"
     ]
    },
    {
     "name": "stdout",
     "output_type": "stream",
     "text": [
      "mse : 16750716082.621765\n",
      "rmse : 129424.55749440199\n",
      "r2 : 0.8382292793662912\n"
     ]
    },
    {
     "name": "stderr",
     "output_type": "stream",
     "text": [
      "[I 2023-06-13 14:00:40,582] Trial 64 finished with value: 18073135507.03028 and parameters: {'n_estimators': 855, 'learning_rate': 0.0959267011498304, 'max_depth': 5, 'min_child_weight': 2, 'gamma': 0.2624770481161726, 'subsample': 0.9408829014630244, 'colsample_bytree': 0.6825792995488185}. Best is trial 37 with value: 16654518340.988396.\n"
     ]
    },
    {
     "name": "stdout",
     "output_type": "stream",
     "text": [
      "mse : 18073135507.03028\n",
      "rmse : 134436.3622946942\n",
      "r2 : 0.825457960085886\n"
     ]
    },
    {
     "name": "stderr",
     "output_type": "stream",
     "text": [
      "[I 2023-06-13 14:00:47,818] Trial 65 finished with value: 20128895304.19595 and parameters: {'n_estimators': 640, 'learning_rate': 0.13138023206133687, 'max_depth': 10, 'min_child_weight': 3, 'gamma': 0.3763654360383555, 'subsample': 0.8706647082672597, 'colsample_bytree': 0.6497014519643679}. Best is trial 37 with value: 16654518340.988396.\n"
     ]
    },
    {
     "name": "stdout",
     "output_type": "stream",
     "text": [
      "mse : 20128895304.19595\n",
      "rmse : 141876.3380701516\n",
      "r2 : 0.8056043763825411\n"
     ]
    },
    {
     "name": "stderr",
     "output_type": "stream",
     "text": [
      "[I 2023-06-13 14:00:58,378] Trial 66 finished with value: 18517661891.994976 and parameters: {'n_estimators': 1047, 'learning_rate': 0.05219843452386869, 'max_depth': 9, 'min_child_weight': 2, 'gamma': 0.31948424078580967, 'subsample': 0.8866907037448403, 'colsample_bytree': 0.7115763912825539}. Best is trial 37 with value: 16654518340.988396.\n"
     ]
    },
    {
     "name": "stdout",
     "output_type": "stream",
     "text": [
      "mse : 18517661891.994976\n",
      "rmse : 136079.61600473075\n",
      "r2 : 0.8211649284756708\n"
     ]
    },
    {
     "name": "stderr",
     "output_type": "stream",
     "text": [
      "[I 2023-06-13 14:01:05,196] Trial 67 finished with value: 20257497152.283417 and parameters: {'n_estimators': 794, 'learning_rate': 0.1635466393528195, 'max_depth': 8, 'min_child_weight': 2, 'gamma': 0.3497364486392208, 'subsample': 0.9055299654937525, 'colsample_bytree': 0.6859705021887529}. Best is trial 37 with value: 16654518340.988396.\n"
     ]
    },
    {
     "name": "stdout",
     "output_type": "stream",
     "text": [
      "mse : 20257497152.283417\n",
      "rmse : 142328.83457783042\n",
      "r2 : 0.8043623988135034\n"
     ]
    },
    {
     "name": "stderr",
     "output_type": "stream",
     "text": [
      "[I 2023-06-13 14:01:13,647] Trial 68 finished with value: 19890870189.28393 and parameters: {'n_estimators': 922, 'learning_rate': 0.112426051803558, 'max_depth': 8, 'min_child_weight': 3, 'gamma': 0.29502839876576076, 'subsample': 0.8068399581173803, 'colsample_bytree': 0.7441037214919074}. Best is trial 37 with value: 16654518340.988396.\n"
     ]
    },
    {
     "name": "stdout",
     "output_type": "stream",
     "text": [
      "mse : 19890870189.28393\n",
      "rmse : 141034.99632815938\n",
      "r2 : 0.8079031135934349\n"
     ]
    },
    {
     "name": "stderr",
     "output_type": "stream",
     "text": [
      "[I 2023-06-13 14:01:20,628] Trial 69 finished with value: 18440147522.228718 and parameters: {'n_estimators': 1146, 'learning_rate': 0.08367891269451586, 'max_depth': 6, 'min_child_weight': 3, 'gamma': 0.24286489274369485, 'subsample': 0.8472799097465901, 'colsample_bytree': 0.7005423550408291}. Best is trial 37 with value: 16654518340.988396.\n"
     ]
    },
    {
     "name": "stdout",
     "output_type": "stream",
     "text": [
      "mse : 18440147522.228718\n",
      "rmse : 135794.5047571098\n",
      "r2 : 0.8219135266487104\n"
     ]
    },
    {
     "name": "stderr",
     "output_type": "stream",
     "text": [
      "[I 2023-06-13 14:01:28,183] Trial 70 finished with value: 17629624741.30306 and parameters: {'n_estimators': 719, 'learning_rate': 0.04394645014459485, 'max_depth': 9, 'min_child_weight': 2, 'gamma': 0.3865021310915019, 'subsample': 0.8238698008866202, 'colsample_bytree': 0.7518042880275}. Best is trial 37 with value: 16654518340.988396.\n"
     ]
    },
    {
     "name": "stdout",
     "output_type": "stream",
     "text": [
      "mse : 17629624741.30306\n",
      "rmse : 132776.597114488\n",
      "r2 : 0.8297411833120821\n"
     ]
    },
    {
     "name": "stderr",
     "output_type": "stream",
     "text": [
      "[I 2023-06-13 14:01:41,536] Trial 71 finished with value: 17857322356.392334 and parameters: {'n_estimators': 1569, 'learning_rate': 0.0337567590340768, 'max_depth': 8, 'min_child_weight': 1, 'gamma': 0.33351715321417424, 'subsample': 0.9268487637795049, 'colsample_bytree': 0.7189877390700609}. Best is trial 37 with value: 16654518340.988396.\n"
     ]
    },
    {
     "name": "stdout",
     "output_type": "stream",
     "text": [
      "mse : 17857322356.392334\n",
      "rmse : 133631.29257921714\n",
      "r2 : 0.8275421843500148\n"
     ]
    },
    {
     "name": "stderr",
     "output_type": "stream",
     "text": [
      "[I 2023-06-13 14:01:52,705] Trial 72 finished with value: 19085400493.802742 and parameters: {'n_estimators': 1285, 'learning_rate': 0.07208505148235958, 'max_depth': 8, 'min_child_weight': 1, 'gamma': 0.36604099459533024, 'subsample': 0.8897637664373369, 'colsample_bytree': 0.7304339288564128}. Best is trial 37 with value: 16654518340.988396.\n"
     ]
    },
    {
     "name": "stdout",
     "output_type": "stream",
     "text": [
      "mse : 19085400493.802742\n",
      "rmse : 138149.92035395006\n",
      "r2 : 0.8156819698789753\n"
     ]
    },
    {
     "name": "stderr",
     "output_type": "stream",
     "text": [
      "[I 2023-06-13 14:01:55,211] Trial 73 finished with value: 18811679790.30122 and parameters: {'n_estimators': 272, 'learning_rate': 0.011850783140873667, 'max_depth': 8, 'min_child_weight': 2, 'gamma': 0.32347206805207834, 'subsample': 0.9109129638686435, 'colsample_bytree': 0.6974544284079245}. Best is trial 37 with value: 16654518340.988396.\n"
     ]
    },
    {
     "name": "stdout",
     "output_type": "stream",
     "text": [
      "mse : 18811679790.30122\n",
      "rmse : 137155.67720769424\n",
      "r2 : 0.8183254386858847\n"
     ]
    },
    {
     "name": "stderr",
     "output_type": "stream",
     "text": [
      "[I 2023-06-13 14:01:58,711] Trial 74 finished with value: 17024357801.36596 and parameters: {'n_estimators': 471, 'learning_rate': 0.03465379719205907, 'max_depth': 7, 'min_child_weight': 8, 'gamma': 0.34785738451725834, 'subsample': 0.8714038714126169, 'colsample_bytree': 0.7413643633222246}. Best is trial 37 with value: 16654518340.988396.\n"
     ]
    },
    {
     "name": "stdout",
     "output_type": "stream",
     "text": [
      "mse : 17024357801.36596\n",
      "rmse : 130477.42257327877\n",
      "r2 : 0.8355865733578824\n"
     ]
    },
    {
     "name": "stderr",
     "output_type": "stream",
     "text": [
      "[I 2023-06-13 14:02:05,674] Trial 75 finished with value: 16706215379.654518 and parameters: {'n_estimators': 600, 'learning_rate': 0.012711946887018127, 'max_depth': 10, 'min_child_weight': 1, 'gamma': 0.3079892332288892, 'subsample': 0.9410772439724693, 'colsample_bytree': 0.7687559329589555}. Best is trial 37 with value: 16654518340.988396.\n"
     ]
    },
    {
     "name": "stdout",
     "output_type": "stream",
     "text": [
      "mse : 16706215379.654518\n",
      "rmse : 129252.52562195649\n",
      "r2 : 0.8386590467118906\n"
     ]
    },
    {
     "name": "stderr",
     "output_type": "stream",
     "text": [
      "[I 2023-06-13 14:02:14,035] Trial 76 finished with value: 19759338833.80188 and parameters: {'n_estimators': 627, 'learning_rate': 0.1505545537825216, 'max_depth': 10, 'min_child_weight': 2, 'gamma': 0.27920004662924847, 'subsample': 0.9394686566856549, 'colsample_bytree': 0.7854258202976555}. Best is trial 37 with value: 16654518340.988396.\n"
     ]
    },
    {
     "name": "stdout",
     "output_type": "stream",
     "text": [
      "mse : 19759338833.80188\n",
      "rmse : 140567.91537830344\n",
      "r2 : 0.8091733829990715\n"
     ]
    },
    {
     "name": "stderr",
     "output_type": "stream",
     "text": [
      "[I 2023-06-13 14:02:19,341] Trial 77 finished with value: 17263257147.49113 and parameters: {'n_estimators': 249, 'learning_rate': 0.0731379784883753, 'max_depth': 10, 'min_child_weight': 2, 'gamma': 0.3127505934478471, 'subsample': 0.9019694724308565, 'colsample_bytree': 0.7628010137742737}. Best is trial 37 with value: 16654518340.988396.\n"
     ]
    },
    {
     "name": "stdout",
     "output_type": "stream",
     "text": [
      "mse : 17263257147.49113\n",
      "rmse : 131389.7147705677\n",
      "r2 : 0.8332793932235546\n"
     ]
    },
    {
     "name": "stderr",
     "output_type": "stream",
     "text": [
      "[I 2023-06-13 14:02:24,766] Trial 78 finished with value: 18548808449.616207 and parameters: {'n_estimators': 455, 'learning_rate': 0.10877611661189507, 'max_depth': 9, 'min_child_weight': 1, 'gamma': 0.3039933217695508, 'subsample': 0.8615826379341561, 'colsample_bytree': 0.777362771674208}. Best is trial 37 with value: 16654518340.988396.\n"
     ]
    },
    {
     "name": "stdout",
     "output_type": "stream",
     "text": [
      "mse : 18548808449.616207\n",
      "rmse : 136194.0103294422\n",
      "r2 : 0.8208641293309182\n"
     ]
    },
    {
     "name": "stderr",
     "output_type": "stream",
     "text": [
      "[I 2023-06-13 14:02:34,604] Trial 79 finished with value: 17944835458.081215 and parameters: {'n_estimators': 1137, 'learning_rate': 0.03728353567408577, 'max_depth': 9, 'min_child_weight': 3, 'gamma': 0.2640193985705296, 'subsample': 0.9588725611375388, 'colsample_bytree': 0.6505685211582437}. Best is trial 37 with value: 16654518340.988396.\n"
     ]
    },
    {
     "name": "stdout",
     "output_type": "stream",
     "text": [
      "mse : 17944835458.081215\n",
      "rmse : 133958.33478392157\n",
      "r2 : 0.8266970230174919\n"
     ]
    },
    {
     "name": "stderr",
     "output_type": "stream",
     "text": [
      "[I 2023-06-13 14:02:43,176] Trial 80 finished with value: 16791798274.668087 and parameters: {'n_estimators': 793, 'learning_rate': 0.010006144678741877, 'max_depth': 10, 'min_child_weight': 3, 'gamma': 0.29339977497339803, 'subsample': 0.8847245009398867, 'colsample_bytree': 0.7022998160245341}. Best is trial 37 with value: 16654518340.988396.\n"
     ]
    },
    {
     "name": "stdout",
     "output_type": "stream",
     "text": [
      "mse : 16791798274.668087\n",
      "rmse : 129583.17126335537\n",
      "r2 : 0.8378325264286994\n"
     ]
    },
    {
     "name": "stderr",
     "output_type": "stream",
     "text": [
      "[I 2023-06-13 14:02:49,356] Trial 81 finished with value: 18369312408.678974 and parameters: {'n_estimators': 575, 'learning_rate': 0.0655827057562045, 'max_depth': 10, 'min_child_weight': 3, 'gamma': 0.2920622404366942, 'subsample': 0.8870294503922772, 'colsample_bytree': 0.672874713091919}. Best is trial 37 with value: 16654518340.988396.\n"
     ]
    },
    {
     "name": "stdout",
     "output_type": "stream",
     "text": [
      "mse : 18369312408.678974\n",
      "rmse : 135533.43649697286\n",
      "r2 : 0.8225976196336665\n"
     ]
    },
    {
     "name": "stderr",
     "output_type": "stream",
     "text": [
      "[I 2023-06-13 14:02:57,974] Trial 82 finished with value: 17535548428.76353 and parameters: {'n_estimators': 794, 'learning_rate': 0.03670001448787031, 'max_depth': 10, 'min_child_weight': 2, 'gamma': 0.3271034005733508, 'subsample': 0.9325669955135764, 'colsample_bytree': 0.7091838883557722}. Best is trial 37 with value: 16654518340.988396.\n"
     ]
    },
    {
     "name": "stdout",
     "output_type": "stream",
     "text": [
      "mse : 17535548428.76353\n",
      "rmse : 132421.85782099393\n",
      "r2 : 0.8306497291198562\n"
     ]
    },
    {
     "name": "stderr",
     "output_type": "stream",
     "text": [
      "[I 2023-06-13 14:03:08,634] Trial 83 finished with value: 16729791710.532715 and parameters: {'n_estimators': 983, 'learning_rate': 0.010755298981327186, 'max_depth': 10, 'min_child_weight': 3, 'gamma': 0.3126797708849295, 'subsample': 0.9065373322697384, 'colsample_bytree': 0.7492180401302908}. Best is trial 37 with value: 16654518340.988396.\n"
     ]
    },
    {
     "name": "stdout",
     "output_type": "stream",
     "text": [
      "mse : 16729791710.532715\n",
      "rmse : 129343.69606027467\n",
      "r2 : 0.8384313573392541\n"
     ]
    },
    {
     "name": "stderr",
     "output_type": "stream",
     "text": [
      "[I 2023-06-13 14:03:20,117] Trial 84 finished with value: 19765603713.79187 and parameters: {'n_estimators': 985, 'learning_rate': 0.08557719800495314, 'max_depth': 10, 'min_child_weight': 3, 'gamma': 0.2759989369138059, 'subsample': 0.9163839306869926, 'colsample_bytree': 0.7511918077531925}. Best is trial 37 with value: 16654518340.988396.\n"
     ]
    },
    {
     "name": "stdout",
     "output_type": "stream",
     "text": [
      "mse : 19765603713.79187\n",
      "rmse : 140590.19778701453\n",
      "r2 : 0.809112879666219\n"
     ]
    },
    {
     "name": "stderr",
     "output_type": "stream",
     "text": [
      "[I 2023-06-13 14:03:32,791] Trial 85 finished with value: 20264277418.988583 and parameters: {'n_estimators': 1088, 'learning_rate': 0.11352486895116767, 'max_depth': 10, 'min_child_weight': 4, 'gamma': 0.36075270333806636, 'subsample': 0.9041970306254499, 'colsample_bytree': 0.7703075170191401}. Best is trial 37 with value: 16654518340.988396.\n"
     ]
    },
    {
     "name": "stdout",
     "output_type": "stream",
     "text": [
      "mse : 20264277418.988583\n",
      "rmse : 142352.65160504944\n",
      "r2 : 0.8042969181125248\n"
     ]
    },
    {
     "name": "stderr",
     "output_type": "stream",
     "text": [
      "[I 2023-06-13 14:03:44,456] Trial 86 finished with value: 19104775132.037518 and parameters: {'n_estimators': 915, 'learning_rate': 0.06480298453386085, 'max_depth': 10, 'min_child_weight': 3, 'gamma': 0.3501258073403914, 'subsample': 0.8753540452540736, 'colsample_bytree': 0.7381078229900137}. Best is trial 37 with value: 16654518340.988396.\n"
     ]
    },
    {
     "name": "stdout",
     "output_type": "stream",
     "text": [
      "mse : 19104775132.037518\n",
      "rmse : 138220.02435261512\n",
      "r2 : 0.815494858523628\n"
     ]
    },
    {
     "name": "stderr",
     "output_type": "stream",
     "text": [
      "[I 2023-06-13 14:03:52,068] Trial 87 finished with value: 16707846404.005518 and parameters: {'n_estimators': 727, 'learning_rate': 0.011614867978735097, 'max_depth': 10, 'min_child_weight': 4, 'gamma': 0.2999370632727772, 'subsample': 0.9605141584604993, 'colsample_bytree': 0.7598664447188924}. Best is trial 37 with value: 16654518340.988396.\n"
     ]
    },
    {
     "name": "stdout",
     "output_type": "stream",
     "text": [
      "mse : 16707846404.005518\n",
      "rmse : 129258.83491663352\n",
      "r2 : 0.8386432950280026\n"
     ]
    },
    {
     "name": "stderr",
     "output_type": "stream",
     "text": [
      "[I 2023-06-13 14:03:59,733] Trial 88 finished with value: 17419116067.744793 and parameters: {'n_estimators': 706, 'learning_rate': 0.03520345297262474, 'max_depth': 10, 'min_child_weight': 4, 'gamma': 0.31179724011081017, 'subsample': 0.9617181428327962, 'colsample_bytree': 0.795162529268033}. Best is trial 37 with value: 16654518340.988396.\n"
     ]
    },
    {
     "name": "stdout",
     "output_type": "stream",
     "text": [
      "mse : 17419116067.744793\n",
      "rmse : 131981.49896006178\n",
      "r2 : 0.8317741793734563\n"
     ]
    },
    {
     "name": "stderr",
     "output_type": "stream",
     "text": [
      "[I 2023-06-13 14:04:07,191] Trial 89 finished with value: 19626473378.073433 and parameters: {'n_estimators': 796, 'learning_rate': 0.1463409297493239, 'max_depth': 10, 'min_child_weight': 4, 'gamma': 0.32113408413629574, 'subsample': 0.9969149119057572, 'colsample_bytree': 0.7269057130951228}. Best is trial 37 with value: 16654518340.988396.\n"
     ]
    },
    {
     "name": "stdout",
     "output_type": "stream",
     "text": [
      "mse : 19626473378.073433\n",
      "rmse : 140094.5158743676\n",
      "r2 : 0.8104565365320011\n"
     ]
    },
    {
     "name": "stderr",
     "output_type": "stream",
     "text": [
      "[I 2023-06-13 14:04:31,008] Trial 90 finished with value: 19944686948.451763 and parameters: {'n_estimators': 2474, 'learning_rate': 0.057528470071182045, 'max_depth': 9, 'min_child_weight': 3, 'gamma': 0.3019371016010855, 'subsample': 0.932057670641969, 'colsample_bytree': 0.7639938506453402}. Best is trial 37 with value: 16654518340.988396.\n"
     ]
    },
    {
     "name": "stdout",
     "output_type": "stream",
     "text": [
      "mse : 19944686948.451763\n",
      "rmse : 141225.65966725652\n",
      "r2 : 0.8073833760568538\n"
     ]
    },
    {
     "name": "stderr",
     "output_type": "stream",
     "text": [
      "[I 2023-06-13 14:04:44,368] Trial 91 finished with value: 16914445634.071152 and parameters: {'n_estimators': 1260, 'learning_rate': 0.012183867385253858, 'max_depth': 10, 'min_child_weight': 3, 'gamma': 0.28691022075618394, 'subsample': 0.9509774549198795, 'colsample_bytree': 0.7503481801263735}. Best is trial 37 with value: 16654518340.988396.\n"
     ]
    },
    {
     "name": "stdout",
     "output_type": "stream",
     "text": [
      "mse : 16914445634.071152\n",
      "rmse : 130055.54826331383\n",
      "r2 : 0.8366480545758788\n"
     ]
    },
    {
     "name": "stderr",
     "output_type": "stream",
     "text": [
      "[I 2023-06-13 14:04:52,907] Trial 92 finished with value: 16861290629.024473 and parameters: {'n_estimators': 994, 'learning_rate': 0.010824861124483425, 'max_depth': 9, 'min_child_weight': 5, 'gamma': 0.3314185950827666, 'subsample': 0.9744646887736129, 'colsample_bytree': 0.7230327180157589}. Best is trial 37 with value: 16654518340.988396.\n"
     ]
    },
    {
     "name": "stdout",
     "output_type": "stream",
     "text": [
      "mse : 16861290629.024473\n",
      "rmse : 129851.03245267045\n",
      "r2 : 0.8371614011951682\n"
     ]
    },
    {
     "name": "stderr",
     "output_type": "stream",
     "text": [
      "[I 2023-06-13 14:05:00,711] Trial 93 finished with value: 17482047317.945324 and parameters: {'n_estimators': 682, 'learning_rate': 0.038406229971060094, 'max_depth': 10, 'min_child_weight': 2, 'gamma': 0.2960317886695584, 'subsample': 0.9151644980100404, 'colsample_bytree': 0.781639841190365}. Best is trial 37 with value: 16654518340.988396.\n"
     ]
    },
    {
     "name": "stdout",
     "output_type": "stream",
     "text": [
      "mse : 17482047317.945324\n",
      "rmse : 132219.69338167942\n",
      "r2 : 0.8311664182696857\n"
     ]
    },
    {
     "name": "stderr",
     "output_type": "stream",
     "text": [
      "[I 2023-06-13 14:05:14,201] Trial 94 finished with value: 19630896383.078075 and parameters: {'n_estimators': 1392, 'learning_rate': 0.07802784780637309, 'max_depth': 9, 'min_child_weight': 3, 'gamma': 0.28070268785458363, 'subsample': 0.8870442671949912, 'colsample_bytree': 0.6992621059113671}. Best is trial 37 with value: 16654518340.988396.\n"
     ]
    },
    {
     "name": "stdout",
     "output_type": "stream",
     "text": [
      "mse : 19630896383.078075\n",
      "rmse : 140110.30077434733\n",
      "r2 : 0.8104138211815983\n"
     ]
    },
    {
     "name": "stderr",
     "output_type": "stream",
     "text": [
      "[I 2023-06-13 14:05:27,475] Trial 95 finished with value: 18842641314.24377 and parameters: {'n_estimators': 1185, 'learning_rate': 0.05643337659516541, 'max_depth': 10, 'min_child_weight': 5, 'gamma': 0.2662629965907081, 'subsample': 0.9242375412589235, 'colsample_bytree': 0.7368472184880049}. Best is trial 37 with value: 16654518340.988396.\n"
     ]
    },
    {
     "name": "stdout",
     "output_type": "stream",
     "text": [
      "mse : 18842641314.24377\n",
      "rmse : 137268.50080861148\n",
      "r2 : 0.8180264265113962\n"
     ]
    },
    {
     "name": "stderr",
     "output_type": "stream",
     "text": [
      "[I 2023-06-13 14:05:35,973] Trial 96 finished with value: 19354667682.32268 and parameters: {'n_estimators': 894, 'learning_rate': 0.09689486777175088, 'max_depth': 9, 'min_child_weight': 4, 'gamma': 0.34161492742758365, 'subsample': 0.8962824812702507, 'colsample_bytree': 0.7190308758965234}. Best is trial 37 with value: 16654518340.988396.\n"
     ]
    },
    {
     "name": "stdout",
     "output_type": "stream",
     "text": [
      "mse : 19354667682.32268\n",
      "rmse : 139121.0540584087\n",
      "r2 : 0.8130815110738097\n"
     ]
    },
    {
     "name": "stderr",
     "output_type": "stream",
     "text": [
      "[I 2023-06-13 14:05:42,747] Trial 97 finished with value: 17203239159.212555 and parameters: {'n_estimators': 579, 'learning_rate': 0.03173742143834667, 'max_depth': 10, 'min_child_weight': 2, 'gamma': 0.3140017205373317, 'subsample': 0.8821656969154019, 'colsample_bytree': 0.7587602246623127}. Best is trial 37 with value: 16654518340.988396.\n"
     ]
    },
    {
     "name": "stdout",
     "output_type": "stream",
     "text": [
      "mse : 17203239159.212555\n",
      "rmse : 131161.11908341036\n",
      "r2 : 0.8338590193820377\n"
     ]
    },
    {
     "name": "stderr",
     "output_type": "stream",
     "text": [
      "[I 2023-06-13 14:05:51,474] Trial 98 finished with value: 19545558158.635296 and parameters: {'n_estimators': 823, 'learning_rate': 0.12479581106958791, 'max_depth': 9, 'min_child_weight': 1, 'gamma': 0.24898299637417792, 'subsample': 0.8577842581352353, 'colsample_bytree': 0.7486661437745544}. Best is trial 37 with value: 16654518340.988396.\n"
     ]
    },
    {
     "name": "stdout",
     "output_type": "stream",
     "text": [
      "mse : 19545558158.635296\n",
      "rmse : 139805.42964647437\n",
      "r2 : 0.8112379785488186\n"
     ]
    },
    {
     "name": "stderr",
     "output_type": "stream",
     "text": [
      "[I 2023-06-13 14:06:03,195] Trial 99 finished with value: 19396964455.19963 and parameters: {'n_estimators': 1071, 'learning_rate': 0.08265162126499631, 'max_depth': 10, 'min_child_weight': 2, 'gamma': 0.32640387575024926, 'subsample': 0.9425164668350813, 'colsample_bytree': 0.687288312027094}. Best is trial 37 with value: 16654518340.988396.\n"
     ]
    },
    {
     "name": "stdout",
     "output_type": "stream",
     "text": [
      "mse : 19396964455.19963\n",
      "rmse : 139272.98537476544\n",
      "r2 : 0.8126730282725351\n",
      "Best trial: score 16654518340.988396, \n",
      "params {'n_estimators': 859, 'learning_rate': 0.011575398836499266, 'max_depth': 9, 'min_child_weight': 2, 'gamma': 0.32185550012458364, 'subsample': 0.8412042080266674, 'colsample_bytree': 0.7344577650103008}\n"
     ]
    }
   ],
   "source": [
    "import optuna\n",
    "from xgboost import XGBRegressor\n",
    "\n",
    "def objectiveXGB(trial):\n",
    "    # Define the search space for each parameter\n",
    "    params = {\n",
    "        'n_estimators': trial.suggest_int('n_estimators', 100, 4000),\n",
    "        'learning_rate': trial.suggest_float('learning_rate', 0.01, 1),\n",
    "        'max_depth': trial.suggest_int('max_depth', 1, 10),\n",
    "        'min_child_weight': trial.suggest_int('min_child_weight', 1, 10),\n",
    "        'gamma': trial.suggest_float('gamma', 0, 0.5),\n",
    "        'subsample': trial.suggest_float('subsample', 0.5, 1.0),\n",
    "        'colsample_bytree': trial.suggest_float('colsample_bytree', 0.5, 1.0),\n",
    "        'random_state': 42,\n",
    "    }\n",
    "\n",
    "    # 모델 학습\n",
    "    model = XGBRegressor(**params)\n",
    "    model.fit(x_train, y_train)\n",
    "\n",
    "    # 예측\n",
    "    y_pred = model.predict(x_test)\n",
    "\n",
    "    # 모델 평가    \n",
    "    mse = mean_squared_error(y_test, y_pred)\n",
    "    rmse = np.sqrt(mse)\n",
    "    r2 = r2_score(y_test, y_pred)\n",
    "\n",
    "    print(f\"mse : {mse}\")\n",
    "    print(f\"rmse : {rmse}\")\n",
    "    print(f\"r2 : {r2}\")\n",
    "    \n",
    "    return mse\n",
    "\n",
    "# optimization study 진행\n",
    "# direction: score 값을 최대 or 최소로 하는 방향으로 지정\n",
    "study4 = optuna.create_study(direction='minimize')\n",
    "\n",
    "# n_trials: 시도 횟수 (미입력시 key interrupt가 있을 때까지 무한 반복)\n",
    "study4.optimize(objectiveXGB, n_trials=100)\n",
    "\n",
    "# 모든 트라이얼이 완료되었는지 확인\n",
    "if study4.best_trial is None:\n",
    "    print(\"No trials completed.\")\n",
    "else:\n",
    "    # 최적의 트라이얼 출력\n",
    "    print('Best trial: score {}, \\nparams {}'.format(study4.best_trial.value, study4.best_trial.params))"
   ]
  },
  {
   "cell_type": "code",
   "execution_count": 11,
   "metadata": {},
   "outputs": [
    {
     "name": "stdout",
     "output_type": "stream",
     "text": [
      "mse : 16654518340.988\n",
      "rmse : 129052.386\n",
      "r2 : 0.839\n"
     ]
    }
   ],
   "source": [
    "# Best trial의 파라미터\n",
    "best_params = study4.best_trial.params\n",
    "\n",
    "# 최적의 모델 학습\n",
    "best_xgb = XGBRegressor(n_estimators=best_params['n_estimators'],\n",
    "                        learning_rate=best_params['learning_rate'],\n",
    "                        max_depth=best_params['max_depth'],\n",
    "                        min_child_weight=best_params['min_child_weight'],\n",
    "                        gamma=best_params['gamma'],\n",
    "                        subsample=best_params['subsample'],\n",
    "                        colsample_bytree=best_params['colsample_bytree'],\n",
    "                        random_state=42)\n",
    "best_xgb.fit(x_train, y_train)\n",
    "\n",
    "# 저장 경로 설정\n",
    "import pickle\n",
    "import os\n",
    "save_path = 'XGBRegressor_best_model.pkl'\n",
    "\n",
    "# 모델을 'XGBRegressor_best_model.pkl' 파일로 저장\n",
    "with open(save_path, 'wb') as f:\n",
    "    pickle.dump(best_xgb, f)\n",
    "\n",
    "# 저장된 모델 로드\n",
    "with open('XGBRegressor_best_model.pkl', 'rb') as f:\n",
    "    loaded_model = pickle.load(f)\n",
    "\n",
    "# 로드된 모델로 예측\n",
    "y_pred = loaded_model.predict(x_test)\n",
    "\n",
    "# 모델 평가\n",
    "from evaluate_score import evaluate_score\n",
    "evaluate_score(y_test, y_pred)\n"
   ]
  },
  {
   "cell_type": "code",
   "execution_count": 12,
   "metadata": {},
   "outputs": [
    {
     "name": "stderr",
     "output_type": "stream",
     "text": [
      "C:\\Users\\dohee\\AppData\\Local\\Temp\\ipykernel_22292\\941271295.py:5: ExperimentalWarning: plot_param_importances is experimental (supported from v2.2.0). The interface can change in the future.\n",
      "  plot_param_importances(study4)\n",
      "C:\\Users\\dohee\\AppData\\Local\\Temp\\ipykernel_22292\\941271295.py:10: ExperimentalWarning: plot_optimization_history is experimental (supported from v2.2.0). The interface can change in the future.\n",
      "  plot_optimization_history(study4)\n"
     ]
    },
    {
     "data": {
      "text/plain": [
       "<AxesSubplot:title={'center':'Optimization History Plot'}, xlabel='Trial', ylabel='Objective Value'>"
      ]
     },
     "execution_count": 12,
     "metadata": {},
     "output_type": "execute_result"
    },
    {
     "data": {
      "image/png": "[encoded data removed]",
      "text/plain": [
       "<Figure size 640x480 with 1 Axes>"
      ]
     },
     "metadata": {},
     "output_type": "display_data"
    },
    {
     "data": {
      "image/png": "[encoded data removed]",
      "text/plain": [
       "<Figure size 640x480 with 1 Axes>"
      ]
     },
     "metadata": {},
     "output_type": "display_data"
    }
   ],
   "source": [
    "from optuna.visualization.matplotlib import plot_param_importances\n",
    "from optuna.visualization.matplotlib import plot_optimization_history\n",
    "\n",
    "# 하이퍼파라미터별 중요도 확인\n",
    "plot_param_importances(study4)\n",
    "\n",
    "# 하이퍼파라미터 최적화 과정 확인\n",
    "import matplotlib.pyplot as plt\n",
    "import numpy as np\n",
    "plot_optimization_history(study4)"
   ]
  },
  {
   "cell_type": "code",
   "execution_count": null,
   "metadata": {},
   "outputs": [],
   "source": []
  }
 ],
 "metadata": {
  "kernelspec": {
   "display_name": "base",
   "language": "python",
   "name": "python3"
  },
  "language_info": {
   "codemirror_mode": {
    "name": "ipython",
    "version": 3
   },
   "file_extension": ".py",
   "mimetype": "text/x-python",
   "name": "python",
   "nbconvert_exporter": "python",
   "pygments_lexer": "ipython3",
   "version": "3.9.13"
  },
  "orig_nbformat": 4
 },
 "nbformat": 4,
 "nbformat_minor": 2
}
