{
 "cells": [
  {
   "attachments": {},
   "cell_type": "markdown",
   "metadata": {},
   "source": [
    "## 전처리 py 파일 내장 함수별 오류 점검"
   ]
  },
  {
   "cell_type": "code",
   "execution_count": 18,
   "metadata": {},
   "outputs": [],
   "source": [
    "import pandas as pd\n",
    "import numpy as np\n",
    "import re\n",
    "from SamsungPhone import assign_samsung_product_name\n",
    "from AppleIphone import assign_iphone_product_name\n",
    "from RemainedPhone import assign_remained_product_name\n",
    "import basicfunction as bf\n",
    "\n",
    "class DataPreprocessor:\n",
    "    '''\n",
    "    # 크롤링 통해 처음 들어오는 열 : \n",
    "    pid\t(상품번호) -> 중복값 제거 후 삭제\n",
    "    name(게시글제목) -> product_name 출력 후 제거\n",
    "    description(게시글 내용) -> product_name 출력 후 제거\n",
    "    price(종속변수이자, 중고가)\n",
    "    time(게시글 등록 시간 : 몇 분 전, 몇 시간 전 등) -> hours(시간 단위 통일화) 로 대체\n",
    "    quality(제품 등급) #영호가 전달한 등급 기반으로 처리\n",
    "    favoritecount(찜, 좋아요)\n",
    "    viewcount(조회수)\n",
    "    address(거래 주소) #삭제\n",
    "    keyword(키워드) # 삭제\t\n",
    "    crawling(크롤링한 웹페이지)\n",
    "    created_at(크롤링한 시간) # 동일한 날에 진행하여 완료한다는 가정 (삭제)\n",
    "    \n",
    "    # 추가해야할 열\n",
    "    product_name(상품명)\n",
    "    release_year(출시년도)\n",
    "    screen_size(화면 인치)\n",
    "    cost(원가)\n",
    "    capacity(메모리 용량)\n",
    "    ram(램)\n",
    "    weight(무게)\n",
    "    화소별 카메라 개수 : back_camera_number_1, back_camera_number_2, back_camera_number_3\n",
    "    카메라별 화소 : back_camera_1, back_camera_2, back_camera_3\t\t\n",
    "    Max_video_playtime(최대 비디오 재생시간)\n",
    "    Max_audio_playtime(최대 오디오 재생시간)\n",
    "    battery_capacity(배터리 용량)\n",
    "    '''\n",
    "    def __init__(self, filepath):\n",
    "        self.df = pd.read_csv(filepath)\n",
    "        self.prepro_df = self.df.copy()\n",
    "    \n",
    "    def add_basic_and_remove_irrelevant_products(self):\n",
    "        '''\n",
    "        필요없는 제품 제거\n",
    "        '''\n",
    "        # 필요 없는 열 삭제\n",
    "        self.prepro_df.drop(['address', 'keyword'], axis=1, inplace=True)\n",
    "\n",
    "        # 필요한 열 추가\n",
    "        self.prepro_df['product_name'] = np.nan\n",
    "        self.prepro_df['release_year'] = np.nan\n",
    "        self.prepro_df['screen_size'] = np.nan\n",
    "        self.prepro_df['cost'] = np.nan\n",
    "        self.prepro_df['capacity'] = np.nan\n",
    "        self.prepro_df['ram'] = np.nan\n",
    "        self.prepro_df['weight'] = np.nan\n",
    "        self.prepro_df['back_camera_number_1'] = np.nan\n",
    "        self.prepro_df['back_camera_number_2'] = np.nan\n",
    "        self.prepro_df['back_camera_number_3'] = np.nan\n",
    "        self.prepro_df['back_camera_1'] = np.nan\n",
    "        self.prepro_df['back_camera_2'] = np.nan\n",
    "        self.prepro_df['back_camera_3'] = np.nan\n",
    "        self.prepro_df['Max_video_playtime'] = np.nan\n",
    "        self.prepro_df['Max_audio_playtime'] = np.nan\n",
    "        self.prepro_df['battery_capacity'] = np.nan\n",
    "\n",
    "        # 모두 소문자로 변경\n",
    "        self.prepro_df['description'] = self.prepro_df['description'].str.lower()\n",
    "        self.prepro_df['name'] = self.prepro_df['name'].str.lower()\n",
    "\n",
    "        self.prepro_df = self.prepro_df[~self.prepro_df['name'].str.contains('아이패드|에어팟|디지털기기|구매합니다|아이폰x|교환|케어|교신|에디션|톰')]\n",
    "        self.prepro_df = self.prepro_df[~self.prepro_df['name'].str.contains('갤럭시s23울트라폴드4플립4|아이폰13미니아이폰14아이폰14프로아이폰14프로맥스미개봉새상퓸')]\n",
    "        self.prepro_df = self.prepro_df[~self.prepro_df['name'].str.contains('애플아이폰14프로맥스아이폰14프로아이폰14아이폰13미니새상품')]\n",
    "        self.prepro_df['description'] = self.prepro_df['description'].fillna(\"\")\n",
    "        self.prepro_df = self.prepro_df[~self.prepro_df['description'].str.contains('아이패드|에어팟|디지털기기|구매합니다|아이폰X|교환|교신|폰고래|에디션|톰')]\n",
    "    \n",
    "    # 시간 통일화\n",
    "    def assign_h_time(self):\n",
    "        '''\n",
    "         time 열을 시간 단위로 통일화하여 hours 열에 할당\n",
    "         실제 실행될 때 크롤링 일자가 모두 동일하다는 가정 하에 진행한 코드입니다.\n",
    "        '''\n",
    "        self.prepro_df['hours'] = np.nan\n",
    "        self.prepro_df['hours'] = self.prepro_df['time'].str.extract('(\\d+)\\s*시간', expand=False).astype(float)\n",
    "        self.prepro_df.loc[self.prepro_df['time'].str.contains('분'), 'hours'] = self.prepro_df['time'].str.extract('(\\d+)\\s*분', expand=False).astype(float) / 60\n",
    "        self.prepro_df.loc[self.prepro_df['time'].str.contains('일'), 'hours'] = self.prepro_df['time'].str.extract('(\\d+)\\s*일', expand=False).astype(float) * 24\n",
    "        self.prepro_df.loc[self.prepro_df['time'].str.contains('달'), 'hours'] = self.prepro_df['time'].str.extract('(\\d+)\\s*달', expand=False).astype(float) * 720\n",
    "        self.prepro_df.loc[self.prepro_df['time'].str.contains('년'), 'hours'] = self.prepro_df['time'].str.extract('(\\d+)\\s*년', expand=False).astype(float) * 8640\n",
    "    \n",
    "        # # hours의 nan값 삭제\n",
    "        # mismatch = self.prepro_df[self.prepro_df['hours'].isna() != self.prepro_df['product_name'].isna()]\n",
    "        # self.prepro_df = self.prepro_df.drop(mismatch[self.prepro_df['hours'].isna()].index)\n",
    "\n",
    "    # 중복게시글 제거\n",
    "    def remove_duplicates_and_unnecessary_columns(self):\n",
    "        '''\n",
    "        중복된 게시글 제거 (pid 열 기준) : 중복된 게시글의 최근 게시글만 남기고 삭제\n",
    "        이후 필요없는 행 제거\n",
    "        '''\n",
    "        self.prepro_df = self.prepro_df.sort_values('hours').drop_duplicates('pid', keep='first')\n",
    "        self.prepro_df.drop(['time', 'pid'], axis=1, inplace=True)\n",
    "\n",
    "    # 제품명과 용량 추출 \n",
    "    def assign_product_name(self):\n",
    "        '''\n",
    "        name과 description에서 제품명 추출\n",
    "        '''\n",
    "        # name열에서 '1tb'를 '1000'으로 변경\n",
    "        self.prepro_df['name'] = self.prepro_df['name'].apply(bf.BasicFunctions.convert_tb_to_gb)\n",
    "        \n",
    "        # description열에서 '1tb'를 '1000'으로 변경\n",
    "        self.prepro_df['description'] = self.prepro_df['description'].apply(bf.BasicFunctions.convert_tb_to_gb)\n",
    "\n",
    "        # name 열과 description 열에서 용량 추출 : name_capacity열, description_capacity열\n",
    "        self.prepro_df['name_capacity'] = self.prepro_df['name'].apply(bf.BasicFunctions.extract_capacity)\n",
    "        self.prepro_df['description_capacity'] = self.prepro_df['description'].apply(lambda x: bf.BasicFunctions.extract_capacity(str(x)) if pd.notnull(x) else None)\n",
    "\n",
    "        # product_name, capacity 추출\n",
    "        self.prepro_df = assign_iphone_product_name(self.prepro_df) # 아이폰\n",
    "        self.prepro_df = assign_samsung_product_name(self.prepro_df) # 갤럭시\n",
    "        \n",
    "        # 아이폰과 갤럭시에서 추출된 내용 외의 것 제거 (1차)\n",
    "        filter_words = ['mini', '미니', 'pro', '프로','max', '맥스', '플러스', '//+', '울트라', 'ultra']\n",
    "        self.prepro_df = self.prepro_df[~(self.prepro_df['product_name'].isna() & self.prepro_df['name'].apply(lambda x: any(word in x for word in filter_words)))]\n",
    "        self.prepro_df = self.prepro_df[~(self.prepro_df['product_name'].isna() & self.prepro_df['description'].apply(lambda x: any(word in str(x) for word in filter_words)))]\n",
    " \n",
    "        # 나머지 (아이폰11, 12, 13, 14 & 갤럭시 s20, 21, 22, 23)\n",
    "        self.prepro_df = assign_remained_product_name(self.prepro_df)\n",
    "\n",
    "    # 사양 연결\n",
    "    def map_phone_info(self):\n",
    "        '''\n",
    "        1. product_name nan값 삭제\n",
    "        2. capacity 열에 데이터 최종 입력\n",
    "            1) capacity가 nan인 값인 행 & name_capacity, description_capacity열 중 데이터가 한 열에만 존재할 경우\n",
    "            2) capacity가 nan인 값인 행 & name_capacity, description_capacity열 모두 데이터가 있을 경우\n",
    "                => name_capacity의 값을 우선적으로 capacity에 추가\n",
    "            3) capacity가 nan 값인 행 삭제 (nan 값이 없게끔 크로스 삭제)\n",
    "        3. name_capacity, description_capacity 열 삭제\n",
    "        4. product_name 기준으로 사양들 맵핑\n",
    "        '''\n",
    "        # 1. product_name nan값 삭제\n",
    "        self.prepro_df = self.prepro_df[~(self.prepro_df['product_name'].isna())]\n",
    "\n",
    "        # 2. capacity 열에 데이터 최종 입력 \n",
    "        # 1) 값이 한 열에만 있을 경우 & 2) 두 열 모두 값이 있을 경우 \n",
    "        condition = (self.prepro_df['capacity'].isna()) & \\\n",
    "                    (self.prepro_df['name_capacity'].notna() | self.prepro_df['description_capacity'].notna())\n",
    "       \n",
    "        # name_capacity의 값을 먼저 선택 -> 그래도 nan이면 fillna를 사용해 nan값을 description_capacity로 대체\n",
    "        self.prepro_df.loc[condition, 'capacity'] = self.prepro_df.loc[condition, 'name_capacity'].fillna(self.prepro_df['description_capacity'])\n",
    "\n",
    "        # 3) capacity가 nan 값인 행 삭제\n",
    "        self.prepro_df = self.prepro_df[~(self.prepro_df['capacity'].isna())]\n",
    "\n",
    "        # 3. name_capacity, description_capacity 삭제\n",
    "        self.prepro_df.drop(['name_capacity', 'description_capacity'], axis=1, inplace=True)\n",
    "        \n",
    "        # capacity 열 타입 변환(object -> int)\n",
    "        self.prepro_df['capacity'] = self.prepro_df['capacity'].astype(int)\n",
    "\n",
    "        # 4. product_name 기준으로 사양들 맵핑\n",
    "        phone_info = pd.read_csv('phone_info_v2.csv')\n",
    "        phone_info = phone_info.drop_duplicates(subset=['product', 'capacity'])\n",
    "        \n",
    "        # product, capacity 열을 인덱스로 설정\n",
    "        phone_info = phone_info.set_index(['product', 'capacity']) \n",
    "\n",
    "        # prepro_df의 각 열을 phone_info 데이터프레임을 사용하여 업데이트\n",
    "        for col in ['release_year', 'screen_size', 'weight', 'back_camera_1',\n",
    "                    'back_camera_number_1', 'back_camera_2', 'back_camera_number_2',\n",
    "                    'back_camera_3', 'back_camera_number_3', 'Max_video_playtime',\n",
    "                    'Max_audio_playtime', 'battery_capacity', 'ram', 'cost']:\n",
    "            \n",
    "            # 'product_name'과 'capacity' 열을 zip으로 묶어서 매핑\n",
    "            self.prepro_df[col] = list(map(lambda x: phone_info.loc[(x[0], x[1]), col] \n",
    "                                           if (x[0], x[1]) in phone_info.index else np.nan, \n",
    "                                           zip(self.prepro_df['product_name'], self.prepro_df['capacity'])))\n",
    "\n",
    "        # 사양이 없는 행 제거\n",
    "        self.prepro_df = self.prepro_df.dropna(subset=['release_year'])\n",
    "\n",
    "    # 타입 변환\n",
    "    def change_data_type(self):\n",
    "        self.prepro_df['cost'] = self.prepro_df['cost'].str.replace(',', '').astype(int)\n",
    "        self.prepro_df['ram'] = self.prepro_df['ram'].astype(int)\n",
    "        self.prepro_df['weight'] = self.prepro_df['weight'].astype(float)\n",
    "        self.prepro_df['back_camera_number_1'] = self.prepro_df['back_camera_number_1'].astype(int)\n",
    "        self.prepro_df['back_camera_number_2'] = self.prepro_df['back_camera_number_2'].astype(int)\n",
    "        self.prepro_df['back_camera_number_3'] = self.prepro_df['back_camera_number_3'].astype(int)\n",
    "        self.prepro_df['back_camera_1'] = self.prepro_df['back_camera_1'].str.replace(',', '').astype(int)\n",
    "        self.prepro_df['back_camera_2'] = self.prepro_df['back_camera_2'].str.replace(',', '').astype(int)\n",
    "        self.prepro_df['back_camera_3'] = self.prepro_df['back_camera_3'].str.replace(',', '').astype(int)\n",
    "        self.prepro_df['Max_video_playtime'] = self.prepro_df['Max_video_playtime'].astype(int)\n",
    "        self.prepro_df['Max_audio_playtime'] = self.prepro_df['Max_audio_playtime'].astype(int)\n",
    "        self.prepro_df['battery_capacity'] = self.prepro_df['battery_capacity'].str.replace(',', '').astype(int)\n",
    "\n",
    "    # 출시 년도 -> 년식으로 변경\n",
    "    def convert_as_used_year(self):\n",
    "        '''\n",
    "        2023년 대비 년식을 구하는 함수\n",
    "        '''\n",
    "        self.prepro_df['used_year'] = self.prepro_df['release_year'].apply(lambda x: 2023 - x)\n",
    "        \n",
    "        # # release_year 열 삭제\n",
    "        # self.prepro_df.drop(['release_year'], axis=1, inplace=True)\n",
    "\n",
    "    # 등급 변환\n",
    "    def extract_and_map_quality(self):\n",
    "        '''\n",
    "        description으로부터 등급 정보를 추출하고 점수로 맵핑하는 함수\n",
    "        '''\n",
    "        # 등급 추출 함수\n",
    "        def extract_grade_desc(s):\n",
    "            # \"등급 :\" 뒤에 공백 상관없이 오는 영문 찾기\n",
    "            grade = re.search(r'등급 :(\\w+)', s)\n",
    "            if grade is not None and any(letter in grade.group(1).lower() for letter in ['s', 'b', 'a']):\n",
    "                return grade.group(1) # group(1) : 첫 번째 그룹\n",
    "            \n",
    "            # \"등급 :\"에 해당하지 않는다면, \"급\" 앞에 공백 상관없이 있는 영문 찾기\n",
    "            grade = re.search(r'(\\w+)급', s)\n",
    "            if grade is not None and any(letter in grade.group(1).lower() for letter in ['s', 'b', 'a']):\n",
    "                return grade.group(1)\n",
    "            return np.nan \n",
    "\n",
    "        grade_filter = ~self.prepro_df['quality'].isin(['미개봉', 'S급', 'A급', 'B급'])\n",
    "        self.prepro_df.loc[grade_filter, 'quality'] = self.prepro_df.loc[grade_filter, 'description'].apply(extract_grade_desc)\n",
    "\n",
    "        # 등급 재추출 및 정의\n",
    "        self.prepro.loc[self.prepro['quality'].isin(['a', 'aaa']), 'quality'] = 'A급'\n",
    "        self.prepro.loc[self.prepro['quality'].isin(['b']), 'quality'] = 'B급'\n",
    "        self.prepro.loc[self.prepro['quality'].isin(['c']), 'quality'] = 'C급'\n",
    "\n",
    "        # 등급 점수화\n",
    "        quality_mapping = {\n",
    "            '미개봉': 5,\n",
    "            'S급': 4,\n",
    "            'A급': 3,\n",
    "            'B급': 2,\n",
    "            'C급': 1,\n",
    "        }\n",
    "        self.prepro_df['quality'] = self.prepro_df['quality'].map(quality_mapping)\n",
    "\n",
    "        # 등급이 없는 행 삭제\n",
    "        self.prepro_df = self.prepro_df.dropna(subset=['quality'])\n",
    "\n",
    "        # 필요없는 행 삭제\n",
    "        self.prepro_df.drop(['name', 'description'], axis=1, inplace=True)\n",
    "\n",
    "    # 조회수, 찜(좋아요) 가중치\n",
    "    def normalize_viewcount_favoritecount(self):\n",
    "        '''\n",
    "        웹페이지 사용자 수를 기준으로 'viewcount'와 'favoritecount' 열을 정규화하는 함수\n",
    "        '''\n",
    "        user_site = {\n",
    "            0: 4640000,  # 당근마켓\n",
    "            2: 490000,   # 번개장터\n",
    "            1: 120000,   # 중고나라\n",
    "        }\n",
    "\n",
    "        for site, user_count in user_site.items():\n",
    "            self.prepro_df.loc[self.prepro_df['crawling'] == site, 'viewcount'] /= user_count\n",
    "            self.prepro_df.loc[self.prepro_df['crawling'] == site, 'favoritecount'] /= user_count\n",
    "    \n",
    "        # nan 값은 0으로 변환\n",
    "        self.prepro_df['viewcount'].fillna(0, inplace=True)\n",
    "        self.prepro_df['favoritecount'].fillna(0, inplace=True)\n",
    "\n",
    "        # 필요없는 열 삭제\n",
    "        self.prepro_df.drop(['crawling', 'created_at'], axis=1, inplace=True)\n",
    "\n",
    "    def execute(self):\n",
    "        '''\n",
    "        앞서 정의한 모든 전처리 메소드를 순차적으로 실행\n",
    "        '''\n",
    "        self.add_basic_and_remove_irrelevant_products()\n",
    "        self.assign_h_time()\n",
    "        self.remove_duplicates_and_unnecessary_columns()\n",
    "        self.assign_product_name()\n",
    "        self.map_phone_info()\n",
    "        self.change_data_type()   \n",
    "        self.convert_as_used_year()\n",
    "        # self.extract_and_map_quality()\n",
    "        # self.normalize_viewcount_favoritecount()\n",
    "        \n",
    "        return self.prepro_df"
   ]
  },
  {
   "cell_type": "code",
   "execution_count": 19,
   "metadata": {},
   "outputs": [
    {
     "data": {
      "text/html": [
       "<div>\n",
       "<style scoped>\n",
       "    .dataframe tbody tr th:only-of-type {\n",
       "        vertical-align: middle;\n",
       "    }\n",
       "\n",
       "    .dataframe tbody tr th {\n",
       "        vertical-align: top;\n",
       "    }\n",
       "\n",
       "    .dataframe thead th {\n",
       "        text-align: right;\n",
       "    }\n",
       "</style>\n",
       "<table border=\"1\" class=\"dataframe\">\n",
       "  <thead>\n",
       "    <tr style=\"text-align: right;\">\n",
       "      <th></th>\n",
       "      <th>name</th>\n",
       "      <th>description</th>\n",
       "      <th>price</th>\n",
       "      <th>quality</th>\n",
       "      <th>favoritecount</th>\n",
       "      <th>viewcount</th>\n",
       "      <th>crawling</th>\n",
       "      <th>created_at</th>\n",
       "      <th>product_name</th>\n",
       "      <th>release_year</th>\n",
       "      <th>...</th>\n",
       "      <th>back_camera_number_2</th>\n",
       "      <th>back_camera_number_3</th>\n",
       "      <th>back_camera_1</th>\n",
       "      <th>back_camera_2</th>\n",
       "      <th>back_camera_3</th>\n",
       "      <th>Max_video_playtime</th>\n",
       "      <th>Max_audio_playtime</th>\n",
       "      <th>battery_capacity</th>\n",
       "      <th>hours</th>\n",
       "      <th>used_year</th>\n",
       "    </tr>\n",
       "  </thead>\n",
       "  <tbody>\n",
       "    <tr>\n",
       "      <th>8137</th>\n",
       "      <td>아이폰12미니풀박.256gb배터리효율100</td>\n",
       "      <td></td>\n",
       "      <td>450000</td>\n",
       "      <td>B급</td>\n",
       "      <td>NaN</td>\n",
       "      <td>NaN</td>\n",
       "      <td>1</td>\n",
       "      <td>01:04.1</td>\n",
       "      <td>아이폰 12 Mini</td>\n",
       "      <td>2020.0</td>\n",
       "      <td>...</td>\n",
       "      <td>0</td>\n",
       "      <td>0</td>\n",
       "      <td>1200</td>\n",
       "      <td>0</td>\n",
       "      <td>0</td>\n",
       "      <td>10</td>\n",
       "      <td>50</td>\n",
       "      <td>2227</td>\n",
       "      <td>0.016667</td>\n",
       "      <td>3.0</td>\n",
       "    </tr>\n",
       "    <tr>\n",
       "      <th>9748</th>\n",
       "      <td>갤럭시z폴드4256베이지</td>\n",
       "      <td>안녕하세요, 갤럭시 z폴드4 256 베이지 판매합니다.\\n자급제 단말입니다.\\n\\n...</td>\n",
       "      <td>970000</td>\n",
       "      <td>B급</td>\n",
       "      <td>0.0</td>\n",
       "      <td>0.0</td>\n",
       "      <td>2</td>\n",
       "      <td>22:46.3</td>\n",
       "      <td>갤럭시 Z 폴드4</td>\n",
       "      <td>2022.0</td>\n",
       "      <td>...</td>\n",
       "      <td>1</td>\n",
       "      <td>1</td>\n",
       "      <td>1200</td>\n",
       "      <td>5000</td>\n",
       "      <td>1000</td>\n",
       "      <td>20</td>\n",
       "      <td>72</td>\n",
       "      <td>4400</td>\n",
       "      <td>0.016667</td>\n",
       "      <td>1.0</td>\n",
       "    </tr>\n",
       "    <tr>\n",
       "      <th>21572</th>\n",
       "      <td>아이폰12128g블랙a급!</td>\n",
       "      <td>아이폰12입니다\\n\\n128g 블랙색상이구여\\n\\n외관 테두리 상단에 기스 조금있고...</td>\n",
       "      <td>530000</td>\n",
       "      <td>A급</td>\n",
       "      <td>0.0</td>\n",
       "      <td>37.0</td>\n",
       "      <td>1</td>\n",
       "      <td>38:44.9</td>\n",
       "      <td>아이폰 12</td>\n",
       "      <td>2020.0</td>\n",
       "      <td>...</td>\n",
       "      <td>0</td>\n",
       "      <td>0</td>\n",
       "      <td>1200</td>\n",
       "      <td>0</td>\n",
       "      <td>0</td>\n",
       "      <td>11</td>\n",
       "      <td>65</td>\n",
       "      <td>2815</td>\n",
       "      <td>0.016667</td>\n",
       "      <td>3.0</td>\n",
       "    </tr>\n",
       "  </tbody>\n",
       "</table>\n",
       "<p>3 rows × 26 columns</p>\n",
       "</div>"
      ],
      "text/plain": [
       "                          name  \\\n",
       "8137   아이폰12미니풀박.256gb배터리효율100   \n",
       "9748             갤럭시z폴드4256베이지   \n",
       "21572           아이폰12128g블랙a급!   \n",
       "\n",
       "                                             description   price quality  \\\n",
       "8137                                                      450000      B급   \n",
       "9748   안녕하세요, 갤럭시 z폴드4 256 베이지 판매합니다.\\n자급제 단말입니다.\\n\\n...  970000      B급   \n",
       "21572  아이폰12입니다\\n\\n128g 블랙색상이구여\\n\\n외관 테두리 상단에 기스 조금있고...  530000      A급   \n",
       "\n",
       "       favoritecount  viewcount  crawling created_at product_name  \\\n",
       "8137             NaN        NaN         1    01:04.1  아이폰 12 Mini   \n",
       "9748             0.0        0.0         2    22:46.3    갤럭시 Z 폴드4   \n",
       "21572            0.0       37.0         1    38:44.9       아이폰 12   \n",
       "\n",
       "       release_year  ...  back_camera_number_2  back_camera_number_3  \\\n",
       "8137         2020.0  ...                     0                     0   \n",
       "9748         2022.0  ...                     1                     1   \n",
       "21572        2020.0  ...                     0                     0   \n",
       "\n",
       "       back_camera_1  back_camera_2  back_camera_3  Max_video_playtime  \\\n",
       "8137            1200              0              0                  10   \n",
       "9748            1200           5000           1000                  20   \n",
       "21572           1200              0              0                  11   \n",
       "\n",
       "       Max_audio_playtime  battery_capacity     hours  used_year  \n",
       "8137                   50              2227  0.016667        3.0  \n",
       "9748                   72              4400  0.016667        1.0  \n",
       "21572                  65              2815  0.016667        3.0  \n",
       "\n",
       "[3 rows x 26 columns]"
      ]
     },
     "execution_count": 19,
     "metadata": {},
     "output_type": "execute_result"
    }
   ],
   "source": [
    "test = DataPreprocessor(\"C:/Python_practice/DL_project/final_project/no_Yongsan_yes_Doksan/DA/dataset/phone_input_data.csv\")\n",
    "test_df = test.execute()\n",
    "test_df.head(3)"
   ]
  },
  {
   "cell_type": "code",
   "execution_count": 20,
   "metadata": {},
   "outputs": [
    {
     "data": {
      "text/html": [
       "<div>\n",
       "<style scoped>\n",
       "    .dataframe tbody tr th:only-of-type {\n",
       "        vertical-align: middle;\n",
       "    }\n",
       "\n",
       "    .dataframe tbody tr th {\n",
       "        vertical-align: top;\n",
       "    }\n",
       "\n",
       "    .dataframe thead th {\n",
       "        text-align: right;\n",
       "    }\n",
       "</style>\n",
       "<table border=\"1\" class=\"dataframe\">\n",
       "  <thead>\n",
       "    <tr style=\"text-align: right;\">\n",
       "      <th></th>\n",
       "      <th>release_year</th>\n",
       "      <th>used_year</th>\n",
       "    </tr>\n",
       "  </thead>\n",
       "  <tbody>\n",
       "  </tbody>\n",
       "</table>\n",
       "</div>"
      ],
      "text/plain": [
       "Empty DataFrame\n",
       "Columns: [release_year, used_year]\n",
       "Index: []"
      ]
     },
     "execution_count": 20,
     "metadata": {},
     "output_type": "execute_result"
    }
   ],
   "source": [
    "test_df.loc[test_df['used_year'].isna(), ['release_year', 'used_year']]"
   ]
  },
  {
   "cell_type": "code",
   "execution_count": 22,
   "metadata": {},
   "outputs": [
    {
     "data": {
      "text/plain": [
       "array([3., 1., 0., 2., 4.])"
      ]
     },
     "execution_count": 22,
     "metadata": {},
     "output_type": "execute_result"
    }
   ],
   "source": [
    "test_df['used_year'].unique()"
   ]
  },
  {
   "cell_type": "code",
   "execution_count": 42,
   "metadata": {},
   "outputs": [
    {
     "data": {
      "text/html": [
       "<div>\n",
       "<style scoped>\n",
       "    .dataframe tbody tr th:only-of-type {\n",
       "        vertical-align: middle;\n",
       "    }\n",
       "\n",
       "    .dataframe tbody tr th {\n",
       "        vertical-align: top;\n",
       "    }\n",
       "\n",
       "    .dataframe thead th {\n",
       "        text-align: right;\n",
       "    }\n",
       "</style>\n",
       "<table border=\"1\" class=\"dataframe\">\n",
       "  <thead>\n",
       "    <tr style=\"text-align: right;\">\n",
       "      <th></th>\n",
       "      <th>product_name</th>\n",
       "      <th>capacity</th>\n",
       "    </tr>\n",
       "  </thead>\n",
       "  <tbody>\n",
       "  </tbody>\n",
       "</table>\n",
       "</div>"
      ],
      "text/plain": [
       "Empty DataFrame\n",
       "Columns: [product_name, capacity]\n",
       "Index: []"
      ]
     },
     "execution_count": 42,
     "metadata": {},
     "output_type": "execute_result"
    }
   ],
   "source": [
    "test_df.loc[test_df['release_year'].isna(), ['product_name', 'capacity']]"
   ]
  },
  {
   "cell_type": "code",
   "execution_count": 5,
   "metadata": {},
   "outputs": [
    {
     "data": {
      "text/plain": [
       "array([2., 3., 4., 5.])"
      ]
     },
     "execution_count": 5,
     "metadata": {},
     "output_type": "execute_result"
    }
   ],
   "source": [
    "test_df['quality'].unique()"
   ]
  },
  {
   "cell_type": "code",
   "execution_count": 6,
   "metadata": {},
   "outputs": [
    {
     "name": "stdout",
     "output_type": "stream",
     "text": [
      "<class 'pandas.core.frame.DataFrame'>\n",
      "Int64Index: 9329 entries, 8137 to 11048\n",
      "Data columns (total 21 columns):\n",
      " #   Column                Non-Null Count  Dtype  \n",
      "---  ------                --------------  -----  \n",
      " 0   price                 9329 non-null   int64  \n",
      " 1   quality               9329 non-null   float64\n",
      " 2   favoritecount         9329 non-null   float64\n",
      " 3   viewcount             9329 non-null   float64\n",
      " 4   product_name          9329 non-null   object \n",
      " 5   screen_size           9329 non-null   float64\n",
      " 6   cost                  9329 non-null   object \n",
      " 7   capacity              9329 non-null   int32  \n",
      " 8   ram                   9329 non-null   float64\n",
      " 9   weight                9329 non-null   float64\n",
      " 10  back_camera_number_1  9329 non-null   float64\n",
      " 11  back_camera_number_2  9329 non-null   float64\n",
      " 12  back_camera_number_3  9329 non-null   float64\n",
      " 13  back_camera_1         9329 non-null   object \n",
      " 14  back_camera_2         9329 non-null   object \n",
      " 15  back_camera_3         9329 non-null   object \n",
      " 16  Max_video_playtime    9329 non-null   float64\n",
      " 17  Max_audio_playtime    9329 non-null   float64\n",
      " 18  battery_capacity      9329 non-null   object \n",
      " 19  hours                 9329 non-null   float64\n",
      " 20  used_year             9329 non-null   float64\n",
      "dtypes: float64(13), int32(1), int64(1), object(6)\n",
      "memory usage: 1.5+ MB\n"
     ]
    }
   ],
   "source": [
    "test_df.info()"
   ]
  },
  {
   "cell_type": "code",
   "execution_count": 35,
   "metadata": {},
   "outputs": [
    {
     "name": "stdout",
     "output_type": "stream",
     "text": [
      "<class 'pandas.core.frame.DataFrame'>\n",
      "RangeIndex: 89 entries, 0 to 88\n",
      "Data columns (total 16 columns):\n",
      " #   Column                Non-Null Count  Dtype  \n",
      "---  ------                --------------  -----  \n",
      " 0   product               89 non-null     object \n",
      " 1   release_year          89 non-null     int64  \n",
      " 2   screen_size           89 non-null     float64\n",
      " 3   weight                89 non-null     float64\n",
      " 4   back_camera_1         89 non-null     object \n",
      " 5   back_camera_number_1  89 non-null     int64  \n",
      " 6   back_camera_2         89 non-null     object \n",
      " 7   back_camera_number_2  89 non-null     int64  \n",
      " 8   back_camera_3         89 non-null     object \n",
      " 9   back_camera_number_3  89 non-null     int64  \n",
      " 10  Max_video_playtime    89 non-null     int64  \n",
      " 11  Max_audio_playtime    89 non-null     int64  \n",
      " 12  battery_capacity      89 non-null     object \n",
      " 13  ram                   89 non-null     int64  \n",
      " 14  capacity              89 non-null     int64  \n",
      " 15  cost                  89 non-null     object \n",
      "dtypes: float64(2), int64(8), object(6)\n",
      "memory usage: 11.2+ KB\n"
     ]
    }
   ],
   "source": [
    "import pandas as pd\n",
    "import numpy as np\n",
    "p_info = pd.read_csv(\"C:/Python_practice/DL_project/final_project/no_Yongsan_yes_Doksan/DA/dataset/phone_info_v2.csv\")\n",
    "p_info.info()"
   ]
  },
  {
   "attachments": {},
   "cell_type": "markdown",
   "metadata": {},
   "source": [
    "## 전처리 파일 2차 실행 (스케일링 전)"
   ]
  },
  {
   "cell_type": "code",
   "execution_count": 1,
   "metadata": {},
   "outputs": [
    {
     "data": {
      "text/html": [
       "<div>\n",
       "<style scoped>\n",
       "    .dataframe tbody tr th:only-of-type {\n",
       "        vertical-align: middle;\n",
       "    }\n",
       "\n",
       "    .dataframe tbody tr th {\n",
       "        vertical-align: top;\n",
       "    }\n",
       "\n",
       "    .dataframe thead th {\n",
       "        text-align: right;\n",
       "    }\n",
       "</style>\n",
       "<table border=\"1\" class=\"dataframe\">\n",
       "  <thead>\n",
       "    <tr style=\"text-align: right;\">\n",
       "      <th></th>\n",
       "      <th>price</th>\n",
       "      <th>quality</th>\n",
       "      <th>favoritecount</th>\n",
       "      <th>viewcount</th>\n",
       "      <th>product_name</th>\n",
       "      <th>screen_size</th>\n",
       "      <th>cost</th>\n",
       "      <th>capacity</th>\n",
       "      <th>ram</th>\n",
       "      <th>weight</th>\n",
       "      <th>...</th>\n",
       "      <th>back_camera_number_2</th>\n",
       "      <th>back_camera_number_3</th>\n",
       "      <th>back_camera_1</th>\n",
       "      <th>back_camera_2</th>\n",
       "      <th>back_camera_3</th>\n",
       "      <th>Max_video_playtime</th>\n",
       "      <th>Max_audio_playtime</th>\n",
       "      <th>battery_capacity</th>\n",
       "      <th>hours</th>\n",
       "      <th>used_year</th>\n",
       "    </tr>\n",
       "  </thead>\n",
       "  <tbody>\n",
       "    <tr>\n",
       "      <th>8137</th>\n",
       "      <td>450000</td>\n",
       "      <td>2.0</td>\n",
       "      <td>0.0</td>\n",
       "      <td>0.000000</td>\n",
       "      <td>아이폰 12 Mini</td>\n",
       "      <td>13.70</td>\n",
       "      <td>1160000</td>\n",
       "      <td>256</td>\n",
       "      <td>4</td>\n",
       "      <td>0.133</td>\n",
       "      <td>...</td>\n",
       "      <td>0</td>\n",
       "      <td>0</td>\n",
       "      <td>1200</td>\n",
       "      <td>0</td>\n",
       "      <td>0</td>\n",
       "      <td>10</td>\n",
       "      <td>50</td>\n",
       "      <td>2227</td>\n",
       "      <td>0.016667</td>\n",
       "      <td>3.0</td>\n",
       "    </tr>\n",
       "    <tr>\n",
       "      <th>9748</th>\n",
       "      <td>970000</td>\n",
       "      <td>2.0</td>\n",
       "      <td>0.0</td>\n",
       "      <td>0.000000</td>\n",
       "      <td>갤럭시 Z 폴드4</td>\n",
       "      <td>19.21</td>\n",
       "      <td>1998700</td>\n",
       "      <td>256</td>\n",
       "      <td>12</td>\n",
       "      <td>0.263</td>\n",
       "      <td>...</td>\n",
       "      <td>1</td>\n",
       "      <td>1</td>\n",
       "      <td>1200</td>\n",
       "      <td>5000</td>\n",
       "      <td>1000</td>\n",
       "      <td>20</td>\n",
       "      <td>72</td>\n",
       "      <td>4400</td>\n",
       "      <td>0.016667</td>\n",
       "      <td>1.0</td>\n",
       "    </tr>\n",
       "    <tr>\n",
       "      <th>21572</th>\n",
       "      <td>530000</td>\n",
       "      <td>3.0</td>\n",
       "      <td>0.0</td>\n",
       "      <td>0.000308</td>\n",
       "      <td>아이폰 12</td>\n",
       "      <td>15.40</td>\n",
       "      <td>1020000</td>\n",
       "      <td>128</td>\n",
       "      <td>4</td>\n",
       "      <td>0.162</td>\n",
       "      <td>...</td>\n",
       "      <td>0</td>\n",
       "      <td>0</td>\n",
       "      <td>1200</td>\n",
       "      <td>0</td>\n",
       "      <td>0</td>\n",
       "      <td>11</td>\n",
       "      <td>65</td>\n",
       "      <td>2815</td>\n",
       "      <td>0.016667</td>\n",
       "      <td>3.0</td>\n",
       "    </tr>\n",
       "    <tr>\n",
       "      <th>19929</th>\n",
       "      <td>950000</td>\n",
       "      <td>4.0</td>\n",
       "      <td>0.0</td>\n",
       "      <td>0.000002</td>\n",
       "      <td>갤럭시 S 23 플러스</td>\n",
       "      <td>16.65</td>\n",
       "      <td>1353000</td>\n",
       "      <td>256</td>\n",
       "      <td>8</td>\n",
       "      <td>0.195</td>\n",
       "      <td>...</td>\n",
       "      <td>1</td>\n",
       "      <td>1</td>\n",
       "      <td>1200</td>\n",
       "      <td>1000</td>\n",
       "      <td>5000</td>\n",
       "      <td>27</td>\n",
       "      <td>84</td>\n",
       "      <td>4700</td>\n",
       "      <td>0.033333</td>\n",
       "      <td>0.0</td>\n",
       "    </tr>\n",
       "    <tr>\n",
       "      <th>22773</th>\n",
       "      <td>560000</td>\n",
       "      <td>3.0</td>\n",
       "      <td>0.0</td>\n",
       "      <td>0.000217</td>\n",
       "      <td>아이폰 13 Mini</td>\n",
       "      <td>13.70</td>\n",
       "      <td>950000</td>\n",
       "      <td>128</td>\n",
       "      <td>4</td>\n",
       "      <td>0.140</td>\n",
       "      <td>...</td>\n",
       "      <td>0</td>\n",
       "      <td>0</td>\n",
       "      <td>1200</td>\n",
       "      <td>0</td>\n",
       "      <td>0</td>\n",
       "      <td>13</td>\n",
       "      <td>55</td>\n",
       "      <td>2406</td>\n",
       "      <td>0.050000</td>\n",
       "      <td>2.0</td>\n",
       "    </tr>\n",
       "    <tr>\n",
       "      <th>...</th>\n",
       "      <td>...</td>\n",
       "      <td>...</td>\n",
       "      <td>...</td>\n",
       "      <td>...</td>\n",
       "      <td>...</td>\n",
       "      <td>...</td>\n",
       "      <td>...</td>\n",
       "      <td>...</td>\n",
       "      <td>...</td>\n",
       "      <td>...</td>\n",
       "      <td>...</td>\n",
       "      <td>...</td>\n",
       "      <td>...</td>\n",
       "      <td>...</td>\n",
       "      <td>...</td>\n",
       "      <td>...</td>\n",
       "      <td>...</td>\n",
       "      <td>...</td>\n",
       "      <td>...</td>\n",
       "      <td>...</td>\n",
       "      <td>...</td>\n",
       "    </tr>\n",
       "    <tr>\n",
       "      <th>11023</th>\n",
       "      <td>750000</td>\n",
       "      <td>4.0</td>\n",
       "      <td>0.0</td>\n",
       "      <td>0.000053</td>\n",
       "      <td>갤럭시 Z 폴드2</td>\n",
       "      <td>19.30</td>\n",
       "      <td>2398000</td>\n",
       "      <td>256</td>\n",
       "      <td>12</td>\n",
       "      <td>0.282</td>\n",
       "      <td>...</td>\n",
       "      <td>0</td>\n",
       "      <td>0</td>\n",
       "      <td>1200</td>\n",
       "      <td>0</td>\n",
       "      <td>0</td>\n",
       "      <td>18</td>\n",
       "      <td>83</td>\n",
       "      <td>4500</td>\n",
       "      <td>7920.000000</td>\n",
       "      <td>3.0</td>\n",
       "    </tr>\n",
       "    <tr>\n",
       "      <th>9744</th>\n",
       "      <td>750000</td>\n",
       "      <td>2.0</td>\n",
       "      <td>0.0</td>\n",
       "      <td>0.000161</td>\n",
       "      <td>갤럭시 Z 폴드2</td>\n",
       "      <td>19.30</td>\n",
       "      <td>2398000</td>\n",
       "      <td>256</td>\n",
       "      <td>12</td>\n",
       "      <td>0.282</td>\n",
       "      <td>...</td>\n",
       "      <td>0</td>\n",
       "      <td>0</td>\n",
       "      <td>1200</td>\n",
       "      <td>0</td>\n",
       "      <td>0</td>\n",
       "      <td>18</td>\n",
       "      <td>83</td>\n",
       "      <td>4500</td>\n",
       "      <td>8640.000000</td>\n",
       "      <td>3.0</td>\n",
       "    </tr>\n",
       "    <tr>\n",
       "      <th>12807</th>\n",
       "      <td>1050000</td>\n",
       "      <td>2.0</td>\n",
       "      <td>0.0</td>\n",
       "      <td>0.000308</td>\n",
       "      <td>갤럭시 Z 폴드2</td>\n",
       "      <td>19.30</td>\n",
       "      <td>2398000</td>\n",
       "      <td>256</td>\n",
       "      <td>12</td>\n",
       "      <td>0.282</td>\n",
       "      <td>...</td>\n",
       "      <td>0</td>\n",
       "      <td>0</td>\n",
       "      <td>1200</td>\n",
       "      <td>0</td>\n",
       "      <td>0</td>\n",
       "      <td>18</td>\n",
       "      <td>83</td>\n",
       "      <td>4500</td>\n",
       "      <td>8640.000000</td>\n",
       "      <td>3.0</td>\n",
       "    </tr>\n",
       "    <tr>\n",
       "      <th>12796</th>\n",
       "      <td>1200000</td>\n",
       "      <td>2.0</td>\n",
       "      <td>0.0</td>\n",
       "      <td>0.000092</td>\n",
       "      <td>갤럭시 Z 폴드3</td>\n",
       "      <td>19.19</td>\n",
       "      <td>1998700</td>\n",
       "      <td>256</td>\n",
       "      <td>12</td>\n",
       "      <td>0.271</td>\n",
       "      <td>...</td>\n",
       "      <td>0</td>\n",
       "      <td>0</td>\n",
       "      <td>1200</td>\n",
       "      <td>0</td>\n",
       "      <td>0</td>\n",
       "      <td>18</td>\n",
       "      <td>63</td>\n",
       "      <td>4400</td>\n",
       "      <td>8640.000000</td>\n",
       "      <td>2.0</td>\n",
       "    </tr>\n",
       "    <tr>\n",
       "      <th>11048</th>\n",
       "      <td>1100000</td>\n",
       "      <td>3.0</td>\n",
       "      <td>0.0</td>\n",
       "      <td>0.000078</td>\n",
       "      <td>갤럭시 Z 폴드3</td>\n",
       "      <td>19.19</td>\n",
       "      <td>1998700</td>\n",
       "      <td>256</td>\n",
       "      <td>12</td>\n",
       "      <td>0.271</td>\n",
       "      <td>...</td>\n",
       "      <td>0</td>\n",
       "      <td>0</td>\n",
       "      <td>1200</td>\n",
       "      <td>0</td>\n",
       "      <td>0</td>\n",
       "      <td>18</td>\n",
       "      <td>63</td>\n",
       "      <td>4400</td>\n",
       "      <td>8640.000000</td>\n",
       "      <td>2.0</td>\n",
       "    </tr>\n",
       "  </tbody>\n",
       "</table>\n",
       "<p>9329 rows × 21 columns</p>\n",
       "</div>"
      ],
      "text/plain": [
       "         price  quality  favoritecount  viewcount  product_name  screen_size  \\\n",
       "8137    450000      2.0            0.0   0.000000   아이폰 12 Mini        13.70   \n",
       "9748    970000      2.0            0.0   0.000000     갤럭시 Z 폴드4        19.21   \n",
       "21572   530000      3.0            0.0   0.000308        아이폰 12        15.40   \n",
       "19929   950000      4.0            0.0   0.000002  갤럭시 S 23 플러스        16.65   \n",
       "22773   560000      3.0            0.0   0.000217   아이폰 13 Mini        13.70   \n",
       "...        ...      ...            ...        ...           ...          ...   \n",
       "11023   750000      4.0            0.0   0.000053     갤럭시 Z 폴드2        19.30   \n",
       "9744    750000      2.0            0.0   0.000161     갤럭시 Z 폴드2        19.30   \n",
       "12807  1050000      2.0            0.0   0.000308     갤럭시 Z 폴드2        19.30   \n",
       "12796  1200000      2.0            0.0   0.000092     갤럭시 Z 폴드3        19.19   \n",
       "11048  1100000      3.0            0.0   0.000078     갤럭시 Z 폴드3        19.19   \n",
       "\n",
       "          cost  capacity  ram  weight  ...  back_camera_number_2  \\\n",
       "8137   1160000       256    4   0.133  ...                     0   \n",
       "9748   1998700       256   12   0.263  ...                     1   \n",
       "21572  1020000       128    4   0.162  ...                     0   \n",
       "19929  1353000       256    8   0.195  ...                     1   \n",
       "22773   950000       128    4   0.140  ...                     0   \n",
       "...        ...       ...  ...     ...  ...                   ...   \n",
       "11023  2398000       256   12   0.282  ...                     0   \n",
       "9744   2398000       256   12   0.282  ...                     0   \n",
       "12807  2398000       256   12   0.282  ...                     0   \n",
       "12796  1998700       256   12   0.271  ...                     0   \n",
       "11048  1998700       256   12   0.271  ...                     0   \n",
       "\n",
       "       back_camera_number_3  back_camera_1  back_camera_2  back_camera_3  \\\n",
       "8137                      0           1200              0              0   \n",
       "9748                      1           1200           5000           1000   \n",
       "21572                     0           1200              0              0   \n",
       "19929                     1           1200           1000           5000   \n",
       "22773                     0           1200              0              0   \n",
       "...                     ...            ...            ...            ...   \n",
       "11023                     0           1200              0              0   \n",
       "9744                      0           1200              0              0   \n",
       "12807                     0           1200              0              0   \n",
       "12796                     0           1200              0              0   \n",
       "11048                     0           1200              0              0   \n",
       "\n",
       "       Max_video_playtime  Max_audio_playtime  battery_capacity        hours  \\\n",
       "8137                   10                  50              2227     0.016667   \n",
       "9748                   20                  72              4400     0.016667   \n",
       "21572                  11                  65              2815     0.016667   \n",
       "19929                  27                  84              4700     0.033333   \n",
       "22773                  13                  55              2406     0.050000   \n",
       "...                   ...                 ...               ...          ...   \n",
       "11023                  18                  83              4500  7920.000000   \n",
       "9744                   18                  83              4500  8640.000000   \n",
       "12807                  18                  83              4500  8640.000000   \n",
       "12796                  18                  63              4400  8640.000000   \n",
       "11048                  18                  63              4400  8640.000000   \n",
       "\n",
       "       used_year  \n",
       "8137         3.0  \n",
       "9748         1.0  \n",
       "21572        3.0  \n",
       "19929        0.0  \n",
       "22773        2.0  \n",
       "...          ...  \n",
       "11023        3.0  \n",
       "9744         3.0  \n",
       "12807        3.0  \n",
       "12796        2.0  \n",
       "11048        2.0  \n",
       "\n",
       "[9329 rows x 21 columns]"
      ]
     },
     "execution_count": 1,
     "metadata": {},
     "output_type": "execute_result"
    }
   ],
   "source": [
    "from phone_CrawlingDataPreprocessor import DataPreprocessor\n",
    "prepro = DataPreprocessor(\"C:/Python_practice/DL_project/final_project/no_Yongsan_yes_Doksan/DA/dataset/phone_input_data.csv\")\n",
    "prepro_df = prepro.execute()\n",
    "prepro_df"
   ]
  },
  {
   "cell_type": "code",
   "execution_count": 7,
   "metadata": {},
   "outputs": [
    {
     "name": "stdout",
     "output_type": "stream",
     "text": [
      "<class 'pandas.core.frame.DataFrame'>\n",
      "Int64Index: 9329 entries, 8137 to 11048\n",
      "Data columns (total 21 columns):\n",
      " #   Column                Non-Null Count  Dtype  \n",
      "---  ------                --------------  -----  \n",
      " 0   price                 9329 non-null   int64  \n",
      " 1   quality               9329 non-null   float64\n",
      " 2   favoritecount         9329 non-null   float64\n",
      " 3   viewcount             9329 non-null   float64\n",
      " 4   product_name          9329 non-null   object \n",
      " 5   screen_size           9329 non-null   float64\n",
      " 6   cost                  9329 non-null   int32  \n",
      " 7   capacity              9329 non-null   int32  \n",
      " 8   ram                   9329 non-null   int32  \n",
      " 9   weight                9329 non-null   float64\n",
      " 10  back_camera_number_1  9329 non-null   int32  \n",
      " 11  back_camera_number_2  9329 non-null   int32  \n",
      " 12  back_camera_number_3  9329 non-null   int32  \n",
      " 13  back_camera_1         9329 non-null   int32  \n",
      " 14  back_camera_2         9329 non-null   int32  \n",
      " 15  back_camera_3         9329 non-null   int32  \n",
      " 16  Max_video_playtime    9329 non-null   int32  \n",
      " 17  Max_audio_playtime    9329 non-null   int32  \n",
      " 18  battery_capacity      9329 non-null   int32  \n",
      " 19  hours                 9329 non-null   float64\n",
      " 20  used_year             9329 non-null   float64\n",
      "dtypes: float64(7), int32(12), int64(1), object(1)\n",
      "memory usage: 1.1+ MB\n"
     ]
    }
   ],
   "source": [
    "# 타입 수정 후\n",
    "prepro_df.info()"
   ]
  },
  {
   "cell_type": "code",
   "execution_count": 2,
   "metadata": {},
   "outputs": [
    {
     "name": "stdout",
     "output_type": "stream",
     "text": [
      "<class 'pandas.core.frame.DataFrame'>\n",
      "Int64Index: 9329 entries, 8137 to 11048\n",
      "Data columns (total 21 columns):\n",
      " #   Column                Non-Null Count  Dtype  \n",
      "---  ------                --------------  -----  \n",
      " 0   price                 9329 non-null   int64  \n",
      " 1   quality               9329 non-null   float64\n",
      " 2   favoritecount         9329 non-null   float64\n",
      " 3   viewcount             9329 non-null   float64\n",
      " 4   product_name          9329 non-null   object \n",
      " 5   screen_size           9329 non-null   float64\n",
      " 6   cost                  9329 non-null   object \n",
      " 7   capacity              9329 non-null   int32  \n",
      " 8   ram                   9329 non-null   float64\n",
      " 9   weight                9329 non-null   float64\n",
      " 10  back_camera_number_1  9329 non-null   float64\n",
      " 11  back_camera_number_2  9329 non-null   float64\n",
      " 12  back_camera_number_3  9329 non-null   float64\n",
      " 13  back_camera_1         9329 non-null   object \n",
      " 14  back_camera_2         9329 non-null   object \n",
      " 15  back_camera_3         9329 non-null   object \n",
      " 16  Max_video_playtime    9329 non-null   float64\n",
      " 17  Max_audio_playtime    9329 non-null   float64\n",
      " 18  battery_capacity      9329 non-null   object \n",
      " 19  hours                 9329 non-null   float64\n",
      " 20  used_year             9329 non-null   float64\n",
      "dtypes: float64(13), int32(1), int64(1), object(6)\n",
      "memory usage: 1.5+ MB\n"
     ]
    }
   ],
   "source": [
    "# 타입 수정 전\n",
    "prepro_df.info()"
   ]
  },
  {
   "attachments": {},
   "cell_type": "markdown",
   "metadata": {},
   "source": [
    "## 스케일링 py 파일 실행 점검"
   ]
  },
  {
   "cell_type": "code",
   "execution_count": 8,
   "metadata": {},
   "outputs": [
    {
     "data": {
      "text/html": [
       "<div>\n",
       "<style scoped>\n",
       "    .dataframe tbody tr th:only-of-type {\n",
       "        vertical-align: middle;\n",
       "    }\n",
       "\n",
       "    .dataframe tbody tr th {\n",
       "        vertical-align: top;\n",
       "    }\n",
       "\n",
       "    .dataframe thead th {\n",
       "        text-align: right;\n",
       "    }\n",
       "</style>\n",
       "<table border=\"1\" class=\"dataframe\">\n",
       "  <thead>\n",
       "    <tr style=\"text-align: right;\">\n",
       "      <th></th>\n",
       "      <th>price</th>\n",
       "      <th>quality</th>\n",
       "      <th>favoritecount</th>\n",
       "      <th>viewcount</th>\n",
       "      <th>screen_size</th>\n",
       "      <th>cost</th>\n",
       "      <th>capacity</th>\n",
       "      <th>ram</th>\n",
       "      <th>weight</th>\n",
       "      <th>back_camera_number_1</th>\n",
       "      <th>back_camera_number_2</th>\n",
       "      <th>back_camera_number_3</th>\n",
       "      <th>back_camera_1</th>\n",
       "      <th>back_camera_2</th>\n",
       "      <th>back_camera_3</th>\n",
       "      <th>Max_video_playtime</th>\n",
       "      <th>Max_audio_playtime</th>\n",
       "      <th>battery_capacity</th>\n",
       "      <th>hours</th>\n",
       "      <th>used_year</th>\n",
       "    </tr>\n",
       "  </thead>\n",
       "  <tbody>\n",
       "    <tr>\n",
       "      <th>8137</th>\n",
       "      <td>450000</td>\n",
       "      <td>0.693147</td>\n",
       "      <td>0.0</td>\n",
       "      <td>0.000000</td>\n",
       "      <td>0.291289</td>\n",
       "      <td>0.429971</td>\n",
       "      <td>0.504314</td>\n",
       "      <td>0.171856</td>\n",
       "      <td>0.000000</td>\n",
       "      <td>0.63093</td>\n",
       "      <td>0.000000</td>\n",
       "      <td>0.0</td>\n",
       "      <td>0.0</td>\n",
       "      <td>0.000000</td>\n",
       "      <td>0.000000</td>\n",
       "      <td>0.183447</td>\n",
       "      <td>0.574961</td>\n",
       "      <td>0.199267</td>\n",
       "      <td>0.000000</td>\n",
       "      <td>0.792481</td>\n",
       "    </tr>\n",
       "    <tr>\n",
       "      <th>9748</th>\n",
       "      <td>970000</td>\n",
       "      <td>0.693147</td>\n",
       "      <td>0.0</td>\n",
       "      <td>0.000000</td>\n",
       "      <td>0.990334</td>\n",
       "      <td>0.833867</td>\n",
       "      <td>0.504314</td>\n",
       "      <td>0.828144</td>\n",
       "      <td>0.907189</td>\n",
       "      <td>0.00000</td>\n",
       "      <td>0.908879</td>\n",
       "      <td>1.0</td>\n",
       "      <td>0.0</td>\n",
       "      <td>0.952448</td>\n",
       "      <td>0.821802</td>\n",
       "      <td>0.753284</td>\n",
       "      <td>0.769301</td>\n",
       "      <td>0.873439</td>\n",
       "      <td>0.000000</td>\n",
       "      <td>0.000000</td>\n",
       "    </tr>\n",
       "    <tr>\n",
       "      <th>21572</th>\n",
       "      <td>530000</td>\n",
       "      <td>1.098612</td>\n",
       "      <td>0.0</td>\n",
       "      <td>0.052656</td>\n",
       "      <td>0.533182</td>\n",
       "      <td>0.334492</td>\n",
       "      <td>0.252157</td>\n",
       "      <td>0.171856</td>\n",
       "      <td>0.262451</td>\n",
       "      <td>0.63093</td>\n",
       "      <td>0.000000</td>\n",
       "      <td>0.0</td>\n",
       "      <td>0.0</td>\n",
       "      <td>0.000000</td>\n",
       "      <td>0.000000</td>\n",
       "      <td>0.261801</td>\n",
       "      <td>0.714791</td>\n",
       "      <td>0.431242</td>\n",
       "      <td>0.000000</td>\n",
       "      <td>0.792481</td>\n",
       "    </tr>\n",
       "    <tr>\n",
       "      <th>19929</th>\n",
       "      <td>950000</td>\n",
       "      <td>1.386294</td>\n",
       "      <td>0.0</td>\n",
       "      <td>0.000338</td>\n",
       "      <td>0.694572</td>\n",
       "      <td>0.544222</td>\n",
       "      <td>0.504314</td>\n",
       "      <td>0.585928</td>\n",
       "      <td>0.509143</td>\n",
       "      <td>0.00000</td>\n",
       "      <td>0.908879</td>\n",
       "      <td>1.0</td>\n",
       "      <td>0.0</td>\n",
       "      <td>0.853070</td>\n",
       "      <td>0.917538</td>\n",
       "      <td>1.000000</td>\n",
       "      <td>0.851457</td>\n",
       "      <td>0.938740</td>\n",
       "      <td>0.052677</td>\n",
       "      <td>NaN</td>\n",
       "    </tr>\n",
       "    <tr>\n",
       "      <th>22773</th>\n",
       "      <td>560000</td>\n",
       "      <td>1.098612</td>\n",
       "      <td>0.0</td>\n",
       "      <td>0.038424</td>\n",
       "      <td>0.291289</td>\n",
       "      <td>0.281714</td>\n",
       "      <td>0.252157</td>\n",
       "      <td>0.171856</td>\n",
       "      <td>0.068249</td>\n",
       "      <td>0.63093</td>\n",
       "      <td>0.000000</td>\n",
       "      <td>0.0</td>\n",
       "      <td>0.0</td>\n",
       "      <td>0.000000</td>\n",
       "      <td>0.000000</td>\n",
       "      <td>0.399137</td>\n",
       "      <td>0.625758</td>\n",
       "      <td>0.275807</td>\n",
       "      <td>0.083491</td>\n",
       "      <td>0.500000</td>\n",
       "    </tr>\n",
       "    <tr>\n",
       "      <th>...</th>\n",
       "      <td>...</td>\n",
       "      <td>...</td>\n",
       "      <td>...</td>\n",
       "      <td>...</td>\n",
       "      <td>...</td>\n",
       "      <td>...</td>\n",
       "      <td>...</td>\n",
       "      <td>...</td>\n",
       "      <td>...</td>\n",
       "      <td>...</td>\n",
       "      <td>...</td>\n",
       "      <td>...</td>\n",
       "      <td>...</td>\n",
       "      <td>...</td>\n",
       "      <td>...</td>\n",
       "      <td>...</td>\n",
       "      <td>...</td>\n",
       "      <td>...</td>\n",
       "      <td>...</td>\n",
       "      <td>...</td>\n",
       "    </tr>\n",
       "    <tr>\n",
       "      <th>11023</th>\n",
       "      <td>750000</td>\n",
       "      <td>1.386294</td>\n",
       "      <td>0.0</td>\n",
       "      <td>0.010130</td>\n",
       "      <td>1.000000</td>\n",
       "      <td>0.969077</td>\n",
       "      <td>0.504314</td>\n",
       "      <td>0.828144</td>\n",
       "      <td>1.000000</td>\n",
       "      <td>1.00000</td>\n",
       "      <td>0.000000</td>\n",
       "      <td>0.0</td>\n",
       "      <td>0.0</td>\n",
       "      <td>0.000000</td>\n",
       "      <td>0.000000</td>\n",
       "      <td>0.666667</td>\n",
       "      <td>0.845074</td>\n",
       "      <td>0.895688</td>\n",
       "      <td>0.993387</td>\n",
       "      <td>0.792481</td>\n",
       "    </tr>\n",
       "    <tr>\n",
       "      <th>9744</th>\n",
       "      <td>750000</td>\n",
       "      <td>0.693147</td>\n",
       "      <td>0.0</td>\n",
       "      <td>0.029286</td>\n",
       "      <td>1.000000</td>\n",
       "      <td>0.969077</td>\n",
       "      <td>0.504314</td>\n",
       "      <td>0.828144</td>\n",
       "      <td>1.000000</td>\n",
       "      <td>1.00000</td>\n",
       "      <td>0.000000</td>\n",
       "      <td>0.0</td>\n",
       "      <td>0.0</td>\n",
       "      <td>0.000000</td>\n",
       "      <td>0.000000</td>\n",
       "      <td>0.666667</td>\n",
       "      <td>0.845074</td>\n",
       "      <td>0.895688</td>\n",
       "      <td>1.000000</td>\n",
       "      <td>0.792481</td>\n",
       "    </tr>\n",
       "    <tr>\n",
       "      <th>12807</th>\n",
       "      <td>1050000</td>\n",
       "      <td>0.693147</td>\n",
       "      <td>0.0</td>\n",
       "      <td>0.052630</td>\n",
       "      <td>1.000000</td>\n",
       "      <td>0.969077</td>\n",
       "      <td>0.504314</td>\n",
       "      <td>0.828144</td>\n",
       "      <td>1.000000</td>\n",
       "      <td>1.00000</td>\n",
       "      <td>0.000000</td>\n",
       "      <td>0.0</td>\n",
       "      <td>0.0</td>\n",
       "      <td>0.000000</td>\n",
       "      <td>0.000000</td>\n",
       "      <td>0.666667</td>\n",
       "      <td>0.845074</td>\n",
       "      <td>0.895688</td>\n",
       "      <td>1.000000</td>\n",
       "      <td>0.792481</td>\n",
       "    </tr>\n",
       "    <tr>\n",
       "      <th>12796</th>\n",
       "      <td>1200000</td>\n",
       "      <td>0.693147</td>\n",
       "      <td>0.0</td>\n",
       "      <td>0.017214</td>\n",
       "      <td>0.988180</td>\n",
       "      <td>0.833867</td>\n",
       "      <td>0.504314</td>\n",
       "      <td>0.828144</td>\n",
       "      <td>0.947059</td>\n",
       "      <td>1.00000</td>\n",
       "      <td>0.000000</td>\n",
       "      <td>0.0</td>\n",
       "      <td>0.0</td>\n",
       "      <td>0.000000</td>\n",
       "      <td>0.000000</td>\n",
       "      <td>0.666667</td>\n",
       "      <td>0.698134</td>\n",
       "      <td>0.873439</td>\n",
       "      <td>1.000000</td>\n",
       "      <td>0.500000</td>\n",
       "    </tr>\n",
       "    <tr>\n",
       "      <th>11048</th>\n",
       "      <td>1100000</td>\n",
       "      <td>1.098612</td>\n",
       "      <td>0.0</td>\n",
       "      <td>0.014634</td>\n",
       "      <td>0.988180</td>\n",
       "      <td>0.833867</td>\n",
       "      <td>0.504314</td>\n",
       "      <td>0.828144</td>\n",
       "      <td>0.947059</td>\n",
       "      <td>1.00000</td>\n",
       "      <td>0.000000</td>\n",
       "      <td>0.0</td>\n",
       "      <td>0.0</td>\n",
       "      <td>0.000000</td>\n",
       "      <td>0.000000</td>\n",
       "      <td>0.666667</td>\n",
       "      <td>0.698134</td>\n",
       "      <td>0.873439</td>\n",
       "      <td>1.000000</td>\n",
       "      <td>0.500000</td>\n",
       "    </tr>\n",
       "  </tbody>\n",
       "</table>\n",
       "<p>9329 rows × 20 columns</p>\n",
       "</div>"
      ],
      "text/plain": [
       "         price   quality  favoritecount  viewcount  screen_size      cost  \\\n",
       "8137    450000  0.693147            0.0   0.000000     0.291289  0.429971   \n",
       "9748    970000  0.693147            0.0   0.000000     0.990334  0.833867   \n",
       "21572   530000  1.098612            0.0   0.052656     0.533182  0.334492   \n",
       "19929   950000  1.386294            0.0   0.000338     0.694572  0.544222   \n",
       "22773   560000  1.098612            0.0   0.038424     0.291289  0.281714   \n",
       "...        ...       ...            ...        ...          ...       ...   \n",
       "11023   750000  1.386294            0.0   0.010130     1.000000  0.969077   \n",
       "9744    750000  0.693147            0.0   0.029286     1.000000  0.969077   \n",
       "12807  1050000  0.693147            0.0   0.052630     1.000000  0.969077   \n",
       "12796  1200000  0.693147            0.0   0.017214     0.988180  0.833867   \n",
       "11048  1100000  1.098612            0.0   0.014634     0.988180  0.833867   \n",
       "\n",
       "       capacity       ram    weight  back_camera_number_1  \\\n",
       "8137   0.504314  0.171856  0.000000               0.63093   \n",
       "9748   0.504314  0.828144  0.907189               0.00000   \n",
       "21572  0.252157  0.171856  0.262451               0.63093   \n",
       "19929  0.504314  0.585928  0.509143               0.00000   \n",
       "22773  0.252157  0.171856  0.068249               0.63093   \n",
       "...         ...       ...       ...                   ...   \n",
       "11023  0.504314  0.828144  1.000000               1.00000   \n",
       "9744   0.504314  0.828144  1.000000               1.00000   \n",
       "12807  0.504314  0.828144  1.000000               1.00000   \n",
       "12796  0.504314  0.828144  0.947059               1.00000   \n",
       "11048  0.504314  0.828144  0.947059               1.00000   \n",
       "\n",
       "       back_camera_number_2  back_camera_number_3  back_camera_1  \\\n",
       "8137               0.000000                   0.0            0.0   \n",
       "9748               0.908879                   1.0            0.0   \n",
       "21572              0.000000                   0.0            0.0   \n",
       "19929              0.908879                   1.0            0.0   \n",
       "22773              0.000000                   0.0            0.0   \n",
       "...                     ...                   ...            ...   \n",
       "11023              0.000000                   0.0            0.0   \n",
       "9744               0.000000                   0.0            0.0   \n",
       "12807              0.000000                   0.0            0.0   \n",
       "12796              0.000000                   0.0            0.0   \n",
       "11048              0.000000                   0.0            0.0   \n",
       "\n",
       "       back_camera_2  back_camera_3  Max_video_playtime  Max_audio_playtime  \\\n",
       "8137        0.000000       0.000000            0.183447            0.574961   \n",
       "9748        0.952448       0.821802            0.753284            0.769301   \n",
       "21572       0.000000       0.000000            0.261801            0.714791   \n",
       "19929       0.853070       0.917538            1.000000            0.851457   \n",
       "22773       0.000000       0.000000            0.399137            0.625758   \n",
       "...              ...            ...                 ...                 ...   \n",
       "11023       0.000000       0.000000            0.666667            0.845074   \n",
       "9744        0.000000       0.000000            0.666667            0.845074   \n",
       "12807       0.000000       0.000000            0.666667            0.845074   \n",
       "12796       0.000000       0.000000            0.666667            0.698134   \n",
       "11048       0.000000       0.000000            0.666667            0.698134   \n",
       "\n",
       "       battery_capacity     hours  used_year  \n",
       "8137           0.199267  0.000000   0.792481  \n",
       "9748           0.873439  0.000000   0.000000  \n",
       "21572          0.431242  0.000000   0.792481  \n",
       "19929          0.938740  0.052677        NaN  \n",
       "22773          0.275807  0.083491   0.500000  \n",
       "...                 ...       ...        ...  \n",
       "11023          0.895688  0.993387   0.792481  \n",
       "9744           0.895688  1.000000   0.792481  \n",
       "12807          0.895688  1.000000   0.792481  \n",
       "12796          0.873439  1.000000   0.500000  \n",
       "11048          0.873439  1.000000   0.500000  \n",
       "\n",
       "[9329 rows x 20 columns]"
      ]
     },
     "execution_count": 8,
     "metadata": {},
     "output_type": "execute_result"
    }
   ],
   "source": [
    "from phone_Modeling_Preprocessor import modeling_Preprocessor\n",
    "scaled_df = modeling_Preprocessor(prepro_df)\n",
    "scaled_df"
   ]
  },
  {
   "attachments": {},
   "cell_type": "markdown",
   "metadata": {},
   "source": [
    "## 전처리 파일 최종본 실행"
   ]
  },
  {
   "cell_type": "code",
   "execution_count": 1,
   "metadata": {},
   "outputs": [
    {
     "data": {
      "text/html": [
       "<div>\n",
       "<style scoped>\n",
       "    .dataframe tbody tr th:only-of-type {\n",
       "        vertical-align: middle;\n",
       "    }\n",
       "\n",
       "    .dataframe tbody tr th {\n",
       "        vertical-align: top;\n",
       "    }\n",
       "\n",
       "    .dataframe thead th {\n",
       "        text-align: right;\n",
       "    }\n",
       "</style>\n",
       "<table border=\"1\" class=\"dataframe\">\n",
       "  <thead>\n",
       "    <tr style=\"text-align: right;\">\n",
       "      <th></th>\n",
       "      <th>price</th>\n",
       "      <th>quality</th>\n",
       "      <th>favoritecount</th>\n",
       "      <th>viewcount</th>\n",
       "      <th>screen_size</th>\n",
       "      <th>cost</th>\n",
       "      <th>capacity</th>\n",
       "      <th>ram</th>\n",
       "      <th>weight</th>\n",
       "      <th>back_camera_number_1</th>\n",
       "      <th>back_camera_number_2</th>\n",
       "      <th>back_camera_number_3</th>\n",
       "      <th>back_camera_1</th>\n",
       "      <th>back_camera_2</th>\n",
       "      <th>back_camera_3</th>\n",
       "      <th>Max_video_playtime</th>\n",
       "      <th>Max_audio_playtime</th>\n",
       "      <th>battery_capacity</th>\n",
       "      <th>hours</th>\n",
       "      <th>used_year</th>\n",
       "    </tr>\n",
       "  </thead>\n",
       "  <tbody>\n",
       "    <tr>\n",
       "      <th>8137</th>\n",
       "      <td>450000</td>\n",
       "      <td>0.000000</td>\n",
       "      <td>0.0</td>\n",
       "      <td>0.000000</td>\n",
       "      <td>0.291289</td>\n",
       "      <td>0.429971</td>\n",
       "      <td>0.504314</td>\n",
       "      <td>0.171856</td>\n",
       "      <td>0.000000</td>\n",
       "      <td>0.63093</td>\n",
       "      <td>0.000000</td>\n",
       "      <td>0.0</td>\n",
       "      <td>0.0</td>\n",
       "      <td>0.000000</td>\n",
       "      <td>0.000000</td>\n",
       "      <td>0.183447</td>\n",
       "      <td>0.574961</td>\n",
       "      <td>0.199267</td>\n",
       "      <td>0.000000</td>\n",
       "      <td>0.965326</td>\n",
       "    </tr>\n",
       "    <tr>\n",
       "      <th>9748</th>\n",
       "      <td>970000</td>\n",
       "      <td>0.000000</td>\n",
       "      <td>0.0</td>\n",
       "      <td>0.000000</td>\n",
       "      <td>0.990334</td>\n",
       "      <td>0.833867</td>\n",
       "      <td>0.504314</td>\n",
       "      <td>0.828144</td>\n",
       "      <td>0.907189</td>\n",
       "      <td>0.00000</td>\n",
       "      <td>0.908879</td>\n",
       "      <td>1.0</td>\n",
       "      <td>0.0</td>\n",
       "      <td>0.952448</td>\n",
       "      <td>0.821802</td>\n",
       "      <td>0.753284</td>\n",
       "      <td>0.769301</td>\n",
       "      <td>0.873439</td>\n",
       "      <td>0.000000</td>\n",
       "      <td>0.832952</td>\n",
       "    </tr>\n",
       "    <tr>\n",
       "      <th>21572</th>\n",
       "      <td>530000</td>\n",
       "      <td>0.442507</td>\n",
       "      <td>0.0</td>\n",
       "      <td>0.052656</td>\n",
       "      <td>0.533182</td>\n",
       "      <td>0.334492</td>\n",
       "      <td>0.252157</td>\n",
       "      <td>0.171856</td>\n",
       "      <td>0.262451</td>\n",
       "      <td>0.63093</td>\n",
       "      <td>0.000000</td>\n",
       "      <td>0.0</td>\n",
       "      <td>0.0</td>\n",
       "      <td>0.000000</td>\n",
       "      <td>0.000000</td>\n",
       "      <td>0.261801</td>\n",
       "      <td>0.714791</td>\n",
       "      <td>0.431242</td>\n",
       "      <td>0.000000</td>\n",
       "      <td>0.965326</td>\n",
       "    </tr>\n",
       "    <tr>\n",
       "      <th>19929</th>\n",
       "      <td>950000</td>\n",
       "      <td>0.756471</td>\n",
       "      <td>0.0</td>\n",
       "      <td>0.000338</td>\n",
       "      <td>0.694572</td>\n",
       "      <td>0.544222</td>\n",
       "      <td>0.504314</td>\n",
       "      <td>0.585928</td>\n",
       "      <td>0.509143</td>\n",
       "      <td>0.00000</td>\n",
       "      <td>0.908879</td>\n",
       "      <td>1.0</td>\n",
       "      <td>0.0</td>\n",
       "      <td>0.853070</td>\n",
       "      <td>0.917538</td>\n",
       "      <td>1.000000</td>\n",
       "      <td>0.851457</td>\n",
       "      <td>0.938740</td>\n",
       "      <td>0.052677</td>\n",
       "      <td>0.000000</td>\n",
       "    </tr>\n",
       "    <tr>\n",
       "      <th>22773</th>\n",
       "      <td>560000</td>\n",
       "      <td>0.442507</td>\n",
       "      <td>0.0</td>\n",
       "      <td>0.038424</td>\n",
       "      <td>0.291289</td>\n",
       "      <td>0.281714</td>\n",
       "      <td>0.252157</td>\n",
       "      <td>0.171856</td>\n",
       "      <td>0.068249</td>\n",
       "      <td>0.63093</td>\n",
       "      <td>0.000000</td>\n",
       "      <td>0.0</td>\n",
       "      <td>0.0</td>\n",
       "      <td>0.000000</td>\n",
       "      <td>0.000000</td>\n",
       "      <td>0.399137</td>\n",
       "      <td>0.625758</td>\n",
       "      <td>0.275807</td>\n",
       "      <td>0.083491</td>\n",
       "      <td>0.916461</td>\n",
       "    </tr>\n",
       "    <tr>\n",
       "      <th>...</th>\n",
       "      <td>...</td>\n",
       "      <td>...</td>\n",
       "      <td>...</td>\n",
       "      <td>...</td>\n",
       "      <td>...</td>\n",
       "      <td>...</td>\n",
       "      <td>...</td>\n",
       "      <td>...</td>\n",
       "      <td>...</td>\n",
       "      <td>...</td>\n",
       "      <td>...</td>\n",
       "      <td>...</td>\n",
       "      <td>...</td>\n",
       "      <td>...</td>\n",
       "      <td>...</td>\n",
       "      <td>...</td>\n",
       "      <td>...</td>\n",
       "      <td>...</td>\n",
       "      <td>...</td>\n",
       "      <td>...</td>\n",
       "    </tr>\n",
       "    <tr>\n",
       "      <th>11023</th>\n",
       "      <td>750000</td>\n",
       "      <td>0.756471</td>\n",
       "      <td>0.0</td>\n",
       "      <td>0.010130</td>\n",
       "      <td>1.000000</td>\n",
       "      <td>0.969077</td>\n",
       "      <td>0.504314</td>\n",
       "      <td>0.828144</td>\n",
       "      <td>1.000000</td>\n",
       "      <td>1.00000</td>\n",
       "      <td>0.000000</td>\n",
       "      <td>0.0</td>\n",
       "      <td>0.0</td>\n",
       "      <td>0.000000</td>\n",
       "      <td>0.000000</td>\n",
       "      <td>0.666667</td>\n",
       "      <td>0.845074</td>\n",
       "      <td>0.895688</td>\n",
       "      <td>0.993387</td>\n",
       "      <td>0.965326</td>\n",
       "    </tr>\n",
       "    <tr>\n",
       "      <th>9744</th>\n",
       "      <td>750000</td>\n",
       "      <td>0.000000</td>\n",
       "      <td>0.0</td>\n",
       "      <td>0.029286</td>\n",
       "      <td>1.000000</td>\n",
       "      <td>0.969077</td>\n",
       "      <td>0.504314</td>\n",
       "      <td>0.828144</td>\n",
       "      <td>1.000000</td>\n",
       "      <td>1.00000</td>\n",
       "      <td>0.000000</td>\n",
       "      <td>0.0</td>\n",
       "      <td>0.0</td>\n",
       "      <td>0.000000</td>\n",
       "      <td>0.000000</td>\n",
       "      <td>0.666667</td>\n",
       "      <td>0.845074</td>\n",
       "      <td>0.895688</td>\n",
       "      <td>1.000000</td>\n",
       "      <td>0.965326</td>\n",
       "    </tr>\n",
       "    <tr>\n",
       "      <th>12807</th>\n",
       "      <td>1050000</td>\n",
       "      <td>0.000000</td>\n",
       "      <td>0.0</td>\n",
       "      <td>0.052630</td>\n",
       "      <td>1.000000</td>\n",
       "      <td>0.969077</td>\n",
       "      <td>0.504314</td>\n",
       "      <td>0.828144</td>\n",
       "      <td>1.000000</td>\n",
       "      <td>1.00000</td>\n",
       "      <td>0.000000</td>\n",
       "      <td>0.0</td>\n",
       "      <td>0.0</td>\n",
       "      <td>0.000000</td>\n",
       "      <td>0.000000</td>\n",
       "      <td>0.666667</td>\n",
       "      <td>0.845074</td>\n",
       "      <td>0.895688</td>\n",
       "      <td>1.000000</td>\n",
       "      <td>0.965326</td>\n",
       "    </tr>\n",
       "    <tr>\n",
       "      <th>12796</th>\n",
       "      <td>1200000</td>\n",
       "      <td>0.000000</td>\n",
       "      <td>0.0</td>\n",
       "      <td>0.017214</td>\n",
       "      <td>0.988180</td>\n",
       "      <td>0.833867</td>\n",
       "      <td>0.504314</td>\n",
       "      <td>0.828144</td>\n",
       "      <td>0.947059</td>\n",
       "      <td>1.00000</td>\n",
       "      <td>0.000000</td>\n",
       "      <td>0.0</td>\n",
       "      <td>0.0</td>\n",
       "      <td>0.000000</td>\n",
       "      <td>0.000000</td>\n",
       "      <td>0.666667</td>\n",
       "      <td>0.698134</td>\n",
       "      <td>0.873439</td>\n",
       "      <td>1.000000</td>\n",
       "      <td>0.916461</td>\n",
       "    </tr>\n",
       "    <tr>\n",
       "      <th>11048</th>\n",
       "      <td>1100000</td>\n",
       "      <td>0.442507</td>\n",
       "      <td>0.0</td>\n",
       "      <td>0.014634</td>\n",
       "      <td>0.988180</td>\n",
       "      <td>0.833867</td>\n",
       "      <td>0.504314</td>\n",
       "      <td>0.828144</td>\n",
       "      <td>0.947059</td>\n",
       "      <td>1.00000</td>\n",
       "      <td>0.000000</td>\n",
       "      <td>0.0</td>\n",
       "      <td>0.0</td>\n",
       "      <td>0.000000</td>\n",
       "      <td>0.000000</td>\n",
       "      <td>0.666667</td>\n",
       "      <td>0.698134</td>\n",
       "      <td>0.873439</td>\n",
       "      <td>1.000000</td>\n",
       "      <td>0.916461</td>\n",
       "    </tr>\n",
       "  </tbody>\n",
       "</table>\n",
       "<p>9331 rows × 20 columns</p>\n",
       "</div>"
      ],
      "text/plain": [
       "         price   quality  favoritecount  viewcount  screen_size      cost  \\\n",
       "8137    450000  0.000000            0.0   0.000000     0.291289  0.429971   \n",
       "9748    970000  0.000000            0.0   0.000000     0.990334  0.833867   \n",
       "21572   530000  0.442507            0.0   0.052656     0.533182  0.334492   \n",
       "19929   950000  0.756471            0.0   0.000338     0.694572  0.544222   \n",
       "22773   560000  0.442507            0.0   0.038424     0.291289  0.281714   \n",
       "...        ...       ...            ...        ...          ...       ...   \n",
       "11023   750000  0.756471            0.0   0.010130     1.000000  0.969077   \n",
       "9744    750000  0.000000            0.0   0.029286     1.000000  0.969077   \n",
       "12807  1050000  0.000000            0.0   0.052630     1.000000  0.969077   \n",
       "12796  1200000  0.000000            0.0   0.017214     0.988180  0.833867   \n",
       "11048  1100000  0.442507            0.0   0.014634     0.988180  0.833867   \n",
       "\n",
       "       capacity       ram    weight  back_camera_number_1  \\\n",
       "8137   0.504314  0.171856  0.000000               0.63093   \n",
       "9748   0.504314  0.828144  0.907189               0.00000   \n",
       "21572  0.252157  0.171856  0.262451               0.63093   \n",
       "19929  0.504314  0.585928  0.509143               0.00000   \n",
       "22773  0.252157  0.171856  0.068249               0.63093   \n",
       "...         ...       ...       ...                   ...   \n",
       "11023  0.504314  0.828144  1.000000               1.00000   \n",
       "9744   0.504314  0.828144  1.000000               1.00000   \n",
       "12807  0.504314  0.828144  1.000000               1.00000   \n",
       "12796  0.504314  0.828144  0.947059               1.00000   \n",
       "11048  0.504314  0.828144  0.947059               1.00000   \n",
       "\n",
       "       back_camera_number_2  back_camera_number_3  back_camera_1  \\\n",
       "8137               0.000000                   0.0            0.0   \n",
       "9748               0.908879                   1.0            0.0   \n",
       "21572              0.000000                   0.0            0.0   \n",
       "19929              0.908879                   1.0            0.0   \n",
       "22773              0.000000                   0.0            0.0   \n",
       "...                     ...                   ...            ...   \n",
       "11023              0.000000                   0.0            0.0   \n",
       "9744               0.000000                   0.0            0.0   \n",
       "12807              0.000000                   0.0            0.0   \n",
       "12796              0.000000                   0.0            0.0   \n",
       "11048              0.000000                   0.0            0.0   \n",
       "\n",
       "       back_camera_2  back_camera_3  Max_video_playtime  Max_audio_playtime  \\\n",
       "8137        0.000000       0.000000            0.183447            0.574961   \n",
       "9748        0.952448       0.821802            0.753284            0.769301   \n",
       "21572       0.000000       0.000000            0.261801            0.714791   \n",
       "19929       0.853070       0.917538            1.000000            0.851457   \n",
       "22773       0.000000       0.000000            0.399137            0.625758   \n",
       "...              ...            ...                 ...                 ...   \n",
       "11023       0.000000       0.000000            0.666667            0.845074   \n",
       "9744        0.000000       0.000000            0.666667            0.845074   \n",
       "12807       0.000000       0.000000            0.666667            0.845074   \n",
       "12796       0.000000       0.000000            0.666667            0.698134   \n",
       "11048       0.000000       0.000000            0.666667            0.698134   \n",
       "\n",
       "       battery_capacity     hours  used_year  \n",
       "8137           0.199267  0.000000   0.965326  \n",
       "9748           0.873439  0.000000   0.832952  \n",
       "21572          0.431242  0.000000   0.965326  \n",
       "19929          0.938740  0.052677   0.000000  \n",
       "22773          0.275807  0.083491   0.916461  \n",
       "...                 ...       ...        ...  \n",
       "11023          0.895688  0.993387   0.965326  \n",
       "9744           0.895688  1.000000   0.965326  \n",
       "12807          0.895688  1.000000   0.965326  \n",
       "12796          0.873439  1.000000   0.916461  \n",
       "11048          0.873439  1.000000   0.916461  \n",
       "\n",
       "[9331 rows x 20 columns]"
      ]
     },
     "execution_count": 1,
     "metadata": {},
     "output_type": "execute_result"
    }
   ],
   "source": [
    "from phone_CrawlingDataPreprocessor import DataPreprocessor\n",
    "prepro = DataPreprocessor(\"C:/Python_practice/DL_project/final_project/no_Yongsan_yes_Doksan/DA/dataset/phone_input_data.csv\")\n",
    "prepro_df = prepro.execute()\n",
    "prepro_df"
   ]
  },
  {
   "cell_type": "code",
   "execution_count": 2,
   "metadata": {},
   "outputs": [
    {
     "name": "stdout",
     "output_type": "stream",
     "text": [
      "<class 'pandas.core.frame.DataFrame'>\n",
      "Int64Index: 9331 entries, 8137 to 11048\n",
      "Data columns (total 20 columns):\n",
      " #   Column                Non-Null Count  Dtype  \n",
      "---  ------                --------------  -----  \n",
      " 0   price                 9331 non-null   int64  \n",
      " 1   quality               9331 non-null   float64\n",
      " 2   favoritecount         9331 non-null   float64\n",
      " 3   viewcount             9331 non-null   float64\n",
      " 4   screen_size           9331 non-null   float64\n",
      " 5   cost                  9331 non-null   float64\n",
      " 6   capacity              9331 non-null   float64\n",
      " 7   ram                   9331 non-null   float64\n",
      " 8   weight                9331 non-null   float64\n",
      " 9   back_camera_number_1  9331 non-null   float64\n",
      " 10  back_camera_number_2  9331 non-null   float64\n",
      " 11  back_camera_number_3  9331 non-null   float64\n",
      " 12  back_camera_1         9331 non-null   float64\n",
      " 13  back_camera_2         9331 non-null   float64\n",
      " 14  back_camera_3         9331 non-null   float64\n",
      " 15  Max_video_playtime    9331 non-null   float64\n",
      " 16  Max_audio_playtime    9331 non-null   float64\n",
      " 17  battery_capacity      9331 non-null   float64\n",
      " 18  hours                 9331 non-null   float64\n",
      " 19  used_year             9331 non-null   float64\n",
      "dtypes: float64(19), int64(1)\n",
      "memory usage: 1.5 MB\n"
     ]
    }
   ],
   "source": [
    "prepro_df.info()"
   ]
  },
  {
   "attachments": {},
   "cell_type": "markdown",
   "metadata": {},
   "source": [
    "## 데이터 셋 분류"
   ]
  },
  {
   "cell_type": "code",
   "execution_count": 5,
   "metadata": {},
   "outputs": [],
   "source": [
    "from sklearn.model_selection import train_test_split\n",
    "from sklearn.feature_extraction import DictVectorizer\n",
    "from sklearn.ensemble import RandomForestRegressor\n",
    "from sklearn.metrics import r2_score, mean_squared_error\n",
    "import pandas as pd\n",
    "import numpy as np\n",
    "\n",
    "# 평가 지표\n",
    "# ★ 평균 제곱 오차(MSE)  → 이상치가 적은 경우에는 MSE가 더 적합\n",
    "# ★ 결정 계수(R2)\n",
    "\n",
    "# n_estimators : 생성할 트리 개수"
   ]
  },
  {
   "cell_type": "code",
   "execution_count": 4,
   "metadata": {},
   "outputs": [],
   "source": [
    "# 학습 데이터, 테스트 데이터 분리\n",
    "x = prepro_df.loc[:, prepro_df.columns != 'price']\n",
    "y = prepro_df['price']\n",
    "\n",
    "x_train, x_test, y_train, y_test = train_test_split(x, y, test_size = 0.3, random_state=42)"
   ]
  },
  {
   "attachments": {},
   "cell_type": "markdown",
   "metadata": {},
   "source": [
    "## XGBoost 를 이용한 가격 예측"
   ]
  },
  {
   "cell_type": "code",
   "execution_count": 5,
   "metadata": {},
   "outputs": [
    {
     "name": "stderr",
     "output_type": "stream",
     "text": [
      "[I 2023-06-21 01:29:42,877] A new study created in memory with name: no-name-e21a9196-60be-48a3-8917-b0bd8e5870fd\n",
      "[I 2023-06-21 01:30:06,238] Trial 0 finished with value: 15573961149.121227 and parameters: {'n_estimators': 2586, 'learning_rate': 0.07900432889925468, 'max_depth': 10, 'min_child_weight': 8, 'gamma': 0.07747539415513222, 'subsample': 0.8859279792169359, 'colsample_bytree': 0.7667699345158958}. Best is trial 0 with value: 15573961149.121227.\n"
     ]
    },
    {
     "name": "stdout",
     "output_type": "stream",
     "text": [
      "mse : 15573961149.121227\n",
      "rmse : 124795.67760592203\n",
      "r2 : 0.8692885353236752\n"
     ]
    },
    {
     "name": "stderr",
     "output_type": "stream",
     "text": [
      "[I 2023-06-21 01:30:24,856] Trial 1 finished with value: 18418414227.022133 and parameters: {'n_estimators': 2030, 'learning_rate': 0.7882342549779966, 'max_depth': 10, 'min_child_weight': 1, 'gamma': 0.1808284817249028, 'subsample': 0.9677055769675824, 'colsample_bytree': 0.6336889424830798}. Best is trial 0 with value: 15573961149.121227.\n"
     ]
    },
    {
     "name": "stdout",
     "output_type": "stream",
     "text": [
      "mse : 18418414227.022133\n",
      "rmse : 135714.45843027238\n",
      "r2 : 0.8454151851556939\n"
     ]
    },
    {
     "name": "stderr",
     "output_type": "stream",
     "text": [
      "[I 2023-06-21 01:30:46,441] Trial 2 finished with value: 21129526368.032772 and parameters: {'n_estimators': 3582, 'learning_rate': 0.946394007838627, 'max_depth': 7, 'min_child_weight': 5, 'gamma': 0.21250580292099763, 'subsample': 0.9614348708708651, 'colsample_bytree': 0.9575226555922335}. Best is trial 0 with value: 15573961149.121227.\n"
     ]
    },
    {
     "name": "stdout",
     "output_type": "stream",
     "text": [
      "mse : 21129526368.032772\n",
      "rmse : 145359.9888828861\n",
      "r2 : 0.8226609586965337\n"
     ]
    },
    {
     "name": "stderr",
     "output_type": "stream",
     "text": [
      "[I 2023-06-21 01:30:48,485] Trial 3 finished with value: 15312975473.223795 and parameters: {'n_estimators': 1224, 'learning_rate': 0.8738193146427988, 'max_depth': 1, 'min_child_weight': 10, 'gamma': 0.47319721638866563, 'subsample': 0.6408695145629888, 'colsample_bytree': 0.6482223749716642}. Best is trial 3 with value: 15312975473.223795.\n"
     ]
    },
    {
     "name": "stdout",
     "output_type": "stream",
     "text": [
      "mse : 15312975473.223795\n",
      "rmse : 123745.60789467962\n",
      "r2 : 0.8714789748418846\n"
     ]
    },
    {
     "name": "stderr",
     "output_type": "stream",
     "text": [
      "[I 2023-06-21 01:31:12,890] Trial 4 finished with value: 21781443045.038227 and parameters: {'n_estimators': 3399, 'learning_rate': 0.6060273320494172, 'max_depth': 9, 'min_child_weight': 8, 'gamma': 0.20791957461188532, 'subsample': 0.6163447215983928, 'colsample_bytree': 0.5668636555284052}. Best is trial 3 with value: 15312975473.223795.\n"
     ]
    },
    {
     "name": "stdout",
     "output_type": "stream",
     "text": [
      "mse : 21781443045.038227\n",
      "rmse : 147585.37544431098\n",
      "r2 : 0.8171894551476042\n"
     ]
    },
    {
     "name": "stderr",
     "output_type": "stream",
     "text": [
      "[I 2023-06-21 01:31:36,610] Trial 5 finished with value: 21484893211.057983 and parameters: {'n_estimators': 2862, 'learning_rate': 0.8746015203980061, 'max_depth': 8, 'min_child_weight': 1, 'gamma': 0.39278944438166863, 'subsample': 0.9107903527486576, 'colsample_bytree': 0.7988244276674126}. Best is trial 3 with value: 15312975473.223795.\n"
     ]
    },
    {
     "name": "stdout",
     "output_type": "stream",
     "text": [
      "mse : 21484893211.057983\n",
      "rmse : 146577.2602113233\n",
      "r2 : 0.8196783828377356\n"
     ]
    },
    {
     "name": "stderr",
     "output_type": "stream",
     "text": [
      "[I 2023-06-21 01:31:43,555] Trial 6 finished with value: 19138010013.25163 and parameters: {'n_estimators': 847, 'learning_rate': 0.6308992964025056, 'max_depth': 10, 'min_child_weight': 8, 'gamma': 0.3073013628696273, 'subsample': 0.8231652420985003, 'colsample_bytree': 0.6284274759681505}. Best is trial 3 with value: 15312975473.223795.\n"
     ]
    },
    {
     "name": "stdout",
     "output_type": "stream",
     "text": [
      "mse : 19138010013.25163\n",
      "rmse : 138340.19666478585\n",
      "r2 : 0.8393756542815414\n"
     ]
    },
    {
     "name": "stderr",
     "output_type": "stream",
     "text": [
      "[I 2023-06-21 01:31:52,163] Trial 7 finished with value: 27801485838.023952 and parameters: {'n_estimators': 1425, 'learning_rate': 0.9591352495411954, 'max_depth': 8, 'min_child_weight': 9, 'gamma': 0.056478080404865016, 'subsample': 0.6801859495756826, 'colsample_bytree': 0.5764122027728182}. Best is trial 3 with value: 15312975473.223795.\n"
     ]
    },
    {
     "name": "stdout",
     "output_type": "stream",
     "text": [
      "mse : 27801485838.023952\n",
      "rmse : 166737.77567793074\n",
      "r2 : 0.7666635418394335\n"
     ]
    },
    {
     "name": "stderr",
     "output_type": "stream",
     "text": [
      "[I 2023-06-21 01:31:58,718] Trial 8 finished with value: 15303768475.192062 and parameters: {'n_estimators': 957, 'learning_rate': 0.261878458909726, 'max_depth': 8, 'min_child_weight': 2, 'gamma': 0.4688249325244577, 'subsample': 0.9991695578262783, 'colsample_bytree': 0.9985521810576045}. Best is trial 8 with value: 15303768475.192062.\n"
     ]
    },
    {
     "name": "stdout",
     "output_type": "stream",
     "text": [
      "mse : 15303768475.192062\n",
      "rmse : 123708.40098874475\n",
      "r2 : 0.8715562487085957\n"
     ]
    },
    {
     "name": "stderr",
     "output_type": "stream",
     "text": [
      "[I 2023-06-21 01:32:04,723] Trial 9 finished with value: 15325422687.11644 and parameters: {'n_estimators': 2205, 'learning_rate': 0.3054874649237756, 'max_depth': 3, 'min_child_weight': 9, 'gamma': 0.27472293731194164, 'subsample': 0.6630206294259182, 'colsample_bytree': 0.7367113197999078}. Best is trial 8 with value: 15303768475.192062.\n"
     ]
    },
    {
     "name": "stdout",
     "output_type": "stream",
     "text": [
      "mse : 15325422687.11644\n",
      "rmse : 123795.89123681141\n",
      "r2 : 0.8713745060080749\n"
     ]
    },
    {
     "name": "stderr",
     "output_type": "stream",
     "text": [
      "[I 2023-06-21 01:32:06,673] Trial 10 finished with value: 15987044132.715324 and parameters: {'n_estimators': 388, 'learning_rate': 0.376087897007551, 'max_depth': 5, 'min_child_weight': 4, 'gamma': 0.482911514840784, 'subsample': 0.7771181737270165, 'colsample_bytree': 0.9852973673569143}. Best is trial 8 with value: 15303768475.192062.\n"
     ]
    },
    {
     "name": "stdout",
     "output_type": "stream",
     "text": [
      "mse : 15987044132.715324\n",
      "rmse : 126439.88347319576\n",
      "r2 : 0.8658215508293998\n"
     ]
    },
    {
     "name": "stderr",
     "output_type": "stream",
     "text": [
      "[I 2023-06-21 01:32:09,807] Trial 11 finished with value: 14707270902.610464 and parameters: {'n_estimators': 1289, 'learning_rate': 0.427369765886368, 'max_depth': 2, 'min_child_weight': 3, 'gamma': 0.49594347146302015, 'subsample': 0.5068652201175965, 'colsample_bytree': 0.8861309080343911}. Best is trial 11 with value: 14707270902.610464.\n"
     ]
    },
    {
     "name": "stdout",
     "output_type": "stream",
     "text": [
      "mse : 14707270902.610464\n",
      "rmse : 121273.53751998192\n",
      "r2 : 0.8765626225297101\n"
     ]
    },
    {
     "name": "stderr",
     "output_type": "stream",
     "text": [
      "[I 2023-06-21 01:32:10,976] Trial 12 finished with value: 14718837453.930391 and parameters: {'n_estimators': 211, 'learning_rate': 0.2903017839226071, 'max_depth': 5, 'min_child_weight': 3, 'gamma': 0.4950794318311712, 'subsample': 0.5050115994047273, 'colsample_bytree': 0.9058971308487699}. Best is trial 11 with value: 14707270902.610464.\n"
     ]
    },
    {
     "name": "stdout",
     "output_type": "stream",
     "text": [
      "mse : 14718837453.930391\n",
      "rmse : 121321.2160091152\n",
      "r2 : 0.8764655450521304\n"
     ]
    },
    {
     "name": "stderr",
     "output_type": "stream",
     "text": [
      "[I 2023-06-21 01:32:12,737] Trial 13 finished with value: 17194503712.377968 and parameters: {'n_estimators': 409, 'learning_rate': 0.43191214926177013, 'max_depth': 4, 'min_child_weight': 3, 'gamma': 0.38997536951432754, 'subsample': 0.5101224955842839, 'colsample_bytree': 0.8914709202570176}. Best is trial 11 with value: 14707270902.610464.\n"
     ]
    },
    {
     "name": "stdout",
     "output_type": "stream",
     "text": [
      "mse : 17194503712.377968\n",
      "rmse : 131127.81441165702\n",
      "r2 : 0.8556874039232949\n"
     ]
    },
    {
     "name": "stderr",
     "output_type": "stream",
     "text": [
      "[I 2023-06-21 01:32:13,245] Trial 14 finished with value: 17023933626.527496 and parameters: {'n_estimators': 152, 'learning_rate': 0.18894576127256874, 'max_depth': 1, 'min_child_weight': 6, 'gamma': 0.49970880379993093, 'subsample': 0.5015246440457782, 'colsample_bytree': 0.8774368649821527}. Best is trial 11 with value: 14707270902.610464.\n"
     ]
    },
    {
     "name": "stdout",
     "output_type": "stream",
     "text": [
      "mse : 17023933626.527496\n",
      "rmse : 130475.7970909835\n",
      "r2 : 0.8571189899878807\n"
     ]
    },
    {
     "name": "stderr",
     "output_type": "stream",
     "text": [
      "[I 2023-06-21 01:32:18,420] Trial 15 finished with value: 17477540620.30814 and parameters: {'n_estimators': 1679, 'learning_rate': 0.49723653939879414, 'max_depth': 3, 'min_child_weight': 3, 'gamma': 0.37932552363760264, 'subsample': 0.5918793897603438, 'colsample_bytree': 0.8854638108706543}. Best is trial 11 with value: 14707270902.610464.\n"
     ]
    },
    {
     "name": "stdout",
     "output_type": "stream",
     "text": [
      "mse : 17477540620.30814\n",
      "rmse : 132202.6498233229\n",
      "r2 : 0.8533118895349662\n"
     ]
    },
    {
     "name": "stderr",
     "output_type": "stream",
     "text": [
      "[I 2023-06-21 01:32:22,269] Trial 16 finished with value: 13484486839.240694 and parameters: {'n_estimators': 711, 'learning_rate': 0.08282709956925821, 'max_depth': 6, 'min_child_weight': 6, 'gamma': 0.4241144218876536, 'subsample': 0.5572522431061807, 'colsample_bytree': 0.8242595832686312}. Best is trial 16 with value: 13484486839.240694.\n"
     ]
    },
    {
     "name": "stdout",
     "output_type": "stream",
     "text": [
      "mse : 13484486839.240694\n",
      "rmse : 116122.72318216058\n",
      "r2 : 0.8868253870489955\n"
     ]
    },
    {
     "name": "stderr",
     "output_type": "stream",
     "text": [
      "[I 2023-06-21 01:32:26,907] Trial 17 finished with value: 13022156862.203281 and parameters: {'n_estimators': 819, 'learning_rate': 0.044319175279502715, 'max_depth': 6, 'min_child_weight': 6, 'gamma': 0.4233029112852993, 'subsample': 0.5704225199888672, 'colsample_bytree': 0.8189592447299676}. Best is trial 17 with value: 13022156862.203281.\n"
     ]
    },
    {
     "name": "stdout",
     "output_type": "stream",
     "text": [
      "mse : 13022156862.203281\n",
      "rmse : 114114.66541248448\n",
      "r2 : 0.8907056990572055\n"
     ]
    },
    {
     "name": "stderr",
     "output_type": "stream",
     "text": [
      "[I 2023-06-21 01:32:30,710] Trial 18 finished with value: 12183912733.935823 and parameters: {'n_estimators': 679, 'learning_rate': 0.012804759968654239, 'max_depth': 6, 'min_child_weight': 6, 'gamma': 0.3482974031087638, 'subsample': 0.5710632016105852, 'colsample_bytree': 0.8176434450633502}. Best is trial 18 with value: 12183912733.935823.\n"
     ]
    },
    {
     "name": "stdout",
     "output_type": "stream",
     "text": [
      "mse : 12183912733.935823\n",
      "rmse : 110380.76251745965\n",
      "r2 : 0.8977410394380534\n"
     ]
    },
    {
     "name": "stderr",
     "output_type": "stream",
     "text": [
      "[I 2023-06-21 01:32:39,258] Trial 19 finished with value: 14244836070.162107 and parameters: {'n_estimators': 1823, 'learning_rate': 0.051483070549921406, 'max_depth': 6, 'min_child_weight': 7, 'gamma': 0.32492685528561427, 'subsample': 0.6921104438738177, 'colsample_bytree': 0.7304375370051532}. Best is trial 18 with value: 12183912733.935823.\n"
     ]
    },
    {
     "name": "stdout",
     "output_type": "stream",
     "text": [
      "mse : 14244836070.162107\n",
      "rmse : 119351.73258131658\n",
      "r2 : 0.8804438145840568\n"
     ]
    },
    {
     "name": "stderr",
     "output_type": "stream",
     "text": [
      "[I 2023-06-21 01:32:42,900] Trial 20 finished with value: 12159833587.052076 and parameters: {'n_estimators': 656, 'learning_rate': 0.013467877332781177, 'max_depth': 7, 'min_child_weight': 5, 'gamma': 0.34484789031523133, 'subsample': 0.5860971022471939, 'colsample_bytree': 0.5105128524928998}. Best is trial 20 with value: 12159833587.052076.\n"
     ]
    },
    {
     "name": "stdout",
     "output_type": "stream",
     "text": [
      "mse : 12159833587.052076\n",
      "rmse : 110271.63546013125\n",
      "r2 : 0.8979431344944873\n"
     ]
    },
    {
     "name": "stderr",
     "output_type": "stream",
     "text": [
      "[I 2023-06-21 01:32:46,674] Trial 21 finished with value: 12114723531.257904 and parameters: {'n_estimators': 704, 'learning_rate': 0.012798552773938448, 'max_depth': 7, 'min_child_weight': 5, 'gamma': 0.3414618413108147, 'subsample': 0.5831546829963173, 'colsample_bytree': 0.5381338415408887}. Best is trial 21 with value: 12114723531.257904.\n"
     ]
    },
    {
     "name": "stdout",
     "output_type": "stream",
     "text": [
      "mse : 12114723531.257904\n",
      "rmse : 110066.90479548293\n",
      "r2 : 0.8983217409009133\n"
     ]
    },
    {
     "name": "stderr",
     "output_type": "stream",
     "text": [
      "[I 2023-06-21 01:32:49,601] Trial 22 finished with value: 15210203751.000414 and parameters: {'n_estimators': 547, 'learning_rate': 0.16146924604932206, 'max_depth': 7, 'min_child_weight': 5, 'gamma': 0.3261326504732077, 'subsample': 0.5706384737374993, 'colsample_bytree': 0.5032008503573036}. Best is trial 21 with value: 12114723531.257904.\n"
     ]
    },
    {
     "name": "stdout",
     "output_type": "stream",
     "text": [
      "mse : 15210203751.000414\n",
      "rmse : 123329.65479153996\n",
      "r2 : 0.8723415326851014\n"
     ]
    },
    {
     "name": "stderr",
     "output_type": "stream",
     "text": [
      "[I 2023-06-21 01:32:55,564] Trial 23 finished with value: 12379575902.231169 and parameters: {'n_estimators': 1194, 'learning_rate': 0.010777253954449006, 'max_depth': 7, 'min_child_weight': 4, 'gamma': 0.34524041942642547, 'subsample': 0.6389997409712573, 'colsample_bytree': 0.5134719056726289}. Best is trial 21 with value: 12114723531.257904.\n"
     ]
    },
    {
     "name": "stdout",
     "output_type": "stream",
     "text": [
      "mse : 12379575902.231169\n",
      "rmse : 111263.54255654081\n",
      "r2 : 0.8960988484073831\n"
     ]
    },
    {
     "name": "stderr",
     "output_type": "stream",
     "text": [
      "[I 2023-06-21 01:32:59,947] Trial 24 finished with value: 14481178737.008604 and parameters: {'n_estimators': 1029, 'learning_rate': 0.14969906947072634, 'max_depth': 5, 'min_child_weight': 7, 'gamma': 0.2768628045813927, 'subsample': 0.5984495942305017, 'colsample_bytree': 0.6994605571668704}. Best is trial 21 with value: 12114723531.257904.\n"
     ]
    },
    {
     "name": "stdout",
     "output_type": "stream",
     "text": [
      "mse : 14481178737.008604\n",
      "rmse : 120337.76937025467\n",
      "r2 : 0.8784602025888031\n"
     ]
    },
    {
     "name": "stderr",
     "output_type": "stream",
     "text": [
      "[I 2023-06-21 01:33:08,283] Trial 25 finished with value: 16029009822.22391 and parameters: {'n_estimators': 1586, 'learning_rate': 0.13965795878710474, 'max_depth': 7, 'min_child_weight': 5, 'gamma': 0.3563820550621243, 'subsample': 0.7148327136666751, 'colsample_bytree': 0.5347378097228832}. Best is trial 21 with value: 12114723531.257904.\n"
     ]
    },
    {
     "name": "stdout",
     "output_type": "stream",
     "text": [
      "mse : 16029009822.22391\n",
      "rmse : 126605.72586666018\n",
      "r2 : 0.8654693349294565\n"
     ]
    },
    {
     "name": "stderr",
     "output_type": "stream",
     "text": [
      "[I 2023-06-21 01:33:11,996] Trial 26 finished with value: 16316327040.084932 and parameters: {'n_estimators': 499, 'learning_rate': 0.20669074293854406, 'max_depth': 9, 'min_child_weight': 4, 'gamma': 0.2834656613627993, 'subsample': 0.5485511914692016, 'colsample_bytree': 0.5613853451749227}. Best is trial 21 with value: 12114723531.257904.\n"
     ]
    },
    {
     "name": "stdout",
     "output_type": "stream",
     "text": [
      "mse : 16316327040.084932\n",
      "rmse : 127735.37896794658\n",
      "r2 : 0.8630578961173428\n"
     ]
    },
    {
     "name": "stderr",
     "output_type": "stream",
     "text": [
      "[I 2023-06-21 01:33:14,281] Trial 27 finished with value: 12810952509.221228 and parameters: {'n_estimators': 647, 'learning_rate': 0.01190761425495859, 'max_depth': 4, 'min_child_weight': 7, 'gamma': 0.35789898833949485, 'subsample': 0.6271707932919041, 'colsample_bytree': 0.594758620331025}. Best is trial 21 with value: 12114723531.257904.\n"
     ]
    },
    {
     "name": "stdout",
     "output_type": "stream",
     "text": [
      "mse : 12810952509.221228\n",
      "rmse : 113185.4783495711\n",
      "r2 : 0.8924783264613684\n"
     ]
    },
    {
     "name": "stderr",
     "output_type": "stream",
     "text": [
      "[I 2023-06-21 01:33:14,979] Trial 28 finished with value: 12568528604.791552 and parameters: {'n_estimators': 114, 'learning_rate': 0.11876293982275983, 'max_depth': 6, 'min_child_weight': 5, 'gamma': 0.3161800353827993, 'subsample': 0.7308406364653834, 'colsample_bytree': 0.5002987909018018}. Best is trial 21 with value: 12114723531.257904.\n"
     ]
    },
    {
     "name": "stdout",
     "output_type": "stream",
     "text": [
      "mse : 12568528604.791552\n",
      "rmse : 112109.44922169385\n",
      "r2 : 0.8945129779746954\n"
     ]
    },
    {
     "name": "stderr",
     "output_type": "stream",
     "text": [
      "[I 2023-06-21 01:33:34,584] Trial 29 finished with value: 15601751698.275028 and parameters: {'n_estimators': 2625, 'learning_rate': 0.0880610699817275, 'max_depth': 9, 'min_child_weight': 6, 'gamma': 0.24476307518166618, 'subsample': 0.6537213995322072, 'colsample_bytree': 0.6741371581876815}. Best is trial 21 with value: 12114723531.257904.\n"
     ]
    },
    {
     "name": "stdout",
     "output_type": "stream",
     "text": [
      "mse : 15601751698.275028\n",
      "rmse : 124906.97217639626\n",
      "r2 : 0.8690552906565496\n"
     ]
    },
    {
     "name": "stderr",
     "output_type": "stream",
     "text": [
      "[I 2023-06-21 01:34:00,803] Trial 30 finished with value: 16452083189.079536 and parameters: {'n_estimators': 3998, 'learning_rate': 0.09469383719988728, 'max_depth': 8, 'min_child_weight': 4, 'gamma': 0.43148887397412516, 'subsample': 0.5384154667957315, 'colsample_bytree': 0.5430535424949978}. Best is trial 21 with value: 12114723531.257904.\n"
     ]
    },
    {
     "name": "stdout",
     "output_type": "stream",
     "text": [
      "mse : 16452083189.079536\n",
      "rmse : 128265.67424326563\n",
      "r2 : 0.861918501656037\n"
     ]
    },
    {
     "name": "stderr",
     "output_type": "stream",
     "text": [
      "[I 2023-06-21 01:34:06,666] Trial 31 finished with value: 12927111537.432972 and parameters: {'n_estimators': 1125, 'learning_rate': 0.028648622505008305, 'max_depth': 7, 'min_child_weight': 4, 'gamma': 0.3502755857257017, 'subsample': 0.6051826722645797, 'colsample_bytree': 0.5260137208884702}. Best is trial 21 with value: 12114723531.257904.\n"
     ]
    },
    {
     "name": "stdout",
     "output_type": "stream",
     "text": [
      "mse : 12927111537.432972\n",
      "rmse : 113697.45616078212\n",
      "r2 : 0.8915034096391448\n"
     ]
    },
    {
     "name": "stderr",
     "output_type": "stream",
     "text": [
      "[I 2023-06-21 01:34:14,165] Trial 32 finished with value: 12570083947.968628 and parameters: {'n_estimators': 1397, 'learning_rate': 0.01567175176394651, 'max_depth': 7, 'min_child_weight': 5, 'gamma': 0.3398195309181523, 'subsample': 0.6349128062948598, 'colsample_bytree': 0.6056675801852879}. Best is trial 21 with value: 12114723531.257904.\n"
     ]
    },
    {
     "name": "stdout",
     "output_type": "stream",
     "text": [
      "mse : 12570083947.968628\n",
      "rmse : 112116.38572469515\n",
      "r2 : 0.8944999240584307\n"
     ]
    },
    {
     "name": "stderr",
     "output_type": "stream",
     "text": [
      "[I 2023-06-21 01:34:25,926] Trial 33 finished with value: 17276671851.928135 and parameters: {'n_estimators': 2097, 'learning_rate': 0.21738192402625278, 'max_depth': 6, 'min_child_weight': 4, 'gamma': 0.3053029175540765, 'subsample': 0.5852588855441939, 'colsample_bytree': 0.5323646911893718}. Best is trial 21 with value: 12114723531.257904.\n"
     ]
    },
    {
     "name": "stdout",
     "output_type": "stream",
     "text": [
      "mse : 17276671851.928135\n",
      "rmse : 131440.7541515497\n",
      "r2 : 0.8549977709026721\n"
     ]
    },
    {
     "name": "stderr",
     "output_type": "stream",
     "text": [
      "[I 2023-06-21 01:34:31,419] Trial 34 finished with value: 14840276722.635067 and parameters: {'n_estimators': 976, 'learning_rate': 0.10037154601778307, 'max_depth': 7, 'min_child_weight': 7, 'gamma': 0.15638316831604743, 'subsample': 0.6305804364965006, 'colsample_bytree': 0.5941713718681867}. Best is trial 21 with value: 12114723531.257904.\n"
     ]
    },
    {
     "name": "stdout",
     "output_type": "stream",
     "text": [
      "mse : 14840276722.635067\n",
      "rmse : 121820.67444664336\n",
      "r2 : 0.8754463114397166\n"
     ]
    },
    {
     "name": "stderr",
     "output_type": "stream",
     "text": [
      "[I 2023-06-21 01:34:36,132] Trial 35 finished with value: 14068378909.172255 and parameters: {'n_estimators': 623, 'learning_rate': 0.06242706618280459, 'max_depth': 8, 'min_child_weight': 2, 'gamma': 0.37035182291560065, 'subsample': 0.6067512408907357, 'colsample_bytree': 0.6335815068066264}. Best is trial 21 with value: 12114723531.257904.\n"
     ]
    },
    {
     "name": "stdout",
     "output_type": "stream",
     "text": [
      "mse : 14068378909.172255\n",
      "rmse : 118610.19732372194\n",
      "r2 : 0.8819248105711897\n"
     ]
    },
    {
     "name": "stderr",
     "output_type": "stream",
     "text": [
      "[I 2023-06-21 01:34:41,410] Trial 36 finished with value: 12318161214.53163 and parameters: {'n_estimators': 1202, 'learning_rate': 0.01483631735307789, 'max_depth': 5, 'min_child_weight': 5, 'gamma': 0.3898660577754263, 'subsample': 0.5410111080708513, 'colsample_bytree': 0.5558065412661453}. Best is trial 21 with value: 12114723531.257904.\n"
     ]
    },
    {
     "name": "stdout",
     "output_type": "stream",
     "text": [
      "mse : 12318161214.53163\n",
      "rmse : 110987.21194142877\n",
      "r2 : 0.8966142987610202\n"
     ]
    },
    {
     "name": "stderr",
     "output_type": "stream",
     "text": [
      "[I 2023-06-21 01:34:42,687] Trial 37 finished with value: 13158844776.398872 and parameters: {'n_estimators': 330, 'learning_rate': 0.1313736439066467, 'max_depth': 4, 'min_child_weight': 6, 'gamma': 0.4113429693695849, 'subsample': 0.5367954092461702, 'colsample_bytree': 0.5636505981730937}. Best is trial 21 with value: 12114723531.257904.\n"
     ]
    },
    {
     "name": "stdout",
     "output_type": "stream",
     "text": [
      "mse : 13158844776.398872\n",
      "rmse : 114712.00798695345\n",
      "r2 : 0.8895584843379069\n"
     ]
    },
    {
     "name": "stderr",
     "output_type": "stream",
     "text": [
      "[I 2023-06-21 01:34:50,485] Trial 38 finished with value: 16842298580.845608 and parameters: {'n_estimators': 1894, 'learning_rate': 0.2180020933347785, 'max_depth': 5, 'min_child_weight': 5, 'gamma': 0.3955365664164786, 'subsample': 0.5676042085404804, 'colsample_bytree': 0.5527792549202529}. Best is trial 21 with value: 12114723531.257904.\n"
     ]
    },
    {
     "name": "stdout",
     "output_type": "stream",
     "text": [
      "mse : 16842298580.845608\n",
      "rmse : 129777.881708886\n",
      "r2 : 0.8586434436981669\n"
     ]
    },
    {
     "name": "stderr",
     "output_type": "stream",
     "text": [
      "[I 2023-06-21 01:34:54,206] Trial 39 finished with value: 13318695514.62853 and parameters: {'n_estimators': 881, 'learning_rate': 0.09629483136682493, 'max_depth': 5, 'min_child_weight': 8, 'gamma': 0.4614495700431241, 'subsample': 0.5334160888603989, 'colsample_bytree': 0.6119783770969198}. Best is trial 21 with value: 12114723531.257904.\n"
     ]
    },
    {
     "name": "stdout",
     "output_type": "stream",
     "text": [
      "mse : 13318695514.62853\n",
      "rmse : 115406.65281788798\n",
      "r2 : 0.8882168652132971\n"
     ]
    },
    {
     "name": "stderr",
     "output_type": "stream",
     "text": [
      "[I 2023-06-21 01:35:07,677] Trial 40 finished with value: 16696901468.185867 and parameters: {'n_estimators': 1508, 'learning_rate': 0.16557474212514625, 'max_depth': 10, 'min_child_weight': 5, 'gamma': 0.4494834410462951, 'subsample': 0.5790706923024519, 'colsample_bytree': 0.6671726249668358}. Best is trial 21 with value: 12114723531.257904.\n"
     ]
    },
    {
     "name": "stdout",
     "output_type": "stream",
     "text": [
      "mse : 16696901468.185867\n",
      "rmse : 129216.49069753391\n",
      "r2 : 0.859863754277697\n"
     ]
    },
    {
     "name": "stderr",
     "output_type": "stream",
     "text": [
      "[I 2023-06-21 01:35:12,996] Trial 41 finished with value: 12557837567.959906 and parameters: {'n_estimators': 1198, 'learning_rate': 0.019331111985702903, 'max_depth': 6, 'min_child_weight': 4, 'gamma': 0.36368131654376273, 'subsample': 0.6542240273417435, 'colsample_bytree': 0.5052514551747221}. Best is trial 21 with value: 12114723531.257904.\n"
     ]
    },
    {
     "name": "stdout",
     "output_type": "stream",
     "text": [
      "mse : 12557837567.959906\n",
      "rmse : 112061.75783004613\n",
      "r2 : 0.8946027073036562\n"
     ]
    },
    {
     "name": "stderr",
     "output_type": "stream",
     "text": [
      "[I 2023-06-21 01:35:20,815] Trial 42 finished with value: 14332569952.390083 and parameters: {'n_estimators': 1262, 'learning_rate': 0.06221239665165221, 'max_depth': 8, 'min_child_weight': 6, 'gamma': 0.3400225466955409, 'subsample': 0.6127936907781085, 'colsample_bytree': 0.5763935472380067}. Best is trial 21 with value: 12114723531.257904.\n"
     ]
    },
    {
     "name": "stdout",
     "output_type": "stream",
     "text": [
      "mse : 14332569952.390083\n",
      "rmse : 119718.71178888487\n",
      "r2 : 0.8797074685679115\n"
     ]
    },
    {
     "name": "stderr",
     "output_type": "stream",
     "text": [
      "[I 2023-06-21 01:35:25,078] Trial 43 finished with value: 12191198979.072788 and parameters: {'n_estimators': 786, 'learning_rate': 0.011261465613046157, 'max_depth': 7, 'min_child_weight': 5, 'gamma': 0.3986645632908062, 'subsample': 0.5513750422607127, 'colsample_bytree': 0.5242401802469133}. Best is trial 21 with value: 12114723531.257904.\n"
     ]
    },
    {
     "name": "stdout",
     "output_type": "stream",
     "text": [
      "mse : 12191198979.072788\n",
      "rmse : 110413.76263434187\n",
      "r2 : 0.8976798863528027\n"
     ]
    },
    {
     "name": "stderr",
     "output_type": "stream",
     "text": [
      "[I 2023-06-21 01:35:30,544] Trial 44 finished with value: 14142445653.92921 and parameters: {'n_estimators': 745, 'learning_rate': 0.0646489025222176, 'max_depth': 9, 'min_child_weight': 5, 'gamma': 0.39411076898437764, 'subsample': 0.5283708830369402, 'colsample_bytree': 0.5380506429114283}. Best is trial 21 with value: 12114723531.257904.\n"
     ]
    },
    {
     "name": "stdout",
     "output_type": "stream",
     "text": [
      "mse : 14142445653.92921\n",
      "rmse : 118922.0150095398\n",
      "r2 : 0.881303172145468\n"
     ]
    },
    {
     "name": "stderr",
     "output_type": "stream",
     "text": [
      "[I 2023-06-21 01:35:32,507] Trial 45 finished with value: 13567964212.149023 and parameters: {'n_estimators': 322, 'learning_rate': 0.11868748062232126, 'max_depth': 7, 'min_child_weight': 7, 'gamma': 0.4432372468649409, 'subsample': 0.5520380986370814, 'colsample_bytree': 0.5801293572410159}. Best is trial 21 with value: 12114723531.257904.\n"
     ]
    },
    {
     "name": "stdout",
     "output_type": "stream",
     "text": [
      "mse : 13567964212.149023\n",
      "rmse : 116481.60460840596\n",
      "r2 : 0.8861247656993143\n"
     ]
    },
    {
     "name": "stderr",
     "output_type": "stream",
     "text": [
      "[I 2023-06-21 01:35:37,153] Trial 46 finished with value: 16749605805.699352 and parameters: {'n_estimators': 964, 'learning_rate': 0.24961303479451083, 'max_depth': 6, 'min_child_weight': 6, 'gamma': 0.4058425439783224, 'subsample': 0.58631141778579, 'colsample_bytree': 0.5510231195356867}. Best is trial 21 with value: 12114723531.257904.\n"
     ]
    },
    {
     "name": "stdout",
     "output_type": "stream",
     "text": [
      "mse : 16749605805.699352\n",
      "rmse : 129420.26814104254\n",
      "r2 : 0.8594214094506347\n"
     ]
    },
    {
     "name": "stderr",
     "output_type": "stream",
     "text": [
      "[I 2023-06-21 01:35:51,802] Trial 47 finished with value: 17173597207.956367 and parameters: {'n_estimators': 2331, 'learning_rate': 0.1563622841525826, 'max_depth': 8, 'min_child_weight': 5, 'gamma': 0.38699617353986393, 'subsample': 0.5171774415948445, 'colsample_bytree': 0.5288966125226129}. Best is trial 21 with value: 12114723531.257904.\n"
     ]
    },
    {
     "name": "stdout",
     "output_type": "stream",
     "text": [
      "mse : 17173597207.956367\n",
      "rmse : 131048.0721260575\n",
      "r2 : 0.8558628711527329\n"
     ]
    },
    {
     "name": "stderr",
     "output_type": "stream",
     "text": [
      "[I 2023-06-21 01:35:53,901] Trial 48 finished with value: 12736367766.656769 and parameters: {'n_estimators': 544, 'learning_rate': 0.05332361828641516, 'max_depth': 4, 'min_child_weight': 3, 'gamma': 0.37159558734330606, 'subsample': 0.5645487513595011, 'colsample_bytree': 0.6165650098128747}. Best is trial 21 with value: 12114723531.257904.\n"
     ]
    },
    {
     "name": "stdout",
     "output_type": "stream",
     "text": [
      "mse : 12736367766.656769\n",
      "rmse : 112855.51721850717\n",
      "r2 : 0.893104312416371\n"
     ]
    },
    {
     "name": "stderr",
     "output_type": "stream",
     "text": [
      "[I 2023-06-21 01:35:56,331] Trial 49 finished with value: 13663491390.834827 and parameters: {'n_estimators': 808, 'learning_rate': 0.18277485883416025, 'max_depth': 3, 'min_child_weight': 9, 'gamma': 0.409868548757873, 'subsample': 0.5235698735101408, 'colsample_bytree': 0.5833718152132404}. Best is trial 21 with value: 12114723531.257904.\n"
     ]
    },
    {
     "name": "stdout",
     "output_type": "stream",
     "text": [
      "mse : 13663491390.834827\n",
      "rmse : 116890.93801845731\n",
      "r2 : 0.8853230109419433\n"
     ]
    },
    {
     "name": "stderr",
     "output_type": "stream",
     "text": [
      "[I 2023-06-21 01:36:08,915] Trial 50 finished with value: 19176960203.484806 and parameters: {'n_estimators': 3184, 'learning_rate': 0.3118302305969317, 'max_depth': 5, 'min_child_weight': 6, 'gamma': 0.4691374034062631, 'subsample': 0.5546158644390154, 'colsample_bytree': 0.5667048840290909}. Best is trial 21 with value: 12114723531.257904.\n"
     ]
    },
    {
     "name": "stdout",
     "output_type": "stream",
     "text": [
      "mse : 19176960203.484806\n",
      "rmse : 138480.9019449426\n",
      "r2 : 0.8390487473138116\n"
     ]
    },
    {
     "name": "stderr",
     "output_type": "stream",
     "text": [
      "[I 2023-06-21 01:36:14,546] Trial 51 finished with value: 13021049043.942812 and parameters: {'n_estimators': 1080, 'learning_rate': 0.03157346847632196, 'max_depth': 7, 'min_child_weight': 4, 'gamma': 0.3432447073017164, 'subsample': 0.6185137263092277, 'colsample_bytree': 0.5209907563313778}. Best is trial 21 with value: 12114723531.257904.\n"
     ]
    },
    {
     "name": "stdout",
     "output_type": "stream",
     "text": [
      "mse : 13021049043.942812\n",
      "rmse : 114109.8113395286\n",
      "r2 : 0.890714996919582\n"
     ]
    },
    {
     "name": "stderr",
     "output_type": "stream",
     "text": [
      "[I 2023-06-21 01:36:21,810] Trial 52 finished with value: 15248519233.825089 and parameters: {'n_estimators': 1351, 'learning_rate': 0.09912016496906789, 'max_depth': 7, 'min_child_weight': 4, 'gamma': 0.2930995413511099, 'subsample': 0.5851721753909718, 'colsample_bytree': 0.5122134379247025}. Best is trial 21 with value: 12114723531.257904.\n"
     ]
    },
    {
     "name": "stdout",
     "output_type": "stream",
     "text": [
      "mse : 15248519233.825089\n",
      "rmse : 123484.89475974414\n",
      "r2 : 0.8720199527844044\n"
     ]
    },
    {
     "name": "stderr",
     "output_type": "stream",
     "text": [
      "[I 2023-06-21 01:36:23,933] Trial 53 finished with value: 12755825220.10865 and parameters: {'n_estimators': 439, 'learning_rate': 0.06449303447099149, 'max_depth': 6, 'min_child_weight': 5, 'gamma': 0.37925482589062764, 'subsample': 0.5987620790392395, 'colsample_bytree': 0.5167941692813427}. Best is trial 21 with value: 12114723531.257904.\n"
     ]
    },
    {
     "name": "stdout",
     "output_type": "stream",
     "text": [
      "mse : 12755825220.10865\n",
      "rmse : 112941.68946898506\n",
      "r2 : 0.8929410069981017\n"
     ]
    },
    {
     "name": "stderr",
     "output_type": "stream",
     "text": [
      "[I 2023-06-21 01:36:28,278] Trial 54 finished with value: 12486050618.805391 and parameters: {'n_estimators': 808, 'learning_rate': 0.017494760789993343, 'max_depth': 7, 'min_child_weight': 2, 'gamma': 0.3310955505106784, 'subsample': 0.5004686983434226, 'colsample_bytree': 0.5020501222288327}. Best is trial 21 with value: 12114723531.257904.\n"
     ]
    },
    {
     "name": "stdout",
     "output_type": "stream",
     "text": [
      "mse : 12486050618.805391\n",
      "rmse : 111740.99793184859\n",
      "r2 : 0.8952052115207135\n"
     ]
    },
    {
     "name": "stderr",
     "output_type": "stream",
     "text": [
      "[I 2023-06-21 01:36:38,631] Trial 55 finished with value: 15830383499.618044 and parameters: {'n_estimators': 1655, 'learning_rate': 0.13234637171111283, 'max_depth': 8, 'min_child_weight': 4, 'gamma': 0.3625962180572416, 'subsample': 0.6782481909623062, 'colsample_bytree': 0.5394865679183266}. Best is trial 21 with value: 12114723531.257904.\n"
     ]
    },
    {
     "name": "stdout",
     "output_type": "stream",
     "text": [
      "mse : 15830383499.618044\n",
      "rmse : 125818.85192457466\n",
      "r2 : 0.8671363955637095\n"
     ]
    },
    {
     "name": "stderr",
     "output_type": "stream",
     "text": [
      "[I 2023-06-21 01:36:40,086] Trial 56 finished with value: 12861681154.32095 and parameters: {'n_estimators': 257, 'learning_rate': 0.06891080085184276, 'max_depth': 6, 'min_child_weight': 3, 'gamma': 0.3232307245873697, 'subsample': 0.5487345830753345, 'colsample_bytree': 0.5493513785780614}. Best is trial 21 with value: 12114723531.257904.\n"
     ]
    },
    {
     "name": "stdout",
     "output_type": "stream",
     "text": [
      "mse : 12861681154.32095\n",
      "rmse : 113409.35214664154\n",
      "r2 : 0.892052563520358\n"
     ]
    },
    {
     "name": "stderr",
     "output_type": "stream",
     "text": [
      "[I 2023-06-21 01:36:44,728] Trial 57 finished with value: 12823204064.24754 and parameters: {'n_estimators': 1185, 'learning_rate': 0.039607305576229546, 'max_depth': 5, 'min_child_weight': 5, 'gamma': 0.3017370175197875, 'subsample': 0.5690192004385631, 'colsample_bytree': 0.5215778722325746}. Best is trial 21 with value: 12114723531.257904.\n"
     ]
    },
    {
     "name": "stdout",
     "output_type": "stream",
     "text": [
      "mse : 12823204064.24754\n",
      "rmse : 113239.58700139956\n",
      "r2 : 0.8923754997824831\n"
     ]
    },
    {
     "name": "stderr",
     "output_type": "stream",
     "text": [
      "[I 2023-06-21 01:36:48,796] Trial 58 finished with value: 12170697855.748812 and parameters: {'n_estimators': 671, 'learning_rate': 0.011814138763750542, 'max_depth': 7, 'min_child_weight': 6, 'gamma': 0.37989359412719714, 'subsample': 0.6387552619383251, 'colsample_bytree': 0.7642613234870508}. Best is trial 21 with value: 12114723531.257904.\n"
     ]
    },
    {
     "name": "stdout",
     "output_type": "stream",
     "text": [
      "mse : 12170697855.748812\n",
      "rmse : 110320.88585462325\n",
      "r2 : 0.897851951239284\n"
     ]
    },
    {
     "name": "stderr",
     "output_type": "stream",
     "text": [
      "[I 2023-06-21 01:36:53,878] Trial 59 finished with value: 15185057555.040758 and parameters: {'n_estimators': 709, 'learning_rate': 0.11725206736086474, 'max_depth': 8, 'min_child_weight': 6, 'gamma': 0.43219915458650615, 'subsample': 0.6122922116909619, 'colsample_bytree': 0.7742583571989243}. Best is trial 21 with value: 12114723531.257904.\n"
     ]
    },
    {
     "name": "stdout",
     "output_type": "stream",
     "text": [
      "mse : 15185057555.040758\n",
      "rmse : 123227.66554244529\n",
      "r2 : 0.872552583430217\n"
     ]
    },
    {
     "name": "stderr",
     "output_type": "stream",
     "text": [
      "[I 2023-06-21 01:36:57,158] Trial 60 finished with value: 14989832886.901411 and parameters: {'n_estimators': 584, 'learning_rate': 0.17425627116878126, 'max_depth': 6, 'min_child_weight': 7, 'gamma': 0.37996007354113664, 'subsample': 0.5206624120498082, 'colsample_bytree': 0.7579269766411787}. Best is trial 21 with value: 12114723531.257904.\n"
     ]
    },
    {
     "name": "stdout",
     "output_type": "stream",
     "text": [
      "mse : 14989832886.901411\n",
      "rmse : 122432.97303790924\n",
      "r2 : 0.8741910941513564\n"
     ]
    },
    {
     "name": "stderr",
     "output_type": "stream",
     "text": [
      "[I 2023-06-21 01:37:02,325] Trial 61 finished with value: 12435666027.71838 and parameters: {'n_estimators': 967, 'learning_rate': 0.017648812651270947, 'max_depth': 7, 'min_child_weight': 6, 'gamma': 0.350328145312871, 'subsample': 0.6478471194977067, 'colsample_bytree': 0.5611770426266327}. Best is trial 21 with value: 12114723531.257904.\n"
     ]
    },
    {
     "name": "stdout",
     "output_type": "stream",
     "text": [
      "mse : 12435666027.71838\n",
      "rmse : 111515.31745782003\n",
      "r2 : 0.8956280868338751\n"
     ]
    },
    {
     "name": "stderr",
     "output_type": "stream",
     "text": [
      "[I 2023-06-21 01:37:04,674] Trial 62 finished with value: 13001806556.165497 and parameters: {'n_estimators': 414, 'learning_rate': 0.07790132870286692, 'max_depth': 7, 'min_child_weight': 5, 'gamma': 0.32006460204056636, 'subsample': 0.6268733034551809, 'colsample_bytree': 0.518391277397657}. Best is trial 21 with value: 12114723531.257904.\n"
     ]
    },
    {
     "name": "stdout",
     "output_type": "stream",
     "text": [
      "mse : 13001806556.165497\n",
      "rmse : 114025.46450756294\n",
      "r2 : 0.8908764981418662\n"
     ]
    },
    {
     "name": "stderr",
     "output_type": "stream",
     "text": [
      "[I 2023-06-21 01:37:10,745] Trial 63 finished with value: 13915775573.901697 and parameters: {'n_estimators': 864, 'learning_rate': 0.04665258232605939, 'max_depth': 8, 'min_child_weight': 5, 'gamma': 0.4029808061038029, 'subsample': 0.5976978979339811, 'colsample_bytree': 0.7851899580751639}. Best is trial 21 with value: 12114723531.257904.\n"
     ]
    },
    {
     "name": "stdout",
     "output_type": "stream",
     "text": [
      "mse : 13915775573.901697\n",
      "rmse : 117965.14558928709\n",
      "r2 : 0.883205602610974\n"
     ]
    },
    {
     "name": "stderr",
     "output_type": "stream",
     "text": [
      "[I 2023-06-21 01:37:17,323] Trial 64 finished with value: 15050116829.783783 and parameters: {'n_estimators': 1087, 'learning_rate': 0.08876445030418226, 'max_depth': 7, 'min_child_weight': 6, 'gamma': 0.3575505341670659, 'subsample': 0.5787025568423146, 'colsample_bytree': 0.7248036310382844}. Best is trial 21 with value: 12114723531.257904.\n"
     ]
    },
    {
     "name": "stdout",
     "output_type": "stream",
     "text": [
      "mse : 15050116829.783783\n",
      "rmse : 122678.91762557975\n",
      "r2 : 0.8736851340815213\n"
     ]
    },
    {
     "name": "stderr",
     "output_type": "stream",
     "text": [
      "[I 2023-06-21 01:37:21,087] Trial 65 finished with value: 12222360506.51078 and parameters: {'n_estimators': 677, 'learning_rate': 0.013711635732296215, 'max_depth': 6, 'min_child_weight': 4, 'gamma': 0.3799545710900343, 'subsample': 0.5456912491502235, 'colsample_bytree': 0.7997609957857338}. Best is trial 21 with value: 12114723531.257904.\n"
     ]
    },
    {
     "name": "stdout",
     "output_type": "stream",
     "text": [
      "mse : 12222360506.51078\n",
      "rmse : 110554.78509097098\n",
      "r2 : 0.8974183492362033\n"
     ]
    },
    {
     "name": "stderr",
     "output_type": "stream",
     "text": [
      "[I 2023-06-21 01:37:23,939] Trial 66 finished with value: 12261759256.625689 and parameters: {'n_estimators': 503, 'learning_rate': 0.013956447480749087, 'max_depth': 6, 'min_child_weight': 5, 'gamma': 0.42177644369414813, 'subsample': 0.543448640882022, 'colsample_bytree': 0.8266475636763303}. Best is trial 21 with value: 12114723531.257904.\n"
     ]
    },
    {
     "name": "stdout",
     "output_type": "stream",
     "text": [
      "mse : 12261759256.625689\n",
      "rmse : 110732.82826978496\n",
      "r2 : 0.8970876775281756\n"
     ]
    },
    {
     "name": "stderr",
     "output_type": "stream",
     "text": [
      "[I 2023-06-21 01:37:25,310] Trial 67 finished with value: 12297164099.160992 and parameters: {'n_estimators': 212, 'learning_rate': 0.04343318623473535, 'max_depth': 6, 'min_child_weight': 4, 'gamma': 0.41496112457828166, 'subsample': 0.5585958098804917, 'colsample_bytree': 0.8199920373358038}. Best is trial 21 with value: 12114723531.257904.\n"
     ]
    },
    {
     "name": "stdout",
     "output_type": "stream",
     "text": [
      "mse : 12297164099.160992\n",
      "rmse : 110892.579098698\n",
      "r2 : 0.8967905264835498\n"
     ]
    },
    {
     "name": "stderr",
     "output_type": "stream",
     "text": [
      "[I 2023-06-21 01:37:28,937] Trial 68 finished with value: 14654088859.240797 and parameters: {'n_estimators': 653, 'learning_rate': 0.12863301489378587, 'max_depth': 6, 'min_child_weight': 8, 'gamma': 0.37357830189051844, 'subsample': 0.5181699747427163, 'colsample_bytree': 0.8391069534608975}. Best is trial 21 with value: 12114723531.257904.\n"
     ]
    },
    {
     "name": "stdout",
     "output_type": "stream",
     "text": [
      "mse : 14654088859.240797\n",
      "rmse : 121054.07411252541\n",
      "r2 : 0.877008976717753\n"
     ]
    },
    {
     "name": "stderr",
     "output_type": "stream",
     "text": [
      "[I 2023-06-21 01:37:31,657] Trial 69 finished with value: 12389813258.488438 and parameters: {'n_estimators': 474, 'learning_rate': 0.010859888016841557, 'max_depth': 6, 'min_child_weight': 7, 'gamma': 0.4160951958414916, 'subsample': 0.5441846621636699, 'colsample_bytree': 0.8002233425514436}. Best is trial 21 with value: 12114723531.257904.\n"
     ]
    },
    {
     "name": "stdout",
     "output_type": "stream",
     "text": [
      "mse : 12389813258.488438\n",
      "rmse : 111309.53803914756\n",
      "r2 : 0.8960129267964333\n"
     ]
    },
    {
     "name": "stderr",
     "output_type": "stream",
     "text": [
      "[I 2023-06-21 01:37:33,729] Trial 70 finished with value: 13409640229.154654 and parameters: {'n_estimators': 294, 'learning_rate': 0.08955000486798402, 'max_depth': 7, 'min_child_weight': 6, 'gamma': 0.43399468686875065, 'subsample': 0.5922336125013733, 'colsample_bytree': 0.847487120091307}. Best is trial 21 with value: 12114723531.257904.\n"
     ]
    },
    {
     "name": "stdout",
     "output_type": "stream",
     "text": [
      "mse : 13409640229.154654\n",
      "rmse : 115800.0009894415\n",
      "r2 : 0.8874535708448024\n"
     ]
    },
    {
     "name": "stderr",
     "output_type": "stream",
     "text": [
      "[I 2023-06-21 01:37:35,097] Trial 71 finished with value: 12503144596.794798 and parameters: {'n_estimators': 207, 'learning_rate': 0.05993459263952895, 'max_depth': 6, 'min_child_weight': 4, 'gamma': 0.42041536409518043, 'subsample': 0.5570260689933043, 'colsample_bytree': 0.8010600118276773}. Best is trial 21 with value: 12114723531.257904.\n"
     ]
    },
    {
     "name": "stdout",
     "output_type": "stream",
     "text": [
      "mse : 12503144596.794798\n",
      "rmse : 111817.46105503736\n",
      "r2 : 0.8950617426319224\n"
     ]
    },
    {
     "name": "stderr",
     "output_type": "stream",
     "text": [
      "[I 2023-06-21 01:37:35,952] Trial 72 finished with value: 12872594814.782265 and parameters: {'n_estimators': 102, 'learning_rate': 0.042573940782284415, 'max_depth': 6, 'min_child_weight': 10, 'gamma': 0.4024443487482952, 'subsample': 0.5693022643422292, 'colsample_bytree': 0.7473475767287509}. Best is trial 21 with value: 12114723531.257904.\n"
     ]
    },
    {
     "name": "stdout",
     "output_type": "stream",
     "text": [
      "mse : 12872594814.782265\n",
      "rmse : 113457.45817169652\n",
      "r2 : 0.891960965722584\n"
     ]
    },
    {
     "name": "stderr",
     "output_type": "stream",
     "text": [
      "[I 2023-06-21 01:37:39,392] Trial 73 finished with value: 12993429077.198017 and parameters: {'n_estimators': 531, 'learning_rate': 0.04239605794249861, 'max_depth': 7, 'min_child_weight': 3, 'gamma': 0.4549931490191149, 'subsample': 0.5330337646207117, 'colsample_bytree': 0.8185533419976091}. Best is trial 21 with value: 12114723531.257904.\n"
     ]
    },
    {
     "name": "stdout",
     "output_type": "stream",
     "text": [
      "mse : 12993429077.198017\n",
      "rmse : 113988.72346507797\n",
      "r2 : 0.8909468098972153\n"
     ]
    },
    {
     "name": "stderr",
     "output_type": "stream",
     "text": [
      "[I 2023-06-21 01:37:43,028] Trial 74 finished with value: 14064435560.278542 and parameters: {'n_estimators': 681, 'learning_rate': 0.10408535457280796, 'max_depth': 6, 'min_child_weight': 4, 'gamma': 0.4433184564906263, 'subsample': 0.5595180979786032, 'colsample_bytree': 0.7709217837030735}. Best is trial 21 with value: 12114723531.257904.\n"
     ]
    },
    {
     "name": "stdout",
     "output_type": "stream",
     "text": [
      "mse : 14064435560.278542\n",
      "rmse : 118593.57301421752\n",
      "r2 : 0.8819579068981094\n"
     ]
    },
    {
     "name": "stderr",
     "output_type": "stream",
     "text": [
      "[I 2023-06-21 01:37:44,814] Trial 75 finished with value: 13310804242.324774 and parameters: {'n_estimators': 364, 'learning_rate': 0.143133507952406, 'max_depth': 5, 'min_child_weight': 5, 'gamma': 0.3829891682873534, 'subsample': 0.5829400440322005, 'colsample_bytree': 0.7882153253559131}. Best is trial 21 with value: 12114723531.257904.\n"
     ]
    },
    {
     "name": "stdout",
     "output_type": "stream",
     "text": [
      "mse : 13310804242.324774\n",
      "rmse : 115372.45876865403\n",
      "r2 : 0.8882830962608197\n"
     ]
    },
    {
     "name": "stderr",
     "output_type": "stream",
     "text": [
      "[I 2023-06-21 01:37:46,290] Trial 76 finished with value: 12580034939.000664 and parameters: {'n_estimators': 209, 'learning_rate': 0.07549914367176172, 'max_depth': 6, 'min_child_weight': 5, 'gamma': 0.42351177448566846, 'subsample': 0.5362104560949252, 'colsample_bytree': 0.8628552756780129}. Best is trial 21 with value: 12114723531.257904.\n"
     ]
    },
    {
     "name": "stdout",
     "output_type": "stream",
     "text": [
      "mse : 12580034939.000664\n",
      "rmse : 112160.7548967136\n",
      "r2 : 0.8944164058962674\n"
     ]
    },
    {
     "name": "stderr",
     "output_type": "stream",
     "text": [
      "[I 2023-06-21 01:37:50,979] Trial 77 finished with value: 12276100232.61259 and parameters: {'n_estimators': 750, 'learning_rate': 0.010865520041928485, 'max_depth': 7, 'min_child_weight': 4, 'gamma': 0.3659352761710478, 'subsample': 0.5096758551787286, 'colsample_bytree': 0.8254257411577823}. Best is trial 21 with value: 12114723531.257904.\n"
     ]
    },
    {
     "name": "stdout",
     "output_type": "stream",
     "text": [
      "mse : 12276100232.61259\n",
      "rmse : 110797.56419981709\n",
      "r2 : 0.896967314445323\n"
     ]
    },
    {
     "name": "stderr",
     "output_type": "stream",
     "text": [
      "[I 2023-06-21 01:37:57,415] Trial 78 finished with value: 12520817343.243011 and parameters: {'n_estimators': 893, 'learning_rate': 0.011626270834154956, 'max_depth': 8, 'min_child_weight': 3, 'gamma': 0.3623005560100823, 'subsample': 0.5114548484778594, 'colsample_bytree': 0.8364315373136695}. Best is trial 21 with value: 12114723531.257904.\n"
     ]
    },
    {
     "name": "stdout",
     "output_type": "stream",
     "text": [
      "mse : 12520817343.243011\n",
      "rmse : 111896.45813538073\n",
      "r2 : 0.8949134161688613\n"
     ]
    },
    {
     "name": "stderr",
     "output_type": "stream",
     "text": [
      "[I 2023-06-21 01:38:02,438] Trial 79 finished with value: 15347023765.597784 and parameters: {'n_estimators': 777, 'learning_rate': 0.11190031646853627, 'max_depth': 7, 'min_child_weight': 5, 'gamma': 0.3356683554594236, 'subsample': 0.5077236394303093, 'colsample_bytree': 0.8099830153951589}. Best is trial 21 with value: 12114723531.257904.\n"
     ]
    },
    {
     "name": "stdout",
     "output_type": "stream",
     "text": [
      "mse : 15347023765.597784\n",
      "rmse : 123883.10524683252\n",
      "r2 : 0.871193209253842\n"
     ]
    },
    {
     "name": "stderr",
     "output_type": "stream",
     "text": [
      "[I 2023-06-21 01:38:06,090] Trial 80 finished with value: 12704404997.06024 and parameters: {'n_estimators': 575, 'learning_rate': 0.042360442448232755, 'max_depth': 7, 'min_child_weight': 6, 'gamma': 0.3946800548288809, 'subsample': 0.5456274865901795, 'colsample_bytree': 0.7884494890067262}. Best is trial 21 with value: 12114723531.257904.\n"
     ]
    },
    {
     "name": "stdout",
     "output_type": "stream",
     "text": [
      "mse : 12704404997.06024\n",
      "rmse : 112713.81901550599\n",
      "r2 : 0.8933725743176992\n"
     ]
    },
    {
     "name": "stderr",
     "output_type": "stream",
     "text": [
      "[I 2023-06-21 01:38:08,777] Trial 81 finished with value: 12588083711.41005 and parameters: {'n_estimators': 405, 'learning_rate': 0.040081378866297264, 'max_depth': 7, 'min_child_weight': 4, 'gamma': 0.3512878047524065, 'subsample': 0.5764483869252686, 'colsample_bytree': 0.8138027695335845}. Best is trial 21 with value: 12114723531.257904.\n"
     ]
    },
    {
     "name": "stdout",
     "output_type": "stream",
     "text": [
      "mse : 12588083711.41005\n",
      "rmse : 112196.6296793716\n",
      "r2 : 0.8943488529583601\n"
     ]
    },
    {
     "name": "stderr",
     "output_type": "stream",
     "text": [
      "[I 2023-06-21 01:38:12,724] Trial 82 finished with value: 13882999416.523865 and parameters: {'n_estimators': 725, 'learning_rate': 0.07867901668031493, 'max_depth': 6, 'min_child_weight': 4, 'gamma': 0.37224422206895896, 'subsample': 0.5268488034150661, 'colsample_bytree': 0.8314468360341785}. Best is trial 21 with value: 12114723531.257904.\n"
     ]
    },
    {
     "name": "stdout",
     "output_type": "stream",
     "text": [
      "mse : 13882999416.523865\n",
      "rmse : 117826.1406332392\n",
      "r2 : 0.8834806912346259\n"
     ]
    },
    {
     "name": "stderr",
     "output_type": "stream",
     "text": [
      "[I 2023-06-21 01:38:16,579] Trial 83 finished with value: 12947372758.127151 and parameters: {'n_estimators': 501, 'learning_rate': 0.041314994167805, 'max_depth': 8, 'min_child_weight': 5, 'gamma': 0.4110639969348457, 'subsample': 0.5640124435187599, 'colsample_bytree': 0.8586094746550244}. Best is trial 21 with value: 12114723531.257904.\n"
     ]
    },
    {
     "name": "stdout",
     "output_type": "stream",
     "text": [
      "mse : 12947372758.127151\n",
      "rmse : 113786.52274380808\n",
      "r2 : 0.8913333582432469\n"
     ]
    },
    {
     "name": "stderr",
     "output_type": "stream",
     "text": [
      "[I 2023-06-21 01:38:22,292] Trial 84 finished with value: 14401711191.805096 and parameters: {'n_estimators': 888, 'learning_rate': 0.06630851258766966, 'max_depth': 7, 'min_child_weight': 3, 'gamma': 0.3900505519876368, 'subsample': 0.6013630962969346, 'colsample_bytree': 0.8226420870911714}. Best is trial 21 with value: 12114723531.257904.\n"
     ]
    },
    {
     "name": "stdout",
     "output_type": "stream",
     "text": [
      "mse : 14401711191.805096\n",
      "rmse : 120007.12975404876\n",
      "r2 : 0.8791271696582803\n"
     ]
    },
    {
     "name": "stderr",
     "output_type": "stream",
     "text": [
      "[I 2023-06-21 01:38:30,938] Trial 85 finished with value: 13834227870.101072 and parameters: {'n_estimators': 1002, 'learning_rate': 0.034784297304642844, 'max_depth': 9, 'min_child_weight': 4, 'gamma': 0.3127220099560528, 'subsample': 0.5446341225764686, 'colsample_bytree': 0.8047094705224057}. Best is trial 21 with value: 12114723531.257904.\n"
     ]
    },
    {
     "name": "stdout",
     "output_type": "stream",
     "text": [
      "mse : 13834227870.101072\n",
      "rmse : 117618.99451237063\n",
      "r2 : 0.8838900283458727\n"
     ]
    },
    {
     "name": "stderr",
     "output_type": "stream",
     "text": [
      "[I 2023-06-21 01:38:33,874] Trial 86 finished with value: 14046558573.74633 and parameters: {'n_estimators': 606, 'learning_rate': 0.1491326409123096, 'max_depth': 5, 'min_child_weight': 1, 'gamma': 0.33196750159973987, 'subsample': 0.5574622381991238, 'colsample_bytree': 0.8298764409463097}. Best is trial 21 with value: 12114723531.257904.\n"
     ]
    },
    {
     "name": "stdout",
     "output_type": "stream",
     "text": [
      "mse : 14046558573.74633\n",
      "rmse : 118518.1782417631\n",
      "r2 : 0.8821079475378188\n"
     ]
    },
    {
     "name": "stderr",
     "output_type": "stream",
     "text": [
      "[I 2023-06-21 01:38:35,716] Trial 87 finished with value: 13367461805.77847 and parameters: {'n_estimators': 318, 'learning_rate': 0.09577934091262988, 'max_depth': 6, 'min_child_weight': 5, 'gamma': 0.39909392097866053, 'subsample': 0.5255697028868934, 'colsample_bytree': 0.7658893318820743}. Best is trial 21 with value: 12114723531.257904.\n"
     ]
    },
    {
     "name": "stdout",
     "output_type": "stream",
     "text": [
      "mse : 13367461805.77847\n",
      "rmse : 115617.74001328027\n",
      "r2 : 0.8878075722092883\n"
     ]
    },
    {
     "name": "stderr",
     "output_type": "stream",
     "text": [
      "[I 2023-06-21 01:38:40,243] Trial 88 finished with value: 12208792368.502712 and parameters: {'n_estimators': 698, 'learning_rate': 0.01002228097020802, 'max_depth': 7, 'min_child_weight': 6, 'gamma': 0.3470886216718046, 'subsample': 0.5878244657388144, 'colsample_bytree': 0.8132771342638476}. Best is trial 21 with value: 12114723531.257904.\n"
     ]
    },
    {
     "name": "stdout",
     "output_type": "stream",
     "text": [
      "mse : 12208792368.502712\n",
      "rmse : 110493.40418551106\n",
      "r2 : 0.8975322259291643\n"
     ]
    },
    {
     "name": "stderr",
     "output_type": "stream",
     "text": [
      "[I 2023-06-21 01:38:45,713] Trial 89 finished with value: 12171876606.336668 and parameters: {'n_estimators': 764, 'learning_rate': 0.010263521409302444, 'max_depth': 7, 'min_child_weight': 6, 'gamma': 0.3440671837514917, 'subsample': 0.6174465695290331, 'colsample_bytree': 0.7938611892849049}. Best is trial 21 with value: 12114723531.257904.\n"
     ]
    },
    {
     "name": "stdout",
     "output_type": "stream",
     "text": [
      "mse : 12171876606.336668\n",
      "rmse : 110326.2280980215\n",
      "r2 : 0.8978420580454874\n"
     ]
    },
    {
     "name": "stderr",
     "output_type": "stream",
     "text": [
      "[I 2023-06-21 01:38:51,847] Trial 90 finished with value: 15170796032.42666 and parameters: {'n_estimators': 637, 'learning_rate': 0.11761799422747797, 'max_depth': 8, 'min_child_weight': 6, 'gamma': 0.3389951784254103, 'subsample': 0.6130320672537053, 'colsample_bytree': 0.7934645894039204}. Best is trial 21 with value: 12114723531.257904.\n"
     ]
    },
    {
     "name": "stdout",
     "output_type": "stream",
     "text": [
      "mse : 15170796032.42666\n",
      "rmse : 123169.78538759683\n",
      "r2 : 0.8726722796649484\n"
     ]
    },
    {
     "name": "stderr",
     "output_type": "stream",
     "text": [
      "[I 2023-06-21 01:38:56,734] Trial 91 finished with value: 12211283828.25847 and parameters: {'n_estimators': 773, 'learning_rate': 0.011999308472366273, 'max_depth': 7, 'min_child_weight': 6, 'gamma': 0.350457025337047, 'subsample': 0.625822504279856, 'colsample_bytree': 0.7796151464655336}. Best is trial 21 with value: 12114723531.257904.\n"
     ]
    },
    {
     "name": "stdout",
     "output_type": "stream",
     "text": [
      "mse : 12211283828.25847\n",
      "rmse : 110504.67785690555\n",
      "r2 : 0.897511315234015\n"
     ]
    },
    {
     "name": "stderr",
     "output_type": "stream",
     "text": [
      "[I 2023-06-21 01:39:02,271] Trial 92 finished with value: 14243840964.153622 and parameters: {'n_estimators': 909, 'learning_rate': 0.06877385049774783, 'max_depth': 7, 'min_child_weight': 6, 'gamma': 0.34988542525043764, 'subsample': 0.6241270206447957, 'colsample_bytree': 0.745922449104631}. Best is trial 21 with value: 12114723531.257904.\n"
     ]
    },
    {
     "name": "stdout",
     "output_type": "stream",
     "text": [
      "mse : 14243840964.153622\n",
      "rmse : 119347.56371268591\n",
      "r2 : 0.8804521664582289\n"
     ]
    },
    {
     "name": "stderr",
     "output_type": "stream",
     "text": [
      "[I 2023-06-21 01:39:06,911] Trial 93 finished with value: 12761278239.447012 and parameters: {'n_estimators': 767, 'learning_rate': 0.032484207900628545, 'max_depth': 7, 'min_child_weight': 7, 'gamma': 0.31665989750649337, 'subsample': 0.6386108658285086, 'colsample_bytree': 0.77093059926459}. Best is trial 21 with value: 12114723531.257904.\n"
     ]
    },
    {
     "name": "stdout",
     "output_type": "stream",
     "text": [
      "mse : 12761278239.447012\n",
      "rmse : 112965.82775090444\n",
      "r2 : 0.8928952400838401\n"
     ]
    },
    {
     "name": "stderr",
     "output_type": "stream",
     "text": [
      "[I 2023-06-21 01:39:14,414] Trial 94 finished with value: 12338050488.732645 and parameters: {'n_estimators': 1046, 'learning_rate': 0.011178501763260634, 'max_depth': 8, 'min_child_weight': 6, 'gamma': 0.38039703460766566, 'subsample': 0.5904885501239651, 'colsample_bytree': 0.7791304841365582}. Best is trial 21 with value: 12114723531.257904.\n"
     ]
    },
    {
     "name": "stdout",
     "output_type": "stream",
     "text": [
      "mse : 12338050488.732645\n",
      "rmse : 111076.77745025125\n",
      "r2 : 0.8964473690931425\n"
     ]
    },
    {
     "name": "stderr",
     "output_type": "stream",
     "text": [
      "[I 2023-06-21 01:39:15,494] Trial 95 finished with value: 16168999489.793829 and parameters: {'n_estimators': 489, 'learning_rate': 0.07975037182198624, 'max_depth': 1, 'min_child_weight': 7, 'gamma': 0.3441707878724116, 'subsample': 0.604454772196185, 'colsample_bytree': 0.8004858485359483}. Best is trial 21 with value: 12114723531.257904.\n"
     ]
    },
    {
     "name": "stdout",
     "output_type": "stream",
     "text": [
      "mse : 16168999489.793829\n",
      "rmse : 127157.38079165452\n",
      "r2 : 0.8642944087618355\n"
     ]
    },
    {
     "name": "stderr",
     "output_type": "stream",
     "text": [
      "[I 2023-06-21 01:39:32,454] Trial 96 finished with value: 15399725721.406261 and parameters: {'n_estimators': 2881, 'learning_rate': 0.05347573014975994, 'max_depth': 7, 'min_child_weight': 6, 'gamma': 0.32848084336948186, 'subsample': 0.6205674628599325, 'colsample_bytree': 0.7595251629993195}. Best is trial 21 with value: 12114723531.257904.\n"
     ]
    },
    {
     "name": "stdout",
     "output_type": "stream",
     "text": [
      "mse : 15399725721.406261\n",
      "rmse : 124095.6313550411\n",
      "r2 : 0.8707508844163088\n"
     ]
    },
    {
     "name": "stderr",
     "output_type": "stream",
     "text": [
      "[I 2023-06-21 01:39:34,599] Trial 97 finished with value: 13459559975.203299 and parameters: {'n_estimators': 825, 'learning_rate': 0.03153414090920113, 'max_depth': 2, 'min_child_weight': 6, 'gamma': 0.3631327578041451, 'subsample': 0.5914251277192523, 'colsample_bytree': 0.7865414929927425}. Best is trial 21 with value: 12114723531.257904.\n"
     ]
    },
    {
     "name": "stdout",
     "output_type": "stream",
     "text": [
      "mse : 13459559975.203299\n",
      "rmse : 116015.34370592237\n",
      "r2 : 0.8870345969524309\n"
     ]
    },
    {
     "name": "stderr",
     "output_type": "stream",
     "text": [
      "[I 2023-06-21 01:39:41,291] Trial 98 finished with value: 14187661535.449492 and parameters: {'n_estimators': 1143, 'learning_rate': 0.05948138163627371, 'max_depth': 7, 'min_child_weight': 6, 'gamma': 0.3091456696308026, 'subsample': 0.6438043999110877, 'colsample_bytree': 0.7300440314037059}. Best is trial 21 with value: 12114723531.257904.\n"
     ]
    },
    {
     "name": "stdout",
     "output_type": "stream",
     "text": [
      "mse : 14187661535.449492\n",
      "rmse : 119111.97057999457\n",
      "r2 : 0.8809236775490994\n"
     ]
    },
    {
     "name": "stderr",
     "output_type": "stream",
     "text": [
      "[I 2023-06-21 01:39:50,751] Trial 99 finished with value: 15590688564.241447 and parameters: {'n_estimators': 1297, 'learning_rate': 0.09917904846430142, 'max_depth': 8, 'min_child_weight': 7, 'gamma': 0.3869094085723863, 'subsample': 0.5730645669716108, 'colsample_bytree': 0.8117035825353764}. Best is trial 21 with value: 12114723531.257904.\n"
     ]
    },
    {
     "name": "stdout",
     "output_type": "stream",
     "text": [
      "mse : 15590688564.241447\n",
      "rmse : 124862.67882854928\n",
      "r2 : 0.8691481429784216\n",
      "Best trial: score 12114723531.257904, \n",
      "params {'n_estimators': 704, 'learning_rate': 0.012798552773938448, 'max_depth': 7, 'min_child_weight': 5, 'gamma': 0.3414618413108147, 'subsample': 0.5831546829963173, 'colsample_bytree': 0.5381338415408887}\n"
     ]
    }
   ],
   "source": [
    "import optuna\n",
    "from xgboost import XGBRegressor\n",
    "\n",
    "def objectiveXGB(trial):\n",
    "    # Define the search space for each parameter\n",
    "    params = {\n",
    "        'n_estimators': trial.suggest_int('n_estimators', 100, 4000),\n",
    "        'learning_rate': trial.suggest_float('learning_rate', 0.01, 1),\n",
    "        'max_depth': trial.suggest_int('max_depth', 1, 10),\n",
    "        'min_child_weight': trial.suggest_int('min_child_weight', 1, 10),\n",
    "        'gamma': trial.suggest_float('gamma', 0, 0.5),\n",
    "        'subsample': trial.suggest_float('subsample', 0.5, 1.0),\n",
    "        'colsample_bytree': trial.suggest_float('colsample_bytree', 0.5, 1.0),\n",
    "        'random_state': 42,\n",
    "    }\n",
    "\n",
    "    # 모델 학습\n",
    "    model = XGBRegressor(**params)\n",
    "    model.fit(x_train, y_train)\n",
    "\n",
    "    # 예측\n",
    "    y_pred = model.predict(x_test)\n",
    "\n",
    "    # 모델 평가    \n",
    "    mse = mean_squared_error(y_test, y_pred)\n",
    "    rmse = np.sqrt(mse)\n",
    "    r2 = r2_score(y_test, y_pred)\n",
    "\n",
    "    print(f\"mse : {mse}\")\n",
    "    print(f\"rmse : {rmse}\")\n",
    "    print(f\"r2 : {r2}\")\n",
    "    \n",
    "    return mse\n",
    "\n",
    "# optimization study 진행\n",
    "# direction: score 값을 최대 or 최소로 하는 방향으로 지정\n",
    "study4 = optuna.create_study(direction='minimize')\n",
    "\n",
    "# n_trials: 시도 횟수 (미입력시 key interrupt가 있을 때까지 무한 반복)\n",
    "study4.optimize(objectiveXGB, n_trials=100)\n",
    "\n",
    "# 모든 트라이얼이 완료되었는지 확인\n",
    "if study4.best_trial is None:\n",
    "    print(\"No trials completed.\")\n",
    "else:\n",
    "    # 최적의 트라이얼 출력\n",
    "    print('Best trial: score {}, \\nparams {}'.format(study4.best_trial.value, study4.best_trial.params))"
   ]
  },
  {
   "cell_type": "code",
   "execution_count": 6,
   "metadata": {},
   "outputs": [
    {
     "name": "stdout",
     "output_type": "stream",
     "text": [
      "mse : 12114723531.258\n",
      "rmse : 110066.905\n",
      "r2 : 0.898\n"
     ]
    }
   ],
   "source": [
    "# Best trial의 파라미터\n",
    "best_params = study4.best_trial.params\n",
    "\n",
    "# 최적의 모델 학습\n",
    "best_xgb = XGBRegressor(n_estimators=best_params['n_estimators'],\n",
    "                        learning_rate=best_params['learning_rate'],\n",
    "                        max_depth=best_params['max_depth'],\n",
    "                        min_child_weight=best_params['min_child_weight'],\n",
    "                        gamma=best_params['gamma'],\n",
    "                        subsample=best_params['subsample'],\n",
    "                        colsample_bytree=best_params['colsample_bytree'],\n",
    "                        random_state=42)\n",
    "best_xgb.fit(x_train, y_train)\n",
    "\n",
    "# 저장 경로 설정\n",
    "import pickle\n",
    "import os\n",
    "save_path = 'XGBRegressor_best_model.pkl'\n",
    "\n",
    "# 모델을 'XGBRegressor_best_model.pkl' 파일로 저장\n",
    "with open(save_path, 'wb') as f:\n",
    "    pickle.dump(best_xgb, f)\n",
    "\n",
    "# 저장된 모델 로드\n",
    "with open('XGBRegressor_best_model.pkl', 'rb') as f:\n",
    "    loaded_model = pickle.load(f)\n",
    "\n",
    "# 로드된 모델로 예측\n",
    "y_pred = loaded_model.predict(x_test)\n",
    "\n",
    "# 모델 평가\n",
    "from evaluate_score import evaluate_score\n",
    "evaluate_score(y_test, y_pred)"
   ]
  },
  {
   "attachments": {},
   "cell_type": "markdown",
   "metadata": {},
   "source": [
    "## GradientBoosting 을 이용한 가격 예측"
   ]
  },
  {
   "cell_type": "code",
   "execution_count": 7,
   "metadata": {},
   "outputs": [
    {
     "name": "stderr",
     "output_type": "stream",
     "text": [
      "[I 2023-06-21 01:41:40,275] A new study created in memory with name: no-name-5e32b751-5446-4644-a490-42f0c5b2c9c6\n",
      "[I 2023-06-21 01:41:49,487] Trial 0 finished with value: 19946031144.148525 and parameters: {'n_estimators': 1009, 'learning_rate': 0.9027873492643156, 'max_depth': 9, 'min_samples_split': 2, 'min_samples_leaf': 10, 'max_features': 'log2'}. Best is trial 0 with value: 19946031144.148525.\n"
     ]
    },
    {
     "name": "stdout",
     "output_type": "stream",
     "text": [
      "mse : 19946031144.148525\n",
      "rmse : 141230.4186220112\n",
      "r2 : 0.8325939739821198\n"
     ]
    },
    {
     "name": "stderr",
     "output_type": "stream",
     "text": [
      "[I 2023-06-21 01:42:14,484] Trial 1 finished with value: 13668364610.009518 and parameters: {'n_estimators': 3496, 'learning_rate': 0.09040162387004001, 'max_depth': 3, 'min_samples_split': 8, 'min_samples_leaf': 3, 'max_features': 'sqrt'}. Best is trial 1 with value: 13668364610.009518.\n"
     ]
    },
    {
     "name": "stdout",
     "output_type": "stream",
     "text": [
      "mse : 13668364610.009518\n",
      "rmse : 116911.781313987\n",
      "r2 : 0.8852821102609981\n"
     ]
    },
    {
     "name": "stderr",
     "output_type": "stream",
     "text": [
      "[I 2023-06-21 01:42:23,633] Trial 2 finished with value: 15711396922.822802 and parameters: {'n_estimators': 1853, 'learning_rate': 0.4976109749276875, 'max_depth': 3, 'min_samples_split': 6, 'min_samples_leaf': 2, 'max_features': 'log2'}. Best is trial 1 with value: 13668364610.009518.\n"
     ]
    },
    {
     "name": "stdout",
     "output_type": "stream",
     "text": [
      "mse : 15711396922.822802\n",
      "rmse : 125345.11128409755\n",
      "r2 : 0.8681350438575384\n"
     ]
    },
    {
     "name": "stderr",
     "output_type": "stream",
     "text": [
      "[I 2023-06-21 01:42:47,373] Trial 3 finished with value: 17350378193.430878 and parameters: {'n_estimators': 1885, 'learning_rate': 0.4789336563693419, 'max_depth': 4, 'min_samples_split': 5, 'min_samples_leaf': 12, 'max_features': 1.0}. Best is trial 1 with value: 13668364610.009518.\n"
     ]
    },
    {
     "name": "stdout",
     "output_type": "stream",
     "text": [
      "mse : 17350378193.430878\n",
      "rmse : 131720.8343180033\n",
      "r2 : 0.8543791573231525\n"
     ]
    },
    {
     "name": "stderr",
     "output_type": "stream",
     "text": [
      "[I 2023-06-21 01:43:31,681] Trial 4 finished with value: 15819028698.04172 and parameters: {'n_estimators': 1457, 'learning_rate': 0.1160275402242732, 'max_depth': 10, 'min_samples_split': 10, 'min_samples_leaf': 9, 'max_features': 1.0}. Best is trial 1 with value: 13668364610.009518.\n"
     ]
    },
    {
     "name": "stdout",
     "output_type": "stream",
     "text": [
      "mse : 15819028698.04172\n",
      "rmse : 125773.72022024999\n",
      "r2 : 0.8672316958364493\n"
     ]
    },
    {
     "name": "stderr",
     "output_type": "stream",
     "text": [
      "[I 2023-06-21 01:43:53,718] Trial 5 finished with value: 15595074756.126707 and parameters: {'n_estimators': 673, 'learning_rate': 0.14692325113467572, 'max_depth': 10, 'min_samples_split': 5, 'min_samples_leaf': 9, 'max_features': 1.0}. Best is trial 1 with value: 13668364610.009518.\n"
     ]
    },
    {
     "name": "stdout",
     "output_type": "stream",
     "text": [
      "mse : 15595074756.126707\n",
      "rmse : 124880.24165626326\n",
      "r2 : 0.8691113298927728\n"
     ]
    },
    {
     "name": "stderr",
     "output_type": "stream",
     "text": [
      "[I 2023-06-21 01:43:55,997] Trial 6 finished with value: 14765218632.123209 and parameters: {'n_estimators': 1245, 'learning_rate': 0.4263382504590649, 'max_depth': 1, 'min_samples_split': 4, 'min_samples_leaf': 15, 'max_features': 'sqrt'}. Best is trial 1 with value: 13668364610.009518.\n"
     ]
    },
    {
     "name": "stdout",
     "output_type": "stream",
     "text": [
      "mse : 14765218632.123209\n",
      "rmse : 121512.21597898382\n",
      "r2 : 0.8760762701799929\n"
     ]
    },
    {
     "name": "stderr",
     "output_type": "stream",
     "text": [
      "[I 2023-06-21 01:44:01,366] Trial 7 finished with value: 12181226636.545221 and parameters: {'n_estimators': 770, 'learning_rate': 0.0156752242832508, 'max_depth': 7, 'min_samples_split': 5, 'min_samples_leaf': 5, 'max_features': 'sqrt'}. Best is trial 7 with value: 12181226636.545221.\n"
     ]
    },
    {
     "name": "stdout",
     "output_type": "stream",
     "text": [
      "mse : 12181226636.545221\n",
      "rmse : 110368.59443041404\n",
      "r2 : 0.8977635837169833\n"
     ]
    },
    {
     "name": "stderr",
     "output_type": "stream",
     "text": [
      "[I 2023-06-21 01:44:04,127] Trial 8 finished with value: 19559675105.265766 and parameters: {'n_estimators': 306, 'learning_rate': 0.870567515268604, 'max_depth': 9, 'min_samples_split': 2, 'min_samples_leaf': 9, 'max_features': 'sqrt'}. Best is trial 7 with value: 12181226636.545221.\n"
     ]
    },
    {
     "name": "stdout",
     "output_type": "stream",
     "text": [
      "mse : 19559675105.265766\n",
      "rmse : 139855.90836738277\n",
      "r2 : 0.8358366405873179\n"
     ]
    },
    {
     "name": "stderr",
     "output_type": "stream",
     "text": [
      "[I 2023-06-21 01:44:27,830] Trial 9 finished with value: 16746488555.974716 and parameters: {'n_estimators': 1028, 'learning_rate': 0.3568094656386787, 'max_depth': 7, 'min_samples_split': 3, 'min_samples_leaf': 3, 'max_features': 1.0}. Best is trial 7 with value: 12181226636.545221.\n"
     ]
    },
    {
     "name": "stdout",
     "output_type": "stream",
     "text": [
      "mse : 16746488555.974716\n",
      "rmse : 129408.22445260083\n",
      "r2 : 0.859447572369199\n"
     ]
    },
    {
     "name": "stderr",
     "output_type": "stream",
     "text": [
      "[I 2023-06-21 01:44:46,786] Trial 10 finished with value: 12706931145.876665 and parameters: {'n_estimators': 3231, 'learning_rate': 0.017580120071437666, 'max_depth': 6, 'min_samples_split': 8, 'min_samples_leaf': 6, 'max_features': 'sqrt'}. Best is trial 7 with value: 12181226636.545221.\n"
     ]
    },
    {
     "name": "stdout",
     "output_type": "stream",
     "text": [
      "mse : 12706931145.876665\n",
      "rmse : 112725.02448825046\n",
      "r2 : 0.8933513724790261\n"
     ]
    },
    {
     "name": "stderr",
     "output_type": "stream",
     "text": [
      "[I 2023-06-21 01:45:04,668] Trial 11 finished with value: 13246938614.347216 and parameters: {'n_estimators': 3138, 'learning_rate': 0.031783718478782114, 'max_depth': 6, 'min_samples_split': 8, 'min_samples_leaf': 6, 'max_features': 'sqrt'}. Best is trial 7 with value: 12181226636.545221.\n"
     ]
    },
    {
     "name": "stdout",
     "output_type": "stream",
     "text": [
      "mse : 13246938614.347216\n",
      "rmse : 115095.34575449702\n",
      "r2 : 0.8888191172316883\n"
     ]
    },
    {
     "name": "stderr",
     "output_type": "stream",
     "text": [
      "[I 2023-06-21 01:45:22,700] Trial 12 finished with value: 16257511991.743916 and parameters: {'n_estimators': 2665, 'learning_rate': 0.2511171089439041, 'max_depth': 7, 'min_samples_split': 8, 'min_samples_leaf': 6, 'max_features': 'sqrt'}. Best is trial 7 with value: 12181226636.545221.\n"
     ]
    },
    {
     "name": "stdout",
     "output_type": "stream",
     "text": [
      "mse : 16257511991.743916\n",
      "rmse : 127504.94889118585\n",
      "r2 : 0.8635515278299208\n"
     ]
    },
    {
     "name": "stderr",
     "output_type": "stream",
     "text": [
      "[I 2023-06-21 01:45:43,165] Trial 13 finished with value: 12300829364.82542 and parameters: {'n_estimators': 4000, 'learning_rate': 0.01039783065897856, 'max_depth': 5, 'min_samples_split': 10, 'min_samples_leaf': 6, 'max_features': 'sqrt'}. Best is trial 7 with value: 12181226636.545221.\n"
     ]
    },
    {
     "name": "stdout",
     "output_type": "stream",
     "text": [
      "mse : 12300829364.82542\n",
      "rmse : 110909.10406646255\n",
      "r2 : 0.8967597640950452\n"
     ]
    },
    {
     "name": "stderr",
     "output_type": "stream",
     "text": [
      "[I 2023-06-21 01:46:02,544] Trial 14 finished with value: 16186826532.042685 and parameters: {'n_estimators': 3908, 'learning_rate': 0.26019669716318944, 'max_depth': 5, 'min_samples_split': 10, 'min_samples_leaf': 5, 'max_features': 'sqrt'}. Best is trial 7 with value: 12181226636.545221.\n"
     ]
    },
    {
     "name": "stdout",
     "output_type": "stream",
     "text": [
      "mse : 16186826532.042685\n",
      "rmse : 127227.45981918638\n",
      "r2 : 0.8641447873019588\n"
     ]
    },
    {
     "name": "stderr",
     "output_type": "stream",
     "text": [
      "[I 2023-06-21 01:46:22,444] Trial 15 finished with value: 15933171076.147081 and parameters: {'n_estimators': 2575, 'learning_rate': 0.2232846544159231, 'max_depth': 8, 'min_samples_split': 6, 'min_samples_leaf': 1, 'max_features': 'sqrt'}. Best is trial 7 with value: 12181226636.545221.\n"
     ]
    },
    {
     "name": "stdout",
     "output_type": "stream",
     "text": [
      "mse : 15933171076.147081\n",
      "rmse : 126226.66547186882\n",
      "r2 : 0.8662737046561109\n"
     ]
    },
    {
     "name": "stderr",
     "output_type": "stream",
     "text": [
      "[I 2023-06-21 01:46:23,564] Trial 16 finished with value: 13858782464.175707 and parameters: {'n_estimators': 214, 'learning_rate': 0.01712289818826907, 'max_depth': 5, 'min_samples_split': 7, 'min_samples_leaf': 5, 'max_features': 'log2'}. Best is trial 7 with value: 12181226636.545221.\n"
     ]
    },
    {
     "name": "stdout",
     "output_type": "stream",
     "text": [
      "mse : 13858782464.175707\n",
      "rmse : 117723.3301609146\n",
      "r2 : 0.8836839428853213\n"
     ]
    },
    {
     "name": "stderr",
     "output_type": "stream",
     "text": [
      "[I 2023-06-21 01:46:27,979] Trial 17 finished with value: 14744275631.97918 and parameters: {'n_estimators': 2335, 'learning_rate': 0.17355132497791598, 'max_depth': 1, 'min_samples_split': 4, 'min_samples_leaf': 12, 'max_features': 'sqrt'}. Best is trial 7 with value: 12181226636.545221.\n"
     ]
    },
    {
     "name": "stdout",
     "output_type": "stream",
     "text": [
      "mse : 14744275631.97918\n",
      "rmse : 121426.008877749\n",
      "r2 : 0.8762520437161749\n"
     ]
    },
    {
     "name": "stderr",
     "output_type": "stream",
     "text": [
      "[I 2023-06-21 01:46:38,888] Trial 18 finished with value: 18259609779.64912 and parameters: {'n_estimators': 1604, 'learning_rate': 0.6439166017604545, 'max_depth': 7, 'min_samples_split': 9, 'min_samples_leaf': 7, 'max_features': 'sqrt'}. Best is trial 7 with value: 12181226636.545221.\n"
     ]
    },
    {
     "name": "stdout",
     "output_type": "stream",
     "text": [
      "mse : 18259609779.64912\n",
      "rmse : 135128.12357036976\n",
      "r2 : 0.8467480228143015\n"
     ]
    },
    {
     "name": "stderr",
     "output_type": "stream",
     "text": [
      "[I 2023-06-21 01:47:07,356] Trial 19 finished with value: 16201522252.78264 and parameters: {'n_estimators': 3808, 'learning_rate': 0.29526785934132677, 'max_depth': 8, 'min_samples_split': 7, 'min_samples_leaf': 4, 'max_features': 'log2'}. Best is trial 7 with value: 12181226636.545221.\n"
     ]
    },
    {
     "name": "stdout",
     "output_type": "stream",
     "text": [
      "mse : 16201522252.78264\n",
      "rmse : 127285.2004468023\n",
      "r2 : 0.8640214468644168\n"
     ]
    },
    {
     "name": "stderr",
     "output_type": "stream",
     "text": [
      "[I 2023-06-21 01:47:10,252] Trial 20 finished with value: 12769274010.601305 and parameters: {'n_estimators': 608, 'learning_rate': 0.14346133703537967, 'max_depth': 4, 'min_samples_split': 6, 'min_samples_leaf': 11, 'max_features': 'sqrt'}. Best is trial 7 with value: 12181226636.545221.\n"
     ]
    },
    {
     "name": "stdout",
     "output_type": "stream",
     "text": [
      "mse : 12769274010.601305\n",
      "rmse : 113001.2124297846\n",
      "r2 : 0.892828131982774\n"
     ]
    },
    {
     "name": "stderr",
     "output_type": "stream",
     "text": [
      "[I 2023-06-21 01:47:28,921] Trial 21 finished with value: 12583356126.355206 and parameters: {'n_estimators': 3207, 'learning_rate': 0.014004334006404709, 'max_depth': 6, 'min_samples_split': 9, 'min_samples_leaf': 7, 'max_features': 'sqrt'}. Best is trial 7 with value: 12181226636.545221.\n"
     ]
    },
    {
     "name": "stdout",
     "output_type": "stream",
     "text": [
      "mse : 12583356126.355206\n",
      "rmse : 112175.55939845009\n",
      "r2 : 0.8943885313395364\n"
     ]
    },
    {
     "name": "stderr",
     "output_type": "stream",
     "text": [
      "[I 2023-06-21 01:47:46,460] Trial 22 finished with value: 14396168946.838137 and parameters: {'n_estimators': 3051, 'learning_rate': 0.09176219108248404, 'max_depth': 6, 'min_samples_split': 10, 'min_samples_leaf': 7, 'max_features': 'sqrt'}. Best is trial 7 with value: 12181226636.545221.\n"
     ]
    },
    {
     "name": "stdout",
     "output_type": "stream",
     "text": [
      "mse : 14396168946.838137\n",
      "rmse : 119984.036216649\n",
      "r2 : 0.8791736854387096\n"
     ]
    },
    {
     "name": "stderr",
     "output_type": "stream",
     "text": [
      "[I 2023-06-21 01:48:02,411] Trial 23 finished with value: 12282753349.379854 and parameters: {'n_estimators': 3582, 'learning_rate': 0.010527880615620362, 'max_depth': 4, 'min_samples_split': 9, 'min_samples_leaf': 8, 'max_features': 'sqrt'}. Best is trial 7 with value: 12181226636.545221.\n"
     ]
    },
    {
     "name": "stdout",
     "output_type": "stream",
     "text": [
      "mse : 12282753349.379854\n",
      "rmse : 110827.58388316445\n",
      "r2 : 0.8969114751743126\n"
     ]
    },
    {
     "name": "stderr",
     "output_type": "stream",
     "text": [
      "[I 2023-06-21 01:48:14,916] Trial 24 finished with value: 14212357993.961798 and parameters: {'n_estimators': 3589, 'learning_rate': 0.19062560593000205, 'max_depth': 3, 'min_samples_split': 9, 'min_samples_leaf': 8, 'max_features': 'sqrt'}. Best is trial 7 with value: 12181226636.545221.\n"
     ]
    },
    {
     "name": "stdout",
     "output_type": "stream",
     "text": [
      "mse : 14212357993.961798\n",
      "rmse : 119215.59459215812\n",
      "r2 : 0.8807164014275299\n"
     ]
    },
    {
     "name": "stderr",
     "output_type": "stream",
     "text": [
      "[I 2023-06-21 01:48:32,293] Trial 25 finished with value: 14193365159.669565 and parameters: {'n_estimators': 3963, 'learning_rate': 0.10315829424639031, 'max_depth': 4, 'min_samples_split': 9, 'min_samples_leaf': 4, 'max_features': 'sqrt'}. Best is trial 7 with value: 12181226636.545221.\n"
     ]
    },
    {
     "name": "stdout",
     "output_type": "stream",
     "text": [
      "mse : 14193365159.669565\n",
      "rmse : 119135.91045385755\n",
      "r2 : 0.8808758073207977\n"
     ]
    },
    {
     "name": "stderr",
     "output_type": "stream",
     "text": [
      "[I 2023-06-21 01:48:39,782] Trial 26 finished with value: 13909429140.674225 and parameters: {'n_estimators': 2718, 'learning_rate': 0.3628821277863992, 'max_depth': 2, 'min_samples_split': 7, 'min_samples_leaf': 8, 'max_features': 'sqrt'}. Best is trial 7 with value: 12181226636.545221.\n"
     ]
    },
    {
     "name": "stdout",
     "output_type": "stream",
     "text": [
      "mse : 13909429140.674225\n",
      "rmse : 117938.2429098985\n",
      "r2 : 0.8832588679026163\n"
     ]
    },
    {
     "name": "stderr",
     "output_type": "stream",
     "text": [
      "[I 2023-06-21 01:48:51,092] Trial 27 finished with value: 15157063454.901115 and parameters: {'n_estimators': 2224, 'learning_rate': 0.20762150595634857, 'max_depth': 5, 'min_samples_split': 5, 'min_samples_leaf': 15, 'max_features': 'sqrt'}. Best is trial 7 with value: 12181226636.545221.\n"
     ]
    },
    {
     "name": "stdout",
     "output_type": "stream",
     "text": [
      "mse : 15157063454.901115\n",
      "rmse : 123114.02623138078\n",
      "r2 : 0.8727875364904252\n"
     ]
    },
    {
     "name": "stderr",
     "output_type": "stream",
     "text": [
      "[I 2023-06-21 01:49:05,798] Trial 28 finished with value: 13326885443.0487 and parameters: {'n_estimators': 3614, 'learning_rate': 0.06480122898651025, 'max_depth': 4, 'min_samples_split': 4, 'min_samples_leaf': 5, 'max_features': 'log2'}. Best is trial 7 with value: 12181226636.545221.\n"
     ]
    },
    {
     "name": "stdout",
     "output_type": "stream",
     "text": [
      "mse : 13326885443.0487\n",
      "rmse : 115442.13027767939\n",
      "r2 : 0.8881481275601628\n"
     ]
    },
    {
     "name": "stderr",
     "output_type": "stream",
     "text": [
      "[I 2023-06-21 01:50:16,019] Trial 29 finished with value: 16491097696.744492 and parameters: {'n_estimators': 2878, 'learning_rate': 0.16390572447765858, 'max_depth': 8, 'min_samples_split': 10, 'min_samples_leaf': 10, 'max_features': 1.0}. Best is trial 7 with value: 12181226636.545221.\n"
     ]
    },
    {
     "name": "stdout",
     "output_type": "stream",
     "text": [
      "mse : 16491097696.744492\n",
      "rmse : 128417.66894296318\n",
      "r2 : 0.86159105487537\n"
     ]
    },
    {
     "name": "stderr",
     "output_type": "stream",
     "text": [
      "[I 2023-06-21 01:50:25,116] Trial 30 finished with value: 13148505514.77931 and parameters: {'n_estimators': 3416, 'learning_rate': 0.06305382608795482, 'max_depth': 2, 'min_samples_split': 3, 'min_samples_leaf': 4, 'max_features': 'log2'}. Best is trial 7 with value: 12181226636.545221.\n"
     ]
    },
    {
     "name": "stdout",
     "output_type": "stream",
     "text": [
      "mse : 13148505514.77931\n",
      "rmse : 114666.93296142228\n",
      "r2 : 0.8896452612353849\n"
     ]
    },
    {
     "name": "stderr",
     "output_type": "stream",
     "text": [
      "[I 2023-06-21 01:50:43,442] Trial 31 finished with value: 13013028035.418947 and parameters: {'n_estimators': 3316, 'learning_rate': 0.021738479066768304, 'max_depth': 6, 'min_samples_split': 9, 'min_samples_leaf': 7, 'max_features': 'sqrt'}. Best is trial 7 with value: 12181226636.545221.\n"
     ]
    },
    {
     "name": "stdout",
     "output_type": "stream",
     "text": [
      "mse : 13013028035.418947\n",
      "rmse : 114074.6599180508\n",
      "r2 : 0.8907823168366087\n"
     ]
    },
    {
     "name": "stderr",
     "output_type": "stream",
     "text": [
      "[I 2023-06-21 01:51:00,852] Trial 32 finished with value: 14584947716.443842 and parameters: {'n_estimators': 3689, 'learning_rate': 0.0973170202837535, 'max_depth': 5, 'min_samples_split': 9, 'min_samples_leaf': 7, 'max_features': 'sqrt'}. Best is trial 7 with value: 12181226636.545221.\n"
     ]
    },
    {
     "name": "stdout",
     "output_type": "stream",
     "text": [
      "mse : 14584947716.443842\n",
      "rmse : 120768.15688104146\n",
      "r2 : 0.8775892748164738\n"
     ]
    },
    {
     "name": "stderr",
     "output_type": "stream",
     "text": [
      "[I 2023-06-21 01:51:24,366] Trial 33 finished with value: 13136683411.97043 and parameters: {'n_estimators': 3481, 'learning_rate': 0.01653798590609125, 'max_depth': 7, 'min_samples_split': 10, 'min_samples_leaf': 3, 'max_features': 'sqrt'}. Best is trial 7 with value: 12181226636.545221.\n"
     ]
    },
    {
     "name": "stdout",
     "output_type": "stream",
     "text": [
      "mse : 13136683411.97043\n",
      "rmse : 114615.37162165654\n",
      "r2 : 0.8897444835436279\n"
     ]
    },
    {
     "name": "stderr",
     "output_type": "stream",
     "text": [
      "[I 2023-06-21 01:51:35,893] Trial 34 finished with value: 13341880678.026333 and parameters: {'n_estimators': 3010, 'learning_rate': 0.08051301183190691, 'max_depth': 3, 'min_samples_split': 9, 'min_samples_leaf': 6, 'max_features': 'sqrt'}. Best is trial 7 with value: 12181226636.545221.\n"
     ]
    },
    {
     "name": "stdout",
     "output_type": "stream",
     "text": [
      "mse : 13341880678.026333\n",
      "rmse : 115507.05899652338\n",
      "r2 : 0.8880222733148411\n"
     ]
    },
    {
     "name": "stderr",
     "output_type": "stream",
     "text": [
      "[I 2023-06-21 01:51:55,409] Trial 35 finished with value: 15119064314.548574 and parameters: {'n_estimators': 3962, 'learning_rate': 0.14078322242087554, 'max_depth': 5, 'min_samples_split': 7, 'min_samples_leaf': 10, 'max_features': 'sqrt'}. Best is trial 7 with value: 12181226636.545221.\n"
     ]
    },
    {
     "name": "stdout",
     "output_type": "stream",
     "text": [
      "mse : 15119064314.548574\n",
      "rmse : 122959.60440139913\n",
      "r2 : 0.8731064613448256\n"
     ]
    },
    {
     "name": "stderr",
     "output_type": "stream",
     "text": [
      "[I 2023-06-21 01:52:20,550] Trial 36 finished with value: 14498583201.269224 and parameters: {'n_estimators': 1925, 'learning_rate': 0.11714086445227324, 'max_depth': 4, 'min_samples_split': 8, 'min_samples_leaf': 8, 'max_features': 1.0}. Best is trial 7 with value: 12181226636.545221.\n"
     ]
    },
    {
     "name": "stdout",
     "output_type": "stream",
     "text": [
      "mse : 14498583201.269224\n",
      "rmse : 120410.06270768745\n",
      "r2 : 0.8783141278045121\n"
     ]
    },
    {
     "name": "stderr",
     "output_type": "stream",
     "text": [
      "[I 2023-06-21 01:52:31,343] Trial 37 finished with value: 13733639248.408361 and parameters: {'n_estimators': 1680, 'learning_rate': 0.07497273565015782, 'max_depth': 6, 'min_samples_split': 10, 'min_samples_leaf': 2, 'max_features': 'sqrt'}. Best is trial 7 with value: 12181226636.545221.\n"
     ]
    },
    {
     "name": "stdout",
     "output_type": "stream",
     "text": [
      "mse : 13733639248.408361\n",
      "rmse : 117190.61075192143\n",
      "r2 : 0.8847342635372498\n"
     ]
    },
    {
     "name": "stderr",
     "output_type": "stream",
     "text": [
      "[I 2023-06-21 01:52:37,076] Trial 38 finished with value: 15347160460.731802 and parameters: {'n_estimators': 716, 'learning_rate': 0.18398918000697806, 'max_depth': 9, 'min_samples_split': 6, 'min_samples_leaf': 9, 'max_features': 'sqrt'}. Best is trial 7 with value: 12181226636.545221.\n"
     ]
    },
    {
     "name": "stdout",
     "output_type": "stream",
     "text": [
      "mse : 15347160460.731802\n",
      "rmse : 123883.6569557575\n",
      "r2 : 0.8711920619785272\n"
     ]
    },
    {
     "name": "stderr",
     "output_type": "stream",
     "text": [
      "[I 2023-06-21 01:52:50,401] Trial 39 finished with value: 13705212851.15381 and parameters: {'n_estimators': 1305, 'learning_rate': 0.1326259706522512, 'max_depth': 3, 'min_samples_split': 5, 'min_samples_leaf': 8, 'max_features': 1.0}. Best is trial 7 with value: 12181226636.545221.\n"
     ]
    },
    {
     "name": "stdout",
     "output_type": "stream",
     "text": [
      "mse : 13705212851.15381\n",
      "rmse : 117069.26518584548\n",
      "r2 : 0.8849728448451801\n"
     ]
    },
    {
     "name": "stderr",
     "output_type": "stream",
     "text": [
      "[I 2023-06-21 01:53:13,948] Trial 40 finished with value: 14548769828.49247 and parameters: {'n_estimators': 3728, 'learning_rate': 0.06726078038530335, 'max_depth': 7, 'min_samples_split': 8, 'min_samples_leaf': 5, 'max_features': 'log2'}. Best is trial 7 with value: 12181226636.545221.\n"
     ]
    },
    {
     "name": "stdout",
     "output_type": "stream",
     "text": [
      "mse : 14548769828.49247\n",
      "rmse : 120618.28148540531\n",
      "r2 : 0.8778929139920014\n"
     ]
    },
    {
     "name": "stderr",
     "output_type": "stream",
     "text": [
      "[I 2023-06-21 01:53:32,171] Trial 41 finished with value: 13834795716.005877 and parameters: {'n_estimators': 3258, 'learning_rate': 0.053071340846070625, 'max_depth': 6, 'min_samples_split': 8, 'min_samples_leaf': 6, 'max_features': 'sqrt'}. Best is trial 7 with value: 12181226636.545221.\n"
     ]
    },
    {
     "name": "stdout",
     "output_type": "stream",
     "text": [
      "mse : 13834795716.005877\n",
      "rmse : 117621.40840852857\n",
      "r2 : 0.8838852624440436\n"
     ]
    },
    {
     "name": "stderr",
     "output_type": "stream",
     "text": [
      "[I 2023-06-21 01:53:50,079] Trial 42 finished with value: 12598816839.1189 and parameters: {'n_estimators': 3170, 'learning_rate': 0.014887392143863126, 'max_depth': 6, 'min_samples_split': 9, 'min_samples_leaf': 6, 'max_features': 'sqrt'}. Best is trial 7 with value: 12181226636.545221.\n"
     ]
    },
    {
     "name": "stdout",
     "output_type": "stream",
     "text": [
      "mse : 12598816839.1189\n",
      "rmse : 112244.45126205082\n",
      "r2 : 0.8942587703628053\n"
     ]
    },
    {
     "name": "stderr",
     "output_type": "stream",
     "text": [
      "[I 2023-06-21 01:54:02,322] Trial 43 finished with value: 12293917447.662266 and parameters: {'n_estimators': 2444, 'learning_rate': 0.013459163383609425, 'max_depth': 5, 'min_samples_split': 9, 'min_samples_leaf': 7, 'max_features': 'sqrt'}. Best is trial 7 with value: 12181226636.545221.\n"
     ]
    },
    {
     "name": "stdout",
     "output_type": "stream",
     "text": [
      "mse : 12293917447.662266\n",
      "rmse : 110877.93940934449\n",
      "r2 : 0.8968177754646297\n"
     ]
    },
    {
     "name": "stderr",
     "output_type": "stream",
     "text": [
      "[I 2023-06-21 01:54:13,837] Trial 44 finished with value: 12199471682.838385 and parameters: {'n_estimators': 2285, 'learning_rate': 0.010606036139232944, 'max_depth': 5, 'min_samples_split': 10, 'min_samples_leaf': 7, 'max_features': 'sqrt'}. Best is trial 7 with value: 12181226636.545221.\n"
     ]
    },
    {
     "name": "stdout",
     "output_type": "stream",
     "text": [
      "mse : 12199471682.838385\n",
      "rmse : 110451.2185665617\n",
      "r2 : 0.8976104539703997\n"
     ]
    },
    {
     "name": "stderr",
     "output_type": "stream",
     "text": [
      "[I 2023-06-21 01:54:22,663] Trial 45 finished with value: 13727253807.493895 and parameters: {'n_estimators': 2162, 'learning_rate': 0.11776446265187906, 'max_depth': 4, 'min_samples_split': 10, 'min_samples_leaf': 8, 'max_features': 'sqrt'}. Best is trial 7 with value: 12181226636.545221.\n"
     ]
    },
    {
     "name": "stdout",
     "output_type": "stream",
     "text": [
      "mse : 13727253807.493895\n",
      "rmse : 117163.36375972608\n",
      "r2 : 0.8847878562184271\n"
     ]
    },
    {
     "name": "stderr",
     "output_type": "stream",
     "text": [
      "[I 2023-06-21 01:54:34,248] Trial 46 finished with value: 13109029125.94284 and parameters: {'n_estimators': 2366, 'learning_rate': 0.055817884102164164, 'max_depth': 5, 'min_samples_split': 10, 'min_samples_leaf': 9, 'max_features': 'sqrt'}. Best is trial 7 with value: 12181226636.545221.\n"
     ]
    },
    {
     "name": "stdout",
     "output_type": "stream",
     "text": [
      "mse : 13109029125.94284\n",
      "rmse : 114494.66854811556\n",
      "r2 : 0.8899765845612582\n"
     ]
    },
    {
     "name": "stderr",
     "output_type": "stream",
     "text": [
      "[I 2023-06-21 01:54:46,869] Trial 47 finished with value: 14916544136.153019 and parameters: {'n_estimators': 2523, 'learning_rate': 0.1527162679416761, 'max_depth': 5, 'min_samples_split': 5, 'min_samples_leaf': 4, 'max_features': 'sqrt'}. Best is trial 7 with value: 12181226636.545221.\n"
     ]
    },
    {
     "name": "stdout",
     "output_type": "stream",
     "text": [
      "mse : 14916544136.153019\n",
      "rmse : 122133.30477864348\n",
      "r2 : 0.8748062029128908\n"
     ]
    },
    {
     "name": "stderr",
     "output_type": "stream",
     "text": [
      "[I 2023-06-21 01:55:12,245] Trial 48 finished with value: 15894441861.181145 and parameters: {'n_estimators': 1987, 'learning_rate': 0.2216181833820778, 'max_depth': 4, 'min_samples_split': 10, 'min_samples_leaf': 5, 'max_features': 1.0}. Best is trial 7 with value: 12181226636.545221.\n"
     ]
    },
    {
     "name": "stdout",
     "output_type": "stream",
     "text": [
      "mse : 15894441861.181145\n",
      "rmse : 126073.16074875391\n",
      "r2 : 0.8665987569896496\n"
     ]
    },
    {
     "name": "stderr",
     "output_type": "stream",
     "text": [
      "[I 2023-06-21 01:55:18,012] Trial 49 finished with value: 12702973009.63629 and parameters: {'n_estimators': 1758, 'learning_rate': 0.050367332905430384, 'max_depth': 3, 'min_samples_split': 3, 'min_samples_leaf': 9, 'max_features': 'sqrt'}. Best is trial 7 with value: 12181226636.545221.\n"
     ]
    },
    {
     "name": "stdout",
     "output_type": "stream",
     "text": [
      "mse : 12702973009.63629\n",
      "rmse : 112707.46652123936\n",
      "r2 : 0.8933845929153951\n"
     ]
    },
    {
     "name": "stderr",
     "output_type": "stream",
     "text": [
      "[I 2023-06-21 01:55:25,252] Trial 50 finished with value: 13645267237.31408 and parameters: {'n_estimators': 1445, 'learning_rate': 0.11746040632438177, 'max_depth': 5, 'min_samples_split': 10, 'min_samples_leaf': 7, 'max_features': 'sqrt'}. Best is trial 7 with value: 12181226636.545221.\n"
     ]
    },
    {
     "name": "stdout",
     "output_type": "stream",
     "text": [
      "mse : 13645267237.31408\n",
      "rmse : 116812.95834501444\n",
      "r2 : 0.8854759653365495\n"
     ]
    },
    {
     "name": "stderr",
     "output_type": "stream",
     "text": [
      "[I 2023-06-21 01:55:42,225] Trial 51 finished with value: 12301964765.81455 and parameters: {'n_estimators': 2864, 'learning_rate': 0.010264414603245191, 'max_depth': 6, 'min_samples_split': 9, 'min_samples_leaf': 7, 'max_features': 'sqrt'}. Best is trial 7 with value: 12181226636.545221.\n"
     ]
    },
    {
     "name": "stdout",
     "output_type": "stream",
     "text": [
      "mse : 12301964765.81455\n",
      "rmse : 110914.22255876183\n",
      "r2 : 0.8967502347322284\n"
     ]
    },
    {
     "name": "stderr",
     "output_type": "stream",
     "text": [
      "[I 2023-06-21 01:56:04,439] Trial 52 finished with value: 13663249544.107159 and parameters: {'n_estimators': 2889, 'learning_rate': 0.0329122905340008, 'max_depth': 7, 'min_samples_split': 9, 'min_samples_leaf': 6, 'max_features': 'sqrt'}. Best is trial 7 with value: 12181226636.545221.\n"
     ]
    },
    {
     "name": "stdout",
     "output_type": "stream",
     "text": [
      "mse : 13663249544.107159\n",
      "rmse : 116889.90351654483\n",
      "r2 : 0.8853250407492415\n"
     ]
    },
    {
     "name": "stderr",
     "output_type": "stream",
     "text": [
      "[I 2023-06-21 01:56:23,003] Trial 53 finished with value: 15189110921.28986 and parameters: {'n_estimators': 2492, 'learning_rate': 0.09095980666355793, 'max_depth': 8, 'min_samples_split': 9, 'min_samples_leaf': 6, 'max_features': 'sqrt'}. Best is trial 7 with value: 12181226636.545221.\n"
     ]
    },
    {
     "name": "stdout",
     "output_type": "stream",
     "text": [
      "mse : 15189110921.28986\n",
      "rmse : 123244.11110186912\n",
      "r2 : 0.872518563733223\n"
     ]
    },
    {
     "name": "stderr",
     "output_type": "stream",
     "text": [
      "[I 2023-06-21 01:56:34,809] Trial 54 finished with value: 12208044755.3602 and parameters: {'n_estimators': 2120, 'learning_rate': 0.010263230640678156, 'max_depth': 6, 'min_samples_split': 4, 'min_samples_leaf': 8, 'max_features': 'sqrt'}. Best is trial 7 with value: 12181226636.545221.\n"
     ]
    },
    {
     "name": "stdout",
     "output_type": "stream",
     "text": [
      "mse : 12208044755.3602\n",
      "rmse : 110490.02106688278\n",
      "r2 : 0.8975385006082863\n"
     ]
    },
    {
     "name": "stderr",
     "output_type": "stream",
     "text": [
      "[I 2023-06-21 01:56:45,229] Trial 55 finished with value: 12818403250.394777 and parameters: {'n_estimators': 2095, 'learning_rate': 0.04607976535294914, 'max_depth': 5, 'min_samples_split': 4, 'min_samples_leaf': 14, 'max_features': 'sqrt'}. Best is trial 7 with value: 12181226636.545221.\n"
     ]
    },
    {
     "name": "stdout",
     "output_type": "stream",
     "text": [
      "mse : 12818403250.394777\n",
      "rmse : 113218.38742180873\n",
      "r2 : 0.89241579276924\n"
     ]
    },
    {
     "name": "stderr",
     "output_type": "stream",
     "text": [
      "[I 2023-06-21 01:56:49,693] Trial 56 finished with value: 13617478804.621931 and parameters: {'n_estimators': 1066, 'learning_rate': 0.17114287541587642, 'max_depth': 4, 'min_samples_split': 2, 'min_samples_leaf': 8, 'max_features': 'sqrt'}. Best is trial 7 with value: 12181226636.545221.\n"
     ]
    },
    {
     "name": "stdout",
     "output_type": "stream",
     "text": [
      "mse : 13617478804.621931\n",
      "rmse : 116693.95359067208\n",
      "r2 : 0.8857091922403199\n"
     ]
    },
    {
     "name": "stderr",
     "output_type": "stream",
     "text": [
      "[I 2023-06-21 01:56:52,836] Trial 57 finished with value: 12902679831.939688 and parameters: {'n_estimators': 455, 'learning_rate': 0.09308834639503966, 'max_depth': 7, 'min_samples_split': 6, 'min_samples_leaf': 10, 'max_features': 'log2'}. Best is trial 7 with value: 12181226636.545221.\n"
     ]
    },
    {
     "name": "stdout",
     "output_type": "stream",
     "text": [
      "mse : 12902679831.939688\n",
      "rmse : 113589.96360567992\n",
      "r2 : 0.8917084637020765\n"
     ]
    },
    {
     "name": "stderr",
     "output_type": "stream",
     "text": [
      "[I 2023-06-21 01:57:05,033] Trial 58 finished with value: 14647905479.261742 and parameters: {'n_estimators': 2326, 'learning_rate': 0.14347183623957566, 'max_depth': 5, 'min_samples_split': 3, 'min_samples_leaf': 9, 'max_features': 'sqrt'}. Best is trial 7 with value: 12181226636.545221.\n"
     ]
    },
    {
     "name": "stdout",
     "output_type": "stream",
     "text": [
      "mse : 14647905479.261742\n",
      "rmse : 121028.53167440205\n",
      "r2 : 0.8770608735117654\n"
     ]
    },
    {
     "name": "stderr",
     "output_type": "stream",
     "text": [
      "[I 2023-06-21 01:57:06,414] Trial 59 finished with value: 14098271499.600449 and parameters: {'n_estimators': 116, 'learning_rate': 0.2516398856909162, 'max_depth': 10, 'min_samples_split': 4, 'min_samples_leaf': 5, 'max_features': 'sqrt'}. Best is trial 7 with value: 12181226636.545221.\n"
     ]
    },
    {
     "name": "stdout",
     "output_type": "stream",
     "text": [
      "mse : 14098271499.600449\n",
      "rmse : 118736.14234764597\n",
      "r2 : 0.8816739235784441\n"
     ]
    },
    {
     "name": "stderr",
     "output_type": "stream",
     "text": [
      "[I 2023-06-21 01:57:17,879] Trial 60 finished with value: 12657103880.401548 and parameters: {'n_estimators': 1807, 'learning_rate': 0.03802631456335985, 'max_depth': 4, 'min_samples_split': 4, 'min_samples_leaf': 11, 'max_features': 'sqrt'}. Best is trial 7 with value: 12181226636.545221.\n"
     ]
    },
    {
     "name": "stdout",
     "output_type": "stream",
     "text": [
      "mse : 12657103880.401548\n",
      "rmse : 112503.79495999923\n",
      "r2 : 0.8937695701866424\n"
     ]
    },
    {
     "name": "stderr",
     "output_type": "stream",
     "text": [
      "[I 2023-06-21 01:57:34,460] Trial 61 finished with value: 12674669236.840668 and parameters: {'n_estimators': 2723, 'learning_rate': 0.01851003238191567, 'max_depth': 6, 'min_samples_split': 8, 'min_samples_leaf': 7, 'max_features': 'sqrt'}. Best is trial 7 with value: 12181226636.545221.\n"
     ]
    },
    {
     "name": "stdout",
     "output_type": "stream",
     "text": [
      "mse : 12674669236.840668\n",
      "rmse : 112581.8335116313\n",
      "r2 : 0.8936221450424716\n"
     ]
    },
    {
     "name": "stderr",
     "output_type": "stream",
     "text": [
      "[I 2023-06-21 01:57:56,712] Trial 62 finished with value: 14687781472.25068 and parameters: {'n_estimators': 3825, 'learning_rate': 0.06906225283277848, 'max_depth': 6, 'min_samples_split': 10, 'min_samples_leaf': 7, 'max_features': 'sqrt'}. Best is trial 7 with value: 12181226636.545221.\n"
     ]
    },
    {
     "name": "stdout",
     "output_type": "stream",
     "text": [
      "mse : 14687781472.25068\n",
      "rmse : 121193.15769568297\n",
      "r2 : 0.8767261963285428\n"
     ]
    },
    {
     "name": "stderr",
     "output_type": "stream",
     "text": [
      "[I 2023-06-21 01:58:14,173] Trial 63 finished with value: 12398139121.462065 and parameters: {'n_estimators': 2409, 'learning_rate': 0.010502851651603208, 'max_depth': 7, 'min_samples_split': 5, 'min_samples_leaf': 8, 'max_features': 'sqrt'}. Best is trial 7 with value: 12181226636.545221.\n"
     ]
    },
    {
     "name": "stdout",
     "output_type": "stream",
     "text": [
      "mse : 12398139121.462065\n",
      "rmse : 111346.93135179822\n",
      "r2 : 0.8959430482514982\n"
     ]
    },
    {
     "name": "stderr",
     "output_type": "stream",
     "text": [
      "[I 2023-06-21 01:58:28,136] Trial 64 finished with value: 14639192964.715145 and parameters: {'n_estimators': 2611, 'learning_rate': 0.10135507570191873, 'max_depth': 6, 'min_samples_split': 9, 'min_samples_leaf': 7, 'max_features': 'sqrt'}. Best is trial 7 with value: 12181226636.545221.\n"
     ]
    },
    {
     "name": "stdout",
     "output_type": "stream",
     "text": [
      "mse : 14639192964.715145\n",
      "rmse : 120992.53268162934\n",
      "r2 : 0.8771339972037083\n"
     ]
    },
    {
     "name": "stderr",
     "output_type": "stream",
     "text": [
      "[I 2023-06-21 01:58:37,835] Trial 65 finished with value: 12974537867.447603 and parameters: {'n_estimators': 2204, 'learning_rate': 0.04704539294876383, 'max_depth': 5, 'min_samples_split': 10, 'min_samples_leaf': 6, 'max_features': 'sqrt'}. Best is trial 7 with value: 12181226636.545221.\n"
     ]
    },
    {
     "name": "stdout",
     "output_type": "stream",
     "text": [
      "mse : 12974537867.447603\n",
      "rmse : 113905.8289441221\n",
      "r2 : 0.8911053628608666\n"
     ]
    },
    {
     "name": "stderr",
     "output_type": "stream",
     "text": [
      "[I 2023-06-21 01:58:56,757] Trial 66 finished with value: 12860160496.844967 and parameters: {'n_estimators': 2824, 'learning_rate': 0.011172974269591634, 'max_depth': 8, 'min_samples_split': 9, 'min_samples_leaf': 5, 'max_features': 'sqrt'}. Best is trial 7 with value: 12181226636.545221.\n"
     ]
    },
    {
     "name": "stdout",
     "output_type": "stream",
     "text": [
      "mse : 12860160496.844967\n",
      "rmse : 113402.64766241115\n",
      "r2 : 0.8920653263212956\n"
     ]
    },
    {
     "name": "stderr",
     "output_type": "stream",
     "text": [
      "[I 2023-06-21 01:59:27,817] Trial 67 finished with value: 14890571639.64063 and parameters: {'n_estimators': 2099, 'learning_rate': 0.09475013633555719, 'max_depth': 5, 'min_samples_split': 5, 'min_samples_leaf': 8, 'max_features': 1.0}. Best is trial 7 with value: 12181226636.545221.\n"
     ]
    },
    {
     "name": "stdout",
     "output_type": "stream",
     "text": [
      "mse : 14890571639.64063\n",
      "rmse : 122026.9299771187\n",
      "r2 : 0.8750241887565646\n"
     ]
    },
    {
     "name": "stderr",
     "output_type": "stream",
     "text": [
      "[I 2023-06-21 01:59:50,201] Trial 68 finished with value: 14637457125.798956 and parameters: {'n_estimators': 3562, 'learning_rate': 0.06995045285808357, 'max_depth': 7, 'min_samples_split': 10, 'min_samples_leaf': 3, 'max_features': 'sqrt'}. Best is trial 7 with value: 12181226636.545221.\n"
     ]
    },
    {
     "name": "stdout",
     "output_type": "stream",
     "text": [
      "mse : 14637457125.798956\n",
      "rmse : 120985.35913819885\n",
      "r2 : 0.8771485660115411\n"
     ]
    },
    {
     "name": "stderr",
     "output_type": "stream",
     "text": [
      "[I 2023-06-21 02:00:06,414] Trial 69 finished with value: 14988155371.03625 and parameters: {'n_estimators': 3071, 'learning_rate': 0.11879961181637952, 'max_depth': 6, 'min_samples_split': 9, 'min_samples_leaf': 9, 'max_features': 'log2'}. Best is trial 7 with value: 12181226636.545221.\n"
     ]
    },
    {
     "name": "stdout",
     "output_type": "stream",
     "text": [
      "mse : 14988155371.03625\n",
      "rmse : 122426.12209425017\n",
      "r2 : 0.8742051734567851\n"
     ]
    },
    {
     "name": "stderr",
     "output_type": "stream",
     "text": [
      "[I 2023-06-21 02:00:19,700] Trial 70 finished with value: 13091704430.32534 and parameters: {'n_estimators': 3395, 'learning_rate': 0.04337873172504945, 'max_depth': 4, 'min_samples_split': 7, 'min_samples_leaf': 7, 'max_features': 'sqrt'}. Best is trial 7 with value: 12181226636.545221.\n"
     ]
    },
    {
     "name": "stdout",
     "output_type": "stream",
     "text": [
      "mse : 13091704430.32534\n",
      "rmse : 114418.98631925271\n",
      "r2 : 0.89012198985138\n"
     ]
    },
    {
     "name": "stderr",
     "output_type": "stream",
     "text": [
      "[I 2023-06-21 02:00:33,569] Trial 71 finished with value: 12421869388.301775 and parameters: {'n_estimators': 2321, 'learning_rate': 0.010253508062882265, 'max_depth': 7, 'min_samples_split': 5, 'min_samples_leaf': 8, 'max_features': 'sqrt'}. Best is trial 7 with value: 12181226636.545221.\n"
     ]
    },
    {
     "name": "stdout",
     "output_type": "stream",
     "text": [
      "mse : 12421869388.301775\n",
      "rmse : 111453.44045071815\n",
      "r2 : 0.8957438813275488\n"
     ]
    },
    {
     "name": "stderr",
     "output_type": "stream",
     "text": [
      "[I 2023-06-21 02:00:49,055] Trial 72 finished with value: 12712491211.087149 and parameters: {'n_estimators': 2421, 'learning_rate': 0.010366666192950949, 'max_depth': 8, 'min_samples_split': 5, 'min_samples_leaf': 7, 'max_features': 'sqrt'}. Best is trial 7 with value: 12181226636.545221.\n"
     ]
    },
    {
     "name": "stdout",
     "output_type": "stream",
     "text": [
      "mse : 12712491211.087149\n",
      "rmse : 112749.68386247098\n",
      "r2 : 0.8933047071341983\n"
     ]
    },
    {
     "name": "stderr",
     "output_type": "stream",
     "text": [
      "[I 2023-06-21 02:01:00,317] Trial 73 finished with value: 14207874775.3553 and parameters: {'n_estimators': 1921, 'learning_rate': 0.07794476724415084, 'max_depth': 7, 'min_samples_split': 6, 'min_samples_leaf': 6, 'max_features': 'sqrt'}. Best is trial 7 with value: 12181226636.545221.\n"
     ]
    },
    {
     "name": "stdout",
     "output_type": "stream",
     "text": [
      "mse : 14207874775.3553\n",
      "rmse : 119196.79012186234\n",
      "r2 : 0.8807540288535206\n"
     ]
    },
    {
     "name": "stderr",
     "output_type": "stream",
     "text": [
      "[I 2023-06-21 02:01:08,473] Trial 74 finished with value: 12959560238.805899 and parameters: {'n_estimators': 1562, 'learning_rate': 0.04997570967060019, 'max_depth': 6, 'min_samples_split': 5, 'min_samples_leaf': 8, 'max_features': 'sqrt'}. Best is trial 7 with value: 12181226636.545221.\n"
     ]
    },
    {
     "name": "stdout",
     "output_type": "stream",
     "text": [
      "mse : 12959560238.805899\n",
      "rmse : 113840.06429551021\n",
      "r2 : 0.8912310693371054\n"
     ]
    },
    {
     "name": "stderr",
     "output_type": "stream",
     "text": [
      "[I 2023-06-21 02:01:20,551] Trial 75 finished with value: 14579986537.113382 and parameters: {'n_estimators': 2774, 'learning_rate': 0.13327285561958566, 'max_depth': 5, 'min_samples_split': 4, 'min_samples_leaf': 9, 'max_features': 'sqrt'}. Best is trial 7 with value: 12181226636.545221.\n"
     ]
    },
    {
     "name": "stdout",
     "output_type": "stream",
     "text": [
      "mse : 14579986537.113382\n",
      "rmse : 120747.6150369579\n",
      "r2 : 0.8776309137425373\n"
     ]
    },
    {
     "name": "stderr",
     "output_type": "stream",
     "text": [
      "[I 2023-06-21 02:01:36,263] Trial 76 finished with value: 15509359636.845161 and parameters: {'n_estimators': 2942, 'learning_rate': 0.19715491597034365, 'max_depth': 6, 'min_samples_split': 6, 'min_samples_leaf': 4, 'max_features': 'sqrt'}. Best is trial 7 with value: 12181226636.545221.\n"
     ]
    },
    {
     "name": "stdout",
     "output_type": "stream",
     "text": [
      "mse : 15509359636.845161\n",
      "rmse : 124536.57951319027\n",
      "r2 : 0.8698307325340738\n"
     ]
    },
    {
     "name": "stderr",
     "output_type": "stream",
     "text": [
      "[I 2023-06-21 02:01:51,770] Trial 77 finished with value: 13631334741.372602 and parameters: {'n_estimators': 2629, 'learning_rate': 0.03637034571258254, 'max_depth': 7, 'min_samples_split': 8, 'min_samples_leaf': 8, 'max_features': 'sqrt'}. Best is trial 7 with value: 12181226636.545221.\n"
     ]
    },
    {
     "name": "stdout",
     "output_type": "stream",
     "text": [
      "mse : 13631334741.372602\n",
      "rmse : 116753.307196724\n",
      "r2 : 0.8855929000671341\n"
     ]
    },
    {
     "name": "stderr",
     "output_type": "stream",
     "text": [
      "[I 2023-06-21 02:02:08,703] Trial 78 finished with value: 14182041901.238548 and parameters: {'n_estimators': 3828, 'learning_rate': 0.07997619791411578, 'max_depth': 5, 'min_samples_split': 4, 'min_samples_leaf': 7, 'max_features': 'sqrt'}. Best is trial 7 with value: 12181226636.545221.\n"
     ]
    },
    {
     "name": "stdout",
     "output_type": "stream",
     "text": [
      "mse : 14182041901.238548\n",
      "rmse : 119088.37853140225\n",
      "r2 : 0.8809708428535216\n"
     ]
    },
    {
     "name": "stderr",
     "output_type": "stream",
     "text": [
      "[I 2023-06-21 02:02:19,606] Trial 79 finished with value: 13114743979.292227 and parameters: {'n_estimators': 1989, 'learning_rate': 0.03643871997845954, 'max_depth': 6, 'min_samples_split': 10, 'min_samples_leaf': 6, 'max_features': 'sqrt'}. Best is trial 7 with value: 12181226636.545221.\n"
     ]
    },
    {
     "name": "stdout",
     "output_type": "stream",
     "text": [
      "mse : 13114743979.292227\n",
      "rmse : 114519.62268228194\n",
      "r2 : 0.8899286200874447\n"
     ]
    },
    {
     "name": "stderr",
     "output_type": "stream",
     "text": [
      "[I 2023-06-21 02:02:52,993] Trial 80 finished with value: 14918052090.82121 and parameters: {'n_estimators': 2449, 'learning_rate': 0.1154307357929917, 'max_depth': 4, 'min_samples_split': 7, 'min_samples_leaf': 8, 'max_features': 1.0}. Best is trial 7 with value: 12181226636.545221.\n"
     ]
    },
    {
     "name": "stdout",
     "output_type": "stream",
     "text": [
      "mse : 14918052090.82121\n",
      "rmse : 122139.47801927602\n",
      "r2 : 0.8747935467259735\n"
     ]
    },
    {
     "name": "stderr",
     "output_type": "stream",
     "text": [
      "[I 2023-06-21 02:03:08,279] Trial 81 finished with value: 12574081283.232924 and parameters: {'n_estimators': 2303, 'learning_rate': 0.012549804722659878, 'max_depth': 7, 'min_samples_split': 5, 'min_samples_leaf': 8, 'max_features': 'sqrt'}. Best is trial 7 with value: 12181226636.545221.\n"
     ]
    },
    {
     "name": "stdout",
     "output_type": "stream",
     "text": [
      "mse : 12574081283.232924\n",
      "rmse : 112134.21102960917\n",
      "r2 : 0.8944663746266455\n"
     ]
    },
    {
     "name": "stderr",
     "output_type": "stream",
     "text": [
      "[I 2023-06-21 02:03:22,035] Trial 82 finished with value: 14167104639.240831 and parameters: {'n_estimators': 2242, 'learning_rate': 0.06751926511122053, 'max_depth': 7, 'min_samples_split': 5, 'min_samples_leaf': 9, 'max_features': 'sqrt'}. Best is trial 7 with value: 12181226636.545221.\n"
     ]
    },
    {
     "name": "stdout",
     "output_type": "stream",
     "text": [
      "mse : 14167104639.240831\n",
      "rmse : 119025.64698097983\n",
      "r2 : 0.8810962105345681\n"
     ]
    },
    {
     "name": "stderr",
     "output_type": "stream",
     "text": [
      "[I 2023-06-21 02:03:35,648] Trial 83 finished with value: 12530896766.441881 and parameters: {'n_estimators': 2158, 'learning_rate': 0.012613506599942115, 'max_depth': 7, 'min_samples_split': 5, 'min_samples_leaf': 7, 'max_features': 'sqrt'}. Best is trial 7 with value: 12181226636.545221.\n"
     ]
    },
    {
     "name": "stdout",
     "output_type": "stream",
     "text": [
      "mse : 12530896766.441881\n",
      "rmse : 111941.4881375171\n",
      "r2 : 0.8948288200820469\n"
     ]
    },
    {
     "name": "stderr",
     "output_type": "stream",
     "text": [
      "[I 2023-06-21 02:03:50,695] Trial 84 finished with value: 13841364600.658215 and parameters: {'n_estimators': 2034, 'learning_rate': 0.03710548258795909, 'max_depth': 8, 'min_samples_split': 3, 'min_samples_leaf': 7, 'max_features': 'sqrt'}. Best is trial 7 with value: 12181226636.545221.\n"
     ]
    },
    {
     "name": "stdout",
     "output_type": "stream",
     "text": [
      "mse : 13841364600.658215\n",
      "rmse : 117649.32894266\n",
      "r2 : 0.8838301301288943\n"
     ]
    },
    {
     "name": "stderr",
     "output_type": "stream",
     "text": [
      "[I 2023-06-21 02:04:07,814] Trial 85 finished with value: 14803310634.685257 and parameters: {'n_estimators': 2571, 'learning_rate': 0.08766318348190852, 'max_depth': 8, 'min_samples_split': 6, 'min_samples_leaf': 10, 'max_features': 'sqrt'}. Best is trial 7 with value: 12181226636.545221.\n"
     ]
    },
    {
     "name": "stdout",
     "output_type": "stream",
     "text": [
      "mse : 14803310634.685257\n",
      "rmse : 121668.85646986766\n",
      "r2 : 0.8757565659377861\n"
     ]
    },
    {
     "name": "stderr",
     "output_type": "stream",
     "text": [
      "[I 2023-06-21 02:04:19,866] Trial 86 finished with value: 13736511548.71169 and parameters: {'n_estimators': 2267, 'learning_rate': 0.06534194178886403, 'max_depth': 6, 'min_samples_split': 9, 'min_samples_leaf': 8, 'max_features': 'log2'}. Best is trial 7 with value: 12181226636.545221.\n"
     ]
    },
    {
     "name": "stdout",
     "output_type": "stream",
     "text": [
      "mse : 13736511548.71169\n",
      "rmse : 117202.86493389012\n",
      "r2 : 0.8847101564667336\n"
     ]
    },
    {
     "name": "stderr",
     "output_type": "stream",
     "text": [
      "[I 2023-06-21 02:04:25,081] Trial 87 finished with value: 12935295488.972523 and parameters: {'n_estimators': 885, 'learning_rate': 0.042028457745303206, 'max_depth': 7, 'min_samples_split': 8, 'min_samples_leaf': 6, 'max_features': 'sqrt'}. Best is trial 7 with value: 12181226636.545221.\n"
     ]
    },
    {
     "name": "stdout",
     "output_type": "stream",
     "text": [
      "mse : 12935295488.972523\n",
      "rmse : 113733.44050442034\n",
      "r2 : 0.8914347221496658\n"
     ]
    },
    {
     "name": "stderr",
     "output_type": "stream",
     "text": [
      "[I 2023-06-21 02:04:36,260] Trial 88 finished with value: 14745503808.144264 and parameters: {'n_estimators': 2412, 'learning_rate': 0.1484238758957502, 'max_depth': 5, 'min_samples_split': 4, 'min_samples_leaf': 6, 'max_features': 'sqrt'}. Best is trial 7 with value: 12181226636.545221.\n"
     ]
    },
    {
     "name": "stdout",
     "output_type": "stream",
     "text": [
      "mse : 14745503808.144264\n",
      "rmse : 121431.0660751369\n",
      "r2 : 0.8762417356960199\n"
     ]
    },
    {
     "name": "stderr",
     "output_type": "stream",
     "text": [
      "[I 2023-06-21 02:05:04,232] Trial 89 finished with value: 15228791604.789164 and parameters: {'n_estimators': 3709, 'learning_rate': 0.10141820208384628, 'max_depth': 9, 'min_samples_split': 5, 'min_samples_leaf': 5, 'max_features': 'sqrt'}. Best is trial 7 with value: 12181226636.545221.\n"
     ]
    },
    {
     "name": "stdout",
     "output_type": "stream",
     "text": [
      "mse : 15228791604.789164\n",
      "rmse : 123404.99019403211\n",
      "r2 : 0.872185525772624\n"
     ]
    },
    {
     "name": "stderr",
     "output_type": "stream",
     "text": [
      "[I 2023-06-21 02:05:13,739] Trial 90 finished with value: 13514928302.178371 and parameters: {'n_estimators': 1872, 'learning_rate': 0.06075316506544032, 'max_depth': 6, 'min_samples_split': 10, 'min_samples_leaf': 9, 'max_features': 'sqrt'}. Best is trial 7 with value: 12181226636.545221.\n"
     ]
    },
    {
     "name": "stdout",
     "output_type": "stream",
     "text": [
      "mse : 13514928302.178371\n",
      "rmse : 116253.72382069475\n",
      "r2 : 0.8865698933971637\n"
     ]
    },
    {
     "name": "stderr",
     "output_type": "stream",
     "text": [
      "[I 2023-06-21 02:05:27,044] Trial 91 finished with value: 12377506980.695879 and parameters: {'n_estimators': 2127, 'learning_rate': 0.010074257729383931, 'max_depth': 7, 'min_samples_split': 5, 'min_samples_leaf': 7, 'max_features': 'sqrt'}. Best is trial 7 with value: 12181226636.545221.\n"
     ]
    },
    {
     "name": "stdout",
     "output_type": "stream",
     "text": [
      "mse : 12377506980.695879\n",
      "rmse : 111254.2447760798\n",
      "r2 : 0.8961162127607154\n"
     ]
    },
    {
     "name": "stderr",
     "output_type": "stream",
     "text": [
      "[I 2023-06-21 02:05:41,883] Trial 92 finished with value: 13220908265.068342 and parameters: {'n_estimators': 2335, 'learning_rate': 0.02852903821232163, 'max_depth': 7, 'min_samples_split': 4, 'min_samples_leaf': 7, 'max_features': 'sqrt'}. Best is trial 7 with value: 12181226636.545221.\n"
     ]
    },
    {
     "name": "stdout",
     "output_type": "stream",
     "text": [
      "mse : 13220908265.068342\n",
      "rmse : 114982.208471869\n",
      "r2 : 0.8890375886306919\n"
     ]
    },
    {
     "name": "stderr",
     "output_type": "stream",
     "text": [
      "[I 2023-06-21 02:05:52,309] Trial 93 finished with value: 13022158332.814646 and parameters: {'n_estimators': 1699, 'learning_rate': 0.03420625178714151, 'max_depth': 7, 'min_samples_split': 5, 'min_samples_leaf': 8, 'max_features': 'sqrt'}. Best is trial 7 with value: 12181226636.545221.\n"
     ]
    },
    {
     "name": "stdout",
     "output_type": "stream",
     "text": [
      "mse : 13022158332.814646\n",
      "rmse : 114114.67185605296\n",
      "r2 : 0.8907056867144391\n"
     ]
    },
    {
     "name": "stderr",
     "output_type": "stream",
     "text": [
      "[I 2023-06-21 02:06:05,067] Trial 94 finished with value: 13709394223.012754 and parameters: {'n_estimators': 2528, 'learning_rate': 0.054709826289152864, 'max_depth': 6, 'min_samples_split': 5, 'min_samples_leaf': 7, 'max_features': 'sqrt'}. Best is trial 7 with value: 12181226636.545221.\n"
     ]
    },
    {
     "name": "stdout",
     "output_type": "stream",
     "text": [
      "mse : 13709394223.012754\n",
      "rmse : 117087.12236199484\n",
      "r2 : 0.8849377508036061\n"
     ]
    },
    {
     "name": "stderr",
     "output_type": "stream",
     "text": [
      "[I 2023-06-21 02:06:30,642] Trial 95 finished with value: 13103858142.397533 and parameters: {'n_estimators': 3984, 'learning_rate': 0.012466729319699645, 'max_depth': 8, 'min_samples_split': 6, 'min_samples_leaf': 8, 'max_features': 'sqrt'}. Best is trial 7 with value: 12181226636.545221.\n"
     ]
    },
    {
     "name": "stdout",
     "output_type": "stream",
     "text": [
      "mse : 13103858142.397533\n",
      "rmse : 114472.08455513306\n",
      "r2 : 0.8900199843634377\n"
     ]
    },
    {
     "name": "stderr",
     "output_type": "stream",
     "text": [
      "[I 2023-06-21 02:06:40,147] Trial 96 finished with value: 14182861221.742104 and parameters: {'n_estimators': 2119, 'learning_rate': 0.10857635075681311, 'max_depth': 5, 'min_samples_split': 9, 'min_samples_leaf': 6, 'max_features': 'sqrt'}. Best is trial 7 with value: 12181226636.545221.\n"
     ]
    },
    {
     "name": "stdout",
     "output_type": "stream",
     "text": [
      "mse : 14182861221.742104\n",
      "rmse : 119091.81845006022\n",
      "r2 : 0.8809639663381614\n"
     ]
    },
    {
     "name": "stderr",
     "output_type": "stream",
     "text": [
      "[I 2023-06-21 02:07:19,253] Trial 97 finished with value: 15157517845.741354 and parameters: {'n_estimators': 1992, 'learning_rate': 0.08011609677027734, 'max_depth': 7, 'min_samples_split': 6, 'min_samples_leaf': 8, 'max_features': 1.0}. Best is trial 7 with value: 12181226636.545221.\n"
     ]
    },
    {
     "name": "stdout",
     "output_type": "stream",
     "text": [
      "mse : 15157517845.741354\n",
      "rmse : 123115.87162401667\n",
      "r2 : 0.8727837228111888\n"
     ]
    },
    {
     "name": "stderr",
     "output_type": "stream",
     "text": [
      "[I 2023-06-21 02:07:29,171] Trial 98 finished with value: 12716801001.515142 and parameters: {'n_estimators': 2719, 'learning_rate': 0.030177265785921323, 'max_depth': 4, 'min_samples_split': 4, 'min_samples_leaf': 9, 'max_features': 'sqrt'}. Best is trial 7 with value: 12181226636.545221.\n"
     ]
    },
    {
     "name": "stdout",
     "output_type": "stream",
     "text": [
      "mse : 12716801001.515142\n",
      "rmse : 112768.7944491522\n",
      "r2 : 0.8932685352820986\n"
     ]
    },
    {
     "name": "stderr",
     "output_type": "stream",
     "text": [
      "[I 2023-06-21 02:07:36,606] Trial 99 finished with value: 13616602728.86594 and parameters: {'n_estimators': 2435, 'learning_rate': 0.16515253507540958, 'max_depth': 3, 'min_samples_split': 5, 'min_samples_leaf': 7, 'max_features': 'sqrt'}. Best is trial 7 with value: 12181226636.545221.\n"
     ]
    },
    {
     "name": "stdout",
     "output_type": "stream",
     "text": [
      "mse : 13616602728.86594\n",
      "rmse : 116690.19979786623\n",
      "r2 : 0.8857165450996302\n",
      "Best trial: score 12181226636.545221, \n",
      "params {'n_estimators': 770, 'learning_rate': 0.0156752242832508, 'max_depth': 7, 'min_samples_split': 5, 'min_samples_leaf': 5, 'max_features': 'sqrt'}\n"
     ]
    }
   ],
   "source": [
    "import optuna\n",
    "from sklearn.ensemble import GradientBoostingRegressor\n",
    "\n",
    "def objectiveGBR(trial):\n",
    "    # Define the search space for each parameter\n",
    "    params = {\n",
    "        'n_estimators': trial.suggest_int('n_estimators', 100, 4000),\n",
    "        'learning_rate': trial.suggest_float('learning_rate', 0.01, 1),\n",
    "        'max_depth': trial.suggest_int('max_depth', 1, 10),\n",
    "        'min_samples_split': trial.suggest_int('min_samples_split', 2, 10),\n",
    "        'min_samples_leaf': trial.suggest_int('min_samples_leaf', 1, 15),\n",
    "        'max_features': trial.suggest_categorical('max_features', [1.0, 'sqrt', 'log2']),\n",
    "        'random_state': 42,\n",
    "    }\n",
    "\n",
    "    # 모델 학습\n",
    "    model = GradientBoostingRegressor(**params)\n",
    "    model.fit(x_train, y_train)\n",
    "\n",
    "    # 예측\n",
    "    y_pred = model.predict(x_test)\n",
    "\n",
    "    # 모델 평가    \n",
    "    mse = mean_squared_error(y_test, y_pred)\n",
    "    rmse = np.sqrt(mse)\n",
    "    r2 = r2_score(y_test, y_pred)\n",
    "\n",
    "    print(f\"mse : {mse}\")\n",
    "    print(f\"rmse : {rmse}\")\n",
    "    print(f\"r2 : {r2}\")\n",
    "    \n",
    "    return mse\n",
    "\n",
    "# optimization study 진행\n",
    "# direction: score 값을 최대 or 최소로 하는 방향으로 지정\n",
    "study3 = optuna.create_study(direction='minimize')\n",
    "\n",
    "# n_trials: 시도 횟수 (미입력시 key interrupt가 있을 때까지 무한 반복)\n",
    "study3.optimize(objectiveGBR, n_trials=100)\n",
    "\n",
    "# 모든 트라이얼이 완료되었는지 확인\n",
    "if study3.best_trial is None:\n",
    "    print(\"No trials completed.\")\n",
    "else:\n",
    "    # 최적의 트라이얼 출력\n",
    "    print('Best trial: score {}, \\nparams {}'.format(study3.best_trial.value, study3.best_trial.params))\n"
   ]
  },
  {
   "cell_type": "code",
   "execution_count": 8,
   "metadata": {},
   "outputs": [
    {
     "name": "stdout",
     "output_type": "stream",
     "text": [
      "mse : 12181226636.545\n",
      "rmse : 110368.594\n",
      "r2 : 0.898\n"
     ]
    }
   ],
   "source": [
    "# Best trial의 파라미터\n",
    "best_params = study3.best_trial.params\n",
    "\n",
    "# 최적의 모델 학습\n",
    "best_gbr = GradientBoostingRegressor(n_estimators=best_params['n_estimators'],\n",
    "                                     learning_rate=best_params['learning_rate'],\n",
    "                                     max_depth=best_params['max_depth'],\n",
    "                                     min_samples_split=best_params['min_samples_split'],\n",
    "                                     min_samples_leaf=best_params['min_samples_leaf'],\n",
    "                                     max_features=best_params['max_features'],\n",
    "                                     random_state=42)\n",
    "best_gbr.fit(x_train, y_train)\n",
    "\n",
    "# 저장 경로 설정\n",
    "import pickle\n",
    "import os\n",
    "save_path = 'GradientBoostingRegressor_best_model.pkl'\n",
    "\n",
    "# 모델을 'GradientBoostingRegressor_best_model.pkl' 파일로 저장\n",
    "with open(save_path, 'wb') as f:\n",
    "    pickle.dump(best_gbr, f)\n",
    "\n",
    "# 저장된 모델 로드\n",
    "with open('GradientBoostingRegressor_best_model.pkl', 'rb') as f:\n",
    "    loaded_model = pickle.load(f)\n",
    "\n",
    "# 로드된 모델로 예측\n",
    "y_pred = loaded_model.predict(x_test)\n",
    "\n",
    "# 모델 평가\n",
    "from evaluate_score import evaluate_score\n",
    "evaluate_score(y_test, y_pred)"
   ]
  },
  {
   "attachments": {},
   "cell_type": "markdown",
   "metadata": {},
   "source": [
    "## CatBoostRegressor 를 이용한 가격 예측"
   ]
  },
  {
   "cell_type": "code",
   "execution_count": 13,
   "metadata": {},
   "outputs": [
    {
     "name": "stderr",
     "output_type": "stream",
     "text": [
      "[I 2023-06-21 02:12:30,327] A new study created in memory with name: no-name-34300189-2b70-480a-a0a5-612457c2aeec\n",
      "C:\\Users\\dohee\\AppData\\Local\\Temp\\ipykernel_21152\\3506005532.py:10: FutureWarning: suggest_loguniform has been deprecated in v3.0.0. This feature will be removed in v6.0.0. See https://github.com/optuna/optuna/releases/tag/v3.0.0. Use suggest_float(..., log=True) instead.\n",
      "  'l2_leaf_reg': trial.suggest_loguniform('l2_leaf_reg', 1e-5, 100),\n",
      "[I 2023-06-21 02:12:33,048] Trial 0 finished with value: 12672865949.099916 and parameters: {'iterations': 2990, 'learning_rate': 0.040280796958740706, 'depth': 5, 'l2_leaf_reg': 0.000874029558520853}. Best is trial 0 with value: 12672865949.099916.\n"
     ]
    },
    {
     "name": "stdout",
     "output_type": "stream",
     "text": [
      "mse : 12672865949.099916\n",
      "rmse : 112573.82444023085\n",
      "r2 : 0.8936372799448622\n"
     ]
    },
    {
     "name": "stderr",
     "output_type": "stream",
     "text": [
      "C:\\Users\\dohee\\AppData\\Local\\Temp\\ipykernel_21152\\3506005532.py:10: FutureWarning: suggest_loguniform has been deprecated in v3.0.0. This feature will be removed in v6.0.0. See https://github.com/optuna/optuna/releases/tag/v3.0.0. Use suggest_float(..., log=True) instead.\n",
      "  'l2_leaf_reg': trial.suggest_loguniform('l2_leaf_reg', 1e-5, 100),\n",
      "[I 2023-06-21 02:12:35,833] Trial 1 finished with value: 12108397026.133615 and parameters: {'iterations': 2768, 'learning_rate': 0.08928764634686989, 'depth': 9, 'l2_leaf_reg': 0.0002741389140746224}. Best is trial 1 with value: 12108397026.133615.\n"
     ]
    },
    {
     "name": "stdout",
     "output_type": "stream",
     "text": [
      "mse : 12108397026.133615\n",
      "rmse : 110038.16168099872\n",
      "r2 : 0.898374838936998\n"
     ]
    },
    {
     "name": "stderr",
     "output_type": "stream",
     "text": [
      "C:\\Users\\dohee\\AppData\\Local\\Temp\\ipykernel_21152\\3506005532.py:10: FutureWarning: suggest_loguniform has been deprecated in v3.0.0. This feature will be removed in v6.0.0. See https://github.com/optuna/optuna/releases/tag/v3.0.0. Use suggest_float(..., log=True) instead.\n",
      "  'l2_leaf_reg': trial.suggest_loguniform('l2_leaf_reg', 1e-5, 100),\n",
      "[I 2023-06-21 02:12:37,622] Trial 2 finished with value: 12681246721.542765 and parameters: {'iterations': 2373, 'learning_rate': 0.028413605970284424, 'depth': 4, 'l2_leaf_reg': 2.1795453184529404e-05}. Best is trial 1 with value: 12108397026.133615.\n"
     ]
    },
    {
     "name": "stdout",
     "output_type": "stream",
     "text": [
      "mse : 12681246721.542765\n",
      "rmse : 112611.04173899985\n",
      "r2 : 0.8935669405475416\n"
     ]
    },
    {
     "name": "stderr",
     "output_type": "stream",
     "text": [
      "C:\\Users\\dohee\\AppData\\Local\\Temp\\ipykernel_21152\\3506005532.py:10: FutureWarning: suggest_loguniform has been deprecated in v3.0.0. This feature will be removed in v6.0.0. See https://github.com/optuna/optuna/releases/tag/v3.0.0. Use suggest_float(..., log=True) instead.\n",
      "  'l2_leaf_reg': trial.suggest_loguniform('l2_leaf_reg', 1e-5, 100),\n",
      "[I 2023-06-21 02:12:38,944] Trial 3 finished with value: 12555997266.161863 and parameters: {'iterations': 854, 'learning_rate': 0.07025247784526048, 'depth': 4, 'l2_leaf_reg': 5.758894189438752e-05}. Best is trial 1 with value: 12108397026.133615.\n"
     ]
    },
    {
     "name": "stdout",
     "output_type": "stream",
     "text": [
      "mse : 12555997266.161863\n",
      "rmse : 112053.54642384981\n",
      "r2 : 0.8946181528631492\n"
     ]
    },
    {
     "name": "stderr",
     "output_type": "stream",
     "text": [
      "C:\\Users\\dohee\\AppData\\Local\\Temp\\ipykernel_21152\\3506005532.py:10: FutureWarning: suggest_loguniform has been deprecated in v3.0.0. This feature will be removed in v6.0.0. See https://github.com/optuna/optuna/releases/tag/v3.0.0. Use suggest_float(..., log=True) instead.\n",
      "  'l2_leaf_reg': trial.suggest_loguniform('l2_leaf_reg', 1e-5, 100),\n",
      "[I 2023-06-21 02:13:00,531] Trial 4 finished with value: 12120435321.823793 and parameters: {'iterations': 1863, 'learning_rate': 0.02056234828799936, 'depth': 10, 'l2_leaf_reg': 0.038547514980822886}. Best is trial 1 with value: 12108397026.133615.\n"
     ]
    },
    {
     "name": "stdout",
     "output_type": "stream",
     "text": [
      "mse : 12120435321.823793\n",
      "rmse : 110092.84864069869\n",
      "r2 : 0.8982738021328861\n"
     ]
    },
    {
     "name": "stderr",
     "output_type": "stream",
     "text": [
      "C:\\Users\\dohee\\AppData\\Local\\Temp\\ipykernel_21152\\3506005532.py:10: FutureWarning: suggest_loguniform has been deprecated in v3.0.0. This feature will be removed in v6.0.0. See https://github.com/optuna/optuna/releases/tag/v3.0.0. Use suggest_float(..., log=True) instead.\n",
      "  'l2_leaf_reg': trial.suggest_loguniform('l2_leaf_reg', 1e-5, 100),\n",
      "[I 2023-06-21 02:13:03,713] Trial 5 finished with value: 12055945068.280645 and parameters: {'iterations': 3879, 'learning_rate': 0.04246357252328152, 'depth': 8, 'l2_leaf_reg': 9.404318024718509e-05}. Best is trial 5 with value: 12055945068.280645.\n"
     ]
    },
    {
     "name": "stdout",
     "output_type": "stream",
     "text": [
      "mse : 12055945068.280645\n",
      "rmse : 109799.56770534502\n",
      "r2 : 0.898815065554392\n"
     ]
    },
    {
     "name": "stderr",
     "output_type": "stream",
     "text": [
      "C:\\Users\\dohee\\AppData\\Local\\Temp\\ipykernel_21152\\3506005532.py:10: FutureWarning: suggest_loguniform has been deprecated in v3.0.0. This feature will be removed in v6.0.0. See https://github.com/optuna/optuna/releases/tag/v3.0.0. Use suggest_float(..., log=True) instead.\n",
      "  'l2_leaf_reg': trial.suggest_loguniform('l2_leaf_reg', 1e-5, 100),\n",
      "[I 2023-06-21 02:13:09,924] Trial 6 finished with value: 12141392256.567833 and parameters: {'iterations': 3520, 'learning_rate': 0.0598104556403214, 'depth': 10, 'l2_leaf_reg': 0.20254492873816524}. Best is trial 5 with value: 12055945068.280645.\n"
     ]
    },
    {
     "name": "stdout",
     "output_type": "stream",
     "text": [
      "mse : 12141392256.567833\n",
      "rmse : 110187.98599016063\n",
      "r2 : 0.8980979116443142\n"
     ]
    },
    {
     "name": "stderr",
     "output_type": "stream",
     "text": [
      "C:\\Users\\dohee\\AppData\\Local\\Temp\\ipykernel_21152\\3506005532.py:10: FutureWarning: suggest_loguniform has been deprecated in v3.0.0. This feature will be removed in v6.0.0. See https://github.com/optuna/optuna/releases/tag/v3.0.0. Use suggest_float(..., log=True) instead.\n",
      "  'l2_leaf_reg': trial.suggest_loguniform('l2_leaf_reg', 1e-5, 100),\n",
      "[I 2023-06-21 02:13:20,466] Trial 7 finished with value: 12224378556.717299 and parameters: {'iterations': 3881, 'learning_rate': 0.046562006396571536, 'depth': 10, 'l2_leaf_reg': 0.7622962573240167}. Best is trial 5 with value: 12055945068.280645.\n"
     ]
    },
    {
     "name": "stdout",
     "output_type": "stream",
     "text": [
      "mse : 12224378556.717299\n",
      "rmse : 110563.91163809871\n",
      "r2 : 0.8974014118433488\n"
     ]
    },
    {
     "name": "stderr",
     "output_type": "stream",
     "text": [
      "C:\\Users\\dohee\\AppData\\Local\\Temp\\ipykernel_21152\\3506005532.py:10: FutureWarning: suggest_loguniform has been deprecated in v3.0.0. This feature will be removed in v6.0.0. See https://github.com/optuna/optuna/releases/tag/v3.0.0. Use suggest_float(..., log=True) instead.\n",
      "  'l2_leaf_reg': trial.suggest_loguniform('l2_leaf_reg', 1e-5, 100),\n",
      "[I 2023-06-21 02:13:22,028] Trial 8 finished with value: 12206303004.751686 and parameters: {'iterations': 2977, 'learning_rate': 0.07829339713907599, 'depth': 6, 'l2_leaf_reg': 0.0009147646791978153}. Best is trial 5 with value: 12055945068.280645.\n"
     ]
    },
    {
     "name": "stdout",
     "output_type": "stream",
     "text": [
      "mse : 12206303004.751686\n",
      "rmse : 110482.13884946148\n",
      "r2 : 0.8975531190326524\n"
     ]
    },
    {
     "name": "stderr",
     "output_type": "stream",
     "text": [
      "C:\\Users\\dohee\\AppData\\Local\\Temp\\ipykernel_21152\\3506005532.py:10: FutureWarning: suggest_loguniform has been deprecated in v3.0.0. This feature will be removed in v6.0.0. See https://github.com/optuna/optuna/releases/tag/v3.0.0. Use suggest_float(..., log=True) instead.\n",
      "  'l2_leaf_reg': trial.suggest_loguniform('l2_leaf_reg', 1e-5, 100),\n",
      "[I 2023-06-21 02:13:23,060] Trial 9 finished with value: 12558588840.821972 and parameters: {'iterations': 217, 'learning_rate': 0.049961159485748995, 'depth': 6, 'l2_leaf_reg': 0.5733566018961345}. Best is trial 5 with value: 12055945068.280645.\n"
     ]
    },
    {
     "name": "stdout",
     "output_type": "stream",
     "text": [
      "mse : 12558588840.821972\n",
      "rmse : 112065.1098282689\n",
      "r2 : 0.8945964019086939\n"
     ]
    },
    {
     "name": "stderr",
     "output_type": "stream",
     "text": [
      "C:\\Users\\dohee\\AppData\\Local\\Temp\\ipykernel_21152\\3506005532.py:10: FutureWarning: suggest_loguniform has been deprecated in v3.0.0. This feature will be removed in v6.0.0. See https://github.com/optuna/optuna/releases/tag/v3.0.0. Use suggest_float(..., log=True) instead.\n",
      "  'l2_leaf_reg': trial.suggest_loguniform('l2_leaf_reg', 1e-5, 100),\n",
      "[I 2023-06-21 02:13:33,797] Trial 10 finished with value: 12820903075.868326 and parameters: {'iterations': 1252, 'learning_rate': 0.01638349956602798, 'depth': 8, 'l2_leaf_reg': 50.10296605555897}. Best is trial 5 with value: 12055945068.280645.\n"
     ]
    },
    {
     "name": "stdout",
     "output_type": "stream",
     "text": [
      "mse : 12820903075.868326\n",
      "rmse : 113229.42672233365\n",
      "r2 : 0.8923948118610462\n"
     ]
    },
    {
     "name": "stderr",
     "output_type": "stream",
     "text": [
      "C:\\Users\\dohee\\AppData\\Local\\Temp\\ipykernel_21152\\3506005532.py:10: FutureWarning: suggest_loguniform has been deprecated in v3.0.0. This feature will be removed in v6.0.0. See https://github.com/optuna/optuna/releases/tag/v3.0.0. Use suggest_float(..., log=True) instead.\n",
      "  'l2_leaf_reg': trial.suggest_loguniform('l2_leaf_reg', 1e-5, 100),\n",
      "[I 2023-06-21 02:13:36,257] Trial 11 finished with value: 12275461185.634413 and parameters: {'iterations': 3082, 'learning_rate': 0.08571655522851365, 'depth': 8, 'l2_leaf_reg': 0.00040094193248731483}. Best is trial 5 with value: 12055945068.280645.\n"
     ]
    },
    {
     "name": "stdout",
     "output_type": "stream",
     "text": [
      "mse : 12275461185.634413\n",
      "rmse : 110794.68031288512\n",
      "r2 : 0.8969726779341435\n"
     ]
    },
    {
     "name": "stderr",
     "output_type": "stream",
     "text": [
      "C:\\Users\\dohee\\AppData\\Local\\Temp\\ipykernel_21152\\3506005532.py:10: FutureWarning: suggest_loguniform has been deprecated in v3.0.0. This feature will be removed in v6.0.0. See https://github.com/optuna/optuna/releases/tag/v3.0.0. Use suggest_float(..., log=True) instead.\n",
      "  'l2_leaf_reg': trial.suggest_loguniform('l2_leaf_reg', 1e-5, 100),\n",
      "[I 2023-06-21 02:13:37,834] Trial 12 finished with value: 12368238854.224976 and parameters: {'iterations': 2268, 'learning_rate': 0.09782101267474103, 'depth': 8, 'l2_leaf_reg': 4.095814843128205e-05}. Best is trial 5 with value: 12055945068.280645.\n"
     ]
    },
    {
     "name": "stdout",
     "output_type": "stream",
     "text": [
      "mse : 12368238854.224976\n",
      "rmse : 111212.58406414706\n",
      "r2 : 0.8961939996753108\n"
     ]
    },
    {
     "name": "stderr",
     "output_type": "stream",
     "text": [
      "C:\\Users\\dohee\\AppData\\Local\\Temp\\ipykernel_21152\\3506005532.py:10: FutureWarning: suggest_loguniform has been deprecated in v3.0.0. This feature will be removed in v6.0.0. See https://github.com/optuna/optuna/releases/tag/v3.0.0. Use suggest_float(..., log=True) instead.\n",
      "  'l2_leaf_reg': trial.suggest_loguniform('l2_leaf_reg', 1e-5, 100),\n",
      "[I 2023-06-21 02:13:42,640] Trial 13 finished with value: 12252052743.181171 and parameters: {'iterations': 3985, 'learning_rate': 0.06018694587148306, 'depth': 9, 'l2_leaf_reg': 0.0029443807915166507}. Best is trial 5 with value: 12055945068.280645.\n"
     ]
    },
    {
     "name": "stdout",
     "output_type": "stream",
     "text": [
      "mse : 12252052743.181171\n",
      "rmse : 110688.99106587417\n",
      "r2 : 0.8971691438023679\n"
     ]
    },
    {
     "name": "stderr",
     "output_type": "stream",
     "text": [
      "C:\\Users\\dohee\\AppData\\Local\\Temp\\ipykernel_21152\\3506005532.py:10: FutureWarning: suggest_loguniform has been deprecated in v3.0.0. This feature will be removed in v6.0.0. See https://github.com/optuna/optuna/releases/tag/v3.0.0. Use suggest_float(..., log=True) instead.\n",
      "  'l2_leaf_reg': trial.suggest_loguniform('l2_leaf_reg', 1e-5, 100),\n",
      "[I 2023-06-21 02:13:45,795] Trial 14 finished with value: 12144287184.937767 and parameters: {'iterations': 3469, 'learning_rate': 0.03530945112130366, 'depth': 7, 'l2_leaf_reg': 1.8338317859948916e-05}. Best is trial 5 with value: 12055945068.280645.\n"
     ]
    },
    {
     "name": "stdout",
     "output_type": "stream",
     "text": [
      "mse : 12144287184.937767\n",
      "rmse : 110201.12152304879\n",
      "r2 : 0.8980736146575846\n"
     ]
    },
    {
     "name": "stderr",
     "output_type": "stream",
     "text": [
      "C:\\Users\\dohee\\AppData\\Local\\Temp\\ipykernel_21152\\3506005532.py:10: FutureWarning: suggest_loguniform has been deprecated in v3.0.0. This feature will be removed in v6.0.0. See https://github.com/optuna/optuna/releases/tag/v3.0.0. Use suggest_float(..., log=True) instead.\n",
      "  'l2_leaf_reg': trial.suggest_loguniform('l2_leaf_reg', 1e-5, 100),\n",
      "[I 2023-06-21 02:13:48,958] Trial 15 finished with value: 12164095477.939941 and parameters: {'iterations': 2596, 'learning_rate': 0.09862115532711482, 'depth': 9, 'l2_leaf_reg': 0.00014805084177194362}. Best is trial 5 with value: 12055945068.280645.\n"
     ]
    },
    {
     "name": "stdout",
     "output_type": "stream",
     "text": [
      "mse : 12164095477.939941\n",
      "rmse : 110290.95827827384\n",
      "r2 : 0.8979073646607943\n"
     ]
    },
    {
     "name": "stderr",
     "output_type": "stream",
     "text": [
      "C:\\Users\\dohee\\AppData\\Local\\Temp\\ipykernel_21152\\3506005532.py:10: FutureWarning: suggest_loguniform has been deprecated in v3.0.0. This feature will be removed in v6.0.0. See https://github.com/optuna/optuna/releases/tag/v3.0.0. Use suggest_float(..., log=True) instead.\n",
      "  'l2_leaf_reg': trial.suggest_loguniform('l2_leaf_reg', 1e-5, 100),\n",
      "[I 2023-06-21 02:13:53,406] Trial 16 finished with value: 12124750034.381203 and parameters: {'iterations': 1756, 'learning_rate': 0.06668704509936843, 'depth': 9, 'l2_leaf_reg': 0.0038283425141320366}. Best is trial 5 with value: 12055945068.280645.\n"
     ]
    },
    {
     "name": "stdout",
     "output_type": "stream",
     "text": [
      "mse : 12124750034.381203\n",
      "rmse : 110112.44268647028\n",
      "r2 : 0.8982375889696044\n"
     ]
    },
    {
     "name": "stderr",
     "output_type": "stream",
     "text": [
      "C:\\Users\\dohee\\AppData\\Local\\Temp\\ipykernel_21152\\3506005532.py:10: FutureWarning: suggest_loguniform has been deprecated in v3.0.0. This feature will be removed in v6.0.0. See https://github.com/optuna/optuna/releases/tag/v3.0.0. Use suggest_float(..., log=True) instead.\n",
      "  'l2_leaf_reg': trial.suggest_loguniform('l2_leaf_reg', 1e-5, 100),\n",
      "[I 2023-06-21 02:13:56,433] Trial 17 finished with value: 11996289742.245275 and parameters: {'iterations': 3356, 'learning_rate': 0.05069561716920604, 'depth': 7, 'l2_leaf_reg': 1.1541228382077935e-05}. Best is trial 17 with value: 11996289742.245275.\n"
     ]
    },
    {
     "name": "stdout",
     "output_type": "stream",
     "text": [
      "mse : 11996289742.245275\n",
      "rmse : 109527.57525959057\n",
      "r2 : 0.8993157496749675\n"
     ]
    },
    {
     "name": "stderr",
     "output_type": "stream",
     "text": [
      "C:\\Users\\dohee\\AppData\\Local\\Temp\\ipykernel_21152\\3506005532.py:10: FutureWarning: suggest_loguniform has been deprecated in v3.0.0. This feature will be removed in v6.0.0. See https://github.com/optuna/optuna/releases/tag/v3.0.0. Use suggest_float(..., log=True) instead.\n",
      "  'l2_leaf_reg': trial.suggest_loguniform('l2_leaf_reg', 1e-5, 100),\n",
      "[I 2023-06-21 02:13:58,598] Trial 18 finished with value: 12235340423.127937 and parameters: {'iterations': 3465, 'learning_rate': 0.05141893133221886, 'depth': 7, 'l2_leaf_reg': 1.349405438244146e-05}. Best is trial 17 with value: 11996289742.245275.\n"
     ]
    },
    {
     "name": "stdout",
     "output_type": "stream",
     "text": [
      "mse : 12235340423.127937\n",
      "rmse : 110613.4730633115\n",
      "r2 : 0.8973094094554912\n"
     ]
    },
    {
     "name": "stderr",
     "output_type": "stream",
     "text": [
      "C:\\Users\\dohee\\AppData\\Local\\Temp\\ipykernel_21152\\3506005532.py:10: FutureWarning: suggest_loguniform has been deprecated in v3.0.0. This feature will be removed in v6.0.0. See https://github.com/optuna/optuna/releases/tag/v3.0.0. Use suggest_float(..., log=True) instead.\n",
      "  'l2_leaf_reg': trial.suggest_loguniform('l2_leaf_reg', 1e-5, 100),\n",
      "[I 2023-06-21 02:14:00,611] Trial 19 finished with value: 12463157533.832338 and parameters: {'iterations': 3632, 'learning_rate': 0.04020612810742094, 'depth': 6, 'l2_leaf_reg': 9.758291833928629e-05}. Best is trial 17 with value: 11996289742.245275.\n"
     ]
    },
    {
     "name": "stdout",
     "output_type": "stream",
     "text": [
      "mse : 12463157533.832338\n",
      "rmse : 111638.51277149987\n",
      "r2 : 0.8953973520197899\n"
     ]
    },
    {
     "name": "stderr",
     "output_type": "stream",
     "text": [
      "C:\\Users\\dohee\\AppData\\Local\\Temp\\ipykernel_21152\\3506005532.py:10: FutureWarning: suggest_loguniform has been deprecated in v3.0.0. This feature will be removed in v6.0.0. See https://github.com/optuna/optuna/releases/tag/v3.0.0. Use suggest_float(..., log=True) instead.\n",
      "  'l2_leaf_reg': trial.suggest_loguniform('l2_leaf_reg', 1e-5, 100),\n",
      "[I 2023-06-21 02:14:04,727] Trial 20 finished with value: 12024281871.477968 and parameters: {'iterations': 3173, 'learning_rate': 0.028408845599822225, 'depth': 7, 'l2_leaf_reg': 1.3598625109846647e-05}. Best is trial 17 with value: 11996289742.245275.\n"
     ]
    },
    {
     "name": "stdout",
     "output_type": "stream",
     "text": [
      "mse : 12024281871.477968\n",
      "rmse : 109655.28656420523\n",
      "r2 : 0.8990808131564814\n"
     ]
    },
    {
     "name": "stderr",
     "output_type": "stream",
     "text": [
      "C:\\Users\\dohee\\AppData\\Local\\Temp\\ipykernel_21152\\3506005532.py:10: FutureWarning: suggest_loguniform has been deprecated in v3.0.0. This feature will be removed in v6.0.0. See https://github.com/optuna/optuna/releases/tag/v3.0.0. Use suggest_float(..., log=True) instead.\n",
      "  'l2_leaf_reg': trial.suggest_loguniform('l2_leaf_reg', 1e-5, 100),\n",
      "[I 2023-06-21 02:14:08,021] Trial 21 finished with value: 12134075953.819736 and parameters: {'iterations': 3192, 'learning_rate': 0.03089630824106282, 'depth': 7, 'l2_leaf_reg': 1.3070456341059647e-05}. Best is trial 17 with value: 11996289742.245275.\n"
     ]
    },
    {
     "name": "stdout",
     "output_type": "stream",
     "text": [
      "mse : 12134075953.819736\n",
      "rmse : 110154.78180187974\n",
      "r2 : 0.898159317001568\n"
     ]
    },
    {
     "name": "stderr",
     "output_type": "stream",
     "text": [
      "C:\\Users\\dohee\\AppData\\Local\\Temp\\ipykernel_21152\\3506005532.py:10: FutureWarning: suggest_loguniform has been deprecated in v3.0.0. This feature will be removed in v6.0.0. See https://github.com/optuna/optuna/releases/tag/v3.0.0. Use suggest_float(..., log=True) instead.\n",
      "  'l2_leaf_reg': trial.suggest_loguniform('l2_leaf_reg', 1e-5, 100),\n",
      "[I 2023-06-21 02:14:20,838] Trial 22 finished with value: 12048503728.402674 and parameters: {'iterations': 3303, 'learning_rate': 0.011619047003413516, 'depth': 8, 'l2_leaf_reg': 8.557035013308516e-05}. Best is trial 17 with value: 11996289742.245275.\n"
     ]
    },
    {
     "name": "stdout",
     "output_type": "stream",
     "text": [
      "mse : 12048503728.402674\n",
      "rmse : 109765.67645854816\n",
      "r2 : 0.8988775203419241\n"
     ]
    },
    {
     "name": "stderr",
     "output_type": "stream",
     "text": [
      "C:\\Users\\dohee\\AppData\\Local\\Temp\\ipykernel_21152\\3506005532.py:10: FutureWarning: suggest_loguniform has been deprecated in v3.0.0. This feature will be removed in v6.0.0. See https://github.com/optuna/optuna/releases/tag/v3.0.0. Use suggest_float(..., log=True) instead.\n",
      "  'l2_leaf_reg': trial.suggest_loguniform('l2_leaf_reg', 1e-5, 100),\n",
      "[I 2023-06-21 02:14:24,731] Trial 23 finished with value: 12229121217.416563 and parameters: {'iterations': 2540, 'learning_rate': 0.016603804034345408, 'depth': 6, 'l2_leaf_reg': 4.131864111838574e-05}. Best is trial 17 with value: 11996289742.245275.\n"
     ]
    },
    {
     "name": "stdout",
     "output_type": "stream",
     "text": [
      "mse : 12229121217.416563\n",
      "rmse : 110585.35715643624\n",
      "r2 : 0.8973616069330547\n"
     ]
    },
    {
     "name": "stderr",
     "output_type": "stream",
     "text": [
      "C:\\Users\\dohee\\AppData\\Local\\Temp\\ipykernel_21152\\3506005532.py:10: FutureWarning: suggest_loguniform has been deprecated in v3.0.0. This feature will be removed in v6.0.0. See https://github.com/optuna/optuna/releases/tag/v3.0.0. Use suggest_float(..., log=True) instead.\n",
      "  'l2_leaf_reg': trial.suggest_loguniform('l2_leaf_reg', 1e-5, 100),\n",
      "[I 2023-06-21 02:14:32,670] Trial 24 finished with value: 12134408442.184395 and parameters: {'iterations': 3263, 'learning_rate': 0.011576146287390315, 'depth': 7, 'l2_leaf_reg': 1.0008398672511771e-05}. Best is trial 17 with value: 11996289742.245275.\n"
     ]
    },
    {
     "name": "stdout",
     "output_type": "stream",
     "text": [
      "mse : 12134408442.184395\n",
      "rmse : 110156.29097870168\n",
      "r2 : 0.8981565264436158\n"
     ]
    },
    {
     "name": "stderr",
     "output_type": "stream",
     "text": [
      "C:\\Users\\dohee\\AppData\\Local\\Temp\\ipykernel_21152\\3506005532.py:10: FutureWarning: suggest_loguniform has been deprecated in v3.0.0. This feature will be removed in v6.0.0. See https://github.com/optuna/optuna/releases/tag/v3.0.0. Use suggest_float(..., log=True) instead.\n",
      "  'l2_leaf_reg': trial.suggest_loguniform('l2_leaf_reg', 1e-5, 100),\n",
      "[I 2023-06-21 02:14:36,114] Trial 25 finished with value: 12433490561.283716 and parameters: {'iterations': 2097, 'learning_rate': 0.02483362072204701, 'depth': 5, 'l2_leaf_reg': 0.00010334208484874777}. Best is trial 17 with value: 11996289742.245275.\n"
     ]
    },
    {
     "name": "stdout",
     "output_type": "stream",
     "text": [
      "mse : 12433490561.283716\n",
      "rmse : 111505.56291631245\n",
      "r2 : 0.8956463454131348\n"
     ]
    },
    {
     "name": "stderr",
     "output_type": "stream",
     "text": [
      "C:\\Users\\dohee\\AppData\\Local\\Temp\\ipykernel_21152\\3506005532.py:10: FutureWarning: suggest_loguniform has been deprecated in v3.0.0. This feature will be removed in v6.0.0. See https://github.com/optuna/optuna/releases/tag/v3.0.0. Use suggest_float(..., log=True) instead.\n",
      "  'l2_leaf_reg': trial.suggest_loguniform('l2_leaf_reg', 1e-5, 100),\n",
      "[I 2023-06-21 02:14:42,481] Trial 26 finished with value: 12123327056.212988 and parameters: {'iterations': 2748, 'learning_rate': 0.022427310102283257, 'depth': 8, 'l2_leaf_reg': 1.0479337659762959e-05}. Best is trial 17 with value: 11996289742.245275.\n"
     ]
    },
    {
     "name": "stdout",
     "output_type": "stream",
     "text": [
      "mse : 12123327056.212988\n",
      "rmse : 110105.98101925703\n",
      "r2 : 0.8982495319530746\n"
     ]
    },
    {
     "name": "stderr",
     "output_type": "stream",
     "text": [
      "C:\\Users\\dohee\\AppData\\Local\\Temp\\ipykernel_21152\\3506005532.py:10: FutureWarning: suggest_loguniform has been deprecated in v3.0.0. This feature will be removed in v6.0.0. See https://github.com/optuna/optuna/releases/tag/v3.0.0. Use suggest_float(..., log=True) instead.\n",
      "  'l2_leaf_reg': trial.suggest_loguniform('l2_leaf_reg', 1e-5, 100),\n",
      "[I 2023-06-21 02:14:45,672] Trial 27 finished with value: 12120672031.455284 and parameters: {'iterations': 3289, 'learning_rate': 0.03254515543412535, 'depth': 7, 'l2_leaf_reg': 4.556464333022101e-05}. Best is trial 17 with value: 11996289742.245275.\n"
     ]
    },
    {
     "name": "stdout",
     "output_type": "stream",
     "text": [
      "mse : 12120672031.455284\n",
      "rmse : 110093.9236808975\n",
      "r2 : 0.8982718154409752\n"
     ]
    },
    {
     "name": "stderr",
     "output_type": "stream",
     "text": [
      "C:\\Users\\dohee\\AppData\\Local\\Temp\\ipykernel_21152\\3506005532.py:10: FutureWarning: suggest_loguniform has been deprecated in v3.0.0. This feature will be removed in v6.0.0. See https://github.com/optuna/optuna/releases/tag/v3.0.0. Use suggest_float(..., log=True) instead.\n",
      "  'l2_leaf_reg': trial.suggest_loguniform('l2_leaf_reg', 1e-5, 100),\n",
      "[I 2023-06-21 02:14:50,136] Trial 28 finished with value: 12608262376.091166 and parameters: {'iterations': 3695, 'learning_rate': 0.01238129370706842, 'depth': 5, 'l2_leaf_reg': 0.0002850544464160808}. Best is trial 17 with value: 11996289742.245275.\n"
     ]
    },
    {
     "name": "stdout",
     "output_type": "stream",
     "text": [
      "mse : 12608262376.091166\n",
      "rmse : 112286.51912002244\n",
      "r2 : 0.8941794944508855\n"
     ]
    },
    {
     "name": "stderr",
     "output_type": "stream",
     "text": [
      "C:\\Users\\dohee\\AppData\\Local\\Temp\\ipykernel_21152\\3506005532.py:10: FutureWarning: suggest_loguniform has been deprecated in v3.0.0. This feature will be removed in v6.0.0. See https://github.com/optuna/optuna/releases/tag/v3.0.0. Use suggest_float(..., log=True) instead.\n",
      "  'l2_leaf_reg': trial.suggest_loguniform('l2_leaf_reg', 1e-5, 100),\n",
      "[I 2023-06-21 02:14:52,672] Trial 29 finished with value: 12143593476.040062 and parameters: {'iterations': 2916, 'learning_rate': 0.0372155573303328, 'depth': 6, 'l2_leaf_reg': 0.0006102834139684478}. Best is trial 17 with value: 11996289742.245275.\n"
     ]
    },
    {
     "name": "stdout",
     "output_type": "stream",
     "text": [
      "mse : 12143593476.040062\n",
      "rmse : 110197.97401059631\n",
      "r2 : 0.8980794369211186\n"
     ]
    },
    {
     "name": "stderr",
     "output_type": "stream",
     "text": [
      "C:\\Users\\dohee\\AppData\\Local\\Temp\\ipykernel_21152\\3506005532.py:10: FutureWarning: suggest_loguniform has been deprecated in v3.0.0. This feature will be removed in v6.0.0. See https://github.com/optuna/optuna/releases/tag/v3.0.0. Use suggest_float(..., log=True) instead.\n",
      "  'l2_leaf_reg': trial.suggest_loguniform('l2_leaf_reg', 1e-5, 100),\n",
      "[I 2023-06-21 02:14:56,736] Trial 30 finished with value: 12115380151.536598 and parameters: {'iterations': 1290, 'learning_rate': 0.02849652394775886, 'depth': 7, 'l2_leaf_reg': 0.0016425416197200552}. Best is trial 17 with value: 11996289742.245275.\n"
     ]
    },
    {
     "name": "stdout",
     "output_type": "stream",
     "text": [
      "mse : 12115380151.536598\n",
      "rmse : 110069.88757846806\n",
      "r2 : 0.8983162299202744\n"
     ]
    },
    {
     "name": "stderr",
     "output_type": "stream",
     "text": [
      "C:\\Users\\dohee\\AppData\\Local\\Temp\\ipykernel_21152\\3506005532.py:10: FutureWarning: suggest_loguniform has been deprecated in v3.0.0. This feature will be removed in v6.0.0. See https://github.com/optuna/optuna/releases/tag/v3.0.0. Use suggest_float(..., log=True) instead.\n",
      "  'l2_leaf_reg': trial.suggest_loguniform('l2_leaf_reg', 1e-5, 100),\n",
      "[I 2023-06-21 02:15:00,169] Trial 31 finished with value: 12091558983.287455 and parameters: {'iterations': 3743, 'learning_rate': 0.0416875538264155, 'depth': 8, 'l2_leaf_reg': 0.00016469548979599125}. Best is trial 17 with value: 11996289742.245275.\n"
     ]
    },
    {
     "name": "stdout",
     "output_type": "stream",
     "text": [
      "mse : 12091558983.287455\n",
      "rmse : 109961.62504841157\n",
      "r2 : 0.8985161597751348\n"
     ]
    },
    {
     "name": "stderr",
     "output_type": "stream",
     "text": [
      "C:\\Users\\dohee\\AppData\\Local\\Temp\\ipykernel_21152\\3506005532.py:10: FutureWarning: suggest_loguniform has been deprecated in v3.0.0. This feature will be removed in v6.0.0. See https://github.com/optuna/optuna/releases/tag/v3.0.0. Use suggest_float(..., log=True) instead.\n",
      "  'l2_leaf_reg': trial.suggest_loguniform('l2_leaf_reg', 1e-5, 100),\n",
      "[I 2023-06-21 02:15:03,655] Trial 32 finished with value: 12114496148.672714 and parameters: {'iterations': 3957, 'learning_rate': 0.04209342265749889, 'depth': 8, 'l2_leaf_reg': 4.567704855427469e-05}. Best is trial 17 with value: 11996289742.245275.\n"
     ]
    },
    {
     "name": "stdout",
     "output_type": "stream",
     "text": [
      "mse : 12114496148.672714\n",
      "rmse : 110065.87186168433\n",
      "r2 : 0.8983236493113984\n"
     ]
    },
    {
     "name": "stderr",
     "output_type": "stream",
     "text": [
      "C:\\Users\\dohee\\AppData\\Local\\Temp\\ipykernel_21152\\3506005532.py:10: FutureWarning: suggest_loguniform has been deprecated in v3.0.0. This feature will be removed in v6.0.0. See https://github.com/optuna/optuna/releases/tag/v3.0.0. Use suggest_float(..., log=True) instead.\n",
      "  'l2_leaf_reg': trial.suggest_loguniform('l2_leaf_reg', 1e-5, 100),\n",
      "[I 2023-06-21 02:15:12,716] Trial 33 finished with value: 12111926678.183842 and parameters: {'iterations': 3385, 'learning_rate': 0.025773876369340865, 'depth': 9, 'l2_leaf_reg': 0.00018633803831493616}. Best is trial 17 with value: 11996289742.245275.\n"
     ]
    },
    {
     "name": "stdout",
     "output_type": "stream",
     "text": [
      "mse : 12111926678.183842\n",
      "rmse : 110054.19882123463\n",
      "r2 : 0.8983452147466674\n"
     ]
    },
    {
     "name": "stderr",
     "output_type": "stream",
     "text": [
      "C:\\Users\\dohee\\AppData\\Local\\Temp\\ipykernel_21152\\3506005532.py:10: FutureWarning: suggest_loguniform has been deprecated in v3.0.0. This feature will be removed in v6.0.0. See https://github.com/optuna/optuna/releases/tag/v3.0.0. Use suggest_float(..., log=True) instead.\n",
      "  'l2_leaf_reg': trial.suggest_loguniform('l2_leaf_reg', 1e-5, 100),\n",
      "[I 2023-06-21 02:15:16,221] Trial 34 finished with value: 12030325019.660133 and parameters: {'iterations': 2814, 'learning_rate': 0.03334311049842252, 'depth': 7, 'l2_leaf_reg': 4.2425612120750796e-05}. Best is trial 17 with value: 11996289742.245275.\n"
     ]
    },
    {
     "name": "stdout",
     "output_type": "stream",
     "text": [
      "mse : 12030325019.660133\n",
      "rmse : 109682.83830964685\n",
      "r2 : 0.8990300933208157\n"
     ]
    },
    {
     "name": "stderr",
     "output_type": "stream",
     "text": [
      "C:\\Users\\dohee\\AppData\\Local\\Temp\\ipykernel_21152\\3506005532.py:10: FutureWarning: suggest_loguniform has been deprecated in v3.0.0. This feature will be removed in v6.0.0. See https://github.com/optuna/optuna/releases/tag/v3.0.0. Use suggest_float(..., log=True) instead.\n",
      "  'l2_leaf_reg': trial.suggest_loguniform('l2_leaf_reg', 1e-5, 100),\n",
      "[I 2023-06-21 02:15:19,392] Trial 35 finished with value: 12228446787.679384 and parameters: {'iterations': 2780, 'learning_rate': 0.03347795269219375, 'depth': 7, 'l2_leaf_reg': 2.9298296584890632e-05}. Best is trial 17 with value: 11996289742.245275.\n"
     ]
    },
    {
     "name": "stdout",
     "output_type": "stream",
     "text": [
      "mse : 12228446787.679384\n",
      "rmse : 110582.30775164436\n",
      "r2 : 0.8973672673875739\n"
     ]
    },
    {
     "name": "stderr",
     "output_type": "stream",
     "text": [
      "C:\\Users\\dohee\\AppData\\Local\\Temp\\ipykernel_21152\\3506005532.py:10: FutureWarning: suggest_loguniform has been deprecated in v3.0.0. This feature will be removed in v6.0.0. See https://github.com/optuna/optuna/releases/tag/v3.0.0. Use suggest_float(..., log=True) instead.\n",
      "  'l2_leaf_reg': trial.suggest_loguniform('l2_leaf_reg', 1e-5, 100),\n",
      "[I 2023-06-21 02:15:24,233] Trial 36 finished with value: 12071890981.171486 and parameters: {'iterations': 2419, 'learning_rate': 0.020766162434533338, 'depth': 7, 'l2_leaf_reg': 2.286944228579221e-05}. Best is trial 17 with value: 11996289742.245275.\n"
     ]
    },
    {
     "name": "stdout",
     "output_type": "stream",
     "text": [
      "mse : 12071890981.171486\n",
      "rmse : 109872.15744296408\n",
      "r2 : 0.8986812323176447\n"
     ]
    },
    {
     "name": "stderr",
     "output_type": "stream",
     "text": [
      "C:\\Users\\dohee\\AppData\\Local\\Temp\\ipykernel_21152\\3506005532.py:10: FutureWarning: suggest_loguniform has been deprecated in v3.0.0. This feature will be removed in v6.0.0. See https://github.com/optuna/optuna/releases/tag/v3.0.0. Use suggest_float(..., log=True) instead.\n",
      "  'l2_leaf_reg': trial.suggest_loguniform('l2_leaf_reg', 1e-5, 100),\n",
      "[I 2023-06-21 02:15:27,194] Trial 37 finished with value: 12338630057.948572 and parameters: {'iterations': 3096, 'learning_rate': 0.027886594443698075, 'depth': 6, 'l2_leaf_reg': 7.402417756408423e-05}. Best is trial 17 with value: 11996289742.245275.\n"
     ]
    },
    {
     "name": "stdout",
     "output_type": "stream",
     "text": [
      "mse : 12338630057.948572\n",
      "rmse : 111079.38628723411\n",
      "r2 : 0.8964425047981587\n"
     ]
    },
    {
     "name": "stderr",
     "output_type": "stream",
     "text": [
      "C:\\Users\\dohee\\AppData\\Local\\Temp\\ipykernel_21152\\3506005532.py:10: FutureWarning: suggest_loguniform has been deprecated in v3.0.0. This feature will be removed in v6.0.0. See https://github.com/optuna/optuna/releases/tag/v3.0.0. Use suggest_float(..., log=True) instead.\n",
      "  'l2_leaf_reg': trial.suggest_loguniform('l2_leaf_reg', 1e-5, 100),\n",
      "[I 2023-06-21 02:15:36,461] Trial 38 finished with value: 12005434159.005205 and parameters: {'iterations': 2850, 'learning_rate': 0.016907306574607404, 'depth': 8, 'l2_leaf_reg': 0.0002992587327519856}. Best is trial 17 with value: 11996289742.245275.\n"
     ]
    },
    {
     "name": "stdout",
     "output_type": "stream",
     "text": [
      "mse : 12005434159.005205\n",
      "rmse : 109569.31212253368\n",
      "r2 : 0.8992390010496913\n"
     ]
    },
    {
     "name": "stderr",
     "output_type": "stream",
     "text": [
      "C:\\Users\\dohee\\AppData\\Local\\Temp\\ipykernel_21152\\3506005532.py:10: FutureWarning: suggest_loguniform has been deprecated in v3.0.0. This feature will be removed in v6.0.0. See https://github.com/optuna/optuna/releases/tag/v3.0.0. Use suggest_float(..., log=True) instead.\n",
      "  'l2_leaf_reg': trial.suggest_loguniform('l2_leaf_reg', 1e-5, 100),\n",
      "[I 2023-06-21 02:15:38,409] Trial 39 finished with value: 12171732120.608261 and parameters: {'iterations': 2780, 'learning_rate': 0.045321862655001634, 'depth': 7, 'l2_leaf_reg': 0.0003513605340611813}. Best is trial 17 with value: 11996289742.245275.\n"
     ]
    },
    {
     "name": "stdout",
     "output_type": "stream",
     "text": [
      "mse : 12171732120.608261\n",
      "rmse : 110325.57328474782\n",
      "r2 : 0.8978432707068653\n"
     ]
    },
    {
     "name": "stderr",
     "output_type": "stream",
     "text": [
      "C:\\Users\\dohee\\AppData\\Local\\Temp\\ipykernel_21152\\3506005532.py:10: FutureWarning: suggest_loguniform has been deprecated in v3.0.0. This feature will be removed in v6.0.0. See https://github.com/optuna/optuna/releases/tag/v3.0.0. Use suggest_float(..., log=True) instead.\n",
      "  'l2_leaf_reg': trial.suggest_loguniform('l2_leaf_reg', 1e-5, 100),\n",
      "[I 2023-06-21 02:15:40,439] Trial 40 finished with value: 12371461699.808163 and parameters: {'iterations': 2264, 'learning_rate': 0.0361254395947463, 'depth': 5, 'l2_leaf_reg': 2.703959775713679e-05}. Best is trial 17 with value: 11996289742.245275.\n"
     ]
    },
    {
     "name": "stdout",
     "output_type": "stream",
     "text": [
      "mse : 12371461699.808163\n",
      "rmse : 111227.07269279436\n",
      "r2 : 0.8961669504960704\n"
     ]
    },
    {
     "name": "stderr",
     "output_type": "stream",
     "text": [
      "C:\\Users\\dohee\\AppData\\Local\\Temp\\ipykernel_21152\\3506005532.py:10: FutureWarning: suggest_loguniform has been deprecated in v3.0.0. This feature will be removed in v6.0.0. See https://github.com/optuna/optuna/releases/tag/v3.0.0. Use suggest_float(..., log=True) instead.\n",
      "  'l2_leaf_reg': trial.suggest_loguniform('l2_leaf_reg', 1e-5, 100),\n",
      "[I 2023-06-21 02:15:54,056] Trial 41 finished with value: 12052512609.612833 and parameters: {'iterations': 2928, 'learning_rate': 0.01001050482872385, 'depth': 8, 'l2_leaf_reg': 7.498759966492989e-05}. Best is trial 17 with value: 11996289742.245275.\n"
     ]
    },
    {
     "name": "stdout",
     "output_type": "stream",
     "text": [
      "mse : 12052512609.612833\n",
      "rmse : 109783.93602714759\n",
      "r2 : 0.898843874005602\n"
     ]
    },
    {
     "name": "stderr",
     "output_type": "stream",
     "text": [
      "C:\\Users\\dohee\\AppData\\Local\\Temp\\ipykernel_21152\\3506005532.py:10: FutureWarning: suggest_loguniform has been deprecated in v3.0.0. This feature will be removed in v6.0.0. See https://github.com/optuna/optuna/releases/tag/v3.0.0. Use suggest_float(..., log=True) instead.\n",
      "  'l2_leaf_reg': trial.suggest_loguniform('l2_leaf_reg', 1e-5, 100),\n",
      "[I 2023-06-21 02:16:03,162] Trial 42 finished with value: 11986350647.87586 and parameters: {'iterations': 3173, 'learning_rate': 0.017543869146437057, 'depth': 8, 'l2_leaf_reg': 2.4357936532382523e-05}. Best is trial 42 with value: 11986350647.87586.\n"
     ]
    },
    {
     "name": "stdout",
     "output_type": "stream",
     "text": [
      "mse : 11986350647.87586\n",
      "rmse : 109482.19329131044\n",
      "r2 : 0.8993991679890461\n"
     ]
    },
    {
     "name": "stderr",
     "output_type": "stream",
     "text": [
      "C:\\Users\\dohee\\AppData\\Local\\Temp\\ipykernel_21152\\3506005532.py:10: FutureWarning: suggest_loguniform has been deprecated in v3.0.0. This feature will be removed in v6.0.0. See https://github.com/optuna/optuna/releases/tag/v3.0.0. Use suggest_float(..., log=True) instead.\n",
      "  'l2_leaf_reg': trial.suggest_loguniform('l2_leaf_reg', 1e-5, 100),\n",
      "[I 2023-06-21 02:16:07,331] Trial 43 finished with value: 12156301523.264908 and parameters: {'iterations': 2563, 'learning_rate': 0.018538409982369074, 'depth': 7, 'l2_leaf_reg': 2.575313541593244e-05}. Best is trial 42 with value: 11986350647.87586.\n"
     ]
    },
    {
     "name": "stdout",
     "output_type": "stream",
     "text": [
      "mse : 12156301523.264908\n",
      "rmse : 110255.61900993939\n",
      "r2 : 0.8979727789264035\n"
     ]
    },
    {
     "name": "stderr",
     "output_type": "stream",
     "text": [
      "C:\\Users\\dohee\\AppData\\Local\\Temp\\ipykernel_21152\\3506005532.py:10: FutureWarning: suggest_loguniform has been deprecated in v3.0.0. This feature will be removed in v6.0.0. See https://github.com/optuna/optuna/releases/tag/v3.0.0. Use suggest_float(..., log=True) instead.\n",
      "  'l2_leaf_reg': trial.suggest_loguniform('l2_leaf_reg', 1e-5, 100),\n",
      "[I 2023-06-21 02:16:18,881] Trial 44 finished with value: 12011220640.321688 and parameters: {'iterations': 3010, 'learning_rate': 0.022649166760194763, 'depth': 9, 'l2_leaf_reg': 1.030922010432825e-05}. Best is trial 42 with value: 11986350647.87586.\n"
     ]
    },
    {
     "name": "stdout",
     "output_type": "stream",
     "text": [
      "mse : 12011220640.321688\n",
      "rmse : 109595.71451622408\n",
      "r2 : 0.8991904354059892\n"
     ]
    },
    {
     "name": "stderr",
     "output_type": "stream",
     "text": [
      "C:\\Users\\dohee\\AppData\\Local\\Temp\\ipykernel_21152\\3506005532.py:10: FutureWarning: suggest_loguniform has been deprecated in v3.0.0. This feature will be removed in v6.0.0. See https://github.com/optuna/optuna/releases/tag/v3.0.0. Use suggest_float(..., log=True) instead.\n",
      "  'l2_leaf_reg': trial.suggest_loguniform('l2_leaf_reg', 1e-5, 100),\n",
      "[I 2023-06-21 02:16:30,649] Trial 45 finished with value: 12101941351.822863 and parameters: {'iterations': 3115, 'learning_rate': 0.022722020459016255, 'depth': 9, 'l2_leaf_reg': 2.1577226677190897e-05}. Best is trial 42 with value: 11986350647.87586.\n"
     ]
    },
    {
     "name": "stdout",
     "output_type": "stream",
     "text": [
      "mse : 12101941351.822863\n",
      "rmse : 110008.82397254714\n",
      "r2 : 0.8984290210835022\n"
     ]
    },
    {
     "name": "stderr",
     "output_type": "stream",
     "text": [
      "C:\\Users\\dohee\\AppData\\Local\\Temp\\ipykernel_21152\\3506005532.py:10: FutureWarning: suggest_loguniform has been deprecated in v3.0.0. This feature will be removed in v6.0.0. See https://github.com/optuna/optuna/releases/tag/v3.0.0. Use suggest_float(..., log=True) instead.\n",
      "  'l2_leaf_reg': trial.suggest_loguniform('l2_leaf_reg', 1e-5, 100),\n",
      "[I 2023-06-21 02:16:56,827] Trial 46 finished with value: 12132818582.393 and parameters: {'iterations': 3547, 'learning_rate': 0.01722901701793225, 'depth': 10, 'l2_leaf_reg': 1.0023193373819431e-05}. Best is trial 42 with value: 11986350647.87586.\n"
     ]
    },
    {
     "name": "stdout",
     "output_type": "stream",
     "text": [
      "mse : 12132818582.393\n",
      "rmse : 110149.07436012797\n",
      "r2 : 0.8981698700560707\n"
     ]
    },
    {
     "name": "stderr",
     "output_type": "stream",
     "text": [
      "C:\\Users\\dohee\\AppData\\Local\\Temp\\ipykernel_21152\\3506005532.py:10: FutureWarning: suggest_loguniform has been deprecated in v3.0.0. This feature will be removed in v6.0.0. See https://github.com/optuna/optuna/releases/tag/v3.0.0. Use suggest_float(..., log=True) instead.\n",
      "  'l2_leaf_reg': trial.suggest_loguniform('l2_leaf_reg', 1e-5, 100),\n",
      "[I 2023-06-21 02:17:06,712] Trial 47 finished with value: 11971216012.03985 and parameters: {'iterations': 3045, 'learning_rate': 0.02542910041643454, 'depth': 9, 'l2_leaf_reg': 0.0002112902808199375}. Best is trial 47 with value: 11971216012.03985.\n"
     ]
    },
    {
     "name": "stdout",
     "output_type": "stream",
     "text": [
      "mse : 11971216012.03985\n",
      "rmse : 109413.05229285877\n",
      "r2 : 0.8995261922186897\n"
     ]
    },
    {
     "name": "stderr",
     "output_type": "stream",
     "text": [
      "C:\\Users\\dohee\\AppData\\Local\\Temp\\ipykernel_21152\\3506005532.py:10: FutureWarning: suggest_loguniform has been deprecated in v3.0.0. This feature will be removed in v6.0.0. See https://github.com/optuna/optuna/releases/tag/v3.0.0. Use suggest_float(..., log=True) instead.\n",
      "  'l2_leaf_reg': trial.suggest_loguniform('l2_leaf_reg', 1e-5, 100),\n",
      "[I 2023-06-21 02:17:20,881] Trial 48 finished with value: 12115123667.360464 and parameters: {'iterations': 3761, 'learning_rate': 0.019978468613967987, 'depth': 9, 'l2_leaf_reg': 0.00021714113968662155}. Best is trial 47 with value: 11971216012.03985.\n"
     ]
    },
    {
     "name": "stdout",
     "output_type": "stream",
     "text": [
      "mse : 12115123667.360464\n",
      "rmse : 110068.72247537201\n",
      "r2 : 0.8983183825789337\n"
     ]
    },
    {
     "name": "stderr",
     "output_type": "stream",
     "text": [
      "C:\\Users\\dohee\\AppData\\Local\\Temp\\ipykernel_21152\\3506005532.py:10: FutureWarning: suggest_loguniform has been deprecated in v3.0.0. This feature will be removed in v6.0.0. See https://github.com/optuna/optuna/releases/tag/v3.0.0. Use suggest_float(..., log=True) instead.\n",
      "  'l2_leaf_reg': trial.suggest_loguniform('l2_leaf_reg', 1e-5, 100),\n",
      "[I 2023-06-21 02:17:52,943] Trial 49 finished with value: 12149205155.281445 and parameters: {'iterations': 1646, 'learning_rate': 0.014621974914376792, 'depth': 10, 'l2_leaf_reg': 0.0006147518224738511}. Best is trial 47 with value: 11971216012.03985.\n"
     ]
    },
    {
     "name": "stdout",
     "output_type": "stream",
     "text": [
      "mse : 12149205155.281445\n",
      "rmse : 110223.43287741243\n",
      "r2 : 0.8980323383823517\n"
     ]
    },
    {
     "name": "stderr",
     "output_type": "stream",
     "text": [
      "C:\\Users\\dohee\\AppData\\Local\\Temp\\ipykernel_21152\\3506005532.py:10: FutureWarning: suggest_loguniform has been deprecated in v3.0.0. This feature will be removed in v6.0.0. See https://github.com/optuna/optuna/releases/tag/v3.0.0. Use suggest_float(..., log=True) instead.\n",
      "  'l2_leaf_reg': trial.suggest_loguniform('l2_leaf_reg', 1e-5, 100),\n",
      "[I 2023-06-21 02:18:00,958] Trial 50 finished with value: 12304318857.0487 and parameters: {'iterations': 479, 'learning_rate': 0.014811937001081545, 'depth': 9, 'l2_leaf_reg': 0.00011847008447652028}. Best is trial 47 with value: 11971216012.03985.\n"
     ]
    },
    {
     "name": "stdout",
     "output_type": "stream",
     "text": [
      "mse : 12304318857.0487\n",
      "rmse : 110924.83426649192\n",
      "r2 : 0.8967304769641018\n"
     ]
    },
    {
     "name": "stderr",
     "output_type": "stream",
     "text": [
      "C:\\Users\\dohee\\AppData\\Local\\Temp\\ipykernel_21152\\3506005532.py:10: FutureWarning: suggest_loguniform has been deprecated in v3.0.0. This feature will be removed in v6.0.0. See https://github.com/optuna/optuna/releases/tag/v3.0.0. Use suggest_float(..., log=True) instead.\n",
      "  'l2_leaf_reg': trial.suggest_loguniform('l2_leaf_reg', 1e-5, 100),\n",
      "[I 2023-06-21 02:18:07,335] Trial 51 finished with value: 12108596771.436401 and parameters: {'iterations': 3017, 'learning_rate': 0.02641912833200135, 'depth': 8, 'l2_leaf_reg': 1.9906028517178282e-05}. Best is trial 47 with value: 11971216012.03985.\n"
     ]
    },
    {
     "name": "stdout",
     "output_type": "stream",
     "text": [
      "mse : 12108596771.436401\n",
      "rmse : 110039.0692955752\n",
      "r2 : 0.8983731624848199\n"
     ]
    },
    {
     "name": "stderr",
     "output_type": "stream",
     "text": [
      "C:\\Users\\dohee\\AppData\\Local\\Temp\\ipykernel_21152\\3506005532.py:10: FutureWarning: suggest_loguniform has been deprecated in v3.0.0. This feature will be removed in v6.0.0. See https://github.com/optuna/optuna/releases/tag/v3.0.0. Use suggest_float(..., log=True) instead.\n",
      "  'l2_leaf_reg': trial.suggest_loguniform('l2_leaf_reg', 1e-5, 100),\n",
      "[I 2023-06-21 02:18:19,291] Trial 52 finished with value: 12109753796.193403 and parameters: {'iterations': 3378, 'learning_rate': 0.02224674221315574, 'depth': 9, 'l2_leaf_reg': 5.4672368664223025e-05}. Best is trial 47 with value: 11971216012.03985.\n"
     ]
    },
    {
     "name": "stdout",
     "output_type": "stream",
     "text": [
      "mse : 12109753796.193403\n",
      "rmse : 110044.3265061557\n",
      "r2 : 0.898363451634818\n"
     ]
    },
    {
     "name": "stderr",
     "output_type": "stream",
     "text": [
      "C:\\Users\\dohee\\AppData\\Local\\Temp\\ipykernel_21152\\3506005532.py:10: FutureWarning: suggest_loguniform has been deprecated in v3.0.0. This feature will be removed in v6.0.0. See https://github.com/optuna/optuna/releases/tag/v3.0.0. Use suggest_float(..., log=True) instead.\n",
      "  'l2_leaf_reg': trial.suggest_loguniform('l2_leaf_reg', 1e-5, 100),\n",
      "[I 2023-06-21 02:18:27,081] Trial 53 finished with value: 12204005527.178415 and parameters: {'iterations': 3195, 'learning_rate': 0.029557948868150465, 'depth': 9, 'l2_leaf_reg': 1.7521548206418022e-05}. Best is trial 47 with value: 11971216012.03985.\n"
     ]
    },
    {
     "name": "stdout",
     "output_type": "stream",
     "text": [
      "mse : 12204005527.178415\n",
      "rmse : 110471.74085338936\n",
      "r2 : 0.8975724016451996\n"
     ]
    },
    {
     "name": "stderr",
     "output_type": "stream",
     "text": [
      "C:\\Users\\dohee\\AppData\\Local\\Temp\\ipykernel_21152\\3506005532.py:10: FutureWarning: suggest_loguniform has been deprecated in v3.0.0. This feature will be removed in v6.0.0. See https://github.com/optuna/optuna/releases/tag/v3.0.0. Use suggest_float(..., log=True) instead.\n",
      "  'l2_leaf_reg': trial.suggest_loguniform('l2_leaf_reg', 1e-5, 100),\n",
      "[I 2023-06-21 02:18:32,880] Trial 54 finished with value: 11987699961.298769 and parameters: {'iterations': 3580, 'learning_rate': 0.024206699495592315, 'depth': 8, 'l2_leaf_reg': 3.443663442782598e-05}. Best is trial 47 with value: 11971216012.03985.\n"
     ]
    },
    {
     "name": "stdout",
     "output_type": "stream",
     "text": [
      "mse : 11987699961.298769\n",
      "rmse : 109488.35536849921\n",
      "r2 : 0.8993878432700405\n"
     ]
    },
    {
     "name": "stderr",
     "output_type": "stream",
     "text": [
      "C:\\Users\\dohee\\AppData\\Local\\Temp\\ipykernel_21152\\3506005532.py:10: FutureWarning: suggest_loguniform has been deprecated in v3.0.0. This feature will be removed in v6.0.0. See https://github.com/optuna/optuna/releases/tag/v3.0.0. Use suggest_float(..., log=True) instead.\n",
      "  'l2_leaf_reg': trial.suggest_loguniform('l2_leaf_reg', 1e-5, 100),\n",
      "[I 2023-06-21 02:18:40,881] Trial 55 finished with value: 11999024667.769156 and parameters: {'iterations': 3592, 'learning_rate': 0.018984388870615217, 'depth': 8, 'l2_leaf_reg': 0.00023011085010358627}. Best is trial 47 with value: 11971216012.03985.\n"
     ]
    },
    {
     "name": "stdout",
     "output_type": "stream",
     "text": [
      "mse : 11999024667.769156\n",
      "rmse : 109540.05964837318\n",
      "r2 : 0.8992927955839959\n"
     ]
    },
    {
     "name": "stderr",
     "output_type": "stream",
     "text": [
      "C:\\Users\\dohee\\AppData\\Local\\Temp\\ipykernel_21152\\3506005532.py:10: FutureWarning: suggest_loguniform has been deprecated in v3.0.0. This feature will be removed in v6.0.0. See https://github.com/optuna/optuna/releases/tag/v3.0.0. Use suggest_float(..., log=True) instead.\n",
      "  'l2_leaf_reg': trial.suggest_loguniform('l2_leaf_reg', 1e-5, 100),\n",
      "[I 2023-06-21 02:18:48,162] Trial 56 finished with value: 12089511473.29372 and parameters: {'iterations': 3586, 'learning_rate': 0.0169604362789357, 'depth': 8, 'l2_leaf_reg': 0.0011431187514904444}. Best is trial 47 with value: 11971216012.03985.\n"
     ]
    },
    {
     "name": "stdout",
     "output_type": "stream",
     "text": [
      "mse : 12089511473.29372\n",
      "rmse : 109952.31454268582\n",
      "r2 : 0.8985333444224868\n"
     ]
    },
    {
     "name": "stderr",
     "output_type": "stream",
     "text": [
      "C:\\Users\\dohee\\AppData\\Local\\Temp\\ipykernel_21152\\3506005532.py:10: FutureWarning: suggest_loguniform has been deprecated in v3.0.0. This feature will be removed in v6.0.0. See https://github.com/optuna/optuna/releases/tag/v3.0.0. Use suggest_float(..., log=True) instead.\n",
      "  'l2_leaf_reg': trial.suggest_loguniform('l2_leaf_reg', 1e-5, 100),\n",
      "[I 2023-06-21 02:18:57,774] Trial 57 finished with value: 12049645534.680397 and parameters: {'iterations': 3818, 'learning_rate': 0.018979689071779486, 'depth': 8, 'l2_leaf_reg': 0.0002864118408969867}. Best is trial 47 with value: 11971216012.03985.\n"
     ]
    },
    {
     "name": "stdout",
     "output_type": "stream",
     "text": [
      "mse : 12049645534.680397\n",
      "rmse : 109770.8774433383\n",
      "r2 : 0.8988679372198457\n"
     ]
    },
    {
     "name": "stderr",
     "output_type": "stream",
     "text": [
      "C:\\Users\\dohee\\AppData\\Local\\Temp\\ipykernel_21152\\3506005532.py:10: FutureWarning: suggest_loguniform has been deprecated in v3.0.0. This feature will be removed in v6.0.0. See https://github.com/optuna/optuna/releases/tag/v3.0.0. Use suggest_float(..., log=True) instead.\n",
      "  'l2_leaf_reg': trial.suggest_loguniform('l2_leaf_reg', 1e-5, 100),\n",
      "[I 2023-06-21 02:19:04,311] Trial 58 finished with value: 11953121342.246384 and parameters: {'iterations': 3464, 'learning_rate': 0.024990753700769437, 'depth': 8, 'l2_leaf_reg': 0.0004714353404815817}. Best is trial 58 with value: 11953121342.246384.\n"
     ]
    },
    {
     "name": "stdout",
     "output_type": "stream",
     "text": [
      "mse : 11953121342.246384\n",
      "rmse : 109330.33130035957\n",
      "r2 : 0.8996780598629512\n"
     ]
    },
    {
     "name": "stderr",
     "output_type": "stream",
     "text": [
      "C:\\Users\\dohee\\AppData\\Local\\Temp\\ipykernel_21152\\3506005532.py:10: FutureWarning: suggest_loguniform has been deprecated in v3.0.0. This feature will be removed in v6.0.0. See https://github.com/optuna/optuna/releases/tag/v3.0.0. Use suggest_float(..., log=True) instead.\n",
      "  'l2_leaf_reg': trial.suggest_loguniform('l2_leaf_reg', 1e-5, 100),\n",
      "[I 2023-06-21 02:19:09,534] Trial 59 finished with value: 12143153004.929348 and parameters: {'iterations': 3468, 'learning_rate': 0.025150326545782656, 'depth': 8, 'l2_leaf_reg': 0.00014939883062199802}. Best is trial 58 with value: 11953121342.246384.\n"
     ]
    },
    {
     "name": "stdout",
     "output_type": "stream",
     "text": [
      "mse : 12143153004.929348\n",
      "rmse : 110195.97544796883\n",
      "r2 : 0.8980831337727723\n"
     ]
    },
    {
     "name": "stderr",
     "output_type": "stream",
     "text": [
      "C:\\Users\\dohee\\AppData\\Local\\Temp\\ipykernel_21152\\3506005532.py:10: FutureWarning: suggest_loguniform has been deprecated in v3.0.0. This feature will be removed in v6.0.0. See https://github.com/optuna/optuna/releases/tag/v3.0.0. Use suggest_float(..., log=True) instead.\n",
      "  'l2_leaf_reg': trial.suggest_loguniform('l2_leaf_reg', 1e-5, 100),\n",
      "[I 2023-06-21 02:19:23,032] Trial 60 finished with value: 12068308696.87673 and parameters: {'iterations': 3625, 'learning_rate': 0.03045610975807338, 'depth': 10, 'l2_leaf_reg': 7.020829710243421e-05}. Best is trial 58 with value: 11953121342.246384.\n"
     ]
    },
    {
     "name": "stdout",
     "output_type": "stream",
     "text": [
      "mse : 12068308696.87673\n",
      "rmse : 109855.8541766288\n",
      "r2 : 0.8987112982477297\n"
     ]
    },
    {
     "name": "stderr",
     "output_type": "stream",
     "text": [
      "C:\\Users\\dohee\\AppData\\Local\\Temp\\ipykernel_21152\\3506005532.py:10: FutureWarning: suggest_loguniform has been deprecated in v3.0.0. This feature will be removed in v6.0.0. See https://github.com/optuna/optuna/releases/tag/v3.0.0. Use suggest_float(..., log=True) instead.\n",
      "  'l2_leaf_reg': trial.suggest_loguniform('l2_leaf_reg', 1e-5, 100),\n",
      "[I 2023-06-21 02:19:34,061] Trial 61 finished with value: 12062393814.828735 and parameters: {'iterations': 3399, 'learning_rate': 0.014311545712376274, 'depth': 8, 'l2_leaf_reg': 0.0005265592484833427}. Best is trial 58 with value: 11953121342.246384.\n"
     ]
    },
    {
     "name": "stdout",
     "output_type": "stream",
     "text": [
      "mse : 12062393814.828735\n",
      "rmse : 109828.92977184443\n",
      "r2 : 0.8987609415522478\n"
     ]
    },
    {
     "name": "stderr",
     "output_type": "stream",
     "text": [
      "C:\\Users\\dohee\\AppData\\Local\\Temp\\ipykernel_21152\\3506005532.py:10: FutureWarning: suggest_loguniform has been deprecated in v3.0.0. This feature will be removed in v6.0.0. See https://github.com/optuna/optuna/releases/tag/v3.0.0. Use suggest_float(..., log=True) instead.\n",
      "  'l2_leaf_reg': trial.suggest_loguniform('l2_leaf_reg', 1e-5, 100),\n",
      "[I 2023-06-21 02:19:43,476] Trial 62 finished with value: 11985905987.63304 and parameters: {'iterations': 3881, 'learning_rate': 0.019544365660635273, 'depth': 8, 'l2_leaf_reg': 0.00028363268487947743}. Best is trial 58 with value: 11953121342.246384.\n"
     ]
    },
    {
     "name": "stdout",
     "output_type": "stream",
     "text": [
      "mse : 11985905987.63304\n",
      "rmse : 109480.16253017275\n",
      "r2 : 0.8994028999998727\n"
     ]
    },
    {
     "name": "stderr",
     "output_type": "stream",
     "text": [
      "C:\\Users\\dohee\\AppData\\Local\\Temp\\ipykernel_21152\\3506005532.py:10: FutureWarning: suggest_loguniform has been deprecated in v3.0.0. This feature will be removed in v6.0.0. See https://github.com/optuna/optuna/releases/tag/v3.0.0. Use suggest_float(..., log=True) instead.\n",
      "  'l2_leaf_reg': trial.suggest_loguniform('l2_leaf_reg', 1e-5, 100),\n",
      "[I 2023-06-21 02:19:50,764] Trial 63 finished with value: 11916375762.838402 and parameters: {'iterations': 3871, 'learning_rate': 0.022612603974958123, 'depth': 8, 'l2_leaf_reg': 0.0038409095165336652}. Best is trial 63 with value: 11916375762.838402.\n"
     ]
    },
    {
     "name": "stdout",
     "output_type": "stream",
     "text": [
      "mse : 11916375762.838402\n",
      "rmse : 109162.15352785232\n",
      "r2 : 0.8999864636440322\n"
     ]
    },
    {
     "name": "stderr",
     "output_type": "stream",
     "text": [
      "C:\\Users\\dohee\\AppData\\Local\\Temp\\ipykernel_21152\\3506005532.py:10: FutureWarning: suggest_loguniform has been deprecated in v3.0.0. This feature will be removed in v6.0.0. See https://github.com/optuna/optuna/releases/tag/v3.0.0. Use suggest_float(..., log=True) instead.\n",
      "  'l2_leaf_reg': trial.suggest_loguniform('l2_leaf_reg', 1e-5, 100),\n",
      "[I 2023-06-21 02:19:55,090] Trial 64 finished with value: 12060633983.193937 and parameters: {'iterations': 3883, 'learning_rate': 0.03818761997811626, 'depth': 8, 'l2_leaf_reg': 0.0013260407766438776}. Best is trial 63 with value: 11916375762.838402.\n"
     ]
    },
    {
     "name": "stdout",
     "output_type": "stream",
     "text": [
      "mse : 12060633983.193937\n",
      "rmse : 109820.9177852468\n",
      "r2 : 0.898775711729749\n"
     ]
    },
    {
     "name": "stderr",
     "output_type": "stream",
     "text": [
      "C:\\Users\\dohee\\AppData\\Local\\Temp\\ipykernel_21152\\3506005532.py:10: FutureWarning: suggest_loguniform has been deprecated in v3.0.0. This feature will be removed in v6.0.0. See https://github.com/optuna/optuna/releases/tag/v3.0.0. Use suggest_float(..., log=True) instead.\n",
      "  'l2_leaf_reg': trial.suggest_loguniform('l2_leaf_reg', 1e-5, 100),\n",
      "[I 2023-06-21 02:20:01,430] Trial 65 finished with value: 11934430970.744623 and parameters: {'iterations': 4000, 'learning_rate': 0.024789430961764166, 'depth': 8, 'l2_leaf_reg': 0.0036522382584980367}. Best is trial 63 with value: 11916375762.838402.\n"
     ]
    },
    {
     "name": "stdout",
     "output_type": "stream",
     "text": [
      "mse : 11934430970.744623\n",
      "rmse : 109244.82125366229\n",
      "r2 : 0.8998349272013855\n"
     ]
    },
    {
     "name": "stderr",
     "output_type": "stream",
     "text": [
      "C:\\Users\\dohee\\AppData\\Local\\Temp\\ipykernel_21152\\3506005532.py:10: FutureWarning: suggest_loguniform has been deprecated in v3.0.0. This feature will be removed in v6.0.0. See https://github.com/optuna/optuna/releases/tag/v3.0.0. Use suggest_float(..., log=True) instead.\n",
      "  'l2_leaf_reg': trial.suggest_loguniform('l2_leaf_reg', 1e-5, 100),\n",
      "[I 2023-06-21 02:20:07,612] Trial 66 finished with value: 12177035774.068468 and parameters: {'iterations': 3929, 'learning_rate': 0.024583392131884596, 'depth': 8, 'l2_leaf_reg': 0.004946967898233233}. Best is trial 63 with value: 11916375762.838402.\n"
     ]
    },
    {
     "name": "stdout",
     "output_type": "stream",
     "text": [
      "mse : 12177035774.068468\n",
      "rmse : 110349.60704084301\n",
      "r2 : 0.8977987574128303\n"
     ]
    },
    {
     "name": "stderr",
     "output_type": "stream",
     "text": [
      "C:\\Users\\dohee\\AppData\\Local\\Temp\\ipykernel_21152\\3506005532.py:10: FutureWarning: suggest_loguniform has been deprecated in v3.0.0. This feature will be removed in v6.0.0. See https://github.com/optuna/optuna/releases/tag/v3.0.0. Use suggest_float(..., log=True) instead.\n",
      "  'l2_leaf_reg': trial.suggest_loguniform('l2_leaf_reg', 1e-5, 100),\n",
      "[I 2023-06-21 02:20:09,607] Trial 67 finished with value: 12526375445.448713 and parameters: {'iterations': 3989, 'learning_rate': 0.03200581959713522, 'depth': 4, 'l2_leaf_reg': 0.00307600600687444}. Best is trial 63 with value: 11916375762.838402.\n"
     ]
    },
    {
     "name": "stdout",
     "output_type": "stream",
     "text": [
      "mse : 12526375445.448713\n",
      "rmse : 111921.29129637807\n",
      "r2 : 0.894866767299433\n"
     ]
    },
    {
     "name": "stderr",
     "output_type": "stream",
     "text": [
      "C:\\Users\\dohee\\AppData\\Local\\Temp\\ipykernel_21152\\3506005532.py:10: FutureWarning: suggest_loguniform has been deprecated in v3.0.0. This feature will be removed in v6.0.0. See https://github.com/optuna/optuna/releases/tag/v3.0.0. Use suggest_float(..., log=True) instead.\n",
      "  'l2_leaf_reg': trial.suggest_loguniform('l2_leaf_reg', 1e-5, 100),\n",
      "[I 2023-06-21 02:20:17,293] Trial 68 finished with value: 12073722760.077442 and parameters: {'iterations': 3751, 'learning_rate': 0.021294808413508896, 'depth': 8, 'l2_leaf_reg': 0.007948854851257497}. Best is trial 63 with value: 11916375762.838402.\n"
     ]
    },
    {
     "name": "stdout",
     "output_type": "stream",
     "text": [
      "mse : 12073722760.077442\n",
      "rmse : 109880.49308260971\n",
      "r2 : 0.8986658582903521\n"
     ]
    },
    {
     "name": "stderr",
     "output_type": "stream",
     "text": [
      "C:\\Users\\dohee\\AppData\\Local\\Temp\\ipykernel_21152\\3506005532.py:10: FutureWarning: suggest_loguniform has been deprecated in v3.0.0. This feature will be removed in v6.0.0. See https://github.com/optuna/optuna/releases/tag/v3.0.0. Use suggest_float(..., log=True) instead.\n",
      "  'l2_leaf_reg': trial.suggest_loguniform('l2_leaf_reg', 1e-5, 100),\n",
      "[I 2023-06-21 02:20:28,684] Trial 69 finished with value: 11993297366.338476 and parameters: {'iterations': 3831, 'learning_rate': 0.026662274477694314, 'depth': 9, 'l2_leaf_reg': 0.0019509036740048438}. Best is trial 63 with value: 11916375762.838402.\n"
     ]
    },
    {
     "name": "stdout",
     "output_type": "stream",
     "text": [
      "mse : 11993297366.338476\n",
      "rmse : 109513.91403076815\n",
      "r2 : 0.8993408645339231\n"
     ]
    },
    {
     "name": "stderr",
     "output_type": "stream",
     "text": [
      "C:\\Users\\dohee\\AppData\\Local\\Temp\\ipykernel_21152\\3506005532.py:10: FutureWarning: suggest_loguniform has been deprecated in v3.0.0. This feature will be removed in v6.0.0. See https://github.com/optuna/optuna/releases/tag/v3.0.0. Use suggest_float(..., log=True) instead.\n",
      "  'l2_leaf_reg': trial.suggest_loguniform('l2_leaf_reg', 1e-5, 100),\n",
      "[I 2023-06-21 02:20:37,667] Trial 70 finished with value: 12160135183.419687 and parameters: {'iterations': 3682, 'learning_rate': 0.029726031869316008, 'depth': 9, 'l2_leaf_reg': 0.0006603834706851004}. Best is trial 63 with value: 11916375762.838402.\n"
     ]
    },
    {
     "name": "stdout",
     "output_type": "stream",
     "text": [
      "mse : 12160135183.419687\n",
      "rmse : 110273.00296727067\n",
      "r2 : 0.8979406032114967\n"
     ]
    },
    {
     "name": "stderr",
     "output_type": "stream",
     "text": [
      "C:\\Users\\dohee\\AppData\\Local\\Temp\\ipykernel_21152\\3506005532.py:10: FutureWarning: suggest_loguniform has been deprecated in v3.0.0. This feature will be removed in v6.0.0. See https://github.com/optuna/optuna/releases/tag/v3.0.0. Use suggest_float(..., log=True) instead.\n",
      "  'l2_leaf_reg': trial.suggest_loguniform('l2_leaf_reg', 1e-5, 100),\n",
      "[I 2023-06-21 02:20:48,853] Trial 71 finished with value: 11898264128.231482 and parameters: {'iterations': 3847, 'learning_rate': 0.026392177367180844, 'depth': 9, 'l2_leaf_reg': 0.001974170660535803}. Best is trial 71 with value: 11898264128.231482.\n"
     ]
    },
    {
     "name": "stdout",
     "output_type": "stream",
     "text": [
      "mse : 11898264128.231482\n",
      "rmse : 109079.16450097828\n",
      "r2 : 0.9001384736731113\n"
     ]
    },
    {
     "name": "stderr",
     "output_type": "stream",
     "text": [
      "C:\\Users\\dohee\\AppData\\Local\\Temp\\ipykernel_21152\\3506005532.py:10: FutureWarning: suggest_loguniform has been deprecated in v3.0.0. This feature will be removed in v6.0.0. See https://github.com/optuna/optuna/releases/tag/v3.0.0. Use suggest_float(..., log=True) instead.\n",
      "  'l2_leaf_reg': trial.suggest_loguniform('l2_leaf_reg', 1e-5, 100),\n",
      "[I 2023-06-21 02:21:00,686] Trial 72 finished with value: 12152642843.16136 and parameters: {'iterations': 3504, 'learning_rate': 0.02451057747586664, 'depth': 9, 'l2_leaf_reg': 0.0007948811272529482}. Best is trial 71 with value: 11898264128.231482.\n"
     ]
    },
    {
     "name": "stdout",
     "output_type": "stream",
     "text": [
      "mse : 12152642843.16136\n",
      "rmse : 110239.02595343157\n",
      "r2 : 0.8980034860426303\n"
     ]
    },
    {
     "name": "stderr",
     "output_type": "stream",
     "text": [
      "C:\\Users\\dohee\\AppData\\Local\\Temp\\ipykernel_21152\\3506005532.py:10: FutureWarning: suggest_loguniform has been deprecated in v3.0.0. This feature will be removed in v6.0.0. See https://github.com/optuna/optuna/releases/tag/v3.0.0. Use suggest_float(..., log=True) instead.\n",
      "  'l2_leaf_reg': trial.suggest_loguniform('l2_leaf_reg', 1e-5, 100),\n",
      "[I 2023-06-21 02:21:05,659] Trial 73 finished with value: 12140200853.425364 and parameters: {'iterations': 3870, 'learning_rate': 0.027070103052885885, 'depth': 8, 'l2_leaf_reg': 0.0009114462294716967}. Best is trial 71 with value: 11898264128.231482.\n"
     ]
    },
    {
     "name": "stdout",
     "output_type": "stream",
     "text": [
      "mse : 12140200853.425364\n",
      "rmse : 110182.57962774952\n",
      "r2 : 0.8981079110303587\n"
     ]
    },
    {
     "name": "stderr",
     "output_type": "stream",
     "text": [
      "C:\\Users\\dohee\\AppData\\Local\\Temp\\ipykernel_21152\\3506005532.py:10: FutureWarning: suggest_loguniform has been deprecated in v3.0.0. This feature will be removed in v6.0.0. See https://github.com/optuna/optuna/releases/tag/v3.0.0. Use suggest_float(..., log=True) instead.\n",
      "  'l2_leaf_reg': trial.suggest_loguniform('l2_leaf_reg', 1e-5, 100),\n",
      "[I 2023-06-21 02:21:25,828] Trial 74 finished with value: 12083205345.802742 and parameters: {'iterations': 3706, 'learning_rate': 0.02022246407135486, 'depth': 10, 'l2_leaf_reg': 0.0004344163507598531}. Best is trial 71 with value: 11898264128.231482.\n"
     ]
    },
    {
     "name": "stdout",
     "output_type": "stream",
     "text": [
      "mse : 12083205345.802742\n",
      "rmse : 109923.63415482015\n",
      "r2 : 0.8985862714301304\n"
     ]
    },
    {
     "name": "stderr",
     "output_type": "stream",
     "text": [
      "C:\\Users\\dohee\\AppData\\Local\\Temp\\ipykernel_21152\\3506005532.py:10: FutureWarning: suggest_loguniform has been deprecated in v3.0.0. This feature will be removed in v6.0.0. See https://github.com/optuna/optuna/releases/tag/v3.0.0. Use suggest_float(..., log=True) instead.\n",
      "  'l2_leaf_reg': trial.suggest_loguniform('l2_leaf_reg', 1e-5, 100),\n",
      "[I 2023-06-21 02:21:31,415] Trial 75 finished with value: 12079010167.358883 and parameters: {'iterations': 3979, 'learning_rate': 0.03487381255658285, 'depth': 8, 'l2_leaf_reg': 0.002165845698128119}. Best is trial 71 with value: 11898264128.231482.\n"
     ]
    },
    {
     "name": "stdout",
     "output_type": "stream",
     "text": [
      "mse : 12079010167.358883\n",
      "rmse : 109904.55025775268\n",
      "r2 : 0.8986214813496701\n"
     ]
    },
    {
     "name": "stderr",
     "output_type": "stream",
     "text": [
      "C:\\Users\\dohee\\AppData\\Local\\Temp\\ipykernel_21152\\3506005532.py:10: FutureWarning: suggest_loguniform has been deprecated in v3.0.0. This feature will be removed in v6.0.0. See https://github.com/optuna/optuna/releases/tag/v3.0.0. Use suggest_float(..., log=True) instead.\n",
      "  'l2_leaf_reg': trial.suggest_loguniform('l2_leaf_reg', 1e-5, 100),\n",
      "[I 2023-06-21 02:21:42,461] Trial 76 finished with value: 12077320556.365253 and parameters: {'iterations': 3804, 'learning_rate': 0.023800443752001955, 'depth': 9, 'l2_leaf_reg': 0.014131765316403836}. Best is trial 71 with value: 11898264128.231482.\n"
     ]
    },
    {
     "name": "stdout",
     "output_type": "stream",
     "text": [
      "mse : 12077320556.365253\n",
      "rmse : 109896.86326899988\n",
      "r2 : 0.8986356621688976\n"
     ]
    },
    {
     "name": "stderr",
     "output_type": "stream",
     "text": [
      "C:\\Users\\dohee\\AppData\\Local\\Temp\\ipykernel_21152\\3506005532.py:10: FutureWarning: suggest_loguniform has been deprecated in v3.0.0. This feature will be removed in v6.0.0. See https://github.com/optuna/optuna/releases/tag/v3.0.0. Use suggest_float(..., log=True) instead.\n",
      "  'l2_leaf_reg': trial.suggest_loguniform('l2_leaf_reg', 1e-5, 100),\n",
      "[I 2023-06-21 02:21:53,527] Trial 77 finished with value: 12000645835.127382 and parameters: {'iterations': 3256, 'learning_rate': 0.013542884632403152, 'depth': 8, 'l2_leaf_reg': 0.0012785134772074862}. Best is trial 71 with value: 11898264128.231482.\n"
     ]
    },
    {
     "name": "stdout",
     "output_type": "stream",
     "text": [
      "mse : 12000645835.127382\n",
      "rmse : 109547.45928193581\n",
      "r2 : 0.8992791892087231\n"
     ]
    },
    {
     "name": "stderr",
     "output_type": "stream",
     "text": [
      "C:\\Users\\dohee\\AppData\\Local\\Temp\\ipykernel_21152\\3506005532.py:10: FutureWarning: suggest_loguniform has been deprecated in v3.0.0. This feature will be removed in v6.0.0. See https://github.com/optuna/optuna/releases/tag/v3.0.0. Use suggest_float(..., log=True) instead.\n",
      "  'l2_leaf_reg': trial.suggest_loguniform('l2_leaf_reg', 1e-5, 100),\n",
      "[I 2023-06-21 02:21:57,612] Trial 78 finished with value: 12148185166.118494 and parameters: {'iterations': 3482, 'learning_rate': 0.0313500995609022, 'depth': 8, 'l2_leaf_reg': 0.002157232597822593}. Best is trial 71 with value: 11898264128.231482.\n"
     ]
    },
    {
     "name": "stdout",
     "output_type": "stream",
     "text": [
      "mse : 12148185166.118494\n",
      "rmse : 110218.80586414685\n",
      "r2 : 0.898040899099575\n"
     ]
    },
    {
     "name": "stderr",
     "output_type": "stream",
     "text": [
      "C:\\Users\\dohee\\AppData\\Local\\Temp\\ipykernel_21152\\3506005532.py:10: FutureWarning: suggest_loguniform has been deprecated in v3.0.0. This feature will be removed in v6.0.0. See https://github.com/optuna/optuna/releases/tag/v3.0.0. Use suggest_float(..., log=True) instead.\n",
      "  'l2_leaf_reg': trial.suggest_loguniform('l2_leaf_reg', 1e-5, 100),\n",
      "[I 2023-06-21 02:22:10,799] Trial 79 finished with value: 12145637915.797522 and parameters: {'iterations': 3653, 'learning_rate': 0.021541623068137068, 'depth': 9, 'l2_leaf_reg': 0.00012167968765469393}. Best is trial 71 with value: 11898264128.231482.\n"
     ]
    },
    {
     "name": "stdout",
     "output_type": "stream",
     "text": [
      "mse : 12145637915.797522\n",
      "rmse : 110207.24983320072\n",
      "r2 : 0.8980622780421037\n"
     ]
    },
    {
     "name": "stderr",
     "output_type": "stream",
     "text": [
      "C:\\Users\\dohee\\AppData\\Local\\Temp\\ipykernel_21152\\3506005532.py:10: FutureWarning: suggest_loguniform has been deprecated in v3.0.0. This feature will be removed in v6.0.0. See https://github.com/optuna/optuna/releases/tag/v3.0.0. Use suggest_float(..., log=True) instead.\n",
      "  'l2_leaf_reg': trial.suggest_loguniform('l2_leaf_reg', 1e-5, 100),\n",
      "[I 2023-06-21 02:22:13,787] Trial 80 finished with value: 12179705981.561966 and parameters: {'iterations': 3996, 'learning_rate': 0.029051256186447813, 'depth': 7, 'l2_leaf_reg': 0.000479927737643395}. Best is trial 71 with value: 11898264128.231482.\n"
     ]
    },
    {
     "name": "stdout",
     "output_type": "stream",
     "text": [
      "mse : 12179705981.561966\n",
      "rmse : 110361.70523130732\n",
      "r2 : 0.8977763464969996\n"
     ]
    },
    {
     "name": "stderr",
     "output_type": "stream",
     "text": [
      "C:\\Users\\dohee\\AppData\\Local\\Temp\\ipykernel_21152\\3506005532.py:10: FutureWarning: suggest_loguniform has been deprecated in v3.0.0. This feature will be removed in v6.0.0. See https://github.com/optuna/optuna/releases/tag/v3.0.0. Use suggest_float(..., log=True) instead.\n",
      "  'l2_leaf_reg': trial.suggest_loguniform('l2_leaf_reg', 1e-5, 100),\n",
      "[I 2023-06-21 02:22:24,569] Trial 81 finished with value: 12117073347.481699 and parameters: {'iterations': 3836, 'learning_rate': 0.02610443346005502, 'depth': 9, 'l2_leaf_reg': 0.0019659274770114617}. Best is trial 71 with value: 11898264128.231482.\n"
     ]
    },
    {
     "name": "stdout",
     "output_type": "stream",
     "text": [
      "mse : 12117073347.481699\n",
      "rmse : 110077.57876825643\n",
      "r2 : 0.8983020190127313\n"
     ]
    },
    {
     "name": "stderr",
     "output_type": "stream",
     "text": [
      "C:\\Users\\dohee\\AppData\\Local\\Temp\\ipykernel_21152\\3506005532.py:10: FutureWarning: suggest_loguniform has been deprecated in v3.0.0. This feature will be removed in v6.0.0. See https://github.com/optuna/optuna/releases/tag/v3.0.0. Use suggest_float(..., log=True) instead.\n",
      "  'l2_leaf_reg': trial.suggest_loguniform('l2_leaf_reg', 1e-5, 100),\n",
      "[I 2023-06-21 02:22:35,845] Trial 82 finished with value: 12038254002.305204 and parameters: {'iterations': 3826, 'learning_rate': 0.027512002229989542, 'depth': 9, 'l2_leaf_reg': 0.004271422442403971}. Best is trial 71 with value: 11898264128.231482.\n"
     ]
    },
    {
     "name": "stdout",
     "output_type": "stream",
     "text": [
      "mse : 12038254002.305204\n",
      "rmse : 109718.97740275018\n",
      "r2 : 0.8989635457723143\n"
     ]
    },
    {
     "name": "stderr",
     "output_type": "stream",
     "text": [
      "C:\\Users\\dohee\\AppData\\Local\\Temp\\ipykernel_21152\\3506005532.py:10: FutureWarning: suggest_loguniform has been deprecated in v3.0.0. This feature will be removed in v6.0.0. See https://github.com/optuna/optuna/releases/tag/v3.0.0. Use suggest_float(..., log=True) instead.\n",
      "  'l2_leaf_reg': trial.suggest_loguniform('l2_leaf_reg', 1e-5, 100),\n",
      "[I 2023-06-21 02:22:47,199] Trial 83 finished with value: 12086727056.462841 and parameters: {'iterations': 3547, 'learning_rate': 0.02373054412012684, 'depth': 9, 'l2_leaf_reg': 0.0010880620520950022}. Best is trial 71 with value: 11898264128.231482.\n"
     ]
    },
    {
     "name": "stdout",
     "output_type": "stream",
     "text": [
      "mse : 12086727056.462841\n",
      "rmse : 109939.65188439902\n",
      "r2 : 0.8985567138914837\n"
     ]
    },
    {
     "name": "stderr",
     "output_type": "stream",
     "text": [
      "C:\\Users\\dohee\\AppData\\Local\\Temp\\ipykernel_21152\\3506005532.py:10: FutureWarning: suggest_loguniform has been deprecated in v3.0.0. This feature will be removed in v6.0.0. See https://github.com/optuna/optuna/releases/tag/v3.0.0. Use suggest_float(..., log=True) instead.\n",
      "  'l2_leaf_reg': trial.suggest_loguniform('l2_leaf_reg', 1e-5, 100),\n",
      "[I 2023-06-21 02:22:55,256] Trial 84 finished with value: 12008624449.446676 and parameters: {'iterations': 3688, 'learning_rate': 0.018670284264407838, 'depth': 8, 'l2_leaf_reg': 0.00031449892959821397}. Best is trial 71 with value: 11898264128.231482.\n"
     ]
    },
    {
     "name": "stdout",
     "output_type": "stream",
     "text": [
      "mse : 12008624449.446676\n",
      "rmse : 109583.86947651865\n",
      "r2 : 0.8992122251041015\n"
     ]
    },
    {
     "name": "stderr",
     "output_type": "stream",
     "text": [
      "C:\\Users\\dohee\\AppData\\Local\\Temp\\ipykernel_21152\\3506005532.py:10: FutureWarning: suggest_loguniform has been deprecated in v3.0.0. This feature will be removed in v6.0.0. See https://github.com/optuna/optuna/releases/tag/v3.0.0. Use suggest_float(..., log=True) instead.\n",
      "  'l2_leaf_reg': trial.suggest_loguniform('l2_leaf_reg', 1e-5, 100),\n",
      "[I 2023-06-21 02:23:19,865] Trial 85 finished with value: 12173329311.95668 and parameters: {'iterations': 3350, 'learning_rate': 0.016587680624569206, 'depth': 10, 'l2_leaf_reg': 0.0007993916475029393}. Best is trial 71 with value: 11898264128.231482.\n"
     ]
    },
    {
     "name": "stdout",
     "output_type": "stream",
     "text": [
      "mse : 12173329311.95668\n",
      "rmse : 110332.81158366572\n",
      "r2 : 0.8978298655610246\n"
     ]
    },
    {
     "name": "stderr",
     "output_type": "stream",
     "text": [
      "C:\\Users\\dohee\\AppData\\Local\\Temp\\ipykernel_21152\\3506005532.py:10: FutureWarning: suggest_loguniform has been deprecated in v3.0.0. This feature will be removed in v6.0.0. See https://github.com/optuna/optuna/releases/tag/v3.0.0. Use suggest_float(..., log=True) instead.\n",
      "  'l2_leaf_reg': trial.suggest_loguniform('l2_leaf_reg', 1e-5, 100),\n",
      "[I 2023-06-21 02:23:28,653] Trial 86 finished with value: 12047645197.043137 and parameters: {'iterations': 3887, 'learning_rate': 0.03285853784403073, 'depth': 9, 'l2_leaf_reg': 0.0030401934129431945}. Best is trial 71 with value: 11898264128.231482.\n"
     ]
    },
    {
     "name": "stdout",
     "output_type": "stream",
     "text": [
      "mse : 12047645197.043137\n",
      "rmse : 109761.76564288285\n",
      "r2 : 0.8988847259520064\n"
     ]
    },
    {
     "name": "stderr",
     "output_type": "stream",
     "text": [
      "C:\\Users\\dohee\\AppData\\Local\\Temp\\ipykernel_21152\\3506005532.py:10: FutureWarning: suggest_loguniform has been deprecated in v3.0.0. This feature will be removed in v6.0.0. See https://github.com/optuna/optuna/releases/tag/v3.0.0. Use suggest_float(..., log=True) instead.\n",
      "  'l2_leaf_reg': trial.suggest_loguniform('l2_leaf_reg', 1e-5, 100),\n",
      "[I 2023-06-21 02:23:34,546] Trial 87 finished with value: 12135412448.150112 and parameters: {'iterations': 3437, 'learning_rate': 0.02642064482826264, 'depth': 8, 'l2_leaf_reg': 0.00163098488860721}. Best is trial 71 with value: 11898264128.231482.\n"
     ]
    },
    {
     "name": "stdout",
     "output_type": "stream",
     "text": [
      "mse : 12135412448.150112\n",
      "rmse : 110160.84807294338\n",
      "r2 : 0.8981480998725548\n"
     ]
    },
    {
     "name": "stderr",
     "output_type": "stream",
     "text": [
      "C:\\Users\\dohee\\AppData\\Local\\Temp\\ipykernel_21152\\3506005532.py:10: FutureWarning: suggest_loguniform has been deprecated in v3.0.0. This feature will be removed in v6.0.0. See https://github.com/optuna/optuna/releases/tag/v3.0.0. Use suggest_float(..., log=True) instead.\n",
      "  'l2_leaf_reg': trial.suggest_loguniform('l2_leaf_reg', 1e-5, 100),\n",
      "[I 2023-06-21 02:23:41,246] Trial 88 finished with value: 12047865342.322844 and parameters: {'iterations': 3754, 'learning_rate': 0.02110319316309685, 'depth': 8, 'l2_leaf_reg': 0.0004299514377835656}. Best is trial 71 with value: 11898264128.231482.\n"
     ]
    },
    {
     "name": "stdout",
     "output_type": "stream",
     "text": [
      "mse : 12047865342.322844\n",
      "rmse : 109762.76847056493\n",
      "r2 : 0.8988828782838585\n"
     ]
    },
    {
     "name": "stderr",
     "output_type": "stream",
     "text": [
      "C:\\Users\\dohee\\AppData\\Local\\Temp\\ipykernel_21152\\3506005532.py:10: FutureWarning: suggest_loguniform has been deprecated in v3.0.0. This feature will be removed in v6.0.0. See https://github.com/optuna/optuna/releases/tag/v3.0.0. Use suggest_float(..., log=True) instead.\n",
      "  'l2_leaf_reg': trial.suggest_loguniform('l2_leaf_reg', 1e-5, 100),\n",
      "[I 2023-06-21 02:23:56,715] Trial 89 finished with value: 12115568563.576155 and parameters: {'iterations': 3586, 'learning_rate': 0.012567190783409177, 'depth': 9, 'l2_leaf_reg': 0.0001624551185061234}. Best is trial 71 with value: 11898264128.231482.\n"
     ]
    },
    {
     "name": "stdout",
     "output_type": "stream",
     "text": [
      "mse : 12115568563.576155\n",
      "rmse : 110070.74344972943\n",
      "r2 : 0.8983146485875988\n"
     ]
    },
    {
     "name": "stderr",
     "output_type": "stream",
     "text": [
      "C:\\Users\\dohee\\AppData\\Local\\Temp\\ipykernel_21152\\3506005532.py:10: FutureWarning: suggest_loguniform has been deprecated in v3.0.0. This feature will be removed in v6.0.0. See https://github.com/optuna/optuna/releases/tag/v3.0.0. Use suggest_float(..., log=True) instead.\n",
      "  'l2_leaf_reg': trial.suggest_loguniform('l2_leaf_reg', 1e-5, 100),\n",
      "[I 2023-06-21 02:24:03,077] Trial 90 finished with value: 12036805162.908325 and parameters: {'iterations': 3228, 'learning_rate': 0.02339606271966698, 'depth': 8, 'l2_leaf_reg': 0.00022801345599236783}. Best is trial 71 with value: 11898264128.231482.\n"
     ]
    },
    {
     "name": "stdout",
     "output_type": "stream",
     "text": [
      "mse : 12036805162.908325\n",
      "rmse : 109712.3747027122\n",
      "r2 : 0.8989757058077628\n"
     ]
    },
    {
     "name": "stderr",
     "output_type": "stream",
     "text": [
      "C:\\Users\\dohee\\AppData\\Local\\Temp\\ipykernel_21152\\3506005532.py:10: FutureWarning: suggest_loguniform has been deprecated in v3.0.0. This feature will be removed in v6.0.0. See https://github.com/optuna/optuna/releases/tag/v3.0.0. Use suggest_float(..., log=True) instead.\n",
      "  'l2_leaf_reg': trial.suggest_loguniform('l2_leaf_reg', 1e-5, 100),\n",
      "[I 2023-06-21 02:24:06,940] Trial 91 finished with value: 12130299010.416912 and parameters: {'iterations': 3111, 'learning_rate': 0.02921145304317515, 'depth': 7, 'l2_leaf_reg': 3.843397403581983e-05}. Best is trial 71 with value: 11898264128.231482.\n"
     ]
    },
    {
     "name": "stdout",
     "output_type": "stream",
     "text": [
      "mse : 12130299010.416912\n",
      "rmse : 110137.63666620468\n",
      "r2 : 0.898191016695657\n"
     ]
    },
    {
     "name": "stderr",
     "output_type": "stream",
     "text": [
      "C:\\Users\\dohee\\AppData\\Local\\Temp\\ipykernel_21152\\3506005532.py:10: FutureWarning: suggest_loguniform has been deprecated in v3.0.0. This feature will be removed in v6.0.0. See https://github.com/optuna/optuna/releases/tag/v3.0.0. Use suggest_float(..., log=True) instead.\n",
      "  'l2_leaf_reg': trial.suggest_loguniform('l2_leaf_reg', 1e-5, 100),\n",
      "[I 2023-06-21 02:24:13,470] Trial 92 finished with value: 12085530249.457876 and parameters: {'iterations': 3893, 'learning_rate': 0.015136819914034334, 'depth': 7, 'l2_leaf_reg': 6.259039971817965e-05}. Best is trial 71 with value: 11898264128.231482.\n"
     ]
    },
    {
     "name": "stdout",
     "output_type": "stream",
     "text": [
      "mse : 12085530249.457876\n",
      "rmse : 109934.20873166768\n",
      "r2 : 0.8985667586318715\n"
     ]
    },
    {
     "name": "stderr",
     "output_type": "stream",
     "text": [
      "C:\\Users\\dohee\\AppData\\Local\\Temp\\ipykernel_21152\\3506005532.py:10: FutureWarning: suggest_loguniform has been deprecated in v3.0.0. This feature will be removed in v6.0.0. See https://github.com/optuna/optuna/releases/tag/v3.0.0. Use suggest_float(..., log=True) instead.\n",
      "  'l2_leaf_reg': trial.suggest_loguniform('l2_leaf_reg', 1e-5, 100),\n",
      "[I 2023-06-21 02:24:16,833] Trial 93 finished with value: 12101178896.868134 and parameters: {'iterations': 3322, 'learning_rate': 0.03468420883618304, 'depth': 7, 'l2_leaf_reg': 0.00010060654505874344}. Best is trial 71 with value: 11898264128.231482.\n"
     ]
    },
    {
     "name": "stdout",
     "output_type": "stream",
     "text": [
      "mse : 12101178896.868134\n",
      "rmse : 110005.35849161228\n",
      "r2 : 0.8984354203292\n"
     ]
    },
    {
     "name": "stderr",
     "output_type": "stream",
     "text": [
      "C:\\Users\\dohee\\AppData\\Local\\Temp\\ipykernel_21152\\3506005532.py:10: FutureWarning: suggest_loguniform has been deprecated in v3.0.0. This feature will be removed in v6.0.0. See https://github.com/optuna/optuna/releases/tag/v3.0.0. Use suggest_float(..., log=True) instead.\n",
      "  'l2_leaf_reg': trial.suggest_loguniform('l2_leaf_reg', 1e-5, 100),\n",
      "[I 2023-06-21 02:24:22,653] Trial 94 finished with value: 12078750231.594803 and parameters: {'iterations': 2640, 'learning_rate': 0.018962919408718526, 'depth': 7, 'l2_leaf_reg': 1.324528865551625e-05}. Best is trial 71 with value: 11898264128.231482.\n"
     ]
    },
    {
     "name": "stdout",
     "output_type": "stream",
     "text": [
      "mse : 12078750231.594803\n",
      "rmse : 109903.36769906008\n",
      "r2 : 0.8986236629773318\n"
     ]
    },
    {
     "name": "stderr",
     "output_type": "stream",
     "text": [
      "C:\\Users\\dohee\\AppData\\Local\\Temp\\ipykernel_21152\\3506005532.py:10: FutureWarning: suggest_loguniform has been deprecated in v3.0.0. This feature will be removed in v6.0.0. See https://github.com/optuna/optuna/releases/tag/v3.0.0. Use suggest_float(..., log=True) instead.\n",
      "  'l2_leaf_reg': trial.suggest_loguniform('l2_leaf_reg', 1e-5, 100),\n",
      "[I 2023-06-21 02:24:25,879] Trial 95 finished with value: 12209213271.607344 and parameters: {'iterations': 3620, 'learning_rate': 0.03843832518243739, 'depth': 6, 'l2_leaf_reg': 3.357191032519904e-05}. Best is trial 71 with value: 11898264128.231482.\n"
     ]
    },
    {
     "name": "stdout",
     "output_type": "stream",
     "text": [
      "mse : 12209213271.607344\n",
      "rmse : 110495.30882172032\n",
      "r2 : 0.8975286933107915\n"
     ]
    },
    {
     "name": "stderr",
     "output_type": "stream",
     "text": [
      "C:\\Users\\dohee\\AppData\\Local\\Temp\\ipykernel_21152\\3506005532.py:10: FutureWarning: suggest_loguniform has been deprecated in v3.0.0. This feature will be removed in v6.0.0. See https://github.com/optuna/optuna/releases/tag/v3.0.0. Use suggest_float(..., log=True) instead.\n",
      "  'l2_leaf_reg': trial.suggest_loguniform('l2_leaf_reg', 1e-5, 100),\n",
      "[I 2023-06-21 02:24:31,096] Trial 96 finished with value: 12211980188.94651 and parameters: {'iterations': 3736, 'learning_rate': 0.02736016322701317, 'depth': 8, 'l2_leaf_reg': 4.9293190570332014e-05}. Best is trial 71 with value: 11898264128.231482.\n"
     ]
    },
    {
     "name": "stdout",
     "output_type": "stream",
     "text": [
      "mse : 12211980188.94651\n",
      "rmse : 110507.82863194132\n",
      "r2 : 0.8975054707141394\n"
     ]
    },
    {
     "name": "stderr",
     "output_type": "stream",
     "text": [
      "C:\\Users\\dohee\\AppData\\Local\\Temp\\ipykernel_21152\\3506005532.py:10: FutureWarning: suggest_loguniform has been deprecated in v3.0.0. This feature will be removed in v6.0.0. See https://github.com/optuna/optuna/releases/tag/v3.0.0. Use suggest_float(..., log=True) instead.\n",
      "  'l2_leaf_reg': trial.suggest_loguniform('l2_leaf_reg', 1e-5, 100),\n",
      "[I 2023-06-21 02:24:42,423] Trial 97 finished with value: 12144440643.846132 and parameters: {'iterations': 3510, 'learning_rate': 0.022570365471157393, 'depth': 9, 'l2_leaf_reg': 3.289256967628391e-05}. Best is trial 71 with value: 11898264128.231482.\n"
     ]
    },
    {
     "name": "stdout",
     "output_type": "stream",
     "text": [
      "mse : 12144440643.846132\n",
      "rmse : 110201.81778830208\n",
      "r2 : 0.8980723266847632\n"
     ]
    },
    {
     "name": "stderr",
     "output_type": "stream",
     "text": [
      "C:\\Users\\dohee\\AppData\\Local\\Temp\\ipykernel_21152\\3506005532.py:10: FutureWarning: suggest_loguniform has been deprecated in v3.0.0. This feature will be removed in v6.0.0. See https://github.com/optuna/optuna/releases/tag/v3.0.0. Use suggest_float(..., log=True) instead.\n",
      "  'l2_leaf_reg': trial.suggest_loguniform('l2_leaf_reg', 1e-5, 100),\n",
      "[I 2023-06-21 02:24:48,105] Trial 98 finished with value: 12141873587.24966 and parameters: {'iterations': 3408, 'learning_rate': 0.030756108072516365, 'depth': 8, 'l2_leaf_reg': 1.5556388471962336e-05}. Best is trial 71 with value: 11898264128.231482.\n"
     ]
    },
    {
     "name": "stdout",
     "output_type": "stream",
     "text": [
      "mse : 12141873587.24966\n",
      "rmse : 110190.17010264419\n",
      "r2 : 0.8980938718603559\n"
     ]
    },
    {
     "name": "stderr",
     "output_type": "stream",
     "text": [
      "C:\\Users\\dohee\\AppData\\Local\\Temp\\ipykernel_21152\\3506005532.py:10: FutureWarning: suggest_loguniform has been deprecated in v3.0.0. This feature will be removed in v6.0.0. See https://github.com/optuna/optuna/releases/tag/v3.0.0. Use suggest_float(..., log=True) instead.\n",
      "  'l2_leaf_reg': trial.suggest_loguniform('l2_leaf_reg', 1e-5, 100),\n",
      "[I 2023-06-21 02:25:33,233] Trial 99 finished with value: 12075467671.180283 and parameters: {'iterations': 1953, 'learning_rate': 0.0101951889796691, 'depth': 10, 'l2_leaf_reg': 9.45597357871608e-05}. Best is trial 71 with value: 11898264128.231482.\n"
     ]
    },
    {
     "name": "stdout",
     "output_type": "stream",
     "text": [
      "mse : 12075467671.180283\n",
      "rmse : 109888.43283612831\n",
      "r2 : 0.8986512133401177\n",
      "Best trial: score 11898264128.231482, \n",
      "params {'iterations': 3847, 'learning_rate': 0.026392177367180844, 'depth': 9, 'l2_leaf_reg': 0.001974170660535803}\n"
     ]
    }
   ],
   "source": [
    "import optuna\n",
    "from catboost import CatBoostRegressor\n",
    "\n",
    "def objectiveCatB(trial):\n",
    "    # Define the search space for each parameter\n",
    "    params = {\n",
    "        'iterations': trial.suggest_int('iterations', 100, 4000),\n",
    "        'learning_rate': trial.suggest_float('learning_rate', 0.01, 0.1),\n",
    "        'depth': trial.suggest_int('depth', 4, 10),\n",
    "        'l2_leaf_reg': trial.suggest_loguniform('l2_leaf_reg', 1e-5, 100),\n",
    "        'random_seed': 42,\n",
    "        'loss_function': 'RMSE',\n",
    "        'eval_metric': 'RMSE',\n",
    "        'verbose': False\n",
    "    }\n",
    "    # 손실함수와 평가지표를 RMSE로 하는 이유\n",
    "    # (1) 예측 오차의 크기를 실제 값의 단위로 해석하고자 할 때 유용\n",
    "    # (2) RMSE는 MSE와 동일한 오차 척도를 가지지만, 제곱근의 적용으로 오차의 크기를 실제 값의 단위로 변환\n",
    "    #     이로 인해 RMSE는 예측 오차의 크기에 덜 민감하게 반응함\n",
    "    \n",
    "    # 모델 학습\n",
    "    cat_features = ['quality'] # 범주형 데이터 'quality' : CatBoost의 cat_features 매개변수에 전달 필요\n",
    "    catboost = CatBoostRegressor(**params)\n",
    "    catboost.fit(x_train, y_train, eval_set=(x_test, y_test), early_stopping_rounds=50, verbose=False)\n",
    "    \n",
    "    # 예측\n",
    "    y_pred = catboost.predict(x_test)\n",
    "    \n",
    "    # 모델 평가    \n",
    "    mse = mean_squared_error(y_test, y_pred)\n",
    "    rmse = np.sqrt(mse)\n",
    "    r2 = r2_score(y_test, y_pred)\n",
    "\n",
    "    print(f\"mse : {mse}\")\n",
    "    print(f\"rmse : {rmse}\")\n",
    "    print(f\"r2 : {r2}\")\n",
    "    \n",
    "    return mse\n",
    "\n",
    "# optimization study 진행\n",
    "# direction: score 값을 최대 or 최소로 하는 방향으로 지정\n",
    "study2 = optuna.create_study(direction='minimize')\n",
    "\n",
    "# n_trials: 시도 횟수 (미입력시 key interrupt가 있을 때까지 무한 반복)\n",
    "study2.optimize(objectiveCatB, n_trials=100)\n",
    "\n",
    "# 모든 트라이얼이 완료되었는지 확인\n",
    "if study2.best_trial is None:\n",
    "    print(\"No trials completed.\")\n",
    "else:\n",
    "    # 최적의 트라이얼 출력\n",
    "    print('Best trial: score {}, \\nparams {}'.format(study2.best_trial.value, study2.best_trial.params))"
   ]
  },
  {
   "cell_type": "code",
   "execution_count": 14,
   "metadata": {},
   "outputs": [
    {
     "name": "stdout",
     "output_type": "stream",
     "text": [
      "mse : 12708407674.759\n",
      "rmse : 112731.574\n",
      "r2 : 0.893\n"
     ]
    }
   ],
   "source": [
    "# Best trial의 파라미터\n",
    "best_params = study2.best_trial.params\n",
    "\n",
    "# 최적의 모델 학습\n",
    "best_catboost = CatBoostRegressor(iterations=best_params['iterations'],\n",
    "                                  learning_rate=best_params['learning_rate'],\n",
    "                                  depth=best_params['depth'],\n",
    "                                  l2_leaf_reg=best_params['l2_leaf_reg'],\n",
    "                                  random_seed=42,\n",
    "                                  loss_function='RMSE',\n",
    "                                  eval_metric='RMSE',\n",
    "                                  verbose=False)\n",
    "# 범주형 데이터 'quality' : CatBoost의 cat_features 매개변수에 전달 필요\n",
    "cat_features = ['quality']\n",
    "best_catboost.fit(x_train, y_train)\n",
    "\n",
    "# 저장 경로 설정\n",
    "import pickle\n",
    "import os\n",
    "save_path = 'CatBoostRegressor_best_model.pkl'\n",
    "\n",
    "# 모델을 'CatBoostRegressor_best_model.pkl' 파일로 저장\n",
    "with open(save_path, 'wb') as f:\n",
    "    pickle.dump(best_catboost, f)\n",
    "\n",
    "# 저장된 모델 로드\n",
    "with open('CatBoostRegressor_best_model.pkl', 'rb') as f:\n",
    "    loaded_model = pickle.load(f)\n",
    "\n",
    "# 로드된 모델로 예측\n",
    "y_pred = loaded_model.predict(x_test)\n",
    "\n",
    "# 모델 평가\n",
    "from evaluate_score import evaluate_score\n",
    "evaluate_score(y_test, y_pred)"
   ]
  },
  {
   "attachments": {},
   "cell_type": "markdown",
   "metadata": {},
   "source": [
    "## RandomForestRegressor 를 이용한 가격 예측"
   ]
  },
  {
   "cell_type": "code",
   "execution_count": 15,
   "metadata": {},
   "outputs": [
    {
     "name": "stderr",
     "output_type": "stream",
     "text": [
      "[I 2023-06-21 02:27:35,831] A new study created in memory with name: no-name-673c16e2-f060-4684-810a-b8ffed9540b9\n",
      "[I 2023-06-21 02:27:50,068] Trial 0 finished with value: 43716286396.29059 and parameters: {'n_estimators': 3268, 'max_depth': 2, 'min_samples_split': 6, 'min_samples_leaf': 5, 'max_features': 'sqrt'}. Best is trial 0 with value: 43716286396.29059.\n"
     ]
    },
    {
     "name": "stdout",
     "output_type": "stream",
     "text": [
      "mse : 43716286396.29059\n",
      "rmse : 209084.40017440467\n",
      "r2 : 0.6330914293187853\n"
     ]
    },
    {
     "name": "stderr",
     "output_type": "stream",
     "text": [
      "[I 2023-06-21 02:28:21,084] Trial 1 finished with value: 13689536898.640268 and parameters: {'n_estimators': 3839, 'max_depth': 11, 'min_samples_split': 4, 'min_samples_leaf': 6, 'max_features': 'sqrt'}. Best is trial 1 with value: 13689536898.640268.\n"
     ]
    },
    {
     "name": "stdout",
     "output_type": "stream",
     "text": [
      "mse : 13689536898.640268\n",
      "rmse : 117002.29441613643\n",
      "r2 : 0.8851044123181963\n"
     ]
    },
    {
     "name": "stderr",
     "output_type": "stream",
     "text": [
      "[I 2023-06-21 02:28:34,168] Trial 2 finished with value: 14318528224.480425 and parameters: {'n_estimators': 1946, 'max_depth': 11, 'min_samples_split': 6, 'min_samples_leaf': 10, 'max_features': 'sqrt'}. Best is trial 1 with value: 13689536898.640268.\n"
     ]
    },
    {
     "name": "stdout",
     "output_type": "stream",
     "text": [
      "mse : 14318528224.480425\n",
      "rmse : 119660.05275145262\n",
      "r2 : 0.8798253200768554\n"
     ]
    },
    {
     "name": "stderr",
     "output_type": "stream",
     "text": [
      "[I 2023-06-21 02:29:00,309] Trial 3 finished with value: 13664718259.424746 and parameters: {'n_estimators': 2954, 'max_depth': 17, 'min_samples_split': 3, 'min_samples_leaf': 7, 'max_features': 'sqrt'}. Best is trial 3 with value: 13664718259.424746.\n"
     ]
    },
    {
     "name": "stdout",
     "output_type": "stream",
     "text": [
      "mse : 13664718259.424746\n",
      "rmse : 116896.1858206877\n",
      "r2 : 0.8853127138962003\n"
     ]
    },
    {
     "name": "stderr",
     "output_type": "stream",
     "text": [
      "[I 2023-06-21 02:30:21,021] Trial 4 finished with value: 13123711544.539755 and parameters: {'n_estimators': 2607, 'max_depth': 15, 'min_samples_split': 4, 'min_samples_leaf': 3, 'max_features': 1.0}. Best is trial 4 with value: 13123711544.539755.\n"
     ]
    },
    {
     "name": "stdout",
     "output_type": "stream",
     "text": [
      "mse : 13123711544.539755\n",
      "rmse : 114558.76895523867\n",
      "r2 : 0.8898533557679269\n"
     ]
    },
    {
     "name": "stderr",
     "output_type": "stream",
     "text": [
      "[I 2023-06-21 02:30:25,396] Trial 5 finished with value: 17658849493.1839 and parameters: {'n_estimators': 927, 'max_depth': 6, 'min_samples_split': 8, 'min_samples_leaf': 2, 'max_features': 'sqrt'}. Best is trial 4 with value: 13123711544.539755.\n"
     ]
    },
    {
     "name": "stdout",
     "output_type": "stream",
     "text": [
      "mse : 17658849493.1839\n",
      "rmse : 132886.60388912007\n",
      "r2 : 0.8517901733764703\n"
     ]
    },
    {
     "name": "stderr",
     "output_type": "stream",
     "text": [
      "[I 2023-06-21 02:30:29,860] Trial 6 finished with value: 23896134967.92573 and parameters: {'n_estimators': 478, 'max_depth': 4, 'min_samples_split': 6, 'min_samples_leaf': 1, 'max_features': 1.0}. Best is trial 4 with value: 13123711544.539755.\n"
     ]
    },
    {
     "name": "stdout",
     "output_type": "stream",
     "text": [
      "mse : 23896134967.92573\n",
      "rmse : 154583.74742490146\n",
      "r2 : 0.7994409532775186\n"
     ]
    },
    {
     "name": "stderr",
     "output_type": "stream",
     "text": [
      "[I 2023-06-21 02:30:39,164] Trial 7 finished with value: 13837082658.86375 and parameters: {'n_estimators': 685, 'max_depth': 9, 'min_samples_split': 3, 'min_samples_leaf': 2, 'max_features': 'log2'}. Best is trial 4 with value: 13123711544.539755.\n"
     ]
    },
    {
     "name": "stdout",
     "output_type": "stream",
     "text": [
      "mse : 13837082658.86375\n",
      "rmse : 117631.1296335445\n",
      "r2 : 0.8838660682488275\n"
     ]
    },
    {
     "name": "stderr",
     "output_type": "stream",
     "text": [
      "[I 2023-06-21 02:31:10,680] Trial 8 finished with value: 13519553628.776329 and parameters: {'n_estimators': 850, 'max_depth': 10, 'min_samples_split': 3, 'min_samples_leaf': 1, 'max_features': 1.0}. Best is trial 4 with value: 13123711544.539755.\n"
     ]
    },
    {
     "name": "stdout",
     "output_type": "stream",
     "text": [
      "mse : 13519553628.776329\n",
      "rmse : 116273.61535953172\n",
      "r2 : 0.8865310732660208\n"
     ]
    },
    {
     "name": "stderr",
     "output_type": "stream",
     "text": [
      "[I 2023-06-21 02:31:23,409] Trial 9 finished with value: 13754807554.948906 and parameters: {'n_estimators': 440, 'max_depth': 15, 'min_samples_split': 4, 'min_samples_leaf': 1, 'max_features': 1.0}. Best is trial 4 with value: 13123711544.539755.\n"
     ]
    },
    {
     "name": "stdout",
     "output_type": "stream",
     "text": [
      "mse : 13754807554.948906\n",
      "rmse : 117280.89168721777\n",
      "r2 : 0.8845565990159288\n"
     ]
    },
    {
     "name": "stderr",
     "output_type": "stream",
     "text": [
      "[I 2023-06-21 02:31:50,177] Trial 10 finished with value: 13140453703.3551 and parameters: {'n_estimators': 2023, 'max_depth': 20, 'min_samples_split': 9, 'min_samples_leaf': 4, 'max_features': 'log2'}. Best is trial 4 with value: 13123711544.539755.\n"
     ]
    },
    {
     "name": "stdout",
     "output_type": "stream",
     "text": [
      "mse : 13140453703.3551\n",
      "rmse : 114631.81802342272\n",
      "r2 : 0.8897128396795893\n"
     ]
    },
    {
     "name": "stderr",
     "output_type": "stream",
     "text": [
      "[I 2023-06-21 02:32:05,651] Trial 11 finished with value: 13154146946.172544 and parameters: {'n_estimators': 1990, 'max_depth': 20, 'min_samples_split': 10, 'min_samples_leaf': 4, 'max_features': 'log2'}. Best is trial 4 with value: 13123711544.539755.\n"
     ]
    },
    {
     "name": "stdout",
     "output_type": "stream",
     "text": [
      "mse : 13154146946.172544\n",
      "rmse : 114691.52953105362\n",
      "r2 : 0.8895979129883191\n"
     ]
    },
    {
     "name": "stderr",
     "output_type": "stream",
     "text": [
      "[I 2023-06-21 02:32:28,211] Trial 12 finished with value: 13158361702.085707 and parameters: {'n_estimators': 2610, 'max_depth': 16, 'min_samples_split': 10, 'min_samples_leaf': 4, 'max_features': 'log2'}. Best is trial 4 with value: 13123711544.539755.\n"
     ]
    },
    {
     "name": "stdout",
     "output_type": "stream",
     "text": [
      "mse : 13158361702.085707\n",
      "rmse : 114709.90237152897\n",
      "r2 : 0.8895625387560743\n"
     ]
    },
    {
     "name": "stderr",
     "output_type": "stream",
     "text": [
      "[I 2023-06-21 02:32:46,048] Trial 13 finished with value: 12973744242.674376 and parameters: {'n_estimators': 1503, 'max_depth': 19, 'min_samples_split': 8, 'min_samples_leaf': 3, 'max_features': 'log2'}. Best is trial 13 with value: 12973744242.674376.\n"
     ]
    },
    {
     "name": "stdout",
     "output_type": "stream",
     "text": [
      "mse : 12973744242.674376\n",
      "rmse : 113902.3452026971\n",
      "r2 : 0.8911120237132676\n"
     ]
    },
    {
     "name": "stderr",
     "output_type": "stream",
     "text": [
      "[I 2023-06-21 02:33:33,497] Trial 14 finished with value: 13112089603.188616 and parameters: {'n_estimators': 1524, 'max_depth': 14, 'min_samples_split': 8, 'min_samples_leaf': 3, 'max_features': 1.0}. Best is trial 13 with value: 12973744242.674376.\n"
     ]
    },
    {
     "name": "stdout",
     "output_type": "stream",
     "text": [
      "mse : 13112089603.188616\n",
      "rmse : 114508.03291991622\n",
      "r2 : 0.8899508981312244\n"
     ]
    },
    {
     "name": "stderr",
     "output_type": "stream",
     "text": [
      "[I 2023-06-21 02:34:17,564] Trial 15 finished with value: 12994307001.743332 and parameters: {'n_estimators': 1511, 'max_depth': 18, 'min_samples_split': 8, 'min_samples_leaf': 7, 'max_features': 1.0}. Best is trial 13 with value: 12973744242.674376.\n"
     ]
    },
    {
     "name": "stdout",
     "output_type": "stream",
     "text": [
      "mse : 12994307001.743332\n",
      "rmse : 113992.57432720489\n",
      "r2 : 0.8909394415211102\n"
     ]
    },
    {
     "name": "stderr",
     "output_type": "stream",
     "text": [
      "[I 2023-06-21 02:34:28,202] Trial 16 finished with value: 13851535360.493496 and parameters: {'n_estimators': 1405, 'max_depth': 18, 'min_samples_split': 8, 'min_samples_leaf': 8, 'max_features': 'log2'}. Best is trial 13 with value: 12973744242.674376.\n"
     ]
    },
    {
     "name": "stdout",
     "output_type": "stream",
     "text": [
      "mse : 13851535360.493496\n",
      "rmse : 117692.54590029691\n",
      "r2 : 0.8837447674583307\n"
     ]
    },
    {
     "name": "stderr",
     "output_type": "stream",
     "text": [
      "[I 2023-06-21 02:34:38,612] Trial 17 finished with value: 13982898329.56938 and parameters: {'n_estimators': 1267, 'max_depth': 18, 'min_samples_split': 7, 'min_samples_leaf': 9, 'max_features': 'log2'}. Best is trial 13 with value: 12973744242.674376.\n"
     ]
    },
    {
     "name": "stdout",
     "output_type": "stream",
     "text": [
      "mse : 13982898329.56938\n",
      "rmse : 118249.30583123682\n",
      "r2 : 0.8826422447328834\n"
     ]
    },
    {
     "name": "stderr",
     "output_type": "stream",
     "text": [
      "[I 2023-06-21 02:35:15,325] Trial 18 finished with value: 12986506405.976883 and parameters: {'n_estimators': 1580, 'max_depth': 20, 'min_samples_split': 7, 'min_samples_leaf': 6, 'max_features': 1.0}. Best is trial 13 with value: 12973744242.674376.\n"
     ]
    },
    {
     "name": "stdout",
     "output_type": "stream",
     "text": [
      "mse : 12986506405.976883\n",
      "rmse : 113958.35382268771\n",
      "r2 : 0.8910049115250621\n"
     ]
    },
    {
     "name": "stderr",
     "output_type": "stream",
     "text": [
      "[I 2023-06-21 02:36:13,854] Trial 19 finished with value: 12981829023.472694 and parameters: {'n_estimators': 2507, 'max_depth': 13, 'min_samples_split': 7, 'min_samples_leaf': 6, 'max_features': 1.0}. Best is trial 13 with value: 12973744242.674376.\n"
     ]
    },
    {
     "name": "stdout",
     "output_type": "stream",
     "text": [
      "mse : 12981829023.472694\n",
      "rmse : 113937.8296417511\n",
      "r2 : 0.8910441685587814\n"
     ]
    },
    {
     "name": "stderr",
     "output_type": "stream",
     "text": [
      "[I 2023-06-21 02:36:37,021] Trial 20 finished with value: 13378500136.243723 and parameters: {'n_estimators': 2490, 'max_depth': 13, 'min_samples_split': 5, 'min_samples_leaf': 5, 'max_features': 'log2'}. Best is trial 13 with value: 12973744242.674376.\n"
     ]
    },
    {
     "name": "stdout",
     "output_type": "stream",
     "text": [
      "mse : 13378500136.243723\n",
      "rmse : 115665.46648089793\n",
      "r2 : 0.8877149280625051\n"
     ]
    },
    {
     "name": "stderr",
     "output_type": "stream",
     "text": [
      "[I 2023-06-21 02:37:27,095] Trial 21 finished with value: 12984198848.638884 and parameters: {'n_estimators': 2308, 'max_depth': 20, 'min_samples_split': 7, 'min_samples_leaf': 6, 'max_features': 1.0}. Best is trial 13 with value: 12973744242.674376.\n"
     ]
    },
    {
     "name": "stdout",
     "output_type": "stream",
     "text": [
      "mse : 12984198848.638884\n",
      "rmse : 113948.22880869577\n",
      "r2 : 0.8910242787365625\n"
     ]
    },
    {
     "name": "stderr",
     "output_type": "stream",
     "text": [
      "[I 2023-06-21 02:38:09,624] Trial 22 finished with value: 13437448868.263845 and parameters: {'n_estimators': 2415, 'max_depth': 8, 'min_samples_split': 7, 'min_samples_leaf': 7, 'max_features': 1.0}. Best is trial 13 with value: 12973744242.674376.\n"
     ]
    },
    {
     "name": "stdout",
     "output_type": "stream",
     "text": [
      "mse : 13437448868.263845\n",
      "rmse : 115920.01064641016\n",
      "r2 : 0.8872201743496003\n"
     ]
    },
    {
     "name": "stderr",
     "output_type": "stream",
     "text": [
      "[I 2023-06-21 02:39:32,669] Trial 23 finished with value: 12977593497.241566 and parameters: {'n_estimators': 3069, 'max_depth': 13, 'min_samples_split': 9, 'min_samples_leaf': 6, 'max_features': 1.0}. Best is trial 13 with value: 12973744242.674376.\n"
     ]
    },
    {
     "name": "stdout",
     "output_type": "stream",
     "text": [
      "mse : 12977593497.241566\n",
      "rmse : 113919.24111949468\n",
      "r2 : 0.8910797171152498\n"
     ]
    },
    {
     "name": "stderr",
     "output_type": "stream",
     "text": [
      "[I 2023-06-21 02:41:01,532] Trial 24 finished with value: 13033250162.01096 and parameters: {'n_estimators': 3363, 'max_depth': 13, 'min_samples_split': 9, 'min_samples_leaf': 8, 'max_features': 1.0}. Best is trial 13 with value: 12973744242.674376.\n"
     ]
    },
    {
     "name": "stdout",
     "output_type": "stream",
     "text": [
      "mse : 13033250162.01096\n",
      "rmse : 114163.260999373\n",
      "r2 : 0.8906125935555241\n"
     ]
    },
    {
     "name": "stderr",
     "output_type": "stream",
     "text": [
      "[I 2023-06-21 02:42:20,799] Trial 25 finished with value: 13003574983.481066 and parameters: {'n_estimators': 2920, 'max_depth': 12, 'min_samples_split': 9, 'min_samples_leaf': 5, 'max_features': 1.0}. Best is trial 13 with value: 12973744242.674376.\n"
     ]
    },
    {
     "name": "stdout",
     "output_type": "stream",
     "text": [
      "mse : 13003574983.481066\n",
      "rmse : 114033.21877190465\n",
      "r2 : 0.890861655821253\n"
     ]
    },
    {
     "name": "stderr",
     "output_type": "stream",
     "text": [
      "[I 2023-06-21 02:42:45,939] Trial 26 finished with value: 16133215040.343306 and parameters: {'n_estimators': 3377, 'max_depth': 7, 'min_samples_split': 9, 'min_samples_leaf': 8, 'max_features': 'log2'}. Best is trial 13 with value: 12973744242.674376.\n"
     ]
    },
    {
     "name": "stdout",
     "output_type": "stream",
     "text": [
      "mse : 16133215040.343306\n",
      "rmse : 127016.59356298021\n",
      "r2 : 0.8645947458280145\n"
     ]
    },
    {
     "name": "stderr",
     "output_type": "stream",
     "text": [
      "[I 2023-06-21 02:44:23,349] Trial 27 finished with value: 13094395673.800852 and parameters: {'n_estimators': 3737, 'max_depth': 13, 'min_samples_split': 10, 'min_samples_leaf': 3, 'max_features': 1.0}. Best is trial 13 with value: 12973744242.674376.\n"
     ]
    },
    {
     "name": "stdout",
     "output_type": "stream",
     "text": [
      "mse : 13094395673.800852\n",
      "rmse : 114430.74619087674\n",
      "r2 : 0.8900994023816209\n"
     ]
    },
    {
     "name": "stderr",
     "output_type": "stream",
     "text": [
      "[I 2023-06-21 02:44:26,606] Trial 28 finished with value: 13026673490.884531 and parameters: {'n_estimators': 155, 'max_depth': 16, 'min_samples_split': 8, 'min_samples_leaf': 6, 'max_features': 1.0}. Best is trial 13 with value: 12973744242.674376.\n"
     ]
    },
    {
     "name": "stdout",
     "output_type": "stream",
     "text": [
      "mse : 13026673490.884531\n",
      "rmse : 114134.45356632909\n",
      "r2 : 0.8906677912221549\n"
     ]
    },
    {
     "name": "stderr",
     "output_type": "stream",
     "text": [
      "[I 2023-06-21 02:44:46,561] Trial 29 finished with value: 13753244519.464682 and parameters: {'n_estimators': 2993, 'max_depth': 10, 'min_samples_split': 5, 'min_samples_leaf': 5, 'max_features': 'log2'}. Best is trial 13 with value: 12973744242.674376.\n"
     ]
    },
    {
     "name": "stdout",
     "output_type": "stream",
     "text": [
      "mse : 13753244519.464682\n",
      "rmse : 117274.22785703892\n",
      "r2 : 0.8845697174933365\n"
     ]
    },
    {
     "name": "stderr",
     "output_type": "stream",
     "text": [
      "[I 2023-06-21 02:44:53,627] Trial 30 finished with value: 24316663591.96434 and parameters: {'n_estimators': 1768, 'max_depth': 4, 'min_samples_split': 6, 'min_samples_leaf': 4, 'max_features': 'sqrt'}. Best is trial 13 with value: 12973744242.674376.\n"
     ]
    },
    {
     "name": "stdout",
     "output_type": "stream",
     "text": [
      "mse : 24316663591.96434\n",
      "rmse : 155938.01201748193\n",
      "r2 : 0.7959114779012745\n"
     ]
    },
    {
     "name": "stderr",
     "output_type": "stream",
     "text": [
      "[I 2023-06-21 02:45:51,080] Trial 31 finished with value: 12984344484.716364 and parameters: {'n_estimators': 2259, 'max_depth': 19, 'min_samples_split': 7, 'min_samples_leaf': 6, 'max_features': 1.0}. Best is trial 13 with value: 12973744242.674376.\n"
     ]
    },
    {
     "name": "stdout",
     "output_type": "stream",
     "text": [
      "mse : 12984344484.716364\n",
      "rmse : 113948.86785184118\n",
      "r2 : 0.8910230564203634\n"
     ]
    },
    {
     "name": "stderr",
     "output_type": "stream",
     "text": [
      "[I 2023-06-21 02:46:39,521] Trial 32 finished with value: 12994566694.669498 and parameters: {'n_estimators': 2218, 'max_depth': 17, 'min_samples_split': 7, 'min_samples_leaf': 7, 'max_features': 1.0}. Best is trial 13 with value: 12973744242.674376.\n"
     ]
    },
    {
     "name": "stdout",
     "output_type": "stream",
     "text": [
      "mse : 12994566694.669498\n",
      "rmse : 113993.71339977262\n",
      "r2 : 0.8909372619315747\n"
     ]
    },
    {
     "name": "stderr",
     "output_type": "stream",
     "text": [
      "[I 2023-06-21 02:47:47,802] Trial 33 finished with value: 12983895560.138292 and parameters: {'n_estimators': 2833, 'max_depth': 15, 'min_samples_split': 9, 'min_samples_leaf': 6, 'max_features': 1.0}. Best is trial 13 with value: 12973744242.674376.\n"
     ]
    },
    {
     "name": "stdout",
     "output_type": "stream",
     "text": [
      "mse : 12983895560.138292\n",
      "rmse : 113946.89798383409\n",
      "r2 : 0.8910268242215392\n"
     ]
    },
    {
     "name": "stderr",
     "output_type": "stream",
     "text": [
      "[I 2023-06-21 02:48:10,896] Trial 34 finished with value: 13568947132.505291 and parameters: {'n_estimators': 2745, 'max_depth': 12, 'min_samples_split': 9, 'min_samples_leaf': 6, 'max_features': 'sqrt'}. Best is trial 13 with value: 12973744242.674376.\n"
     ]
    },
    {
     "name": "stdout",
     "output_type": "stream",
     "text": [
      "mse : 13568947132.505291\n",
      "rmse : 116485.82374051055\n",
      "r2 : 0.8861165160987022\n"
     ]
    },
    {
     "name": "stderr",
     "output_type": "stream",
     "text": [
      "[I 2023-06-21 02:49:48,221] Trial 35 finished with value: 12988119480.260597 and parameters: {'n_estimators': 3710, 'max_depth': 15, 'min_samples_split': 10, 'min_samples_leaf': 7, 'max_features': 1.0}. Best is trial 13 with value: 12973744242.674376.\n"
     ]
    },
    {
     "name": "stdout",
     "output_type": "stream",
     "text": [
      "mse : 12988119480.260597\n",
      "rmse : 113965.43107565818\n",
      "r2 : 0.8909913730745525\n"
     ]
    },
    {
     "name": "stderr",
     "output_type": "stream",
     "text": [
      "[I 2023-06-21 02:50:28,042] Trial 36 finished with value: 13334764316.197802 and parameters: {'n_estimators': 3167, 'max_depth': 14, 'min_samples_split': 8, 'min_samples_leaf': 5, 'max_features': 'sqrt'}. Best is trial 13 with value: 12973744242.674376.\n"
     ]
    },
    {
     "name": "stdout",
     "output_type": "stream",
     "text": [
      "mse : 13334764316.197802\n",
      "rmse : 115476.25000924563\n",
      "r2 : 0.8880820005781153\n"
     ]
    },
    {
     "name": "stderr",
     "output_type": "stream",
     "text": [
      "[I 2023-06-21 02:51:52,900] Trial 37 finished with value: 13092705132.44099 and parameters: {'n_estimators': 3534, 'max_depth': 11, 'min_samples_split': 9, 'min_samples_leaf': 9, 'max_features': 1.0}. Best is trial 13 with value: 12973744242.674376.\n"
     ]
    },
    {
     "name": "stdout",
     "output_type": "stream",
     "text": [
      "mse : 13092705132.44099\n",
      "rmse : 114423.35920799122\n",
      "r2 : 0.8901135910093648\n"
     ]
    },
    {
     "name": "stderr",
     "output_type": "stream",
     "text": [
      "[I 2023-06-21 02:53:20,757] Trial 38 finished with value: 13220752361.268175 and parameters: {'n_estimators': 3172, 'max_depth': 16, 'min_samples_split': 8, 'min_samples_leaf': 2, 'max_features': 1.0}. Best is trial 13 with value: 12973744242.674376.\n"
     ]
    },
    {
     "name": "stdout",
     "output_type": "stream",
     "text": [
      "mse : 13220752361.268175\n",
      "rmse : 114981.5305223764\n",
      "r2 : 0.8890388971233659\n"
     ]
    },
    {
     "name": "stderr",
     "output_type": "stream",
     "text": [
      "[I 2023-06-21 02:53:44,417] Trial 39 finished with value: 13336875197.07856 and parameters: {'n_estimators': 2825, 'max_depth': 14, 'min_samples_split': 6, 'min_samples_leaf': 5, 'max_features': 'sqrt'}. Best is trial 13 with value: 12973744242.674376.\n"
     ]
    },
    {
     "name": "stdout",
     "output_type": "stream",
     "text": [
      "mse : 13336875197.07856\n",
      "rmse : 115485.38953945023\n",
      "r2 : 0.8880642840621281\n"
     ]
    },
    {
     "name": "stderr",
     "output_type": "stream",
     "text": [
      "[I 2023-06-21 02:54:09,120] Trial 40 finished with value: 13050606742.246128 and parameters: {'n_estimators': 1202, 'max_depth': 11, 'min_samples_split': 2, 'min_samples_leaf': 8, 'max_features': 1.0}. Best is trial 13 with value: 12973744242.674376.\n"
     ]
    },
    {
     "name": "stdout",
     "output_type": "stream",
     "text": [
      "mse : 13050606742.246128\n",
      "rmse : 114239.25219575857\n",
      "r2 : 0.8904669206594261\n"
     ]
    },
    {
     "name": "stderr",
     "output_type": "stream",
     "text": [
      "[I 2023-06-21 02:56:04,727] Trial 41 finished with value: 12979086341.490953 and parameters: {'n_estimators': 3966, 'max_depth': 19, 'min_samples_split': 7, 'min_samples_leaf': 6, 'max_features': 1.0}. Best is trial 13 with value: 12973744242.674376.\n"
     ]
    },
    {
     "name": "stdout",
     "output_type": "stream",
     "text": [
      "mse : 12979086341.490953\n",
      "rmse : 113925.79313522883\n",
      "r2 : 0.8910671877493099\n"
     ]
    },
    {
     "name": "stderr",
     "output_type": "stream",
     "text": [
      "[I 2023-06-21 02:58:25,079] Trial 42 finished with value: 12990553769.942957 and parameters: {'n_estimators': 3952, 'max_depth': 17, 'min_samples_split': 6, 'min_samples_leaf': 7, 'max_features': 1.0}. Best is trial 13 with value: 12973744242.674376.\n"
     ]
    },
    {
     "name": "stdout",
     "output_type": "stream",
     "text": [
      "mse : 12990553769.942957\n",
      "rmse : 113976.11052296423\n",
      "r2 : 0.8909709422049246\n"
     ]
    },
    {
     "name": "stderr",
     "output_type": "stream",
     "text": [
      "[I 2023-06-21 02:59:38,605] Trial 43 finished with value: 12983018599.063532 and parameters: {'n_estimators': 2629, 'max_depth': 19, 'min_samples_split': 5, 'min_samples_leaf': 6, 'max_features': 1.0}. Best is trial 13 with value: 12973744242.674376.\n"
     ]
    },
    {
     "name": "stdout",
     "output_type": "stream",
     "text": [
      "mse : 12983018599.063532\n",
      "rmse : 113943.04980587246\n",
      "r2 : 0.8910341845112849\n"
     ]
    },
    {
     "name": "stderr",
     "output_type": "stream",
     "text": [
      "[I 2023-06-21 03:00:11,932] Trial 44 finished with value: 13013737611.177534 and parameters: {'n_estimators': 1771, 'max_depth': 19, 'min_samples_split': 5, 'min_samples_leaf': 5, 'max_features': 1.0}. Best is trial 13 with value: 12973744242.674376.\n"
     ]
    },
    {
     "name": "stdout",
     "output_type": "stream",
     "text": [
      "mse : 13013737611.177534\n",
      "rmse : 114077.77001316924\n",
      "r2 : 0.8907763614033174\n"
     ]
    },
    {
     "name": "stderr",
     "output_type": "stream",
     "text": [
      "[I 2023-06-21 03:00:18,497] Trial 45 finished with value: 43735036939.232704 and parameters: {'n_estimators': 2616, 'max_depth': 2, 'min_samples_split': 5, 'min_samples_leaf': 4, 'max_features': 'log2'}. Best is trial 13 with value: 12973744242.674376.\n"
     ]
    },
    {
     "name": "stdout",
     "output_type": "stream",
     "text": [
      "mse : 43735036939.232704\n",
      "rmse : 209129.235018045\n",
      "r2 : 0.6329340569645094\n"
     ]
    },
    {
     "name": "stderr",
     "output_type": "stream",
     "text": [
      "[I 2023-06-21 03:01:34,995] Trial 46 finished with value: 13129778080.921713 and parameters: {'n_estimators': 3576, 'max_depth': 19, 'min_samples_split': 7, 'min_samples_leaf': 3, 'max_features': 1.0}. Best is trial 13 with value: 12973744242.674376.\n"
     ]
    },
    {
     "name": "stdout",
     "output_type": "stream",
     "text": [
      "mse : 13129778080.921713\n",
      "rmse : 114585.24373112671\n",
      "r2 : 0.8898024396362886\n"
     ]
    },
    {
     "name": "stderr",
     "output_type": "stream",
     "text": [
      "[I 2023-06-21 03:02:14,081] Trial 47 finished with value: 12981509958.062645 and parameters: {'n_estimators': 2138, 'max_depth': 17, 'min_samples_split': 4, 'min_samples_leaf': 6, 'max_features': 1.0}. Best is trial 13 with value: 12973744242.674376.\n"
     ]
    },
    {
     "name": "stdout",
     "output_type": "stream",
     "text": [
      "mse : 12981509958.062645\n",
      "rmse : 113936.42945986435\n",
      "r2 : 0.8910468464585576\n"
     ]
    },
    {
     "name": "stderr",
     "output_type": "stream",
     "text": [
      "[I 2023-06-21 03:02:26,134] Trial 48 finished with value: 13657201825.598282 and parameters: {'n_estimators': 1826, 'max_depth': 18, 'min_samples_split': 4, 'min_samples_leaf': 7, 'max_features': 'log2'}. Best is trial 13 with value: 12973744242.674376.\n"
     ]
    },
    {
     "name": "stdout",
     "output_type": "stream",
     "text": [
      "mse : 13657201825.598282\n",
      "rmse : 116864.03135951747\n",
      "r2 : 0.885375798943427\n"
     ]
    },
    {
     "name": "stderr",
     "output_type": "stream",
     "text": [
      "[I 2023-06-21 03:03:17,661] Trial 49 finished with value: 13300475767.243092 and parameters: {'n_estimators': 2146, 'max_depth': 16, 'min_samples_split': 2, 'min_samples_leaf': 2, 'max_features': 1.0}. Best is trial 13 with value: 12973744242.674376.\n"
     ]
    },
    {
     "name": "stdout",
     "output_type": "stream",
     "text": [
      "mse : 13300475767.243092\n",
      "rmse : 115327.68864085975\n",
      "r2 : 0.8883697826274334\n"
     ]
    },
    {
     "name": "stderr",
     "output_type": "stream",
     "text": [
      "[I 2023-06-21 03:03:25,663] Trial 50 finished with value: 13123385172.418642 and parameters: {'n_estimators': 1065, 'max_depth': 17, 'min_samples_split': 3, 'min_samples_leaf': 4, 'max_features': 'log2'}. Best is trial 13 with value: 12973744242.674376.\n"
     ]
    },
    {
     "name": "stdout",
     "output_type": "stream",
     "text": [
      "mse : 13123385172.418642\n",
      "rmse : 114557.34447174761\n",
      "r2 : 0.8898560949925578\n"
     ]
    },
    {
     "name": "stderr",
     "output_type": "stream",
     "text": [
      "[I 2023-06-21 03:04:13,242] Trial 51 finished with value: 12984706956.675415 and parameters: {'n_estimators': 2513, 'max_depth': 19, 'min_samples_split': 6, 'min_samples_leaf': 6, 'max_features': 1.0}. Best is trial 13 with value: 12973744242.674376.\n"
     ]
    },
    {
     "name": "stdout",
     "output_type": "stream",
     "text": [
      "mse : 12984706956.675415\n",
      "rmse : 113950.45834341964\n",
      "r2 : 0.8910200142116268\n"
     ]
    },
    {
     "name": "stderr",
     "output_type": "stream",
     "text": [
      "[I 2023-06-21 03:04:51,853] Trial 52 finished with value: 12983414893.653406 and parameters: {'n_estimators': 2023, 'max_depth': 18, 'min_samples_split': 4, 'min_samples_leaf': 6, 'max_features': 1.0}. Best is trial 13 with value: 12973744242.674376.\n"
     ]
    },
    {
     "name": "stdout",
     "output_type": "stream",
     "text": [
      "mse : 12983414893.653406\n",
      "rmse : 113944.7887955101\n",
      "r2 : 0.8910308584309261\n"
     ]
    },
    {
     "name": "stderr",
     "output_type": "stream",
     "text": [
      "[I 2023-06-21 03:05:58,133] Trial 53 finished with value: 12979324026.357391 and parameters: {'n_estimators': 3107, 'max_depth': 20, 'min_samples_split': 5, 'min_samples_leaf': 6, 'max_features': 1.0}. Best is trial 13 with value: 12973744242.674376.\n"
     ]
    },
    {
     "name": "stdout",
     "output_type": "stream",
     "text": [
      "mse : 12979324026.357391\n",
      "rmse : 113926.83628696705\n",
      "r2 : 0.8910651928723017\n"
     ]
    },
    {
     "name": "stderr",
     "output_type": "stream",
     "text": [
      "[I 2023-06-21 03:06:56,090] Trial 54 finished with value: 12995606138.447372 and parameters: {'n_estimators': 3029, 'max_depth': 20, 'min_samples_split': 4, 'min_samples_leaf': 7, 'max_features': 1.0}. Best is trial 13 with value: 12973744242.674376.\n"
     ]
    },
    {
     "name": "stdout",
     "output_type": "stream",
     "text": [
      "mse : 12995606138.447372\n",
      "rmse : 113998.2725239614\n",
      "r2 : 0.890928537932757\n"
     ]
    },
    {
     "name": "stderr",
     "output_type": "stream",
     "text": [
      "[I 2023-06-21 03:08:16,440] Trial 55 finished with value: 13003095097.13054 and parameters: {'n_estimators': 3975, 'max_depth': 17, 'min_samples_split': 8, 'min_samples_leaf': 5, 'max_features': 1.0}. Best is trial 13 with value: 12973744242.674376.\n"
     ]
    },
    {
     "name": "stdout",
     "output_type": "stream",
     "text": [
      "mse : 13003095097.13054\n",
      "rmse : 114031.11460093048\n",
      "r2 : 0.890865683483012\n"
     ]
    },
    {
     "name": "stderr",
     "output_type": "stream",
     "text": [
      "[I 2023-06-21 03:09:02,048] Trial 56 finished with value: 12982111858.4013 and parameters: {'n_estimators': 2412, 'max_depth': 20, 'min_samples_split': 3, 'min_samples_leaf': 6, 'max_features': 1.0}. Best is trial 13 with value: 12973744242.674376.\n"
     ]
    },
    {
     "name": "stdout",
     "output_type": "stream",
     "text": [
      "mse : 12982111858.4013\n",
      "rmse : 113939.07081594663\n",
      "r2 : 0.8910417947395953\n"
     ]
    },
    {
     "name": "stderr",
     "output_type": "stream",
     "text": [
      "[I 2023-06-21 03:09:23,735] Trial 57 finished with value: 13747846022.1415 and parameters: {'n_estimators': 3462, 'max_depth': 12, 'min_samples_split': 6, 'min_samples_leaf': 7, 'max_features': 'log2'}. Best is trial 13 with value: 12973744242.674376.\n"
     ]
    },
    {
     "name": "stdout",
     "output_type": "stream",
     "text": [
      "mse : 13747846022.1415\n",
      "rmse : 117251.2090434103\n",
      "r2 : 0.8846150268070947\n"
     ]
    },
    {
     "name": "stderr",
     "output_type": "stream",
     "text": [
      "[I 2023-06-21 03:10:18,483] Trial 58 finished with value: 13048442570.257023 and parameters: {'n_estimators': 3205, 'max_depth': 10, 'min_samples_split': 7, 'min_samples_leaf': 5, 'max_features': 1.0}. Best is trial 13 with value: 12973744242.674376.\n"
     ]
    },
    {
     "name": "stdout",
     "output_type": "stream",
     "text": [
      "mse : 13048442570.257023\n",
      "rmse : 114229.77969976579\n",
      "r2 : 0.8904850844449781\n"
     ]
    },
    {
     "name": "stderr",
     "output_type": "stream",
     "text": [
      "[I 2023-06-21 03:10:29,412] Trial 59 finished with value: 13510492669.530308 and parameters: {'n_estimators': 1606, 'max_depth': 18, 'min_samples_split': 8, 'min_samples_leaf': 6, 'max_features': 'sqrt'}. Best is trial 13 with value: 12973744242.674376.\n"
     ]
    },
    {
     "name": "stdout",
     "output_type": "stream",
     "text": [
      "mse : 13510492669.530308\n",
      "rmse : 116234.64487634617\n",
      "r2 : 0.8866071214366229\n"
     ]
    },
    {
     "name": "stderr",
     "output_type": "stream",
     "text": [
      "[I 2023-06-21 03:11:11,265] Trial 60 finished with value: 13011101959.115839 and parameters: {'n_estimators': 2134, 'max_depth': 20, 'min_samples_split': 4, 'min_samples_leaf': 5, 'max_features': 1.0}. Best is trial 13 with value: 12973744242.674376.\n"
     ]
    },
    {
     "name": "stdout",
     "output_type": "stream",
     "text": [
      "mse : 13011101959.115839\n",
      "rmse : 114066.2174314369\n",
      "r2 : 0.8907984822971647\n"
     ]
    },
    {
     "name": "stderr",
     "output_type": "stream",
     "text": [
      "[I 2023-06-21 03:12:04,344] Trial 61 finished with value: 12981692959.800798 and parameters: {'n_estimators': 2380, 'max_depth': 20, 'min_samples_split': 3, 'min_samples_leaf': 6, 'max_features': 1.0}. Best is trial 13 with value: 12973744242.674376.\n"
     ]
    },
    {
     "name": "stdout",
     "output_type": "stream",
     "text": [
      "mse : 12981692959.800798\n",
      "rmse : 113937.232544067\n",
      "r2 : 0.8910453105342668\n"
     ]
    },
    {
     "name": "stderr",
     "output_type": "stream",
     "text": [
      "[I 2023-06-21 03:12:45,846] Trial 62 finished with value: 12986677258.76753 and parameters: {'n_estimators': 1866, 'max_depth': 19, 'min_samples_split': 3, 'min_samples_leaf': 6, 'max_features': 1.0}. Best is trial 13 with value: 12973744242.674376.\n"
     ]
    },
    {
     "name": "stdout",
     "output_type": "stream",
     "text": [
      "mse : 12986677258.76753\n",
      "rmse : 113959.1034484193\n",
      "r2 : 0.8910034775662705\n"
     ]
    },
    {
     "name": "stderr",
     "output_type": "stream",
     "text": [
      "[I 2023-06-21 03:13:28,697] Trial 63 finished with value: 13037308730.33568 and parameters: {'n_estimators': 2339, 'max_depth': 20, 'min_samples_split': 2, 'min_samples_leaf': 8, 'max_features': 1.0}. Best is trial 13 with value: 12973744242.674376.\n"
     ]
    },
    {
     "name": "stdout",
     "output_type": "stream",
     "text": [
      "mse : 13037308730.33568\n",
      "rmse : 114181.0348978134\n",
      "r2 : 0.8905785301977738\n"
     ]
    },
    {
     "name": "stderr",
     "output_type": "stream",
     "text": [
      "[I 2023-06-21 03:14:23,667] Trial 64 finished with value: 12982511190.600574 and parameters: {'n_estimators': 2746, 'max_depth': 18, 'min_samples_split': 5, 'min_samples_leaf': 6, 'max_features': 1.0}. Best is trial 13 with value: 12973744242.674376.\n"
     ]
    },
    {
     "name": "stdout",
     "output_type": "stream",
     "text": [
      "mse : 12982511190.600574\n",
      "rmse : 113940.82319608094\n",
      "r2 : 0.8910384431647351\n"
     ]
    },
    {
     "name": "stderr",
     "output_type": "stream",
     "text": [
      "[I 2023-06-21 03:15:19,547] Trial 65 finished with value: 12994945048.714832 and parameters: {'n_estimators': 3057, 'max_depth': 19, 'min_samples_split': 4, 'min_samples_leaf': 7, 'max_features': 1.0}. Best is trial 13 with value: 12973744242.674376.\n"
     ]
    },
    {
     "name": "stdout",
     "output_type": "stream",
     "text": [
      "mse : 12994945048.714832\n",
      "rmse : 113995.37292677643\n",
      "r2 : 0.8909340864252949\n"
     ]
    },
    {
     "name": "stderr",
     "output_type": "stream",
     "text": [
      "[I 2023-06-21 03:15:34,975] Trial 66 finished with value: 12889495593.594936 and parameters: {'n_estimators': 1661, 'max_depth': 17, 'min_samples_split': 7, 'min_samples_leaf': 1, 'max_features': 'log2'}. Best is trial 66 with value: 12889495593.594936.\n"
     ]
    },
    {
     "name": "stdout",
     "output_type": "stream",
     "text": [
      "mse : 12889495593.594936\n",
      "rmse : 113531.91442759581\n",
      "r2 : 0.8918191183446675\n"
     ]
    },
    {
     "name": "stderr",
     "output_type": "stream",
     "text": [
      "[I 2023-06-21 03:15:49,790] Trial 67 finished with value: 12907768804.888906 and parameters: {'n_estimators': 1381, 'max_depth': 16, 'min_samples_split': 3, 'min_samples_leaf': 1, 'max_features': 'log2'}. Best is trial 66 with value: 12889495593.594936.\n"
     ]
    },
    {
     "name": "stdout",
     "output_type": "stream",
     "text": [
      "mse : 12907768804.888906\n",
      "rmse : 113612.36202495267\n",
      "r2 : 0.8916657522106632\n"
     ]
    },
    {
     "name": "stderr",
     "output_type": "stream",
     "text": [
      "[I 2023-06-21 03:16:02,559] Trial 68 finished with value: 12917085799.585743 and parameters: {'n_estimators': 1387, 'max_depth': 16, 'min_samples_split': 7, 'min_samples_leaf': 1, 'max_features': 'log2'}. Best is trial 66 with value: 12889495593.594936.\n"
     ]
    },
    {
     "name": "stdout",
     "output_type": "stream",
     "text": [
      "mse : 12917085799.585743\n",
      "rmse : 113653.35806559234\n",
      "r2 : 0.8915875551475304\n"
     ]
    },
    {
     "name": "stderr",
     "output_type": "stream",
     "text": [
      "[I 2023-06-21 03:16:14,657] Trial 69 finished with value: 12916452491.631432 and parameters: {'n_estimators': 1327, 'max_depth': 16, 'min_samples_split': 7, 'min_samples_leaf': 1, 'max_features': 'log2'}. Best is trial 66 with value: 12889495593.594936.\n"
     ]
    },
    {
     "name": "stdout",
     "output_type": "stream",
     "text": [
      "mse : 12916452491.631432\n",
      "rmse : 113650.57189311205\n",
      "r2 : 0.8915928704690153\n"
     ]
    },
    {
     "name": "stderr",
     "output_type": "stream",
     "text": [
      "[I 2023-06-21 03:16:27,709] Trial 70 finished with value: 12916080226.965631 and parameters: {'n_estimators': 1423, 'max_depth': 16, 'min_samples_split': 7, 'min_samples_leaf': 1, 'max_features': 'log2'}. Best is trial 66 with value: 12889495593.594936.\n"
     ]
    },
    {
     "name": "stdout",
     "output_type": "stream",
     "text": [
      "mse : 12916080226.965631\n",
      "rmse : 113648.93412155537\n",
      "r2 : 0.891595994867442\n"
     ]
    },
    {
     "name": "stderr",
     "output_type": "stream",
     "text": [
      "[I 2023-06-21 03:16:41,165] Trial 71 finished with value: 12914289854.597887 and parameters: {'n_estimators': 1345, 'max_depth': 16, 'min_samples_split': 7, 'min_samples_leaf': 1, 'max_features': 'log2'}. Best is trial 66 with value: 12889495593.594936.\n"
     ]
    },
    {
     "name": "stdout",
     "output_type": "stream",
     "text": [
      "mse : 12914289854.597887\n",
      "rmse : 113641.05708148744\n",
      "r2 : 0.8916110213717632\n"
     ]
    },
    {
     "name": "stderr",
     "output_type": "stream",
     "text": [
      "[I 2023-06-21 03:16:53,838] Trial 72 finished with value: 12916452737.074696 and parameters: {'n_estimators': 1356, 'max_depth': 16, 'min_samples_split': 7, 'min_samples_leaf': 1, 'max_features': 'log2'}. Best is trial 66 with value: 12889495593.594936.\n"
     ]
    },
    {
     "name": "stdout",
     "output_type": "stream",
     "text": [
      "mse : 12916452737.074696\n",
      "rmse : 113650.5729729274\n",
      "r2 : 0.8915928684090224\n"
     ]
    },
    {
     "name": "stderr",
     "output_type": "stream",
     "text": [
      "[I 2023-06-21 03:17:06,152] Trial 73 finished with value: 12916452737.074696 and parameters: {'n_estimators': 1356, 'max_depth': 16, 'min_samples_split': 7, 'min_samples_leaf': 1, 'max_features': 'log2'}. Best is trial 66 with value: 12889495593.594936.\n"
     ]
    },
    {
     "name": "stdout",
     "output_type": "stream",
     "text": [
      "mse : 12916452737.074696\n",
      "rmse : 113650.5729729274\n",
      "r2 : 0.8915928684090224\n"
     ]
    },
    {
     "name": "stderr",
     "output_type": "stream",
     "text": [
      "[I 2023-06-21 03:17:18,831] Trial 74 finished with value: 12915559885.274376 and parameters: {'n_estimators': 1352, 'max_depth': 16, 'min_samples_split': 7, 'min_samples_leaf': 1, 'max_features': 'log2'}. Best is trial 66 with value: 12889495593.594936.\n"
     ]
    },
    {
     "name": "stdout",
     "output_type": "stream",
     "text": [
      "mse : 12915559885.274376\n",
      "rmse : 113646.64484829447\n",
      "r2 : 0.8916003620688204\n"
     ]
    },
    {
     "name": "stderr",
     "output_type": "stream",
     "text": [
      "[I 2023-06-21 03:17:26,975] Trial 75 finished with value: 12900039270.483505 and parameters: {'n_estimators': 907, 'max_depth': 15, 'min_samples_split': 7, 'min_samples_leaf': 1, 'max_features': 'log2'}. Best is trial 66 with value: 12889495593.594936.\n"
     ]
    },
    {
     "name": "stdout",
     "output_type": "stream",
     "text": [
      "mse : 12900039270.483505\n",
      "rmse : 113578.33979453787\n",
      "r2 : 0.8917306258002222\n"
     ]
    },
    {
     "name": "stderr",
     "output_type": "stream",
     "text": [
      "[I 2023-06-21 03:17:34,296] Trial 76 finished with value: 12864632135.934994 and parameters: {'n_estimators': 788, 'max_depth': 15, 'min_samples_split': 6, 'min_samples_leaf': 1, 'max_features': 'log2'}. Best is trial 76 with value: 12864632135.934994.\n"
     ]
    },
    {
     "name": "stdout",
     "output_type": "stream",
     "text": [
      "mse : 12864632135.934994\n",
      "rmse : 113422.36171026855\n",
      "r2 : 0.8920277960815984\n"
     ]
    },
    {
     "name": "stderr",
     "output_type": "stream",
     "text": [
      "[I 2023-06-21 03:17:41,517] Trial 77 finished with value: 12867091689.741556 and parameters: {'n_estimators': 829, 'max_depth': 15, 'min_samples_split': 6, 'min_samples_leaf': 2, 'max_features': 'log2'}. Best is trial 76 with value: 12864632135.934994.\n"
     ]
    },
    {
     "name": "stdout",
     "output_type": "stream",
     "text": [
      "mse : 12867091689.741556\n",
      "rmse : 113433.20364752799\n",
      "r2 : 0.8920071531714597\n"
     ]
    },
    {
     "name": "stderr",
     "output_type": "stream",
     "text": [
      "[I 2023-06-21 03:17:48,787] Trial 78 finished with value: 12869895878.812923 and parameters: {'n_estimators': 835, 'max_depth': 15, 'min_samples_split': 6, 'min_samples_leaf': 2, 'max_features': 'log2'}. Best is trial 76 with value: 12864632135.934994.\n"
     ]
    },
    {
     "name": "stdout",
     "output_type": "stream",
     "text": [
      "mse : 12869895878.812923\n",
      "rmse : 113445.56350432098\n",
      "r2 : 0.8919836177550529\n"
     ]
    },
    {
     "name": "stderr",
     "output_type": "stream",
     "text": [
      "[I 2023-06-21 03:17:55,648] Trial 79 finished with value: 12862325984.585022 and parameters: {'n_estimators': 787, 'max_depth': 15, 'min_samples_split': 6, 'min_samples_leaf': 2, 'max_features': 'log2'}. Best is trial 79 with value: 12862325984.585022.\n"
     ]
    },
    {
     "name": "stdout",
     "output_type": "stream",
     "text": [
      "mse : 12862325984.585022\n",
      "rmse : 113412.1950435006\n",
      "r2 : 0.8920471514927129\n"
     ]
    },
    {
     "name": "stderr",
     "output_type": "stream",
     "text": [
      "[I 2023-06-21 03:18:01,127] Trial 80 finished with value: 12917925421.85821 and parameters: {'n_estimators': 646, 'max_depth': 14, 'min_samples_split': 6, 'min_samples_leaf': 2, 'max_features': 'log2'}. Best is trial 79 with value: 12862325984.585022.\n"
     ]
    },
    {
     "name": "stdout",
     "output_type": "stream",
     "text": [
      "mse : 12917925421.85821\n",
      "rmse : 113657.05179115904\n",
      "r2 : 0.8915805082404553\n"
     ]
    },
    {
     "name": "stderr",
     "output_type": "stream",
     "text": [
      "[I 2023-06-21 03:18:08,858] Trial 81 finished with value: 12869731184.624006 and parameters: {'n_estimators': 888, 'max_depth': 15, 'min_samples_split': 6, 'min_samples_leaf': 2, 'max_features': 'log2'}. Best is trial 79 with value: 12862325984.585022.\n"
     ]
    },
    {
     "name": "stdout",
     "output_type": "stream",
     "text": [
      "mse : 12869731184.624006\n",
      "rmse : 113444.83762879652\n",
      "r2 : 0.891985000025013\n"
     ]
    },
    {
     "name": "stderr",
     "output_type": "stream",
     "text": [
      "[I 2023-06-21 03:18:16,150] Trial 82 finished with value: 12872193621.334225 and parameters: {'n_estimators': 839, 'max_depth': 15, 'min_samples_split': 6, 'min_samples_leaf': 2, 'max_features': 'log2'}. Best is trial 79 with value: 12862325984.585022.\n"
     ]
    },
    {
     "name": "stdout",
     "output_type": "stream",
     "text": [
      "mse : 12872193621.334225\n",
      "rmse : 113455.69012321165\n",
      "r2 : 0.8919643329188104\n"
     ]
    },
    {
     "name": "stderr",
     "output_type": "stream",
     "text": [
      "[I 2023-06-21 03:18:23,118] Trial 83 finished with value: 12863162010.147182 and parameters: {'n_estimators': 806, 'max_depth': 15, 'min_samples_split': 6, 'min_samples_leaf': 2, 'max_features': 'log2'}. Best is trial 79 with value: 12862325984.585022.\n"
     ]
    },
    {
     "name": "stdout",
     "output_type": "stream",
     "text": [
      "mse : 12863162010.147182\n",
      "rmse : 113415.88076696836\n",
      "r2 : 0.8920401347726445\n"
     ]
    },
    {
     "name": "stderr",
     "output_type": "stream",
     "text": [
      "[I 2023-06-21 03:18:30,291] Trial 84 finished with value: 12866950658.879414 and parameters: {'n_estimators': 830, 'max_depth': 15, 'min_samples_split': 6, 'min_samples_leaf': 2, 'max_features': 'log2'}. Best is trial 79 with value: 12862325984.585022.\n"
     ]
    },
    {
     "name": "stdout",
     "output_type": "stream",
     "text": [
      "mse : 12866950658.879414\n",
      "rmse : 113432.5819986454\n",
      "r2 : 0.8920083368363205\n"
     ]
    },
    {
     "name": "stderr",
     "output_type": "stream",
     "text": [
      "[I 2023-06-21 03:18:36,805] Trial 85 finished with value: 12859832446.599424 and parameters: {'n_estimators': 749, 'max_depth': 15, 'min_samples_split': 6, 'min_samples_leaf': 2, 'max_features': 'log2'}. Best is trial 85 with value: 12859832446.599424.\n"
     ]
    },
    {
     "name": "stdout",
     "output_type": "stream",
     "text": [
      "mse : 12859832446.599424\n",
      "rmse : 113401.20125730337\n",
      "r2 : 0.8920680796303396\n"
     ]
    },
    {
     "name": "stderr",
     "output_type": "stream",
     "text": [
      "[I 2023-06-21 03:18:42,733] Trial 86 finished with value: 12863643281.350515 and parameters: {'n_estimators': 687, 'max_depth': 15, 'min_samples_split': 6, 'min_samples_leaf': 2, 'max_features': 'log2'}. Best is trial 85 with value: 12859832446.599424.\n"
     ]
    },
    {
     "name": "stdout",
     "output_type": "stream",
     "text": [
      "mse : 12863643281.350515\n",
      "rmse : 113418.00245706373\n",
      "r2 : 0.8920360954878864\n"
     ]
    },
    {
     "name": "stderr",
     "output_type": "stream",
     "text": [
      "[I 2023-06-21 03:18:46,441] Trial 87 finished with value: 12946655274.886189 and parameters: {'n_estimators': 444, 'max_depth': 14, 'min_samples_split': 6, 'min_samples_leaf': 3, 'max_features': 'log2'}. Best is trial 85 with value: 12859832446.599424.\n"
     ]
    },
    {
     "name": "stdout",
     "output_type": "stream",
     "text": [
      "mse : 12946655274.886189\n",
      "rmse : 113783.36993992659\n",
      "r2 : 0.891339380043636\n"
     ]
    },
    {
     "name": "stderr",
     "output_type": "stream",
     "text": [
      "[I 2023-06-21 03:18:49,222] Trial 88 finished with value: 12855131873.756847 and parameters: {'n_estimators': 296, 'max_depth': 15, 'min_samples_split': 6, 'min_samples_leaf': 2, 'max_features': 'log2'}. Best is trial 88 with value: 12855131873.756847.\n"
     ]
    },
    {
     "name": "stdout",
     "output_type": "stream",
     "text": [
      "mse : 12855131873.756847\n",
      "rmse : 113380.47395277923\n",
      "r2 : 0.8921075312993908\n"
     ]
    },
    {
     "name": "stderr",
     "output_type": "stream",
     "text": [
      "[I 2023-06-21 03:18:51,397] Trial 89 finished with value: 13024148204.141632 and parameters: {'n_estimators': 268, 'max_depth': 13, 'min_samples_split': 6, 'min_samples_leaf': 3, 'max_features': 'log2'}. Best is trial 88 with value: 12855131873.756847.\n"
     ]
    },
    {
     "name": "stdout",
     "output_type": "stream",
     "text": [
      "mse : 13024148204.141632\n",
      "rmse : 114123.39025870916\n",
      "r2 : 0.8906889858254887\n"
     ]
    },
    {
     "name": "stderr",
     "output_type": "stream",
     "text": [
      "[I 2023-06-21 03:18:56,792] Trial 90 finished with value: 12920917544.75158 and parameters: {'n_estimators': 640, 'max_depth': 14, 'min_samples_split': 6, 'min_samples_leaf': 2, 'max_features': 'log2'}. Best is trial 88 with value: 12855131873.756847.\n"
     ]
    },
    {
     "name": "stdout",
     "output_type": "stream",
     "text": [
      "mse : 12920917544.75158\n",
      "rmse : 113670.21397336938\n",
      "r2 : 0.8915553955050286\n"
     ]
    },
    {
     "name": "stderr",
     "output_type": "stream",
     "text": [
      "[I 2023-06-21 03:19:03,566] Trial 91 finished with value: 12860892816.567495 and parameters: {'n_estimators': 776, 'max_depth': 15, 'min_samples_split': 6, 'min_samples_leaf': 2, 'max_features': 'log2'}. Best is trial 88 with value: 12855131873.756847.\n"
     ]
    },
    {
     "name": "stdout",
     "output_type": "stream",
     "text": [
      "mse : 12860892816.567495\n",
      "rmse : 113405.87646399764\n",
      "r2 : 0.8920591799990706\n"
     ]
    },
    {
     "name": "stderr",
     "output_type": "stream",
     "text": [
      "[I 2023-06-21 03:19:08,229] Trial 92 finished with value: 12865941301.837328 and parameters: {'n_estimators': 533, 'max_depth': 15, 'min_samples_split': 6, 'min_samples_leaf': 2, 'max_features': 'log2'}. Best is trial 88 with value: 12855131873.756847.\n"
     ]
    },
    {
     "name": "stdout",
     "output_type": "stream",
     "text": [
      "mse : 12865941301.837328\n",
      "rmse : 113428.1327618388\n",
      "r2 : 0.8920168083186935\n"
     ]
    },
    {
     "name": "stderr",
     "output_type": "stream",
     "text": [
      "[I 2023-06-21 03:19:12,696] Trial 93 finished with value: 12935219879.576813 and parameters: {'n_estimators': 541, 'max_depth': 14, 'min_samples_split': 5, 'min_samples_leaf': 3, 'max_features': 'log2'}. Best is trial 88 with value: 12855131873.756847.\n"
     ]
    },
    {
     "name": "stdout",
     "output_type": "stream",
     "text": [
      "mse : 12935219879.576813\n",
      "rmse : 113733.10810655274\n",
      "r2 : 0.8914353567354826\n"
     ]
    },
    {
     "name": "stderr",
     "output_type": "stream",
     "text": [
      "[I 2023-06-21 03:19:15,497] Trial 94 finished with value: 12866612283.795206 and parameters: {'n_estimators': 303, 'max_depth': 15, 'min_samples_split': 6, 'min_samples_leaf': 2, 'max_features': 'log2'}. Best is trial 88 with value: 12855131873.756847.\n"
     ]
    },
    {
     "name": "stdout",
     "output_type": "stream",
     "text": [
      "mse : 12866612283.795206\n",
      "rmse : 113431.09046374899\n",
      "r2 : 0.8920111768012108\n"
     ]
    },
    {
     "name": "stderr",
     "output_type": "stream",
     "text": [
      "[I 2023-06-21 03:19:17,980] Trial 95 finished with value: 12934305232.211054 and parameters: {'n_estimators': 300, 'max_depth': 13, 'min_samples_split': 6, 'min_samples_leaf': 2, 'max_features': 'log2'}. Best is trial 88 with value: 12855131873.756847.\n"
     ]
    },
    {
     "name": "stdout",
     "output_type": "stream",
     "text": [
      "mse : 12934305232.211054\n",
      "rmse : 113729.08701036447\n",
      "r2 : 0.891443033324354\n"
     ]
    },
    {
     "name": "stderr",
     "output_type": "stream",
     "text": [
      "[I 2023-06-21 03:19:26,853] Trial 96 finished with value: 12846638022.736105 and parameters: {'n_estimators': 1039, 'max_depth': 14, 'min_samples_split': 5, 'min_samples_leaf': 2, 'max_features': 'log2'}. Best is trial 96 with value: 12846638022.736105.\n"
     ]
    },
    {
     "name": "stdout",
     "output_type": "stream",
     "text": [
      "mse : 12846638022.736105\n",
      "rmse : 113343.01047147153\n",
      "r2 : 0.8921788197594707\n"
     ]
    },
    {
     "name": "stderr",
     "output_type": "stream",
     "text": [
      "[I 2023-06-21 03:19:35,317] Trial 97 finished with value: 12955056790.495232 and parameters: {'n_estimators': 1031, 'max_depth': 14, 'min_samples_split': 5, 'min_samples_leaf': 3, 'max_features': 'log2'}. Best is trial 96 with value: 12846638022.736105.\n"
     ]
    },
    {
     "name": "stdout",
     "output_type": "stream",
     "text": [
      "mse : 12955056790.495232\n",
      "rmse : 113820.28286072404\n",
      "r2 : 0.8912688665499754\n"
     ]
    },
    {
     "name": "stderr",
     "output_type": "stream",
     "text": [
      "[I 2023-06-21 03:19:41,740] Trial 98 finished with value: 12874565454.798836 and parameters: {'n_estimators': 721, 'max_depth': 13, 'min_samples_split': 5, 'min_samples_leaf': 2, 'max_features': 'log2'}. Best is trial 96 with value: 12846638022.736105.\n"
     ]
    },
    {
     "name": "stdout",
     "output_type": "stream",
     "text": [
      "mse : 12874565454.798836\n",
      "rmse : 113466.14232800389\n",
      "r2 : 0.8919444262410449\n"
     ]
    },
    {
     "name": "stderr",
     "output_type": "stream",
     "text": [
      "[I 2023-06-21 03:19:42,859] Trial 99 finished with value: 12914861023.876562 and parameters: {'n_estimators': 104, 'max_depth': 15, 'min_samples_split': 6, 'min_samples_leaf': 2, 'max_features': 'log2'}. Best is trial 96 with value: 12846638022.736105.\n"
     ]
    },
    {
     "name": "stdout",
     "output_type": "stream",
     "text": [
      "mse : 12914861023.876562\n",
      "rmse : 113643.57009473331\n",
      "r2 : 0.891606227577026\n",
      "Best trial: score 12846638022.736105, \n",
      "params {'n_estimators': 1039, 'max_depth': 14, 'min_samples_split': 5, 'min_samples_leaf': 2, 'max_features': 'log2'}\n"
     ]
    }
   ],
   "source": [
    "import optuna\n",
    "from sklearn.ensemble import RandomForestRegressor\n",
    "\n",
    "def objective(trial):\n",
    "    # Define the search space for each parameter\n",
    "    n_estimators = trial.suggest_int('n_estimators', 100, 4000)\n",
    "    max_depth = trial.suggest_int('max_depth', 2, 20)\n",
    "    min_samples_split = trial.suggest_int('min_samples_split', 2, 10)\n",
    "    min_samples_leaf = trial.suggest_int('min_samples_leaf', 1, 10)\n",
    "    max_features = trial.suggest_categorical('max_features', [1.0, 'sqrt', 'log2'])\n",
    "    \n",
    "    # 모델 학습\n",
    "    random_f2 = RandomForestRegressor(n_estimators=n_estimators,\n",
    "                                     max_depth=max_depth,\n",
    "                                     min_samples_split=min_samples_split,\n",
    "                                     min_samples_leaf=min_samples_leaf,\n",
    "                                     max_features=max_features,\n",
    "                                     random_state=42)\n",
    "    random_f2.fit(x_train, y_train)\n",
    "    \n",
    "    # 예측\n",
    "    y_pred = random_f2.predict(x_test)\n",
    "    \n",
    "    # 모델 평가    \n",
    "    mse = mean_squared_error(y_test, y_pred)\n",
    "    rmse = np.sqrt(mse)\n",
    "    r2 = r2_score(y_test, y_pred)\n",
    "\n",
    "    print(f\"mse : {mse}\")\n",
    "    print(f\"rmse : {rmse}\")\n",
    "    print(f\"r2 : {r2}\")\n",
    "    \n",
    "    return mse\n",
    "\n",
    "# optimization study 진행\n",
    "# direction: score 값을 최대 or 최소로 하는 방향으로 지정\n",
    "study = optuna.create_study(direction='minimize')\n",
    "\n",
    "# n_trials: 시도 횟수 (미입력시 key interrupt가 있을 때까지 무한 반복)\n",
    "study.optimize(objective, n_trials=100)\n",
    "\n",
    "# 모든 트라이얼이 완료되었는지 확인\n",
    "if study.best_trial is None:\n",
    "    print(\"No trials completed.\")\n",
    "else:\n",
    "    # 최적의 트라이얼 출력\n",
    "    print('Best trial: score {}, \\nparams {}'.format(study.best_trial.value, study.best_trial.params))"
   ]
  },
  {
   "cell_type": "code",
   "execution_count": 16,
   "metadata": {},
   "outputs": [
    {
     "name": "stdout",
     "output_type": "stream",
     "text": [
      "mse : 12846638022.736\n",
      "rmse : 113343.010\n",
      "r2 : 0.892\n"
     ]
    }
   ],
   "source": [
    "# Best trial의 파라미터\n",
    "best_params = study.best_trial.params\n",
    "\n",
    "# 최적의 모델 학습\n",
    "best_rf = RandomForestRegressor(n_estimators=best_params['n_estimators'],\n",
    "                                max_depth=best_params['max_depth'],\n",
    "                                min_samples_split=best_params['min_samples_split'],\n",
    "                                min_samples_leaf=best_params['min_samples_leaf'],\n",
    "                                max_features=best_params['max_features'],\n",
    "                                random_state=42)\n",
    "best_rf.fit(x_train, y_train)\n",
    "\n",
    "# 저장\n",
    "import pickle\n",
    "import os\n",
    "\n",
    "# 저장 경로 설정\n",
    "save_path = 'RandomForestRegressor_best_model.pkl'\n",
    "\n",
    "# 모델을 'RandomForestRegressor_best_model.pkl' 파일로 저장\n",
    "with open(save_path, 'wb') as f:\n",
    "    pickle.dump(best_rf, f)\n",
    "\n",
    "# 모델 불러오기\n",
    "# 저장된 모델을 로드\n",
    "with open('RandomForestRegressor_best_model.pkl', 'rb') as f:\n",
    "    loaded_model = pickle.load(f)\n",
    "\n",
    "# 로드된 모델로 예측\n",
    "y_pred = loaded_model.predict(x_test)\n",
    "\n",
    "# 모델 평가\n",
    "from evaluate_score import evaluate_score\n",
    "evaluate_score(y_test, y_pred)"
   ]
  },
  {
   "attachments": {},
   "cell_type": "markdown",
   "metadata": {},
   "source": [
    "## 카메라 6개 열 삭제 후 xgboost 를 이용한 가격 예측"
   ]
  },
  {
   "cell_type": "code",
   "execution_count": 17,
   "metadata": {},
   "outputs": [],
   "source": [
    "remove_camera_df = prepro_df.copy()\n",
    "\n",
    "\n",
    "# 카메라 삭제\n",
    "remove_camera_df.drop(['back_camera_1', 'back_camera_2', 'back_camera_3',\n",
    "                       'back_camera_number_1', 'back_camera_number_2',\n",
    "                       'back_camera_number_3'], axis=1, inplace=True)\n",
    "\n",
    "# 학습 데이터, 테스트 데이터 분리\n",
    "x = remove_camera_df.loc[:, remove_camera_df.columns != 'price']\n",
    "y = remove_camera_df['price']\n",
    "\n",
    "x_train, x_test, y_train, y_test = train_test_split(x, y, test_size = 0.3, random_state=42)"
   ]
  },
  {
   "cell_type": "code",
   "execution_count": 18,
   "metadata": {},
   "outputs": [
    {
     "name": "stderr",
     "output_type": "stream",
     "text": [
      "[I 2023-06-21 03:23:26,766] A new study created in memory with name: no-name-66f9fcad-3952-4ce7-bbbe-012cecab5823\n",
      "[I 2023-06-21 03:23:34,198] Trial 0 finished with value: 22428490158.55355 and parameters: {'n_estimators': 2098, 'learning_rate': 0.8672653087784747, 'max_depth': 4, 'min_child_weight': 7, 'gamma': 0.09294674528382324, 'subsample': 0.7895424832046107, 'colsample_bytree': 0.5544740072068335}. Best is trial 0 with value: 22428490158.55355.\n"
     ]
    },
    {
     "name": "stdout",
     "output_type": "stream",
     "text": [
      "mse : 22428490158.55355\n",
      "rmse : 149761.444165558\n",
      "r2 : 0.8117588215976452\n"
     ]
    },
    {
     "name": "stderr",
     "output_type": "stream",
     "text": [
      "[I 2023-06-21 03:24:10,972] Trial 1 finished with value: 20308239993.853394 and parameters: {'n_estimators': 3985, 'learning_rate': 0.4847435899174792, 'max_depth': 9, 'min_child_weight': 4, 'gamma': 0.38780268361377707, 'subsample': 0.6818725562320377, 'colsample_bytree': 0.7670200125128568}. Best is trial 1 with value: 20308239993.853394.\n"
     ]
    },
    {
     "name": "stdout",
     "output_type": "stream",
     "text": [
      "mse : 20308239993.853394\n",
      "rmse : 142506.98226351364\n",
      "r2 : 0.8295539735088733\n"
     ]
    },
    {
     "name": "stderr",
     "output_type": "stream",
     "text": [
      "[I 2023-06-21 03:24:20,357] Trial 2 finished with value: 15702187357.075865 and parameters: {'n_estimators': 1154, 'learning_rate': 0.11637413766677948, 'max_depth': 7, 'min_child_weight': 8, 'gamma': 0.13450575724422065, 'subsample': 0.5290135447600336, 'colsample_bytree': 0.9966015373707424}. Best is trial 2 with value: 15702187357.075865.\n"
     ]
    },
    {
     "name": "stdout",
     "output_type": "stream",
     "text": [
      "mse : 15702187357.075865\n",
      "rmse : 125308.3690623889\n",
      "r2 : 0.8682123392749527\n"
     ]
    },
    {
     "name": "stderr",
     "output_type": "stream",
     "text": [
      "[I 2023-06-21 03:24:53,804] Trial 3 finished with value: 28317426577.220333 and parameters: {'n_estimators': 3248, 'learning_rate': 0.7832511118761409, 'max_depth': 10, 'min_child_weight': 10, 'gamma': 0.17962134348754377, 'subsample': 0.5473650212998986, 'colsample_bytree': 0.9165572880792232}. Best is trial 2 with value: 15702187357.075865.\n"
     ]
    },
    {
     "name": "stdout",
     "output_type": "stream",
     "text": [
      "mse : 28317426577.220333\n",
      "rmse : 168277.82556599766\n",
      "r2 : 0.7623332774281633\n"
     ]
    },
    {
     "name": "stderr",
     "output_type": "stream",
     "text": [
      "[I 2023-06-21 03:25:31,330] Trial 4 finished with value: 15714626517.584213 and parameters: {'n_estimators': 3845, 'learning_rate': 0.05771023523199846, 'max_depth': 9, 'min_child_weight': 10, 'gamma': 0.473228174078544, 'subsample': 0.6479948761870966, 'colsample_bytree': 0.9581437076607888}. Best is trial 2 with value: 15702187357.075865.\n"
     ]
    },
    {
     "name": "stdout",
     "output_type": "stream",
     "text": [
      "mse : 15714626517.584213\n",
      "rmse : 125357.99343314416\n",
      "r2 : 0.8681079380327882\n"
     ]
    },
    {
     "name": "stderr",
     "output_type": "stream",
     "text": [
      "[I 2023-06-21 03:25:56,765] Trial 5 finished with value: 18178303316.12346 and parameters: {'n_estimators': 3974, 'learning_rate': 0.3138173706815901, 'max_depth': 7, 'min_child_weight': 7, 'gamma': 0.0887988602899723, 'subsample': 0.678609181392393, 'colsample_bytree': 0.5521582282638282}. Best is trial 2 with value: 15702187357.075865.\n"
     ]
    },
    {
     "name": "stdout",
     "output_type": "stream",
     "text": [
      "mse : 18178303316.12346\n",
      "rmse : 134826.9383918639\n",
      "r2 : 0.8474304238318289\n"
     ]
    },
    {
     "name": "stderr",
     "output_type": "stream",
     "text": [
      "[I 2023-06-21 03:26:15,857] Trial 6 finished with value: 25376513288.766224 and parameters: {'n_estimators': 3599, 'learning_rate': 0.6596732935616697, 'max_depth': 6, 'min_child_weight': 3, 'gamma': 0.2074908004050977, 'subsample': 0.5366052540277686, 'colsample_bytree': 0.5127966699384066}. Best is trial 2 with value: 15702187357.075865.\n"
     ]
    },
    {
     "name": "stdout",
     "output_type": "stream",
     "text": [
      "mse : 25376513288.766224\n",
      "rmse : 159300.0730971779\n",
      "r2 : 0.7870162132425752\n"
     ]
    },
    {
     "name": "stderr",
     "output_type": "stream",
     "text": [
      "[I 2023-06-21 03:26:26,305] Trial 7 finished with value: 19248140528.500973 and parameters: {'n_estimators': 2366, 'learning_rate': 0.5845919091255259, 'max_depth': 5, 'min_child_weight': 10, 'gamma': 0.2384187337991937, 'subsample': 0.8445204862667841, 'colsample_bytree': 0.601933716787933}. Best is trial 2 with value: 15702187357.075865.\n"
     ]
    },
    {
     "name": "stdout",
     "output_type": "stream",
     "text": [
      "mse : 19248140528.500973\n",
      "rmse : 138737.6680231471\n",
      "r2 : 0.8384513344623274\n"
     ]
    },
    {
     "name": "stderr",
     "output_type": "stream",
     "text": [
      "[I 2023-06-21 03:26:29,435] Trial 8 finished with value: 17368856269.42696 and parameters: {'n_estimators': 601, 'learning_rate': 0.49810887794044423, 'max_depth': 5, 'min_child_weight': 3, 'gamma': 0.23502110091312123, 'subsample': 0.8295757648281328, 'colsample_bytree': 0.9166704102153588}. Best is trial 2 with value: 15702187357.075865.\n"
     ]
    },
    {
     "name": "stdout",
     "output_type": "stream",
     "text": [
      "mse : 17368856269.42696\n",
      "rmse : 131790.95670578827\n",
      "r2 : 0.8542240717701117\n"
     ]
    },
    {
     "name": "stderr",
     "output_type": "stream",
     "text": [
      "[I 2023-06-21 03:26:36,793] Trial 9 finished with value: 19244691138.41635 and parameters: {'n_estimators': 1074, 'learning_rate': 0.39158977956938806, 'max_depth': 7, 'min_child_weight': 5, 'gamma': 0.12680632384584134, 'subsample': 0.5350693104895853, 'colsample_bytree': 0.5629245993796959}. Best is trial 2 with value: 15702187357.075865.\n"
     ]
    },
    {
     "name": "stdout",
     "output_type": "stream",
     "text": [
      "mse : 19244691138.41635\n",
      "rmse : 138725.2361267277\n",
      "r2 : 0.8384802850180586\n"
     ]
    },
    {
     "name": "stderr",
     "output_type": "stream",
     "text": [
      "[I 2023-06-21 03:26:39,664] Trial 10 finished with value: 16427457531.250507 and parameters: {'n_estimators': 1351, 'learning_rate': 0.0287145604411555, 'max_depth': 1, 'min_child_weight': 1, 'gamma': 0.04049478227442049, 'subsample': 0.9804630077988656, 'colsample_bytree': 0.9969181211582516}. Best is trial 2 with value: 15702187357.075865.\n"
     ]
    },
    {
     "name": "stdout",
     "output_type": "stream",
     "text": [
      "mse : 16427457531.250507\n",
      "rmse : 128169.64356371795\n",
      "r2 : 0.8621251835510687\n"
     ]
    },
    {
     "name": "stderr",
     "output_type": "stream",
     "text": [
      "[I 2023-06-21 03:27:15,849] Trial 11 finished with value: 14527235499.961065 and parameters: {'n_estimators': 2869, 'learning_rate': 0.02014330784319636, 'max_depth': 9, 'min_child_weight': 8, 'gamma': 0.49608564627673896, 'subsample': 0.6200260300341991, 'colsample_bytree': 0.990564602281838}. Best is trial 11 with value: 14527235499.961065.\n"
     ]
    },
    {
     "name": "stdout",
     "output_type": "stream",
     "text": [
      "mse : 14527235499.961065\n",
      "rmse : 120528.9819917229\n",
      "r2 : 0.8780736505172958\n"
     ]
    },
    {
     "name": "stderr",
     "output_type": "stream",
     "text": [
      "[I 2023-06-21 03:27:48,132] Trial 12 finished with value: 17061021655.502102 and parameters: {'n_estimators': 2849, 'learning_rate': 0.18129203816252892, 'max_depth': 8, 'min_child_weight': 8, 'gamma': 0.33078730293053826, 'subsample': 0.5013145187397894, 'colsample_bytree': 0.8581612329369507}. Best is trial 11 with value: 14527235499.961065.\n"
     ]
    },
    {
     "name": "stdout",
     "output_type": "stream",
     "text": [
      "mse : 17061021655.502102\n",
      "rmse : 130617.8458538576\n",
      "r2 : 0.8568077120449855\n"
     ]
    },
    {
     "name": "stderr",
     "output_type": "stream",
     "text": [
      "[I 2023-06-21 03:27:49,014] Trial 13 finished with value: 12934381338.58414 and parameters: {'n_estimators': 140, 'learning_rate': 0.19913548812211873, 'max_depth': 3, 'min_child_weight': 8, 'gamma': 0.48937509512048755, 'subsample': 0.6193279441921997, 'colsample_bytree': 0.9953764862947261}. Best is trial 13 with value: 12934381338.58414.\n"
     ]
    },
    {
     "name": "stdout",
     "output_type": "stream",
     "text": [
      "mse : 12934381338.58414\n",
      "rmse : 113729.4216048958\n",
      "r2 : 0.8914423945674314\n"
     ]
    },
    {
     "name": "stderr",
     "output_type": "stream",
     "text": [
      "[I 2023-06-21 03:27:50,986] Trial 14 finished with value: 13190794944.209352 and parameters: {'n_estimators': 422, 'learning_rate': 0.228797899936088, 'max_depth': 3, 'min_child_weight': 8, 'gamma': 0.4973322991374105, 'subsample': 0.6219344087378753, 'colsample_bytree': 0.8482470395912967}. Best is trial 13 with value: 12934381338.58414.\n"
     ]
    },
    {
     "name": "stdout",
     "output_type": "stream",
     "text": [
      "mse : 13190794944.209352\n",
      "rmse : 114851.18608098634\n",
      "r2 : 0.8892903282027287\n"
     ]
    },
    {
     "name": "stderr",
     "output_type": "stream",
     "text": [
      "[I 2023-06-21 03:27:52,586] Trial 15 finished with value: 13130541143.358717 and parameters: {'n_estimators': 256, 'learning_rate': 0.2284918144636654, 'max_depth': 3, 'min_child_weight': 6, 'gamma': 0.42046616097073086, 'subsample': 0.6202338610355873, 'colsample_bytree': 0.8380053794588735}. Best is trial 13 with value: 12934381338.58414.\n"
     ]
    },
    {
     "name": "stdout",
     "output_type": "stream",
     "text": [
      "mse : 13130541143.358717\n",
      "rmse : 114588.57335423422\n",
      "r2 : 0.8897960352920229\n"
     ]
    },
    {
     "name": "stderr",
     "output_type": "stream",
     "text": [
      "[I 2023-06-21 03:27:53,494] Trial 16 finished with value: 13144960169.78424 and parameters: {'n_estimators': 231, 'learning_rate': 0.2610310927993158, 'max_depth': 2, 'min_child_weight': 6, 'gamma': 0.40960785303304104, 'subsample': 0.7190438457551609, 'colsample_bytree': 0.7597855145918951}. Best is trial 13 with value: 12934381338.58414.\n"
     ]
    },
    {
     "name": "stdout",
     "output_type": "stream",
     "text": [
      "mse : 13144960169.78424\n",
      "rmse : 114651.47260190007\n",
      "r2 : 0.8896750171358043\n"
     ]
    },
    {
     "name": "stderr",
     "output_type": "stream",
     "text": [
      "[I 2023-06-21 03:27:59,485] Trial 17 finished with value: 15498124759.769798 and parameters: {'n_estimators': 1613, 'learning_rate': 0.32197266609492003, 'max_depth': 3, 'min_child_weight': 6, 'gamma': 0.3092066118299925, 'subsample': 0.5942963821188334, 'colsample_bytree': 0.8340115037294081}. Best is trial 13 with value: 12934381338.58414.\n"
     ]
    },
    {
     "name": "stdout",
     "output_type": "stream",
     "text": [
      "mse : 15498124759.769798\n",
      "rmse : 124491.46460609176\n",
      "r2 : 0.8699250262865699\n"
     ]
    },
    {
     "name": "stderr",
     "output_type": "stream",
     "text": [
      "[I 2023-06-21 03:28:01,186] Trial 18 finished with value: 14843593173.242165 and parameters: {'n_estimators': 728, 'learning_rate': 0.17382775443523524, 'max_depth': 1, 'min_child_weight': 5, 'gamma': 0.42118129670567905, 'subsample': 0.58558612161374, 'colsample_bytree': 0.6897834017900559}. Best is trial 13 with value: 12934381338.58414.\n"
     ]
    },
    {
     "name": "stdout",
     "output_type": "stream",
     "text": [
      "mse : 14843593173.242165\n",
      "rmse : 121834.28570497782\n",
      "r2 : 0.8754184766382662\n"
     ]
    },
    {
     "name": "stderr",
     "output_type": "stream",
     "text": [
      "[I 2023-06-21 03:28:04,525] Trial 19 finished with value: 14893329314.317873 and parameters: {'n_estimators': 876, 'learning_rate': 0.39181392253942166, 'max_depth': 3, 'min_child_weight': 9, 'gamma': 0.4436249065991832, 'subsample': 0.7322004708350649, 'colsample_bytree': 0.9141700359757872}. Best is trial 13 with value: 12934381338.58414.\n"
     ]
    },
    {
     "name": "stdout",
     "output_type": "stream",
     "text": [
      "mse : 14893329314.317873\n",
      "rmse : 122038.2289051995\n",
      "r2 : 0.8750010437331045\n"
     ]
    },
    {
     "name": "stderr",
     "output_type": "stream",
     "text": [
      "[I 2023-06-21 03:28:05,537] Trial 20 finished with value: 12602230661.920713 and parameters: {'n_estimators': 175, 'learning_rate': 0.1306992573846224, 'max_depth': 4, 'min_child_weight': 1, 'gamma': 0.366276975479945, 'subsample': 0.6659033539996633, 'colsample_bytree': 0.8078524708873132}. Best is trial 20 with value: 12602230661.920713.\n"
     ]
    },
    {
     "name": "stdout",
     "output_type": "stream",
     "text": [
      "mse : 12602230661.920713\n",
      "rmse : 112259.65732141139\n",
      "r2 : 0.8942301183214718\n"
     ]
    },
    {
     "name": "stderr",
     "output_type": "stream",
     "text": [
      "[I 2023-06-21 03:28:06,331] Trial 21 finished with value: 12610179385.489012 and parameters: {'n_estimators': 133, 'learning_rate': 0.13967634512868446, 'max_depth': 4, 'min_child_weight': 2, 'gamma': 0.37055259807477625, 'subsample': 0.6567509762294781, 'colsample_bytree': 0.8075624207588001}. Best is trial 20 with value: 12602230661.920713.\n"
     ]
    },
    {
     "name": "stdout",
     "output_type": "stream",
     "text": [
      "mse : 12610179385.489012\n",
      "rmse : 112295.05503578068\n",
      "r2 : 0.8941634050884048\n"
     ]
    },
    {
     "name": "stderr",
     "output_type": "stream",
     "text": [
      "[I 2023-06-21 03:28:07,110] Trial 22 finished with value: 12580138931.304369 and parameters: {'n_estimators': 125, 'learning_rate': 0.12217081212445782, 'max_depth': 4, 'min_child_weight': 1, 'gamma': 0.3630254112745084, 'subsample': 0.6797348809324225, 'colsample_bytree': 0.7169624913459344}. Best is trial 22 with value: 12580138931.304369.\n"
     ]
    },
    {
     "name": "stdout",
     "output_type": "stream",
     "text": [
      "mse : 12580138931.304369\n",
      "rmse : 112161.21848172108\n",
      "r2 : 0.8944155330941458\n"
     ]
    },
    {
     "name": "stderr",
     "output_type": "stream",
     "text": [
      "[I 2023-06-21 03:28:13,757] Trial 23 finished with value: 13960792834.164314 and parameters: {'n_estimators': 1637, 'learning_rate': 0.11203103538422651, 'max_depth': 4, 'min_child_weight': 1, 'gamma': 0.35870269515845454, 'subsample': 0.6855814841785538, 'colsample_bytree': 0.6760045110867549}. Best is trial 22 with value: 12580138931.304369.\n"
     ]
    },
    {
     "name": "stdout",
     "output_type": "stream",
     "text": [
      "mse : 13960792834.164314\n",
      "rmse : 118155.79898661053\n",
      "r2 : 0.8828277750327299\n"
     ]
    },
    {
     "name": "stderr",
     "output_type": "stream",
     "text": [
      "[I 2023-06-21 03:28:16,806] Trial 24 finished with value: 13275723878.34559 and parameters: {'n_estimators': 545, 'learning_rate': 0.11034903046355962, 'max_depth': 4, 'min_child_weight': 2, 'gamma': 0.29942273729743885, 'subsample': 0.7457245983206137, 'colsample_bytree': 0.7869072216837585}. Best is trial 22 with value: 12580138931.304369.\n"
     ]
    },
    {
     "name": "stdout",
     "output_type": "stream",
     "text": [
      "mse : 13275723878.34559\n",
      "rmse : 115220.32753965592\n",
      "r2 : 0.8885775239734095\n"
     ]
    },
    {
     "name": "stderr",
     "output_type": "stream",
     "text": [
      "[I 2023-06-21 03:28:17,570] Trial 25 finished with value: 12746927736.118097 and parameters: {'n_estimators': 107, 'learning_rate': 0.11805884574743324, 'max_depth': 5, 'min_child_weight': 2, 'gamma': 0.36409592229333243, 'subsample': 0.7020313590855699, 'colsample_bytree': 0.700357490654338}. Best is trial 22 with value: 12580138931.304369.\n"
     ]
    },
    {
     "name": "stdout",
     "output_type": "stream",
     "text": [
      "mse : 12746927736.118097\n",
      "rmse : 112902.29287360863\n",
      "r2 : 0.8930156831291902\n"
     ]
    },
    {
     "name": "stderr",
     "output_type": "stream",
     "text": [
      "[I 2023-06-21 03:28:23,209] Trial 26 finished with value: 16848435243.220903 and parameters: {'n_estimators': 874, 'learning_rate': 0.2944728834913871, 'max_depth': 6, 'min_child_weight': 2, 'gamma': 0.289537579664759, 'subsample': 0.6692594839994792, 'colsample_bytree': 0.7253287462431733}. Best is trial 22 with value: 12580138931.304369.\n"
     ]
    },
    {
     "name": "stdout",
     "output_type": "stream",
     "text": [
      "mse : 16848435243.220903\n",
      "rmse : 129801.52249962595\n",
      "r2 : 0.8585919390026293\n"
     ]
    },
    {
     "name": "stderr",
     "output_type": "stream",
     "text": [
      "[I 2023-06-21 03:28:24,725] Trial 27 finished with value: 14727470003.243723 and parameters: {'n_estimators': 481, 'learning_rate': 0.029543656308059996, 'max_depth': 2, 'min_child_weight': 1, 'gamma': 0.3402234922216727, 'subsample': 0.7130661912387806, 'colsample_bytree': 0.796557772730552}. Best is trial 22 with value: 12580138931.304369.\n"
     ]
    },
    {
     "name": "stdout",
     "output_type": "stream",
     "text": [
      "mse : 14727470003.243723\n",
      "rmse : 121356.78803941591\n",
      "r2 : 0.8763930925043275\n"
     ]
    },
    {
     "name": "stderr",
     "output_type": "stream",
     "text": [
      "[I 2023-06-21 03:28:30,588] Trial 28 finished with value: 14906057038.681217 and parameters: {'n_estimators': 1424, 'learning_rate': 0.1880617358373256, 'max_depth': 4, 'min_child_weight': 3, 'gamma': 0.3740937727714958, 'subsample': 0.6628528363819335, 'colsample_bytree': 0.7213997983179834}. Best is trial 22 with value: 12580138931.304369.\n"
     ]
    },
    {
     "name": "stdout",
     "output_type": "stream",
     "text": [
      "mse : 14906057038.681217\n",
      "rmse : 122090.36423355128\n",
      "r2 : 0.8748942205891658\n"
     ]
    },
    {
     "name": "stderr",
     "output_type": "stream",
     "text": [
      "[I 2023-06-21 03:28:34,773] Trial 29 finished with value: 13653964485.175457 and parameters: {'n_estimators': 1975, 'learning_rate': 0.13476247191448326, 'max_depth': 2, 'min_child_weight': 2, 'gamma': 0.27123402107695366, 'subsample': 0.7654501626398397, 'colsample_bytree': 0.8033155361453291}. Best is trial 22 with value: 12580138931.304369.\n"
     ]
    },
    {
     "name": "stdout",
     "output_type": "stream",
     "text": [
      "mse : 13653964485.175457\n",
      "rmse : 116850.17965401447\n",
      "r2 : 0.88540296977712\n"
     ]
    },
    {
     "name": "stderr",
     "output_type": "stream",
     "text": [
      "[I 2023-06-21 03:28:38,213] Trial 30 finished with value: 13280778603.998 and parameters: {'n_estimators': 873, 'learning_rate': 0.07182689888249577, 'max_depth': 5, 'min_child_weight': 4, 'gamma': 0.3273796511132223, 'subsample': 0.78679052045866, 'colsample_bytree': 0.6443943994534264}. Best is trial 22 with value: 12580138931.304369.\n"
     ]
    },
    {
     "name": "stdout",
     "output_type": "stream",
     "text": [
      "mse : 13280778603.998\n",
      "rmse : 115242.26049500244\n",
      "r2 : 0.8885350999178184\n"
     ]
    },
    {
     "name": "stderr",
     "output_type": "stream",
     "text": [
      "[I 2023-06-21 03:28:39,328] Trial 31 finished with value: 13253972027.30842 and parameters: {'n_estimators': 218, 'learning_rate': 0.13836313226709146, 'max_depth': 5, 'min_child_weight': 2, 'gamma': 0.37292270682817363, 'subsample': 0.700250758082988, 'colsample_bytree': 0.7353333761291717}. Best is trial 22 with value: 12580138931.304369.\n"
     ]
    },
    {
     "name": "stdout",
     "output_type": "stream",
     "text": [
      "mse : 13253972027.30842\n",
      "rmse : 115125.89642347381\n",
      "r2 : 0.8887600861540433\n"
     ]
    },
    {
     "name": "stderr",
     "output_type": "stream",
     "text": [
      "[I 2023-06-21 03:28:40,773] Trial 32 finished with value: 12564348559.491356 and parameters: {'n_estimators': 379, 'learning_rate': 0.07801132041408566, 'max_depth': 4, 'min_child_weight': 1, 'gamma': 0.3944815524631612, 'subsample': 0.6503254913915221, 'colsample_bytree': 0.7610903968062936}. Best is trial 32 with value: 12564348559.491356.\n"
     ]
    },
    {
     "name": "stdout",
     "output_type": "stream",
     "text": [
      "mse : 12564348559.491356\n",
      "rmse : 112090.8049729832\n",
      "r2 : 0.8945480608825293\n"
     ]
    },
    {
     "name": "stderr",
     "output_type": "stream",
     "text": [
      "[I 2023-06-21 03:28:42,374] Trial 33 finished with value: 12733151184.696543 and parameters: {'n_estimators': 420, 'learning_rate': 0.08443893911389919, 'max_depth': 4, 'min_child_weight': 1, 'gamma': 0.3947721679072599, 'subsample': 0.6511763992878884, 'colsample_bytree': 0.769483074869024}. Best is trial 32 with value: 12564348559.491356.\n"
     ]
    },
    {
     "name": "stdout",
     "output_type": "stream",
     "text": [
      "mse : 12733151184.696543\n",
      "rmse : 112841.26543377888\n",
      "r2 : 0.893131309025342\n"
     ]
    },
    {
     "name": "stderr",
     "output_type": "stream",
     "text": [
      "[I 2023-06-21 03:28:44,975] Trial 34 finished with value: 14226223037.530037 and parameters: {'n_estimators': 692, 'learning_rate': 0.17353718052009245, 'max_depth': 4, 'min_child_weight': 1, 'gamma': 0.4482741390839801, 'subsample': 0.5783712246570184, 'colsample_bytree': 0.7437828163608879}. Best is trial 32 with value: 12564348559.491356.\n"
     ]
    },
    {
     "name": "stdout",
     "output_type": "stream",
     "text": [
      "mse : 14226223037.530037\n",
      "rmse : 119273.73154861064\n",
      "r2 : 0.8806000328212871\n"
     ]
    },
    {
     "name": "stderr",
     "output_type": "stream",
     "text": [
      "[I 2023-06-21 03:28:50,765] Trial 35 finished with value: 14076255724.212824 and parameters: {'n_estimators': 1084, 'learning_rate': 0.06051491422239975, 'max_depth': 6, 'min_child_weight': 3, 'gamma': 0.3987222564818303, 'subsample': 0.6480471860573948, 'colsample_bytree': 0.7694094232208665}. Best is trial 32 with value: 12564348559.491356.\n"
     ]
    },
    {
     "name": "stdout",
     "output_type": "stream",
     "text": [
      "mse : 14076255724.212824\n",
      "rmse : 118643.39730559313\n",
      "r2 : 0.8818587008627423\n"
     ]
    },
    {
     "name": "stderr",
     "output_type": "stream",
     "text": [
      "[I 2023-06-21 03:28:51,696] Trial 36 finished with value: 13160248571.8125 and parameters: {'n_estimators': 301, 'learning_rate': 0.2508938959978233, 'max_depth': 2, 'min_child_weight': 4, 'gamma': 0.3406092315261084, 'subsample': 0.6845261733156515, 'colsample_bytree': 0.8190163686819142}. Best is trial 32 with value: 12564348559.491356.\n"
     ]
    },
    {
     "name": "stdout",
     "output_type": "stream",
     "text": [
      "mse : 13160248571.8125\n",
      "rmse : 114718.12660522529\n",
      "r2 : 0.8895467023543213\n"
     ]
    },
    {
     "name": "stderr",
     "output_type": "stream",
     "text": [
      "[I 2023-06-21 03:28:52,399] Trial 37 finished with value: 119021430029.44026 and parameters: {'n_estimators': 105, 'learning_rate': 0.010063142886299808, 'max_depth': 6, 'min_child_weight': 1, 'gamma': 0.385555718425162, 'subsample': 0.644942947081043, 'colsample_bytree': 0.7885953075644871}. Best is trial 32 with value: 12564348559.491356.\n"
     ]
    },
    {
     "name": "stdout",
     "output_type": "stream",
     "text": [
      "mse : 119021430029.44026\n",
      "rmse : 344994.8260908274\n",
      "r2 : 0.0010591847471835836\n"
     ]
    },
    {
     "name": "stderr",
     "output_type": "stream",
     "text": [
      "[I 2023-06-21 03:28:54,959] Trial 38 finished with value: 12876892175.333809 and parameters: {'n_estimators': 687, 'learning_rate': 0.08150776715016814, 'max_depth': 4, 'min_child_weight': 2, 'gamma': 0.454276169888702, 'subsample': 0.5769763569726974, 'colsample_bytree': 0.748486425566977}. Best is trial 32 with value: 12564348559.491356.\n"
     ]
    },
    {
     "name": "stdout",
     "output_type": "stream",
     "text": [
      "mse : 12876892175.333809\n",
      "rmse : 113476.39479351557\n",
      "r2 : 0.8919248981938059\n"
     ]
    },
    {
     "name": "stderr",
     "output_type": "stream",
     "text": [
      "[I 2023-06-21 03:28:57,092] Trial 39 finished with value: 14194902645.363928 and parameters: {'n_estimators': 464, 'learning_rate': 0.16290750624380285, 'max_depth': 5, 'min_child_weight': 3, 'gamma': 0.3515118188831606, 'subsample': 0.7420283546484702, 'colsample_bytree': 0.8711993717188342}. Best is trial 32 with value: 12564348559.491356.\n"
     ]
    },
    {
     "name": "stdout",
     "output_type": "stream",
     "text": [
      "mse : 14194902645.363928\n",
      "rmse : 119142.36293344163\n",
      "r2 : 0.8808629032814782\n"
     ]
    },
    {
     "name": "stderr",
     "output_type": "stream",
     "text": [
      "[I 2023-06-21 03:29:02,948] Trial 40 finished with value: 16101469559.373276 and parameters: {'n_estimators': 1977, 'learning_rate': 0.352973455733945, 'max_depth': 3, 'min_child_weight': 1, 'gamma': 0.2649254139293404, 'subsample': 0.6862915513949046, 'colsample_bytree': 0.8128819098514654}. Best is trial 32 with value: 12564348559.491356.\n"
     ]
    },
    {
     "name": "stdout",
     "output_type": "stream",
     "text": [
      "mse : 16101469559.373276\n",
      "rmse : 126891.56614753116\n",
      "r2 : 0.86486118403694\n"
     ]
    },
    {
     "name": "stderr",
     "output_type": "stream",
     "text": [
      "[I 2023-06-21 03:29:04,401] Trial 41 finished with value: 12591983637.6673 and parameters: {'n_estimators': 353, 'learning_rate': 0.08533217986593056, 'max_depth': 4, 'min_child_weight': 1, 'gamma': 0.3884937079342876, 'subsample': 0.6507753750848021, 'colsample_bytree': 0.7729855414885193}. Best is trial 32 with value: 12564348559.491356.\n"
     ]
    },
    {
     "name": "stdout",
     "output_type": "stream",
     "text": [
      "mse : 12591983637.6673\n",
      "rmse : 112214.0082060493\n",
      "r2 : 0.894316121075422\n"
     ]
    },
    {
     "name": "stderr",
     "output_type": "stream",
     "text": [
      "[I 2023-06-21 03:29:05,788] Trial 42 finished with value: 12726259773.614223 and parameters: {'n_estimators': 363, 'learning_rate': 0.09721010053379964, 'max_depth': 4, 'min_child_weight': 2, 'gamma': 0.41825999006124437, 'subsample': 0.6638088202380427, 'colsample_bytree': 0.7675705723470518}. Best is trial 32 with value: 12564348559.491356.\n"
     ]
    },
    {
     "name": "stdout",
     "output_type": "stream",
     "text": [
      "mse : 12726259773.614223\n",
      "rmse : 112810.72543696465\n",
      "r2 : 0.893189148288432\n"
     ]
    },
    {
     "name": "stderr",
     "output_type": "stream",
     "text": [
      "[I 2023-06-21 03:29:09,457] Trial 43 finished with value: 12874258128.108236 and parameters: {'n_estimators': 838, 'learning_rate': 0.058426083589118216, 'max_depth': 5, 'min_child_weight': 1, 'gamma': 0.38151978318590285, 'subsample': 0.6385205476194009, 'colsample_bytree': 0.7791978456670492}. Best is trial 32 with value: 12564348559.491356.\n"
     ]
    },
    {
     "name": "stdout",
     "output_type": "stream",
     "text": [
      "mse : 12874258128.108236\n",
      "rmse : 113464.78805386381\n",
      "r2 : 0.8919470056183452\n"
     ]
    },
    {
     "name": "stderr",
     "output_type": "stream",
     "text": [
      "[I 2023-06-21 03:29:11,283] Trial 44 finished with value: 13173758549.149437 and parameters: {'n_estimators': 565, 'learning_rate': 0.14637483278481983, 'max_depth': 3, 'min_child_weight': 1, 'gamma': 0.3202223986848972, 'subsample': 0.7179521573308889, 'colsample_bytree': 0.8107385283280291}. Best is trial 32 with value: 12564348559.491356.\n"
     ]
    },
    {
     "name": "stdout",
     "output_type": "stream",
     "text": [
      "mse : 13173758549.149437\n",
      "rmse : 114776.99486024817\n",
      "r2 : 0.8894333138009182\n"
     ]
    },
    {
     "name": "stderr",
     "output_type": "stream",
     "text": [
      "[I 2023-06-21 03:29:15,676] Trial 45 finished with value: 15843203386.644001 and parameters: {'n_estimators': 1239, 'learning_rate': 0.23720398541693943, 'max_depth': 4, 'min_child_weight': 2, 'gamma': 0.352760294551856, 'subsample': 0.5998289233608987, 'colsample_bytree': 0.7167552028755955}. Best is trial 32 with value: 12564348559.491356.\n"
     ]
    },
    {
     "name": "stdout",
     "output_type": "stream",
     "text": [
      "mse : 15843203386.644001\n",
      "rmse : 125869.78742591091\n",
      "r2 : 0.8670287989032258\n"
     ]
    },
    {
     "name": "stderr",
     "output_type": "stream",
     "text": [
      "[I 2023-06-21 03:29:17,123] Trial 46 finished with value: 14027117788.127449 and parameters: {'n_estimators': 305, 'learning_rate': 0.20850917080609338, 'max_depth': 5, 'min_child_weight': 3, 'gamma': 0.4342441772209635, 'subsample': 0.5579738759796509, 'colsample_bytree': 0.7476506030051135}. Best is trial 32 with value: 12564348559.491356.\n"
     ]
    },
    {
     "name": "stdout",
     "output_type": "stream",
     "text": [
      "mse : 14027117788.127449\n",
      "rmse : 118436.1337942414\n",
      "r2 : 0.8822711130638126\n"
     ]
    },
    {
     "name": "stderr",
     "output_type": "stream",
     "text": [
      "[I 2023-06-21 03:29:31,031] Trial 47 finished with value: 13227266711.93185 and parameters: {'n_estimators': 2419, 'learning_rate': 0.012506347901565393, 'max_depth': 7, 'min_child_weight': 4, 'gamma': 0.47130728344985995, 'subsample': 0.6329245687083191, 'colsample_bytree': 0.8228541522550651}. Best is trial 32 with value: 12564348559.491356.\n"
     ]
    },
    {
     "name": "stdout",
     "output_type": "stream",
     "text": [
      "mse : 13227266711.93185\n",
      "rmse : 115009.8548470167\n",
      "r2 : 0.8889842225092128\n"
     ]
    },
    {
     "name": "stderr",
     "output_type": "stream",
     "text": [
      "[I 2023-06-21 03:29:41,273] Trial 48 finished with value: 14944348186.493277 and parameters: {'n_estimators': 1019, 'learning_rate': 0.1395116378544001, 'max_depth': 10, 'min_child_weight': 1, 'gamma': 0.40256089520141053, 'subsample': 0.6717746478975483, 'colsample_bytree': 0.7854753533423133}. Best is trial 32 with value: 12564348559.491356.\n"
     ]
    },
    {
     "name": "stdout",
     "output_type": "stream",
     "text": [
      "mse : 14944348186.493277\n",
      "rmse : 122247.078437455\n",
      "r2 : 0.8745728449309933\n"
     ]
    },
    {
     "name": "stderr",
     "output_type": "stream",
     "text": [
      "[I 2023-06-21 03:29:41,987] Trial 49 finished with value: 13889651385.93255 and parameters: {'n_estimators': 104, 'learning_rate': 0.27112501316881077, 'max_depth': 6, 'min_child_weight': 2, 'gamma': 0.31821826849151835, 'subsample': 0.6117157705332075, 'colsample_bytree': 0.7550397104336073}. Best is trial 32 with value: 12564348559.491356.\n"
     ]
    },
    {
     "name": "stdout",
     "output_type": "stream",
     "text": [
      "mse : 13889651385.93255\n",
      "rmse : 117854.36515434016\n",
      "r2 : 0.8834248615933377\n"
     ]
    },
    {
     "name": "stderr",
     "output_type": "stream",
     "text": [
      "[I 2023-06-21 03:29:51,643] Trial 50 finished with value: 13632362101.71656 and parameters: {'n_estimators': 3536, 'learning_rate': 0.05704830137982657, 'max_depth': 3, 'min_child_weight': 3, 'gamma': 0.37078261763000886, 'subsample': 0.6368099589841902, 'colsample_bytree': 0.864754632823795}. Best is trial 32 with value: 12564348559.491356.\n"
     ]
    },
    {
     "name": "stdout",
     "output_type": "stream",
     "text": [
      "mse : 13632362101.71656\n",
      "rmse : 116757.706819364\n",
      "r2 : 0.8855842774839631\n"
     ]
    },
    {
     "name": "stderr",
     "output_type": "stream",
     "text": [
      "[I 2023-06-21 03:29:53,189] Trial 51 finished with value: 12833803029.446844 and parameters: {'n_estimators': 380, 'learning_rate': 0.09340118375252918, 'max_depth': 4, 'min_child_weight': 2, 'gamma': 0.41382471324432857, 'subsample': 0.6623007428952169, 'colsample_bytree': 0.7751382142281653}. Best is trial 32 with value: 12564348559.491356.\n"
     ]
    },
    {
     "name": "stdout",
     "output_type": "stream",
     "text": [
      "mse : 12833803029.446844\n",
      "rmse : 113286.37618640135\n",
      "r2 : 0.8922865432060547\n"
     ]
    },
    {
     "name": "stderr",
     "output_type": "stream",
     "text": [
      "[I 2023-06-21 03:29:55,245] Trial 52 finished with value: 13810692328.822659 and parameters: {'n_estimators': 593, 'learning_rate': 0.20473940896662882, 'max_depth': 4, 'min_child_weight': 1, 'gamma': 0.43242936678627864, 'subsample': 0.6956232937770133, 'colsample_bytree': 0.7616204911484703}. Best is trial 32 with value: 12564348559.491356.\n"
     ]
    },
    {
     "name": "stdout",
     "output_type": "stream",
     "text": [
      "mse : 13810692328.822659\n",
      "rmse : 117518.9020065396\n",
      "r2 : 0.8840875609480794\n"
     ]
    },
    {
     "name": "stderr",
     "output_type": "stream",
     "text": [
      "[I 2023-06-21 03:29:56,286] Trial 53 finished with value: 12990830254.24315 and parameters: {'n_estimators': 326, 'learning_rate': 0.12122329894866547, 'max_depth': 3, 'min_child_weight': 2, 'gamma': 0.46150538565937627, 'subsample': 0.6696868822291622, 'colsample_bytree': 0.8009484766608097}. Best is trial 32 with value: 12564348559.491356.\n"
     ]
    },
    {
     "name": "stdout",
     "output_type": "stream",
     "text": [
      "mse : 12990830254.24315\n",
      "rmse : 113977.32342112246\n",
      "r2 : 0.8909686216862401\n"
     ]
    },
    {
     "name": "stderr",
     "output_type": "stream",
     "text": [
      "[I 2023-06-21 03:29:59,031] Trial 54 finished with value: 12627489804.084726 and parameters: {'n_estimators': 722, 'learning_rate': 0.05258184077529858, 'max_depth': 4, 'min_child_weight': 1, 'gamma': 0.3958462520391114, 'subsample': 0.6067556949407075, 'colsample_bytree': 0.843028077751234}. Best is trial 32 with value: 12564348559.491356.\n"
     ]
    },
    {
     "name": "stdout",
     "output_type": "stream",
     "text": [
      "mse : 12627489804.084726\n",
      "rmse : 112372.10420778248\n",
      "r2 : 0.8940181196246013\n"
     ]
    },
    {
     "name": "stderr",
     "output_type": "stream",
     "text": [
      "[I 2023-06-21 03:30:02,378] Trial 55 finished with value: 12818909190.200184 and parameters: {'n_estimators': 774, 'learning_rate': 0.04561163793484049, 'max_depth': 5, 'min_child_weight': 1, 'gamma': 0.39186057728736434, 'subsample': 0.6115952981423334, 'colsample_bytree': 0.8502611920216778}. Best is trial 32 with value: 12564348559.491356.\n"
     ]
    },
    {
     "name": "stdout",
     "output_type": "stream",
     "text": [
      "mse : 12818909190.200184\n",
      "rmse : 113220.62175328391\n",
      "r2 : 0.8924115464421578\n"
     ]
    },
    {
     "name": "stderr",
     "output_type": "stream",
     "text": [
      "[I 2023-06-21 03:30:04,124] Trial 56 finished with value: 13279720874.226273 and parameters: {'n_estimators': 572, 'learning_rate': 0.17554515697092637, 'max_depth': 3, 'min_child_weight': 1, 'gamma': 0.3479143249991917, 'subsample': 0.6350163020377692, 'colsample_bytree': 0.8858666639452459}. Best is trial 32 with value: 12564348559.491356.\n"
     ]
    },
    {
     "name": "stdout",
     "output_type": "stream",
     "text": [
      "mse : 13279720874.226273\n",
      "rmse : 115237.67124610889\n",
      "r2 : 0.8885439773900536\n"
     ]
    },
    {
     "name": "stderr",
     "output_type": "stream",
     "text": [
      "[I 2023-06-21 03:30:04,872] Trial 57 finished with value: 15387599860.303934 and parameters: {'n_estimators': 255, 'learning_rate': 0.04530364762672616, 'max_depth': 2, 'min_child_weight': 1, 'gamma': 0.42778015831014804, 'subsample': 0.5637812523074919, 'colsample_bytree': 0.8260972272240731}. Best is trial 32 with value: 12564348559.491356.\n"
     ]
    },
    {
     "name": "stdout",
     "output_type": "stream",
     "text": [
      "mse : 15387599860.303934\n",
      "rmse : 124046.76481192057\n",
      "r2 : 0.8708526561524761\n"
     ]
    },
    {
     "name": "stderr",
     "output_type": "stream",
     "text": [
      "[I 2023-06-21 03:30:05,722] Trial 58 finished with value: 12458223372.467896 and parameters: {'n_estimators': 202, 'learning_rate': 0.09790306009372614, 'max_depth': 4, 'min_child_weight': 7, 'gamma': 0.4073519144402411, 'subsample': 0.618582732457342, 'colsample_bytree': 0.8416296810094833}. Best is trial 58 with value: 12458223372.467896.\n"
     ]
    },
    {
     "name": "stdout",
     "output_type": "stream",
     "text": [
      "mse : 12458223372.467896\n",
      "rmse : 111616.41175233996\n",
      "r2 : 0.8954387641854373\n"
     ]
    },
    {
     "name": "stderr",
     "output_type": "stream",
     "text": [
      "[I 2023-06-21 03:30:06,704] Trial 59 finished with value: 12980929823.670324 and parameters: {'n_estimators': 207, 'learning_rate': 0.1570347856711491, 'max_depth': 4, 'min_child_weight': 7, 'gamma': 0.365237642460874, 'subsample': 0.6250437911799365, 'colsample_bytree': 0.8298163384914585}. Best is trial 58 with value: 12458223372.467896.\n"
     ]
    },
    {
     "name": "stdout",
     "output_type": "stream",
     "text": [
      "mse : 12980929823.670324\n",
      "rmse : 113933.88356266245\n",
      "r2 : 0.8910517154970381\n"
     ]
    },
    {
     "name": "stderr",
     "output_type": "stream",
     "text": [
      "[I 2023-06-21 03:30:17,703] Trial 60 finished with value: 16965571432.287102 and parameters: {'n_estimators': 2722, 'learning_rate': 0.20681167675238055, 'max_depth': 5, 'min_child_weight': 9, 'gamma': 0.4119747070115802, 'subsample': 0.6513049859149365, 'colsample_bytree': 0.7973314141617225}. Best is trial 58 with value: 12458223372.467896.\n"
     ]
    },
    {
     "name": "stdout",
     "output_type": "stream",
     "text": [
      "mse : 16965571432.287102\n",
      "rmse : 130251.95366015476\n",
      "r2 : 0.8576088209189998\n"
     ]
    },
    {
     "name": "stderr",
     "output_type": "stream",
     "text": [
      "[I 2023-06-21 03:30:19,365] Trial 61 finished with value: 12930859850.88163 and parameters: {'n_estimators': 442, 'learning_rate': 0.09899493573451924, 'max_depth': 4, 'min_child_weight': 6, 'gamma': 0.38918548338776376, 'subsample': 0.6076689712774216, 'colsample_bytree': 0.8444982297743425}. Best is trial 58 with value: 12458223372.467896.\n"
     ]
    },
    {
     "name": "stdout",
     "output_type": "stream",
     "text": [
      "mse : 12930859850.88163\n",
      "rmse : 113713.93868335416\n",
      "r2 : 0.8914719502348063\n"
     ]
    },
    {
     "name": "stderr",
     "output_type": "stream",
     "text": [
      "[I 2023-06-21 03:30:21,946] Trial 62 finished with value: 13283687129.430267 and parameters: {'n_estimators': 686, 'learning_rate': 0.1217249403379553, 'max_depth': 4, 'min_child_weight': 9, 'gamma': 0.33488305206444785, 'subsample': 0.5842166892824535, 'colsample_bytree': 0.839289790546064}. Best is trial 58 with value: 12458223372.467896.\n"
     ]
    },
    {
     "name": "stdout",
     "output_type": "stream",
     "text": [
      "mse : 13283687129.430267\n",
      "rmse : 115254.87898319215\n",
      "r2 : 0.8885106888116355\n"
     ]
    },
    {
     "name": "stderr",
     "output_type": "stream",
     "text": [
      "[I 2023-06-21 03:30:22,483] Trial 63 finished with value: 107656212855.52151 and parameters: {'n_estimators': 108, 'learning_rate': 0.01088173890133716, 'max_depth': 3, 'min_child_weight': 7, 'gamma': 0.40168658866312423, 'subsample': 0.5956710885019931, 'colsample_bytree': 0.8114404931177832}. Best is trial 58 with value: 12458223372.467896.\n"
     ]
    },
    {
     "name": "stdout",
     "output_type": "stream",
     "text": [
      "mse : 107656212855.52151\n",
      "rmse : 328110.06210648513\n",
      "r2 : 0.09644687506842631\n"
     ]
    },
    {
     "name": "stderr",
     "output_type": "stream",
     "text": [
      "[I 2023-06-21 03:30:23,673] Trial 64 finished with value: 12305386811.323229 and parameters: {'n_estimators': 240, 'learning_rate': 0.07989354345182632, 'max_depth': 5, 'min_child_weight': 1, 'gamma': 0.4422766424720714, 'subsample': 0.613567343533968, 'colsample_bytree': 0.7335005187324098}. Best is trial 64 with value: 12305386811.323229.\n"
     ]
    },
    {
     "name": "stdout",
     "output_type": "stream",
     "text": [
      "mse : 12305386811.323229\n",
      "rmse : 110929.64802668053\n",
      "r2 : 0.8967215136781339\n"
     ]
    },
    {
     "name": "stderr",
     "output_type": "stream",
     "text": [
      "[I 2023-06-21 03:30:27,576] Trial 65 finished with value: 13695337323.833853 and parameters: {'n_estimators': 959, 'learning_rate': 0.08068876248382975, 'max_depth': 5, 'min_child_weight': 2, 'gamma': 0.43671178195978855, 'subsample': 0.6265579329119244, 'colsample_bytree': 0.7311004996307919}. Best is trial 64 with value: 12305386811.323229.\n"
     ]
    },
    {
     "name": "stdout",
     "output_type": "stream",
     "text": [
      "mse : 13695337323.833853\n",
      "rmse : 117027.0794467411\n",
      "r2 : 0.8850557296442421\n"
     ]
    },
    {
     "name": "stderr",
     "output_type": "stream",
     "text": [
      "[I 2023-06-21 03:30:29,019] Trial 66 finished with value: 13036552192.209051 and parameters: {'n_estimators': 248, 'learning_rate': 0.14405446103603403, 'max_depth': 6, 'min_child_weight': 5, 'gamma': 0.3762598692923165, 'subsample': 0.6895380413564398, 'colsample_bytree': 0.6923537180430005}. Best is trial 64 with value: 12305386811.323229.\n"
     ]
    },
    {
     "name": "stdout",
     "output_type": "stream",
     "text": [
      "mse : 13036552192.209051\n",
      "rmse : 114177.72196102465\n",
      "r2 : 0.8905848797838339\n"
     ]
    },
    {
     "name": "stderr",
     "output_type": "stream",
     "text": [
      "[I 2023-06-21 03:30:31,072] Trial 67 finished with value: 13348398827.629314 and parameters: {'n_estimators': 465, 'learning_rate': 0.11906825040023872, 'max_depth': 5, 'min_child_weight': 1, 'gamma': 0.4731394035995596, 'subsample': 0.6563935662940638, 'colsample_bytree': 0.7105485564420863}. Best is trial 64 with value: 12305386811.323229.\n"
     ]
    },
    {
     "name": "stdout",
     "output_type": "stream",
     "text": [
      "mse : 13348398827.629314\n",
      "rmse : 115535.27092463718\n",
      "r2 : 0.8879675668163834\n"
     ]
    },
    {
     "name": "stderr",
     "output_type": "stream",
     "text": [
      "[I 2023-06-21 03:30:32,088] Trial 68 finished with value: 13386540916.379486 and parameters: {'n_estimators': 215, 'learning_rate': 0.21079020785173752, 'max_depth': 5, 'min_child_weight': 1, 'gamma': 0.4460980125466242, 'subsample': 0.6746381246836248, 'colsample_bytree': 0.7393860283911006}. Best is trial 64 with value: 12305386811.323229.\n"
     ]
    },
    {
     "name": "stdout",
     "output_type": "stream",
     "text": [
      "mse : 13386540916.379486\n",
      "rmse : 115700.2200360029\n",
      "r2 : 0.8876474422033442\n"
     ]
    },
    {
     "name": "stderr",
     "output_type": "stream",
     "text": [
      "[I 2023-06-21 03:30:34,104] Trial 69 finished with value: 14020605663.082876 and parameters: {'n_estimators': 524, 'learning_rate': 0.17248663537039616, 'max_depth': 4, 'min_child_weight': 2, 'gamma': 0.3549822609118683, 'subsample': 0.7090996929682921, 'colsample_bytree': 0.7896378805241001}. Best is trial 64 with value: 12305386811.323229.\n"
     ]
    },
    {
     "name": "stdout",
     "output_type": "stream",
     "text": [
      "mse : 14020605663.082876\n",
      "rmse : 118408.63846477956\n",
      "r2 : 0.8823257689984576\n"
     ]
    },
    {
     "name": "stderr",
     "output_type": "stream",
     "text": [
      "[I 2023-06-21 03:30:35,216] Trial 70 finished with value: 12648707154.61697 and parameters: {'n_estimators': 353, 'learning_rate': 0.09500818626774792, 'max_depth': 3, 'min_child_weight': 6, 'gamma': 0.3632587931551546, 'subsample': 0.683950504993332, 'colsample_bytree': 0.7608012511691957}. Best is trial 64 with value: 12305386811.323229.\n"
     ]
    },
    {
     "name": "stdout",
     "output_type": "stream",
     "text": [
      "mse : 12648707154.61697\n",
      "rmse : 112466.47124639845\n",
      "r2 : 0.8938400434795496\n"
     ]
    },
    {
     "name": "stderr",
     "output_type": "stream",
     "text": [
      "[I 2023-06-21 03:30:37,421] Trial 71 finished with value: 12363802890.87023 and parameters: {'n_estimators': 629, 'learning_rate': 0.04120554802047878, 'max_depth': 4, 'min_child_weight': 1, 'gamma': 0.4044227236882307, 'subsample': 0.605043321289976, 'colsample_bytree': 0.730510281910695}. Best is trial 64 with value: 12305386811.323229.\n"
     ]
    },
    {
     "name": "stdout",
     "output_type": "stream",
     "text": [
      "mse : 12363802890.87023\n",
      "rmse : 111192.63865414036\n",
      "r2 : 0.8962312304903742\n"
     ]
    },
    {
     "name": "stderr",
     "output_type": "stream",
     "text": [
      "[I 2023-06-21 03:30:38,243] Trial 72 finished with value: 12975267597.79455 and parameters: {'n_estimators': 180, 'learning_rate': 0.035353858871648484, 'max_depth': 4, 'min_child_weight': 1, 'gamma': 0.42292900881847045, 'subsample': 0.6208178754128728, 'colsample_bytree': 0.70807036630476}. Best is trial 64 with value: 12305386811.323229.\n"
     ]
    },
    {
     "name": "stdout",
     "output_type": "stream",
     "text": [
      "mse : 12975267597.79455\n",
      "rmse : 113909.03211683677\n",
      "r2 : 0.8910992382711393\n"
     ]
    },
    {
     "name": "stderr",
     "output_type": "stream",
     "text": [
      "[I 2023-06-21 03:30:39,731] Trial 73 finished with value: 12412731660.608297 and parameters: {'n_estimators': 367, 'learning_rate': 0.0718319557259044, 'max_depth': 4, 'min_child_weight': 7, 'gamma': 0.38229915260111447, 'subsample': 0.6450371262401822, 'colsample_bytree': 0.7266994298839207}. Best is trial 64 with value: 12305386811.323229.\n"
     ]
    },
    {
     "name": "stdout",
     "output_type": "stream",
     "text": [
      "mse : 12412731660.608297\n",
      "rmse : 111412.43943388143\n",
      "r2 : 0.8958205738118301\n"
     ]
    },
    {
     "name": "stderr",
     "output_type": "stream",
     "text": [
      "[I 2023-06-21 03:30:42,668] Trial 74 finished with value: 13456901128.84889 and parameters: {'n_estimators': 398, 'learning_rate': 0.06523156161602323, 'max_depth': 9, 'min_child_weight': 7, 'gamma': 0.4047584121623919, 'subsample': 0.6298305285817973, 'colsample_bytree': 0.7297897703299204}. Best is trial 64 with value: 12305386811.323229.\n"
     ]
    },
    {
     "name": "stdout",
     "output_type": "stream",
     "text": [
      "mse : 13456901128.84889\n",
      "rmse : 116003.88411104557\n",
      "r2 : 0.8870569125147986\n"
     ]
    },
    {
     "name": "stderr",
     "output_type": "stream",
     "text": [
      "[I 2023-06-21 03:30:44,709] Trial 75 finished with value: 12314979393.580193 and parameters: {'n_estimators': 588, 'learning_rate': 0.0406944881486012, 'max_depth': 4, 'min_child_weight': 7, 'gamma': 0.48419636547023603, 'subsample': 0.5919625624131781, 'colsample_bytree': 0.6790601150048639}. Best is trial 64 with value: 12305386811.323229.\n"
     ]
    },
    {
     "name": "stdout",
     "output_type": "stream",
     "text": [
      "mse : 12314979393.580193\n",
      "rmse : 110972.87683745156\n",
      "r2 : 0.8966410036226106\n"
     ]
    },
    {
     "name": "stderr",
     "output_type": "stream",
     "text": [
      "[I 2023-06-21 03:30:47,297] Trial 76 finished with value: 12317398099.299078 and parameters: {'n_estimators': 631, 'learning_rate': 0.042855724316115805, 'max_depth': 5, 'min_child_weight': 8, 'gamma': 0.483669622854599, 'subsample': 0.5957049946085661, 'colsample_bytree': 0.670986299839534}. Best is trial 64 with value: 12305386811.323229.\n"
     ]
    },
    {
     "name": "stdout",
     "output_type": "stream",
     "text": [
      "mse : 12317398099.299078\n",
      "rmse : 110983.77403611339\n",
      "r2 : 0.8966207035483963\n"
     ]
    },
    {
     "name": "stderr",
     "output_type": "stream",
     "text": [
      "[I 2023-06-21 03:30:51,269] Trial 77 finished with value: 12939268892.715849 and parameters: {'n_estimators': 667, 'learning_rate': 0.03983954506263185, 'max_depth': 8, 'min_child_weight': 8, 'gamma': 0.48236787621385263, 'subsample': 0.5913727999002164, 'colsample_bytree': 0.6687638311778814}. Best is trial 64 with value: 12305386811.323229.\n"
     ]
    },
    {
     "name": "stdout",
     "output_type": "stream",
     "text": [
      "mse : 12939268892.715849\n",
      "rmse : 113750.90721711123\n",
      "r2 : 0.8914013735739202\n"
     ]
    },
    {
     "name": "stderr",
     "output_type": "stream",
     "text": [
      "[I 2023-06-21 03:30:55,991] Trial 78 finished with value: 12582368470.385826 and parameters: {'n_estimators': 1247, 'learning_rate': 0.030665084588179112, 'max_depth': 5, 'min_child_weight': 8, 'gamma': 0.4513872242195267, 'subsample': 0.571522894787845, 'colsample_bytree': 0.6817276366850626}. Best is trial 64 with value: 12305386811.323229.\n"
     ]
    },
    {
     "name": "stdout",
     "output_type": "stream",
     "text": [
      "mse : 12582368470.385826\n",
      "rmse : 112171.15703417624\n",
      "r2 : 0.8943968206859088\n"
     ]
    },
    {
     "name": "stderr",
     "output_type": "stream",
     "text": [
      "[I 2023-06-21 03:31:00,484] Trial 79 finished with value: 13797403544.47019 and parameters: {'n_estimators': 956, 'learning_rate': 0.07487618320339043, 'max_depth': 6, 'min_child_weight': 7, 'gamma': 0.49867845994053717, 'subsample': 0.5373611133442002, 'colsample_bytree': 0.6661242342186873}. Best is trial 64 with value: 12305386811.323229.\n"
     ]
    },
    {
     "name": "stdout",
     "output_type": "stream",
     "text": [
      "mse : 13797403544.47019\n",
      "rmse : 117462.34947620532\n",
      "r2 : 0.8841990930400018\n"
     ]
    },
    {
     "name": "stderr",
     "output_type": "stream",
     "text": [
      "[I 2023-06-21 03:31:03,112] Trial 80 finished with value: 13442617881.002935 and parameters: {'n_estimators': 613, 'learning_rate': 0.10746211875663023, 'max_depth': 5, 'min_child_weight': 7, 'gamma': 0.4908219077443422, 'subsample': 0.555269015544608, 'colsample_bytree': 0.7046141554822702}. Best is trial 64 with value: 12305386811.323229.\n"
     ]
    },
    {
     "name": "stdout",
     "output_type": "stream",
     "text": [
      "mse : 13442617881.002935\n",
      "rmse : 115942.30410425237\n",
      "r2 : 0.8871767910882972\n"
     ]
    },
    {
     "name": "stderr",
     "output_type": "stream",
     "text": [
      "[I 2023-06-21 03:31:09,608] Trial 81 finished with value: 13058022727.743048 and parameters: {'n_estimators': 1772, 'learning_rate': 0.03703149960348287, 'max_depth': 5, 'min_child_weight': 8, 'gamma': 0.4551382946952961, 'subsample': 0.5690632459636904, 'colsample_bytree': 0.685895797997322}. Best is trial 64 with value: 12305386811.323229.\n"
     ]
    },
    {
     "name": "stdout",
     "output_type": "stream",
     "text": [
      "mse : 13058022727.743048\n",
      "rmse : 114271.70571818313\n",
      "r2 : 0.8904046786699258\n"
     ]
    },
    {
     "name": "stderr",
     "output_type": "stream",
     "text": [
      "[I 2023-06-21 03:31:13,125] Trial 82 finished with value: 12218554037.73106 and parameters: {'n_estimators': 761, 'learning_rate': 0.024442841168205245, 'max_depth': 5, 'min_child_weight': 8, 'gamma': 0.4640270177727009, 'subsample': 0.5759526415070689, 'colsample_bytree': 0.7200535216015023}. Best is trial 82 with value: 12218554037.73106.\n"
     ]
    },
    {
     "name": "stdout",
     "output_type": "stream",
     "text": [
      "mse : 12218554037.73106\n",
      "rmse : 110537.56844499096\n",
      "r2 : 0.8974502967352807\n"
     ]
    },
    {
     "name": "stderr",
     "output_type": "stream",
     "text": [
      "[I 2023-06-21 03:31:17,018] Trial 83 finished with value: 12095387308.360468 and parameters: {'n_estimators': 793, 'learning_rate': 0.01260115410866608, 'max_depth': 6, 'min_child_weight': 8, 'gamma': 0.47667627113495337, 'subsample': 0.5881372001677926, 'colsample_bytree': 0.722074146484062}. Best is trial 83 with value: 12095387308.360468.\n"
     ]
    },
    {
     "name": "stdout",
     "output_type": "stream",
     "text": [
      "mse : 12095387308.360468\n",
      "rmse : 109979.03122123083\n",
      "r2 : 0.8984840288372983\n"
     ]
    },
    {
     "name": "stderr",
     "output_type": "stream",
     "text": [
      "[I 2023-06-21 03:31:21,569] Trial 84 finished with value: 12483021335.127647 and parameters: {'n_estimators': 834, 'learning_rate': 0.022038925775681895, 'max_depth': 7, 'min_child_weight': 8, 'gamma': 0.4648394538066651, 'subsample': 0.5852183712459755, 'colsample_bytree': 0.6950554483801434}. Best is trial 83 with value: 12095387308.360468.\n"
     ]
    },
    {
     "name": "stdout",
     "output_type": "stream",
     "text": [
      "mse : 12483021335.127647\n",
      "rmse : 111727.44217571459\n",
      "r2 : 0.8952306361447155\n"
     ]
    },
    {
     "name": "stderr",
     "output_type": "stream",
     "text": [
      "[I 2023-06-21 03:31:25,554] Trial 85 finished with value: 12134511772.945032 and parameters: {'n_estimators': 804, 'learning_rate': 0.014889848101959043, 'max_depth': 6, 'min_child_weight': 9, 'gamma': 0.4686668796960161, 'subsample': 0.5849567263490795, 'colsample_bytree': 0.7221195664572893}. Best is trial 83 with value: 12095387308.360468.\n"
     ]
    },
    {
     "name": "stdout",
     "output_type": "stream",
     "text": [
      "mse : 12134511772.945032\n",
      "rmse : 110156.75999658411\n",
      "r2 : 0.8981556591937916\n"
     ]
    },
    {
     "name": "stderr",
     "output_type": "stream",
     "text": [
      "[I 2023-06-21 03:31:29,289] Trial 86 finished with value: 12181741968.944035 and parameters: {'n_estimators': 770, 'learning_rate': 0.017834659221437947, 'max_depth': 6, 'min_child_weight': 10, 'gamma': 0.48069074629127884, 'subsample': 0.5991837449028541, 'colsample_bytree': 0.7211018132311129}. Best is trial 83 with value: 12095387308.360468.\n"
     ]
    },
    {
     "name": "stdout",
     "output_type": "stream",
     "text": [
      "mse : 12181741968.944035\n",
      "rmse : 110370.92900281321\n",
      "r2 : 0.8977592585583419\n"
     ]
    },
    {
     "name": "stderr",
     "output_type": "stream",
     "text": [
      "[I 2023-06-21 03:31:34,633] Trial 87 finished with value: 12114688442.02554 and parameters: {'n_estimators': 1159, 'learning_rate': 0.01103092304780708, 'max_depth': 6, 'min_child_weight': 10, 'gamma': 0.4823345237357212, 'subsample': 0.599339785488091, 'colsample_bytree': 0.7220944011500685}. Best is trial 83 with value: 12095387308.360468.\n"
     ]
    },
    {
     "name": "stdout",
     "output_type": "stream",
     "text": [
      "mse : 12114688442.02554\n",
      "rmse : 110066.74539580762\n",
      "r2 : 0.8983220354030578\n"
     ]
    },
    {
     "name": "stderr",
     "output_type": "stream",
     "text": [
      "[I 2023-06-21 03:31:40,205] Trial 88 finished with value: 12065316758.057497 and parameters: {'n_estimators': 1160, 'learning_rate': 0.010446365347115766, 'max_depth': 6, 'min_child_weight': 10, 'gamma': 0.4838526274623721, 'subsample': 0.5484813233467711, 'colsample_bytree': 0.7025201506606376}. Best is trial 88 with value: 12065316758.057497.\n"
     ]
    },
    {
     "name": "stdout",
     "output_type": "stream",
     "text": [
      "mse : 12065316758.057497\n",
      "rmse : 109842.23576592702\n",
      "r2 : 0.8987364094382314\n"
     ]
    },
    {
     "name": "stderr",
     "output_type": "stream",
     "text": [
      "[I 2023-06-21 03:31:46,594] Trial 89 finished with value: 12384540636.79573 and parameters: {'n_estimators': 1400, 'learning_rate': 0.017663636523471676, 'max_depth': 6, 'min_child_weight': 10, 'gamma': 0.48455387727433336, 'subsample': 0.5473441768845125, 'colsample_bytree': 0.7181469380994722}. Best is trial 88 with value: 12065316758.057497.\n"
     ]
    },
    {
     "name": "stdout",
     "output_type": "stream",
     "text": [
      "mse : 12384540636.79573\n",
      "rmse : 111285.85101797861\n",
      "r2 : 0.8960571796424203\n"
     ]
    },
    {
     "name": "stderr",
     "output_type": "stream",
     "text": [
      "[I 2023-06-21 03:31:52,694] Trial 90 finished with value: 12210149444.279196 and parameters: {'n_estimators': 1145, 'learning_rate': 0.012911637522134627, 'max_depth': 7, 'min_child_weight': 10, 'gamma': 0.48061601811055876, 'subsample': 0.5280583681243721, 'colsample_bytree': 0.7443273253396028}. Best is trial 88 with value: 12065316758.057497.\n"
     ]
    },
    {
     "name": "stdout",
     "output_type": "stream",
     "text": [
      "mse : 12210149444.279196\n",
      "rmse : 110499.54499580165\n",
      "r2 : 0.8975208360611197\n"
     ]
    },
    {
     "name": "stderr",
     "output_type": "stream",
     "text": [
      "[I 2023-06-21 03:31:59,178] Trial 91 finished with value: 12353523608.431408 and parameters: {'n_estimators': 1182, 'learning_rate': 0.014474722880583012, 'max_depth': 7, 'min_child_weight': 10, 'gamma': 0.47119193344220145, 'subsample': 0.5187262973248282, 'colsample_bytree': 0.7009333259056116}. Best is trial 88 with value: 12065316758.057497.\n"
     ]
    },
    {
     "name": "stdout",
     "output_type": "stream",
     "text": [
      "mse : 12353523608.431408\n",
      "rmse : 111146.40618765596\n",
      "r2 : 0.8963175039856357\n"
     ]
    },
    {
     "name": "stderr",
     "output_type": "stream",
     "text": [
      "[I 2023-06-21 03:32:06,284] Trial 92 finished with value: 13649249276.571838 and parameters: {'n_estimators': 1540, 'learning_rate': 0.05486767658098911, 'max_depth': 6, 'min_child_weight': 9, 'gamma': 0.4808623114261091, 'subsample': 0.5731444836031032, 'colsample_bytree': 0.7457404478770898}. Best is trial 88 with value: 12065316758.057497.\n"
     ]
    },
    {
     "name": "stdout",
     "output_type": "stream",
     "text": [
      "mse : 13649249276.571838\n",
      "rmse : 116830.00161162303\n",
      "r2 : 0.88544254428337\n"
     ]
    },
    {
     "name": "stderr",
     "output_type": "stream",
     "text": [
      "[I 2023-06-21 03:32:11,764] Trial 93 finished with value: 13653912269.093292 and parameters: {'n_estimators': 962, 'learning_rate': 0.05756210412144705, 'max_depth': 7, 'min_child_weight': 10, 'gamma': 0.49642242385253954, 'subsample': 0.550688714310902, 'colsample_bytree': 0.7167914717911865}. Best is trial 88 with value: 12065316758.057497.\n"
     ]
    },
    {
     "name": "stdout",
     "output_type": "stream",
     "text": [
      "mse : 13653912269.093292\n",
      "rmse : 116849.95622204269\n",
      "r2 : 0.8854034080240447\n"
     ]
    },
    {
     "name": "stderr",
     "output_type": "stream",
     "text": [
      "[I 2023-06-21 03:32:16,767] Trial 94 finished with value: 12616730266.030201 and parameters: {'n_estimators': 1061, 'learning_rate': 0.02928306059888902, 'max_depth': 6, 'min_child_weight': 9, 'gamma': 0.4629406693024876, 'subsample': 0.5824173469196242, 'colsample_bytree': 0.736807525100392}. Best is trial 88 with value: 12065316758.057497.\n"
     ]
    },
    {
     "name": "stdout",
     "output_type": "stream",
     "text": [
      "mse : 12616730266.030201\n",
      "rmse : 112324.21940984145\n",
      "r2 : 0.8941084238808455\n"
     ]
    },
    {
     "name": "stderr",
     "output_type": "stream",
     "text": [
      "[I 2023-06-21 03:32:25,000] Trial 95 finished with value: 14732911007.33085 and parameters: {'n_estimators': 1302, 'learning_rate': 0.07042037346737018, 'max_depth': 8, 'min_child_weight': 10, 'gamma': 0.4808468503660208, 'subsample': 0.5248902164908323, 'colsample_bytree': 0.7057931909313289}. Best is trial 88 with value: 12065316758.057497.\n"
     ]
    },
    {
     "name": "stdout",
     "output_type": "stream",
     "text": [
      "mse : 14732911007.33085\n",
      "rmse : 121379.20335597383\n",
      "r2 : 0.876347426433459\n"
     ]
    },
    {
     "name": "stderr",
     "output_type": "stream",
     "text": [
      "[I 2023-06-21 03:32:28,532] Trial 96 finished with value: 12113968154.727203 and parameters: {'n_estimators': 787, 'learning_rate': 0.013606441143833251, 'max_depth': 6, 'min_child_weight': 9, 'gamma': 0.44306121287208466, 'subsample': 0.5628893119404277, 'colsample_bytree': 0.6785863834488703}. Best is trial 88 with value: 12065316758.057497.\n"
     ]
    },
    {
     "name": "stdout",
     "output_type": "stream",
     "text": [
      "mse : 12113968154.727203\n",
      "rmse : 110063.47329939758\n",
      "r2 : 0.8983280807377579\n"
     ]
    },
    {
     "name": "stderr",
     "output_type": "stream",
     "text": [
      "[I 2023-06-21 03:32:34,080] Trial 97 finished with value: 12125458840.458286 and parameters: {'n_estimators': 1104, 'learning_rate': 0.012640009384026924, 'max_depth': 7, 'min_child_weight': 9, 'gamma': 0.45950673497149364, 'subsample': 0.5639542205783703, 'colsample_bytree': 0.6920646386606434}. Best is trial 88 with value: 12065316758.057497.\n"
     ]
    },
    {
     "name": "stdout",
     "output_type": "stream",
     "text": [
      "mse : 12125458840.458286\n",
      "rmse : 110115.66119521004\n",
      "r2 : 0.8982316399962109\n"
     ]
    },
    {
     "name": "stderr",
     "output_type": "stream",
     "text": [
      "[I 2023-06-21 03:32:39,581] Trial 98 finished with value: 12120977122.120275 and parameters: {'n_estimators': 1104, 'learning_rate': 0.01160247709122311, 'max_depth': 7, 'min_child_weight': 9, 'gamma': 0.44135966186887043, 'subsample': 0.5628559751501184, 'colsample_bytree': 0.6549916612367797}. Best is trial 88 with value: 12065316758.057497.\n"
     ]
    },
    {
     "name": "stdout",
     "output_type": "stream",
     "text": [
      "mse : 12120977122.120275\n",
      "rmse : 110095.30926483778\n",
      "r2 : 0.8982692548305243\n"
     ]
    },
    {
     "name": "stderr",
     "output_type": "stream",
     "text": [
      "[I 2023-06-21 03:32:45,839] Trial 99 finished with value: 12281682870.448175 and parameters: {'n_estimators': 1126, 'learning_rate': 0.013197747179941988, 'max_depth': 8, 'min_child_weight': 9, 'gamma': 0.45985063211005606, 'subsample': 0.5398170235596814, 'colsample_bytree': 0.6587601834699843}. Best is trial 88 with value: 12065316758.057497.\n"
     ]
    },
    {
     "name": "stdout",
     "output_type": "stream",
     "text": [
      "mse : 12281682870.448175\n",
      "rmse : 110822.7542991428\n",
      "r2 : 0.8969204596495995\n",
      "Best trial: score 12065316758.057497, \n",
      "params {'n_estimators': 1160, 'learning_rate': 0.010446365347115766, 'max_depth': 6, 'min_child_weight': 10, 'gamma': 0.4838526274623721, 'subsample': 0.5484813233467711, 'colsample_bytree': 0.7025201506606376}\n"
     ]
    }
   ],
   "source": [
    "# optimization study 진행\n",
    "# direction: score 값을 최대 or 최소로 하는 방향으로 지정\n",
    "study5 = optuna.create_study(direction='minimize')\n",
    "\n",
    "# n_trials: 시도 횟수 (미입력시 key interrupt가 있을 때까지 무한 반복)\n",
    "study5.optimize(objectiveXGB, n_trials=100)\n",
    "\n",
    "# 모든 트라이얼이 완료되었는지 확인\n",
    "if study5.best_trial is None:\n",
    "    print(\"No trials completed.\")\n",
    "else:\n",
    "    # 최적의 트라이얼 출력\n",
    "    print('Best trial: score {}, \\nparams {}'.format(study5.best_trial.value, study5.best_trial.params))"
   ]
  },
  {
   "cell_type": "code",
   "execution_count": 19,
   "metadata": {},
   "outputs": [
    {
     "name": "stdout",
     "output_type": "stream",
     "text": [
      "mse : 12065316758.057\n",
      "rmse : 109842.236\n",
      "r2 : 0.899\n"
     ]
    }
   ],
   "source": [
    "# Best trial의 파라미터\n",
    "best_params = study5 .best_trial.params\n",
    "\n",
    "# 최적의 모델 학습\n",
    "best_xgb = XGBRegressor(n_estimators=best_params['n_estimators'],\n",
    "                        learning_rate=best_params['learning_rate'],\n",
    "                        max_depth=best_params['max_depth'],\n",
    "                        min_child_weight=best_params['min_child_weight'],\n",
    "                        gamma=best_params['gamma'],\n",
    "                        subsample=best_params['subsample'],\n",
    "                        colsample_bytree=best_params['colsample_bytree'],\n",
    "                        random_state=42)\n",
    "best_xgb.fit(x_train, y_train)\n",
    "\n",
    "# 저장 경로 설정\n",
    "import pickle\n",
    "import os\n",
    "save_path = 'remove_camera_XGBRegressor_best_model.pkl'\n",
    "\n",
    "# 모델을 'XGBRegressor_best_model.pkl' 파일로 저장\n",
    "with open(save_path, 'wb') as f:\n",
    "    pickle.dump(best_xgb, f)\n",
    "\n",
    "# 저장된 모델 로드\n",
    "with open('remove_camera_XGBRegressor_best_model.pkl', 'rb') as f:\n",
    "    loaded_model = pickle.load(f)\n",
    "\n",
    "# 로드된 모델로 예측\n",
    "y_pred = loaded_model.predict(x_test)\n",
    "\n",
    "# 모델 평가\n",
    "from evaluate_score import evaluate_score\n",
    "evaluate_score(y_test, y_pred)"
   ]
  },
  {
   "attachments": {},
   "cell_type": "markdown",
   "metadata": {},
   "source": [
    "## xgboost 를 이용한 가격 예측 (price 도 모두 스케일링 진행)"
   ]
  },
  {
   "cell_type": "code",
   "execution_count": 1,
   "metadata": {},
   "outputs": [
    {
     "data": {
      "text/html": [
       "<div>\n",
       "<style scoped>\n",
       "    .dataframe tbody tr th:only-of-type {\n",
       "        vertical-align: middle;\n",
       "    }\n",
       "\n",
       "    .dataframe tbody tr th {\n",
       "        vertical-align: top;\n",
       "    }\n",
       "\n",
       "    .dataframe thead th {\n",
       "        text-align: right;\n",
       "    }\n",
       "</style>\n",
       "<table border=\"1\" class=\"dataframe\">\n",
       "  <thead>\n",
       "    <tr style=\"text-align: right;\">\n",
       "      <th></th>\n",
       "      <th>price</th>\n",
       "      <th>quality</th>\n",
       "      <th>favoritecount</th>\n",
       "      <th>viewcount</th>\n",
       "      <th>product_name</th>\n",
       "      <th>screen_size</th>\n",
       "      <th>cost</th>\n",
       "      <th>capacity</th>\n",
       "      <th>ram</th>\n",
       "      <th>weight</th>\n",
       "      <th>Max_video_playtime</th>\n",
       "      <th>Max_audio_playtime</th>\n",
       "      <th>battery_capacity</th>\n",
       "      <th>hours</th>\n",
       "      <th>used_year</th>\n",
       "    </tr>\n",
       "  </thead>\n",
       "  <tbody>\n",
       "    <tr>\n",
       "      <th>8137</th>\n",
       "      <td>450000</td>\n",
       "      <td>2.0</td>\n",
       "      <td>0.0</td>\n",
       "      <td>0.000000</td>\n",
       "      <td>아이폰 12 Mini</td>\n",
       "      <td>13.70</td>\n",
       "      <td>1160000</td>\n",
       "      <td>256</td>\n",
       "      <td>4</td>\n",
       "      <td>0.133</td>\n",
       "      <td>10</td>\n",
       "      <td>50</td>\n",
       "      <td>2227</td>\n",
       "      <td>0.016667</td>\n",
       "      <td>3.0</td>\n",
       "    </tr>\n",
       "    <tr>\n",
       "      <th>9748</th>\n",
       "      <td>970000</td>\n",
       "      <td>2.0</td>\n",
       "      <td>0.0</td>\n",
       "      <td>0.000000</td>\n",
       "      <td>갤럭시 Z 폴드4</td>\n",
       "      <td>19.21</td>\n",
       "      <td>1998700</td>\n",
       "      <td>256</td>\n",
       "      <td>12</td>\n",
       "      <td>0.263</td>\n",
       "      <td>20</td>\n",
       "      <td>72</td>\n",
       "      <td>4400</td>\n",
       "      <td>0.016667</td>\n",
       "      <td>1.0</td>\n",
       "    </tr>\n",
       "    <tr>\n",
       "      <th>21572</th>\n",
       "      <td>530000</td>\n",
       "      <td>3.0</td>\n",
       "      <td>0.0</td>\n",
       "      <td>0.000308</td>\n",
       "      <td>아이폰 12</td>\n",
       "      <td>15.40</td>\n",
       "      <td>1020000</td>\n",
       "      <td>128</td>\n",
       "      <td>4</td>\n",
       "      <td>0.162</td>\n",
       "      <td>11</td>\n",
       "      <td>65</td>\n",
       "      <td>2815</td>\n",
       "      <td>0.016667</td>\n",
       "      <td>3.0</td>\n",
       "    </tr>\n",
       "    <tr>\n",
       "      <th>19929</th>\n",
       "      <td>950000</td>\n",
       "      <td>4.0</td>\n",
       "      <td>0.0</td>\n",
       "      <td>0.000002</td>\n",
       "      <td>갤럭시 S 23 플러스</td>\n",
       "      <td>16.65</td>\n",
       "      <td>1353000</td>\n",
       "      <td>256</td>\n",
       "      <td>8</td>\n",
       "      <td>0.195</td>\n",
       "      <td>27</td>\n",
       "      <td>84</td>\n",
       "      <td>4700</td>\n",
       "      <td>0.033333</td>\n",
       "      <td>0.0</td>\n",
       "    </tr>\n",
       "    <tr>\n",
       "      <th>22773</th>\n",
       "      <td>560000</td>\n",
       "      <td>3.0</td>\n",
       "      <td>0.0</td>\n",
       "      <td>0.000217</td>\n",
       "      <td>아이폰 13 Mini</td>\n",
       "      <td>13.70</td>\n",
       "      <td>950000</td>\n",
       "      <td>128</td>\n",
       "      <td>4</td>\n",
       "      <td>0.140</td>\n",
       "      <td>13</td>\n",
       "      <td>55</td>\n",
       "      <td>2406</td>\n",
       "      <td>0.050000</td>\n",
       "      <td>2.0</td>\n",
       "    </tr>\n",
       "    <tr>\n",
       "      <th>...</th>\n",
       "      <td>...</td>\n",
       "      <td>...</td>\n",
       "      <td>...</td>\n",
       "      <td>...</td>\n",
       "      <td>...</td>\n",
       "      <td>...</td>\n",
       "      <td>...</td>\n",
       "      <td>...</td>\n",
       "      <td>...</td>\n",
       "      <td>...</td>\n",
       "      <td>...</td>\n",
       "      <td>...</td>\n",
       "      <td>...</td>\n",
       "      <td>...</td>\n",
       "      <td>...</td>\n",
       "    </tr>\n",
       "    <tr>\n",
       "      <th>11023</th>\n",
       "      <td>750000</td>\n",
       "      <td>4.0</td>\n",
       "      <td>0.0</td>\n",
       "      <td>0.000053</td>\n",
       "      <td>갤럭시 Z 폴드2</td>\n",
       "      <td>19.30</td>\n",
       "      <td>2398000</td>\n",
       "      <td>256</td>\n",
       "      <td>12</td>\n",
       "      <td>0.282</td>\n",
       "      <td>18</td>\n",
       "      <td>83</td>\n",
       "      <td>4500</td>\n",
       "      <td>7920.000000</td>\n",
       "      <td>3.0</td>\n",
       "    </tr>\n",
       "    <tr>\n",
       "      <th>9744</th>\n",
       "      <td>750000</td>\n",
       "      <td>2.0</td>\n",
       "      <td>0.0</td>\n",
       "      <td>0.000161</td>\n",
       "      <td>갤럭시 Z 폴드2</td>\n",
       "      <td>19.30</td>\n",
       "      <td>2398000</td>\n",
       "      <td>256</td>\n",
       "      <td>12</td>\n",
       "      <td>0.282</td>\n",
       "      <td>18</td>\n",
       "      <td>83</td>\n",
       "      <td>4500</td>\n",
       "      <td>8640.000000</td>\n",
       "      <td>3.0</td>\n",
       "    </tr>\n",
       "    <tr>\n",
       "      <th>12807</th>\n",
       "      <td>1050000</td>\n",
       "      <td>2.0</td>\n",
       "      <td>0.0</td>\n",
       "      <td>0.000308</td>\n",
       "      <td>갤럭시 Z 폴드2</td>\n",
       "      <td>19.30</td>\n",
       "      <td>2398000</td>\n",
       "      <td>256</td>\n",
       "      <td>12</td>\n",
       "      <td>0.282</td>\n",
       "      <td>18</td>\n",
       "      <td>83</td>\n",
       "      <td>4500</td>\n",
       "      <td>8640.000000</td>\n",
       "      <td>3.0</td>\n",
       "    </tr>\n",
       "    <tr>\n",
       "      <th>12796</th>\n",
       "      <td>1200000</td>\n",
       "      <td>2.0</td>\n",
       "      <td>0.0</td>\n",
       "      <td>0.000092</td>\n",
       "      <td>갤럭시 Z 폴드3</td>\n",
       "      <td>19.19</td>\n",
       "      <td>1998700</td>\n",
       "      <td>256</td>\n",
       "      <td>12</td>\n",
       "      <td>0.271</td>\n",
       "      <td>18</td>\n",
       "      <td>63</td>\n",
       "      <td>4400</td>\n",
       "      <td>8640.000000</td>\n",
       "      <td>2.0</td>\n",
       "    </tr>\n",
       "    <tr>\n",
       "      <th>11048</th>\n",
       "      <td>1100000</td>\n",
       "      <td>3.0</td>\n",
       "      <td>0.0</td>\n",
       "      <td>0.000078</td>\n",
       "      <td>갤럭시 Z 폴드3</td>\n",
       "      <td>19.19</td>\n",
       "      <td>1998700</td>\n",
       "      <td>256</td>\n",
       "      <td>12</td>\n",
       "      <td>0.271</td>\n",
       "      <td>18</td>\n",
       "      <td>63</td>\n",
       "      <td>4400</td>\n",
       "      <td>8640.000000</td>\n",
       "      <td>2.0</td>\n",
       "    </tr>\n",
       "  </tbody>\n",
       "</table>\n",
       "<p>9331 rows × 15 columns</p>\n",
       "</div>"
      ],
      "text/plain": [
       "         price  quality  favoritecount  viewcount  product_name  screen_size  \\\n",
       "8137    450000      2.0            0.0   0.000000   아이폰 12 Mini        13.70   \n",
       "9748    970000      2.0            0.0   0.000000     갤럭시 Z 폴드4        19.21   \n",
       "21572   530000      3.0            0.0   0.000308        아이폰 12        15.40   \n",
       "19929   950000      4.0            0.0   0.000002  갤럭시 S 23 플러스        16.65   \n",
       "22773   560000      3.0            0.0   0.000217   아이폰 13 Mini        13.70   \n",
       "...        ...      ...            ...        ...           ...          ...   \n",
       "11023   750000      4.0            0.0   0.000053     갤럭시 Z 폴드2        19.30   \n",
       "9744    750000      2.0            0.0   0.000161     갤럭시 Z 폴드2        19.30   \n",
       "12807  1050000      2.0            0.0   0.000308     갤럭시 Z 폴드2        19.30   \n",
       "12796  1200000      2.0            0.0   0.000092     갤럭시 Z 폴드3        19.19   \n",
       "11048  1100000      3.0            0.0   0.000078     갤럭시 Z 폴드3        19.19   \n",
       "\n",
       "          cost  capacity  ram  weight  Max_video_playtime  Max_audio_playtime  \\\n",
       "8137   1160000       256    4   0.133                  10                  50   \n",
       "9748   1998700       256   12   0.263                  20                  72   \n",
       "21572  1020000       128    4   0.162                  11                  65   \n",
       "19929  1353000       256    8   0.195                  27                  84   \n",
       "22773   950000       128    4   0.140                  13                  55   \n",
       "...        ...       ...  ...     ...                 ...                 ...   \n",
       "11023  2398000       256   12   0.282                  18                  83   \n",
       "9744   2398000       256   12   0.282                  18                  83   \n",
       "12807  2398000       256   12   0.282                  18                  83   \n",
       "12796  1998700       256   12   0.271                  18                  63   \n",
       "11048  1998700       256   12   0.271                  18                  63   \n",
       "\n",
       "       battery_capacity        hours  used_year  \n",
       "8137               2227     0.016667        3.0  \n",
       "9748               4400     0.016667        1.0  \n",
       "21572              2815     0.016667        3.0  \n",
       "19929              4700     0.033333        0.0  \n",
       "22773              2406     0.050000        2.0  \n",
       "...                 ...          ...        ...  \n",
       "11023              4500  7920.000000        3.0  \n",
       "9744               4500  8640.000000        3.0  \n",
       "12807              4500  8640.000000        3.0  \n",
       "12796              4400  8640.000000        2.0  \n",
       "11048              4400  8640.000000        2.0  \n",
       "\n",
       "[9331 rows x 15 columns]"
      ]
     },
     "execution_count": 1,
     "metadata": {},
     "output_type": "execute_result"
    }
   ],
   "source": [
    "from phone_CrawlingDataPreprocessor import DataPreprocessor\n",
    "prepro = DataPreprocessor(\"C:/Python_practice/DL_project/final_project/no_Yongsan_yes_Doksan/DA/dataset/phone_input_data.csv\")\n",
    "another_try_df = prepro.execute()\n",
    "another_try_df"
   ]
  },
  {
   "cell_type": "code",
   "execution_count": 2,
   "metadata": {},
   "outputs": [],
   "source": [
    "import numpy as np\n",
    "import pandas as pd\n",
    "from all_x_scaling_and_processor import scaling_all_of_x\n",
    "another_try_df = scaling_all_of_x(another_try_df)"
   ]
  },
  {
   "cell_type": "code",
   "execution_count": 6,
   "metadata": {},
   "outputs": [],
   "source": [
    "# 학습 데이터, 테스트 데이터 분리\n",
    "x = another_try_df.loc[:, another_try_df.columns != 'price']\n",
    "y = another_try_df['price']\n",
    "\n",
    "x_train, x_test, y_train, y_test = train_test_split(x, y, test_size = 0.3, random_state=42)"
   ]
  },
  {
   "cell_type": "code",
   "execution_count": 8,
   "metadata": {},
   "outputs": [
    {
     "name": "stderr",
     "output_type": "stream",
     "text": [
      "[I 2023-06-22 01:14:43,899] A new study created in memory with name: no-name-e11bdb34-3233-4260-8cc0-8499c91389cf\n",
      "[I 2023-06-22 01:14:44,527] Trial 0 finished with value: 0.007100006328554453 and parameters: {'n_estimators': 761, 'learning_rate': 0.6820532613407668, 'max_depth': 1, 'min_child_weight': 1, 'gamma': 0.2693987685146609, 'subsample': 0.693130336376866, 'colsample_bytree': 0.7143149543416705}. Best is trial 0 with value: 0.007100006328554453.\n"
     ]
    },
    {
     "name": "stdout",
     "output_type": "stream",
     "text": [
      "mse : 0.007100006328554453\n",
      "rmse : 0.08426153528481696\n",
      "r2 : 0.8464574773771835\n"
     ]
    },
    {
     "name": "stderr",
     "output_type": "stream",
     "text": [
      "[I 2023-06-22 01:14:44,751] Trial 1 finished with value: 0.006745483215298172 and parameters: {'n_estimators': 160, 'learning_rate': 0.4416093326309871, 'max_depth': 3, 'min_child_weight': 4, 'gamma': 0.478543097108204, 'subsample': 0.8338324268648037, 'colsample_bytree': 0.5793908024620729}. Best is trial 1 with value: 0.006745483215298172.\n"
     ]
    },
    {
     "name": "stdout",
     "output_type": "stream",
     "text": [
      "mse : 0.006745483215298172\n",
      "rmse : 0.08213089074945049\n",
      "r2 : 0.8541242836613613\n"
     ]
    },
    {
     "name": "stderr",
     "output_type": "stream",
     "text": [
      "[I 2023-06-22 01:15:02,722] Trial 2 finished with value: 0.005638622544469938 and parameters: {'n_estimators': 3193, 'learning_rate': 0.6878552841233114, 'max_depth': 7, 'min_child_weight': 1, 'gamma': 0.3348358272038441, 'subsample': 0.8010276144150819, 'colsample_bytree': 0.7796585092511125}. Best is trial 2 with value: 0.005638622544469938.\n"
     ]
    },
    {
     "name": "stdout",
     "output_type": "stream",
     "text": [
      "mse : 0.005638622544469938\n",
      "rmse : 0.07509076204480773\n",
      "r2 : 0.8780609073383646\n"
     ]
    },
    {
     "name": "stderr",
     "output_type": "stream",
     "text": [
      "[I 2023-06-22 01:15:14,484] Trial 3 finished with value: 0.00547304645456915 and parameters: {'n_estimators': 2975, 'learning_rate': 0.036383247151708355, 'max_depth': 5, 'min_child_weight': 8, 'gamma': 0.23098108448335614, 'subsample': 0.637374030896144, 'colsample_bytree': 0.6831980145428138}. Best is trial 3 with value: 0.00547304645456915.\n"
     ]
    },
    {
     "name": "stdout",
     "output_type": "stream",
     "text": [
      "mse : 0.00547304645456915\n",
      "rmse : 0.07398004092029924\n",
      "r2 : 0.8816416042212878\n"
     ]
    },
    {
     "name": "stderr",
     "output_type": "stream",
     "text": [
      "[I 2023-06-22 01:15:24,270] Trial 4 finished with value: 0.005809191960416711 and parameters: {'n_estimators': 2041, 'learning_rate': 0.8345887710081249, 'max_depth': 6, 'min_child_weight': 1, 'gamma': 0.14387429946128, 'subsample': 0.5914750042528243, 'colsample_bytree': 0.6368875282134611}. Best is trial 3 with value: 0.00547304645456915.\n"
     ]
    },
    {
     "name": "stdout",
     "output_type": "stream",
     "text": [
      "mse : 0.005809191960416711\n",
      "rmse : 0.07621805534397155\n",
      "r2 : 0.8743722263436112\n"
     ]
    },
    {
     "name": "stderr",
     "output_type": "stream",
     "text": [
      "[I 2023-06-22 01:15:33,957] Trial 5 finished with value: 0.006345671958082948 and parameters: {'n_estimators': 1413, 'learning_rate': 0.0960573775037776, 'max_depth': 10, 'min_child_weight': 10, 'gamma': 0.47498118921313176, 'subsample': 0.5336903260794963, 'colsample_bytree': 0.5108043710430785}. Best is trial 3 with value: 0.00547304645456915.\n"
     ]
    },
    {
     "name": "stdout",
     "output_type": "stream",
     "text": [
      "mse : 0.006345671958082948\n",
      "rmse : 0.07965972607336123\n",
      "r2 : 0.86277047722304\n"
     ]
    },
    {
     "name": "stderr",
     "output_type": "stream",
     "text": [
      "[I 2023-06-22 01:15:45,114] Trial 6 finished with value: 0.005346144802427637 and parameters: {'n_estimators': 1967, 'learning_rate': 0.7579203214297149, 'max_depth': 8, 'min_child_weight': 5, 'gamma': 0.21344123835568307, 'subsample': 0.6067555847975119, 'colsample_bytree': 0.5919821372518904}. Best is trial 6 with value: 0.005346144802427637.\n"
     ]
    },
    {
     "name": "stdout",
     "output_type": "stream",
     "text": [
      "mse : 0.005346144802427637\n",
      "rmse : 0.07311733585428039\n",
      "r2 : 0.8843859397744053\n"
     ]
    },
    {
     "name": "stderr",
     "output_type": "stream",
     "text": [
      "[I 2023-06-22 01:16:01,071] Trial 7 finished with value: 0.005343033542396326 and parameters: {'n_estimators': 3607, 'learning_rate': 0.3083997226858519, 'max_depth': 6, 'min_child_weight': 6, 'gamma': 0.2286964470353779, 'subsample': 0.6304982589354287, 'colsample_bytree': 0.5593739068948016}. Best is trial 7 with value: 0.005343033542396326.\n"
     ]
    },
    {
     "name": "stdout",
     "output_type": "stream",
     "text": [
      "mse : 0.005343033542396326\n",
      "rmse : 0.07309605695518963\n",
      "r2 : 0.8844532229135514\n"
     ]
    },
    {
     "name": "stderr",
     "output_type": "stream",
     "text": [
      "[I 2023-06-22 01:16:21,924] Trial 8 finished with value: 0.005808361599556464 and parameters: {'n_estimators': 3160, 'learning_rate': 0.5966173510534701, 'max_depth': 7, 'min_child_weight': 2, 'gamma': 0.03357471949337909, 'subsample': 0.5880397546258523, 'colsample_bytree': 0.7528180390319621}. Best is trial 7 with value: 0.005343033542396326.\n"
     ]
    },
    {
     "name": "stdout",
     "output_type": "stream",
     "text": [
      "mse : 0.005808361599556464\n",
      "rmse : 0.07621260787793883\n",
      "r2 : 0.874390183468615\n"
     ]
    },
    {
     "name": "stderr",
     "output_type": "stream",
     "text": [
      "[I 2023-06-22 01:16:27,472] Trial 9 finished with value: 0.00597562460504728 and parameters: {'n_estimators': 1969, 'learning_rate': 0.7454955469178247, 'max_depth': 2, 'min_child_weight': 1, 'gamma': 0.24921062376236425, 'subsample': 0.5084099310144395, 'colsample_bytree': 0.7168132844426389}. Best is trial 7 with value: 0.005343033542396326.\n"
     ]
    },
    {
     "name": "stdout",
     "output_type": "stream",
     "text": [
      "mse : 0.00597562460504728\n",
      "rmse : 0.07730216429730334\n",
      "r2 : 0.8707730058752307\n"
     ]
    },
    {
     "name": "stderr",
     "output_type": "stream",
     "text": [
      "[I 2023-06-22 01:16:38,223] Trial 10 finished with value: 0.005193409835611854 and parameters: {'n_estimators': 3797, 'learning_rate': 0.3673846425930856, 'max_depth': 4, 'min_child_weight': 7, 'gamma': 0.024003646456876165, 'subsample': 0.9383457697824568, 'colsample_bytree': 0.9084454754871807}. Best is trial 10 with value: 0.005193409835611854.\n"
     ]
    },
    {
     "name": "stdout",
     "output_type": "stream",
     "text": [
      "mse : 0.005193409835611854\n",
      "rmse : 0.07206531645397704\n",
      "r2 : 0.8876889385341798\n"
     ]
    },
    {
     "name": "stderr",
     "output_type": "stream",
     "text": [
      "[I 2023-06-22 01:16:49,105] Trial 11 finished with value: 0.0061752194642433434 and parameters: {'n_estimators': 3809, 'learning_rate': 0.3670684555779009, 'max_depth': 4, 'min_child_weight': 7, 'gamma': 0.001911719613741411, 'subsample': 0.9554200322641879, 'colsample_bytree': 0.9087449848352064}. Best is trial 10 with value: 0.005193409835611854.\n"
     ]
    },
    {
     "name": "stdout",
     "output_type": "stream",
     "text": [
      "mse : 0.0061752194642433434\n",
      "rmse : 0.07858256463264192\n",
      "r2 : 0.8664566296967676\n"
     ]
    },
    {
     "name": "stderr",
     "output_type": "stream",
     "text": [
      "[I 2023-06-22 01:17:00,685] Trial 12 finished with value: 0.005116623793394875 and parameters: {'n_estimators': 3923, 'learning_rate': 0.33145326474626624, 'max_depth': 4, 'min_child_weight': 7, 'gamma': 0.11654257360223944, 'subsample': 0.9554523065990732, 'colsample_bytree': 0.9711134358763092}. Best is trial 12 with value: 0.005116623793394875.\n"
     ]
    },
    {
     "name": "stdout",
     "output_type": "stream",
     "text": [
      "mse : 0.005116623793394875\n",
      "rmse : 0.07153057942862531\n",
      "r2 : 0.889349489536339\n"
     ]
    },
    {
     "name": "stderr",
     "output_type": "stream",
     "text": [
      "[I 2023-06-22 01:17:12,418] Trial 13 finished with value: 0.005530932938027574 and parameters: {'n_estimators': 3980, 'learning_rate': 0.9525123063494181, 'max_depth': 4, 'min_child_weight': 9, 'gamma': 0.07934403565752654, 'subsample': 0.9933400783027037, 'colsample_bytree': 0.9920947942157181}. Best is trial 12 with value: 0.005116623793394875.\n"
     ]
    },
    {
     "name": "stdout",
     "output_type": "stream",
     "text": [
      "mse : 0.005530932938027574\n",
      "rmse : 0.07437024228834792\n",
      "r2 : 0.8803897691827435\n"
     ]
    },
    {
     "name": "stderr",
     "output_type": "stream",
     "text": [
      "[I 2023-06-22 01:17:19,055] Trial 14 finished with value: 0.005218834877144228 and parameters: {'n_estimators': 2809, 'learning_rate': 0.2676042202658688, 'max_depth': 3, 'min_child_weight': 7, 'gamma': 0.09863159135004598, 'subsample': 0.9089810610426015, 'colsample_bytree': 0.8798216206439589}. Best is trial 12 with value: 0.005116623793394875.\n"
     ]
    },
    {
     "name": "stdout",
     "output_type": "stream",
     "text": [
      "mse : 0.005218834877144228\n",
      "rmse : 0.0722415038405502\n",
      "r2 : 0.8871391045151635\n"
     ]
    },
    {
     "name": "stderr",
     "output_type": "stream",
     "text": [
      "[I 2023-06-22 01:17:22,885] Trial 15 finished with value: 0.006120214676635521 and parameters: {'n_estimators': 2519, 'learning_rate': 0.501877510367929, 'max_depth': 1, 'min_child_weight': 4, 'gamma': 0.06579765030357411, 'subsample': 0.8924233683113505, 'colsample_bytree': 0.9948666002417514}. Best is trial 12 with value: 0.005116623793394875.\n"
     ]
    },
    {
     "name": "stdout",
     "output_type": "stream",
     "text": [
      "mse : 0.006120214676635521\n",
      "rmse : 0.07823180092926099\n",
      "r2 : 0.8676461460795448\n"
     ]
    },
    {
     "name": "stderr",
     "output_type": "stream",
     "text": [
      "[I 2023-06-22 01:17:35,117] Trial 16 finished with value: 0.0059052371196510614 and parameters: {'n_estimators': 3446, 'learning_rate': 0.21012812489164745, 'max_depth': 4, 'min_child_weight': 8, 'gamma': 0.0013454376129887965, 'subsample': 0.9874186391733633, 'colsample_bytree': 0.8548455260695145}. Best is trial 12 with value: 0.005116623793394875.\n"
     ]
    },
    {
     "name": "stdout",
     "output_type": "stream",
     "text": [
      "mse : 0.0059052371196510614\n",
      "rmse : 0.07684554066210389\n",
      "r2 : 0.8722951836830655\n"
     ]
    },
    {
     "name": "stderr",
     "output_type": "stream",
     "text": [
      "[I 2023-06-22 01:17:43,994] Trial 17 finished with value: 0.00521845440751275 and parameters: {'n_estimators': 2557, 'learning_rate': 0.4078102489746513, 'max_depth': 5, 'min_child_weight': 6, 'gamma': 0.13719797068277703, 'subsample': 0.9051508317991139, 'colsample_bytree': 0.9309327931524896}. Best is trial 12 with value: 0.005116623793394875.\n"
     ]
    },
    {
     "name": "stdout",
     "output_type": "stream",
     "text": [
      "mse : 0.00521845440751275\n",
      "rmse : 0.07223887047506176\n",
      "r2 : 0.887147332432759\n"
     ]
    },
    {
     "name": "stderr",
     "output_type": "stream",
     "text": [
      "[I 2023-06-22 01:17:54,371] Trial 18 finished with value: 0.005279188385863109 and parameters: {'n_estimators': 3959, 'learning_rate': 0.5481428879038993, 'max_depth': 3, 'min_child_weight': 10, 'gamma': 0.13298916169722633, 'subsample': 0.7866627500342618, 'colsample_bytree': 0.8193936901887569}. Best is trial 12 with value: 0.005116623793394875.\n"
     ]
    },
    {
     "name": "stdout",
     "output_type": "stream",
     "text": [
      "mse : 0.005279188385863109\n",
      "rmse : 0.07265802354773428\n",
      "r2 : 0.8858339183577137\n"
     ]
    },
    {
     "name": "stderr",
     "output_type": "stream",
     "text": [
      "[I 2023-06-22 01:18:09,964] Trial 19 finished with value: 0.004954494311033744 and parameters: {'n_estimators': 1459, 'learning_rate': 0.18263790610922628, 'max_depth': 9, 'min_child_weight': 8, 'gamma': 0.05159413378434065, 'subsample': 0.8546948267831679, 'colsample_bytree': 0.9354676209290496}. Best is trial 19 with value: 0.004954494311033744.\n"
     ]
    },
    {
     "name": "stdout",
     "output_type": "stream",
     "text": [
      "mse : 0.004954494311033744\n",
      "rmse : 0.07038816882853072\n",
      "r2 : 0.8928556511594833\n"
     ]
    },
    {
     "name": "stderr",
     "output_type": "stream",
     "text": [
      "[I 2023-06-22 01:18:24,587] Trial 20 finished with value: 0.004955161559561018 and parameters: {'n_estimators': 1348, 'learning_rate': 0.21718084078010844, 'max_depth': 10, 'min_child_weight': 9, 'gamma': 0.06204337450045083, 'subsample': 0.8657212680653944, 'colsample_bytree': 0.9667205985300232}. Best is trial 19 with value: 0.004954494311033744.\n"
     ]
    },
    {
     "name": "stdout",
     "output_type": "stream",
     "text": [
      "mse : 0.004955161559561018\n",
      "rmse : 0.07039290844652618\n",
      "r2 : 0.8928412214509235\n"
     ]
    },
    {
     "name": "stderr",
     "output_type": "stream",
     "text": [
      "[I 2023-06-22 01:18:33,525] Trial 21 finished with value: 0.004859686817746496 and parameters: {'n_estimators': 1386, 'learning_rate': 0.1469924800469324, 'max_depth': 10, 'min_child_weight': 9, 'gamma': 0.06206038023073416, 'subsample': 0.8595850419671227, 'colsample_bytree': 0.9561958633276043}. Best is trial 21 with value: 0.004859686817746496.\n"
     ]
    },
    {
     "name": "stdout",
     "output_type": "stream",
     "text": [
      "mse : 0.004859686817746496\n",
      "rmse : 0.06971145399248603\n",
      "r2 : 0.8949059284422408\n"
     ]
    },
    {
     "name": "stderr",
     "output_type": "stream",
     "text": [
      "[I 2023-06-22 01:18:41,778] Trial 22 finished with value: 0.004909573726420226 and parameters: {'n_estimators': 1271, 'learning_rate': 0.15625026911145573, 'max_depth': 10, 'min_child_weight': 9, 'gamma': 0.056592074926257396, 'subsample': 0.8461316040101406, 'colsample_bytree': 0.9446327920552622}. Best is trial 21 with value: 0.004859686817746496.\n"
     ]
    },
    {
     "name": "stdout",
     "output_type": "stream",
     "text": [
      "mse : 0.004909573726420226\n",
      "rmse : 0.07006835039031692\n",
      "r2 : 0.8938270897132086\n"
     ]
    },
    {
     "name": "stderr",
     "output_type": "stream",
     "text": [
      "[I 2023-06-22 01:18:56,212] Trial 23 finished with value: 0.00490237278847013 and parameters: {'n_estimators': 1364, 'learning_rate': 0.1324788477325952, 'max_depth': 9, 'min_child_weight': 9, 'gamma': 0.0471354432552961, 'subsample': 0.8420192109518306, 'colsample_bytree': 0.933121154023639}. Best is trial 21 with value: 0.004859686817746496.\n"
     ]
    },
    {
     "name": "stdout",
     "output_type": "stream",
     "text": [
      "mse : 0.00490237278847013\n",
      "rmse : 0.07001694643777412\n",
      "r2 : 0.8939828149516019\n"
     ]
    },
    {
     "name": "stderr",
     "output_type": "stream",
     "text": [
      "[I 2023-06-22 01:19:05,640] Trial 24 finished with value: 0.004893819016962888 and parameters: {'n_estimators': 974, 'learning_rate': 0.02579634373828163, 'max_depth': 9, 'min_child_weight': 9, 'gamma': 0.08606261246207816, 'subsample': 0.7622969191522797, 'colsample_bytree': 0.8583283044039953}. Best is trial 21 with value: 0.004859686817746496.\n"
     ]
    },
    {
     "name": "stdout",
     "output_type": "stream",
     "text": [
      "mse : 0.004893819016962888\n",
      "rmse : 0.06995583618943375\n",
      "r2 : 0.8941677961466015\n"
     ]
    },
    {
     "name": "stderr",
     "output_type": "stream",
     "text": [
      "[I 2023-06-22 01:19:13,665] Trial 25 finished with value: 0.004890441766516619 and parameters: {'n_estimators': 876, 'learning_rate': 0.0423076044373627, 'max_depth': 9, 'min_child_weight': 10, 'gamma': 0.0947768644708881, 'subsample': 0.7369792803989145, 'colsample_bytree': 0.8435584529251557}. Best is trial 21 with value: 0.004859686817746496.\n"
     ]
    },
    {
     "name": "stdout",
     "output_type": "stream",
     "text": [
      "mse : 0.004890441766516619\n",
      "rmse : 0.06993169357677975\n",
      "r2 : 0.8942408315115087\n"
     ]
    },
    {
     "name": "stderr",
     "output_type": "stream",
     "text": [
      "[I 2023-06-22 01:19:21,520] Trial 26 finished with value: 0.005194568776858358 and parameters: {'n_estimators': 794, 'learning_rate': 0.016837932913228715, 'max_depth': 9, 'min_child_weight': 10, 'gamma': 0.16873097749661234, 'subsample': 0.7392785603456374, 'colsample_bytree': 0.8371021834672786}. Best is trial 21 with value: 0.004859686817746496.\n"
     ]
    },
    {
     "name": "stdout",
     "output_type": "stream",
     "text": [
      "mse : 0.005194568776858358\n",
      "rmse : 0.07207335691403834\n",
      "r2 : 0.8876638756322154\n"
     ]
    },
    {
     "name": "stderr",
     "output_type": "stream",
     "text": [
      "[I 2023-06-22 01:19:28,607] Trial 27 finished with value: 0.004898487491329199 and parameters: {'n_estimators': 908, 'learning_rate': 0.08568293286952192, 'max_depth': 8, 'min_child_weight': 10, 'gamma': 0.09864096828775416, 'subsample': 0.7412303395037876, 'colsample_bytree': 0.8046857982565587}. Best is trial 21 with value: 0.004859686817746496.\n"
     ]
    },
    {
     "name": "stdout",
     "output_type": "stream",
     "text": [
      "mse : 0.004898487491329199\n",
      "rmse : 0.06998919553280492\n",
      "r2 : 0.8940668371758862\n"
     ]
    },
    {
     "name": "stderr",
     "output_type": "stream",
     "text": [
      "[I 2023-06-22 01:19:32,405] Trial 28 finished with value: 0.005429836465608283 and parameters: {'n_estimators': 279, 'learning_rate': 0.015901721422498485, 'max_depth': 8, 'min_child_weight': 8, 'gamma': 0.1822993406478313, 'subsample': 0.700519664684468, 'colsample_bytree': 0.8718783215484301}. Best is trial 21 with value: 0.004859686817746496.\n"
     ]
    },
    {
     "name": "stdout",
     "output_type": "stream",
     "text": [
      "mse : 0.005429836465608283\n",
      "rmse : 0.07368742406685339\n",
      "r2 : 0.8825760499669025\n"
     ]
    },
    {
     "name": "stderr",
     "output_type": "stream",
     "text": [
      "[I 2023-06-22 01:19:37,199] Trial 29 finished with value: 0.0049153252228533685 and parameters: {'n_estimators': 463, 'learning_rate': 0.1265090777830942, 'max_depth': 9, 'min_child_weight': 9, 'gamma': 0.0860008040919051, 'subsample': 0.766712402625225, 'colsample_bytree': 0.8662524759878092}. Best is trial 21 with value: 0.004859686817746496.\n"
     ]
    },
    {
     "name": "stdout",
     "output_type": "stream",
     "text": [
      "mse : 0.0049153252228533685\n",
      "rmse : 0.07010938041983661\n",
      "r2 : 0.8937027096450318\n"
     ]
    },
    {
     "name": "stderr",
     "output_type": "stream",
     "text": [
      "[I 2023-06-22 01:19:55,676] Trial 30 finished with value: 0.0049584515127261385 and parameters: {'n_estimators': 1711, 'learning_rate': 0.2429698422984546, 'max_depth': 7, 'min_child_weight': 10, 'gamma': 0.11292686450260872, 'subsample': 0.7013953345816595, 'colsample_bytree': 0.7923568366362166}. Best is trial 21 with value: 0.004859686817746496.\n"
     ]
    },
    {
     "name": "stdout",
     "output_type": "stream",
     "text": [
      "mse : 0.0049584515127261385\n",
      "rmse : 0.07041627306756683\n",
      "r2 : 0.8927700739497935\n"
     ]
    },
    {
     "name": "stderr",
     "output_type": "stream",
     "text": [
      "[I 2023-06-22 01:20:03,294] Trial 31 finished with value: 0.004966026545072911 and parameters: {'n_estimators': 916, 'learning_rate': 0.07883181939123109, 'max_depth': 8, 'min_child_weight': 10, 'gamma': 0.09079700933432175, 'subsample': 0.7543686001023814, 'colsample_bytree': 0.817642715647636}. Best is trial 21 with value: 0.004859686817746496.\n"
     ]
    },
    {
     "name": "stdout",
     "output_type": "stream",
     "text": [
      "mse : 0.004966026545072911\n",
      "rmse : 0.07047004005301055\n",
      "r2 : 0.8926062586626444\n"
     ]
    },
    {
     "name": "stderr",
     "output_type": "stream",
     "text": [
      "[I 2023-06-22 01:20:14,201] Trial 32 finished with value: 0.004926621575333007 and parameters: {'n_estimators': 1091, 'learning_rate': 0.09400219357313103, 'max_depth': 10, 'min_child_weight': 9, 'gamma': 0.09857650046767846, 'subsample': 0.8023390228481143, 'colsample_bytree': 0.8875625647221073}. Best is trial 21 with value: 0.004859686817746496.\n"
     ]
    },
    {
     "name": "stdout",
     "output_type": "stream",
     "text": [
      "mse : 0.004926621575333007\n",
      "rmse : 0.07018989653314077\n",
      "r2 : 0.8934584182492362\n"
     ]
    },
    {
     "name": "stderr",
     "output_type": "stream",
     "text": [
      "[I 2023-06-22 01:20:19,334] Trial 33 finished with value: 0.005155913027028125 and parameters: {'n_estimators': 568, 'learning_rate': 0.06615160056029415, 'max_depth': 8, 'min_child_weight': 10, 'gamma': 0.16071471525972386, 'subsample': 0.7214340699691397, 'colsample_bytree': 0.8367230340744796}. Best is trial 21 with value: 0.004859686817746496.\n"
     ]
    },
    {
     "name": "stdout",
     "output_type": "stream",
     "text": [
      "mse : 0.005155913027028125\n",
      "rmse : 0.0718046866647862\n",
      "r2 : 0.8884998328226956\n"
     ]
    },
    {
     "name": "stderr",
     "output_type": "stream",
     "text": [
      "[I 2023-06-22 01:20:28,660] Trial 34 finished with value: 0.005209371567825484 and parameters: {'n_estimators': 1018, 'learning_rate': 0.1473511172984359, 'max_depth': 9, 'min_child_weight': 8, 'gamma': 0.19096509956028135, 'subsample': 0.6775412710730413, 'colsample_bytree': 0.8019717735229547}. Best is trial 21 with value: 0.004859686817746496.\n"
     ]
    },
    {
     "name": "stdout",
     "output_type": "stream",
     "text": [
      "mse : 0.005209371567825484\n",
      "rmse : 0.0721759763898313\n",
      "r2 : 0.8873437550912223\n"
     ]
    },
    {
     "name": "stderr",
     "output_type": "stream",
     "text": [
      "[I 2023-06-22 01:20:37,679] Trial 35 finished with value: 0.005110396889107985 and parameters: {'n_estimators': 669, 'learning_rate': 0.011834641210820724, 'max_depth': 10, 'min_child_weight': 9, 'gamma': 0.1322951536251567, 'subsample': 0.8049779697602552, 'colsample_bytree': 0.7702590816683048}. Best is trial 21 with value: 0.004859686817746496.\n"
     ]
    },
    {
     "name": "stdout",
     "output_type": "stream",
     "text": [
      "mse : 0.005110396889107985\n",
      "rmse : 0.07148704000801813\n",
      "r2 : 0.8894841506264981\n"
     ]
    },
    {
     "name": "stderr",
     "output_type": "stream",
     "text": [
      "[I 2023-06-22 01:20:49,788] Trial 36 finished with value: 0.004956080615353123 and parameters: {'n_estimators': 1760, 'learning_rate': 0.07239637993155071, 'max_depth': 8, 'min_child_weight': 10, 'gamma': 0.11232369263385811, 'subsample': 0.7775381620889396, 'colsample_bytree': 0.7807014073004548}. Best is trial 21 with value: 0.004859686817746496.\n"
     ]
    },
    {
     "name": "stdout",
     "output_type": "stream",
     "text": [
      "mse : 0.004956080615353123\n",
      "rmse : 0.07039943618632981\n",
      "r2 : 0.8928213462369841\n"
     ]
    },
    {
     "name": "stderr",
     "output_type": "stream",
     "text": [
      "[I 2023-06-22 01:20:50,685] Trial 37 finished with value: 0.004965075884356852 and parameters: {'n_estimators': 115, 'learning_rate': 0.20498588672113122, 'max_depth': 7, 'min_child_weight': 8, 'gamma': 0.030827304010301995, 'subsample': 0.8153439170952642, 'colsample_bytree': 0.8423765343034249}. Best is trial 21 with value: 0.004859686817746496.\n"
     ]
    },
    {
     "name": "stdout",
     "output_type": "stream",
     "text": [
      "mse : 0.004965075884356852\n",
      "rmse : 0.07046329458914656\n",
      "r2 : 0.8926268173548128\n"
     ]
    },
    {
     "name": "stderr",
     "output_type": "stream",
     "text": [
      "[I 2023-06-22 01:20:54,650] Trial 38 finished with value: 0.005150104355164605 and parameters: {'n_estimators': 383, 'learning_rate': 0.1290134548205324, 'max_depth': 9, 'min_child_weight': 10, 'gamma': 0.15855257364630895, 'subsample': 0.7380101146482588, 'colsample_bytree': 0.7355288771095413}. Best is trial 21 with value: 0.004859686817746496.\n"
     ]
    },
    {
     "name": "stdout",
     "output_type": "stream",
     "text": [
      "mse : 0.005150104355164605\n",
      "rmse : 0.07176422754523737\n",
      "r2 : 0.8886254493488988\n"
     ]
    },
    {
     "name": "stderr",
     "output_type": "stream",
     "text": [
      "[I 2023-06-22 01:21:04,485] Trial 39 finished with value: 0.005436069218502334 and parameters: {'n_estimators': 1148, 'learning_rate': 0.0633340506055684, 'max_depth': 10, 'min_child_weight': 4, 'gamma': 0.2860678004953439, 'subsample': 0.7597830278767822, 'colsample_bytree': 0.8989160421358344}. Best is trial 21 with value: 0.004859686817746496.\n"
     ]
    },
    {
     "name": "stdout",
     "output_type": "stream",
     "text": [
      "mse : 0.005436069218502334\n",
      "rmse : 0.07372970377332554\n",
      "r2 : 0.8824412623965889\n"
     ]
    },
    {
     "name": "stderr",
     "output_type": "stream",
     "text": [
      "[I 2023-06-22 01:21:12,572] Trial 40 finished with value: 0.004914409727952139 and parameters: {'n_estimators': 1579, 'learning_rate': 0.1781666275723907, 'max_depth': 6, 'min_child_weight': 3, 'gamma': 0.09085860580352048, 'subsample': 0.6773998665765653, 'colsample_bytree': 0.8103847181866444}. Best is trial 21 with value: 0.004859686817746496.\n"
     ]
    },
    {
     "name": "stdout",
     "output_type": "stream",
     "text": [
      "mse : 0.004914409727952139\n",
      "rmse : 0.07010285106864156\n",
      "r2 : 0.8937225078522557\n"
     ]
    },
    {
     "name": "stderr",
     "output_type": "stream",
     "text": [
      "[I 2023-06-22 01:21:19,334] Trial 41 finished with value: 0.004936054045847384 and parameters: {'n_estimators': 798, 'learning_rate': 0.1066198240611353, 'max_depth': 9, 'min_child_weight': 9, 'gamma': 0.04518497171477046, 'subsample': 0.8323946862104259, 'colsample_bytree': 0.9164599303015545}. Best is trial 21 with value: 0.004859686817746496.\n"
     ]
    },
    {
     "name": "stdout",
     "output_type": "stream",
     "text": [
      "mse : 0.004936054045847384\n",
      "rmse : 0.0702570569113693\n",
      "r2 : 0.8932544345835431\n"
     ]
    },
    {
     "name": "stderr",
     "output_type": "stream",
     "text": [
      "[I 2023-06-22 01:21:28,089] Trial 42 finished with value: 0.0050253512789035035 and parameters: {'n_estimators': 1209, 'learning_rate': 0.26868014699385806, 'max_depth': 8, 'min_child_weight': 9, 'gamma': 0.06891958328784464, 'subsample': 0.8235772814670332, 'colsample_bytree': 0.8858798182594746}. Best is trial 21 with value: 0.004859686817746496.\n"
     ]
    },
    {
     "name": "stdout",
     "output_type": "stream",
     "text": [
      "mse : 0.0050253512789035035\n",
      "rmse : 0.07088971208083372\n",
      "r2 : 0.8913233204700906\n"
     ]
    },
    {
     "name": "stderr",
     "output_type": "stream",
     "text": [
      "[I 2023-06-22 01:21:38,856] Trial 43 finished with value: 0.005281829391741999 and parameters: {'n_estimators': 2219, 'learning_rate': 0.13604761828912992, 'max_depth': 7, 'min_child_weight': 10, 'gamma': 0.016280329069428112, 'subsample': 0.7881273183227859, 'colsample_bytree': 0.9513126103587577}. Best is trial 21 with value: 0.004859686817746496.\n"
     ]
    },
    {
     "name": "stdout",
     "output_type": "stream",
     "text": [
      "mse : 0.005281829391741999\n",
      "rmse : 0.07267619549578802\n",
      "r2 : 0.8857768047882123\n"
     ]
    },
    {
     "name": "stderr",
     "output_type": "stream",
     "text": [
      "[I 2023-06-22 01:21:44,804] Trial 44 finished with value: 0.004875310290830584 and parameters: {'n_estimators': 945, 'learning_rate': 0.045729509772701356, 'max_depth': 9, 'min_child_weight': 9, 'gamma': 0.03754673004395176, 'subsample': 0.7786915333402084, 'colsample_bytree': 0.9189798583273449}. Best is trial 21 with value: 0.004859686817746496.\n"
     ]
    },
    {
     "name": "stdout",
     "output_type": "stream",
     "text": [
      "mse : 0.004875310290830584\n",
      "rmse : 0.06982342222227857\n",
      "r2 : 0.8945680600857278\n"
     ]
    },
    {
     "name": "stderr",
     "output_type": "stream",
     "text": [
      "[I 2023-06-22 01:21:52,190] Trial 45 finished with value: 0.0048915090089391025 and parameters: {'n_estimators': 944, 'learning_rate': 0.04798839831721019, 'max_depth': 10, 'min_child_weight': 8, 'gamma': 0.035124126048108516, 'subsample': 0.7314575344291142, 'colsample_bytree': 0.8584185802328821}. Best is trial 21 with value: 0.004859686817746496.\n"
     ]
    },
    {
     "name": "stdout",
     "output_type": "stream",
     "text": [
      "mse : 0.0048915090089391025\n",
      "rmse : 0.06993932376667009\n",
      "r2 : 0.8942177516597148\n"
     ]
    },
    {
     "name": "stderr",
     "output_type": "stream",
     "text": [
      "[I 2023-06-22 01:21:56,454] Trial 46 finished with value: 0.004939948904577179 and parameters: {'n_estimators': 556, 'learning_rate': 0.04327620648112718, 'max_depth': 10, 'min_child_weight': 6, 'gamma': 0.019965910264003156, 'subsample': 0.7725094133746626, 'colsample_bytree': 0.8583256041669988}. Best is trial 21 with value: 0.004859686817746496.\n"
     ]
    },
    {
     "name": "stdout",
     "output_type": "stream",
     "text": [
      "mse : 0.004939948904577179\n",
      "rmse : 0.07028477007558023\n",
      "r2 : 0.8931702055833199\n"
     ]
    },
    {
     "name": "stderr",
     "output_type": "stream",
     "text": [
      "[I 2023-06-22 01:22:02,643] Trial 47 finished with value: 0.004824949873456353 and parameters: {'n_estimators': 967, 'learning_rate': 0.04408264071593495, 'max_depth': 9, 'min_child_weight': 7, 'gamma': 0.04470203873109749, 'subsample': 0.7199853001834512, 'colsample_bytree': 0.914171394094421}. Best is trial 47 with value: 0.004824949873456353.\n"
     ]
    },
    {
     "name": "stdout",
     "output_type": "stream",
     "text": [
      "mse : 0.004824949873456353\n",
      "rmse : 0.06946185912755541\n",
      "r2 : 0.8956571387662466\n"
     ]
    },
    {
     "name": "stderr",
     "output_type": "stream",
     "text": [
      "[I 2023-06-22 01:22:13,745] Trial 48 finished with value: 0.004853785843428344 and parameters: {'n_estimators': 1556, 'learning_rate': 0.05131581685538898, 'max_depth': 10, 'min_child_weight': 7, 'gamma': 0.03639809371890858, 'subsample': 0.6685569816954632, 'colsample_bytree': 0.8991432968019961}. Best is trial 47 with value: 0.004824949873456353.\n"
     ]
    },
    {
     "name": "stdout",
     "output_type": "stream",
     "text": [
      "mse : 0.004853785843428344\n",
      "rmse : 0.06966911685552174\n",
      "r2 : 0.895033541072542\n"
     ]
    },
    {
     "name": "stderr",
     "output_type": "stream",
     "text": [
      "[I 2023-06-22 01:22:27,652] Trial 49 finished with value: 0.005532651688650473 and parameters: {'n_estimators': 1767, 'learning_rate': 0.10089165371710775, 'max_depth': 10, 'min_child_weight': 5, 'gamma': 0.005941439338155767, 'subsample': 0.6412167677841306, 'colsample_bytree': 0.8988415798969989}. Best is trial 47 with value: 0.004824949873456353.\n"
     ]
    },
    {
     "name": "stdout",
     "output_type": "stream",
     "text": [
      "mse : 0.005532651688650473\n",
      "rmse : 0.07438179675599718\n",
      "r2 : 0.8803526000177897\n"
     ]
    },
    {
     "name": "stderr",
     "output_type": "stream",
     "text": [
      "[I 2023-06-22 01:22:37,384] Trial 50 finished with value: 0.005049579199704358 and parameters: {'n_estimators': 1550, 'learning_rate': 0.16726836910141735, 'max_depth': 9, 'min_child_weight': 7, 'gamma': 0.032181405786301034, 'subsample': 0.7073999736696645, 'colsample_bytree': 0.9160931935131085}. Best is trial 47 with value: 0.004824949873456353.\n"
     ]
    },
    {
     "name": "stdout",
     "output_type": "stream",
     "text": [
      "mse : 0.005049579199704358\n",
      "rmse : 0.0710603912155313\n",
      "r2 : 0.8907993750106749\n"
     ]
    },
    {
     "name": "stderr",
     "output_type": "stream",
     "text": [
      "[I 2023-06-22 01:22:46,032] Trial 51 finished with value: 0.004851922117691962 and parameters: {'n_estimators': 1155, 'learning_rate': 0.04981025468942599, 'max_depth': 10, 'min_child_weight': 7, 'gamma': 0.03914016961697658, 'subsample': 0.7201944198213303, 'colsample_bytree': 0.962979896860336}. Best is trial 47 with value: 0.004824949873456353.\n"
     ]
    },
    {
     "name": "stdout",
     "output_type": "stream",
     "text": [
      "mse : 0.004851922117691962\n",
      "rmse : 0.06965574001969947\n",
      "r2 : 0.8950738454240874\n"
     ]
    },
    {
     "name": "stderr",
     "output_type": "stream",
     "text": [
      "[I 2023-06-22 01:23:02,117] Trial 52 finished with value: 0.00484000195231567 and parameters: {'n_estimators': 2125, 'learning_rate': 0.010980267388978282, 'max_depth': 10, 'min_child_weight': 5, 'gamma': 0.06429117454862601, 'subsample': 0.7159571375111993, 'colsample_bytree': 0.9740338042828739}. Best is trial 47 with value: 0.004824949873456353.\n"
     ]
    },
    {
     "name": "stdout",
     "output_type": "stream",
     "text": [
      "mse : 0.00484000195231567\n",
      "rmse : 0.06957012255498526\n",
      "r2 : 0.895331627203041\n"
     ]
    },
    {
     "name": "stderr",
     "output_type": "stream",
     "text": [
      "[I 2023-06-22 01:23:18,024] Trial 53 finished with value: 0.004835302665073195 and parameters: {'n_estimators': 2024, 'learning_rate': 0.011661503948083175, 'max_depth': 10, 'min_child_weight': 5, 'gamma': 0.0656756736856206, 'subsample': 0.675150852363204, 'colsample_bytree': 0.9647369349320949}. Best is trial 47 with value: 0.004824949873456353.\n"
     ]
    },
    {
     "name": "stdout",
     "output_type": "stream",
     "text": [
      "mse : 0.004835302665073195\n",
      "rmse : 0.06953634060743487\n",
      "r2 : 0.8954332525234069\n"
     ]
    },
    {
     "name": "stderr",
     "output_type": "stream",
     "text": [
      "[I 2023-06-22 01:23:35,939] Trial 54 finished with value: 0.004907524891860799 and parameters: {'n_estimators': 2169, 'learning_rate': 0.09911593235703951, 'max_depth': 10, 'min_child_weight': 5, 'gamma': 0.0662012886510537, 'subsample': 0.6505689813554187, 'colsample_bytree': 0.9744885124405278}. Best is trial 47 with value: 0.004824949873456353.\n"
     ]
    },
    {
     "name": "stdout",
     "output_type": "stream",
     "text": [
      "mse : 0.004907524891860799\n",
      "rmse : 0.07005372860783927\n",
      "r2 : 0.8938713971704324\n"
     ]
    },
    {
     "name": "stderr",
     "output_type": "stream",
     "text": [
      "[I 2023-06-22 01:23:55,254] Trial 55 finished with value: 0.006212176268933572 and parameters: {'n_estimators': 2394, 'learning_rate': 0.17045982586212027, 'max_depth': 10, 'min_child_weight': 6, 'gamma': 0.0008326758415033719, 'subsample': 0.6772573777418012, 'colsample_bytree': 0.9981735399359362}. Best is trial 47 with value: 0.004824949873456353.\n"
     ]
    },
    {
     "name": "stdout",
     "output_type": "stream",
     "text": [
      "mse : 0.006212176268933572\n",
      "rmse : 0.0788173602002349\n",
      "r2 : 0.8656574133640448\n"
     ]
    },
    {
     "name": "stderr",
     "output_type": "stream",
     "text": [
      "[I 2023-06-22 01:24:09,227] Trial 56 finished with value: 0.004819915361548855 and parameters: {'n_estimators': 1910, 'learning_rate': 0.018919575676164528, 'max_depth': 10, 'min_child_weight': 5, 'gamma': 0.0664647162718443, 'subsample': 0.7112345009652659, 'colsample_bytree': 0.9673428767464345}. Best is trial 56 with value: 0.004819915361548855.\n"
     ]
    },
    {
     "name": "stdout",
     "output_type": "stream",
     "text": [
      "mse : 0.004819915361548855\n",
      "rmse : 0.06942561027134624\n",
      "r2 : 0.8957660135506736\n"
     ]
    },
    {
     "name": "stderr",
     "output_type": "stream",
     "text": [
      "[I 2023-06-22 01:24:23,240] Trial 57 finished with value: 0.004840838436684295 and parameters: {'n_estimators': 1938, 'learning_rate': 0.016218924033106593, 'max_depth': 10, 'min_child_weight': 5, 'gamma': 0.07363664864138286, 'subsample': 0.7196262514949637, 'colsample_bytree': 0.978141235436264}. Best is trial 56 with value: 0.004819915361548855.\n"
     ]
    },
    {
     "name": "stdout",
     "output_type": "stream",
     "text": [
      "mse : 0.004840838436684295\n",
      "rmse : 0.06957613410275318\n",
      "r2 : 0.8953135376529548\n"
     ]
    },
    {
     "name": "stderr",
     "output_type": "stream",
     "text": [
      "[I 2023-06-22 01:24:43,018] Trial 58 finished with value: 0.004822090420640839 and parameters: {'n_estimators': 2763, 'learning_rate': 0.018149607230473284, 'max_depth': 10, 'min_child_weight': 5, 'gamma': 0.06834469649022741, 'subsample': 0.7157870307580383, 'colsample_bytree': 0.984933547916163}. Best is trial 56 with value: 0.004819915361548855.\n"
     ]
    },
    {
     "name": "stdout",
     "output_type": "stream",
     "text": [
      "mse : 0.004822090420640839\n",
      "rmse : 0.06944127317842638\n",
      "r2 : 0.8957189764010737\n"
     ]
    },
    {
     "name": "stderr",
     "output_type": "stream",
     "text": [
      "[I 2023-06-22 01:25:02,541] Trial 59 finished with value: 0.004832338216203426 and parameters: {'n_estimators': 2665, 'learning_rate': 0.09870771569266357, 'max_depth': 10, 'min_child_weight': 5, 'gamma': 0.07732458590833848, 'subsample': 0.6942396176367625, 'colsample_bytree': 0.9793886242773159}. Best is trial 56 with value: 0.004819915361548855.\n"
     ]
    },
    {
     "name": "stdout",
     "output_type": "stream",
     "text": [
      "mse : 0.004832338216203426\n",
      "rmse : 0.0695150215148023\n",
      "r2 : 0.8954973607701587\n"
     ]
    },
    {
     "name": "stderr",
     "output_type": "stream",
     "text": [
      "[I 2023-06-22 01:25:21,250] Trial 60 finished with value: 0.004991202003269893 and parameters: {'n_estimators': 2810, 'learning_rate': 0.011530624466420572, 'max_depth': 9, 'min_child_weight': 3, 'gamma': 0.12465850559545753, 'subsample': 0.6955110914981231, 'colsample_bytree': 0.9914717195852742}. Best is trial 56 with value: 0.004819915361548855.\n"
     ]
    },
    {
     "name": "stdout",
     "output_type": "stream",
     "text": [
      "mse : 0.004991202003269893\n",
      "rmse : 0.0706484394963533\n",
      "r2 : 0.8920618220550031\n"
     ]
    },
    {
     "name": "stderr",
     "output_type": "stream",
     "text": [
      "[I 2023-06-22 01:25:43,941] Trial 61 finished with value: 0.004920525097595841 and parameters: {'n_estimators': 3182, 'learning_rate': 0.09786687931690649, 'max_depth': 10, 'min_child_weight': 5, 'gamma': 0.07477170596062867, 'subsample': 0.7102596469518003, 'colsample_bytree': 0.9786306476573085}. Best is trial 56 with value: 0.004819915361548855.\n"
     ]
    },
    {
     "name": "stdout",
     "output_type": "stream",
     "text": [
      "mse : 0.004920525097595841\n",
      "rmse : 0.07014645463311629\n",
      "r2 : 0.8935902587755065\n"
     ]
    },
    {
     "name": "stderr",
     "output_type": "stream",
     "text": [
      "[I 2023-06-22 01:25:58,327] Trial 62 finished with value: 0.0048633864054747405 and parameters: {'n_estimators': 1931, 'learning_rate': 0.01011338630633003, 'max_depth': 10, 'min_child_weight': 5, 'gamma': 0.07194855389631086, 'subsample': 0.7196320253528166, 'colsample_bytree': 0.9465890284038632}. Best is trial 56 with value: 0.004819915361548855.\n"
     ]
    },
    {
     "name": "stdout",
     "output_type": "stream",
     "text": [
      "mse : 0.0048633864054747405\n",
      "rmse : 0.0697379839504609\n",
      "r2 : 0.8948259223117991\n"
     ]
    },
    {
     "name": "stderr",
     "output_type": "stream",
     "text": [
      "[I 2023-06-22 01:26:17,615] Trial 63 finished with value: 0.004892922488381618 and parameters: {'n_estimators': 2683, 'learning_rate': 0.07152004829336855, 'max_depth': 10, 'min_child_weight': 4, 'gamma': 0.05637900464783351, 'subsample': 0.6936271384304575, 'colsample_bytree': 0.9795382116108616}. Best is trial 56 with value: 0.004819915361548855.\n"
     ]
    },
    {
     "name": "stdout",
     "output_type": "stream",
     "text": [
      "mse : 0.004892922488381618\n",
      "rmse : 0.06994942807758772\n",
      "r2 : 0.8941871841941048\n"
     ]
    },
    {
     "name": "stderr",
     "output_type": "stream",
     "text": [
      "[I 2023-06-22 01:26:32,664] Trial 64 finished with value: 0.004895926310182902 and parameters: {'n_estimators': 2304, 'learning_rate': 0.11795803035769047, 'max_depth': 9, 'min_child_weight': 6, 'gamma': 0.11001943458525372, 'subsample': 0.6215820426877697, 'colsample_bytree': 0.9564746071199739}. Best is trial 56 with value: 0.004819915361548855.\n"
     ]
    },
    {
     "name": "stdout",
     "output_type": "stream",
     "text": [
      "mse : 0.004895926310182902\n",
      "rmse : 0.06997089616535508\n",
      "r2 : 0.8941222244806151\n"
     ]
    },
    {
     "name": "stderr",
     "output_type": "stream",
     "text": [
      "[I 2023-06-22 01:26:56,348] Trial 65 finished with value: 0.004849245439690284 and parameters: {'n_estimators': 2998, 'learning_rate': 0.038566324907076274, 'max_depth': 10, 'min_child_weight': 5, 'gamma': 0.055667988504169645, 'subsample': 0.6514614486315604, 'colsample_bytree': 0.9982987345919795}. Best is trial 56 with value: 0.004819915361548855.\n"
     ]
    },
    {
     "name": "stdout",
     "output_type": "stream",
     "text": [
      "mse : 0.004849245439690284\n",
      "rmse : 0.06963652374788883\n",
      "r2 : 0.8951317304277914\n"
     ]
    },
    {
     "name": "stderr",
     "output_type": "stream",
     "text": [
      "[I 2023-06-22 01:27:10,825] Trial 66 finished with value: 0.0048922934312925735 and parameters: {'n_estimators': 2082, 'learning_rate': 0.0752283561366879, 'max_depth': 9, 'min_child_weight': 4, 'gamma': 0.0769661483510515, 'subsample': 0.7449246872484526, 'colsample_bytree': 0.9416008665580947}. Best is trial 56 with value: 0.004819915361548855.\n"
     ]
    },
    {
     "name": "stdout",
     "output_type": "stream",
     "text": [
      "mse : 0.0048922934312925735\n",
      "rmse : 0.06994493141960019\n",
      "r2 : 0.894200787986532\n"
     ]
    },
    {
     "name": "stderr",
     "output_type": "stream",
     "text": [
      "[I 2023-06-22 01:27:19,708] Trial 67 finished with value: 0.004833384454373689 and parameters: {'n_estimators': 2491, 'learning_rate': 0.011480779996162463, 'max_depth': 5, 'min_child_weight': 4, 'gamma': 0.01796701517145674, 'subsample': 0.6634996138639916, 'colsample_bytree': 0.9653584679610467}. Best is trial 56 with value: 0.004819915361548855.\n"
     ]
    },
    {
     "name": "stdout",
     "output_type": "stream",
     "text": [
      "mse : 0.004833384454373689\n",
      "rmse : 0.0695225463743503\n",
      "r2 : 0.895474735149773\n"
     ]
    },
    {
     "name": "stderr",
     "output_type": "stream",
     "text": [
      "[I 2023-06-22 01:27:28,734] Trial 68 finished with value: 0.005114582219485219 and parameters: {'n_estimators': 2486, 'learning_rate': 0.10975518079720914, 'max_depth': 5, 'min_child_weight': 3, 'gamma': 0.020113933734929902, 'subsample': 0.664898184818321, 'colsample_bytree': 0.9343721801556624}. Best is trial 56 with value: 0.004819915361548855.\n"
     ]
    },
    {
     "name": "stdout",
     "output_type": "stream",
     "text": [
      "mse : 0.005114582219485219\n",
      "rmse : 0.07151630736751736\n",
      "r2 : 0.8893936399770151\n"
     ]
    },
    {
     "name": "stderr",
     "output_type": "stream",
     "text": [
      "[I 2023-06-22 01:27:38,287] Trial 69 finished with value: 0.005200663649816889 and parameters: {'n_estimators': 2724, 'learning_rate': 0.0740590142943797, 'max_depth': 5, 'min_child_weight': 4, 'gamma': 0.011565807921849885, 'subsample': 0.6872234698947498, 'colsample_bytree': 0.9652511751013264}. Best is trial 56 with value: 0.004819915361548855.\n"
     ]
    },
    {
     "name": "stdout",
     "output_type": "stream",
     "text": [
      "mse : 0.005200663649816889\n",
      "rmse : 0.07211562694601559\n",
      "r2 : 0.8875320698103875\n"
     ]
    },
    {
     "name": "stderr",
     "output_type": "stream",
     "text": [
      "[I 2023-06-22 01:27:42,180] Trial 70 finished with value: 0.005837807807729428 and parameters: {'n_estimators': 3014, 'learning_rate': 0.14149769110120797, 'max_depth': 1, 'min_child_weight': 6, 'gamma': 0.020054798879379693, 'subsample': 0.6894366515670102, 'colsample_bytree': 0.9572411019297283}. Best is trial 56 with value: 0.004819915361548855.\n"
     ]
    },
    {
     "name": "stdout",
     "output_type": "stream",
     "text": [
      "mse : 0.005837807807729428\n",
      "rmse : 0.07640554827844263\n",
      "r2 : 0.8737533889538875\n"
     ]
    },
    {
     "name": "stderr",
     "output_type": "stream",
     "text": [
      "[I 2023-06-22 01:27:53,387] Trial 71 finished with value: 0.004850928901414423 and parameters: {'n_estimators': 3364, 'learning_rate': 0.013122229184156193, 'max_depth': 5, 'min_child_weight': 5, 'gamma': 0.0449109867086077, 'subsample': 0.7149476673446283, 'colsample_bytree': 0.984159114745907}. Best is trial 56 with value: 0.004819915361548855.\n"
     ]
    },
    {
     "name": "stdout",
     "output_type": "stream",
     "text": [
      "mse : 0.004850928901414423\n",
      "rmse : 0.0696486101901138\n",
      "r2 : 0.8950953244095567\n"
     ]
    },
    {
     "name": "stderr",
     "output_type": "stream",
     "text": [
      "[I 2023-06-22 01:28:02,980] Trial 72 finished with value: 0.004893167108564059 and parameters: {'n_estimators': 2414, 'learning_rate': 0.037321722998525805, 'max_depth': 6, 'min_child_weight': 5, 'gamma': 0.07868877131096987, 'subsample': 0.7275177875376587, 'colsample_bytree': 0.972983926511843}. Best is trial 56 with value: 0.004819915361548855.\n"
     ]
    },
    {
     "name": "stdout",
     "output_type": "stream",
     "text": [
      "mse : 0.004893167108564059\n",
      "rmse : 0.06995117660600184\n",
      "r2 : 0.8941818941143277\n"
     ]
    },
    {
     "name": "stderr",
     "output_type": "stream",
     "text": [
      "[I 2023-06-22 01:28:17,894] Trial 73 finished with value: 0.004838724644067617 and parameters: {'n_estimators': 1926, 'learning_rate': 0.042785373252309244, 'max_depth': 10, 'min_child_weight': 4, 'gamma': 0.05233257177687849, 'subsample': 0.7063716629603167, 'colsample_bytree': 0.9834758721086279}. Best is trial 56 with value: 0.004819915361548855.\n"
     ]
    },
    {
     "name": "stdout",
     "output_type": "stream",
     "text": [
      "mse : 0.004838724644067617\n",
      "rmse : 0.0695609419435046\n",
      "r2 : 0.8953592498728666\n"
     ]
    },
    {
     "name": "stderr",
     "output_type": "stream",
     "text": [
      "[I 2023-06-22 01:28:22,385] Trial 74 finished with value: 0.005216496288829674 and parameters: {'n_estimators': 2554, 'learning_rate': 0.06742587365351521, 'max_depth': 2, 'min_child_weight': 4, 'gamma': 0.05890183428702947, 'subsample': 0.7062590249729919, 'colsample_bytree': 0.9305167937543917}. Best is trial 56 with value: 0.004819915361548855.\n"
     ]
    },
    {
     "name": "stdout",
     "output_type": "stream",
     "text": [
      "mse : 0.005216496288829674\n",
      "rmse : 0.07222531612135508\n",
      "r2 : 0.8871896780967319\n"
     ]
    },
    {
     "name": "stderr",
     "output_type": "stream",
     "text": [
      "[I 2023-06-22 01:28:28,194] Trial 75 finished with value: 0.005018456543141418 and parameters: {'n_estimators': 2040, 'learning_rate': 0.08917843201051301, 'max_depth': 4, 'min_child_weight': 3, 'gamma': 0.10405808993931395, 'subsample': 0.686985909412052, 'colsample_bytree': 0.9977605242944878}. Best is trial 56 with value: 0.004819915361548855.\n"
     ]
    },
    {
     "name": "stdout",
     "output_type": "stream",
     "text": [
      "mse : 0.005018456543141418\n",
      "rmse : 0.07084106537271598\n",
      "r2 : 0.8914724238754594\n"
     ]
    },
    {
     "name": "stderr",
     "output_type": "stream",
     "text": [
      "[I 2023-06-22 01:28:37,392] Trial 76 finished with value: 0.004847033557535326 and parameters: {'n_estimators': 2295, 'learning_rate': 0.043365339101955266, 'max_depth': 6, 'min_child_weight': 4, 'gamma': 0.05033135461708086, 'subsample': 0.7511731261907275, 'colsample_bytree': 0.9659451347431296}. Best is trial 56 with value: 0.004819915361548855.\n"
     ]
    },
    {
     "name": "stdout",
     "output_type": "stream",
     "text": [
      "mse : 0.004847033557535326\n",
      "rmse : 0.06962064031259212\n",
      "r2 : 0.8951795639014675\n"
     ]
    },
    {
     "name": "stderr",
     "output_type": "stream",
     "text": [
      "[I 2023-06-22 01:28:55,337] Trial 77 finished with value: 0.004975443623409545 and parameters: {'n_estimators': 2884, 'learning_rate': 0.13106073655856773, 'max_depth': 9, 'min_child_weight': 4, 'gamma': 0.120834905789803, 'subsample': 0.659541518210554, 'colsample_bytree': 0.9485548601893915}. Best is trial 56 with value: 0.004819915361548855.\n"
     ]
    },
    {
     "name": "stdout",
     "output_type": "stream",
     "text": [
      "mse : 0.004975443623409545\n",
      "rmse : 0.07053682459119878\n",
      "r2 : 0.8924026078633869\n"
     ]
    },
    {
     "name": "stderr",
     "output_type": "stream",
     "text": [
      "[I 2023-06-22 01:29:08,493] Trial 78 finished with value: 0.005084578871146462 and parameters: {'n_estimators': 1847, 'learning_rate': 0.11648623732749713, 'max_depth': 10, 'min_child_weight': 6, 'gamma': 0.026340144589711848, 'subsample': 0.7330270634450408, 'colsample_bytree': 0.9834077480338588}. Best is trial 56 with value: 0.004819915361548855.\n"
     ]
    },
    {
     "name": "stdout",
     "output_type": "stream",
     "text": [
      "mse : 0.005084578871146462\n",
      "rmse : 0.07130623304555123\n",
      "r2 : 0.8900424830312159\n"
     ]
    },
    {
     "name": "stderr",
     "output_type": "stream",
     "text": [
      "[I 2023-06-22 01:29:25,224] Trial 79 finished with value: 0.004943349856862777 and parameters: {'n_estimators': 2645, 'learning_rate': 0.18964672828167278, 'max_depth': 9, 'min_child_weight': 5, 'gamma': 0.09429694515011001, 'subsample': 0.7019129056081985, 'colsample_bytree': 0.9261781116914609}. Best is trial 56 with value: 0.004819915361548855.\n"
     ]
    },
    {
     "name": "stdout",
     "output_type": "stream",
     "text": [
      "mse : 0.004943349856862777\n",
      "rmse : 0.07030896000413302\n",
      "r2 : 0.8930966576498273\n"
     ]
    },
    {
     "name": "stderr",
     "output_type": "stream",
     "text": [
      "[I 2023-06-22 01:29:40,760] Trial 80 finished with value: 0.004814044782558999 and parameters: {'n_estimators': 2185, 'learning_rate': 0.036322148992109775, 'max_depth': 10, 'min_child_weight': 6, 'gamma': 0.051212299296252754, 'subsample': 0.6716017045660704, 'colsample_bytree': 0.9418049640972974}. Best is trial 80 with value: 0.004814044782558999.\n"
     ]
    },
    {
     "name": "stdout",
     "output_type": "stream",
     "text": [
      "mse : 0.004814044782558999\n",
      "rmse : 0.0693833177540466\n",
      "r2 : 0.8958929688610843\n"
     ]
    },
    {
     "name": "stderr",
     "output_type": "stream",
     "text": [
      "[I 2023-06-22 01:29:55,818] Trial 81 finished with value: 0.004826548667310035 and parameters: {'n_estimators': 2135, 'learning_rate': 0.032947341296882864, 'max_depth': 10, 'min_child_weight': 6, 'gamma': 0.051098997210971345, 'subsample': 0.6774956545786754, 'colsample_bytree': 0.9424314258348994}. Best is trial 80 with value: 0.004814044782558999.\n"
     ]
    },
    {
     "name": "stdout",
     "output_type": "stream",
     "text": [
      "mse : 0.004826548667310035\n",
      "rmse : 0.06947336660411697\n",
      "r2 : 0.8956225637489736\n"
     ]
    },
    {
     "name": "stderr",
     "output_type": "stream",
     "text": [
      "[I 2023-06-22 01:30:11,957] Trial 82 finished with value: 0.004838246497761096 and parameters: {'n_estimators': 2292, 'learning_rate': 0.0358528013565294, 'max_depth': 10, 'min_child_weight': 6, 'gamma': 0.04919678577364465, 'subsample': 0.6678093764874914, 'colsample_bytree': 0.9413716394460387}. Best is trial 80 with value: 0.004814044782558999.\n"
     ]
    },
    {
     "name": "stdout",
     "output_type": "stream",
     "text": [
      "mse : 0.004838246497761096\n",
      "rmse : 0.06955750497078728\n",
      "r2 : 0.8953695901157747\n"
     ]
    },
    {
     "name": "stderr",
     "output_type": "stream",
     "text": [
      "[I 2023-06-22 01:30:28,427] Trial 83 finished with value: 0.004887424251228471 and parameters: {'n_estimators': 2281, 'learning_rate': 0.06761443864965558, 'max_depth': 10, 'min_child_weight': 6, 'gamma': 0.08394805600516995, 'subsample': 0.634179387933123, 'colsample_bytree': 0.9408598039952655}. Best is trial 80 with value: 0.004814044782558999.\n"
     ]
    },
    {
     "name": "stdout",
     "output_type": "stream",
     "text": [
      "mse : 0.004887424251228471\n",
      "rmse : 0.06991011551434077\n",
      "r2 : 0.8943060873560749\n"
     ]
    },
    {
     "name": "stderr",
     "output_type": "stream",
     "text": [
      "[I 2023-06-22 01:30:46,102] Trial 84 finished with value: 0.005193788828675771 and parameters: {'n_estimators': 2402, 'learning_rate': 0.08885764659773765, 'max_depth': 10, 'min_child_weight': 6, 'gamma': 0.014645375358170183, 'subsample': 0.6695342802209869, 'colsample_bytree': 0.9583997451665356}. Best is trial 80 with value: 0.004814044782558999.\n"
     ]
    },
    {
     "name": "stdout",
     "output_type": "stream",
     "text": [
      "mse : 0.005193788828675771\n",
      "rmse : 0.07206794591686216\n",
      "r2 : 0.887680742548374\n"
     ]
    },
    {
     "name": "stderr",
     "output_type": "stream",
     "text": [
      "[I 2023-06-22 01:31:02,543] Trial 85 finished with value: 0.004886147361345094 and parameters: {'n_estimators': 2604, 'learning_rate': 0.034798061898739165, 'max_depth': 9, 'min_child_weight': 6, 'gamma': 0.04185156142779314, 'subsample': 0.6525999780865852, 'colsample_bytree': 0.9246711976185301}. Best is trial 80 with value: 0.004814044782558999.\n"
     ]
    },
    {
     "name": "stdout",
     "output_type": "stream",
     "text": [
      "mse : 0.004886147361345094\n",
      "rmse : 0.06990098254921095\n",
      "r2 : 0.8943337009784764\n"
     ]
    },
    {
     "name": "stderr",
     "output_type": "stream",
     "text": [
      "[I 2023-06-22 01:31:22,361] Trial 86 finished with value: 0.0051476227882938895 and parameters: {'n_estimators': 2799, 'learning_rate': 0.15470795646892915, 'max_depth': 10, 'min_child_weight': 7, 'gamma': 0.02662816052927243, 'subsample': 0.6772183428261007, 'colsample_bytree': 0.9459086305510351}. Best is trial 80 with value: 0.004814044782558999.\n"
     ]
    },
    {
     "name": "stdout",
     "output_type": "stream",
     "text": [
      "mse : 0.0051476227882938895\n",
      "rmse : 0.07174693574149275\n",
      "r2 : 0.8886791149401327\n"
     ]
    },
    {
     "name": "stderr",
     "output_type": "stream",
     "text": [
      "[I 2023-06-22 01:31:39,122] Trial 87 finished with value: 0.005643352550482736 and parameters: {'n_estimators': 2494, 'learning_rate': 0.06112452512860306, 'max_depth': 9, 'min_child_weight': 7, 'gamma': 0.003151832573103773, 'subsample': 0.6216498743100808, 'colsample_bytree': 0.936613988946724}. Best is trial 80 with value: 0.004814044782558999.\n"
     ]
    },
    {
     "name": "stdout",
     "output_type": "stream",
     "text": [
      "mse : 0.005643352550482736\n",
      "rmse : 0.07512225070165787\n",
      "r2 : 0.877958617703452\n"
     ]
    },
    {
     "name": "stderr",
     "output_type": "stream",
     "text": [
      "[I 2023-06-22 01:31:55,102] Trial 88 finished with value: 0.0048587344357742 and parameters: {'n_estimators': 2198, 'learning_rate': 0.03789031903856421, 'max_depth': 10, 'min_child_weight': 6, 'gamma': 0.08671329168087198, 'subsample': 0.6433899319711733, 'colsample_bytree': 0.9661906153785315}. Best is trial 80 with value: 0.004814044782558999.\n"
     ]
    },
    {
     "name": "stdout",
     "output_type": "stream",
     "text": [
      "mse : 0.0048587344357742\n",
      "rmse : 0.06970462277190946\n",
      "r2 : 0.8949265243577598\n"
     ]
    },
    {
     "name": "stderr",
     "output_type": "stream",
     "text": [
      "[I 2023-06-22 01:31:59,707] Trial 89 finished with value: 0.005093824174811192 and parameters: {'n_estimators': 1669, 'learning_rate': 0.11653527629987276, 'max_depth': 4, 'min_child_weight': 6, 'gamma': 0.10519022560151484, 'subsample': 0.6637486901985178, 'colsample_bytree': 0.9077933978780652}. Best is trial 80 with value: 0.004814044782558999.\n"
     ]
    },
    {
     "name": "stdout",
     "output_type": "stream",
     "text": [
      "mse : 0.005093824174811192\n",
      "rmse : 0.07137103176227168\n",
      "r2 : 0.8898425469774426\n"
     ]
    },
    {
     "name": "stderr",
     "output_type": "stream",
     "text": [
      "[I 2023-06-22 01:32:20,040] Trial 90 finished with value: 0.004919448637534744 and parameters: {'n_estimators': 2910, 'learning_rate': 0.08344103177192742, 'max_depth': 10, 'min_child_weight': 5, 'gamma': 0.047866733663726735, 'subsample': 0.6871259350122487, 'colsample_bytree': 0.9485520452793612}. Best is trial 80 with value: 0.004814044782558999.\n"
     ]
    },
    {
     "name": "stdout",
     "output_type": "stream",
     "text": [
      "mse : 0.004919448637534744\n",
      "rmse : 0.07013878126639173\n",
      "r2 : 0.8936135379650783\n"
     ]
    },
    {
     "name": "stderr",
     "output_type": "stream",
     "text": [
      "[I 2023-06-22 01:32:34,952] Trial 91 finished with value: 0.004806729074996906 and parameters: {'n_estimators': 2046, 'learning_rate': 0.03663041937415548, 'max_depth': 10, 'min_child_weight': 5, 'gamma': 0.055781707356072074, 'subsample': 0.7029270205475456, 'colsample_bytree': 0.9858694832520849}. Best is trial 91 with value: 0.004806729074996906.\n"
     ]
    },
    {
     "name": "stdout",
     "output_type": "stream",
     "text": [
      "mse : 0.004806729074996906\n",
      "rmse : 0.0693305782104614\n",
      "r2 : 0.8960511760713141\n"
     ]
    },
    {
     "name": "stderr",
     "output_type": "stream",
     "text": [
      "[I 2023-06-22 01:32:49,445] Trial 92 finished with value: 0.004805341907501084 and parameters: {'n_estimators': 2039, 'learning_rate': 0.030840429680088564, 'max_depth': 10, 'min_child_weight': 5, 'gamma': 0.0612751843561137, 'subsample': 0.6802754404923279, 'colsample_bytree': 0.9590190429366244}. Best is trial 92 with value: 0.004805341907501084.\n"
     ]
    },
    {
     "name": "stdout",
     "output_type": "stream",
     "text": [
      "mse : 0.004805341907501084\n",
      "rmse : 0.0693205734793148\n",
      "r2 : 0.8960811745229708\n"
     ]
    },
    {
     "name": "stderr",
     "output_type": "stream",
     "text": [
      "[I 2023-06-22 01:33:03,923] Trial 93 finished with value: 0.0048199641636799155 and parameters: {'n_estimators': 2027, 'learning_rate': 0.063812656292483, 'max_depth': 10, 'min_child_weight': 5, 'gamma': 0.06820333541453949, 'subsample': 0.6961718538424487, 'colsample_bytree': 0.9589481828519406}. Best is trial 92 with value: 0.004805341907501084.\n"
     ]
    },
    {
     "name": "stdout",
     "output_type": "stream",
     "text": [
      "mse : 0.0048199641636799155\n",
      "rmse : 0.0694259617411233\n",
      "r2 : 0.895764958171007\n"
     ]
    },
    {
     "name": "stderr",
     "output_type": "stream",
     "text": [
      "[I 2023-06-22 01:33:15,885] Trial 94 finished with value: 0.004991820300165657 and parameters: {'n_estimators': 1826, 'learning_rate': 0.06146301743888312, 'max_depth': 9, 'min_child_weight': 5, 'gamma': 0.029958332564475235, 'subsample': 0.6961132845757099, 'colsample_bytree': 0.9882536705781693}. Best is trial 92 with value: 0.004805341907501084.\n"
     ]
    },
    {
     "name": "stdout",
     "output_type": "stream",
     "text": [
      "mse : 0.004991820300165657\n",
      "rmse : 0.0706528152317065\n",
      "r2 : 0.89204845095916\n"
     ]
    },
    {
     "name": "stderr",
     "output_type": "stream",
     "text": [
      "[I 2023-06-22 01:33:30,845] Trial 95 finished with value: 0.0048880783299359905 and parameters: {'n_estimators': 2069, 'learning_rate': 0.09674377540048605, 'max_depth': 10, 'min_child_weight': 5, 'gamma': 0.08338940585075356, 'subsample': 0.6837036564068982, 'colsample_bytree': 0.9878434619533485}. Best is trial 92 with value: 0.004805341907501084.\n"
     ]
    },
    {
     "name": "stdout",
     "output_type": "stream",
     "text": [
      "mse : 0.0048880783299359905\n",
      "rmse : 0.06991479335545511\n",
      "r2 : 0.8942919424539298\n"
     ]
    },
    {
     "name": "stderr",
     "output_type": "stream",
     "text": [
      "[I 2023-06-22 01:33:46,257] Trial 96 finished with value: 0.004871123945131553 and parameters: {'n_estimators': 2157, 'learning_rate': 0.05466002588927088, 'max_depth': 10, 'min_child_weight': 4, 'gamma': 0.06126594206220769, 'subsample': 0.7291269681084465, 'colsample_bytree': 0.9597672325817657}. Best is trial 92 with value: 0.004805341907501084.\n"
     ]
    },
    {
     "name": "stdout",
     "output_type": "stream",
     "text": [
      "mse : 0.004871123945131553\n",
      "rmse : 0.06979343769389464\n",
      "r2 : 0.8946585926922433\n"
     ]
    },
    {
     "name": "stderr",
     "output_type": "stream",
     "text": [
      "[I 2023-06-22 01:34:04,898] Trial 97 finished with value: 0.004871752449949667 and parameters: {'n_estimators': 3113, 'learning_rate': 0.02983725360663588, 'max_depth': 9, 'min_child_weight': 5, 'gamma': 0.038715899635113855, 'subsample': 0.6984719550567183, 'colsample_bytree': 0.9213798219408008}. Best is trial 92 with value: 0.004805341907501084.\n"
     ]
    },
    {
     "name": "stdout",
     "output_type": "stream",
     "text": [
      "mse : 0.004871752449949667\n",
      "rmse : 0.06979794015549218\n",
      "r2 : 0.894645000843055\n"
     ]
    },
    {
     "name": "stderr",
     "output_type": "stream",
     "text": [
      "[I 2023-06-22 01:34:18,233] Trial 98 finished with value: 0.0048650086931245305 and parameters: {'n_estimators': 1852, 'learning_rate': 0.14892409402329998, 'max_depth': 10, 'min_child_weight': 6, 'gamma': 0.09647706706391859, 'subsample': 0.7095242155034165, 'colsample_bytree': 0.9749561959884427}. Best is trial 92 with value: 0.004805341907501084.\n"
     ]
    },
    {
     "name": "stdout",
     "output_type": "stream",
     "text": [
      "mse : 0.0048650086931245305\n",
      "rmse : 0.06974961428656455\n",
      "r2 : 0.8947908392250183\n"
     ]
    },
    {
     "name": "stderr",
     "output_type": "stream",
     "text": [
      "[I 2023-06-22 01:34:28,485] Trial 99 finished with value: 0.004860021086646523 and parameters: {'n_estimators': 1684, 'learning_rate': 0.0848352514111709, 'max_depth': 9, 'min_child_weight': 7, 'gamma': 0.06942515036904391, 'subsample': 0.7480271734155848, 'colsample_bytree': 0.9999600224225257}. Best is trial 92 with value: 0.004805341907501084.\n"
     ]
    },
    {
     "name": "stdout",
     "output_type": "stream",
     "text": [
      "mse : 0.004860021086646523\n",
      "rmse : 0.06971385146903392\n",
      "r2 : 0.8948986996472553\n",
      "Best trial: score 0.004805341907501084, \n",
      "params {'n_estimators': 2039, 'learning_rate': 0.030840429680088564, 'max_depth': 10, 'min_child_weight': 5, 'gamma': 0.0612751843561137, 'subsample': 0.6802754404923279, 'colsample_bytree': 0.9590190429366244}\n"
     ]
    }
   ],
   "source": [
    "import optuna\n",
    "from xgboost import XGBRegressor\n",
    "\n",
    "def objectiveXGB(trial):\n",
    "    # Define the search space for each parameter\n",
    "    params = {\n",
    "        'n_estimators': trial.suggest_int('n_estimators', 100, 4000),\n",
    "        'learning_rate': trial.suggest_float('learning_rate', 0.01, 1),\n",
    "        'max_depth': trial.suggest_int('max_depth', 1, 10),\n",
    "        'min_child_weight': trial.suggest_int('min_child_weight', 1, 10),\n",
    "        'gamma': trial.suggest_float('gamma', 0, 0.5),\n",
    "        'subsample': trial.suggest_float('subsample', 0.5, 1.0),\n",
    "        'colsample_bytree': trial.suggest_float('colsample_bytree', 0.5, 1.0),\n",
    "        'random_state': 42,\n",
    "    }\n",
    "\n",
    "    # 모델 학습\n",
    "    model = XGBRegressor(**params)\n",
    "    model.fit(x_train, y_train)\n",
    "\n",
    "    # 예측\n",
    "    y_pred = model.predict(x_test)\n",
    "\n",
    "    # 모델 평가    \n",
    "    mse = mean_squared_error(y_test, y_pred)\n",
    "    rmse = np.sqrt(mse)\n",
    "    r2 = r2_score(y_test, y_pred)\n",
    "\n",
    "    print(f\"mse : {mse}\")\n",
    "    print(f\"rmse : {rmse}\")\n",
    "    print(f\"r2 : {r2}\")\n",
    "    \n",
    "    return mse\n",
    "\n",
    "# optimization study 진행\n",
    "# direction: score 값을 최대 or 최소로 하는 방향으로 지정\n",
    "study6 = optuna.create_study(direction='minimize')\n",
    "\n",
    "# n_trials: 시도 횟수 (미입력시 key interrupt가 있을 때까지 무한 반복)\n",
    "study6.optimize(objectiveXGB, n_trials=100)\n",
    "\n",
    "# 모든 트라이얼이 완료되었는지 확인\n",
    "if study6.best_trial is None:\n",
    "    print(\"No trials completed.\")\n",
    "else:\n",
    "    # 최적의 트라이얼 출력\n",
    "    print('Best trial: score {}, \\nparams {}'.format(study6.best_trial.value, study6.best_trial.params))"
   ]
  },
  {
   "cell_type": "code",
   "execution_count": 9,
   "metadata": {},
   "outputs": [
    {
     "name": "stdout",
     "output_type": "stream",
     "text": [
      "mse : 0.005\n",
      "rmse : 0.069\n",
      "r2 : 0.896\n"
     ]
    }
   ],
   "source": [
    "# Best trial의 파라미터\n",
    "best_params = study6.best_trial.params\n",
    "\n",
    "# 최적의 모델 학습\n",
    "best_xgb = XGBRegressor(n_estimators=best_params['n_estimators'],\n",
    "                        learning_rate=best_params['learning_rate'],\n",
    "                        max_depth=best_params['max_depth'],\n",
    "                        min_child_weight=best_params['min_child_weight'],\n",
    "                        gamma=best_params['gamma'],\n",
    "                        subsample=best_params['subsample'],\n",
    "                        colsample_bytree=best_params['colsample_bytree'],\n",
    "                        random_state=42)\n",
    "best_xgb.fit(x_train, y_train)\n",
    "\n",
    "# 저장 경로 설정\n",
    "import pickle\n",
    "import os\n",
    "save_path = 'sixth_try_XGBRegressor_best_model.pkl'\n",
    "\n",
    "# 모델을 'XGBRegressor_best_model.pkl' 파일로 저장\n",
    "with open(save_path, 'wb') as f:\n",
    "    pickle.dump(best_xgb, f)\n",
    "\n",
    "# 저장된 모델 로드\n",
    "with open('sixth_try_XGBRegressor_best_model.pkl', 'rb') as f:\n",
    "    loaded_model = pickle.load(f)\n",
    "\n",
    "# 로드된 모델로 예측\n",
    "y_pred = loaded_model.predict(x_test)\n",
    "\n",
    "# 모델 평가\n",
    "from evaluate_score import evaluate_score\n",
    "evaluate_score(y_test, y_pred)"
   ]
  },
  {
   "cell_type": "code",
   "execution_count": null,
   "metadata": {},
   "outputs": [],
   "source": [
    "# 역변환 참고\n",
    "\n",
    "# 데이터의 평균과 표준편차\n",
    "self.mean_price = origin_df['price'].mean()\n",
    "self.std_price = origin_df['price'].std()\n",
    "# 6번째 모델 로그변환, 정규화 역변환\n",
    "\n",
    "# 로그 변환된 price를 원래의 price로 변환\n",
    "self.predicted_price = np.exp(self.predicted_price)\n",
    "\n",
    "# 역변환\n",
    "self.predicted_price = self.predicted_price * self.std_price + self.mean_price"
   ]
  }
 ],
 "metadata": {
  "kernelspec": {
   "display_name": "base",
   "language": "python",
   "name": "python3"
  },
  "language_info": {
   "codemirror_mode": {
    "name": "ipython",
    "version": 3
   },
   "file_extension": ".py",
   "mimetype": "text/x-python",
   "name": "python",
   "nbconvert_exporter": "python",
   "pygments_lexer": "ipython3",
   "version": "3.9.13"
  },
  "orig_nbformat": 4
 },
 "nbformat": 4,
 "nbformat_minor": 2
}
